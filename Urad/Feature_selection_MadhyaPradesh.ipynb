{
 "cells": [
  {
   "cell_type": "code",
   "execution_count": 1,
   "metadata": {},
   "outputs": [],
   "source": [
    "import numpy as np \n",
    "import pandas as pd\n",
    "import seaborn as sns\n",
    "import matplotlib.pyplot as plt\n",
    "from sklearn.preprocessing import LabelEncoder\n",
    "from sklearn.model_selection import train_test_split\n",
    "from sklearn.linear_model import LinearRegression\n",
    "from sklearn.metrics import mean_squared_error, r2_score\n",
    "import seaborn as sns"
   ]
  },
  {
   "cell_type": "code",
   "execution_count": 2,
   "metadata": {},
   "outputs": [],
   "source": [
    "df = pd.read_csv(r\"C:\\Users\\Kanishk Goyal\\OneDrive - IIT Kanpur\\Desktop\\Prof. Hamim Zafar\\Data\\Final Data\\Urad\\Urad_MP.csv\")\n",
    "df = df.drop(columns=['latitude','longitude','DistrictName', 'year'])\n",
    "# df = df.sample(frac=1).reset_index(drop=True)\n",
    "#df = df.drop(columns=['DistrictName','latitude','longitude','year','year_mask'])"
   ]
  },
  {
   "cell_type": "code",
   "execution_count": 3,
   "metadata": {},
   "outputs": [],
   "source": [
    "df = df.rename(columns={'Yield(tonnes/hectare)':'Yield(Tonnes/Hectare)'},inplace=False)"
   ]
  },
  {
   "cell_type": "code",
   "execution_count": 4,
   "metadata": {},
   "outputs": [],
   "source": [
    "df = df.drop(columns=['stl2_7','stl2_8', 'stl2_9', 'stl2_10', 'stl3_7', 'stl3_8', 'stl3_9', 'stl3_10'])"
   ]
  },
  {
   "cell_type": "code",
   "execution_count": 5,
   "metadata": {},
   "outputs": [
    {
     "data": {
      "text/plain": [
       "Index(['stl1_7', 'stl1_8', 'stl1_9', 'stl1_10', 'stl4_7', 'stl4_8', 'stl4_9',\n",
       "       'stl4_10', 'swvl1_7', 'swvl1_8', 'swvl1_9', 'swvl1_10', 'swvl2_7',\n",
       "       'swvl2_8', 'swvl2_9', 'swvl2_10', 'swvl3_7', 'swvl3_8', 'swvl3_9',\n",
       "       'swvl3_10', 'swvl4_7', 'swvl4_8', 'swvl4_9', 'swvl4_10', 'ssr_7',\n",
       "       'ssr_8', 'ssr_9', 'ssr_10', 'u10_7', 'u10_8', 'u10_9', 'u10_10',\n",
       "       'v10_7', 'v10_8', 'v10_9', 'v10_10', 'tmax_7', 'tmax_8', 'tmax_9',\n",
       "       'tmax_10', 'tmin_7', 'tmin_8', 'tmin_9', 'tmin_10', 'rain_7', 'rain_8',\n",
       "       'rain_9', 'rain_10', 'countrain_7', 'countrain_8', 'countrain_9',\n",
       "       'countrain_10', 'rh_7', 'rh_8', 'rh_9', 'rh_10',\n",
       "       'Yield(Tonnes/Hectare)'],\n",
       "      dtype='object')"
      ]
     },
     "execution_count": 5,
     "metadata": {},
     "output_type": "execute_result"
    }
   ],
   "source": [
    "df.columns"
   ]
  },
  {
   "cell_type": "code",
   "execution_count": 6,
   "metadata": {},
   "outputs": [],
   "source": [
    "# df['stl1'] = (df['stl1_1'] + df['stl1_2'])/2\n",
    "# df['stl2'] = (df['stl2_1'] + df['stl2_2'])/2\n",
    "# df['stl3'] = (df['stl3_1'] + df['stl3_2'])/2\n",
    "# df['stl4'] = (df['stl4_1'] + df['stl4_2'])/2\n",
    "# df['swvl1'] = (df['swvl1_1'] + df['swvl1_2'])/2\n",
    "# df['swvl2'] = (df['swvl2_1'] + df['swvl2_2'])/2\n",
    "# df['swvl3'] = (df['swvl3_1'] + df['swvl3_2'])/2\n",
    "# df['swvl4'] = (df['swvl4_1'] + df['swvl4_2'])/2\n",
    "# df['ssr'] = (df['ssr_1'] + df['ssr_2'])/2\n",
    "# df['rain'] = (df['rain_1'] + df['rain_2'])/2\n",
    "# df['tmax'] = (df['tmax_1'] + df['tmax_2'])/2\n",
    "# df['tmin'] = (df['tmin_1'] + df['tmin_2'])/2\n",
    "# df['countrain'] = df['countrain_1'] + df['countrain_2']\n",
    "# df['u10'] = (df['u10_3']+df['u10_4'])/2\n",
    "# df['v10'] = (df['v10_3']+df['v10_4'])/2\n",
    "# df['rh'] = (df['rh_3']+df['rh_4'])/2"
   ]
  },
  {
   "cell_type": "code",
   "execution_count": 7,
   "metadata": {},
   "outputs": [],
   "source": [
    "# df = df.drop(columns=['stl1_1','stl1_2','stl2_1','stl2_2','stl3_1','stl3_2','stl4_1','stl4_2','swvl1_1','swvl1_2','swvl2_1','swvl2_2','swvl3_1','swvl3_2','swvl4_1','swvl4_2','ssr_1','ssr_2','rain_1','rain_2','tmax_1','tmax_2','tmin_1','tmin_2','countrain_1','countrain_2','u10_3','u10_4','v10_3','v10_4','rh_3','rh_4'],axis=1)"
   ]
  },
  {
   "cell_type": "code",
   "execution_count": 8,
   "metadata": {},
   "outputs": [
    {
     "data": {
      "text/plain": [
       "(1300, 57)"
      ]
     },
     "execution_count": 8,
     "metadata": {},
     "output_type": "execute_result"
    }
   ],
   "source": [
    "df.shape"
   ]
  },
  {
   "cell_type": "code",
   "execution_count": 9,
   "metadata": {},
   "outputs": [
    {
     "data": {
      "text/plain": [
       "Index(['stl1_7', 'stl1_8', 'stl1_9', 'stl1_10', 'stl4_7', 'stl4_8', 'stl4_9',\n",
       "       'stl4_10', 'swvl1_7', 'swvl1_8', 'swvl1_9', 'swvl1_10', 'swvl2_7',\n",
       "       'swvl2_8', 'swvl2_9', 'swvl2_10', 'swvl3_7', 'swvl3_8', 'swvl3_9',\n",
       "       'swvl3_10', 'swvl4_7', 'swvl4_8', 'swvl4_9', 'swvl4_10', 'ssr_7',\n",
       "       'ssr_8', 'ssr_9', 'ssr_10', 'u10_7', 'u10_8', 'u10_9', 'u10_10',\n",
       "       'v10_7', 'v10_8', 'v10_9', 'v10_10', 'tmax_7', 'tmax_8', 'tmax_9',\n",
       "       'tmax_10', 'tmin_7', 'tmin_8', 'tmin_9', 'tmin_10', 'rain_7', 'rain_8',\n",
       "       'rain_9', 'rain_10', 'countrain_7', 'countrain_8', 'countrain_9',\n",
       "       'countrain_10', 'rh_7', 'rh_8', 'rh_9', 'rh_10',\n",
       "       'Yield(Tonnes/Hectare)'],\n",
       "      dtype='object')"
      ]
     },
     "execution_count": 9,
     "metadata": {},
     "output_type": "execute_result"
    }
   ],
   "source": [
    "df.columns"
   ]
  },
  {
   "cell_type": "code",
   "execution_count": 10,
   "metadata": {},
   "outputs": [],
   "source": [
    "df = df.dropna(subset=['Yield(Tonnes/Hectare)'])"
   ]
  },
  {
   "cell_type": "code",
   "execution_count": 11,
   "metadata": {},
   "outputs": [
    {
     "data": {
      "text/plain": [
       "(874, 57)"
      ]
     },
     "execution_count": 11,
     "metadata": {},
     "output_type": "execute_result"
    }
   ],
   "source": [
    "df.shape"
   ]
  },
  {
   "cell_type": "code",
   "execution_count": 12,
   "metadata": {},
   "outputs": [
    {
     "data": {
      "text/plain": [
       "2.788182719892437"
      ]
     },
     "execution_count": 12,
     "metadata": {},
     "output_type": "execute_result"
    }
   ],
   "source": [
    "df['Yield(Tonnes/Hectare)'].skew()"
   ]
  },
  {
   "cell_type": "code",
   "execution_count": 13,
   "metadata": {},
   "outputs": [
    {
     "name": "stderr",
     "output_type": "stream",
     "text": [
      "C:\\Users\\Kanishk Goyal\\AppData\\Local\\Temp\\ipykernel_15040\\994257175.py:1: UserWarning: \n",
      "\n",
      "`distplot` is a deprecated function and will be removed in seaborn v0.14.0.\n",
      "\n",
      "Please adapt your code to use either `displot` (a figure-level function with\n",
      "similar flexibility) or `histplot` (an axes-level function for histograms).\n",
      "\n",
      "For a guide to updating your code to use the new functions, please see\n",
      "https://gist.github.com/mwaskom/de44147ed2974457ad6372750bbe5751\n",
      "\n",
      "  sns.distplot(df['Yield(Tonnes/Hectare)'],color='green')\n"
     ]
    },
    {
     "data": {
      "text/plain": [
       "<Axes: xlabel='Yield(Tonnes/Hectare)', ylabel='Density'>"
      ]
     },
     "execution_count": 13,
     "metadata": {},
     "output_type": "execute_result"
    },
    {
     "data": {
      "image/png": "[encoded data removed]",
      "text/plain": [
       "<Figure size 640x480 with 1 Axes>"
      ]
     },
     "metadata": {},
     "output_type": "display_data"
    }
   ],
   "source": [
    "sns.distplot(df['Yield(Tonnes/Hectare)'],color='green')"
   ]
  },
  {
   "cell_type": "code",
   "execution_count": 14,
   "metadata": {},
   "outputs": [
    {
     "data": {
      "text/plain": [
       "6       0.31\n",
       "7       0.27\n",
       "8       0.29\n",
       "9       0.31\n",
       "10      0.30\n",
       "        ... \n",
       "1292    0.33\n",
       "1293    1.00\n",
       "1294    0.57\n",
       "1295    0.35\n",
       "1296    0.40\n",
       "Name: Yield(Tonnes/Hectare), Length: 874, dtype: float64"
      ]
     },
     "execution_count": 14,
     "metadata": {},
     "output_type": "execute_result"
    }
   ],
   "source": [
    "df['Yield(Tonnes/Hectare)']"
   ]
  },
  {
   "cell_type": "code",
   "execution_count": 15,
   "metadata": {},
   "outputs": [
    {
     "name": "stdout",
     "output_type": "stream",
     "text": [
      "Number of points in the final DataFrame after handling outliers: 814\n"
     ]
    }
   ],
   "source": [
    "Q1 = df['Yield(Tonnes/Hectare)'].quantile(0.25)\n",
    "Q3 = df['Yield(Tonnes/Hectare)'].quantile(0.75)\n",
    "IQR = Q3 - Q1\n",
    "\n",
    "lower_bound = Q1 - 1.5 * IQR\n",
    "upper_bound = Q3 + 1.5 * IQR\n",
    "\n",
    "df['Yield_no_outliers'] = np.where((df['Yield(Tonnes/Hectare)'] < lower_bound) | (df['Yield(Tonnes/Hectare)'] > upper_bound), np.nan, df['Yield(Tonnes/Hectare)'])\n",
    "\n",
    "num_points_after_handling_outliers = df['Yield_no_outliers'].count()\n",
    "print(\"Number of points in the final DataFrame after handling outliers:\", num_points_after_handling_outliers)"
   ]
  },
  {
   "cell_type": "code",
   "execution_count": 16,
   "metadata": {},
   "outputs": [],
   "source": [
    "df = df.dropna(subset=['Yield_no_outliers'])\n",
    "df = df.drop(columns=['Yield(Tonnes/Hectare)'])"
   ]
  },
  {
   "cell_type": "code",
   "execution_count": 17,
   "metadata": {},
   "outputs": [],
   "source": [
    "df.rename(columns={'Yield_no_outliers': 'Yield(Tonnes/Hectare)'}, inplace=True)"
   ]
  },
  {
   "cell_type": "code",
   "execution_count": 18,
   "metadata": {},
   "outputs": [
    {
     "data": {
      "text/plain": [
       "0.573390994392166"
      ]
     },
     "execution_count": 18,
     "metadata": {},
     "output_type": "execute_result"
    }
   ],
   "source": [
    "df['Yield(Tonnes/Hectare)'].skew()"
   ]
  },
  {
   "cell_type": "code",
   "execution_count": 19,
   "metadata": {},
   "outputs": [
    {
     "name": "stderr",
     "output_type": "stream",
     "text": [
      "C:\\Users\\Kanishk Goyal\\AppData\\Local\\Temp\\ipykernel_15040\\1820324139.py:1: UserWarning: \n",
      "\n",
      "`distplot` is a deprecated function and will be removed in seaborn v0.14.0.\n",
      "\n",
      "Please adapt your code to use either `displot` (a figure-level function with\n",
      "similar flexibility) or `histplot` (an axes-level function for histograms).\n",
      "\n",
      "For a guide to updating your code to use the new functions, please see\n",
      "https://gist.github.com/mwaskom/de44147ed2974457ad6372750bbe5751\n",
      "\n",
      "  sns.distplot(df['Yield(Tonnes/Hectare)'])\n"
     ]
    },
    {
     "data": {
      "text/plain": [
       "<Axes: xlabel='Yield(Tonnes/Hectare)', ylabel='Density'>"
      ]
     },
     "execution_count": 19,
     "metadata": {},
     "output_type": "execute_result"
    },
    {
     "data": {
      "image/png": "[encoded data removed]",
      "text/plain": [
       "<Figure size 640x480 with 1 Axes>"
      ]
     },
     "metadata": {},
     "output_type": "display_data"
    }
   ],
   "source": [
    "sns.distplot(df['Yield(Tonnes/Hectare)'])"
   ]
  },
  {
   "cell_type": "code",
   "execution_count": 20,
   "metadata": {},
   "outputs": [
    {
     "data": {
      "text/html": [
       "<div>\n",
       "<style scoped>\n",
       "    .dataframe tbody tr th:only-of-type {\n",
       "        vertical-align: middle;\n",
       "    }\n",
       "\n",
       "    .dataframe tbody tr th {\n",
       "        vertical-align: top;\n",
       "    }\n",
       "\n",
       "    .dataframe thead th {\n",
       "        text-align: right;\n",
       "    }\n",
       "</style>\n",
       "<table border=\"1\" class=\"dataframe\">\n",
       "  <thead>\n",
       "    <tr style=\"text-align: right;\">\n",
       "      <th></th>\n",
       "      <th>stl1_7</th>\n",
       "      <th>stl1_8</th>\n",
       "      <th>stl1_9</th>\n",
       "      <th>stl1_10</th>\n",
       "      <th>stl4_7</th>\n",
       "      <th>stl4_8</th>\n",
       "      <th>stl4_9</th>\n",
       "      <th>stl4_10</th>\n",
       "      <th>swvl1_7</th>\n",
       "      <th>swvl1_8</th>\n",
       "      <th>...</th>\n",
       "      <th>rain_10</th>\n",
       "      <th>countrain_7</th>\n",
       "      <th>countrain_8</th>\n",
       "      <th>countrain_9</th>\n",
       "      <th>countrain_10</th>\n",
       "      <th>rh_7</th>\n",
       "      <th>rh_8</th>\n",
       "      <th>rh_9</th>\n",
       "      <th>rh_10</th>\n",
       "      <th>Yield(Tonnes/Hectare)</th>\n",
       "    </tr>\n",
       "  </thead>\n",
       "  <tbody>\n",
       "    <tr>\n",
       "      <th>6</th>\n",
       "      <td>27.439248</td>\n",
       "      <td>26.650892</td>\n",
       "      <td>25.922613</td>\n",
       "      <td>26.152439</td>\n",
       "      <td>31.222816</td>\n",
       "      <td>30.013838</td>\n",
       "      <td>28.920203</td>\n",
       "      <td>28.063454</td>\n",
       "      <td>0.460488</td>\n",
       "      <td>0.453415</td>\n",
       "      <td>...</td>\n",
       "      <td>0.085209</td>\n",
       "      <td>16</td>\n",
       "      <td>16</td>\n",
       "      <td>15</td>\n",
       "      <td>0</td>\n",
       "      <td>82.880616</td>\n",
       "      <td>83.010597</td>\n",
       "      <td>84.857959</td>\n",
       "      <td>58.487390</td>\n",
       "      <td>0.31</td>\n",
       "    </tr>\n",
       "    <tr>\n",
       "      <th>7</th>\n",
       "      <td>28.472905</td>\n",
       "      <td>25.832910</td>\n",
       "      <td>28.119333</td>\n",
       "      <td>26.510545</td>\n",
       "      <td>31.172815</td>\n",
       "      <td>30.057950</td>\n",
       "      <td>28.983722</td>\n",
       "      <td>28.663146</td>\n",
       "      <td>0.402076</td>\n",
       "      <td>0.454807</td>\n",
       "      <td>...</td>\n",
       "      <td>0.970547</td>\n",
       "      <td>16</td>\n",
       "      <td>15</td>\n",
       "      <td>9</td>\n",
       "      <td>5</td>\n",
       "      <td>74.646405</td>\n",
       "      <td>82.995489</td>\n",
       "      <td>76.797447</td>\n",
       "      <td>56.672910</td>\n",
       "      <td>0.27</td>\n",
       "    </tr>\n",
       "    <tr>\n",
       "      <th>8</th>\n",
       "      <td>27.609879</td>\n",
       "      <td>26.864489</td>\n",
       "      <td>27.301232</td>\n",
       "      <td>26.247982</td>\n",
       "      <td>31.700158</td>\n",
       "      <td>30.430173</td>\n",
       "      <td>29.549990</td>\n",
       "      <td>28.772807</td>\n",
       "      <td>0.454837</td>\n",
       "      <td>0.418353</td>\n",
       "      <td>...</td>\n",
       "      <td>0.582672</td>\n",
       "      <td>13</td>\n",
       "      <td>13</td>\n",
       "      <td>11</td>\n",
       "      <td>3</td>\n",
       "      <td>79.325686</td>\n",
       "      <td>80.838138</td>\n",
       "      <td>80.120752</td>\n",
       "      <td>56.769164</td>\n",
       "      <td>0.29</td>\n",
       "    </tr>\n",
       "    <tr>\n",
       "      <th>9</th>\n",
       "      <td>27.107681</td>\n",
       "      <td>25.839027</td>\n",
       "      <td>27.396309</td>\n",
       "      <td>26.927418</td>\n",
       "      <td>31.078409</td>\n",
       "      <td>29.734226</td>\n",
       "      <td>28.726489</td>\n",
       "      <td>28.315774</td>\n",
       "      <td>0.442508</td>\n",
       "      <td>0.456728</td>\n",
       "      <td>...</td>\n",
       "      <td>1.095740</td>\n",
       "      <td>19</td>\n",
       "      <td>18</td>\n",
       "      <td>13</td>\n",
       "      <td>2</td>\n",
       "      <td>80.511784</td>\n",
       "      <td>83.870346</td>\n",
       "      <td>83.448881</td>\n",
       "      <td>64.269046</td>\n",
       "      <td>0.31</td>\n",
       "    </tr>\n",
       "    <tr>\n",
       "      <th>10</th>\n",
       "      <td>27.793850</td>\n",
       "      <td>26.918368</td>\n",
       "      <td>27.330405</td>\n",
       "      <td>26.018049</td>\n",
       "      <td>31.259412</td>\n",
       "      <td>30.189282</td>\n",
       "      <td>29.274194</td>\n",
       "      <td>28.580467</td>\n",
       "      <td>0.454635</td>\n",
       "      <td>0.449704</td>\n",
       "      <td>...</td>\n",
       "      <td>0.000000</td>\n",
       "      <td>19</td>\n",
       "      <td>9</td>\n",
       "      <td>12</td>\n",
       "      <td>0</td>\n",
       "      <td>81.331777</td>\n",
       "      <td>83.195917</td>\n",
       "      <td>83.367686</td>\n",
       "      <td>51.739194</td>\n",
       "      <td>0.30</td>\n",
       "    </tr>\n",
       "    <tr>\n",
       "      <th>11</th>\n",
       "      <td>27.465118</td>\n",
       "      <td>26.359210</td>\n",
       "      <td>26.701729</td>\n",
       "      <td>26.220090</td>\n",
       "      <td>30.439640</td>\n",
       "      <td>29.455971</td>\n",
       "      <td>28.655662</td>\n",
       "      <td>28.075955</td>\n",
       "      <td>0.415164</td>\n",
       "      <td>0.447536</td>\n",
       "      <td>...</td>\n",
       "      <td>0.777928</td>\n",
       "      <td>13</td>\n",
       "      <td>14</td>\n",
       "      <td>19</td>\n",
       "      <td>3</td>\n",
       "      <td>76.503378</td>\n",
       "      <td>82.879845</td>\n",
       "      <td>82.891248</td>\n",
       "      <td>60.152286</td>\n",
       "      <td>0.29</td>\n",
       "    </tr>\n",
       "    <tr>\n",
       "      <th>12</th>\n",
       "      <td>27.532296</td>\n",
       "      <td>27.382923</td>\n",
       "      <td>28.202081</td>\n",
       "      <td>25.829695</td>\n",
       "      <td>32.154073</td>\n",
       "      <td>30.838440</td>\n",
       "      <td>29.780676</td>\n",
       "      <td>29.220702</td>\n",
       "      <td>0.455169</td>\n",
       "      <td>0.416725</td>\n",
       "      <td>...</td>\n",
       "      <td>4.083267</td>\n",
       "      <td>23</td>\n",
       "      <td>12</td>\n",
       "      <td>5</td>\n",
       "      <td>4</td>\n",
       "      <td>80.870310</td>\n",
       "      <td>78.602924</td>\n",
       "      <td>74.490101</td>\n",
       "      <td>56.779942</td>\n",
       "      <td>0.30</td>\n",
       "    </tr>\n",
       "    <tr>\n",
       "      <th>13</th>\n",
       "      <td>28.024903</td>\n",
       "      <td>26.793426</td>\n",
       "      <td>27.440869</td>\n",
       "      <td>28.057046</td>\n",
       "      <td>31.789421</td>\n",
       "      <td>30.504414</td>\n",
       "      <td>29.430524</td>\n",
       "      <td>29.015493</td>\n",
       "      <td>0.452503</td>\n",
       "      <td>0.465049</td>\n",
       "      <td>...</td>\n",
       "      <td>0.395917</td>\n",
       "      <td>20</td>\n",
       "      <td>17</td>\n",
       "      <td>9</td>\n",
       "      <td>2</td>\n",
       "      <td>81.176712</td>\n",
       "      <td>85.130937</td>\n",
       "      <td>78.919937</td>\n",
       "      <td>62.568465</td>\n",
       "      <td>0.24</td>\n",
       "    </tr>\n",
       "    <tr>\n",
       "      <th>14</th>\n",
       "      <td>27.329498</td>\n",
       "      <td>26.251414</td>\n",
       "      <td>26.446769</td>\n",
       "      <td>27.950627</td>\n",
       "      <td>30.979832</td>\n",
       "      <td>29.767744</td>\n",
       "      <td>28.706161</td>\n",
       "      <td>28.217232</td>\n",
       "      <td>0.442614</td>\n",
       "      <td>0.465815</td>\n",
       "      <td>...</td>\n",
       "      <td>0.014859</td>\n",
       "      <td>20</td>\n",
       "      <td>27</td>\n",
       "      <td>12</td>\n",
       "      <td>0</td>\n",
       "      <td>80.851017</td>\n",
       "      <td>86.566274</td>\n",
       "      <td>82.090196</td>\n",
       "      <td>52.303633</td>\n",
       "      <td>0.26</td>\n",
       "    </tr>\n",
       "    <tr>\n",
       "      <th>15</th>\n",
       "      <td>27.741287</td>\n",
       "      <td>25.929324</td>\n",
       "      <td>26.758931</td>\n",
       "      <td>26.693698</td>\n",
       "      <td>31.431430</td>\n",
       "      <td>30.130156</td>\n",
       "      <td>28.937584</td>\n",
       "      <td>28.364513</td>\n",
       "      <td>0.433674</td>\n",
       "      <td>0.463874</td>\n",
       "      <td>...</td>\n",
       "      <td>0.357877</td>\n",
       "      <td>20</td>\n",
       "      <td>17</td>\n",
       "      <td>13</td>\n",
       "      <td>1</td>\n",
       "      <td>79.678090</td>\n",
       "      <td>84.527202</td>\n",
       "      <td>81.563359</td>\n",
       "      <td>58.142223</td>\n",
       "      <td>0.42</td>\n",
       "    </tr>\n",
       "  </tbody>\n",
       "</table>\n",
       "<p>10 rows × 57 columns</p>\n",
       "</div>"
      ],
      "text/plain": [
       "       stl1_7     stl1_8     stl1_9    stl1_10     stl4_7     stl4_8  \\\n",
       "6   27.439248  26.650892  25.922613  26.152439  31.222816  30.013838   \n",
       "7   28.472905  25.832910  28.119333  26.510545  31.172815  30.057950   \n",
       "8   27.609879  26.864489  27.301232  26.247982  31.700158  30.430173   \n",
       "9   27.107681  25.839027  27.396309  26.927418  31.078409  29.734226   \n",
       "10  27.793850  26.918368  27.330405  26.018049  31.259412  30.189282   \n",
       "11  27.465118  26.359210  26.701729  26.220090  30.439640  29.455971   \n",
       "12  27.532296  27.382923  28.202081  25.829695  32.154073  30.838440   \n",
       "13  28.024903  26.793426  27.440869  28.057046  31.789421  30.504414   \n",
       "14  27.329498  26.251414  26.446769  27.950627  30.979832  29.767744   \n",
       "15  27.741287  25.929324  26.758931  26.693698  31.431430  30.130156   \n",
       "\n",
       "       stl4_9    stl4_10   swvl1_7   swvl1_8  ...   rain_10  countrain_7  \\\n",
       "6   28.920203  28.063454  0.460488  0.453415  ...  0.085209           16   \n",
       "7   28.983722  28.663146  0.402076  0.454807  ...  0.970547           16   \n",
       "8   29.549990  28.772807  0.454837  0.418353  ...  0.582672           13   \n",
       "9   28.726489  28.315774  0.442508  0.456728  ...  1.095740           19   \n",
       "10  29.274194  28.580467  0.454635  0.449704  ...  0.000000           19   \n",
       "11  28.655662  28.075955  0.415164  0.447536  ...  0.777928           13   \n",
       "12  29.780676  29.220702  0.455169  0.416725  ...  4.083267           23   \n",
       "13  29.430524  29.015493  0.452503  0.465049  ...  0.395917           20   \n",
       "14  28.706161  28.217232  0.442614  0.465815  ...  0.014859           20   \n",
       "15  28.937584  28.364513  0.433674  0.463874  ...  0.357877           20   \n",
       "\n",
       "    countrain_8  countrain_9  countrain_10       rh_7       rh_8       rh_9  \\\n",
       "6            16           15             0  82.880616  83.010597  84.857959   \n",
       "7            15            9             5  74.646405  82.995489  76.797447   \n",
       "8            13           11             3  79.325686  80.838138  80.120752   \n",
       "9            18           13             2  80.511784  83.870346  83.448881   \n",
       "10            9           12             0  81.331777  83.195917  83.367686   \n",
       "11           14           19             3  76.503378  82.879845  82.891248   \n",
       "12           12            5             4  80.870310  78.602924  74.490101   \n",
       "13           17            9             2  81.176712  85.130937  78.919937   \n",
       "14           27           12             0  80.851017  86.566274  82.090196   \n",
       "15           17           13             1  79.678090  84.527202  81.563359   \n",
       "\n",
       "        rh_10  Yield(Tonnes/Hectare)  \n",
       "6   58.487390                   0.31  \n",
       "7   56.672910                   0.27  \n",
       "8   56.769164                   0.29  \n",
       "9   64.269046                   0.31  \n",
       "10  51.739194                   0.30  \n",
       "11  60.152286                   0.29  \n",
       "12  56.779942                   0.30  \n",
       "13  62.568465                   0.24  \n",
       "14  52.303633                   0.26  \n",
       "15  58.142223                   0.42  \n",
       "\n",
       "[10 rows x 57 columns]"
      ]
     },
     "execution_count": 20,
     "metadata": {},
     "output_type": "execute_result"
    }
   ],
   "source": [
    "df.head(10)"
   ]
  },
  {
   "cell_type": "code",
   "execution_count": 21,
   "metadata": {},
   "outputs": [
    {
     "data": {
      "text/plain": [
       "(814, 57)"
      ]
     },
     "execution_count": 21,
     "metadata": {},
     "output_type": "execute_result"
    }
   ],
   "source": [
    "df.shape"
   ]
  },
  {
   "cell_type": "code",
   "execution_count": 22,
   "metadata": {},
   "outputs": [],
   "source": [
    "# cat_cols = ['DistrictName', 'year']\n",
    "# # Label encode categorical columns\n",
    "# encoder = LabelEncoder()\n",
    "# df[cat_cols] = df[cat_cols].apply(encoder.fit_transform)"
   ]
  },
  {
   "cell_type": "code",
   "execution_count": 23,
   "metadata": {},
   "outputs": [
    {
     "data": {
      "text/html": [
       "<div>\n",
       "<style scoped>\n",
       "    .dataframe tbody tr th:only-of-type {\n",
       "        vertical-align: middle;\n",
       "    }\n",
       "\n",
       "    .dataframe tbody tr th {\n",
       "        vertical-align: top;\n",
       "    }\n",
       "\n",
       "    .dataframe thead th {\n",
       "        text-align: right;\n",
       "    }\n",
       "</style>\n",
       "<table border=\"1\" class=\"dataframe\">\n",
       "  <thead>\n",
       "    <tr style=\"text-align: right;\">\n",
       "      <th></th>\n",
       "      <th>stl1_7</th>\n",
       "      <th>stl1_8</th>\n",
       "      <th>stl1_9</th>\n",
       "      <th>stl1_10</th>\n",
       "      <th>stl4_7</th>\n",
       "      <th>stl4_8</th>\n",
       "      <th>stl4_9</th>\n",
       "      <th>stl4_10</th>\n",
       "      <th>swvl1_7</th>\n",
       "      <th>swvl1_8</th>\n",
       "      <th>...</th>\n",
       "      <th>rain_10</th>\n",
       "      <th>countrain_7</th>\n",
       "      <th>countrain_8</th>\n",
       "      <th>countrain_9</th>\n",
       "      <th>countrain_10</th>\n",
       "      <th>rh_7</th>\n",
       "      <th>rh_8</th>\n",
       "      <th>rh_9</th>\n",
       "      <th>rh_10</th>\n",
       "      <th>Yield(Tonnes/Hectare)</th>\n",
       "    </tr>\n",
       "  </thead>\n",
       "  <tbody>\n",
       "    <tr>\n",
       "      <th>6</th>\n",
       "      <td>27.439248</td>\n",
       "      <td>26.650892</td>\n",
       "      <td>25.922613</td>\n",
       "      <td>26.152439</td>\n",
       "      <td>31.222816</td>\n",
       "      <td>30.013838</td>\n",
       "      <td>28.920203</td>\n",
       "      <td>28.063454</td>\n",
       "      <td>0.460488</td>\n",
       "      <td>0.453415</td>\n",
       "      <td>...</td>\n",
       "      <td>0.085209</td>\n",
       "      <td>16</td>\n",
       "      <td>16</td>\n",
       "      <td>15</td>\n",
       "      <td>0</td>\n",
       "      <td>82.880616</td>\n",
       "      <td>83.010597</td>\n",
       "      <td>84.857959</td>\n",
       "      <td>58.487390</td>\n",
       "      <td>0.31</td>\n",
       "    </tr>\n",
       "    <tr>\n",
       "      <th>7</th>\n",
       "      <td>28.472905</td>\n",
       "      <td>25.832910</td>\n",
       "      <td>28.119333</td>\n",
       "      <td>26.510545</td>\n",
       "      <td>31.172815</td>\n",
       "      <td>30.057950</td>\n",
       "      <td>28.983722</td>\n",
       "      <td>28.663146</td>\n",
       "      <td>0.402076</td>\n",
       "      <td>0.454807</td>\n",
       "      <td>...</td>\n",
       "      <td>0.970547</td>\n",
       "      <td>16</td>\n",
       "      <td>15</td>\n",
       "      <td>9</td>\n",
       "      <td>5</td>\n",
       "      <td>74.646405</td>\n",
       "      <td>82.995489</td>\n",
       "      <td>76.797447</td>\n",
       "      <td>56.672910</td>\n",
       "      <td>0.27</td>\n",
       "    </tr>\n",
       "    <tr>\n",
       "      <th>8</th>\n",
       "      <td>27.609879</td>\n",
       "      <td>26.864489</td>\n",
       "      <td>27.301232</td>\n",
       "      <td>26.247982</td>\n",
       "      <td>31.700158</td>\n",
       "      <td>30.430173</td>\n",
       "      <td>29.549990</td>\n",
       "      <td>28.772807</td>\n",
       "      <td>0.454837</td>\n",
       "      <td>0.418353</td>\n",
       "      <td>...</td>\n",
       "      <td>0.582672</td>\n",
       "      <td>13</td>\n",
       "      <td>13</td>\n",
       "      <td>11</td>\n",
       "      <td>3</td>\n",
       "      <td>79.325686</td>\n",
       "      <td>80.838138</td>\n",
       "      <td>80.120752</td>\n",
       "      <td>56.769164</td>\n",
       "      <td>0.29</td>\n",
       "    </tr>\n",
       "    <tr>\n",
       "      <th>9</th>\n",
       "      <td>27.107681</td>\n",
       "      <td>25.839027</td>\n",
       "      <td>27.396309</td>\n",
       "      <td>26.927418</td>\n",
       "      <td>31.078409</td>\n",
       "      <td>29.734226</td>\n",
       "      <td>28.726489</td>\n",
       "      <td>28.315774</td>\n",
       "      <td>0.442508</td>\n",
       "      <td>0.456728</td>\n",
       "      <td>...</td>\n",
       "      <td>1.095740</td>\n",
       "      <td>19</td>\n",
       "      <td>18</td>\n",
       "      <td>13</td>\n",
       "      <td>2</td>\n",
       "      <td>80.511784</td>\n",
       "      <td>83.870346</td>\n",
       "      <td>83.448881</td>\n",
       "      <td>64.269046</td>\n",
       "      <td>0.31</td>\n",
       "    </tr>\n",
       "    <tr>\n",
       "      <th>10</th>\n",
       "      <td>27.793850</td>\n",
       "      <td>26.918368</td>\n",
       "      <td>27.330405</td>\n",
       "      <td>26.018049</td>\n",
       "      <td>31.259412</td>\n",
       "      <td>30.189282</td>\n",
       "      <td>29.274194</td>\n",
       "      <td>28.580467</td>\n",
       "      <td>0.454635</td>\n",
       "      <td>0.449704</td>\n",
       "      <td>...</td>\n",
       "      <td>0.000000</td>\n",
       "      <td>19</td>\n",
       "      <td>9</td>\n",
       "      <td>12</td>\n",
       "      <td>0</td>\n",
       "      <td>81.331777</td>\n",
       "      <td>83.195917</td>\n",
       "      <td>83.367686</td>\n",
       "      <td>51.739194</td>\n",
       "      <td>0.30</td>\n",
       "    </tr>\n",
       "  </tbody>\n",
       "</table>\n",
       "<p>5 rows × 57 columns</p>\n",
       "</div>"
      ],
      "text/plain": [
       "       stl1_7     stl1_8     stl1_9    stl1_10     stl4_7     stl4_8  \\\n",
       "6   27.439248  26.650892  25.922613  26.152439  31.222816  30.013838   \n",
       "7   28.472905  25.832910  28.119333  26.510545  31.172815  30.057950   \n",
       "8   27.609879  26.864489  27.301232  26.247982  31.700158  30.430173   \n",
       "9   27.107681  25.839027  27.396309  26.927418  31.078409  29.734226   \n",
       "10  27.793850  26.918368  27.330405  26.018049  31.259412  30.189282   \n",
       "\n",
       "       stl4_9    stl4_10   swvl1_7   swvl1_8  ...   rain_10  countrain_7  \\\n",
       "6   28.920203  28.063454  0.460488  0.453415  ...  0.085209           16   \n",
       "7   28.983722  28.663146  0.402076  0.454807  ...  0.970547           16   \n",
       "8   29.549990  28.772807  0.454837  0.418353  ...  0.582672           13   \n",
       "9   28.726489  28.315774  0.442508  0.456728  ...  1.095740           19   \n",
       "10  29.274194  28.580467  0.454635  0.449704  ...  0.000000           19   \n",
       "\n",
       "    countrain_8  countrain_9  countrain_10       rh_7       rh_8       rh_9  \\\n",
       "6            16           15             0  82.880616  83.010597  84.857959   \n",
       "7            15            9             5  74.646405  82.995489  76.797447   \n",
       "8            13           11             3  79.325686  80.838138  80.120752   \n",
       "9            18           13             2  80.511784  83.870346  83.448881   \n",
       "10            9           12             0  81.331777  83.195917  83.367686   \n",
       "\n",
       "        rh_10  Yield(Tonnes/Hectare)  \n",
       "6   58.487390                   0.31  \n",
       "7   56.672910                   0.27  \n",
       "8   56.769164                   0.29  \n",
       "9   64.269046                   0.31  \n",
       "10  51.739194                   0.30  \n",
       "\n",
       "[5 rows x 57 columns]"
      ]
     },
     "execution_count": 23,
     "metadata": {},
     "output_type": "execute_result"
    }
   ],
   "source": [
    "df.head()"
   ]
  },
  {
   "cell_type": "code",
   "execution_count": 24,
   "metadata": {},
   "outputs": [
    {
     "data": {
      "text/plain": [
       "(814, 57)"
      ]
     },
     "execution_count": 24,
     "metadata": {},
     "output_type": "execute_result"
    }
   ],
   "source": [
    "df.shape"
   ]
  },
  {
   "cell_type": "code",
   "execution_count": 25,
   "metadata": {},
   "outputs": [
    {
     "data": {
      "text/plain": [
       "Index(['stl1_7', 'stl1_8', 'stl1_9', 'stl1_10', 'stl4_7', 'stl4_8', 'stl4_9',\n",
       "       'stl4_10', 'swvl1_7', 'swvl1_8', 'swvl1_9', 'swvl1_10', 'swvl2_7',\n",
       "       'swvl2_8', 'swvl2_9', 'swvl2_10', 'swvl3_7', 'swvl3_8', 'swvl3_9',\n",
       "       'swvl3_10', 'swvl4_7', 'swvl4_8', 'swvl4_9', 'swvl4_10', 'ssr_7',\n",
       "       'ssr_8', 'ssr_9', 'ssr_10', 'u10_7', 'u10_8', 'u10_9', 'u10_10',\n",
       "       'v10_7', 'v10_8', 'v10_9', 'v10_10', 'tmax_7', 'tmax_8', 'tmax_9',\n",
       "       'tmax_10', 'tmin_7', 'tmin_8', 'tmin_9', 'tmin_10', 'rain_7', 'rain_8',\n",
       "       'rain_9', 'rain_10', 'countrain_7', 'countrain_8', 'countrain_9',\n",
       "       'countrain_10', 'rh_7', 'rh_8', 'rh_9', 'rh_10',\n",
       "       'Yield(Tonnes/Hectare)'],\n",
       "      dtype='object')"
      ]
     },
     "execution_count": 25,
     "metadata": {},
     "output_type": "execute_result"
    }
   ],
   "source": [
    "df.columns"
   ]
  },
  {
   "cell_type": "code",
   "execution_count": 26,
   "metadata": {},
   "outputs": [],
   "source": [
    "#df = df[['countrain_11', 'countrain_12', 'countrain_1','countrain_2', 'countrain_3', 'countrain_4', 'rain_11', 'rain_12','rain_1', 'rain_2', 'rain_3', 'rain_4','tmax_11', 'tmax_12', 'tmax_1','tmax_2', 'tmax_3', 'tmax_4', 'tmin_11', 'tmin_12', 'tmin_1', 'tmin_2','tmin_3', 'tmin_4','Yield(Tonnes/Hectare)']]"
   ]
  },
  {
   "cell_type": "code",
   "execution_count": 27,
   "metadata": {},
   "outputs": [],
   "source": [
    "#df = df.drop(columns=['countrain_11', 'countrain_12', 'countrain_1','countrain_2', 'countrain_3', 'countrain_4', 'rain_11', 'rain_12','rain_1', 'rain_2', 'rain_3', 'rain_4','tmax_11', 'tmax_12', 'tmax_1','tmax_2', 'tmax_3', 'tmax_4', 'tmin_11', 'tmin_12', 'tmin_1', 'tmin_2','tmin_3', 'tmin_4'])"
   ]
  },
  {
   "cell_type": "code",
   "execution_count": 28,
   "metadata": {},
   "outputs": [
    {
     "data": {
      "text/plain": [
       "(814, 57)"
      ]
     },
     "execution_count": 28,
     "metadata": {},
     "output_type": "execute_result"
    }
   ],
   "source": [
    "df.shape"
   ]
  },
  {
   "cell_type": "code",
   "execution_count": 29,
   "metadata": {},
   "outputs": [],
   "source": [
    "X = df.drop('Yield(Tonnes/Hectare)', axis=1)  # Features\n",
    "y = df['Yield(Tonnes/Hectare)']  # Target variable\n",
    "\n",
    "# Split the dataset into training and testing sets\n",
    "#X_train, X_test, y_train, y_test = train_test_split(X, y, test_size=0.2, random_state=42)"
   ]
  },
  {
   "cell_type": "code",
   "execution_count": 30,
   "metadata": {},
   "outputs": [],
   "source": [
    "# X = X.drop(columns=['stl2','stl3'],axis=1)"
   ]
  },
  {
   "cell_type": "code",
   "execution_count": 31,
   "metadata": {},
   "outputs": [
    {
     "name": "stdout",
     "output_type": "stream",
     "text": [
      "Linear Regression - R^2 Score (Train) : 0.28, R^2 Score (Test): 0.13\n",
      "[0.22879210477762202, 0.08510096221513752, 0.01723007522417286, 0.11155734516230731, 0.21478542292401526, -0.114161891603908, 0.23616176887936824, 0.07698295694548196, 0.1465107129865575, 0.25088361672257575]\n",
      "Ridge Regression - R^2 Score (Train) : 0.24, R^2 Score (Test): 0.14\n",
      "[0.1905753897878446, 0.16706942238415512, 0.0872413162388207, 0.20853347400833044, 0.1502956999483126, 0.14343004893393696, 0.11510362283935727, 0.24746005030379625, 0.031044155929001116, 0.08370424644621666]\n",
      "XGB Regressor - R^2 Score (Train) : 1.00, R^2 Score (Test): 0.17\n",
      "[0.23933406789574385, 0.2600088126317682, -0.04737325188175201, 0.1666774571143016, 0.14312599111222646, 0.07577747240992183, 0.17682955776957376, 0.2091005994214119, 0.2507898187240022, 0.18241882164086642]\n",
      "Lasso Regression - R^2 Score (Train) : 0.03, R^2 Score (Test): 0.00\n",
      "[0.07253051191971838, 0.06242242838212708, 0.02147802477173999, -0.002689273233589917, -0.04638884112631714, -0.04024688320565506, 0.02550739124721635, -0.01525213075713161, 0.030758643801112817, -0.08466874274983804]\n",
      "Decision Tree - R^2 Score (Train) : 1.00, R^2 Score (Test): -0.47\n",
      "[-0.2885776318576574, -0.6863000407689854, -0.0036767955586911594, -0.6026370981751317, -0.4093069740937185, -0.4216342057416589, -0.8479312201550164, -0.3829293265523679, -0.6466512269621587, -0.4466372370812779]\n",
      "Gradient Boosting - R^2 Score (Train) : 0.72, R^2 Score (Test): 0.17\n",
      "[0.08476273344791263, 0.2989446764602267, 0.14680840005737117, 0.0917695251493309, 0.14458259775390803, 0.07452003648435546, 0.1884777426997557, 0.30034088336102394, 0.14307827278529195, 0.26978230171657713]\n",
      "Random Forest - R^2 Score (Train) : 0.89, R^2 Score (Test): 0.19\n",
      "[0.03577859495286928, 0.12716215983942447, 0.22707571905052948, 0.17995390786598442, 0.20327493036015754, 0.2103914280648297, 0.17381603841100124, 0.35841333518277085, 0.2493115138443649, 0.12263565851385017]\n",
      "Support Vector Machine - R^2 Score (Train) : 0.04, R^2 Score (Test): 0.01\n",
      "[0.05330846367412645, 0.027282767922633955, 0.038859154178153665, -0.03971294414028326, 0.0186744765051996, 0.04453343825743028, -0.033271893697187194, 0.007184313749543092, -0.010946508127362531, -0.009268547161911167]\n"
     ]
    }
   ],
   "source": [
    "# Import necessary libraries\n",
    "import numpy as np\n",
    "import pandas as pd\n",
    "from sklearn.model_selection import train_test_split\n",
    "from sklearn.linear_model import LinearRegression, Ridge, Lasso\n",
    "from sklearn.tree import DecisionTreeRegressor\n",
    "from sklearn.ensemble import RandomForestRegressor, GradientBoostingRegressor\n",
    "from sklearn.svm import SVR\n",
    "import xgboost as xgb\n",
    "from sklearn.metrics import mean_squared_error, r2_score\n",
    "from sklearn.model_selection import KFold\n",
    "\n",
    "\n",
    "\n",
    "\n",
    "# Models\n",
    "models = {\n",
    "    \"Linear Regression\": LinearRegression(),\n",
    "    \"Ridge Regression\": Ridge(),\n",
    "    \"XGB Regressor\": xgb.XGBRegressor(objective='reg:squarederror', random_state=42),\n",
    "    \"Lasso Regression\": Lasso(),\n",
    "    \"Decision Tree\": DecisionTreeRegressor(),\n",
    "    \"Gradient Boosting\": GradientBoostingRegressor(),\n",
    "    \"Random Forest\": RandomForestRegressor(),\n",
    "    \"Support Vector Machine\": SVR()\n",
    "}\n",
    "\n",
    "# Train and evaluate each model\n",
    "for name, model in models.items():\n",
    "\n",
    "    mse_scores_test = []\n",
    "    mse_scores_train = []\n",
    "    r2_scores_test = []\n",
    "    r2_scores_train = []\n",
    "    # Create KFold object\n",
    "    k = 10\n",
    "    kfold = KFold(n_splits=k, shuffle=True)\n",
    "\n",
    "    for train_index, test_index in kfold.split(X):\n",
    "        X_train, X_test = X.iloc[train_index], X.iloc[test_index]\n",
    "        y_train, y_test = y.iloc[train_index], y.iloc[test_index]\n",
    "        model.fit(X_train, y_train)\n",
    "        y_pred_test = model.predict(X_test)\n",
    "        y_pred_train = model.predict(X_train)\n",
    "        mse_test = mean_squared_error(y_test, y_pred_test)\n",
    "        mse_train = mean_squared_error(y_train, y_pred_train)\n",
    "        r2_test = r2_score(y_test, y_pred_test)\n",
    "        r2_train = r2_score(y_train, y_pred_train)\n",
    "        mse_scores_test.append(mse_test)\n",
    "        mse_scores_train.append(mse_train)\n",
    "        r2_scores_test.append(r2_test)\n",
    "        r2_scores_train.append(r2_train)\n",
    "\n",
    "    average_mse_test = np.mean(mse_scores_test)\n",
    "    average_mse_train = np.mean(mse_scores_train)\n",
    "    average_r2_test = np.mean(r2_scores_test)\n",
    "    average_r2_train = np.mean(r2_scores_train)  \n",
    "\n",
    "    print(f'{name} - R^2 Score (Train) : {average_r2_train:.2f}, R^2 Score (Test): {average_r2_test:.2f}')\n",
    "    print(r2_scores_test)\n"
   ]
  },
  {
   "cell_type": "code",
   "execution_count": 32,
   "metadata": {},
   "outputs": [],
   "source": [
    "X_train, X_test, y_train, y_test = train_test_split(X, y, test_size=0.2, random_state=42)"
   ]
  },
  {
   "cell_type": "code",
   "execution_count": 33,
   "metadata": {},
   "outputs": [],
   "source": [
    "# import pandas as pd\n",
    "\n",
    "# # Assuming X_train is your DataFrame\n",
    "# # X_train = pd.DataFrame(...)\n",
    "\n",
    "# corr_matrix = X_train.corr()\n",
    "\n",
    "# # Get the column names of the DataFrame\n",
    "# columns = corr_matrix.columns\n",
    "\n",
    "# # Create an empty list to keep track of columns to drop\n",
    "# columns_to_drop = []\n",
    "# # Create a dictionary to store highly correlated features\n",
    "# highly_correlated_features = {}\n",
    "\n",
    "# # Loop over the columns\n",
    "# for i in range(len(columns)):\n",
    "#     for j in range(0, len(columns)):  # Loop only over the upper triangle to avoid duplicate comparisons\n",
    "#         # Access the cell of the DataFrame\n",
    "#         if abs(corr_matrix.iloc[i, j]) > 0.90:\n",
    "#             # Sort correlated features based on correlation coefficient\n",
    "#             sorted_features = sorted([(corr_matrix.iloc[i, j], columns[j]), (corr_matrix.iloc[i, i], columns[i])],\n",
    "#                                      key=lambda x: abs(x[0]), reverse=True)\n",
    "#             # Add the column to drop\n",
    "#             columns_to_drop.append(sorted_features[1][1])  # Add the one with lower correlation\n",
    "#             # Update the dictionary with highly correlated features\n",
    "#             if sorted_features[0][1] in highly_correlated_features:\n",
    "#                 highly_correlated_features[sorted_features[0][1]].append(sorted_features[1][1])\n",
    "#             else:\n",
    "#                 highly_correlated_features[sorted_features[0][1]] = [sorted_features[1][1]]\n",
    "\n",
    "# print(len(columns_to_drop))\n"
   ]
  },
  {
   "cell_type": "code",
   "execution_count": 34,
   "metadata": {},
   "outputs": [],
   "source": [
    "# import seaborn as sns\n",
    "\n",
    "# corr_matrix = X_train.corr()\n",
    "\n",
    "# # Get the column names of the DataFrame\n",
    "# columns = corr_matrix.columns\n",
    "\n",
    "# # Define a function to sort correlations in descending order (absolute value)\n",
    "# def sort_correlations(series):\n",
    "#   # Take the absolute value of the series\n",
    "#   abs_series = series.abs()\n",
    "#   # Sort the absolute values in descending order\n",
    "#   return abs_series.sort_values(ascending=False)\n",
    "\n",
    "# # Sort each column of the correlation matrix\n",
    "# sorted_corr_matrix = corr_matrix.apply(sort_correlations)\n",
    "\n",
    "# # Create an empty list to keep track of columns to drop\n",
    "# columns_to_drop = []\n",
    "# # Create a dictionary to store highly correlated features\n",
    "# highly_correlated_features = {}\n",
    "\n",
    "# # Loop over the sorted correlation matrix\n",
    "# for i in range(len(sorted_corr_matrix.columns)):\n",
    "#   # Skip the diagonal (correlation with self)\n",
    "#   if i == sorted_corr_matrix.columns[i]:\n",
    "#     continue\n",
    "#   # Get the current column and sorted correlations\n",
    "#   current_column = sorted_corr_matrix.columns[i]\n",
    "#   sorted_correlations = sorted_corr_matrix.loc[current_column]\n",
    "  \n",
    "#   # Identify highly correlated features (> 0.90) excluding the current column\n",
    "#   highly_correlated_features[current_column] = list(sorted_correlations[sorted_correlations > 0.90].index.difference([current_column]))\n",
    "\n",
    "#   # Update columns to drop based on correlations with the current column\n",
    "#   columns_to_drop.extend(highly_correlated_features[current_column])\n",
    "\n",
    "# # Remove duplicates from columns to drop\n",
    "# columns_to_drop = list(set(columns_to_drop))\n",
    "\n",
    "# print(len(columns_to_drop))"
   ]
  },
  {
   "cell_type": "code",
   "execution_count": 35,
   "metadata": {},
   "outputs": [
    {
     "name": "stdout",
     "output_type": "stream",
     "text": [
      "44\n"
     ]
    }
   ],
   "source": [
    "import seaborn as sns\n",
    "corr_matrix = X_train.corr()\n",
    "\n",
    "# Get the column names of the DataFrame\n",
    "columns = corr_matrix.columns\n",
    "\n",
    "# Create an empty list to keep track of columns to drop\n",
    "columns_to_drop = []\n",
    "# Create a dictionary to store highly correlated features\n",
    "highly_correlated_features = {}\n",
    "\n",
    "# Loop over the columns\n",
    "for i in range(len(columns)):\n",
    "    for j in range(0, len(columns)):\n",
    "        # Access the cell of the DataFrame\n",
    "        if i != j and corr_matrix.iloc[i, j] > 0.90:\n",
    "            # Add the column to drop\n",
    "            columns_to_drop.append(columns[j])\n",
    "            # Update the dictionary with highly correlated features\n",
    "            if columns[i] in highly_correlated_features:\n",
    "                highly_correlated_features[columns[i]].append((columns[j], corr_matrix.iloc[i, j].round(4)))\n",
    "            else:\n",
    "                highly_correlated_features[columns[i]] = [(columns[j], corr_matrix.iloc[i, j].round(4))]\n",
    "\n",
    "\n",
    "print(len(columns_to_drop))"
   ]
  },
  {
   "cell_type": "code",
   "execution_count": 36,
   "metadata": {},
   "outputs": [
    {
     "name": "stdout",
     "output_type": "stream",
     "text": [
      "['stl4_8', 'stl4_7', 'stl4_9', 'stl4_10', 'stl4_8', 'stl4_10', 'stl4_8', 'stl4_9', 'swvl2_7', 'swvl2_8', 'swvl4_10', 'swvl2_9', 'swvl2_10', 'swvl1_7', 'swvl3_7', 'swvl1_8', 'swvl3_8', 'swvl4_9', 'swvl4_10', 'swvl1_9', 'swvl3_9', 'swvl1_10', 'swvl3_10', 'swvl2_7', 'swvl2_8', 'swvl4_9', 'swvl4_10', 'swvl2_9', 'swvl2_10', 'swvl4_8', 'swvl4_7', 'swvl4_9', 'swvl4_10', 'swvl2_8', 'swvl3_8', 'swvl4_8', 'swvl4_10', 'swvl1_8', 'swvl2_8', 'swvl3_8', 'swvl4_8', 'swvl4_9', 'tmin_8', 'tmin_7']\n"
     ]
    }
   ],
   "source": [
    "print(columns_to_drop)"
   ]
  },
  {
   "cell_type": "code",
   "execution_count": 37,
   "metadata": {},
   "outputs": [
    {
     "name": "stdout",
     "output_type": "stream",
     "text": [
      "Highly correlated features:\n",
      "stl4_7 : [('stl4_8', 0.956)]\n",
      "stl4_8 : [('stl4_7', 0.956), ('stl4_9', 0.9691), ('stl4_10', 0.9202)]\n",
      "stl4_9 : [('stl4_8', 0.9691), ('stl4_10', 0.9751)]\n",
      "stl4_10 : [('stl4_8', 0.9202), ('stl4_9', 0.9751)]\n",
      "swvl1_7 : [('swvl2_7', 0.9854)]\n",
      "swvl1_8 : [('swvl2_8', 0.9934), ('swvl4_10', 0.9035)]\n",
      "swvl1_9 : [('swvl2_9', 0.9833)]\n",
      "swvl1_10 : [('swvl2_10', 0.9661)]\n",
      "swvl2_7 : [('swvl1_7', 0.9854), ('swvl3_7', 0.9197)]\n",
      "swvl2_8 : [('swvl1_8', 0.9934), ('swvl3_8', 0.9188), ('swvl4_9', 0.9114), ('swvl4_10', 0.9173)]\n",
      "swvl2_9 : [('swvl1_9', 0.9833), ('swvl3_9', 0.9235)]\n",
      "swvl2_10 : [('swvl1_10', 0.9661), ('swvl3_10', 0.906)]\n",
      "swvl3_7 : [('swvl2_7', 0.9197)]\n",
      "swvl3_8 : [('swvl2_8', 0.9188), ('swvl4_9', 0.9337), ('swvl4_10', 0.9421)]\n",
      "swvl3_9 : [('swvl2_9', 0.9235)]\n",
      "swvl3_10 : [('swvl2_10', 0.906)]\n",
      "swvl4_7 : [('swvl4_8', 0.9312)]\n",
      "swvl4_8 : [('swvl4_7', 0.9312), ('swvl4_9', 0.9462), ('swvl4_10', 0.915)]\n",
      "swvl4_9 : [('swvl2_8', 0.9114), ('swvl3_8', 0.9337), ('swvl4_8', 0.9462), ('swvl4_10', 0.9881)]\n",
      "swvl4_10 : [('swvl1_8', 0.9035), ('swvl2_8', 0.9173), ('swvl3_8', 0.9421), ('swvl4_8', 0.915), ('swvl4_9', 0.9881)]\n",
      "tmin_7 : [('tmin_8', 0.9235)]\n",
      "tmin_8 : [('tmin_7', 0.9235)]\n"
     ]
    }
   ],
   "source": [
    "print(\"Highly correlated features:\")\n",
    "for key, value in highly_correlated_features.items():\n",
    "    print(key, \":\", value)"
   ]
  },
  {
   "cell_type": "code",
   "execution_count": 38,
   "metadata": {},
   "outputs": [
    {
     "ename": "NameError",
     "evalue": "name 'stop' is not defined",
     "output_type": "error",
     "traceback": [
      "\u001b[1;31m---------------------------------------------------------------------------\u001b[0m",
      "\u001b[1;31mNameError\u001b[0m                                 Traceback (most recent call last)",
      "Cell \u001b[1;32mIn[38], line 1\u001b[0m\n\u001b[1;32m----> 1\u001b[0m \u001b[43mstop\u001b[49m\n",
      "\u001b[1;31mNameError\u001b[0m: name 'stop' is not defined"
     ]
    }
   ],
   "source": [
    "stop"
   ]
  },
  {
   "cell_type": "code",
   "execution_count": null,
   "metadata": {},
   "outputs": [],
   "source": [
    "import time\n",
    "def print_accuracy(f):\n",
    "    print(\n",
    "        f\"Root mean squared test error = {np.sqrt(np.mean((f(X_test) - y_test) ** 2))}\"\n",
    "    )\n",
    "    time.sleep(0.5)  # to let the print get out before any progress bars"
   ]
  },
  {
   "cell_type": "code",
   "execution_count": null,
   "metadata": {},
   "outputs": [],
   "source": [
    "from sklearn.ensemble import RandomForestRegressor\n",
    "\n",
    "rforest = RandomForestRegressor(\n",
    "    n_estimators=1000, max_depth=None, min_samples_split=2, random_state=0\n",
    ")\n",
    "rforest.fit(X_train, y_train)\n",
    "print_accuracy(rforest.predict)"
   ]
  },
  {
   "cell_type": "code",
   "execution_count": null,
   "metadata": {},
   "outputs": [],
   "source": [
    "y_pred = rforest.predict(X_test)\n",
    "mse = mean_squared_error(y_test, y_pred)\n",
    "r2 = r2_score(y_test, y_pred)\n",
    "print(mse,r2)"
   ]
  },
  {
   "cell_type": "code",
   "execution_count": null,
   "metadata": {},
   "outputs": [],
   "source": [
    "#pip install shap"
   ]
  },
  {
   "cell_type": "code",
   "execution_count": null,
   "metadata": {},
   "outputs": [],
   "source": [
    "stop"
   ]
  },
  {
   "cell_type": "code",
   "execution_count": null,
   "metadata": {},
   "outputs": [],
   "source": [
    "columns_to_drop = set(columns_to_drop)\n",
    "print(columns_to_drop)"
   ]
  },
  {
   "cell_type": "code",
   "execution_count": null,
   "metadata": {},
   "outputs": [],
   "source": [
    "len(columns_to_drop)"
   ]
  },
  {
   "cell_type": "code",
   "execution_count": null,
   "metadata": {},
   "outputs": [],
   "source": [
    "X_train.drop(columns = columns_to_drop, axis = 1, inplace=True)\n",
    "X_test.drop(columns = columns_to_drop, axis = 1, inplace=True)"
   ]
  },
  {
   "cell_type": "code",
   "execution_count": null,
   "metadata": {},
   "outputs": [],
   "source": [
    "from sklearn.model_selection import train_test_split\n",
    "from sklearn.linear_model import LinearRegression\n",
    "from sklearn.metrics import mean_squared_error, r2_score"
   ]
  },
  {
   "cell_type": "code",
   "execution_count": null,
   "metadata": {},
   "outputs": [],
   "source": [
    "# Import necessary libraries\n",
    "import numpy as np\n",
    "import pandas as pd\n",
    "from sklearn.model_selection import train_test_split\n",
    "from sklearn.linear_model import LinearRegression, Ridge, Lasso\n",
    "from sklearn.tree import DecisionTreeRegressor\n",
    "from sklearn.ensemble import RandomForestRegressor, GradientBoostingRegressor\n",
    "from sklearn.svm import SVR\n",
    "from sklearn.metrics import mean_squared_error, r2_score\n",
    "from sklearn.model_selection import KFold\n",
    "\n",
    "\n",
    "# Create KFold object\n",
    "k = 5\n",
    "kfold = KFold(n_splits=k, shuffle=True)\n",
    "\n",
    "\n",
    "# Models\n",
    "models = {\n",
    "    \"Linear Regression\": LinearRegression(),\n",
    "    \"Ridge Regression\": Ridge(),\n",
    "    \"Lasso Regression\": Lasso(),\n",
    "    \"Decision Tree\": DecisionTreeRegressor(),\n",
    "    \"Gradient Boosting\": GradientBoostingRegressor(),\n",
    "    \"Random Forest\": RandomForestRegressor(),\n",
    "    \"Support Vector Machine\": SVR()\n",
    "}\n",
    "\n",
    "# Train and evaluate each model\n",
    "for name, model in models.items():\n",
    "    mse_scores = []\n",
    "    r2_scores = []\n",
    "\n",
    "    for train_index, test_index in kfold.split(X):\n",
    "        X_train, X_test = X[train_index], X[test_index]\n",
    "        y_train, y_test = y[train_index], y[test_index]\n",
    "    model.fit(X_train, y_train)\n",
    "    y_pred = model.predict(X_test)\n",
    "    mse = mean_squared_error(y_test, y_pred)\n",
    "    r2 = r2_score(y_test, y_pred)\n",
    "    print(f'{name} - Mean Squared Error: {mse:.2f}, R^2 Score: {r2:.2f}')\n"
   ]
  },
  {
   "cell_type": "code",
   "execution_count": null,
   "metadata": {},
   "outputs": [],
   "source": [
    "import xarray\n",
    "data = xarray.open_dataset(r\"C:\\Users\\Kanishk Goyal\\OneDrive - IIT Kanpur\\Desktop\\Prof. Hamim Zafar\\Data\\Relative humidity\\1month_mean_Global_ea_r2_199703_v02.grib\", engine='cfgrib')\n",
    "data.to_netcdf(r\"C:\\Users\\Kanishk Goyal\\OneDrive - IIT Kanpur\\Desktop\\Prof. Hamim Zafar\\Data\\Relative humidity\\1month_mean_Global_ea_r2_199703_v02.nc\")"
   ]
  },
  {
   "cell_type": "code",
   "execution_count": null,
   "metadata": {},
   "outputs": [],
   "source": []
  },
  {
   "cell_type": "code",
   "execution_count": null,
   "metadata": {},
   "outputs": [],
   "source": []
  },
  {
   "cell_type": "code",
   "execution_count": null,
   "metadata": {},
   "outputs": [],
   "source": []
  },
  {
   "cell_type": "code",
   "execution_count": null,
   "metadata": {},
   "outputs": [],
   "source": []
  },
  {
   "cell_type": "code",
   "execution_count": null,
   "metadata": {},
   "outputs": [],
   "source": []
  },
  {
   "cell_type": "code",
   "execution_count": null,
   "metadata": {},
   "outputs": [],
   "source": []
  },
  {
   "cell_type": "code",
   "execution_count": null,
   "metadata": {},
   "outputs": [],
   "source": []
  },
  {
   "cell_type": "code",
   "execution_count": null,
   "metadata": {},
   "outputs": [],
   "source": []
  },
  {
   "cell_type": "code",
   "execution_count": null,
   "metadata": {},
   "outputs": [],
   "source": []
  },
  {
   "cell_type": "code",
   "execution_count": null,
   "metadata": {},
   "outputs": [],
   "source": []
  },
  {
   "cell_type": "code",
   "execution_count": null,
   "metadata": {},
   "outputs": [],
   "source": []
  },
  {
   "cell_type": "code",
   "execution_count": null,
   "metadata": {},
   "outputs": [],
   "source": []
  },
  {
   "cell_type": "code",
   "execution_count": null,
   "metadata": {},
   "outputs": [],
   "source": []
  },
  {
   "cell_type": "code",
   "execution_count": null,
   "metadata": {},
   "outputs": [],
   "source": []
  },
  {
   "cell_type": "code",
   "execution_count": null,
   "metadata": {},
   "outputs": [],
   "source": []
  },
  {
   "cell_type": "code",
   "execution_count": null,
   "metadata": {},
   "outputs": [],
   "source": []
  },
  {
   "cell_type": "code",
   "execution_count": null,
   "metadata": {},
   "outputs": [],
   "source": []
  },
  {
   "cell_type": "code",
   "execution_count": null,
   "metadata": {},
   "outputs": [],
   "source": []
  },
  {
   "cell_type": "code",
   "execution_count": null,
   "metadata": {},
   "outputs": [],
   "source": []
  },
  {
   "cell_type": "code",
   "execution_count": null,
   "metadata": {},
   "outputs": [],
   "source": []
  },
  {
   "cell_type": "code",
   "execution_count": null,
   "metadata": {},
   "outputs": [],
   "source": []
  },
  {
   "cell_type": "code",
   "execution_count": null,
   "metadata": {},
   "outputs": [],
   "source": []
  },
  {
   "cell_type": "code",
   "execution_count": null,
   "metadata": {},
   "outputs": [],
   "source": []
  },
  {
   "cell_type": "code",
   "execution_count": null,
   "metadata": {},
   "outputs": [],
   "source": []
  },
  {
   "cell_type": "code",
   "execution_count": null,
   "metadata": {},
   "outputs": [],
   "source": []
  },
  {
   "cell_type": "code",
   "execution_count": null,
   "metadata": {},
   "outputs": [],
   "source": []
  },
  {
   "cell_type": "code",
   "execution_count": null,
   "metadata": {},
   "outputs": [],
   "source": []
  },
  {
   "cell_type": "code",
   "execution_count": null,
   "metadata": {},
   "outputs": [],
   "source": []
  },
  {
   "cell_type": "code",
   "execution_count": null,
   "metadata": {},
   "outputs": [],
   "source": []
  },
  {
   "cell_type": "code",
   "execution_count": null,
   "metadata": {},
   "outputs": [],
   "source": []
  },
  {
   "cell_type": "code",
   "execution_count": null,
   "metadata": {},
   "outputs": [],
   "source": []
  },
  {
   "cell_type": "code",
   "execution_count": null,
   "metadata": {},
   "outputs": [],
   "source": []
  },
  {
   "cell_type": "code",
   "execution_count": null,
   "metadata": {},
   "outputs": [],
   "source": []
  },
  {
   "cell_type": "code",
   "execution_count": null,
   "metadata": {},
   "outputs": [],
   "source": []
  },
  {
   "cell_type": "code",
   "execution_count": null,
   "metadata": {},
   "outputs": [],
   "source": []
  },
  {
   "cell_type": "code",
   "execution_count": null,
   "metadata": {},
   "outputs": [],
   "source": []
  },
  {
   "cell_type": "code",
   "execution_count": null,
   "metadata": {},
   "outputs": [],
   "source": []
  },
  {
   "cell_type": "code",
   "execution_count": null,
   "metadata": {},
   "outputs": [],
   "source": []
  },
  {
   "cell_type": "code",
   "execution_count": null,
   "metadata": {},
   "outputs": [],
   "source": []
  },
  {
   "cell_type": "code",
   "execution_count": null,
   "metadata": {},
   "outputs": [],
   "source": []
  }
 ],
 "metadata": {
  "kernelspec": {
   "display_name": "Python 3",
   "language": "python",
   "name": "python3"
  },
  "language_info": {
   "codemirror_mode": {
    "name": "ipython",
    "version": 3
   },
   "file_extension": ".py",
   "mimetype": "text/x-python",
   "name": "python",
   "nbconvert_exporter": "python",
   "pygments_lexer": "ipython3",
   "version": "3.11.4"
  }
 },
 "nbformat": 4,
 "nbformat_minor": 2
}
