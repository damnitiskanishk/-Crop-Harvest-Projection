{
 "cells": [
  {
   "cell_type": "code",
   "execution_count": 1,
   "metadata": {},
   "outputs": [],
   "source": [
    "import numpy as np \n",
    "import pandas as pd\n",
    "import seaborn as sns\n",
    "import matplotlib.pyplot as plt\n",
    "from sklearn.preprocessing import LabelEncoder\n",
    "from sklearn.model_selection import train_test_split\n",
    "from sklearn.linear_model import LinearRegression\n",
    "from sklearn.metrics import mean_squared_error, r2_score\n",
    "import seaborn as sns"
   ]
  },
  {
   "cell_type": "code",
   "execution_count": 2,
   "metadata": {},
   "outputs": [],
   "source": [
    "df = pd.read_csv(r\"C:\\Users\\Kanishk Goyal\\OneDrive - IIT Kanpur\\Desktop\\Prof. Hamim Zafar\\Data\\Final Data\\Urad\\Urad_Karnataka.csv\")\n",
    "df = df.drop(columns=['latitude','longitude','DistrictName', 'year'])\n",
    "# df = df.sample(frac=1).reset_index(drop=True)\n",
    "#df = df.drop(columns=['DistrictName','latitude','longitude','year','year_mask'])"
   ]
  },
  {
   "cell_type": "code",
   "execution_count": 3,
   "metadata": {},
   "outputs": [],
   "source": [
    "df = df.rename(columns={'Yield(tonnes/hectare)':'Yield(Tonnes/Hectare)'},inplace=False)"
   ]
  },
  {
   "cell_type": "code",
   "execution_count": 4,
   "metadata": {},
   "outputs": [],
   "source": [
    "df = df.drop(columns=['stl2_7','stl2_8', 'stl2_9', 'stl2_10', 'stl3_7', 'stl3_8', 'stl3_9', 'stl3_10'])"
   ]
  },
  {
   "cell_type": "code",
   "execution_count": 5,
   "metadata": {},
   "outputs": [
    {
     "data": {
      "text/plain": [
       "Index(['stl1_7', 'stl1_8', 'stl1_9', 'stl1_10', 'stl4_7', 'stl4_8', 'stl4_9',\n",
       "       'stl4_10', 'swvl1_7', 'swvl1_8', 'swvl1_9', 'swvl1_10', 'swvl2_7',\n",
       "       'swvl2_8', 'swvl2_9', 'swvl2_10', 'swvl3_7', 'swvl3_8', 'swvl3_9',\n",
       "       'swvl3_10', 'swvl4_7', 'swvl4_8', 'swvl4_9', 'swvl4_10', 'ssr_7',\n",
       "       'ssr_8', 'ssr_9', 'ssr_10', 'u10_7', 'u10_8', 'u10_9', 'u10_10',\n",
       "       'v10_7', 'v10_8', 'v10_9', 'v10_10', 'tmax_7', 'tmax_8', 'tmax_9',\n",
       "       'tmax_10', 'tmin_7', 'tmin_8', 'tmin_9', 'tmin_10', 'rain_7', 'rain_8',\n",
       "       'rain_9', 'rain_10', 'countrain_7', 'countrain_8', 'countrain_9',\n",
       "       'countrain_10', 'rh_7', 'rh_8', 'rh_9', 'rh_10',\n",
       "       'Yield(Tonnes/Hectare)'],\n",
       "      dtype='object')"
      ]
     },
     "execution_count": 5,
     "metadata": {},
     "output_type": "execute_result"
    }
   ],
   "source": [
    "df.columns"
   ]
  },
  {
   "cell_type": "code",
   "execution_count": 6,
   "metadata": {},
   "outputs": [],
   "source": [
    "# df['stl1'] = (df['stl1_1'] + df['stl1_2'])/2\n",
    "# df['stl2'] = (df['stl2_1'] + df['stl2_2'])/2\n",
    "# df['stl3'] = (df['stl3_1'] + df['stl3_2'])/2\n",
    "# df['stl4'] = (df['stl4_1'] + df['stl4_2'])/2\n",
    "# df['swvl1'] = (df['swvl1_1'] + df['swvl1_2'])/2\n",
    "# df['swvl2'] = (df['swvl2_1'] + df['swvl2_2'])/2\n",
    "# df['swvl3'] = (df['swvl3_1'] + df['swvl3_2'])/2\n",
    "# df['swvl4'] = (df['swvl4_1'] + df['swvl4_2'])/2\n",
    "# df['ssr'] = (df['ssr_1'] + df['ssr_2'])/2\n",
    "# df['rain'] = (df['rain_1'] + df['rain_2'])/2\n",
    "# df['tmax'] = (df['tmax_1'] + df['tmax_2'])/2\n",
    "# df['tmin'] = (df['tmin_1'] + df['tmin_2'])/2\n",
    "# df['countrain'] = df['countrain_1'] + df['countrain_2']\n",
    "# df['u10'] = (df['u10_3']+df['u10_4'])/2\n",
    "# df['v10'] = (df['v10_3']+df['v10_4'])/2\n",
    "# df['rh'] = (df['rh_3']+df['rh_4'])/2"
   ]
  },
  {
   "cell_type": "code",
   "execution_count": 7,
   "metadata": {},
   "outputs": [],
   "source": [
    "# df = df.drop(columns=['stl1_1','stl1_2','stl2_1','stl2_2','stl3_1','stl3_2','stl4_1','stl4_2','swvl1_1','swvl1_2','swvl2_1','swvl2_2','swvl3_1','swvl3_2','swvl4_1','swvl4_2','ssr_1','ssr_2','rain_1','rain_2','tmax_1','tmax_2','tmin_1','tmin_2','countrain_1','countrain_2','u10_3','u10_4','v10_3','v10_4','rh_3','rh_4'],axis=1)"
   ]
  },
  {
   "cell_type": "code",
   "execution_count": 8,
   "metadata": {},
   "outputs": [
    {
     "data": {
      "text/plain": [
       "(780, 57)"
      ]
     },
     "execution_count": 8,
     "metadata": {},
     "output_type": "execute_result"
    }
   ],
   "source": [
    "df.shape"
   ]
  },
  {
   "cell_type": "code",
   "execution_count": 9,
   "metadata": {},
   "outputs": [
    {
     "data": {
      "text/plain": [
       "Index(['stl1_7', 'stl1_8', 'stl1_9', 'stl1_10', 'stl4_7', 'stl4_8', 'stl4_9',\n",
       "       'stl4_10', 'swvl1_7', 'swvl1_8', 'swvl1_9', 'swvl1_10', 'swvl2_7',\n",
       "       'swvl2_8', 'swvl2_9', 'swvl2_10', 'swvl3_7', 'swvl3_8', 'swvl3_9',\n",
       "       'swvl3_10', 'swvl4_7', 'swvl4_8', 'swvl4_9', 'swvl4_10', 'ssr_7',\n",
       "       'ssr_8', 'ssr_9', 'ssr_10', 'u10_7', 'u10_8', 'u10_9', 'u10_10',\n",
       "       'v10_7', 'v10_8', 'v10_9', 'v10_10', 'tmax_7', 'tmax_8', 'tmax_9',\n",
       "       'tmax_10', 'tmin_7', 'tmin_8', 'tmin_9', 'tmin_10', 'rain_7', 'rain_8',\n",
       "       'rain_9', 'rain_10', 'countrain_7', 'countrain_8', 'countrain_9',\n",
       "       'countrain_10', 'rh_7', 'rh_8', 'rh_9', 'rh_10',\n",
       "       'Yield(Tonnes/Hectare)'],\n",
       "      dtype='object')"
      ]
     },
     "execution_count": 9,
     "metadata": {},
     "output_type": "execute_result"
    }
   ],
   "source": [
    "df.columns"
   ]
  },
  {
   "cell_type": "code",
   "execution_count": 10,
   "metadata": {},
   "outputs": [],
   "source": [
    "df = df.dropna(subset=['Yield(Tonnes/Hectare)'])"
   ]
  },
  {
   "cell_type": "code",
   "execution_count": 11,
   "metadata": {},
   "outputs": [
    {
     "data": {
      "text/plain": [
       "(434, 57)"
      ]
     },
     "execution_count": 11,
     "metadata": {},
     "output_type": "execute_result"
    }
   ],
   "source": [
    "df.shape"
   ]
  },
  {
   "cell_type": "code",
   "execution_count": 12,
   "metadata": {},
   "outputs": [
    {
     "data": {
      "text/plain": [
       "0.33520397447453254"
      ]
     },
     "execution_count": 12,
     "metadata": {},
     "output_type": "execute_result"
    }
   ],
   "source": [
    "df['Yield(Tonnes/Hectare)'].skew()"
   ]
  },
  {
   "cell_type": "code",
   "execution_count": 13,
   "metadata": {},
   "outputs": [
    {
     "name": "stderr",
     "output_type": "stream",
     "text": [
      "C:\\Users\\Kanishk Goyal\\AppData\\Local\\Temp\\ipykernel_8536\\994257175.py:1: UserWarning: \n",
      "\n",
      "`distplot` is a deprecated function and will be removed in seaborn v0.14.0.\n",
      "\n",
      "Please adapt your code to use either `displot` (a figure-level function with\n",
      "similar flexibility) or `histplot` (an axes-level function for histograms).\n",
      "\n",
      "For a guide to updating your code to use the new functions, please see\n",
      "https://gist.github.com/mwaskom/de44147ed2974457ad6372750bbe5751\n",
      "\n",
      "  sns.distplot(df['Yield(Tonnes/Hectare)'],color='green')\n"
     ]
    },
    {
     "data": {
      "text/plain": [
       "<Axes: xlabel='Yield(Tonnes/Hectare)', ylabel='Density'>"
      ]
     },
     "execution_count": 13,
     "metadata": {},
     "output_type": "execute_result"
    },
    {
     "data": {
      "image/png": "[encoded data removed]",
      "text/plain": [
       "<Figure size 640x480 with 1 Axes>"
      ]
     },
     "metadata": {},
     "output_type": "display_data"
    }
   ],
   "source": [
    "sns.distplot(df['Yield(Tonnes/Hectare)'],color='green')"
   ]
  },
  {
   "cell_type": "code",
   "execution_count": 14,
   "metadata": {},
   "outputs": [
    {
     "data": {
      "text/plain": [
       "2      0.33\n",
       "3      0.39\n",
       "4      0.37\n",
       "5      0.16\n",
       "6      0.03\n",
       "       ... \n",
       "772    0.09\n",
       "773    0.60\n",
       "774    0.67\n",
       "775    0.47\n",
       "776    0.50\n",
       "Name: Yield(Tonnes/Hectare), Length: 434, dtype: float64"
      ]
     },
     "execution_count": 14,
     "metadata": {},
     "output_type": "execute_result"
    }
   ],
   "source": [
    "df['Yield(Tonnes/Hectare)']"
   ]
  },
  {
   "cell_type": "code",
   "execution_count": 15,
   "metadata": {},
   "outputs": [
    {
     "name": "stdout",
     "output_type": "stream",
     "text": [
      "Number of points in the final DataFrame after handling outliers: 432\n"
     ]
    }
   ],
   "source": [
    "Q1 = df['Yield(Tonnes/Hectare)'].quantile(0.25)\n",
    "Q3 = df['Yield(Tonnes/Hectare)'].quantile(0.75)\n",
    "IQR = Q3 - Q1\n",
    "\n",
    "lower_bound = Q1 - 1.5 * IQR\n",
    "upper_bound = Q3 + 1.5 * IQR\n",
    "\n",
    "df['Yield_no_outliers'] = np.where((df['Yield(Tonnes/Hectare)'] < lower_bound) | (df['Yield(Tonnes/Hectare)'] > upper_bound), np.nan, df['Yield(Tonnes/Hectare)'])\n",
    "\n",
    "num_points_after_handling_outliers = df['Yield_no_outliers'].count()\n",
    "print(\"Number of points in the final DataFrame after handling outliers:\", num_points_after_handling_outliers)"
   ]
  },
  {
   "cell_type": "code",
   "execution_count": 16,
   "metadata": {},
   "outputs": [],
   "source": [
    "df = df.dropna(subset=['Yield_no_outliers'])\n",
    "df = df.drop(columns=['Yield(Tonnes/Hectare)'])"
   ]
  },
  {
   "cell_type": "code",
   "execution_count": 17,
   "metadata": {},
   "outputs": [],
   "source": [
    "df.rename(columns={'Yield_no_outliers': 'Yield(Tonnes/Hectare)'}, inplace=True)"
   ]
  },
  {
   "cell_type": "code",
   "execution_count": 18,
   "metadata": {},
   "outputs": [
    {
     "data": {
      "text/plain": [
       "-0.019213607972963277"
      ]
     },
     "execution_count": 18,
     "metadata": {},
     "output_type": "execute_result"
    }
   ],
   "source": [
    "df['Yield(Tonnes/Hectare)'].skew()"
   ]
  },
  {
   "cell_type": "code",
   "execution_count": 19,
   "metadata": {},
   "outputs": [
    {
     "name": "stderr",
     "output_type": "stream",
     "text": [
      "C:\\Users\\Kanishk Goyal\\AppData\\Local\\Temp\\ipykernel_8536\\1820324139.py:1: UserWarning: \n",
      "\n",
      "`distplot` is a deprecated function and will be removed in seaborn v0.14.0.\n",
      "\n",
      "Please adapt your code to use either `displot` (a figure-level function with\n",
      "similar flexibility) or `histplot` (an axes-level function for histograms).\n",
      "\n",
      "For a guide to updating your code to use the new functions, please see\n",
      "https://gist.github.com/mwaskom/de44147ed2974457ad6372750bbe5751\n",
      "\n",
      "  sns.distplot(df['Yield(Tonnes/Hectare)'])\n"
     ]
    },
    {
     "data": {
      "text/plain": [
       "<Axes: xlabel='Yield(Tonnes/Hectare)', ylabel='Density'>"
      ]
     },
     "execution_count": 19,
     "metadata": {},
     "output_type": "execute_result"
    },
    {
     "data": {
      "image/png": "[encoded data removed]",
      "text/plain": [
       "<Figure size 640x480 with 1 Axes>"
      ]
     },
     "metadata": {},
     "output_type": "display_data"
    }
   ],
   "source": [
    "sns.distplot(df['Yield(Tonnes/Hectare)'])"
   ]
  },
  {
   "cell_type": "code",
   "execution_count": 20,
   "metadata": {},
   "outputs": [
    {
     "data": {
      "text/html": [
       "<div>\n",
       "<style scoped>\n",
       "    .dataframe tbody tr th:only-of-type {\n",
       "        vertical-align: middle;\n",
       "    }\n",
       "\n",
       "    .dataframe tbody tr th {\n",
       "        vertical-align: top;\n",
       "    }\n",
       "\n",
       "    .dataframe thead th {\n",
       "        text-align: right;\n",
       "    }\n",
       "</style>\n",
       "<table border=\"1\" class=\"dataframe\">\n",
       "  <thead>\n",
       "    <tr style=\"text-align: right;\">\n",
       "      <th></th>\n",
       "      <th>stl1_7</th>\n",
       "      <th>stl1_8</th>\n",
       "      <th>stl1_9</th>\n",
       "      <th>stl1_10</th>\n",
       "      <th>stl4_7</th>\n",
       "      <th>stl4_8</th>\n",
       "      <th>stl4_9</th>\n",
       "      <th>stl4_10</th>\n",
       "      <th>swvl1_7</th>\n",
       "      <th>swvl1_8</th>\n",
       "      <th>...</th>\n",
       "      <th>rain_10</th>\n",
       "      <th>countrain_7</th>\n",
       "      <th>countrain_8</th>\n",
       "      <th>countrain_9</th>\n",
       "      <th>countrain_10</th>\n",
       "      <th>rh_7</th>\n",
       "      <th>rh_8</th>\n",
       "      <th>rh_9</th>\n",
       "      <th>rh_10</th>\n",
       "      <th>Yield(Tonnes/Hectare)</th>\n",
       "    </tr>\n",
       "  </thead>\n",
       "  <tbody>\n",
       "    <tr>\n",
       "      <th>2</th>\n",
       "      <td>23.709196</td>\n",
       "      <td>24.094590</td>\n",
       "      <td>25.560040</td>\n",
       "      <td>23.412315</td>\n",
       "      <td>25.039887</td>\n",
       "      <td>24.625525</td>\n",
       "      <td>24.574990</td>\n",
       "      <td>24.610345</td>\n",
       "      <td>0.258284</td>\n",
       "      <td>0.249051</td>\n",
       "      <td>...</td>\n",
       "      <td>11.068744</td>\n",
       "      <td>5</td>\n",
       "      <td>7</td>\n",
       "      <td>6</td>\n",
       "      <td>25</td>\n",
       "      <td>76.591713</td>\n",
       "      <td>74.610118</td>\n",
       "      <td>70.154912</td>\n",
       "      <td>85.710644</td>\n",
       "      <td>0.33</td>\n",
       "    </tr>\n",
       "    <tr>\n",
       "      <th>3</th>\n",
       "      <td>24.294176</td>\n",
       "      <td>23.451553</td>\n",
       "      <td>24.040889</td>\n",
       "      <td>23.437735</td>\n",
       "      <td>25.239051</td>\n",
       "      <td>25.019417</td>\n",
       "      <td>24.544540</td>\n",
       "      <td>24.311922</td>\n",
       "      <td>0.229524</td>\n",
       "      <td>0.350556</td>\n",
       "      <td>...</td>\n",
       "      <td>8.904226</td>\n",
       "      <td>5</td>\n",
       "      <td>23</td>\n",
       "      <td>18</td>\n",
       "      <td>13</td>\n",
       "      <td>71.652933</td>\n",
       "      <td>81.074302</td>\n",
       "      <td>81.117259</td>\n",
       "      <td>74.728520</td>\n",
       "      <td>0.39</td>\n",
       "    </tr>\n",
       "    <tr>\n",
       "      <th>4</th>\n",
       "      <td>23.942125</td>\n",
       "      <td>23.527677</td>\n",
       "      <td>24.793450</td>\n",
       "      <td>23.511671</td>\n",
       "      <td>25.745236</td>\n",
       "      <td>25.181311</td>\n",
       "      <td>24.911198</td>\n",
       "      <td>24.685728</td>\n",
       "      <td>0.280500</td>\n",
       "      <td>0.295511</td>\n",
       "      <td>...</td>\n",
       "      <td>5.788409</td>\n",
       "      <td>7</td>\n",
       "      <td>10</td>\n",
       "      <td>13</td>\n",
       "      <td>10</td>\n",
       "      <td>76.606217</td>\n",
       "      <td>77.766316</td>\n",
       "      <td>75.658348</td>\n",
       "      <td>80.224693</td>\n",
       "      <td>0.37</td>\n",
       "    </tr>\n",
       "    <tr>\n",
       "      <th>5</th>\n",
       "      <td>25.314220</td>\n",
       "      <td>24.343950</td>\n",
       "      <td>26.299711</td>\n",
       "      <td>24.677754</td>\n",
       "      <td>26.474396</td>\n",
       "      <td>26.041270</td>\n",
       "      <td>25.756197</td>\n",
       "      <td>25.817894</td>\n",
       "      <td>0.200968</td>\n",
       "      <td>0.248262</td>\n",
       "      <td>...</td>\n",
       "      <td>5.374678</td>\n",
       "      <td>4</td>\n",
       "      <td>6</td>\n",
       "      <td>6</td>\n",
       "      <td>15</td>\n",
       "      <td>70.839536</td>\n",
       "      <td>73.404560</td>\n",
       "      <td>66.350382</td>\n",
       "      <td>75.726766</td>\n",
       "      <td>0.16</td>\n",
       "    </tr>\n",
       "    <tr>\n",
       "      <th>6</th>\n",
       "      <td>23.478519</td>\n",
       "      <td>23.737516</td>\n",
       "      <td>24.494094</td>\n",
       "      <td>23.601106</td>\n",
       "      <td>26.750727</td>\n",
       "      <td>25.936543</td>\n",
       "      <td>25.301642</td>\n",
       "      <td>25.051874</td>\n",
       "      <td>0.332141</td>\n",
       "      <td>0.323012</td>\n",
       "      <td>...</td>\n",
       "      <td>8.770233</td>\n",
       "      <td>11</td>\n",
       "      <td>7</td>\n",
       "      <td>5</td>\n",
       "      <td>16</td>\n",
       "      <td>79.651299</td>\n",
       "      <td>79.117374</td>\n",
       "      <td>72.429678</td>\n",
       "      <td>83.379458</td>\n",
       "      <td>0.03</td>\n",
       "    </tr>\n",
       "    <tr>\n",
       "      <th>7</th>\n",
       "      <td>23.791477</td>\n",
       "      <td>23.669602</td>\n",
       "      <td>24.257623</td>\n",
       "      <td>23.497620</td>\n",
       "      <td>25.049767</td>\n",
       "      <td>24.604046</td>\n",
       "      <td>24.427334</td>\n",
       "      <td>24.307016</td>\n",
       "      <td>0.295839</td>\n",
       "      <td>0.269590</td>\n",
       "      <td>...</td>\n",
       "      <td>4.658655</td>\n",
       "      <td>12</td>\n",
       "      <td>9</td>\n",
       "      <td>9</td>\n",
       "      <td>10</td>\n",
       "      <td>77.156044</td>\n",
       "      <td>74.118138</td>\n",
       "      <td>77.603097</td>\n",
       "      <td>79.497822</td>\n",
       "      <td>0.21</td>\n",
       "    </tr>\n",
       "    <tr>\n",
       "      <th>8</th>\n",
       "      <td>24.338915</td>\n",
       "      <td>24.233177</td>\n",
       "      <td>24.335711</td>\n",
       "      <td>23.816728</td>\n",
       "      <td>26.044777</td>\n",
       "      <td>25.498543</td>\n",
       "      <td>25.143385</td>\n",
       "      <td>24.926316</td>\n",
       "      <td>0.285036</td>\n",
       "      <td>0.286678</td>\n",
       "      <td>...</td>\n",
       "      <td>14.515860</td>\n",
       "      <td>14</td>\n",
       "      <td>17</td>\n",
       "      <td>11</td>\n",
       "      <td>27</td>\n",
       "      <td>76.341629</td>\n",
       "      <td>73.881485</td>\n",
       "      <td>74.712601</td>\n",
       "      <td>84.665413</td>\n",
       "      <td>0.29</td>\n",
       "    </tr>\n",
       "    <tr>\n",
       "      <th>9</th>\n",
       "      <td>24.191867</td>\n",
       "      <td>24.324287</td>\n",
       "      <td>24.542716</td>\n",
       "      <td>24.129131</td>\n",
       "      <td>25.375334</td>\n",
       "      <td>25.047292</td>\n",
       "      <td>24.908446</td>\n",
       "      <td>24.750231</td>\n",
       "      <td>0.244806</td>\n",
       "      <td>0.227082</td>\n",
       "      <td>...</td>\n",
       "      <td>5.273883</td>\n",
       "      <td>8</td>\n",
       "      <td>7</td>\n",
       "      <td>12</td>\n",
       "      <td>9</td>\n",
       "      <td>73.513614</td>\n",
       "      <td>73.452042</td>\n",
       "      <td>78.054531</td>\n",
       "      <td>80.143599</td>\n",
       "      <td>0.23</td>\n",
       "    </tr>\n",
       "    <tr>\n",
       "      <th>10</th>\n",
       "      <td>23.601935</td>\n",
       "      <td>23.343523</td>\n",
       "      <td>23.624950</td>\n",
       "      <td>23.596280</td>\n",
       "      <td>25.897060</td>\n",
       "      <td>25.142666</td>\n",
       "      <td>24.650859</td>\n",
       "      <td>24.383552</td>\n",
       "      <td>0.328787</td>\n",
       "      <td>0.342526</td>\n",
       "      <td>...</td>\n",
       "      <td>6.849870</td>\n",
       "      <td>9</td>\n",
       "      <td>9</td>\n",
       "      <td>8</td>\n",
       "      <td>14</td>\n",
       "      <td>80.373647</td>\n",
       "      <td>80.077706</td>\n",
       "      <td>80.962934</td>\n",
       "      <td>80.043151</td>\n",
       "      <td>0.28</td>\n",
       "    </tr>\n",
       "    <tr>\n",
       "      <th>11</th>\n",
       "      <td>23.951956</td>\n",
       "      <td>23.321796</td>\n",
       "      <td>23.749059</td>\n",
       "      <td>23.608477</td>\n",
       "      <td>24.927123</td>\n",
       "      <td>24.523326</td>\n",
       "      <td>24.215259</td>\n",
       "      <td>24.142796</td>\n",
       "      <td>0.316316</td>\n",
       "      <td>0.352766</td>\n",
       "      <td>...</td>\n",
       "      <td>5.740240</td>\n",
       "      <td>12</td>\n",
       "      <td>14</td>\n",
       "      <td>8</td>\n",
       "      <td>18</td>\n",
       "      <td>77.062846</td>\n",
       "      <td>80.778695</td>\n",
       "      <td>76.177106</td>\n",
       "      <td>79.786564</td>\n",
       "      <td>0.38</td>\n",
       "    </tr>\n",
       "  </tbody>\n",
       "</table>\n",
       "<p>10 rows × 57 columns</p>\n",
       "</div>"
      ],
      "text/plain": [
       "       stl1_7     stl1_8     stl1_9    stl1_10     stl4_7     stl4_8  \\\n",
       "2   23.709196  24.094590  25.560040  23.412315  25.039887  24.625525   \n",
       "3   24.294176  23.451553  24.040889  23.437735  25.239051  25.019417   \n",
       "4   23.942125  23.527677  24.793450  23.511671  25.745236  25.181311   \n",
       "5   25.314220  24.343950  26.299711  24.677754  26.474396  26.041270   \n",
       "6   23.478519  23.737516  24.494094  23.601106  26.750727  25.936543   \n",
       "7   23.791477  23.669602  24.257623  23.497620  25.049767  24.604046   \n",
       "8   24.338915  24.233177  24.335711  23.816728  26.044777  25.498543   \n",
       "9   24.191867  24.324287  24.542716  24.129131  25.375334  25.047292   \n",
       "10  23.601935  23.343523  23.624950  23.596280  25.897060  25.142666   \n",
       "11  23.951956  23.321796  23.749059  23.608477  24.927123  24.523326   \n",
       "\n",
       "       stl4_9    stl4_10   swvl1_7   swvl1_8  ...    rain_10  countrain_7  \\\n",
       "2   24.574990  24.610345  0.258284  0.249051  ...  11.068744            5   \n",
       "3   24.544540  24.311922  0.229524  0.350556  ...   8.904226            5   \n",
       "4   24.911198  24.685728  0.280500  0.295511  ...   5.788409            7   \n",
       "5   25.756197  25.817894  0.200968  0.248262  ...   5.374678            4   \n",
       "6   25.301642  25.051874  0.332141  0.323012  ...   8.770233           11   \n",
       "7   24.427334  24.307016  0.295839  0.269590  ...   4.658655           12   \n",
       "8   25.143385  24.926316  0.285036  0.286678  ...  14.515860           14   \n",
       "9   24.908446  24.750231  0.244806  0.227082  ...   5.273883            8   \n",
       "10  24.650859  24.383552  0.328787  0.342526  ...   6.849870            9   \n",
       "11  24.215259  24.142796  0.316316  0.352766  ...   5.740240           12   \n",
       "\n",
       "    countrain_8  countrain_9  countrain_10       rh_7       rh_8       rh_9  \\\n",
       "2             7            6            25  76.591713  74.610118  70.154912   \n",
       "3            23           18            13  71.652933  81.074302  81.117259   \n",
       "4            10           13            10  76.606217  77.766316  75.658348   \n",
       "5             6            6            15  70.839536  73.404560  66.350382   \n",
       "6             7            5            16  79.651299  79.117374  72.429678   \n",
       "7             9            9            10  77.156044  74.118138  77.603097   \n",
       "8            17           11            27  76.341629  73.881485  74.712601   \n",
       "9             7           12             9  73.513614  73.452042  78.054531   \n",
       "10            9            8            14  80.373647  80.077706  80.962934   \n",
       "11           14            8            18  77.062846  80.778695  76.177106   \n",
       "\n",
       "        rh_10  Yield(Tonnes/Hectare)  \n",
       "2   85.710644                   0.33  \n",
       "3   74.728520                   0.39  \n",
       "4   80.224693                   0.37  \n",
       "5   75.726766                   0.16  \n",
       "6   83.379458                   0.03  \n",
       "7   79.497822                   0.21  \n",
       "8   84.665413                   0.29  \n",
       "9   80.143599                   0.23  \n",
       "10  80.043151                   0.28  \n",
       "11  79.786564                   0.38  \n",
       "\n",
       "[10 rows x 57 columns]"
      ]
     },
     "execution_count": 20,
     "metadata": {},
     "output_type": "execute_result"
    }
   ],
   "source": [
    "df.head(10)"
   ]
  },
  {
   "cell_type": "code",
   "execution_count": 21,
   "metadata": {},
   "outputs": [
    {
     "data": {
      "text/plain": [
       "(432, 57)"
      ]
     },
     "execution_count": 21,
     "metadata": {},
     "output_type": "execute_result"
    }
   ],
   "source": [
    "df.shape"
   ]
  },
  {
   "cell_type": "code",
   "execution_count": 22,
   "metadata": {},
   "outputs": [],
   "source": [
    "# cat_cols = ['DistrictName', 'year']\n",
    "# # Label encode categorical columns\n",
    "# encoder = LabelEncoder()\n",
    "# df[cat_cols] = df[cat_cols].apply(encoder.fit_transform)"
   ]
  },
  {
   "cell_type": "code",
   "execution_count": 23,
   "metadata": {},
   "outputs": [
    {
     "data": {
      "text/html": [
       "<div>\n",
       "<style scoped>\n",
       "    .dataframe tbody tr th:only-of-type {\n",
       "        vertical-align: middle;\n",
       "    }\n",
       "\n",
       "    .dataframe tbody tr th {\n",
       "        vertical-align: top;\n",
       "    }\n",
       "\n",
       "    .dataframe thead th {\n",
       "        text-align: right;\n",
       "    }\n",
       "</style>\n",
       "<table border=\"1\" class=\"dataframe\">\n",
       "  <thead>\n",
       "    <tr style=\"text-align: right;\">\n",
       "      <th></th>\n",
       "      <th>stl1_7</th>\n",
       "      <th>stl1_8</th>\n",
       "      <th>stl1_9</th>\n",
       "      <th>stl1_10</th>\n",
       "      <th>stl4_7</th>\n",
       "      <th>stl4_8</th>\n",
       "      <th>stl4_9</th>\n",
       "      <th>stl4_10</th>\n",
       "      <th>swvl1_7</th>\n",
       "      <th>swvl1_8</th>\n",
       "      <th>...</th>\n",
       "      <th>rain_10</th>\n",
       "      <th>countrain_7</th>\n",
       "      <th>countrain_8</th>\n",
       "      <th>countrain_9</th>\n",
       "      <th>countrain_10</th>\n",
       "      <th>rh_7</th>\n",
       "      <th>rh_8</th>\n",
       "      <th>rh_9</th>\n",
       "      <th>rh_10</th>\n",
       "      <th>Yield(Tonnes/Hectare)</th>\n",
       "    </tr>\n",
       "  </thead>\n",
       "  <tbody>\n",
       "    <tr>\n",
       "      <th>2</th>\n",
       "      <td>23.709196</td>\n",
       "      <td>24.094590</td>\n",
       "      <td>25.560040</td>\n",
       "      <td>23.412315</td>\n",
       "      <td>25.039887</td>\n",
       "      <td>24.625525</td>\n",
       "      <td>24.574990</td>\n",
       "      <td>24.610345</td>\n",
       "      <td>0.258284</td>\n",
       "      <td>0.249051</td>\n",
       "      <td>...</td>\n",
       "      <td>11.068744</td>\n",
       "      <td>5</td>\n",
       "      <td>7</td>\n",
       "      <td>6</td>\n",
       "      <td>25</td>\n",
       "      <td>76.591713</td>\n",
       "      <td>74.610118</td>\n",
       "      <td>70.154912</td>\n",
       "      <td>85.710644</td>\n",
       "      <td>0.33</td>\n",
       "    </tr>\n",
       "    <tr>\n",
       "      <th>3</th>\n",
       "      <td>24.294176</td>\n",
       "      <td>23.451553</td>\n",
       "      <td>24.040889</td>\n",
       "      <td>23.437735</td>\n",
       "      <td>25.239051</td>\n",
       "      <td>25.019417</td>\n",
       "      <td>24.544540</td>\n",
       "      <td>24.311922</td>\n",
       "      <td>0.229524</td>\n",
       "      <td>0.350556</td>\n",
       "      <td>...</td>\n",
       "      <td>8.904226</td>\n",
       "      <td>5</td>\n",
       "      <td>23</td>\n",
       "      <td>18</td>\n",
       "      <td>13</td>\n",
       "      <td>71.652933</td>\n",
       "      <td>81.074302</td>\n",
       "      <td>81.117259</td>\n",
       "      <td>74.728520</td>\n",
       "      <td>0.39</td>\n",
       "    </tr>\n",
       "    <tr>\n",
       "      <th>4</th>\n",
       "      <td>23.942125</td>\n",
       "      <td>23.527677</td>\n",
       "      <td>24.793450</td>\n",
       "      <td>23.511671</td>\n",
       "      <td>25.745236</td>\n",
       "      <td>25.181311</td>\n",
       "      <td>24.911198</td>\n",
       "      <td>24.685728</td>\n",
       "      <td>0.280500</td>\n",
       "      <td>0.295511</td>\n",
       "      <td>...</td>\n",
       "      <td>5.788409</td>\n",
       "      <td>7</td>\n",
       "      <td>10</td>\n",
       "      <td>13</td>\n",
       "      <td>10</td>\n",
       "      <td>76.606217</td>\n",
       "      <td>77.766316</td>\n",
       "      <td>75.658348</td>\n",
       "      <td>80.224693</td>\n",
       "      <td>0.37</td>\n",
       "    </tr>\n",
       "    <tr>\n",
       "      <th>5</th>\n",
       "      <td>25.314220</td>\n",
       "      <td>24.343950</td>\n",
       "      <td>26.299711</td>\n",
       "      <td>24.677754</td>\n",
       "      <td>26.474396</td>\n",
       "      <td>26.041270</td>\n",
       "      <td>25.756197</td>\n",
       "      <td>25.817894</td>\n",
       "      <td>0.200968</td>\n",
       "      <td>0.248262</td>\n",
       "      <td>...</td>\n",
       "      <td>5.374678</td>\n",
       "      <td>4</td>\n",
       "      <td>6</td>\n",
       "      <td>6</td>\n",
       "      <td>15</td>\n",
       "      <td>70.839536</td>\n",
       "      <td>73.404560</td>\n",
       "      <td>66.350382</td>\n",
       "      <td>75.726766</td>\n",
       "      <td>0.16</td>\n",
       "    </tr>\n",
       "    <tr>\n",
       "      <th>6</th>\n",
       "      <td>23.478519</td>\n",
       "      <td>23.737516</td>\n",
       "      <td>24.494094</td>\n",
       "      <td>23.601106</td>\n",
       "      <td>26.750727</td>\n",
       "      <td>25.936543</td>\n",
       "      <td>25.301642</td>\n",
       "      <td>25.051874</td>\n",
       "      <td>0.332141</td>\n",
       "      <td>0.323012</td>\n",
       "      <td>...</td>\n",
       "      <td>8.770233</td>\n",
       "      <td>11</td>\n",
       "      <td>7</td>\n",
       "      <td>5</td>\n",
       "      <td>16</td>\n",
       "      <td>79.651299</td>\n",
       "      <td>79.117374</td>\n",
       "      <td>72.429678</td>\n",
       "      <td>83.379458</td>\n",
       "      <td>0.03</td>\n",
       "    </tr>\n",
       "  </tbody>\n",
       "</table>\n",
       "<p>5 rows × 57 columns</p>\n",
       "</div>"
      ],
      "text/plain": [
       "      stl1_7     stl1_8     stl1_9    stl1_10     stl4_7     stl4_8  \\\n",
       "2  23.709196  24.094590  25.560040  23.412315  25.039887  24.625525   \n",
       "3  24.294176  23.451553  24.040889  23.437735  25.239051  25.019417   \n",
       "4  23.942125  23.527677  24.793450  23.511671  25.745236  25.181311   \n",
       "5  25.314220  24.343950  26.299711  24.677754  26.474396  26.041270   \n",
       "6  23.478519  23.737516  24.494094  23.601106  26.750727  25.936543   \n",
       "\n",
       "      stl4_9    stl4_10   swvl1_7   swvl1_8  ...    rain_10  countrain_7  \\\n",
       "2  24.574990  24.610345  0.258284  0.249051  ...  11.068744            5   \n",
       "3  24.544540  24.311922  0.229524  0.350556  ...   8.904226            5   \n",
       "4  24.911198  24.685728  0.280500  0.295511  ...   5.788409            7   \n",
       "5  25.756197  25.817894  0.200968  0.248262  ...   5.374678            4   \n",
       "6  25.301642  25.051874  0.332141  0.323012  ...   8.770233           11   \n",
       "\n",
       "   countrain_8  countrain_9  countrain_10       rh_7       rh_8       rh_9  \\\n",
       "2            7            6            25  76.591713  74.610118  70.154912   \n",
       "3           23           18            13  71.652933  81.074302  81.117259   \n",
       "4           10           13            10  76.606217  77.766316  75.658348   \n",
       "5            6            6            15  70.839536  73.404560  66.350382   \n",
       "6            7            5            16  79.651299  79.117374  72.429678   \n",
       "\n",
       "       rh_10  Yield(Tonnes/Hectare)  \n",
       "2  85.710644                   0.33  \n",
       "3  74.728520                   0.39  \n",
       "4  80.224693                   0.37  \n",
       "5  75.726766                   0.16  \n",
       "6  83.379458                   0.03  \n",
       "\n",
       "[5 rows x 57 columns]"
      ]
     },
     "execution_count": 23,
     "metadata": {},
     "output_type": "execute_result"
    }
   ],
   "source": [
    "df.head()"
   ]
  },
  {
   "cell_type": "code",
   "execution_count": 24,
   "metadata": {},
   "outputs": [
    {
     "data": {
      "text/plain": [
       "(432, 57)"
      ]
     },
     "execution_count": 24,
     "metadata": {},
     "output_type": "execute_result"
    }
   ],
   "source": [
    "df.shape"
   ]
  },
  {
   "cell_type": "code",
   "execution_count": 25,
   "metadata": {},
   "outputs": [
    {
     "data": {
      "text/plain": [
       "Index(['stl1_7', 'stl1_8', 'stl1_9', 'stl1_10', 'stl4_7', 'stl4_8', 'stl4_9',\n",
       "       'stl4_10', 'swvl1_7', 'swvl1_8', 'swvl1_9', 'swvl1_10', 'swvl2_7',\n",
       "       'swvl2_8', 'swvl2_9', 'swvl2_10', 'swvl3_7', 'swvl3_8', 'swvl3_9',\n",
       "       'swvl3_10', 'swvl4_7', 'swvl4_8', 'swvl4_9', 'swvl4_10', 'ssr_7',\n",
       "       'ssr_8', 'ssr_9', 'ssr_10', 'u10_7', 'u10_8', 'u10_9', 'u10_10',\n",
       "       'v10_7', 'v10_8', 'v10_9', 'v10_10', 'tmax_7', 'tmax_8', 'tmax_9',\n",
       "       'tmax_10', 'tmin_7', 'tmin_8', 'tmin_9', 'tmin_10', 'rain_7', 'rain_8',\n",
       "       'rain_9', 'rain_10', 'countrain_7', 'countrain_8', 'countrain_9',\n",
       "       'countrain_10', 'rh_7', 'rh_8', 'rh_9', 'rh_10',\n",
       "       'Yield(Tonnes/Hectare)'],\n",
       "      dtype='object')"
      ]
     },
     "execution_count": 25,
     "metadata": {},
     "output_type": "execute_result"
    }
   ],
   "source": [
    "df.columns"
   ]
  },
  {
   "cell_type": "code",
   "execution_count": 26,
   "metadata": {},
   "outputs": [],
   "source": [
    "#df = df[['countrain_11', 'countrain_12', 'countrain_1','countrain_2', 'countrain_3', 'countrain_4', 'rain_11', 'rain_12','rain_1', 'rain_2', 'rain_3', 'rain_4','tmax_11', 'tmax_12', 'tmax_1','tmax_2', 'tmax_3', 'tmax_4', 'tmin_11', 'tmin_12', 'tmin_1', 'tmin_2','tmin_3', 'tmin_4','Yield(Tonnes/Hectare)']]"
   ]
  },
  {
   "cell_type": "code",
   "execution_count": 27,
   "metadata": {},
   "outputs": [],
   "source": [
    "#df = df.drop(columns=['countrain_11', 'countrain_12', 'countrain_1','countrain_2', 'countrain_3', 'countrain_4', 'rain_11', 'rain_12','rain_1', 'rain_2', 'rain_3', 'rain_4','tmax_11', 'tmax_12', 'tmax_1','tmax_2', 'tmax_3', 'tmax_4', 'tmin_11', 'tmin_12', 'tmin_1', 'tmin_2','tmin_3', 'tmin_4'])"
   ]
  },
  {
   "cell_type": "code",
   "execution_count": 28,
   "metadata": {},
   "outputs": [
    {
     "data": {
      "text/plain": [
       "(432, 57)"
      ]
     },
     "execution_count": 28,
     "metadata": {},
     "output_type": "execute_result"
    }
   ],
   "source": [
    "df.shape"
   ]
  },
  {
   "cell_type": "code",
   "execution_count": 29,
   "metadata": {},
   "outputs": [],
   "source": [
    "X = df.drop('Yield(Tonnes/Hectare)', axis=1)  # Features\n",
    "y = df['Yield(Tonnes/Hectare)']  # Target variable\n",
    "\n",
    "# Split the dataset into training and testing sets\n",
    "#X_train, X_test, y_train, y_test = train_test_split(X, y, test_size=0.2, random_state=42)"
   ]
  },
  {
   "cell_type": "code",
   "execution_count": 30,
   "metadata": {},
   "outputs": [],
   "source": [
    "# X = X.drop(columns=['stl2','stl3'],axis=1)"
   ]
  },
  {
   "cell_type": "code",
   "execution_count": 31,
   "metadata": {},
   "outputs": [
    {
     "name": "stdout",
     "output_type": "stream",
     "text": [
      "Linear Regression - R^2 Score (Train) : 0.35, R^2 Score (Test): 0.06\n",
      "[0.09309621176327654, 0.02202526825632889, -0.08555017897361794, 0.04126537179658152, -0.16208005966347283, 0.26886465352873856, -0.0015928440340102767, 0.34323689324075857, 0.11265945307118475, -0.018333380303177327]\n",
      "Ridge Regression - R^2 Score (Train) : 0.31, R^2 Score (Test): 0.08\n",
      "[-0.249582193199549, -0.05121251513676994, 0.28263148002248273, 0.08189060960334948, 0.08321405204580312, 0.047688171465232077, 0.3925602388003754, 0.1347222661729912, 0.1908148447511746, -0.08265275300701491]\n",
      "XGB Regressor - R^2 Score (Train) : 1.00, R^2 Score (Test): 0.14\n",
      "[0.22625535211504333, 0.009704106413525149, -0.008657697521993857, 0.2497228950421243, 0.18598607434708936, 0.32189458234670987, 0.09902012057228604, 0.14652051518480724, 0.02461676796878509, 0.19440233996813205]\n",
      "Lasso Regression - R^2 Score (Train) : 0.05, R^2 Score (Test): -0.01\n",
      "[0.09621769723081675, 0.07934780699365884, 0.010171124086269967, -0.0354341469029853, -0.038521037167393635, -0.20279433526719126, 0.029677496597002695, 0.011120794576571336, -0.024593905276834027, -0.022301519546055415]\n",
      "Decision Tree - R^2 Score (Train) : 1.00, R^2 Score (Test): -0.69\n",
      "[-1.0333747340719888, -1.0234232298270114, -0.46233104967966887, -0.33746474649195135, -1.4345970275495405, -0.86118367176152, -0.6208817211285511, -0.15713874049608756, -0.8233599175403712, -0.17586547879594527]\n",
      "Gradient Boosting - R^2 Score (Train) : 0.88, R^2 Score (Test): 0.15\n",
      "[0.25928549970712134, 0.014076591680319384, 0.14173798073638944, 0.2058826422073462, 0.0832739599234038, 0.40132303307751926, 0.19241293104079304, 0.13600131183289788, 0.21387008327544332, -0.19657932413737722]\n",
      "Random Forest - R^2 Score (Train) : 0.89, R^2 Score (Test): 0.15\n",
      "[0.025083094452773902, 0.0007251473341870485, 0.23560488796917345, 0.20058877046522983, 0.3289125686805622, 0.22973126479095463, 0.17130601070838913, 0.2714861954624781, 0.01771670611195042, 0.02997394280203458]\n",
      "Support Vector Machine - R^2 Score (Train) : 0.05, R^2 Score (Test): -0.01\n",
      "[-0.0971490157593573, -0.029809051738888703, 0.07225396786390159, 0.06206189711986143, -0.019541781023969085, -0.025860882382243044, -0.007684509686517682, -0.05965420170780278, 0.029118148100077068, 0.01952219216499751]\n"
     ]
    }
   ],
   "source": [
    "# Import necessary libraries\n",
    "import numpy as np\n",
    "import pandas as pd\n",
    "from sklearn.model_selection import train_test_split\n",
    "from sklearn.linear_model import LinearRegression, Ridge, Lasso\n",
    "from sklearn.tree import DecisionTreeRegressor\n",
    "from sklearn.ensemble import RandomForestRegressor, GradientBoostingRegressor\n",
    "from sklearn.svm import SVR\n",
    "import xgboost as xgb\n",
    "from sklearn.metrics import mean_squared_error, r2_score\n",
    "from sklearn.model_selection import KFold\n",
    "\n",
    "\n",
    "\n",
    "\n",
    "# Models\n",
    "models = {\n",
    "    \"Linear Regression\": LinearRegression(),\n",
    "    \"Ridge Regression\": Ridge(),\n",
    "    \"XGB Regressor\": xgb.XGBRegressor(objective='reg:squarederror', random_state=42),\n",
    "    \"Lasso Regression\": Lasso(),\n",
    "    \"Decision Tree\": DecisionTreeRegressor(),\n",
    "    \"Gradient Boosting\": GradientBoostingRegressor(),\n",
    "    \"Random Forest\": RandomForestRegressor(),\n",
    "    \"Support Vector Machine\": SVR()\n",
    "}\n",
    "\n",
    "# Train and evaluate each model\n",
    "for name, model in models.items():\n",
    "\n",
    "    mse_scores_test = []\n",
    "    mse_scores_train = []\n",
    "    r2_scores_test = []\n",
    "    r2_scores_train = []\n",
    "    # Create KFold object\n",
    "    k = 10\n",
    "    kfold = KFold(n_splits=k, shuffle=True)\n",
    "\n",
    "    for train_index, test_index in kfold.split(X):\n",
    "        X_train, X_test = X.iloc[train_index], X.iloc[test_index]\n",
    "        y_train, y_test = y.iloc[train_index], y.iloc[test_index]\n",
    "        model.fit(X_train, y_train)\n",
    "        y_pred_test = model.predict(X_test)\n",
    "        y_pred_train = model.predict(X_train)\n",
    "        mse_test = mean_squared_error(y_test, y_pred_test)\n",
    "        mse_train = mean_squared_error(y_train, y_pred_train)\n",
    "        r2_test = r2_score(y_test, y_pred_test)\n",
    "        r2_train = r2_score(y_train, y_pred_train)\n",
    "        mse_scores_test.append(mse_test)\n",
    "        mse_scores_train.append(mse_train)\n",
    "        r2_scores_test.append(r2_test)\n",
    "        r2_scores_train.append(r2_train)\n",
    "\n",
    "    average_mse_test = np.mean(mse_scores_test)\n",
    "    average_mse_train = np.mean(mse_scores_train)\n",
    "    average_r2_test = np.mean(r2_scores_test)\n",
    "    average_r2_train = np.mean(r2_scores_train)  \n",
    "\n",
    "    print(f'{name} - R^2 Score (Train) : {average_r2_train:.2f}, R^2 Score (Test): {average_r2_test:.2f}')\n",
    "    print(r2_scores_test)\n"
   ]
  },
  {
   "cell_type": "code",
   "execution_count": 32,
   "metadata": {},
   "outputs": [],
   "source": [
    "X_train, X_test, y_train, y_test = train_test_split(X, y, test_size=0.2, random_state=42)"
   ]
  },
  {
   "cell_type": "code",
   "execution_count": 33,
   "metadata": {},
   "outputs": [],
   "source": [
    "# import pandas as pd\n",
    "\n",
    "# # Assuming X_train is your DataFrame\n",
    "# # X_train = pd.DataFrame(...)\n",
    "\n",
    "# corr_matrix = X_train.corr()\n",
    "\n",
    "# # Get the column names of the DataFrame\n",
    "# columns = corr_matrix.columns\n",
    "\n",
    "# # Create an empty list to keep track of columns to drop\n",
    "# columns_to_drop = []\n",
    "# # Create a dictionary to store highly correlated features\n",
    "# highly_correlated_features = {}\n",
    "\n",
    "# # Loop over the columns\n",
    "# for i in range(len(columns)):\n",
    "#     for j in range(0, len(columns)):  # Loop only over the upper triangle to avoid duplicate comparisons\n",
    "#         # Access the cell of the DataFrame\n",
    "#         if abs(corr_matrix.iloc[i, j]) > 0.90:\n",
    "#             # Sort correlated features based on correlation coefficient\n",
    "#             sorted_features = sorted([(corr_matrix.iloc[i, j], columns[j]), (corr_matrix.iloc[i, i], columns[i])],\n",
    "#                                      key=lambda x: abs(x[0]), reverse=True)\n",
    "#             # Add the column to drop\n",
    "#             columns_to_drop.append(sorted_features[1][1])  # Add the one with lower correlation\n",
    "#             # Update the dictionary with highly correlated features\n",
    "#             if sorted_features[0][1] in highly_correlated_features:\n",
    "#                 highly_correlated_features[sorted_features[0][1]].append(sorted_features[1][1])\n",
    "#             else:\n",
    "#                 highly_correlated_features[sorted_features[0][1]] = [sorted_features[1][1]]\n",
    "\n",
    "# print(len(columns_to_drop))\n"
   ]
  },
  {
   "cell_type": "code",
   "execution_count": 34,
   "metadata": {},
   "outputs": [],
   "source": [
    "# import seaborn as sns\n",
    "\n",
    "# corr_matrix = X_train.corr()\n",
    "\n",
    "# # Get the column names of the DataFrame\n",
    "# columns = corr_matrix.columns\n",
    "\n",
    "# # Define a function to sort correlations in descending order (absolute value)\n",
    "# def sort_correlations(series):\n",
    "#   # Take the absolute value of the series\n",
    "#   abs_series = series.abs()\n",
    "#   # Sort the absolute values in descending order\n",
    "#   return abs_series.sort_values(ascending=False)\n",
    "\n",
    "# # Sort each column of the correlation matrix\n",
    "# sorted_corr_matrix = corr_matrix.apply(sort_correlations)\n",
    "\n",
    "# # Create an empty list to keep track of columns to drop\n",
    "# columns_to_drop = []\n",
    "# # Create a dictionary to store highly correlated features\n",
    "# highly_correlated_features = {}\n",
    "\n",
    "# # Loop over the sorted correlation matrix\n",
    "# for i in range(len(sorted_corr_matrix.columns)):\n",
    "#   # Skip the diagonal (correlation with self)\n",
    "#   if i == sorted_corr_matrix.columns[i]:\n",
    "#     continue\n",
    "#   # Get the current column and sorted correlations\n",
    "#   current_column = sorted_corr_matrix.columns[i]\n",
    "#   sorted_correlations = sorted_corr_matrix.loc[current_column]\n",
    "  \n",
    "#   # Identify highly correlated features (> 0.90) excluding the current column\n",
    "#   highly_correlated_features[current_column] = list(sorted_correlations[sorted_correlations > 0.90].index.difference([current_column]))\n",
    "\n",
    "#   # Update columns to drop based on correlations with the current column\n",
    "#   columns_to_drop.extend(highly_correlated_features[current_column])\n",
    "\n",
    "# # Remove duplicates from columns to drop\n",
    "# columns_to_drop = list(set(columns_to_drop))\n",
    "\n",
    "# print(len(columns_to_drop))"
   ]
  },
  {
   "cell_type": "code",
   "execution_count": 35,
   "metadata": {},
   "outputs": [
    {
     "name": "stdout",
     "output_type": "stream",
     "text": [
      "76\n"
     ]
    }
   ],
   "source": [
    "import seaborn as sns\n",
    "corr_matrix = X_train.corr()\n",
    "\n",
    "# Get the column names of the DataFrame\n",
    "columns = corr_matrix.columns\n",
    "\n",
    "# Create an empty list to keep track of columns to drop\n",
    "columns_to_drop = []\n",
    "# Create a dictionary to store highly correlated features\n",
    "highly_correlated_features = {}\n",
    "\n",
    "# Loop over the columns\n",
    "for i in range(len(columns)):\n",
    "    for j in range(0, len(columns)):\n",
    "        # Access the cell of the DataFrame\n",
    "        if i != j and corr_matrix.iloc[i, j] > 0.90:\n",
    "            # Add the column to drop\n",
    "            columns_to_drop.append(columns[j])\n",
    "            # Update the dictionary with highly correlated features\n",
    "            if columns[i] in highly_correlated_features:\n",
    "                highly_correlated_features[columns[i]].append((columns[j], corr_matrix.iloc[i, j].round(4)))\n",
    "            else:\n",
    "                highly_correlated_features[columns[i]] = [(columns[j], corr_matrix.iloc[i, j].round(4))]\n",
    "\n",
    "\n",
    "print(len(columns_to_drop))"
   ]
  },
  {
   "cell_type": "code",
   "execution_count": 36,
   "metadata": {},
   "outputs": [
    {
     "name": "stdout",
     "output_type": "stream",
     "text": [
      "['stl1_8', 'stl4_8', 'stl4_9', 'stl4_10', 'stl1_7', 'stl1_9', 'stl4_7', 'stl4_8', 'stl4_9', 'stl4_10', 'stl1_8', 'stl4_9', 'stl4_10', 'stl1_8', 'stl4_8', 'stl4_9', 'stl4_10', 'stl1_7', 'stl1_8', 'stl4_7', 'stl4_9', 'stl4_10', 'stl1_7', 'stl1_8', 'stl1_9', 'stl4_7', 'stl4_8', 'stl4_10', 'stl1_7', 'stl1_8', 'stl1_9', 'stl4_7', 'stl4_8', 'stl4_9', 'swvl2_7', 'swvl2_8', 'swvl2_9', 'swvl1_7', 'swvl3_7', 'swvl3_8', 'swvl1_8', 'swvl3_8', 'swvl3_9', 'swvl1_9', 'swvl3_9', 'swvl3_10', 'swvl2_7', 'swvl3_8', 'swvl2_7', 'swvl2_8', 'swvl3_7', 'swvl3_9', 'swvl2_8', 'swvl2_9', 'swvl3_8', 'swvl2_9', 'swvl4_8', 'swvl4_9', 'swvl4_10', 'swvl4_7', 'swvl4_9', 'swvl4_10', 'swvl4_7', 'swvl4_8', 'swvl4_10', 'swvl4_7', 'swvl4_8', 'swvl4_9', 'tmax_8', 'tmax_7', 'tmin_8', 'tmin_9', 'tmin_7', 'tmin_9', 'tmin_7', 'tmin_8']\n"
     ]
    }
   ],
   "source": [
    "print(columns_to_drop)"
   ]
  },
  {
   "cell_type": "code",
   "execution_count": 37,
   "metadata": {},
   "outputs": [
    {
     "name": "stdout",
     "output_type": "stream",
     "text": [
      "Highly correlated features:\n",
      "stl1_7 : [('stl1_8', 0.9216), ('stl4_8', 0.9142), ('stl4_9', 0.9336), ('stl4_10', 0.938)]\n",
      "stl1_8 : [('stl1_7', 0.9216), ('stl1_9', 0.9143), ('stl4_7', 0.9029), ('stl4_8', 0.9356), ('stl4_9', 0.9587), ('stl4_10', 0.9601)]\n",
      "stl1_9 : [('stl1_8', 0.9143), ('stl4_9', 0.9044), ('stl4_10', 0.9355)]\n",
      "stl4_7 : [('stl1_8', 0.9029), ('stl4_8', 0.9933), ('stl4_9', 0.981), ('stl4_10', 0.9692)]\n",
      "stl4_8 : [('stl1_7', 0.9142), ('stl1_8', 0.9356), ('stl4_7', 0.9933), ('stl4_9', 0.9958), ('stl4_10', 0.9876)]\n",
      "stl4_9 : [('stl1_7', 0.9336), ('stl1_8', 0.9587), ('stl1_9', 0.9044), ('stl4_7', 0.981), ('stl4_8', 0.9958), ('stl4_10', 0.9952)]\n",
      "stl4_10 : [('stl1_7', 0.938), ('stl1_8', 0.9601), ('stl1_9', 0.9355), ('stl4_7', 0.9692), ('stl4_8', 0.9876), ('stl4_9', 0.9952)]\n",
      "swvl1_7 : [('swvl2_7', 0.9457)]\n",
      "swvl1_8 : [('swvl2_8', 0.9507)]\n",
      "swvl1_9 : [('swvl2_9', 0.9662)]\n",
      "swvl2_7 : [('swvl1_7', 0.9457), ('swvl3_7', 0.9241), ('swvl3_8', 0.9435)]\n",
      "swvl2_8 : [('swvl1_8', 0.9507), ('swvl3_8', 0.9333), ('swvl3_9', 0.9197)]\n",
      "swvl2_9 : [('swvl1_9', 0.9662), ('swvl3_9', 0.9464), ('swvl3_10', 0.9304)]\n",
      "swvl3_7 : [('swvl2_7', 0.9241), ('swvl3_8', 0.9197)]\n",
      "swvl3_8 : [('swvl2_7', 0.9435), ('swvl2_8', 0.9333), ('swvl3_7', 0.9197), ('swvl3_9', 0.9289)]\n",
      "swvl3_9 : [('swvl2_8', 0.9197), ('swvl2_9', 0.9464), ('swvl3_8', 0.9289)]\n",
      "swvl3_10 : [('swvl2_9', 0.9304)]\n",
      "swvl4_7 : [('swvl4_8', 0.9877), ('swvl4_9', 0.9725), ('swvl4_10', 0.957)]\n",
      "swvl4_8 : [('swvl4_7', 0.9877), ('swvl4_9', 0.9918), ('swvl4_10', 0.9752)]\n",
      "swvl4_9 : [('swvl4_7', 0.9725), ('swvl4_8', 0.9918), ('swvl4_10', 0.99)]\n",
      "swvl4_10 : [('swvl4_7', 0.957), ('swvl4_8', 0.9752), ('swvl4_9', 0.99)]\n",
      "tmax_7 : [('tmax_8', 0.9075)]\n",
      "tmax_8 : [('tmax_7', 0.9075)]\n",
      "tmin_7 : [('tmin_8', 0.9783), ('tmin_9', 0.9616)]\n",
      "tmin_8 : [('tmin_7', 0.9783), ('tmin_9', 0.9765)]\n",
      "tmin_9 : [('tmin_7', 0.9616), ('tmin_8', 0.9765)]\n"
     ]
    }
   ],
   "source": [
    "print(\"Highly correlated features:\")\n",
    "for key, value in highly_correlated_features.items():\n",
    "    print(key, \":\", value)"
   ]
  },
  {
   "cell_type": "code",
   "execution_count": 38,
   "metadata": {},
   "outputs": [
    {
     "ename": "NameError",
     "evalue": "name 'stop' is not defined",
     "output_type": "error",
     "traceback": [
      "\u001b[1;31m---------------------------------------------------------------------------\u001b[0m",
      "\u001b[1;31mNameError\u001b[0m                                 Traceback (most recent call last)",
      "Cell \u001b[1;32mIn[38], line 1\u001b[0m\n\u001b[1;32m----> 1\u001b[0m \u001b[43mstop\u001b[49m\n",
      "\u001b[1;31mNameError\u001b[0m: name 'stop' is not defined"
     ]
    }
   ],
   "source": [
    "stop"
   ]
  },
  {
   "cell_type": "code",
   "execution_count": null,
   "metadata": {},
   "outputs": [],
   "source": [
    "import time\n",
    "def print_accuracy(f):\n",
    "    print(\n",
    "        f\"Root mean squared test error = {np.sqrt(np.mean((f(X_test) - y_test) ** 2))}\"\n",
    "    )\n",
    "    time.sleep(0.5)  # to let the print get out before any progress bars"
   ]
  },
  {
   "cell_type": "code",
   "execution_count": null,
   "metadata": {},
   "outputs": [],
   "source": [
    "from sklearn.ensemble import RandomForestRegressor\n",
    "\n",
    "rforest = RandomForestRegressor(\n",
    "    n_estimators=1000, max_depth=None, min_samples_split=2, random_state=0\n",
    ")\n",
    "rforest.fit(X_train, y_train)\n",
    "print_accuracy(rforest.predict)"
   ]
  },
  {
   "cell_type": "code",
   "execution_count": null,
   "metadata": {},
   "outputs": [],
   "source": [
    "y_pred = rforest.predict(X_test)\n",
    "mse = mean_squared_error(y_test, y_pred)\n",
    "r2 = r2_score(y_test, y_pred)\n",
    "print(mse,r2)"
   ]
  },
  {
   "cell_type": "code",
   "execution_count": null,
   "metadata": {},
   "outputs": [],
   "source": [
    "#pip install shap"
   ]
  },
  {
   "cell_type": "code",
   "execution_count": null,
   "metadata": {},
   "outputs": [],
   "source": [
    "stop"
   ]
  },
  {
   "cell_type": "code",
   "execution_count": null,
   "metadata": {},
   "outputs": [],
   "source": [
    "columns_to_drop = set(columns_to_drop)\n",
    "print(columns_to_drop)"
   ]
  },
  {
   "cell_type": "code",
   "execution_count": null,
   "metadata": {},
   "outputs": [],
   "source": [
    "len(columns_to_drop)"
   ]
  },
  {
   "cell_type": "code",
   "execution_count": null,
   "metadata": {},
   "outputs": [],
   "source": [
    "X_train.drop(columns = columns_to_drop, axis = 1, inplace=True)\n",
    "X_test.drop(columns = columns_to_drop, axis = 1, inplace=True)"
   ]
  },
  {
   "cell_type": "code",
   "execution_count": null,
   "metadata": {},
   "outputs": [],
   "source": [
    "from sklearn.model_selection import train_test_split\n",
    "from sklearn.linear_model import LinearRegression\n",
    "from sklearn.metrics import mean_squared_error, r2_score"
   ]
  },
  {
   "cell_type": "code",
   "execution_count": null,
   "metadata": {},
   "outputs": [],
   "source": [
    "# Import necessary libraries\n",
    "import numpy as np\n",
    "import pandas as pd\n",
    "from sklearn.model_selection import train_test_split\n",
    "from sklearn.linear_model import LinearRegression, Ridge, Lasso\n",
    "from sklearn.tree import DecisionTreeRegressor\n",
    "from sklearn.ensemble import RandomForestRegressor, GradientBoostingRegressor\n",
    "from sklearn.svm import SVR\n",
    "from sklearn.metrics import mean_squared_error, r2_score\n",
    "from sklearn.model_selection import KFold\n",
    "\n",
    "\n",
    "# Create KFold object\n",
    "k = 5\n",
    "kfold = KFold(n_splits=k, shuffle=True)\n",
    "\n",
    "\n",
    "# Models\n",
    "models = {\n",
    "    \"Linear Regression\": LinearRegression(),\n",
    "    \"Ridge Regression\": Ridge(),\n",
    "    \"Lasso Regression\": Lasso(),\n",
    "    \"Decision Tree\": DecisionTreeRegressor(),\n",
    "    \"Gradient Boosting\": GradientBoostingRegressor(),\n",
    "    \"Random Forest\": RandomForestRegressor(),\n",
    "    \"Support Vector Machine\": SVR()\n",
    "}\n",
    "\n",
    "# Train and evaluate each model\n",
    "for name, model in models.items():\n",
    "    mse_scores = []\n",
    "    r2_scores = []\n",
    "\n",
    "    for train_index, test_index in kfold.split(X):\n",
    "        X_train, X_test = X[train_index], X[test_index]\n",
    "        y_train, y_test = y[train_index], y[test_index]\n",
    "    model.fit(X_train, y_train)\n",
    "    y_pred = model.predict(X_test)\n",
    "    mse = mean_squared_error(y_test, y_pred)\n",
    "    r2 = r2_score(y_test, y_pred)\n",
    "    print(f'{name} - Mean Squared Error: {mse:.2f}, R^2 Score: {r2:.2f}')\n"
   ]
  },
  {
   "cell_type": "code",
   "execution_count": null,
   "metadata": {},
   "outputs": [],
   "source": [
    "import xarray\n",
    "data = xarray.open_dataset(r\"C:\\Users\\Kanishk Goyal\\OneDrive - IIT Kanpur\\Desktop\\Prof. Hamim Zafar\\Data\\Relative humidity\\1month_mean_Global_ea_r2_199703_v02.grib\", engine='cfgrib')\n",
    "data.to_netcdf(r\"C:\\Users\\Kanishk Goyal\\OneDrive - IIT Kanpur\\Desktop\\Prof. Hamim Zafar\\Data\\Relative humidity\\1month_mean_Global_ea_r2_199703_v02.nc\")"
   ]
  },
  {
   "cell_type": "code",
   "execution_count": null,
   "metadata": {},
   "outputs": [],
   "source": []
  }
 ],
 "metadata": {
  "kernelspec": {
   "display_name": "Python 3",
   "language": "python",
   "name": "python3"
  },
  "language_info": {
   "codemirror_mode": {
    "name": "ipython",
    "version": 3
   },
   "file_extension": ".py",
   "mimetype": "text/x-python",
   "name": "python",
   "nbconvert_exporter": "python",
   "pygments_lexer": "ipython3",
   "version": "3.11.4"
  }
 },
 "nbformat": 4,
 "nbformat_minor": 2
}
