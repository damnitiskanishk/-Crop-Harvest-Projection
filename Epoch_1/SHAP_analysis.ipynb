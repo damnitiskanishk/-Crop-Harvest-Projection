{
 "cells": [
  {
   "cell_type": "code",
   "execution_count": null,
   "metadata": {},
   "outputs": [],
   "source": [
    "#pip install shap"
   ]
  },
  {
   "cell_type": "code",
   "execution_count": null,
   "metadata": {},
   "outputs": [],
   "source": [
    "import time \n",
    "import shap \n",
    "import pandas as pd \n",
    "import numpy as np \n",
    "import seaborn as sns\n",
    "import matplotlib.pyplot as plt\n",
    "from sklearn.preprocessing import LabelEncoder\n",
    "from sklearn.model_selection import train_test_split\n",
    "from sklearn.metrics import mean_squared_error, r2_score"
   ]
  },
  {
   "cell_type": "code",
   "execution_count": null,
   "metadata": {},
   "outputs": [],
   "source": [
    "df = pd.read_csv(r\"C:\\Users\\Kanishk Goyal\\OneDrive - IIT Kanpur\\Desktop\\Prof. Hamim Zafar\\Data\\Final Data\\greengram_u_97-19.csv\")\n",
    "df = df.drop(columns=['latitude','longitude','Unnamed: 0'])\n",
    "df = df.sample(frac=1).reset_index(drop=True)\n",
    "# df = df.head(5)"
   ]
  },
  {
   "cell_type": "code",
   "execution_count": null,
   "metadata": {},
   "outputs": [],
   "source": [
    "df['stl1'] = (df['stl1_1'] + df['stl1_2'])/2\n",
    "df['stl2'] = (df['stl2_1'] + df['stl2_2'])/2\n",
    "df['stl3'] = (df['stl3_1'] + df['stl3_2'])/2\n",
    "df['stl4'] = (df['stl4_1'] + df['stl4_2'])/2\n",
    "df['swvl1'] = (df['swvl1_1'] + df['swvl1_2'])/2\n",
    "df['swvl2'] = (df['swvl2_1'] + df['swvl2_2'])/2\n",
    "df['swvl3'] = (df['swvl3_1'] + df['swvl3_2'])/2\n",
    "df['swvl4'] = (df['swvl4_1'] + df['swvl4_2'])/2\n",
    "df['ssr'] = (df['ssr_1'] + df['ssr_2'])/2\n",
    "df['rain'] = (df['rain_1'] + df['rain_2'])/2\n",
    "df['tmax'] = (df['tmax_1'] + df['tmax_2'])/2\n",
    "df['tmin'] = (df['tmin_1'] + df['tmin_2'])/2\n",
    "df['countrain'] = df['countrain_1'] + df['countrain_2']\n",
    "df['u10'] = (df['u10_3']+df['u10_4'])/2\n",
    "df['v10'] = (df['v10_3']+df['v10_4'])/2\n",
    "df['rh'] = (df['rh_3']+df['rh_4'])/2"
   ]
  },
  {
   "cell_type": "code",
   "execution_count": null,
   "metadata": {},
   "outputs": [],
   "source": [
    "df = df.dropna(subset=['Yield(Tonnes/Hectare)'])\n",
    "\n",
    "Q1 = df['Yield(Tonnes/Hectare)'].quantile(0.25)\n",
    "Q3 = df['Yield(Tonnes/Hectare)'].quantile(0.75)\n",
    "IQR = Q3 - Q1\n",
    "lower_bound = Q1 - 1.5 * IQR\n",
    "upper_bound = Q3 + 1.5 * IQR\n",
    "df['Yield_no_outliers'] = np.where((df['Yield(Tonnes/Hectare)'] < lower_bound) | (df['Yield(Tonnes/Hectare)'] > upper_bound), np.nan, df['Yield(Tonnes/Hectare)'])\n",
    "num_points_after_handling_outliers = df['Yield_no_outliers'].count()\n",
    "print(\"Number of points in the final DataFrame after handling outliers:\", num_points_after_handling_outliers)\n",
    "df = df.dropna(subset=['Yield_no_outliers'])\n",
    "df = df.drop(columns=['Yield(Tonnes/Hectare)'])\n",
    "df.rename(columns={'Yield_no_outliers': 'Yield(Tonnes/Hectare)'}, inplace=True)\n",
    "\n",
    "cat_cols = ['DistrictName', 'year']\n",
    "# Label encode categorical columns\n",
    "encoder = LabelEncoder()\n",
    "df[cat_cols] = df[cat_cols].apply(encoder.fit_transform)"
   ]
  },
  {
   "cell_type": "code",
   "execution_count": null,
   "metadata": {},
   "outputs": [],
   "source": [
    "X = df.drop('Yield(Tonnes/Hectare)', axis=1)  # Features\n",
    "y = df['Yield(Tonnes/Hectare)']  # Target variable"
   ]
  },
  {
   "cell_type": "code",
   "execution_count": null,
   "metadata": {},
   "outputs": [],
   "source": [
    "X_train, X_test, y_train, y_test = train_test_split(X, y, test_size=0.1, random_state=101)"
   ]
  },
  {
   "cell_type": "code",
   "execution_count": null,
   "metadata": {},
   "outputs": [],
   "source": [
    "# import time\n",
    "# def print_accuracy(f):\n",
    "#     print(\n",
    "#         f\"Root mean squared test error = {np.sqrt(np.mean((f(X_test) - y_test) ** 2))}\"\n",
    "#     )\n",
    "#     time.sleep(0.5)  # to let the print get out before any progress bars\n",
    "\n",
    "# from sklearn.ensemble import RandomForestRegressor\n",
    "# rforest = RandomForestRegressor(\n",
    "#     n_estimators=1000, max_depth=None, min_samples_split=2, random_state=0\n",
    "# )\n",
    "# rforest.fit(X_train, y_train)\n",
    "# print_accuracy(rforest.predict)\n",
    "# y_pred = rforest.predict(X_test)\n",
    "# mse = mean_squared_error(y_test, y_pred)\n",
    "# r2 = r2_score(y_test, y_pred)\n",
    "# print(\"mse\",mse,\"/n\",\"r2\",r2)"
   ]
  },
  {
   "cell_type": "code",
   "execution_count": null,
   "metadata": {},
   "outputs": [],
   "source": [
    "import xgboost as xgb\n",
    "from sklearn.ensemble import RandomForestRegressor\n",
    "#model = xgb.XGBRegressor(objective=\"reg:squarederror\")\n",
    "model = RandomForestRegressor(n_estimators=1000, max_depth=None, min_samples_split=2, random_state=0)\n",
    "model.fit(X,y)"
   ]
  },
  {
   "cell_type": "code",
   "execution_count": null,
   "metadata": {},
   "outputs": [],
   "source": [
    "y_pred = model.predict(X)\n",
    "plt.figure(figsize=(3,3))\n",
    "plt.scatter(y,y_pred)\n",
    "plt.xlabel(\"Actual\")\n",
    "plt.ylabel(\"Predicted\")\n",
    "plt.show()"
   ]
  },
  {
   "cell_type": "code",
   "execution_count": null,
   "metadata": {},
   "outputs": [],
   "source": [
    "import shap\n",
    "\n",
    "# Assuming 'model' is your trained regression model and 'X' is your feature matrix\n",
    "explainer = shap.Explainer(model)\n",
    "shap_values = explainer.shap_values(X)\n"
   ]
  },
  {
   "cell_type": "code",
   "execution_count": null,
   "metadata": {},
   "outputs": [],
   "source": [
    "features = X.columns.tolist()"
   ]
  },
  {
   "cell_type": "code",
   "execution_count": null,
   "metadata": {},
   "outputs": [],
   "source": [
    "X.head(3)"
   ]
  },
  {
   "cell_type": "code",
   "execution_count": null,
   "metadata": {},
   "outputs": [],
   "source": [
    "shap.summary_plot(shap_values, X_train, feature_names=features, plot_type=\"bar\")"
   ]
  },
  {
   "cell_type": "code",
   "execution_count": null,
   "metadata": {},
   "outputs": [],
   "source": [
    "for idx in range(50):  # Loop through indexes from 0 to 49\n",
    "    shap.dependence_plot(idx, shap_values, X, feature_names=features)"
   ]
  },
  {
   "cell_type": "code",
   "execution_count": null,
   "metadata": {},
   "outputs": [],
   "source": [
    "import shap\n",
    "import numpy as np\n",
    "import matplotlib.pyplot as plt\n",
    "\n",
    "# Assuming shap_values and X are defined\n",
    "# features is assumed to be a list containing the names of the features\n",
    "\n",
    "for idx in range(50):  # Loop through indexes from 0 to 49\n",
    "    shap.dependence_plot(idx, shap_values, X, feature_names=features, show=False)\n",
    "    \n",
    "    # Extract data for current feature\n",
    "    if isinstance(X, np.ndarray):\n",
    "        x_values = X[:, idx]\n",
    "    else:  # Assuming X is a DataFrame\n",
    "        x_values = X.iloc[:, idx]\n",
    "    \n",
    "    y_values = shap_values[:, idx]\n",
    "    \n",
    "    # Calculate best fit line\n",
    "    coef = np.polyfit(x_values, y_values, 1)\n",
    "    poly1d_fn = np.poly1d(coef)\n",
    "    \n",
    "    # Plot best fit line\n",
    "    plt.plot(x_values, poly1d_fn(x_values), color='red')\n",
    "    plt.show()\n"
   ]
  },
  {
   "cell_type": "code",
   "execution_count": null,
   "metadata": {},
   "outputs": [],
   "source": [
    "X.columns"
   ]
  },
  {
   "cell_type": "code",
   "execution_count": null,
   "metadata": {},
   "outputs": [],
   "source": [
    "stop"
   ]
  },
  {
   "cell_type": "code",
   "execution_count": null,
   "metadata": {},
   "outputs": [],
   "source": [
    "expected_value = explainer.expected_value"
   ]
  },
  {
   "cell_type": "code",
   "execution_count": null,
   "metadata": {},
   "outputs": [],
   "source": [
    "if isinstance(expected_value, list):\n",
    "    expected_value = expected_value[1]\n",
    "print(f\"Explainer expected value: {expected_value}\")"
   ]
  },
  {
   "cell_type": "code",
   "execution_count": null,
   "metadata": {},
   "outputs": [],
   "source": [
    "select = range(50)\n",
    "features = X.iloc[select]"
   ]
  },
  {
   "cell_type": "code",
   "execution_count": null,
   "metadata": {},
   "outputs": [],
   "source": [
    "shap.decision_plot(expected_value, shap_values, features)"
   ]
  },
  {
   "cell_type": "code",
   "execution_count": null,
   "metadata": {},
   "outputs": [],
   "source": [
    "shap.decision_plot(explainer.expected_value[0], shap_values[0], feature_names = list(features))"
   ]
  },
  {
   "cell_type": "code",
   "execution_count": null,
   "metadata": {},
   "outputs": [],
   "source": [
    "from IPython.display import display"
   ]
  },
  {
   "cell_type": "code",
   "execution_count": null,
   "metadata": {},
   "outputs": [],
   "source": [
    "explanation = explainer(X)"
   ]
  },
  {
   "cell_type": "code",
   "execution_count": null,
   "metadata": {},
   "outputs": [],
   "source": [
    "# shap.initjs()\n",
    "# shap.plots.force(explanation[0:500], plot_cmap=\"DrDb\")"
   ]
  },
  {
   "cell_type": "code",
   "execution_count": null,
   "metadata": {},
   "outputs": [],
   "source": [
    "# visualize the first 5 predictions explanations with a dark red dark blue color map.\n",
    "shap.force_plot(explainer.expected_value, shap_values[0:1,:], X_test[0:1,:], plot_cmap=\"DrDb\", feature_names=features)"
   ]
  },
  {
   "cell_type": "code",
   "execution_count": null,
   "metadata": {},
   "outputs": [],
   "source": [
    "stop"
   ]
  },
  {
   "cell_type": "code",
   "execution_count": null,
   "metadata": {},
   "outputs": [],
   "source": [
    "shap.summary_plot(shap_values, X, max_display=50)"
   ]
  },
  {
   "cell_type": "code",
   "execution_count": null,
   "metadata": {},
   "outputs": [],
   "source": [
    "from sklearn.inspection import PartialDependenceDisplay\n",
    "import matplotlib.pyplot as plt\n",
    "import seaborn as sns\n",
    "\n",
    "\n",
    "# Set Seaborn style\n",
    "sns.set_style(\"whitegrid\")\n",
    "\n",
    "features = list(range(50))\n",
    "display = PartialDependenceDisplay.from_estimator(model, X, features)\n",
    "\n",
    "plt.gcf().set_size_inches(100, 500)  # Adjust the size as needed\n",
    "plt.show()"
   ]
  },
  {
   "cell_type": "code",
   "execution_count": null,
   "metadata": {},
   "outputs": [],
   "source": []
  },
  {
   "cell_type": "code",
   "execution_count": null,
   "metadata": {},
   "outputs": [],
   "source": [
    "explainer = shap.Explainer(model)\n",
    "shap_values = explainer(X)"
   ]
  },
  {
   "cell_type": "code",
   "execution_count": null,
   "metadata": {},
   "outputs": [],
   "source": [
    "np.shape(shap_values.values)"
   ]
  },
  {
   "cell_type": "code",
   "execution_count": null,
   "metadata": {},
   "outputs": [],
   "source": [
    "# shap.plots.waterfall(shap_values[0])"
   ]
  },
  {
   "cell_type": "code",
   "execution_count": null,
   "metadata": {},
   "outputs": [],
   "source": [
    "# shap.initjs()\n",
    "# shap.plots.force(shap_values)"
   ]
  },
  {
   "cell_type": "code",
   "execution_count": null,
   "metadata": {},
   "outputs": [],
   "source": [
    "shap.plots.bar(shap_values, max_display=50)"
   ]
  },
  {
   "cell_type": "code",
   "execution_count": null,
   "metadata": {},
   "outputs": [],
   "source": [
    "shap.plots.violin(shap_values, features=X,plot_type = 'layered_violin', max_display=50)"
   ]
  },
  {
   "cell_type": "code",
   "execution_count": null,
   "metadata": {},
   "outputs": [],
   "source": [
    "shap.plots.bar(shap_values.cohorts(2).abs.mean(0))"
   ]
  },
  {
   "cell_type": "code",
   "execution_count": null,
   "metadata": {},
   "outputs": [],
   "source": []
  },
  {
   "cell_type": "code",
   "execution_count": null,
   "metadata": {},
   "outputs": [],
   "source": [
    "stop"
   ]
  },
  {
   "cell_type": "code",
   "execution_count": null,
   "metadata": {},
   "outputs": [],
   "source": [
    "a = df['swvl1']\n",
    "b = df['Yield(Tonnes/Hectare)']\n",
    "slope, intercept = np.polyfit(a,b, 1)\n",
    "\n",
    "# Calculate the best-fit line\n",
    "best_fit_line = slope * a + intercept\n",
    "\n",
    "# Plot the scatter plot and the best-fit line\n",
    "plt.scatter(a, b, label='Data points')\n",
    "plt.plot(a, best_fit_line, color='red', label='Best-fit line')\n",
    "plt.xlabel('swvl1')\n",
    "plt.ylabel('Yield(Tonnes/Hectare)')\n",
    "plt.title('Scatter Plot with Best-fit Line')\n",
    "plt.legend()\n",
    "plt.grid(True)\n",
    "plt.show()"
   ]
  },
  {
   "cell_type": "code",
   "execution_count": null,
   "metadata": {},
   "outputs": [],
   "source": [
    "# explain all the predictions in the test set\n",
    "explainer = shap.TreeExplainer(rforest)\n",
    "shap_values = explainer.shap_values(X)\n",
    "shap.summary_plot(shap_values, X)"
   ]
  },
  {
   "cell_type": "code",
   "execution_count": null,
   "metadata": {},
   "outputs": [],
   "source": [
    "shap.dependence_plot(\"rh_3\", shap_values, X)"
   ]
  },
  {
   "cell_type": "code",
   "execution_count": null,
   "metadata": {},
   "outputs": [],
   "source": [
    "shap.initjs()\n",
    "shap.force_plot(explainer.expected_value, shap_values, X)"
   ]
  }
 ],
 "metadata": {
  "kernelspec": {
   "display_name": "Python 3",
   "language": "python",
   "name": "python3"
  },
  "language_info": {
   "codemirror_mode": {
    "name": "ipython",
    "version": 3
   },
   "file_extension": ".py",
   "mimetype": "text/x-python",
   "name": "python",
   "nbconvert_exporter": "python",
   "pygments_lexer": "ipython3",
   "version": "3.11.4"
  }
 },
 "nbformat": 4,
 "nbformat_minor": 2
}
