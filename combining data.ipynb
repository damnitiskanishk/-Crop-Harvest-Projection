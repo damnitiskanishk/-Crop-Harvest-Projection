{
 "cells": [
  {
   "cell_type": "code",
   "execution_count": 1,
   "metadata": {},
   "outputs": [],
   "source": [
    "import numpy as np \n",
    "import pandas as pd"
   ]
  },
  {
   "cell_type": "code",
   "execution_count": 2,
   "metadata": {},
   "outputs": [],
   "source": [
    "df_1 = pd.read_csv(r\"C:\\Users\\Kanishk Goyal\\OneDrive - IIT Kanpur\\Desktop\\Prof. Hamim Zafar\\Data\\Regridding Data\\Karnataka\\Chickpea\\stl4_97-23_12.csv\")\n",
    "df_2 = pd.read_csv(r\"C:\\Users\\Kanishk Goyal\\OneDrive - IIT Kanpur\\Desktop\\Prof. Hamim Zafar\\Data\\Regridding Data\\Karnataka\\Chickpea\\stl4_97-23_except_12.csv\")\n",
    "# df_3 = pd.read_csv(r\"C:\\Users\\Kanishk Goyal\\OneDrive - IIT Kanpur\\Desktop\\Prof. Hamim Zafar\\Data\\Regridding Data\\Karnataka\\Chickpea\\Sent by Harshita\\ssr_97-22_karnataka.csv\")"
   ]
  },
  {
   "cell_type": "code",
   "execution_count": 3,
   "metadata": {},
   "outputs": [],
   "source": [
    "df_1 = df_1.drop(columns=['Unnamed: 0'])\n",
    "df_2 = df_2.drop(columns=['Unnamed: 0'])\n",
    "# df_3 = df_3.drop(columns=['Unnamed: 0'])"
   ]
  },
  {
   "cell_type": "code",
   "execution_count": 4,
   "metadata": {},
   "outputs": [
    {
     "data": {
      "text/html": [
       "<div>\n",
       "<style scoped>\n",
       "    .dataframe tbody tr th:only-of-type {\n",
       "        vertical-align: middle;\n",
       "    }\n",
       "\n",
       "    .dataframe tbody tr th {\n",
       "        vertical-align: top;\n",
       "    }\n",
       "\n",
       "    .dataframe thead th {\n",
       "        text-align: right;\n",
       "    }\n",
       "</style>\n",
       "<table border=\"1\" class=\"dataframe\">\n",
       "  <thead>\n",
       "    <tr style=\"text-align: right;\">\n",
       "      <th></th>\n",
       "      <th>latitude</th>\n",
       "      <th>longitude</th>\n",
       "      <th>year</th>\n",
       "      <th>stl4_1</th>\n",
       "      <th>stl4_2</th>\n",
       "      <th>stl4_3</th>\n",
       "      <th>stl4_4</th>\n",
       "      <th>stl4_11</th>\n",
       "    </tr>\n",
       "  </thead>\n",
       "  <tbody>\n",
       "    <tr>\n",
       "      <th>0</th>\n",
       "      <td>11.953704</td>\n",
       "      <td>77.091779</td>\n",
       "      <td>1997</td>\n",
       "      <td>22.209486</td>\n",
       "      <td>22.139558</td>\n",
       "      <td>22.824291</td>\n",
       "      <td>23.807016</td>\n",
       "      <td>24.604338</td>\n",
       "    </tr>\n",
       "    <tr>\n",
       "      <th>1</th>\n",
       "      <td>11.953704</td>\n",
       "      <td>77.091779</td>\n",
       "      <td>1998</td>\n",
       "      <td>23.618353</td>\n",
       "      <td>23.762419</td>\n",
       "      <td>24.646465</td>\n",
       "      <td>25.963099</td>\n",
       "      <td>24.237034</td>\n",
       "    </tr>\n",
       "    <tr>\n",
       "      <th>2</th>\n",
       "      <td>11.953704</td>\n",
       "      <td>77.091779</td>\n",
       "      <td>1999</td>\n",
       "      <td>22.992253</td>\n",
       "      <td>22.886889</td>\n",
       "      <td>23.506700</td>\n",
       "      <td>24.750868</td>\n",
       "      <td>24.109575</td>\n",
       "    </tr>\n",
       "    <tr>\n",
       "      <th>3</th>\n",
       "      <td>11.953704</td>\n",
       "      <td>77.091779</td>\n",
       "      <td>2000</td>\n",
       "      <td>22.807545</td>\n",
       "      <td>22.975611</td>\n",
       "      <td>23.518511</td>\n",
       "      <td>24.626575</td>\n",
       "      <td>24.059038</td>\n",
       "    </tr>\n",
       "    <tr>\n",
       "      <th>4</th>\n",
       "      <td>11.953704</td>\n",
       "      <td>77.091779</td>\n",
       "      <td>2001</td>\n",
       "      <td>23.052698</td>\n",
       "      <td>23.381277</td>\n",
       "      <td>24.282589</td>\n",
       "      <td>25.291437</td>\n",
       "      <td>24.307437</td>\n",
       "    </tr>\n",
       "    <tr>\n",
       "      <th>...</th>\n",
       "      <td>...</td>\n",
       "      <td>...</td>\n",
       "      <td>...</td>\n",
       "      <td>...</td>\n",
       "      <td>...</td>\n",
       "      <td>...</td>\n",
       "      <td>...</td>\n",
       "      <td>...</td>\n",
       "    </tr>\n",
       "    <tr>\n",
       "      <th>805</th>\n",
       "      <td>17.952943</td>\n",
       "      <td>77.227039</td>\n",
       "      <td>2019</td>\n",
       "      <td>26.055655</td>\n",
       "      <td>25.688153</td>\n",
       "      <td>26.391807</td>\n",
       "      <td>28.009748</td>\n",
       "      <td>26.772585</td>\n",
       "    </tr>\n",
       "    <tr>\n",
       "      <th>806</th>\n",
       "      <td>17.952943</td>\n",
       "      <td>77.227039</td>\n",
       "      <td>2020</td>\n",
       "      <td>25.311860</td>\n",
       "      <td>25.189122</td>\n",
       "      <td>25.713678</td>\n",
       "      <td>27.002402</td>\n",
       "      <td>26.206439</td>\n",
       "    </tr>\n",
       "    <tr>\n",
       "      <th>807</th>\n",
       "      <td>17.952943</td>\n",
       "      <td>77.227039</td>\n",
       "      <td>2021</td>\n",
       "      <td>25.468563</td>\n",
       "      <td>25.568300</td>\n",
       "      <td>26.087531</td>\n",
       "      <td>27.420847</td>\n",
       "      <td>26.200270</td>\n",
       "    </tr>\n",
       "    <tr>\n",
       "      <th>808</th>\n",
       "      <td>17.952943</td>\n",
       "      <td>77.227039</td>\n",
       "      <td>2022</td>\n",
       "      <td>25.337760</td>\n",
       "      <td>24.961144</td>\n",
       "      <td>25.615285</td>\n",
       "      <td>27.221703</td>\n",
       "      <td>25.985002</td>\n",
       "    </tr>\n",
       "    <tr>\n",
       "      <th>809</th>\n",
       "      <td>17.952943</td>\n",
       "      <td>77.227039</td>\n",
       "      <td>2023</td>\n",
       "      <td>25.161730</td>\n",
       "      <td>25.133678</td>\n",
       "      <td>25.746929</td>\n",
       "      <td>26.596577</td>\n",
       "      <td>26.696733</td>\n",
       "    </tr>\n",
       "  </tbody>\n",
       "</table>\n",
       "<p>810 rows × 8 columns</p>\n",
       "</div>"
      ],
      "text/plain": [
       "      latitude  longitude  year     stl4_1     stl4_2     stl4_3     stl4_4  \\\n",
       "0    11.953704  77.091779  1997  22.209486  22.139558  22.824291  23.807016   \n",
       "1    11.953704  77.091779  1998  23.618353  23.762419  24.646465  25.963099   \n",
       "2    11.953704  77.091779  1999  22.992253  22.886889  23.506700  24.750868   \n",
       "3    11.953704  77.091779  2000  22.807545  22.975611  23.518511  24.626575   \n",
       "4    11.953704  77.091779  2001  23.052698  23.381277  24.282589  25.291437   \n",
       "..         ...        ...   ...        ...        ...        ...        ...   \n",
       "805  17.952943  77.227039  2019  26.055655  25.688153  26.391807  28.009748   \n",
       "806  17.952943  77.227039  2020  25.311860  25.189122  25.713678  27.002402   \n",
       "807  17.952943  77.227039  2021  25.468563  25.568300  26.087531  27.420847   \n",
       "808  17.952943  77.227039  2022  25.337760  24.961144  25.615285  27.221703   \n",
       "809  17.952943  77.227039  2023  25.161730  25.133678  25.746929  26.596577   \n",
       "\n",
       "       stl4_11  \n",
       "0    24.604338  \n",
       "1    24.237034  \n",
       "2    24.109575  \n",
       "3    24.059038  \n",
       "4    24.307437  \n",
       "..         ...  \n",
       "805  26.772585  \n",
       "806  26.206439  \n",
       "807  26.200270  \n",
       "808  25.985002  \n",
       "809  26.696733  \n",
       "\n",
       "[810 rows x 8 columns]"
      ]
     },
     "execution_count": 4,
     "metadata": {},
     "output_type": "execute_result"
    }
   ],
   "source": [
    "df_2"
   ]
  },
  {
   "cell_type": "code",
   "execution_count": 5,
   "metadata": {},
   "outputs": [
    {
     "data": {
      "text/plain": [
       "(810, 4)"
      ]
     },
     "execution_count": 5,
     "metadata": {},
     "output_type": "execute_result"
    }
   ],
   "source": [
    "df_1.shape"
   ]
  },
  {
   "cell_type": "code",
   "execution_count": 6,
   "metadata": {},
   "outputs": [
    {
     "data": {
      "text/plain": [
       "(810, 8)"
      ]
     },
     "execution_count": 6,
     "metadata": {},
     "output_type": "execute_result"
    }
   ],
   "source": [
    "df_2.shape"
   ]
  },
  {
   "cell_type": "code",
   "execution_count": 7,
   "metadata": {},
   "outputs": [],
   "source": [
    "df_1 = df_1[df_1['year'] != 2023]\n",
    "df_2 = df_2[df_2['year'] != 2023]"
   ]
  },
  {
   "cell_type": "code",
   "execution_count": 8,
   "metadata": {},
   "outputs": [
    {
     "data": {
      "text/plain": [
       "(780, 4)"
      ]
     },
     "execution_count": 8,
     "metadata": {},
     "output_type": "execute_result"
    }
   ],
   "source": [
    "df_1.shape"
   ]
  },
  {
   "cell_type": "code",
   "execution_count": 9,
   "metadata": {},
   "outputs": [
    {
     "data": {
      "text/plain": [
       "(780, 8)"
      ]
     },
     "execution_count": 9,
     "metadata": {},
     "output_type": "execute_result"
    }
   ],
   "source": [
    "df_2.shape"
   ]
  },
  {
   "cell_type": "code",
   "execution_count": 10,
   "metadata": {},
   "outputs": [],
   "source": [
    "df_1 = df_1.sort_values(by=['latitude','longitude','year'])\n",
    "df_2 = df_2.sort_values(by=['latitude','longitude','year'])\n",
    "# df_3 = df_3.sort_values(by=['latitude','longitude','year'])\n",
    "df_1 = df_1.reset_index(drop=True)\n",
    "df_2 = df_2.reset_index(drop=True)\n",
    "# df_3 = df_3.reset_index(drop=True)"
   ]
  },
  {
   "cell_type": "code",
   "execution_count": 11,
   "metadata": {},
   "outputs": [],
   "source": [
    "# df_2 = df_2.drop(columns=['latitude','longitude','year'])\n",
    "df_1 = df_1.drop(columns=['latitude','longitude','year'])"
   ]
  },
  {
   "cell_type": "code",
   "execution_count": 12,
   "metadata": {},
   "outputs": [],
   "source": [
    "df = pd.concat([df_2,df_1],axis=1)"
   ]
  },
  {
   "cell_type": "code",
   "execution_count": 13,
   "metadata": {},
   "outputs": [
    {
     "data": {
      "text/html": [
       "<div>\n",
       "<style scoped>\n",
       "    .dataframe tbody tr th:only-of-type {\n",
       "        vertical-align: middle;\n",
       "    }\n",
       "\n",
       "    .dataframe tbody tr th {\n",
       "        vertical-align: top;\n",
       "    }\n",
       "\n",
       "    .dataframe thead th {\n",
       "        text-align: right;\n",
       "    }\n",
       "</style>\n",
       "<table border=\"1\" class=\"dataframe\">\n",
       "  <thead>\n",
       "    <tr style=\"text-align: right;\">\n",
       "      <th></th>\n",
       "      <th>latitude</th>\n",
       "      <th>longitude</th>\n",
       "      <th>year</th>\n",
       "      <th>stl4_1</th>\n",
       "      <th>stl4_2</th>\n",
       "      <th>stl4_3</th>\n",
       "      <th>stl4_4</th>\n",
       "      <th>stl4_11</th>\n",
       "      <th>stl4_12</th>\n",
       "    </tr>\n",
       "  </thead>\n",
       "  <tbody>\n",
       "    <tr>\n",
       "      <th>0</th>\n",
       "      <td>11.953704</td>\n",
       "      <td>77.091779</td>\n",
       "      <td>1997</td>\n",
       "      <td>22.209486</td>\n",
       "      <td>22.139558</td>\n",
       "      <td>22.824291</td>\n",
       "      <td>23.807016</td>\n",
       "      <td>24.604338</td>\n",
       "      <td>24.095321</td>\n",
       "    </tr>\n",
       "    <tr>\n",
       "      <th>1</th>\n",
       "      <td>11.953704</td>\n",
       "      <td>77.091779</td>\n",
       "      <td>1998</td>\n",
       "      <td>23.618353</td>\n",
       "      <td>23.762419</td>\n",
       "      <td>24.646465</td>\n",
       "      <td>25.963099</td>\n",
       "      <td>24.237034</td>\n",
       "      <td>23.654057</td>\n",
       "    </tr>\n",
       "    <tr>\n",
       "      <th>2</th>\n",
       "      <td>11.953704</td>\n",
       "      <td>77.091779</td>\n",
       "      <td>1999</td>\n",
       "      <td>22.992253</td>\n",
       "      <td>22.886889</td>\n",
       "      <td>23.506700</td>\n",
       "      <td>24.750868</td>\n",
       "      <td>24.109575</td>\n",
       "      <td>23.344908</td>\n",
       "    </tr>\n",
       "    <tr>\n",
       "      <th>3</th>\n",
       "      <td>11.953704</td>\n",
       "      <td>77.091779</td>\n",
       "      <td>2000</td>\n",
       "      <td>22.807545</td>\n",
       "      <td>22.975611</td>\n",
       "      <td>23.518511</td>\n",
       "      <td>24.626575</td>\n",
       "      <td>24.059038</td>\n",
       "      <td>23.558527</td>\n",
       "    </tr>\n",
       "    <tr>\n",
       "      <th>4</th>\n",
       "      <td>11.953704</td>\n",
       "      <td>77.091779</td>\n",
       "      <td>2001</td>\n",
       "      <td>23.052698</td>\n",
       "      <td>23.381277</td>\n",
       "      <td>24.282589</td>\n",
       "      <td>25.291437</td>\n",
       "      <td>24.307437</td>\n",
       "      <td>23.699161</td>\n",
       "    </tr>\n",
       "    <tr>\n",
       "      <th>...</th>\n",
       "      <td>...</td>\n",
       "      <td>...</td>\n",
       "      <td>...</td>\n",
       "      <td>...</td>\n",
       "      <td>...</td>\n",
       "      <td>...</td>\n",
       "      <td>...</td>\n",
       "      <td>...</td>\n",
       "      <td>...</td>\n",
       "    </tr>\n",
       "    <tr>\n",
       "      <th>775</th>\n",
       "      <td>17.952943</td>\n",
       "      <td>77.227039</td>\n",
       "      <td>2018</td>\n",
       "      <td>25.336020</td>\n",
       "      <td>25.185047</td>\n",
       "      <td>25.792662</td>\n",
       "      <td>27.176451</td>\n",
       "      <td>27.063908</td>\n",
       "      <td>26.811599</td>\n",
       "    </tr>\n",
       "    <tr>\n",
       "      <th>776</th>\n",
       "      <td>17.952943</td>\n",
       "      <td>77.227039</td>\n",
       "      <td>2019</td>\n",
       "      <td>26.055655</td>\n",
       "      <td>25.688153</td>\n",
       "      <td>26.391807</td>\n",
       "      <td>28.009748</td>\n",
       "      <td>26.772585</td>\n",
       "      <td>26.020384</td>\n",
       "    </tr>\n",
       "    <tr>\n",
       "      <th>777</th>\n",
       "      <td>17.952943</td>\n",
       "      <td>77.227039</td>\n",
       "      <td>2020</td>\n",
       "      <td>25.311860</td>\n",
       "      <td>25.189122</td>\n",
       "      <td>25.713678</td>\n",
       "      <td>27.002402</td>\n",
       "      <td>26.206439</td>\n",
       "      <td>25.792856</td>\n",
       "    </tr>\n",
       "    <tr>\n",
       "      <th>778</th>\n",
       "      <td>17.952943</td>\n",
       "      <td>77.227039</td>\n",
       "      <td>2021</td>\n",
       "      <td>25.468563</td>\n",
       "      <td>25.568300</td>\n",
       "      <td>26.087531</td>\n",
       "      <td>27.420847</td>\n",
       "      <td>26.200270</td>\n",
       "      <td>25.867616</td>\n",
       "    </tr>\n",
       "    <tr>\n",
       "      <th>779</th>\n",
       "      <td>17.952943</td>\n",
       "      <td>77.227039</td>\n",
       "      <td>2022</td>\n",
       "      <td>25.337760</td>\n",
       "      <td>24.961144</td>\n",
       "      <td>25.615285</td>\n",
       "      <td>27.221703</td>\n",
       "      <td>25.985002</td>\n",
       "      <td>25.439874</td>\n",
       "    </tr>\n",
       "  </tbody>\n",
       "</table>\n",
       "<p>780 rows × 9 columns</p>\n",
       "</div>"
      ],
      "text/plain": [
       "      latitude  longitude  year     stl4_1     stl4_2     stl4_3     stl4_4  \\\n",
       "0    11.953704  77.091779  1997  22.209486  22.139558  22.824291  23.807016   \n",
       "1    11.953704  77.091779  1998  23.618353  23.762419  24.646465  25.963099   \n",
       "2    11.953704  77.091779  1999  22.992253  22.886889  23.506700  24.750868   \n",
       "3    11.953704  77.091779  2000  22.807545  22.975611  23.518511  24.626575   \n",
       "4    11.953704  77.091779  2001  23.052698  23.381277  24.282589  25.291437   \n",
       "..         ...        ...   ...        ...        ...        ...        ...   \n",
       "775  17.952943  77.227039  2018  25.336020  25.185047  25.792662  27.176451   \n",
       "776  17.952943  77.227039  2019  26.055655  25.688153  26.391807  28.009748   \n",
       "777  17.952943  77.227039  2020  25.311860  25.189122  25.713678  27.002402   \n",
       "778  17.952943  77.227039  2021  25.468563  25.568300  26.087531  27.420847   \n",
       "779  17.952943  77.227039  2022  25.337760  24.961144  25.615285  27.221703   \n",
       "\n",
       "       stl4_11    stl4_12  \n",
       "0    24.604338  24.095321  \n",
       "1    24.237034  23.654057  \n",
       "2    24.109575  23.344908  \n",
       "3    24.059038  23.558527  \n",
       "4    24.307437  23.699161  \n",
       "..         ...        ...  \n",
       "775  27.063908  26.811599  \n",
       "776  26.772585  26.020384  \n",
       "777  26.206439  25.792856  \n",
       "778  26.200270  25.867616  \n",
       "779  25.985002  25.439874  \n",
       "\n",
       "[780 rows x 9 columns]"
      ]
     },
     "execution_count": 13,
     "metadata": {},
     "output_type": "execute_result"
    }
   ],
   "source": [
    "df"
   ]
  },
  {
   "cell_type": "code",
   "execution_count": 14,
   "metadata": {},
   "outputs": [],
   "source": [
    "df.to_csv(r\"C:\\Users\\Kanishk Goyal\\OneDrive - IIT Kanpur\\Desktop\\Prof. Hamim Zafar\\Data\\Regridding Data\\Karnataka\\Chickpea\\stl4_97-22.csv\")"
   ]
  },
  {
   "cell_type": "code",
   "execution_count": null,
   "metadata": {},
   "outputs": [],
   "source": []
  }
 ],
 "metadata": {
  "kernelspec": {
   "display_name": "Python 3",
   "language": "python",
   "name": "python3"
  },
  "language_info": {
   "codemirror_mode": {
    "name": "ipython",
    "version": 3
   },
   "file_extension": ".py",
   "mimetype": "text/x-python",
   "name": "python",
   "nbconvert_exporter": "python",
   "pygments_lexer": "ipython3",
   "version": "3.11.4"
  }
 },
 "nbformat": 4,
 "nbformat_minor": 2
}
