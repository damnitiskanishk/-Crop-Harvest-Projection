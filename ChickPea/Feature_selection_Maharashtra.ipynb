{
 "cells": [
  {
   "cell_type": "code",
   "execution_count": 1,
   "metadata": {},
   "outputs": [],
   "source": [
    "import numpy as np \n",
    "import pandas as pd\n",
    "import seaborn as sns\n",
    "import matplotlib.pyplot as plt\n",
    "from sklearn.preprocessing import LabelEncoder\n",
    "from sklearn.model_selection import train_test_split\n",
    "from sklearn.linear_model import LinearRegression\n",
    "from sklearn.metrics import mean_squared_error, r2_score\n",
    "import seaborn as sns"
   ]
  },
  {
   "cell_type": "code",
   "execution_count": 2,
   "metadata": {},
   "outputs": [],
   "source": [
    "df = pd.read_csv(r\"C:\\Users\\Kanishk Goyal\\OneDrive - IIT Kanpur\\Desktop\\Prof. Hamim Zafar\\Data\\Final Data\\ChickPea\\ChickPea_Maharashtra_updated.csv\")\n",
    "df = df.drop(columns=['latitude','longitude','DistrictName', 'year'])\n",
    "# df = df.sample(frac=1).reset_index(drop=True)\n",
    "#df = df.drop(columns=['DistrictName','latitude','longitude','year','year_mask'])"
   ]
  },
  {
   "cell_type": "code",
   "execution_count": 3,
   "metadata": {},
   "outputs": [],
   "source": [
    "df = df.rename(columns={'Yield(tonnes/hectare)':'Yield(Tonnes/Hectare)'},inplace=False)"
   ]
  },
  {
   "cell_type": "code",
   "execution_count": 4,
   "metadata": {},
   "outputs": [
    {
     "data": {
      "text/plain": [
       "Index(['stl1_11', 'stl1_12', 'stl1_1', 'stl1_2', 'stl1_3', 'stl1_4', 'stl2_11',\n",
       "       'stl2_12', 'stl2_1', 'stl2_2', 'stl2_3', 'stl2_4', 'stl3_11', 'stl3_12',\n",
       "       'stl3_1', 'stl3_2', 'stl3_3', 'stl3_4', 'stl4_11', 'stl4_12', 'stl4_1',\n",
       "       'stl4_2', 'stl4_3', 'stl4_4', 'swvl1_11', 'swvl1_12', 'swvl1_1',\n",
       "       'swvl1_2', 'swvl1_3', 'swvl1_4', 'swvl2_11', 'swvl2_12', 'swvl2_1',\n",
       "       'swvl2_2', 'swvl2_3', 'swvl2_4', 'swvl3_11', 'swvl3_12', 'swvl3_1',\n",
       "       'swvl3_2', 'swvl3_3', 'swvl3_4', 'swvl4_11', 'swvl4_12', 'swvl4_1',\n",
       "       'swvl4_2', 'swvl4_3', 'swvl4_4', 'ssr_11', 'ssr_12', 'ssr_1', 'ssr_2',\n",
       "       'ssr_3', 'ssr_4', 'u10_11', 'u10_12', 'u10_1', 'u10_2', 'u10_3',\n",
       "       'u10_4', 'v10_11', 'v10_12', 'v10_1', 'v10_2', 'v10_3', 'v10_4',\n",
       "       'tmax_11', 'tmax_12', 'tmax_1', 'tmax_2', 'tmax_3', 'tmax_4', 'tmin_11',\n",
       "       'tmin_12', 'tmin_1', 'tmin_2', 'tmin_3', 'tmin_4', 'rain_11', 'rain_12',\n",
       "       'rain_1', 'rain_2', 'rain_3', 'rain_4', 'countrain_11', 'countrain_12',\n",
       "       'countrain_1', 'countrain_2', 'countrain_3', 'countrain_4', 'rh_11',\n",
       "       'rh_12', 'rh_1', 'rh_2', 'rh_3', 'rh_4', 'Yield(Tonnes/Hectare)'],\n",
       "      dtype='object')"
      ]
     },
     "execution_count": 4,
     "metadata": {},
     "output_type": "execute_result"
    }
   ],
   "source": [
    "df.columns"
   ]
  },
  {
   "cell_type": "code",
   "execution_count": 5,
   "metadata": {},
   "outputs": [],
   "source": [
    "# df['stl1'] = (df['stl1_1'] + df['stl1_2'])/2\n",
    "# df['stl2'] = (df['stl2_1'] + df['stl2_2'])/2\n",
    "# df['stl3'] = (df['stl3_1'] + df['stl3_2'])/2\n",
    "# df['stl4'] = (df['stl4_1'] + df['stl4_2'])/2\n",
    "# df['swvl1'] = (df['swvl1_1'] + df['swvl1_2'])/2\n",
    "# df['swvl2'] = (df['swvl2_1'] + df['swvl2_2'])/2\n",
    "# df['swvl3'] = (df['swvl3_1'] + df['swvl3_2'])/2\n",
    "# df['swvl4'] = (df['swvl4_1'] + df['swvl4_2'])/2\n",
    "# df['ssr'] = (df['ssr_1'] + df['ssr_2'])/2\n",
    "# df['rain'] = (df['rain_1'] + df['rain_2'])/2\n",
    "# df['tmax'] = (df['tmax_1'] + df['tmax_2'])/2\n",
    "# df['tmin'] = (df['tmin_1'] + df['tmin_2'])/2\n",
    "# df['countrain'] = df['countrain_1'] + df['countrain_2']\n",
    "# df['u10'] = (df['u10_3']+df['u10_4'])/2\n",
    "# df['v10'] = (df['v10_3']+df['v10_4'])/2\n",
    "# df['rh'] = (df['rh_3']+df['rh_4'])/2"
   ]
  },
  {
   "cell_type": "code",
   "execution_count": 6,
   "metadata": {},
   "outputs": [],
   "source": [
    "# df = df.drop(columns=['stl1_1','stl1_2','stl2_1','stl2_2','stl3_1','stl3_2','stl4_1','stl4_2','swvl1_1','swvl1_2','swvl2_1','swvl2_2','swvl3_1','swvl3_2','swvl4_1','swvl4_2','ssr_1','ssr_2','rain_1','rain_2','tmax_1','tmax_2','tmin_1','tmin_2','countrain_1','countrain_2','u10_3','u10_4','v10_3','v10_4','rh_3','rh_4'],axis=1)"
   ]
  },
  {
   "cell_type": "code",
   "execution_count": 7,
   "metadata": {},
   "outputs": [
    {
     "data": {
      "text/plain": [
       "(850, 97)"
      ]
     },
     "execution_count": 7,
     "metadata": {},
     "output_type": "execute_result"
    }
   ],
   "source": [
    "df.shape"
   ]
  },
  {
   "cell_type": "code",
   "execution_count": 8,
   "metadata": {},
   "outputs": [
    {
     "data": {
      "text/plain": [
       "Index(['stl1_11', 'stl1_12', 'stl1_1', 'stl1_2', 'stl1_3', 'stl1_4', 'stl2_11',\n",
       "       'stl2_12', 'stl2_1', 'stl2_2', 'stl2_3', 'stl2_4', 'stl3_11', 'stl3_12',\n",
       "       'stl3_1', 'stl3_2', 'stl3_3', 'stl3_4', 'stl4_11', 'stl4_12', 'stl4_1',\n",
       "       'stl4_2', 'stl4_3', 'stl4_4', 'swvl1_11', 'swvl1_12', 'swvl1_1',\n",
       "       'swvl1_2', 'swvl1_3', 'swvl1_4', 'swvl2_11', 'swvl2_12', 'swvl2_1',\n",
       "       'swvl2_2', 'swvl2_3', 'swvl2_4', 'swvl3_11', 'swvl3_12', 'swvl3_1',\n",
       "       'swvl3_2', 'swvl3_3', 'swvl3_4', 'swvl4_11', 'swvl4_12', 'swvl4_1',\n",
       "       'swvl4_2', 'swvl4_3', 'swvl4_4', 'ssr_11', 'ssr_12', 'ssr_1', 'ssr_2',\n",
       "       'ssr_3', 'ssr_4', 'u10_11', 'u10_12', 'u10_1', 'u10_2', 'u10_3',\n",
       "       'u10_4', 'v10_11', 'v10_12', 'v10_1', 'v10_2', 'v10_3', 'v10_4',\n",
       "       'tmax_11', 'tmax_12', 'tmax_1', 'tmax_2', 'tmax_3', 'tmax_4', 'tmin_11',\n",
       "       'tmin_12', 'tmin_1', 'tmin_2', 'tmin_3', 'tmin_4', 'rain_11', 'rain_12',\n",
       "       'rain_1', 'rain_2', 'rain_3', 'rain_4', 'countrain_11', 'countrain_12',\n",
       "       'countrain_1', 'countrain_2', 'countrain_3', 'countrain_4', 'rh_11',\n",
       "       'rh_12', 'rh_1', 'rh_2', 'rh_3', 'rh_4', 'Yield(Tonnes/Hectare)'],\n",
       "      dtype='object')"
      ]
     },
     "execution_count": 8,
     "metadata": {},
     "output_type": "execute_result"
    }
   ],
   "source": [
    "df.columns"
   ]
  },
  {
   "cell_type": "code",
   "execution_count": 9,
   "metadata": {},
   "outputs": [],
   "source": [
    "df = df.dropna(subset=['Yield(Tonnes/Hectare)'])"
   ]
  },
  {
   "cell_type": "code",
   "execution_count": 10,
   "metadata": {},
   "outputs": [
    {
     "data": {
      "text/plain": [
       "(680, 97)"
      ]
     },
     "execution_count": 10,
     "metadata": {},
     "output_type": "execute_result"
    }
   ],
   "source": [
    "df.shape"
   ]
  },
  {
   "cell_type": "code",
   "execution_count": 11,
   "metadata": {},
   "outputs": [
    {
     "data": {
      "text/plain": [
       "2.0504146628563253"
      ]
     },
     "execution_count": 11,
     "metadata": {},
     "output_type": "execute_result"
    }
   ],
   "source": [
    "df['Yield(Tonnes/Hectare)'].skew()"
   ]
  },
  {
   "cell_type": "code",
   "execution_count": 12,
   "metadata": {},
   "outputs": [
    {
     "name": "stderr",
     "output_type": "stream",
     "text": [
      "C:\\Users\\Kanishk Goyal\\AppData\\Local\\Temp\\ipykernel_20212\\994257175.py:1: UserWarning: \n",
      "\n",
      "`distplot` is a deprecated function and will be removed in seaborn v0.14.0.\n",
      "\n",
      "Please adapt your code to use either `displot` (a figure-level function with\n",
      "similar flexibility) or `histplot` (an axes-level function for histograms).\n",
      "\n",
      "For a guide to updating your code to use the new functions, please see\n",
      "https://gist.github.com/mwaskom/de44147ed2974457ad6372750bbe5751\n",
      "\n",
      "  sns.distplot(df['Yield(Tonnes/Hectare)'],color='green')\n"
     ]
    },
    {
     "data": {
      "text/plain": [
       "<Axes: xlabel='Yield(Tonnes/Hectare)', ylabel='Density'>"
      ]
     },
     "execution_count": 12,
     "metadata": {},
     "output_type": "execute_result"
    },
    {
     "data": {
      "image/png": "[encoded data removed]",
      "text/plain": [
       "<Figure size 640x480 with 1 Axes>"
      ]
     },
     "metadata": {},
     "output_type": "display_data"
    }
   ],
   "source": [
    "sns.distplot(df['Yield(Tonnes/Hectare)'],color='green')"
   ]
  },
  {
   "cell_type": "code",
   "execution_count": 13,
   "metadata": {},
   "outputs": [
    {
     "data": {
      "text/plain": [
       "26     0.69\n",
       "27     0.76\n",
       "28     0.68\n",
       "29     0.63\n",
       "30     0.78\n",
       "       ... \n",
       "843    0.82\n",
       "844    1.07\n",
       "845    1.21\n",
       "846    0.95\n",
       "847    0.98\n",
       "Name: Yield(Tonnes/Hectare), Length: 680, dtype: float64"
      ]
     },
     "execution_count": 13,
     "metadata": {},
     "output_type": "execute_result"
    }
   ],
   "source": [
    "df['Yield(Tonnes/Hectare)']"
   ]
  },
  {
   "cell_type": "code",
   "execution_count": 14,
   "metadata": {},
   "outputs": [
    {
     "name": "stdout",
     "output_type": "stream",
     "text": [
      "Number of points in the final DataFrame after handling outliers: 662\n"
     ]
    }
   ],
   "source": [
    "Q1 = df['Yield(Tonnes/Hectare)'].quantile(0.25)\n",
    "Q3 = df['Yield(Tonnes/Hectare)'].quantile(0.75)\n",
    "IQR = Q3 - Q1\n",
    "\n",
    "lower_bound = Q1 - 1.5 * IQR\n",
    "upper_bound = Q3 + 1.5 * IQR\n",
    "\n",
    "df['Yield_no_outliers'] = np.where((df['Yield(Tonnes/Hectare)'] < lower_bound) | (df['Yield(Tonnes/Hectare)'] > upper_bound), np.nan, df['Yield(Tonnes/Hectare)'])\n",
    "\n",
    "num_points_after_handling_outliers = df['Yield_no_outliers'].count()\n",
    "print(\"Number of points in the final DataFrame after handling outliers:\", num_points_after_handling_outliers)"
   ]
  },
  {
   "cell_type": "code",
   "execution_count": 15,
   "metadata": {},
   "outputs": [],
   "source": [
    "df = df.dropna(subset=['Yield_no_outliers'])\n",
    "df = df.drop(columns=['Yield(Tonnes/Hectare)'])"
   ]
  },
  {
   "cell_type": "code",
   "execution_count": 16,
   "metadata": {},
   "outputs": [],
   "source": [
    "df.rename(columns={'Yield_no_outliers': 'Yield(Tonnes/Hectare)'}, inplace=True)"
   ]
  },
  {
   "cell_type": "code",
   "execution_count": 17,
   "metadata": {},
   "outputs": [
    {
     "data": {
      "text/plain": [
       "0.3817504132565395"
      ]
     },
     "execution_count": 17,
     "metadata": {},
     "output_type": "execute_result"
    }
   ],
   "source": [
    "df['Yield(Tonnes/Hectare)'].skew()"
   ]
  },
  {
   "cell_type": "code",
   "execution_count": 18,
   "metadata": {},
   "outputs": [
    {
     "name": "stderr",
     "output_type": "stream",
     "text": [
      "C:\\Users\\Kanishk Goyal\\AppData\\Local\\Temp\\ipykernel_20212\\1820324139.py:1: UserWarning: \n",
      "\n",
      "`distplot` is a deprecated function and will be removed in seaborn v0.14.0.\n",
      "\n",
      "Please adapt your code to use either `displot` (a figure-level function with\n",
      "similar flexibility) or `histplot` (an axes-level function for histograms).\n",
      "\n",
      "For a guide to updating your code to use the new functions, please see\n",
      "https://gist.github.com/mwaskom/de44147ed2974457ad6372750bbe5751\n",
      "\n",
      "  sns.distplot(df['Yield(Tonnes/Hectare)'])\n"
     ]
    },
    {
     "data": {
      "text/plain": [
       "<Axes: xlabel='Yield(Tonnes/Hectare)', ylabel='Density'>"
      ]
     },
     "execution_count": 18,
     "metadata": {},
     "output_type": "execute_result"
    },
    {
     "data": {
      "image/png": "[encoded data removed]",
      "text/plain": [
       "<Figure size 640x480 with 1 Axes>"
      ]
     },
     "metadata": {},
     "output_type": "display_data"
    }
   ],
   "source": [
    "sns.distplot(df['Yield(Tonnes/Hectare)'])"
   ]
  },
  {
   "cell_type": "code",
   "execution_count": 19,
   "metadata": {},
   "outputs": [
    {
     "data": {
      "text/html": [
       "<div>\n",
       "<style scoped>\n",
       "    .dataframe tbody tr th:only-of-type {\n",
       "        vertical-align: middle;\n",
       "    }\n",
       "\n",
       "    .dataframe tbody tr th {\n",
       "        vertical-align: top;\n",
       "    }\n",
       "\n",
       "    .dataframe thead th {\n",
       "        text-align: right;\n",
       "    }\n",
       "</style>\n",
       "<table border=\"1\" class=\"dataframe\">\n",
       "  <thead>\n",
       "    <tr style=\"text-align: right;\">\n",
       "      <th></th>\n",
       "      <th>stl1_11</th>\n",
       "      <th>stl1_12</th>\n",
       "      <th>stl1_1</th>\n",
       "      <th>stl1_2</th>\n",
       "      <th>stl1_3</th>\n",
       "      <th>stl1_4</th>\n",
       "      <th>stl2_11</th>\n",
       "      <th>stl2_12</th>\n",
       "      <th>stl2_1</th>\n",
       "      <th>stl2_2</th>\n",
       "      <th>...</th>\n",
       "      <th>countrain_2</th>\n",
       "      <th>countrain_3</th>\n",
       "      <th>countrain_4</th>\n",
       "      <th>rh_11</th>\n",
       "      <th>rh_12</th>\n",
       "      <th>rh_1</th>\n",
       "      <th>rh_2</th>\n",
       "      <th>rh_3</th>\n",
       "      <th>rh_4</th>\n",
       "      <th>Yield(Tonnes/Hectare)</th>\n",
       "    </tr>\n",
       "  </thead>\n",
       "  <tbody>\n",
       "    <tr>\n",
       "      <th>26</th>\n",
       "      <td>23.606566</td>\n",
       "      <td>23.021325</td>\n",
       "      <td>23.502028</td>\n",
       "      <td>27.387912</td>\n",
       "      <td>31.061653</td>\n",
       "      <td>31.461841</td>\n",
       "      <td>23.866433</td>\n",
       "      <td>23.206423</td>\n",
       "      <td>23.466063</td>\n",
       "      <td>26.804002</td>\n",
       "      <td>...</td>\n",
       "      <td>0</td>\n",
       "      <td>0</td>\n",
       "      <td>0</td>\n",
       "      <td>65.697228</td>\n",
       "      <td>46.832721</td>\n",
       "      <td>46.021455</td>\n",
       "      <td>41.723555</td>\n",
       "      <td>39.859076</td>\n",
       "      <td>55.383636</td>\n",
       "      <td>0.69</td>\n",
       "    </tr>\n",
       "    <tr>\n",
       "      <th>27</th>\n",
       "      <td>24.117097</td>\n",
       "      <td>23.341617</td>\n",
       "      <td>25.280307</td>\n",
       "      <td>25.768403</td>\n",
       "      <td>29.366550</td>\n",
       "      <td>31.587788</td>\n",
       "      <td>24.134650</td>\n",
       "      <td>23.518178</td>\n",
       "      <td>25.089439</td>\n",
       "      <td>25.571363</td>\n",
       "      <td>...</td>\n",
       "      <td>0</td>\n",
       "      <td>0</td>\n",
       "      <td>0</td>\n",
       "      <td>53.631625</td>\n",
       "      <td>48.775020</td>\n",
       "      <td>43.727900</td>\n",
       "      <td>49.118243</td>\n",
       "      <td>35.951674</td>\n",
       "      <td>56.507829</td>\n",
       "      <td>0.76</td>\n",
       "    </tr>\n",
       "    <tr>\n",
       "      <th>28</th>\n",
       "      <td>24.517291</td>\n",
       "      <td>23.086925</td>\n",
       "      <td>25.010550</td>\n",
       "      <td>27.498026</td>\n",
       "      <td>29.220050</td>\n",
       "      <td>31.675367</td>\n",
       "      <td>24.598462</td>\n",
       "      <td>23.342463</td>\n",
       "      <td>24.872514</td>\n",
       "      <td>27.057211</td>\n",
       "      <td>...</td>\n",
       "      <td>0</td>\n",
       "      <td>0</td>\n",
       "      <td>0</td>\n",
       "      <td>56.361866</td>\n",
       "      <td>41.849066</td>\n",
       "      <td>46.383026</td>\n",
       "      <td>35.372012</td>\n",
       "      <td>41.936777</td>\n",
       "      <td>51.242699</td>\n",
       "      <td>0.68</td>\n",
       "    </tr>\n",
       "    <tr>\n",
       "      <th>29</th>\n",
       "      <td>25.066667</td>\n",
       "      <td>24.212209</td>\n",
       "      <td>24.263477</td>\n",
       "      <td>27.906499</td>\n",
       "      <td>30.611715</td>\n",
       "      <td>31.546000</td>\n",
       "      <td>25.021255</td>\n",
       "      <td>24.281339</td>\n",
       "      <td>24.309811</td>\n",
       "      <td>27.332833</td>\n",
       "      <td>...</td>\n",
       "      <td>1</td>\n",
       "      <td>1</td>\n",
       "      <td>3</td>\n",
       "      <td>55.274521</td>\n",
       "      <td>46.958055</td>\n",
       "      <td>49.452136</td>\n",
       "      <td>42.016136</td>\n",
       "      <td>41.231111</td>\n",
       "      <td>53.804878</td>\n",
       "      <td>0.63</td>\n",
       "    </tr>\n",
       "    <tr>\n",
       "      <th>30</th>\n",
       "      <td>25.251575</td>\n",
       "      <td>24.731394</td>\n",
       "      <td>26.079689</td>\n",
       "      <td>28.747658</td>\n",
       "      <td>30.933227</td>\n",
       "      <td>31.932207</td>\n",
       "      <td>25.238682</td>\n",
       "      <td>24.868394</td>\n",
       "      <td>25.811132</td>\n",
       "      <td>28.302109</td>\n",
       "      <td>...</td>\n",
       "      <td>0</td>\n",
       "      <td>0</td>\n",
       "      <td>4</td>\n",
       "      <td>54.735471</td>\n",
       "      <td>48.409184</td>\n",
       "      <td>49.634257</td>\n",
       "      <td>43.440381</td>\n",
       "      <td>40.950249</td>\n",
       "      <td>49.952984</td>\n",
       "      <td>0.78</td>\n",
       "    </tr>\n",
       "    <tr>\n",
       "      <th>31</th>\n",
       "      <td>25.710715</td>\n",
       "      <td>23.897344</td>\n",
       "      <td>24.796705</td>\n",
       "      <td>27.707628</td>\n",
       "      <td>31.636369</td>\n",
       "      <td>31.707627</td>\n",
       "      <td>25.772271</td>\n",
       "      <td>24.082715</td>\n",
       "      <td>24.807147</td>\n",
       "      <td>27.189009</td>\n",
       "      <td>...</td>\n",
       "      <td>0</td>\n",
       "      <td>0</td>\n",
       "      <td>1</td>\n",
       "      <td>53.650527</td>\n",
       "      <td>44.546345</td>\n",
       "      <td>50.381048</td>\n",
       "      <td>39.260265</td>\n",
       "      <td>42.659520</td>\n",
       "      <td>49.297422</td>\n",
       "      <td>0.79</td>\n",
       "    </tr>\n",
       "    <tr>\n",
       "      <th>32</th>\n",
       "      <td>24.850651</td>\n",
       "      <td>23.730337</td>\n",
       "      <td>25.289686</td>\n",
       "      <td>27.195511</td>\n",
       "      <td>30.071296</td>\n",
       "      <td>30.917768</td>\n",
       "      <td>24.969822</td>\n",
       "      <td>23.816531</td>\n",
       "      <td>25.248790</td>\n",
       "      <td>26.731755</td>\n",
       "      <td>...</td>\n",
       "      <td>0</td>\n",
       "      <td>0</td>\n",
       "      <td>3</td>\n",
       "      <td>52.846688</td>\n",
       "      <td>43.753304</td>\n",
       "      <td>48.502916</td>\n",
       "      <td>40.312676</td>\n",
       "      <td>40.866102</td>\n",
       "      <td>53.469799</td>\n",
       "      <td>0.88</td>\n",
       "    </tr>\n",
       "    <tr>\n",
       "      <th>33</th>\n",
       "      <td>23.677586</td>\n",
       "      <td>24.280024</td>\n",
       "      <td>24.719925</td>\n",
       "      <td>27.166216</td>\n",
       "      <td>29.302767</td>\n",
       "      <td>31.872305</td>\n",
       "      <td>23.799820</td>\n",
       "      <td>24.387154</td>\n",
       "      <td>24.654535</td>\n",
       "      <td>26.626993</td>\n",
       "      <td>...</td>\n",
       "      <td>0</td>\n",
       "      <td>1</td>\n",
       "      <td>0</td>\n",
       "      <td>47.666469</td>\n",
       "      <td>44.595575</td>\n",
       "      <td>42.316307</td>\n",
       "      <td>36.745399</td>\n",
       "      <td>45.291629</td>\n",
       "      <td>48.351619</td>\n",
       "      <td>0.77</td>\n",
       "    </tr>\n",
       "    <tr>\n",
       "      <th>34</th>\n",
       "      <td>24.579981</td>\n",
       "      <td>23.621766</td>\n",
       "      <td>25.105282</td>\n",
       "      <td>26.748328</td>\n",
       "      <td>30.545402</td>\n",
       "      <td>31.865377</td>\n",
       "      <td>24.621633</td>\n",
       "      <td>23.815832</td>\n",
       "      <td>24.901111</td>\n",
       "      <td>26.492029</td>\n",
       "      <td>...</td>\n",
       "      <td>1</td>\n",
       "      <td>0</td>\n",
       "      <td>0</td>\n",
       "      <td>73.626048</td>\n",
       "      <td>51.185562</td>\n",
       "      <td>46.685343</td>\n",
       "      <td>45.403295</td>\n",
       "      <td>44.905075</td>\n",
       "      <td>52.815525</td>\n",
       "      <td>0.75</td>\n",
       "    </tr>\n",
       "    <tr>\n",
       "      <th>35</th>\n",
       "      <td>24.196563</td>\n",
       "      <td>25.191616</td>\n",
       "      <td>24.882509</td>\n",
       "      <td>26.918240</td>\n",
       "      <td>28.635629</td>\n",
       "      <td>29.665287</td>\n",
       "      <td>24.393586</td>\n",
       "      <td>25.074395</td>\n",
       "      <td>24.979786</td>\n",
       "      <td>26.482202</td>\n",
       "      <td>...</td>\n",
       "      <td>0</td>\n",
       "      <td>3</td>\n",
       "      <td>1</td>\n",
       "      <td>54.088583</td>\n",
       "      <td>50.876596</td>\n",
       "      <td>42.854360</td>\n",
       "      <td>45.028411</td>\n",
       "      <td>50.969541</td>\n",
       "      <td>57.184374</td>\n",
       "      <td>0.94</td>\n",
       "    </tr>\n",
       "  </tbody>\n",
       "</table>\n",
       "<p>10 rows × 97 columns</p>\n",
       "</div>"
      ],
      "text/plain": [
       "      stl1_11    stl1_12     stl1_1     stl1_2     stl1_3     stl1_4  \\\n",
       "26  23.606566  23.021325  23.502028  27.387912  31.061653  31.461841   \n",
       "27  24.117097  23.341617  25.280307  25.768403  29.366550  31.587788   \n",
       "28  24.517291  23.086925  25.010550  27.498026  29.220050  31.675367   \n",
       "29  25.066667  24.212209  24.263477  27.906499  30.611715  31.546000   \n",
       "30  25.251575  24.731394  26.079689  28.747658  30.933227  31.932207   \n",
       "31  25.710715  23.897344  24.796705  27.707628  31.636369  31.707627   \n",
       "32  24.850651  23.730337  25.289686  27.195511  30.071296  30.917768   \n",
       "33  23.677586  24.280024  24.719925  27.166216  29.302767  31.872305   \n",
       "34  24.579981  23.621766  25.105282  26.748328  30.545402  31.865377   \n",
       "35  24.196563  25.191616  24.882509  26.918240  28.635629  29.665287   \n",
       "\n",
       "      stl2_11    stl2_12     stl2_1     stl2_2  ...  countrain_2  countrain_3  \\\n",
       "26  23.866433  23.206423  23.466063  26.804002  ...            0            0   \n",
       "27  24.134650  23.518178  25.089439  25.571363  ...            0            0   \n",
       "28  24.598462  23.342463  24.872514  27.057211  ...            0            0   \n",
       "29  25.021255  24.281339  24.309811  27.332833  ...            1            1   \n",
       "30  25.238682  24.868394  25.811132  28.302109  ...            0            0   \n",
       "31  25.772271  24.082715  24.807147  27.189009  ...            0            0   \n",
       "32  24.969822  23.816531  25.248790  26.731755  ...            0            0   \n",
       "33  23.799820  24.387154  24.654535  26.626993  ...            0            1   \n",
       "34  24.621633  23.815832  24.901111  26.492029  ...            1            0   \n",
       "35  24.393586  25.074395  24.979786  26.482202  ...            0            3   \n",
       "\n",
       "    countrain_4      rh_11      rh_12       rh_1       rh_2       rh_3  \\\n",
       "26            0  65.697228  46.832721  46.021455  41.723555  39.859076   \n",
       "27            0  53.631625  48.775020  43.727900  49.118243  35.951674   \n",
       "28            0  56.361866  41.849066  46.383026  35.372012  41.936777   \n",
       "29            3  55.274521  46.958055  49.452136  42.016136  41.231111   \n",
       "30            4  54.735471  48.409184  49.634257  43.440381  40.950249   \n",
       "31            1  53.650527  44.546345  50.381048  39.260265  42.659520   \n",
       "32            3  52.846688  43.753304  48.502916  40.312676  40.866102   \n",
       "33            0  47.666469  44.595575  42.316307  36.745399  45.291629   \n",
       "34            0  73.626048  51.185562  46.685343  45.403295  44.905075   \n",
       "35            1  54.088583  50.876596  42.854360  45.028411  50.969541   \n",
       "\n",
       "         rh_4  Yield(Tonnes/Hectare)  \n",
       "26  55.383636                   0.69  \n",
       "27  56.507829                   0.76  \n",
       "28  51.242699                   0.68  \n",
       "29  53.804878                   0.63  \n",
       "30  49.952984                   0.78  \n",
       "31  49.297422                   0.79  \n",
       "32  53.469799                   0.88  \n",
       "33  48.351619                   0.77  \n",
       "34  52.815525                   0.75  \n",
       "35  57.184374                   0.94  \n",
       "\n",
       "[10 rows x 97 columns]"
      ]
     },
     "execution_count": 19,
     "metadata": {},
     "output_type": "execute_result"
    }
   ],
   "source": [
    "df.head(10)"
   ]
  },
  {
   "cell_type": "code",
   "execution_count": 20,
   "metadata": {},
   "outputs": [
    {
     "data": {
      "text/plain": [
       "(662, 97)"
      ]
     },
     "execution_count": 20,
     "metadata": {},
     "output_type": "execute_result"
    }
   ],
   "source": [
    "df.shape"
   ]
  },
  {
   "cell_type": "code",
   "execution_count": 21,
   "metadata": {},
   "outputs": [],
   "source": [
    "# cat_cols = ['DistrictName', 'year']\n",
    "# # Label encode categorical columns\n",
    "# encoder = LabelEncoder()\n",
    "# df[cat_cols] = df[cat_cols].apply(encoder.fit_transform)"
   ]
  },
  {
   "cell_type": "code",
   "execution_count": 22,
   "metadata": {},
   "outputs": [
    {
     "data": {
      "text/html": [
       "<div>\n",
       "<style scoped>\n",
       "    .dataframe tbody tr th:only-of-type {\n",
       "        vertical-align: middle;\n",
       "    }\n",
       "\n",
       "    .dataframe tbody tr th {\n",
       "        vertical-align: top;\n",
       "    }\n",
       "\n",
       "    .dataframe thead th {\n",
       "        text-align: right;\n",
       "    }\n",
       "</style>\n",
       "<table border=\"1\" class=\"dataframe\">\n",
       "  <thead>\n",
       "    <tr style=\"text-align: right;\">\n",
       "      <th></th>\n",
       "      <th>stl1_11</th>\n",
       "      <th>stl1_12</th>\n",
       "      <th>stl1_1</th>\n",
       "      <th>stl1_2</th>\n",
       "      <th>stl1_3</th>\n",
       "      <th>stl1_4</th>\n",
       "      <th>stl2_11</th>\n",
       "      <th>stl2_12</th>\n",
       "      <th>stl2_1</th>\n",
       "      <th>stl2_2</th>\n",
       "      <th>...</th>\n",
       "      <th>countrain_2</th>\n",
       "      <th>countrain_3</th>\n",
       "      <th>countrain_4</th>\n",
       "      <th>rh_11</th>\n",
       "      <th>rh_12</th>\n",
       "      <th>rh_1</th>\n",
       "      <th>rh_2</th>\n",
       "      <th>rh_3</th>\n",
       "      <th>rh_4</th>\n",
       "      <th>Yield(Tonnes/Hectare)</th>\n",
       "    </tr>\n",
       "  </thead>\n",
       "  <tbody>\n",
       "    <tr>\n",
       "      <th>26</th>\n",
       "      <td>23.606566</td>\n",
       "      <td>23.021325</td>\n",
       "      <td>23.502028</td>\n",
       "      <td>27.387912</td>\n",
       "      <td>31.061653</td>\n",
       "      <td>31.461841</td>\n",
       "      <td>23.866433</td>\n",
       "      <td>23.206423</td>\n",
       "      <td>23.466063</td>\n",
       "      <td>26.804002</td>\n",
       "      <td>...</td>\n",
       "      <td>0</td>\n",
       "      <td>0</td>\n",
       "      <td>0</td>\n",
       "      <td>65.697228</td>\n",
       "      <td>46.832721</td>\n",
       "      <td>46.021455</td>\n",
       "      <td>41.723555</td>\n",
       "      <td>39.859076</td>\n",
       "      <td>55.383636</td>\n",
       "      <td>0.69</td>\n",
       "    </tr>\n",
       "    <tr>\n",
       "      <th>27</th>\n",
       "      <td>24.117097</td>\n",
       "      <td>23.341617</td>\n",
       "      <td>25.280307</td>\n",
       "      <td>25.768403</td>\n",
       "      <td>29.366550</td>\n",
       "      <td>31.587788</td>\n",
       "      <td>24.134650</td>\n",
       "      <td>23.518178</td>\n",
       "      <td>25.089439</td>\n",
       "      <td>25.571363</td>\n",
       "      <td>...</td>\n",
       "      <td>0</td>\n",
       "      <td>0</td>\n",
       "      <td>0</td>\n",
       "      <td>53.631625</td>\n",
       "      <td>48.775020</td>\n",
       "      <td>43.727900</td>\n",
       "      <td>49.118243</td>\n",
       "      <td>35.951674</td>\n",
       "      <td>56.507829</td>\n",
       "      <td>0.76</td>\n",
       "    </tr>\n",
       "    <tr>\n",
       "      <th>28</th>\n",
       "      <td>24.517291</td>\n",
       "      <td>23.086925</td>\n",
       "      <td>25.010550</td>\n",
       "      <td>27.498026</td>\n",
       "      <td>29.220050</td>\n",
       "      <td>31.675367</td>\n",
       "      <td>24.598462</td>\n",
       "      <td>23.342463</td>\n",
       "      <td>24.872514</td>\n",
       "      <td>27.057211</td>\n",
       "      <td>...</td>\n",
       "      <td>0</td>\n",
       "      <td>0</td>\n",
       "      <td>0</td>\n",
       "      <td>56.361866</td>\n",
       "      <td>41.849066</td>\n",
       "      <td>46.383026</td>\n",
       "      <td>35.372012</td>\n",
       "      <td>41.936777</td>\n",
       "      <td>51.242699</td>\n",
       "      <td>0.68</td>\n",
       "    </tr>\n",
       "    <tr>\n",
       "      <th>29</th>\n",
       "      <td>25.066667</td>\n",
       "      <td>24.212209</td>\n",
       "      <td>24.263477</td>\n",
       "      <td>27.906499</td>\n",
       "      <td>30.611715</td>\n",
       "      <td>31.546000</td>\n",
       "      <td>25.021255</td>\n",
       "      <td>24.281339</td>\n",
       "      <td>24.309811</td>\n",
       "      <td>27.332833</td>\n",
       "      <td>...</td>\n",
       "      <td>1</td>\n",
       "      <td>1</td>\n",
       "      <td>3</td>\n",
       "      <td>55.274521</td>\n",
       "      <td>46.958055</td>\n",
       "      <td>49.452136</td>\n",
       "      <td>42.016136</td>\n",
       "      <td>41.231111</td>\n",
       "      <td>53.804878</td>\n",
       "      <td>0.63</td>\n",
       "    </tr>\n",
       "    <tr>\n",
       "      <th>30</th>\n",
       "      <td>25.251575</td>\n",
       "      <td>24.731394</td>\n",
       "      <td>26.079689</td>\n",
       "      <td>28.747658</td>\n",
       "      <td>30.933227</td>\n",
       "      <td>31.932207</td>\n",
       "      <td>25.238682</td>\n",
       "      <td>24.868394</td>\n",
       "      <td>25.811132</td>\n",
       "      <td>28.302109</td>\n",
       "      <td>...</td>\n",
       "      <td>0</td>\n",
       "      <td>0</td>\n",
       "      <td>4</td>\n",
       "      <td>54.735471</td>\n",
       "      <td>48.409184</td>\n",
       "      <td>49.634257</td>\n",
       "      <td>43.440381</td>\n",
       "      <td>40.950249</td>\n",
       "      <td>49.952984</td>\n",
       "      <td>0.78</td>\n",
       "    </tr>\n",
       "  </tbody>\n",
       "</table>\n",
       "<p>5 rows × 97 columns</p>\n",
       "</div>"
      ],
      "text/plain": [
       "      stl1_11    stl1_12     stl1_1     stl1_2     stl1_3     stl1_4  \\\n",
       "26  23.606566  23.021325  23.502028  27.387912  31.061653  31.461841   \n",
       "27  24.117097  23.341617  25.280307  25.768403  29.366550  31.587788   \n",
       "28  24.517291  23.086925  25.010550  27.498026  29.220050  31.675367   \n",
       "29  25.066667  24.212209  24.263477  27.906499  30.611715  31.546000   \n",
       "30  25.251575  24.731394  26.079689  28.747658  30.933227  31.932207   \n",
       "\n",
       "      stl2_11    stl2_12     stl2_1     stl2_2  ...  countrain_2  countrain_3  \\\n",
       "26  23.866433  23.206423  23.466063  26.804002  ...            0            0   \n",
       "27  24.134650  23.518178  25.089439  25.571363  ...            0            0   \n",
       "28  24.598462  23.342463  24.872514  27.057211  ...            0            0   \n",
       "29  25.021255  24.281339  24.309811  27.332833  ...            1            1   \n",
       "30  25.238682  24.868394  25.811132  28.302109  ...            0            0   \n",
       "\n",
       "    countrain_4      rh_11      rh_12       rh_1       rh_2       rh_3  \\\n",
       "26            0  65.697228  46.832721  46.021455  41.723555  39.859076   \n",
       "27            0  53.631625  48.775020  43.727900  49.118243  35.951674   \n",
       "28            0  56.361866  41.849066  46.383026  35.372012  41.936777   \n",
       "29            3  55.274521  46.958055  49.452136  42.016136  41.231111   \n",
       "30            4  54.735471  48.409184  49.634257  43.440381  40.950249   \n",
       "\n",
       "         rh_4  Yield(Tonnes/Hectare)  \n",
       "26  55.383636                   0.69  \n",
       "27  56.507829                   0.76  \n",
       "28  51.242699                   0.68  \n",
       "29  53.804878                   0.63  \n",
       "30  49.952984                   0.78  \n",
       "\n",
       "[5 rows x 97 columns]"
      ]
     },
     "execution_count": 22,
     "metadata": {},
     "output_type": "execute_result"
    }
   ],
   "source": [
    "df.head()"
   ]
  },
  {
   "cell_type": "code",
   "execution_count": 23,
   "metadata": {},
   "outputs": [
    {
     "data": {
      "text/plain": [
       "(662, 97)"
      ]
     },
     "execution_count": 23,
     "metadata": {},
     "output_type": "execute_result"
    }
   ],
   "source": [
    "df.shape"
   ]
  },
  {
   "cell_type": "code",
   "execution_count": 24,
   "metadata": {},
   "outputs": [
    {
     "data": {
      "text/plain": [
       "Index(['stl1_11', 'stl1_12', 'stl1_1', 'stl1_2', 'stl1_3', 'stl1_4', 'stl2_11',\n",
       "       'stl2_12', 'stl2_1', 'stl2_2', 'stl2_3', 'stl2_4', 'stl3_11', 'stl3_12',\n",
       "       'stl3_1', 'stl3_2', 'stl3_3', 'stl3_4', 'stl4_11', 'stl4_12', 'stl4_1',\n",
       "       'stl4_2', 'stl4_3', 'stl4_4', 'swvl1_11', 'swvl1_12', 'swvl1_1',\n",
       "       'swvl1_2', 'swvl1_3', 'swvl1_4', 'swvl2_11', 'swvl2_12', 'swvl2_1',\n",
       "       'swvl2_2', 'swvl2_3', 'swvl2_4', 'swvl3_11', 'swvl3_12', 'swvl3_1',\n",
       "       'swvl3_2', 'swvl3_3', 'swvl3_4', 'swvl4_11', 'swvl4_12', 'swvl4_1',\n",
       "       'swvl4_2', 'swvl4_3', 'swvl4_4', 'ssr_11', 'ssr_12', 'ssr_1', 'ssr_2',\n",
       "       'ssr_3', 'ssr_4', 'u10_11', 'u10_12', 'u10_1', 'u10_2', 'u10_3',\n",
       "       'u10_4', 'v10_11', 'v10_12', 'v10_1', 'v10_2', 'v10_3', 'v10_4',\n",
       "       'tmax_11', 'tmax_12', 'tmax_1', 'tmax_2', 'tmax_3', 'tmax_4', 'tmin_11',\n",
       "       'tmin_12', 'tmin_1', 'tmin_2', 'tmin_3', 'tmin_4', 'rain_11', 'rain_12',\n",
       "       'rain_1', 'rain_2', 'rain_3', 'rain_4', 'countrain_11', 'countrain_12',\n",
       "       'countrain_1', 'countrain_2', 'countrain_3', 'countrain_4', 'rh_11',\n",
       "       'rh_12', 'rh_1', 'rh_2', 'rh_3', 'rh_4', 'Yield(Tonnes/Hectare)'],\n",
       "      dtype='object')"
      ]
     },
     "execution_count": 24,
     "metadata": {},
     "output_type": "execute_result"
    }
   ],
   "source": [
    "df.columns"
   ]
  },
  {
   "cell_type": "code",
   "execution_count": 25,
   "metadata": {},
   "outputs": [],
   "source": [
    "#df = df[['countrain_11', 'countrain_12', 'countrain_1','countrain_2', 'countrain_3', 'countrain_4', 'rain_11', 'rain_12','rain_1', 'rain_2', 'rain_3', 'rain_4','tmax_11', 'tmax_12', 'tmax_1','tmax_2', 'tmax_3', 'tmax_4', 'tmin_11', 'tmin_12', 'tmin_1', 'tmin_2','tmin_3', 'tmin_4','Yield(Tonnes/Hectare)']]"
   ]
  },
  {
   "cell_type": "code",
   "execution_count": 26,
   "metadata": {},
   "outputs": [],
   "source": [
    "#df = df.drop(columns=['countrain_11', 'countrain_12', 'countrain_1','countrain_2', 'countrain_3', 'countrain_4', 'rain_11', 'rain_12','rain_1', 'rain_2', 'rain_3', 'rain_4','tmax_11', 'tmax_12', 'tmax_1','tmax_2', 'tmax_3', 'tmax_4', 'tmin_11', 'tmin_12', 'tmin_1', 'tmin_2','tmin_3', 'tmin_4'])"
   ]
  },
  {
   "cell_type": "code",
   "execution_count": 27,
   "metadata": {},
   "outputs": [
    {
     "data": {
      "text/plain": [
       "(662, 97)"
      ]
     },
     "execution_count": 27,
     "metadata": {},
     "output_type": "execute_result"
    }
   ],
   "source": [
    "df.shape"
   ]
  },
  {
   "cell_type": "code",
   "execution_count": 28,
   "metadata": {},
   "outputs": [],
   "source": [
    "X = df.drop('Yield(Tonnes/Hectare)', axis=1)  # Features\n",
    "y = df['Yield(Tonnes/Hectare)']  # Target variable\n",
    "\n",
    "# Split the dataset into training and testing sets\n",
    "#X_train, X_test, y_train, y_test = train_test_split(X, y, test_size=0.2, random_state=42)"
   ]
  },
  {
   "cell_type": "code",
   "execution_count": 29,
   "metadata": {},
   "outputs": [],
   "source": [
    "# X = X.drop(columns=['stl2','stl3'],axis=1)"
   ]
  },
  {
   "cell_type": "code",
   "execution_count": 30,
   "metadata": {},
   "outputs": [
    {
     "name": "stdout",
     "output_type": "stream",
     "text": [
      "Linear Regression - R^2 Score (Train) : 0.51, R^2 Score (Test): 0.29\n",
      "[0.19765012047904407, 0.19387829565309944, 0.239510284924366, 0.4085077352209856, 0.11000531433139293, 0.09493578325193419, 0.5043597122122307, 0.21317725846837676, 0.4546015587493353, 0.43358679510701026]\n",
      "Ridge Regression - R^2 Score (Train) : 0.45, R^2 Score (Test): 0.28\n",
      "[0.1889347053316236, 0.3692545381828468, 0.20403012487006678, 0.3696436445907625, 0.36621714203083733, 0.20791066375302736, 0.2078161867950128, 0.2629615760535351, 0.41445988011805424, 0.22971353329923094]\n",
      "XGB Regressor - R^2 Score (Train) : 1.00, R^2 Score (Test): 0.33\n",
      "[-0.008903456345256577, 0.2516571581783754, 0.026864535653381316, 0.4835610726602788, 0.3255129538232977, 0.5746040037720397, 0.3228008194936002, 0.37682983609691356, 0.5107043509289741, 0.4243531194900141]\n",
      "Lasso Regression - R^2 Score (Train) : 0.16, R^2 Score (Test): 0.13\n",
      "[0.1305040411185734, 0.0454712007394531, 0.2153874449416726, 0.1977006800201504, 0.0988501131443762, 0.20506369011983516, 0.18711030984604238, 0.14140629503483326, 0.03497221011723406, 0.07876653695601055]\n",
      "Decision Tree - R^2 Score (Train) : 1.00, R^2 Score (Test): -0.22\n",
      "[-0.6859796304351151, 0.04741637396122911, -0.1620178166052133, -0.14061468417516254, -0.3484368714166819, -0.23531629417678435, -0.35581245018909313, -0.22160060147335692, 0.0723445453064041, -0.21036765498652255]\n",
      "Gradient Boosting - R^2 Score (Train) : 0.86, R^2 Score (Test): 0.34\n",
      "[0.10545072305881509, 0.3492805032996238, 0.41476704855115454, 0.5270365207528638, 0.3198157926851516, 0.39297692478093227, 0.4084137761170413, 0.4150469780769518, 0.29272407175899395, 0.16982727933575092]\n",
      "Random Forest - R^2 Score (Train) : 0.91, R^2 Score (Test): 0.38\n",
      "[0.4150827709140703, 0.3799514658900961, 0.39332057046305113, 0.26961997076743516, 0.4175989956170859, 0.396181505197708, 0.2694010778552879, 0.35361501140632934, 0.3969013476631652, 0.49753574763993613]\n",
      "Support Vector Machine - R^2 Score (Train) : 0.11, R^2 Score (Test): 0.08\n",
      "[0.06645173502556123, 0.15174509459641583, 0.16862714852161798, 0.01835814473883346, 0.07246031310032441, 0.09839632384074815, 0.0767912375541221, 0.046643687602963, 0.11668945929560992, 0.016207011962504514]\n"
     ]
    }
   ],
   "source": [
    "# Import necessary libraries\n",
    "import numpy as np\n",
    "import pandas as pd\n",
    "from sklearn.model_selection import train_test_split\n",
    "from sklearn.linear_model import LinearRegression, Ridge, Lasso\n",
    "from sklearn.tree import DecisionTreeRegressor\n",
    "from sklearn.ensemble import RandomForestRegressor, GradientBoostingRegressor\n",
    "from sklearn.svm import SVR\n",
    "import xgboost as xgb\n",
    "from sklearn.metrics import mean_squared_error, r2_score\n",
    "from sklearn.model_selection import KFold\n",
    "\n",
    "\n",
    "\n",
    "\n",
    "# Models\n",
    "models = {\n",
    "    \"Linear Regression\": LinearRegression(),\n",
    "    \"Ridge Regression\": Ridge(),\n",
    "    \"XGB Regressor\": xgb.XGBRegressor(objective='reg:squarederror', random_state=42),\n",
    "    \"Lasso Regression\": Lasso(),\n",
    "    \"Decision Tree\": DecisionTreeRegressor(),\n",
    "    \"Gradient Boosting\": GradientBoostingRegressor(),\n",
    "    \"Random Forest\": RandomForestRegressor(),\n",
    "    \"Support Vector Machine\": SVR()\n",
    "}\n",
    "\n",
    "# Train and evaluate each model\n",
    "for name, model in models.items():\n",
    "\n",
    "    mse_scores_test = []\n",
    "    mse_scores_train = []\n",
    "    r2_scores_test = []\n",
    "    r2_scores_train = []\n",
    "    # Create KFold object\n",
    "    k = 10\n",
    "    kfold = KFold(n_splits=k, shuffle=True)\n",
    "\n",
    "    for train_index, test_index in kfold.split(X):\n",
    "        X_train, X_test = X.iloc[train_index], X.iloc[test_index]\n",
    "        y_train, y_test = y.iloc[train_index], y.iloc[test_index]\n",
    "        model.fit(X_train, y_train)\n",
    "        y_pred_test = model.predict(X_test)\n",
    "        y_pred_train = model.predict(X_train)\n",
    "        mse_test = mean_squared_error(y_test, y_pred_test)\n",
    "        mse_train = mean_squared_error(y_train, y_pred_train)\n",
    "        r2_test = r2_score(y_test, y_pred_test)\n",
    "        r2_train = r2_score(y_train, y_pred_train)\n",
    "        mse_scores_test.append(mse_test)\n",
    "        mse_scores_train.append(mse_train)\n",
    "        r2_scores_test.append(r2_test)\n",
    "        r2_scores_train.append(r2_train)\n",
    "\n",
    "    average_mse_test = np.mean(mse_scores_test)\n",
    "    average_mse_train = np.mean(mse_scores_train)\n",
    "    average_r2_test = np.mean(r2_scores_test)\n",
    "    average_r2_train = np.mean(r2_scores_train)  \n",
    "\n",
    "    print(f'{name} - R^2 Score (Train) : {average_r2_train:.2f}, R^2 Score (Test): {average_r2_test:.2f}')\n",
    "    print(r2_scores_test)\n"
   ]
  },
  {
   "cell_type": "code",
   "execution_count": 31,
   "metadata": {},
   "outputs": [],
   "source": [
    "X_train, X_test, y_train, y_test = train_test_split(X, y, test_size=0.2, random_state=42)"
   ]
  },
  {
   "cell_type": "code",
   "execution_count": 32,
   "metadata": {},
   "outputs": [],
   "source": [
    "# import pandas as pd\n",
    "\n",
    "# # Assuming X_train is your DataFrame\n",
    "# # X_train = pd.DataFrame(...)\n",
    "\n",
    "# corr_matrix = X_train.corr()\n",
    "\n",
    "# # Get the column names of the DataFrame\n",
    "# columns = corr_matrix.columns\n",
    "\n",
    "# # Create an empty list to keep track of columns to drop\n",
    "# columns_to_drop = []\n",
    "# # Create a dictionary to store highly correlated features\n",
    "# highly_correlated_features = {}\n",
    "\n",
    "# # Loop over the columns\n",
    "# for i in range(len(columns)):\n",
    "#     for j in range(0, len(columns)):  # Loop only over the upper triangle to avoid duplicate comparisons\n",
    "#         # Access the cell of the DataFrame\n",
    "#         if abs(corr_matrix.iloc[i, j]) > 0.90:\n",
    "#             # Sort correlated features based on correlation coefficient\n",
    "#             sorted_features = sorted([(corr_matrix.iloc[i, j], columns[j]), (corr_matrix.iloc[i, i], columns[i])],\n",
    "#                                      key=lambda x: abs(x[0]), reverse=True)\n",
    "#             # Add the column to drop\n",
    "#             columns_to_drop.append(sorted_features[1][1])  # Add the one with lower correlation\n",
    "#             # Update the dictionary with highly correlated features\n",
    "#             if sorted_features[0][1] in highly_correlated_features:\n",
    "#                 highly_correlated_features[sorted_features[0][1]].append(sorted_features[1][1])\n",
    "#             else:\n",
    "#                 highly_correlated_features[sorted_features[0][1]] = [sorted_features[1][1]]\n",
    "\n",
    "# print(len(columns_to_drop))\n"
   ]
  },
  {
   "cell_type": "code",
   "execution_count": 33,
   "metadata": {},
   "outputs": [],
   "source": [
    "# import seaborn as sns\n",
    "\n",
    "# corr_matrix = X_train.corr()\n",
    "\n",
    "# # Get the column names of the DataFrame\n",
    "# columns = corr_matrix.columns\n",
    "\n",
    "# # Define a function to sort correlations in descending order (absolute value)\n",
    "# def sort_correlations(series):\n",
    "#   # Take the absolute value of the series\n",
    "#   abs_series = series.abs()\n",
    "#   # Sort the absolute values in descending order\n",
    "#   return abs_series.sort_values(ascending=False)\n",
    "\n",
    "# # Sort each column of the correlation matrix\n",
    "# sorted_corr_matrix = corr_matrix.apply(sort_correlations)\n",
    "\n",
    "# # Create an empty list to keep track of columns to drop\n",
    "# columns_to_drop = []\n",
    "# # Create a dictionary to store highly correlated features\n",
    "# highly_correlated_features = {}\n",
    "\n",
    "# # Loop over the sorted correlation matrix\n",
    "# for i in range(len(sorted_corr_matrix.columns)):\n",
    "#   # Skip the diagonal (correlation with self)\n",
    "#   if i == sorted_corr_matrix.columns[i]:\n",
    "#     continue\n",
    "#   # Get the current column and sorted correlations\n",
    "#   current_column = sorted_corr_matrix.columns[i]\n",
    "#   sorted_correlations = sorted_corr_matrix.loc[current_column]\n",
    "  \n",
    "#   # Identify highly correlated features (> 0.90) excluding the current column\n",
    "#   highly_correlated_features[current_column] = list(sorted_correlations[sorted_correlations > 0.90].index.difference([current_column]))\n",
    "\n",
    "#   # Update columns to drop based on correlations with the current column\n",
    "#   columns_to_drop.extend(highly_correlated_features[current_column])\n",
    "\n",
    "# # Remove duplicates from columns to drop\n",
    "# columns_to_drop = list(set(columns_to_drop))\n",
    "\n",
    "# print(len(columns_to_drop))"
   ]
  },
  {
   "cell_type": "code",
   "execution_count": 34,
   "metadata": {},
   "outputs": [
    {
     "name": "stdout",
     "output_type": "stream",
     "text": [
      "172\n"
     ]
    }
   ],
   "source": [
    "import seaborn as sns\n",
    "corr_matrix = X_train.corr()\n",
    "\n",
    "# Get the column names of the DataFrame\n",
    "columns = corr_matrix.columns\n",
    "\n",
    "# Create an empty list to keep track of columns to drop\n",
    "columns_to_drop = []\n",
    "# Create a dictionary to store highly correlated features\n",
    "highly_correlated_features = {}\n",
    "\n",
    "# Loop over the columns\n",
    "for i in range(len(columns)):\n",
    "    for j in range(0, len(columns)):\n",
    "        # Access the cell of the DataFrame\n",
    "        if i != j and corr_matrix.iloc[i, j] > 0.90:\n",
    "            # Add the column to drop\n",
    "            columns_to_drop.append(columns[j])\n",
    "            # Update the dictionary with highly correlated features\n",
    "            if columns[i] in highly_correlated_features:\n",
    "                highly_correlated_features[columns[i]].append((columns[j], corr_matrix.iloc[i, j].round(4)))\n",
    "            else:\n",
    "                highly_correlated_features[columns[i]] = [(columns[j], corr_matrix.iloc[i, j].round(4))]\n",
    "\n",
    "\n",
    "print(len(columns_to_drop))"
   ]
  },
  {
   "cell_type": "code",
   "execution_count": 35,
   "metadata": {},
   "outputs": [
    {
     "name": "stdout",
     "output_type": "stream",
     "text": [
      "['stl2_11', 'stl3_11', 'stl2_12', 'stl3_12', 'stl3_1', 'stl2_1', 'stl3_1', 'stl2_2', 'stl3_2', 'stl2_3', 'stl3_3', 'stl2_4', 'stl3_4', 'stl1_11', 'stl3_11', 'stl1_12', 'stl3_12', 'stl3_1', 'stl1_1', 'stl3_1', 'stl1_2', 'stl3_2', 'stl1_3', 'stl3_3', 'stl1_4', 'stl3_4', 'stl1_11', 'stl2_11', 'stl4_12', 'stl4_1', 'stl1_12', 'stl2_12', 'stl4_1', 'stl4_2', 'stl1_12', 'stl1_1', 'stl2_12', 'stl2_1', 'stl4_2', 'stl1_2', 'stl2_2', 'stl4_3', 'stl4_4', 'stl1_3', 'stl2_3', 'stl4_3', 'stl4_4', 'stl1_4', 'stl2_4', 'stl4_12', 'stl3_11', 'stl4_11', 'stl4_1', 'stl3_11', 'stl3_12', 'stl4_12', 'stl4_2', 'stl4_3', 'stl3_12', 'stl3_1', 'stl4_1', 'stl4_3', 'stl4_4', 'stl3_2', 'stl3_3', 'stl4_1', 'stl4_2', 'stl4_4', 'stl3_2', 'stl3_3', 'stl4_2', 'stl4_3', 'swvl1_2', 'swvl1_1', 'swvl3_11', 'swvl3_12', 'swvl2_1', 'swvl3_12', 'swvl3_1', 'swvl3_2', 'swvl3_3', 'swvl2_12', 'swvl2_2', 'swvl2_3', 'swvl2_4', 'swvl3_1', 'swvl3_2', 'swvl3_3', 'swvl3_4', 'swvl2_1', 'swvl2_3', 'swvl2_4', 'swvl3_2', 'swvl3_3', 'swvl3_4', 'swvl2_1', 'swvl2_2', 'swvl2_4', 'swvl3_3', 'swvl3_4', 'swvl2_1', 'swvl2_2', 'swvl2_3', 'swvl3_3', 'swvl3_4', 'swvl2_11', 'swvl3_12', 'swvl2_11', 'swvl2_12', 'swvl3_11', 'swvl3_1', 'swvl3_2', 'swvl2_12', 'swvl2_1', 'swvl3_12', 'swvl3_2', 'swvl3_3', 'swvl3_4', 'swvl2_12', 'swvl2_1', 'swvl2_2', 'swvl3_12', 'swvl3_1', 'swvl3_3', 'swvl3_4', 'swvl2_12', 'swvl2_1', 'swvl2_2', 'swvl2_3', 'swvl2_4', 'swvl3_1', 'swvl3_2', 'swvl3_4', 'swvl2_1', 'swvl2_2', 'swvl2_3', 'swvl2_4', 'swvl3_1', 'swvl3_2', 'swvl3_3', 'swvl4_12', 'swvl4_1', 'swvl4_2', 'swvl4_3', 'swvl4_4', 'swvl4_11', 'swvl4_1', 'swvl4_2', 'swvl4_3', 'swvl4_4', 'swvl4_11', 'swvl4_12', 'swvl4_2', 'swvl4_3', 'swvl4_4', 'swvl4_11', 'swvl4_12', 'swvl4_1', 'swvl4_3', 'swvl4_4', 'swvl4_11', 'swvl4_12', 'swvl4_1', 'swvl4_2', 'swvl4_4', 'swvl4_11', 'swvl4_12', 'swvl4_1', 'swvl4_2', 'swvl4_3', 'countrain_2', 'rain_2']\n"
     ]
    }
   ],
   "source": [
    "print(columns_to_drop)"
   ]
  },
  {
   "cell_type": "code",
   "execution_count": 36,
   "metadata": {},
   "outputs": [
    {
     "name": "stdout",
     "output_type": "stream",
     "text": [
      "Highly correlated features:\n",
      "stl1_11 : [('stl2_11', 0.9955), ('stl3_11', 0.9288)]\n",
      "stl1_12 : [('stl2_12', 0.994), ('stl3_12', 0.9082), ('stl3_1', 0.9084)]\n",
      "stl1_1 : [('stl2_1', 0.9959), ('stl3_1', 0.9371)]\n",
      "stl1_2 : [('stl2_2', 0.9959), ('stl3_2', 0.9468)]\n",
      "stl1_3 : [('stl2_3', 0.9955), ('stl3_3', 0.9408)]\n",
      "stl1_4 : [('stl2_4', 0.9958), ('stl3_4', 0.9253)]\n",
      "stl2_11 : [('stl1_11', 0.9955), ('stl3_11', 0.9591)]\n",
      "stl2_12 : [('stl1_12', 0.994), ('stl3_12', 0.9475), ('stl3_1', 0.9057)]\n",
      "stl2_1 : [('stl1_1', 0.9959), ('stl3_1', 0.9636)]\n",
      "stl2_2 : [('stl1_2', 0.9959), ('stl3_2', 0.9703)]\n",
      "stl2_3 : [('stl1_3', 0.9955), ('stl3_3', 0.9654)]\n",
      "stl2_4 : [('stl1_4', 0.9958), ('stl3_4', 0.9518)]\n",
      "stl3_11 : [('stl1_11', 0.9288), ('stl2_11', 0.9591), ('stl4_12', 0.9426), ('stl4_1', 0.9067)]\n",
      "stl3_12 : [('stl1_12', 0.9082), ('stl2_12', 0.9475), ('stl4_1', 0.9403), ('stl4_2', 0.9377)]\n",
      "stl3_1 : [('stl1_12', 0.9084), ('stl1_1', 0.9371), ('stl2_12', 0.9057), ('stl2_1', 0.9636), ('stl4_2', 0.9108)]\n",
      "stl3_2 : [('stl1_2', 0.9468), ('stl2_2', 0.9703), ('stl4_3', 0.9407), ('stl4_4', 0.9031)]\n",
      "stl3_3 : [('stl1_3', 0.9408), ('stl2_3', 0.9654), ('stl4_3', 0.9047), ('stl4_4', 0.9539)]\n",
      "stl3_4 : [('stl1_4', 0.9253), ('stl2_4', 0.9518)]\n",
      "stl4_11 : [('stl4_12', 0.9429)]\n",
      "stl4_12 : [('stl3_11', 0.9426), ('stl4_11', 0.9429), ('stl4_1', 0.9358)]\n",
      "stl4_1 : [('stl3_11', 0.9067), ('stl3_12', 0.9403), ('stl4_12', 0.9358), ('stl4_2', 0.9607), ('stl4_3', 0.9114)]\n",
      "stl4_2 : [('stl3_12', 0.9377), ('stl3_1', 0.9108), ('stl4_1', 0.9607), ('stl4_3', 0.9759), ('stl4_4', 0.9253)]\n",
      "stl4_3 : [('stl3_2', 0.9407), ('stl3_3', 0.9047), ('stl4_1', 0.9114), ('stl4_2', 0.9759), ('stl4_4', 0.9736)]\n",
      "stl4_4 : [('stl3_2', 0.9031), ('stl3_3', 0.9539), ('stl4_2', 0.9253), ('stl4_3', 0.9736)]\n",
      "swvl1_1 : [('swvl1_2', 0.9009)]\n",
      "swvl1_2 : [('swvl1_1', 0.9009)]\n",
      "swvl2_11 : [('swvl3_11', 0.9019), ('swvl3_12', 0.9078)]\n",
      "swvl2_12 : [('swvl2_1', 0.9174), ('swvl3_12', 0.9279), ('swvl3_1', 0.9445), ('swvl3_2', 0.9204), ('swvl3_3', 0.9042)]\n",
      "swvl2_1 : [('swvl2_12', 0.9174), ('swvl2_2', 0.944), ('swvl2_3', 0.9108), ('swvl2_4', 0.932), ('swvl3_1', 0.9136), ('swvl3_2', 0.9354), ('swvl3_3', 0.9377), ('swvl3_4', 0.9351)]\n",
      "swvl2_2 : [('swvl2_1', 0.944), ('swvl2_3', 0.9112), ('swvl2_4', 0.9266), ('swvl3_2', 0.922), ('swvl3_3', 0.9246), ('swvl3_4', 0.9213)]\n",
      "swvl2_3 : [('swvl2_1', 0.9108), ('swvl2_2', 0.9112), ('swvl2_4', 0.9551), ('swvl3_3', 0.9187), ('swvl3_4', 0.9265)]\n",
      "swvl2_4 : [('swvl2_1', 0.932), ('swvl2_2', 0.9266), ('swvl2_3', 0.9551), ('swvl3_3', 0.9192), ('swvl3_4', 0.9413)]\n",
      "swvl3_11 : [('swvl2_11', 0.9019), ('swvl3_12', 0.9602)]\n",
      "swvl3_12 : [('swvl2_11', 0.9078), ('swvl2_12', 0.9279), ('swvl3_11', 0.9602), ('swvl3_1', 0.9758), ('swvl3_2', 0.9216)]\n",
      "swvl3_1 : [('swvl2_12', 0.9445), ('swvl2_1', 0.9136), ('swvl3_12', 0.9758), ('swvl3_2', 0.9779), ('swvl3_3', 0.9576), ('swvl3_4', 0.9325)]\n",
      "swvl3_2 : [('swvl2_12', 0.9204), ('swvl2_1', 0.9354), ('swvl2_2', 0.922), ('swvl3_12', 0.9216), ('swvl3_1', 0.9779), ('swvl3_3', 0.9886), ('swvl3_4', 0.9684)]\n",
      "swvl3_3 : [('swvl2_12', 0.9042), ('swvl2_1', 0.9377), ('swvl2_2', 0.9246), ('swvl2_3', 0.9187), ('swvl2_4', 0.9192), ('swvl3_1', 0.9576), ('swvl3_2', 0.9886), ('swvl3_4', 0.9929)]\n",
      "swvl3_4 : [('swvl2_1', 0.9351), ('swvl2_2', 0.9213), ('swvl2_3', 0.9265), ('swvl2_4', 0.9413), ('swvl3_1', 0.9325), ('swvl3_2', 0.9684), ('swvl3_3', 0.9929)]\n",
      "swvl4_11 : [('swvl4_12', 0.9959), ('swvl4_1', 0.9861), ('swvl4_2', 0.9742), ('swvl4_3', 0.9603), ('swvl4_4', 0.9432)]\n",
      "swvl4_12 : [('swvl4_11', 0.9959), ('swvl4_1', 0.9965), ('swvl4_2', 0.9899), ('swvl4_3', 0.9802), ('swvl4_4', 0.9668)]\n",
      "swvl4_1 : [('swvl4_11', 0.9861), ('swvl4_12', 0.9965), ('swvl4_2', 0.9979), ('swvl4_3', 0.9921), ('swvl4_4', 0.9822)]\n",
      "swvl4_2 : [('swvl4_11', 0.9742), ('swvl4_12', 0.9899), ('swvl4_1', 0.9979), ('swvl4_3', 0.9981), ('swvl4_4', 0.9918)]\n",
      "swvl4_3 : [('swvl4_11', 0.9603), ('swvl4_12', 0.9802), ('swvl4_1', 0.9921), ('swvl4_2', 0.9981), ('swvl4_4', 0.9977)]\n",
      "swvl4_4 : [('swvl4_11', 0.9432), ('swvl4_12', 0.9668), ('swvl4_1', 0.9822), ('swvl4_2', 0.9918), ('swvl4_3', 0.9977)]\n",
      "rain_2 : [('countrain_2', 0.9104)]\n",
      "countrain_2 : [('rain_2', 0.9104)]\n"
     ]
    }
   ],
   "source": [
    "print(\"Highly correlated features:\")\n",
    "for key, value in highly_correlated_features.items():\n",
    "    print(key, \":\", value)"
   ]
  },
  {
   "cell_type": "code",
   "execution_count": 37,
   "metadata": {},
   "outputs": [
    {
     "ename": "NameError",
     "evalue": "name 'stop' is not defined",
     "output_type": "error",
     "traceback": [
      "\u001b[1;31m---------------------------------------------------------------------------\u001b[0m",
      "\u001b[1;31mNameError\u001b[0m                                 Traceback (most recent call last)",
      "Cell \u001b[1;32mIn[37], line 1\u001b[0m\n\u001b[1;32m----> 1\u001b[0m \u001b[43mstop\u001b[49m\n",
      "\u001b[1;31mNameError\u001b[0m: name 'stop' is not defined"
     ]
    }
   ],
   "source": [
    "stop"
   ]
  },
  {
   "cell_type": "code",
   "execution_count": null,
   "metadata": {},
   "outputs": [],
   "source": [
    "import time\n",
    "def print_accuracy(f):\n",
    "    print(\n",
    "        f\"Root mean squared test error = {np.sqrt(np.mean((f(X_test) - y_test) ** 2))}\"\n",
    "    )\n",
    "    time.sleep(0.5)  # to let the print get out before any progress bars"
   ]
  },
  {
   "cell_type": "code",
   "execution_count": null,
   "metadata": {},
   "outputs": [],
   "source": [
    "from sklearn.ensemble import RandomForestRegressor\n",
    "\n",
    "rforest = RandomForestRegressor(\n",
    "    n_estimators=1000, max_depth=None, min_samples_split=2, random_state=0\n",
    ")\n",
    "rforest.fit(X_train, y_train)\n",
    "print_accuracy(rforest.predict)"
   ]
  },
  {
   "cell_type": "code",
   "execution_count": null,
   "metadata": {},
   "outputs": [],
   "source": [
    "y_pred = rforest.predict(X_test)\n",
    "mse = mean_squared_error(y_test, y_pred)\n",
    "r2 = r2_score(y_test, y_pred)\n",
    "print(mse,r2)"
   ]
  },
  {
   "cell_type": "code",
   "execution_count": null,
   "metadata": {},
   "outputs": [],
   "source": [
    "#pip install shap"
   ]
  },
  {
   "cell_type": "code",
   "execution_count": null,
   "metadata": {},
   "outputs": [],
   "source": [
    "stop"
   ]
  },
  {
   "cell_type": "code",
   "execution_count": null,
   "metadata": {},
   "outputs": [],
   "source": [
    "columns_to_drop = set(columns_to_drop)\n",
    "print(columns_to_drop)"
   ]
  },
  {
   "cell_type": "code",
   "execution_count": null,
   "metadata": {},
   "outputs": [],
   "source": [
    "len(columns_to_drop)"
   ]
  },
  {
   "cell_type": "code",
   "execution_count": null,
   "metadata": {},
   "outputs": [],
   "source": [
    "X_train.drop(columns = columns_to_drop, axis = 1, inplace=True)\n",
    "X_test.drop(columns = columns_to_drop, axis = 1, inplace=True)"
   ]
  },
  {
   "cell_type": "code",
   "execution_count": null,
   "metadata": {},
   "outputs": [],
   "source": [
    "from sklearn.model_selection import train_test_split\n",
    "from sklearn.linear_model import LinearRegression\n",
    "from sklearn.metrics import mean_squared_error, r2_score"
   ]
  },
  {
   "cell_type": "code",
   "execution_count": null,
   "metadata": {},
   "outputs": [],
   "source": [
    "# Import necessary libraries\n",
    "import numpy as np\n",
    "import pandas as pd\n",
    "from sklearn.model_selection import train_test_split\n",
    "from sklearn.linear_model import LinearRegression, Ridge, Lasso\n",
    "from sklearn.tree import DecisionTreeRegressor\n",
    "from sklearn.ensemble import RandomForestRegressor, GradientBoostingRegressor\n",
    "from sklearn.svm import SVR\n",
    "from sklearn.metrics import mean_squared_error, r2_score\n",
    "from sklearn.model_selection import KFold\n",
    "\n",
    "\n",
    "# Create KFold object\n",
    "k = 5\n",
    "kfold = KFold(n_splits=k, shuffle=True)\n",
    "\n",
    "\n",
    "# Models\n",
    "models = {\n",
    "    \"Linear Regression\": LinearRegression(),\n",
    "    \"Ridge Regression\": Ridge(),\n",
    "    \"Lasso Regression\": Lasso(),\n",
    "    \"Decision Tree\": DecisionTreeRegressor(),\n",
    "    \"Gradient Boosting\": GradientBoostingRegressor(),\n",
    "    \"Random Forest\": RandomForestRegressor(),\n",
    "    \"Support Vector Machine\": SVR()\n",
    "}\n",
    "\n",
    "# Train and evaluate each model\n",
    "for name, model in models.items():\n",
    "    mse_scores = []\n",
    "    r2_scores = []\n",
    "\n",
    "    for train_index, test_index in kfold.split(X):\n",
    "        X_train, X_test = X[train_index], X[test_index]\n",
    "        y_train, y_test = y[train_index], y[test_index]\n",
    "    model.fit(X_train, y_train)\n",
    "    y_pred = model.predict(X_test)\n",
    "    mse = mean_squared_error(y_test, y_pred)\n",
    "    r2 = r2_score(y_test, y_pred)\n",
    "    print(f'{name} - Mean Squared Error: {mse:.2f}, R^2 Score: {r2:.2f}')\n"
   ]
  },
  {
   "cell_type": "code",
   "execution_count": null,
   "metadata": {},
   "outputs": [],
   "source": [
    "import xarray\n",
    "data = xarray.open_dataset(r\"C:\\Users\\Kanishk Goyal\\OneDrive - IIT Kanpur\\Desktop\\Prof. Hamim Zafar\\Data\\Relative humidity\\1month_mean_Global_ea_r2_199703_v02.grib\", engine='cfgrib')\n",
    "data.to_netcdf(r\"C:\\Users\\Kanishk Goyal\\OneDrive - IIT Kanpur\\Desktop\\Prof. Hamim Zafar\\Data\\Relative humidity\\1month_mean_Global_ea_r2_199703_v02.nc\")"
   ]
  },
  {
   "cell_type": "code",
   "execution_count": null,
   "metadata": {},
   "outputs": [],
   "source": []
  }
 ],
 "metadata": {
  "kernelspec": {
   "display_name": "Python 3",
   "language": "python",
   "name": "python3"
  },
  "language_info": {
   "codemirror_mode": {
    "name": "ipython",
    "version": 3
   },
   "file_extension": ".py",
   "mimetype": "text/x-python",
   "name": "python",
   "nbconvert_exporter": "python",
   "pygments_lexer": "ipython3",
   "version": "3.11.4"
  }
 },
 "nbformat": 4,
 "nbformat_minor": 2
}
