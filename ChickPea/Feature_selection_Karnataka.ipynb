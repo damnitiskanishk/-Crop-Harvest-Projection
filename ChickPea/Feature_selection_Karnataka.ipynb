{
 "cells": [
  {
   "cell_type": "code",
   "execution_count": 1,
   "metadata": {},
   "outputs": [],
   "source": [
    "import numpy as np \n",
    "import pandas as pd\n",
    "import seaborn as sns\n",
    "import matplotlib.pyplot as plt\n",
    "from sklearn.preprocessing import LabelEncoder\n",
    "from sklearn.model_selection import train_test_split\n",
    "from sklearn.linear_model import LinearRegression\n",
    "from sklearn.metrics import mean_squared_error, r2_score\n",
    "import seaborn as sns"
   ]
  },
  {
   "cell_type": "code",
   "execution_count": 2,
   "metadata": {},
   "outputs": [],
   "source": [
    "df = pd.read_csv(r\"C:\\Users\\Kanishk Goyal\\OneDrive - IIT Kanpur\\Desktop\\Prof. Hamim Zafar\\Data\\Final Data\\ChickPea\\ChickPea_Karnataka_updated.csv\")\n",
    "df = df.drop(columns=['latitude','longitude','DistrictName', 'year'])\n",
    "# df = df.sample(frac=1).reset_index(drop=True)\n",
    "#df = df.drop(columns=['DistrictName','latitude','longitude','year','year_mask'])"
   ]
  },
  {
   "cell_type": "code",
   "execution_count": 3,
   "metadata": {},
   "outputs": [],
   "source": [
    "df = df.rename(columns={'Yield(tonnes/hectare)':'Yield(Tonnes/Hectare)'},inplace=False)"
   ]
  },
  {
   "cell_type": "code",
   "execution_count": 4,
   "metadata": {},
   "outputs": [
    {
     "data": {
      "text/plain": [
       "Index(['stl1_11', 'stl1_12', 'stl1_1', 'stl1_2', 'stl1_3', 'stl1_4', 'stl2_11',\n",
       "       'stl2_12', 'stl2_1', 'stl2_2', 'stl2_3', 'stl2_4', 'stl3_11', 'stl3_12',\n",
       "       'stl3_1', 'stl3_2', 'stl3_3', 'stl3_4', 'stl4_11', 'stl4_12', 'stl4_1',\n",
       "       'stl4_2', 'stl4_3', 'stl4_4', 'swvl1_11', 'swvl1_12', 'swvl1_1',\n",
       "       'swvl1_2', 'swvl1_3', 'swvl1_4', 'swvl2_11', 'swvl2_12', 'swvl2_1',\n",
       "       'swvl2_2', 'swvl2_3', 'swvl2_4', 'swvl3_11', 'swvl3_12', 'swvl3_1',\n",
       "       'swvl3_2', 'swvl3_3', 'swvl3_4', 'swvl4_11', 'swvl4_12', 'swvl4_1',\n",
       "       'swvl4_2', 'swvl4_3', 'swvl4_4', 'ssr_12', 'ssr_11', 'ssr_1', 'ssr_2',\n",
       "       'ssr_3', 'ssr_4', 'u10_11', 'u10_12', 'u10_1', 'u10_2', 'u10_3',\n",
       "       'u10_4', 'v10_11', 'v10_12', 'v10_1', 'v10_2', 'v10_3', 'v10_4',\n",
       "       'tmax_11', 'tmax_12', 'tmax_1', 'tmax_2', 'tmax_3', 'tmax_4', 'tmin_11',\n",
       "       'tmin_12', 'tmin_1', 'tmin_2', 'tmin_3', 'tmin_4', 'rain_11', 'rain_12',\n",
       "       'rain_1', 'rain_2', 'rain_3', 'rain_4', 'countrain_11', 'countrain_12',\n",
       "       'countrain_1', 'countrain_2', 'countrain_3', 'countrain_4', 'rh_11',\n",
       "       'rh_12', 'rh_1', 'rh_2', 'rh_3', 'rh_4', 'Yield(Tonnes/Hectare)'],\n",
       "      dtype='object')"
      ]
     },
     "execution_count": 4,
     "metadata": {},
     "output_type": "execute_result"
    }
   ],
   "source": [
    "df.columns"
   ]
  },
  {
   "cell_type": "code",
   "execution_count": 5,
   "metadata": {},
   "outputs": [],
   "source": [
    "# df['stl1'] = (df['stl1_1'] + df['stl1_2'])/2\n",
    "# df['stl2'] = (df['stl2_1'] + df['stl2_2'])/2\n",
    "# df['stl3'] = (df['stl3_1'] + df['stl3_2'])/2\n",
    "# df['stl4'] = (df['stl4_1'] + df['stl4_2'])/2\n",
    "# df['swvl1'] = (df['swvl1_1'] + df['swvl1_2'])/2\n",
    "# df['swvl2'] = (df['swvl2_1'] + df['swvl2_2'])/2\n",
    "# df['swvl3'] = (df['swvl3_1'] + df['swvl3_2'])/2\n",
    "# df['swvl4'] = (df['swvl4_1'] + df['swvl4_2'])/2\n",
    "# df['ssr'] = (df['ssr_1'] + df['ssr_2'])/2\n",
    "# df['rain'] = (df['rain_1'] + df['rain_2'])/2\n",
    "# df['tmax'] = (df['tmax_1'] + df['tmax_2'])/2\n",
    "# df['tmin'] = (df['tmin_1'] + df['tmin_2'])/2\n",
    "# df['countrain'] = df['countrain_1'] + df['countrain_2']\n",
    "# df['u10'] = (df['u10_3']+df['u10_4'])/2\n",
    "# df['v10'] = (df['v10_3']+df['v10_4'])/2\n",
    "# df['rh'] = (df['rh_3']+df['rh_4'])/2"
   ]
  },
  {
   "cell_type": "code",
   "execution_count": 6,
   "metadata": {},
   "outputs": [],
   "source": [
    "# df = df.drop(columns=['stl1_1','stl1_2','stl2_1','stl2_2','stl3_1','stl3_2','stl4_1','stl4_2','swvl1_1','swvl1_2','swvl2_1','swvl2_2','swvl3_1','swvl3_2','swvl4_1','swvl4_2','ssr_1','ssr_2','rain_1','rain_2','tmax_1','tmax_2','tmin_1','tmin_2','countrain_1','countrain_2','u10_3','u10_4','v10_3','v10_4','rh_3','rh_4'],axis=1)"
   ]
  },
  {
   "cell_type": "code",
   "execution_count": 7,
   "metadata": {},
   "outputs": [
    {
     "data": {
      "text/plain": [
       "(750, 97)"
      ]
     },
     "execution_count": 7,
     "metadata": {},
     "output_type": "execute_result"
    }
   ],
   "source": [
    "df.shape"
   ]
  },
  {
   "cell_type": "code",
   "execution_count": 8,
   "metadata": {},
   "outputs": [
    {
     "data": {
      "text/plain": [
       "Index(['stl1_11', 'stl1_12', 'stl1_1', 'stl1_2', 'stl1_3', 'stl1_4', 'stl2_11',\n",
       "       'stl2_12', 'stl2_1', 'stl2_2', 'stl2_3', 'stl2_4', 'stl3_11', 'stl3_12',\n",
       "       'stl3_1', 'stl3_2', 'stl3_3', 'stl3_4', 'stl4_11', 'stl4_12', 'stl4_1',\n",
       "       'stl4_2', 'stl4_3', 'stl4_4', 'swvl1_11', 'swvl1_12', 'swvl1_1',\n",
       "       'swvl1_2', 'swvl1_3', 'swvl1_4', 'swvl2_11', 'swvl2_12', 'swvl2_1',\n",
       "       'swvl2_2', 'swvl2_3', 'swvl2_4', 'swvl3_11', 'swvl3_12', 'swvl3_1',\n",
       "       'swvl3_2', 'swvl3_3', 'swvl3_4', 'swvl4_11', 'swvl4_12', 'swvl4_1',\n",
       "       'swvl4_2', 'swvl4_3', 'swvl4_4', 'ssr_12', 'ssr_11', 'ssr_1', 'ssr_2',\n",
       "       'ssr_3', 'ssr_4', 'u10_11', 'u10_12', 'u10_1', 'u10_2', 'u10_3',\n",
       "       'u10_4', 'v10_11', 'v10_12', 'v10_1', 'v10_2', 'v10_3', 'v10_4',\n",
       "       'tmax_11', 'tmax_12', 'tmax_1', 'tmax_2', 'tmax_3', 'tmax_4', 'tmin_11',\n",
       "       'tmin_12', 'tmin_1', 'tmin_2', 'tmin_3', 'tmin_4', 'rain_11', 'rain_12',\n",
       "       'rain_1', 'rain_2', 'rain_3', 'rain_4', 'countrain_11', 'countrain_12',\n",
       "       'countrain_1', 'countrain_2', 'countrain_3', 'countrain_4', 'rh_11',\n",
       "       'rh_12', 'rh_1', 'rh_2', 'rh_3', 'rh_4', 'Yield(Tonnes/Hectare)'],\n",
       "      dtype='object')"
      ]
     },
     "execution_count": 8,
     "metadata": {},
     "output_type": "execute_result"
    }
   ],
   "source": [
    "df.columns"
   ]
  },
  {
   "cell_type": "code",
   "execution_count": 9,
   "metadata": {},
   "outputs": [],
   "source": [
    "df = df.dropna(subset=['Yield(Tonnes/Hectare)'])"
   ]
  },
  {
   "cell_type": "code",
   "execution_count": 10,
   "metadata": {},
   "outputs": [
    {
     "data": {
      "text/plain": [
       "(522, 97)"
      ]
     },
     "execution_count": 10,
     "metadata": {},
     "output_type": "execute_result"
    }
   ],
   "source": [
    "df.shape"
   ]
  },
  {
   "cell_type": "code",
   "execution_count": 11,
   "metadata": {},
   "outputs": [
    {
     "data": {
      "text/plain": [
       "0.16295636769124797"
      ]
     },
     "execution_count": 11,
     "metadata": {},
     "output_type": "execute_result"
    }
   ],
   "source": [
    "df['Yield(Tonnes/Hectare)'].skew()"
   ]
  },
  {
   "cell_type": "code",
   "execution_count": 12,
   "metadata": {},
   "outputs": [
    {
     "name": "stderr",
     "output_type": "stream",
     "text": [
      "C:\\Users\\Kanishk Goyal\\AppData\\Local\\Temp\\ipykernel_16308\\994257175.py:1: UserWarning: \n",
      "\n",
      "`distplot` is a deprecated function and will be removed in seaborn v0.14.0.\n",
      "\n",
      "Please adapt your code to use either `displot` (a figure-level function with\n",
      "similar flexibility) or `histplot` (an axes-level function for histograms).\n",
      "\n",
      "For a guide to updating your code to use the new functions, please see\n",
      "https://gist.github.com/mwaskom/de44147ed2974457ad6372750bbe5751\n",
      "\n",
      "  sns.distplot(df['Yield(Tonnes/Hectare)'],color='green')\n"
     ]
    },
    {
     "data": {
      "text/plain": [
       "<Axes: xlabel='Yield(Tonnes/Hectare)', ylabel='Density'>"
      ]
     },
     "execution_count": 12,
     "metadata": {},
     "output_type": "execute_result"
    },
    {
     "data": {
      "image/png": "[encoded data removed]",
      "text/plain": [
       "<Figure size 640x480 with 1 Axes>"
      ]
     },
     "metadata": {},
     "output_type": "display_data"
    }
   ],
   "source": [
    "sns.distplot(df['Yield(Tonnes/Hectare)'],color='green')"
   ]
  },
  {
   "cell_type": "code",
   "execution_count": 13,
   "metadata": {},
   "outputs": [
    {
     "data": {
      "text/plain": [
       "1      0.27\n",
       "2      0.53\n",
       "3      0.65\n",
       "4      0.59\n",
       "5      0.51\n",
       "       ... \n",
       "743    0.25\n",
       "744    0.83\n",
       "745    0.88\n",
       "746    0.39\n",
       "747    0.74\n",
       "Name: Yield(Tonnes/Hectare), Length: 522, dtype: float64"
      ]
     },
     "execution_count": 13,
     "metadata": {},
     "output_type": "execute_result"
    }
   ],
   "source": [
    "df['Yield(Tonnes/Hectare)']"
   ]
  },
  {
   "cell_type": "code",
   "execution_count": 14,
   "metadata": {},
   "outputs": [
    {
     "name": "stdout",
     "output_type": "stream",
     "text": [
      "Number of points in the final DataFrame after handling outliers: 513\n"
     ]
    }
   ],
   "source": [
    "Q1 = df['Yield(Tonnes/Hectare)'].quantile(0.25)\n",
    "Q3 = df['Yield(Tonnes/Hectare)'].quantile(0.75)\n",
    "IQR = Q3 - Q1\n",
    "\n",
    "lower_bound = Q1 - 1.5 * IQR\n",
    "upper_bound = Q3 + 1.5 * IQR\n",
    "\n",
    "df['Yield_no_outliers'] = np.where((df['Yield(Tonnes/Hectare)'] < lower_bound) | (df['Yield(Tonnes/Hectare)'] > upper_bound), np.nan, df['Yield(Tonnes/Hectare)'])\n",
    "\n",
    "num_points_after_handling_outliers = df['Yield_no_outliers'].count()\n",
    "print(\"Number of points in the final DataFrame after handling outliers:\", num_points_after_handling_outliers)"
   ]
  },
  {
   "cell_type": "code",
   "execution_count": 15,
   "metadata": {},
   "outputs": [],
   "source": [
    "df = df.dropna(subset=['Yield_no_outliers'])\n",
    "df = df.drop(columns=['Yield(Tonnes/Hectare)'])"
   ]
  },
  {
   "cell_type": "code",
   "execution_count": 16,
   "metadata": {},
   "outputs": [],
   "source": [
    "df.rename(columns={'Yield_no_outliers': 'Yield(Tonnes/Hectare)'}, inplace=True)"
   ]
  },
  {
   "cell_type": "code",
   "execution_count": 17,
   "metadata": {},
   "outputs": [
    {
     "data": {
      "text/plain": [
       "-0.08003525187236221"
      ]
     },
     "execution_count": 17,
     "metadata": {},
     "output_type": "execute_result"
    }
   ],
   "source": [
    "df['Yield(Tonnes/Hectare)'].skew()"
   ]
  },
  {
   "cell_type": "code",
   "execution_count": 18,
   "metadata": {},
   "outputs": [
    {
     "name": "stderr",
     "output_type": "stream",
     "text": [
      "C:\\Users\\Kanishk Goyal\\AppData\\Local\\Temp\\ipykernel_16308\\1820324139.py:1: UserWarning: \n",
      "\n",
      "`distplot` is a deprecated function and will be removed in seaborn v0.14.0.\n",
      "\n",
      "Please adapt your code to use either `displot` (a figure-level function with\n",
      "similar flexibility) or `histplot` (an axes-level function for histograms).\n",
      "\n",
      "For a guide to updating your code to use the new functions, please see\n",
      "https://gist.github.com/mwaskom/de44147ed2974457ad6372750bbe5751\n",
      "\n",
      "  sns.distplot(df['Yield(Tonnes/Hectare)'])\n"
     ]
    },
    {
     "data": {
      "text/plain": [
       "<Axes: xlabel='Yield(Tonnes/Hectare)', ylabel='Density'>"
      ]
     },
     "execution_count": 18,
     "metadata": {},
     "output_type": "execute_result"
    },
    {
     "data": {
      "image/png": "[encoded data removed]",
      "text/plain": [
       "<Figure size 640x480 with 1 Axes>"
      ]
     },
     "metadata": {},
     "output_type": "display_data"
    }
   ],
   "source": [
    "sns.distplot(df['Yield(Tonnes/Hectare)'])"
   ]
  },
  {
   "cell_type": "code",
   "execution_count": 19,
   "metadata": {},
   "outputs": [
    {
     "data": {
      "text/html": [
       "<div>\n",
       "<style scoped>\n",
       "    .dataframe tbody tr th:only-of-type {\n",
       "        vertical-align: middle;\n",
       "    }\n",
       "\n",
       "    .dataframe tbody tr th {\n",
       "        vertical-align: top;\n",
       "    }\n",
       "\n",
       "    .dataframe thead th {\n",
       "        text-align: right;\n",
       "    }\n",
       "</style>\n",
       "<table border=\"1\" class=\"dataframe\">\n",
       "  <thead>\n",
       "    <tr style=\"text-align: right;\">\n",
       "      <th></th>\n",
       "      <th>stl1_11</th>\n",
       "      <th>stl1_12</th>\n",
       "      <th>stl1_1</th>\n",
       "      <th>stl1_2</th>\n",
       "      <th>stl1_3</th>\n",
       "      <th>stl1_4</th>\n",
       "      <th>stl2_11</th>\n",
       "      <th>stl2_12</th>\n",
       "      <th>stl2_1</th>\n",
       "      <th>stl2_2</th>\n",
       "      <th>...</th>\n",
       "      <th>countrain_2</th>\n",
       "      <th>countrain_3</th>\n",
       "      <th>countrain_4</th>\n",
       "      <th>rh_11</th>\n",
       "      <th>rh_12</th>\n",
       "      <th>rh_1</th>\n",
       "      <th>rh_2</th>\n",
       "      <th>rh_3</th>\n",
       "      <th>rh_4</th>\n",
       "      <th>Yield(Tonnes/Hectare)</th>\n",
       "    </tr>\n",
       "  </thead>\n",
       "  <tbody>\n",
       "    <tr>\n",
       "      <th>1</th>\n",
       "      <td>22.547677</td>\n",
       "      <td>21.544899</td>\n",
       "      <td>21.985256</td>\n",
       "      <td>24.535005</td>\n",
       "      <td>28.163719</td>\n",
       "      <td>28.440576</td>\n",
       "      <td>22.714598</td>\n",
       "      <td>21.787069</td>\n",
       "      <td>21.977031</td>\n",
       "      <td>24.226889</td>\n",
       "      <td>...</td>\n",
       "      <td>0</td>\n",
       "      <td>0</td>\n",
       "      <td>8</td>\n",
       "      <td>80.486025</td>\n",
       "      <td>76.092533</td>\n",
       "      <td>60.303232</td>\n",
       "      <td>51.211272</td>\n",
       "      <td>42.174187</td>\n",
       "      <td>56.868856</td>\n",
       "      <td>0.27</td>\n",
       "    </tr>\n",
       "    <tr>\n",
       "      <th>2</th>\n",
       "      <td>21.862277</td>\n",
       "      <td>21.247081</td>\n",
       "      <td>22.817111</td>\n",
       "      <td>24.798288</td>\n",
       "      <td>27.230932</td>\n",
       "      <td>28.329787</td>\n",
       "      <td>22.079082</td>\n",
       "      <td>21.471184</td>\n",
       "      <td>22.669348</td>\n",
       "      <td>24.544743</td>\n",
       "      <td>...</td>\n",
       "      <td>3</td>\n",
       "      <td>0</td>\n",
       "      <td>7</td>\n",
       "      <td>74.585048</td>\n",
       "      <td>73.437915</td>\n",
       "      <td>60.320491</td>\n",
       "      <td>63.289463</td>\n",
       "      <td>46.157992</td>\n",
       "      <td>64.221821</td>\n",
       "      <td>0.53</td>\n",
       "    </tr>\n",
       "    <tr>\n",
       "      <th>3</th>\n",
       "      <td>23.142767</td>\n",
       "      <td>21.051725</td>\n",
       "      <td>23.756966</td>\n",
       "      <td>26.862074</td>\n",
       "      <td>28.462806</td>\n",
       "      <td>27.484458</td>\n",
       "      <td>23.279228</td>\n",
       "      <td>21.266693</td>\n",
       "      <td>23.517746</td>\n",
       "      <td>26.278416</td>\n",
       "      <td>...</td>\n",
       "      <td>0</td>\n",
       "      <td>0</td>\n",
       "      <td>7</td>\n",
       "      <td>69.122265</td>\n",
       "      <td>63.514035</td>\n",
       "      <td>56.179486</td>\n",
       "      <td>45.162146</td>\n",
       "      <td>49.570839</td>\n",
       "      <td>64.775472</td>\n",
       "      <td>0.65</td>\n",
       "    </tr>\n",
       "    <tr>\n",
       "      <th>4</th>\n",
       "      <td>22.793699</td>\n",
       "      <td>21.453949</td>\n",
       "      <td>23.574978</td>\n",
       "      <td>25.280020</td>\n",
       "      <td>29.033976</td>\n",
       "      <td>30.774945</td>\n",
       "      <td>22.958870</td>\n",
       "      <td>21.654190</td>\n",
       "      <td>23.364885</td>\n",
       "      <td>24.963821</td>\n",
       "      <td>...</td>\n",
       "      <td>0</td>\n",
       "      <td>0</td>\n",
       "      <td>1</td>\n",
       "      <td>77.571152</td>\n",
       "      <td>67.288923</td>\n",
       "      <td>61.020668</td>\n",
       "      <td>47.557389</td>\n",
       "      <td>39.111047</td>\n",
       "      <td>46.402355</td>\n",
       "      <td>0.59</td>\n",
       "    </tr>\n",
       "    <tr>\n",
       "      <th>5</th>\n",
       "      <td>23.085706</td>\n",
       "      <td>22.657189</td>\n",
       "      <td>24.435358</td>\n",
       "      <td>27.193448</td>\n",
       "      <td>28.385300</td>\n",
       "      <td>29.769609</td>\n",
       "      <td>23.279880</td>\n",
       "      <td>22.803181</td>\n",
       "      <td>24.282675</td>\n",
       "      <td>26.721647</td>\n",
       "      <td>...</td>\n",
       "      <td>1</td>\n",
       "      <td>2</td>\n",
       "      <td>5</td>\n",
       "      <td>74.116077</td>\n",
       "      <td>52.285204</td>\n",
       "      <td>52.199267</td>\n",
       "      <td>51.116684</td>\n",
       "      <td>46.719261</td>\n",
       "      <td>52.430782</td>\n",
       "      <td>0.51</td>\n",
       "    </tr>\n",
       "    <tr>\n",
       "      <th>6</th>\n",
       "      <td>22.122139</td>\n",
       "      <td>21.629984</td>\n",
       "      <td>23.866517</td>\n",
       "      <td>25.832545</td>\n",
       "      <td>29.061594</td>\n",
       "      <td>27.795380</td>\n",
       "      <td>22.390598</td>\n",
       "      <td>21.731909</td>\n",
       "      <td>23.638581</td>\n",
       "      <td>25.467165</td>\n",
       "      <td>...</td>\n",
       "      <td>0</td>\n",
       "      <td>0</td>\n",
       "      <td>4</td>\n",
       "      <td>78.284712</td>\n",
       "      <td>65.559091</td>\n",
       "      <td>57.250383</td>\n",
       "      <td>40.884938</td>\n",
       "      <td>36.084489</td>\n",
       "      <td>67.307348</td>\n",
       "      <td>0.32</td>\n",
       "    </tr>\n",
       "    <tr>\n",
       "      <th>7</th>\n",
       "      <td>22.150059</td>\n",
       "      <td>22.400420</td>\n",
       "      <td>24.027496</td>\n",
       "      <td>25.511907</td>\n",
       "      <td>28.891244</td>\n",
       "      <td>27.738466</td>\n",
       "      <td>22.332611</td>\n",
       "      <td>22.384506</td>\n",
       "      <td>23.868998</td>\n",
       "      <td>25.152115</td>\n",
       "      <td>...</td>\n",
       "      <td>1</td>\n",
       "      <td>3</td>\n",
       "      <td>6</td>\n",
       "      <td>77.295967</td>\n",
       "      <td>60.471846</td>\n",
       "      <td>57.307026</td>\n",
       "      <td>41.645731</td>\n",
       "      <td>46.324967</td>\n",
       "      <td>65.328456</td>\n",
       "      <td>0.95</td>\n",
       "    </tr>\n",
       "    <tr>\n",
       "      <th>8</th>\n",
       "      <td>21.667850</td>\n",
       "      <td>21.196143</td>\n",
       "      <td>22.178296</td>\n",
       "      <td>24.078730</td>\n",
       "      <td>26.655335</td>\n",
       "      <td>28.629947</td>\n",
       "      <td>21.971476</td>\n",
       "      <td>21.390886</td>\n",
       "      <td>22.124560</td>\n",
       "      <td>23.704202</td>\n",
       "      <td>...</td>\n",
       "      <td>0</td>\n",
       "      <td>1</td>\n",
       "      <td>4</td>\n",
       "      <td>81.276400</td>\n",
       "      <td>76.517436</td>\n",
       "      <td>58.396464</td>\n",
       "      <td>39.436679</td>\n",
       "      <td>57.052049</td>\n",
       "      <td>58.744392</td>\n",
       "      <td>0.60</td>\n",
       "    </tr>\n",
       "    <tr>\n",
       "      <th>9</th>\n",
       "      <td>22.775541</td>\n",
       "      <td>21.322449</td>\n",
       "      <td>22.853849</td>\n",
       "      <td>25.466480</td>\n",
       "      <td>29.290608</td>\n",
       "      <td>29.203357</td>\n",
       "      <td>22.916328</td>\n",
       "      <td>21.599083</td>\n",
       "      <td>22.726427</td>\n",
       "      <td>25.024484</td>\n",
       "      <td>...</td>\n",
       "      <td>1</td>\n",
       "      <td>0</td>\n",
       "      <td>8</td>\n",
       "      <td>85.307411</td>\n",
       "      <td>69.630794</td>\n",
       "      <td>55.375072</td>\n",
       "      <td>47.852967</td>\n",
       "      <td>40.080455</td>\n",
       "      <td>55.762654</td>\n",
       "      <td>0.43</td>\n",
       "    </tr>\n",
       "    <tr>\n",
       "      <th>10</th>\n",
       "      <td>22.048128</td>\n",
       "      <td>21.402529</td>\n",
       "      <td>22.433776</td>\n",
       "      <td>24.945041</td>\n",
       "      <td>24.845465</td>\n",
       "      <td>27.119601</td>\n",
       "      <td>22.231053</td>\n",
       "      <td>21.575157</td>\n",
       "      <td>22.254668</td>\n",
       "      <td>24.688240</td>\n",
       "      <td>...</td>\n",
       "      <td>3</td>\n",
       "      <td>12</td>\n",
       "      <td>3</td>\n",
       "      <td>72.496238</td>\n",
       "      <td>72.874524</td>\n",
       "      <td>55.844907</td>\n",
       "      <td>55.165456</td>\n",
       "      <td>58.555954</td>\n",
       "      <td>59.853409</td>\n",
       "      <td>0.39</td>\n",
       "    </tr>\n",
       "  </tbody>\n",
       "</table>\n",
       "<p>10 rows × 97 columns</p>\n",
       "</div>"
      ],
      "text/plain": [
       "      stl1_11    stl1_12     stl1_1     stl1_2     stl1_3     stl1_4  \\\n",
       "1   22.547677  21.544899  21.985256  24.535005  28.163719  28.440576   \n",
       "2   21.862277  21.247081  22.817111  24.798288  27.230932  28.329787   \n",
       "3   23.142767  21.051725  23.756966  26.862074  28.462806  27.484458   \n",
       "4   22.793699  21.453949  23.574978  25.280020  29.033976  30.774945   \n",
       "5   23.085706  22.657189  24.435358  27.193448  28.385300  29.769609   \n",
       "6   22.122139  21.629984  23.866517  25.832545  29.061594  27.795380   \n",
       "7   22.150059  22.400420  24.027496  25.511907  28.891244  27.738466   \n",
       "8   21.667850  21.196143  22.178296  24.078730  26.655335  28.629947   \n",
       "9   22.775541  21.322449  22.853849  25.466480  29.290608  29.203357   \n",
       "10  22.048128  21.402529  22.433776  24.945041  24.845465  27.119601   \n",
       "\n",
       "      stl2_11    stl2_12     stl2_1     stl2_2  ...  countrain_2  countrain_3  \\\n",
       "1   22.714598  21.787069  21.977031  24.226889  ...            0            0   \n",
       "2   22.079082  21.471184  22.669348  24.544743  ...            3            0   \n",
       "3   23.279228  21.266693  23.517746  26.278416  ...            0            0   \n",
       "4   22.958870  21.654190  23.364885  24.963821  ...            0            0   \n",
       "5   23.279880  22.803181  24.282675  26.721647  ...            1            2   \n",
       "6   22.390598  21.731909  23.638581  25.467165  ...            0            0   \n",
       "7   22.332611  22.384506  23.868998  25.152115  ...            1            3   \n",
       "8   21.971476  21.390886  22.124560  23.704202  ...            0            1   \n",
       "9   22.916328  21.599083  22.726427  25.024484  ...            1            0   \n",
       "10  22.231053  21.575157  22.254668  24.688240  ...            3           12   \n",
       "\n",
       "    countrain_4      rh_11      rh_12       rh_1       rh_2       rh_3  \\\n",
       "1             8  80.486025  76.092533  60.303232  51.211272  42.174187   \n",
       "2             7  74.585048  73.437915  60.320491  63.289463  46.157992   \n",
       "3             7  69.122265  63.514035  56.179486  45.162146  49.570839   \n",
       "4             1  77.571152  67.288923  61.020668  47.557389  39.111047   \n",
       "5             5  74.116077  52.285204  52.199267  51.116684  46.719261   \n",
       "6             4  78.284712  65.559091  57.250383  40.884938  36.084489   \n",
       "7             6  77.295967  60.471846  57.307026  41.645731  46.324967   \n",
       "8             4  81.276400  76.517436  58.396464  39.436679  57.052049   \n",
       "9             8  85.307411  69.630794  55.375072  47.852967  40.080455   \n",
       "10            3  72.496238  72.874524  55.844907  55.165456  58.555954   \n",
       "\n",
       "         rh_4  Yield(Tonnes/Hectare)  \n",
       "1   56.868856                   0.27  \n",
       "2   64.221821                   0.53  \n",
       "3   64.775472                   0.65  \n",
       "4   46.402355                   0.59  \n",
       "5   52.430782                   0.51  \n",
       "6   67.307348                   0.32  \n",
       "7   65.328456                   0.95  \n",
       "8   58.744392                   0.60  \n",
       "9   55.762654                   0.43  \n",
       "10  59.853409                   0.39  \n",
       "\n",
       "[10 rows x 97 columns]"
      ]
     },
     "execution_count": 19,
     "metadata": {},
     "output_type": "execute_result"
    }
   ],
   "source": [
    "df.head(10)"
   ]
  },
  {
   "cell_type": "code",
   "execution_count": 20,
   "metadata": {},
   "outputs": [
    {
     "data": {
      "text/plain": [
       "(513, 97)"
      ]
     },
     "execution_count": 20,
     "metadata": {},
     "output_type": "execute_result"
    }
   ],
   "source": [
    "df.shape"
   ]
  },
  {
   "cell_type": "code",
   "execution_count": 21,
   "metadata": {},
   "outputs": [],
   "source": [
    "# cat_cols = ['DistrictName', 'year']\n",
    "# # Label encode categorical columns\n",
    "# encoder = LabelEncoder()\n",
    "# df[cat_cols] = df[cat_cols].apply(encoder.fit_transform)"
   ]
  },
  {
   "cell_type": "code",
   "execution_count": 22,
   "metadata": {},
   "outputs": [
    {
     "data": {
      "text/html": [
       "<div>\n",
       "<style scoped>\n",
       "    .dataframe tbody tr th:only-of-type {\n",
       "        vertical-align: middle;\n",
       "    }\n",
       "\n",
       "    .dataframe tbody tr th {\n",
       "        vertical-align: top;\n",
       "    }\n",
       "\n",
       "    .dataframe thead th {\n",
       "        text-align: right;\n",
       "    }\n",
       "</style>\n",
       "<table border=\"1\" class=\"dataframe\">\n",
       "  <thead>\n",
       "    <tr style=\"text-align: right;\">\n",
       "      <th></th>\n",
       "      <th>stl1_11</th>\n",
       "      <th>stl1_12</th>\n",
       "      <th>stl1_1</th>\n",
       "      <th>stl1_2</th>\n",
       "      <th>stl1_3</th>\n",
       "      <th>stl1_4</th>\n",
       "      <th>stl2_11</th>\n",
       "      <th>stl2_12</th>\n",
       "      <th>stl2_1</th>\n",
       "      <th>stl2_2</th>\n",
       "      <th>...</th>\n",
       "      <th>countrain_2</th>\n",
       "      <th>countrain_3</th>\n",
       "      <th>countrain_4</th>\n",
       "      <th>rh_11</th>\n",
       "      <th>rh_12</th>\n",
       "      <th>rh_1</th>\n",
       "      <th>rh_2</th>\n",
       "      <th>rh_3</th>\n",
       "      <th>rh_4</th>\n",
       "      <th>Yield(Tonnes/Hectare)</th>\n",
       "    </tr>\n",
       "  </thead>\n",
       "  <tbody>\n",
       "    <tr>\n",
       "      <th>1</th>\n",
       "      <td>22.547677</td>\n",
       "      <td>21.544899</td>\n",
       "      <td>21.985256</td>\n",
       "      <td>24.535005</td>\n",
       "      <td>28.163719</td>\n",
       "      <td>28.440576</td>\n",
       "      <td>22.714598</td>\n",
       "      <td>21.787069</td>\n",
       "      <td>21.977031</td>\n",
       "      <td>24.226889</td>\n",
       "      <td>...</td>\n",
       "      <td>0</td>\n",
       "      <td>0</td>\n",
       "      <td>8</td>\n",
       "      <td>80.486025</td>\n",
       "      <td>76.092533</td>\n",
       "      <td>60.303232</td>\n",
       "      <td>51.211272</td>\n",
       "      <td>42.174187</td>\n",
       "      <td>56.868856</td>\n",
       "      <td>0.27</td>\n",
       "    </tr>\n",
       "    <tr>\n",
       "      <th>2</th>\n",
       "      <td>21.862277</td>\n",
       "      <td>21.247081</td>\n",
       "      <td>22.817111</td>\n",
       "      <td>24.798288</td>\n",
       "      <td>27.230932</td>\n",
       "      <td>28.329787</td>\n",
       "      <td>22.079082</td>\n",
       "      <td>21.471184</td>\n",
       "      <td>22.669348</td>\n",
       "      <td>24.544743</td>\n",
       "      <td>...</td>\n",
       "      <td>3</td>\n",
       "      <td>0</td>\n",
       "      <td>7</td>\n",
       "      <td>74.585048</td>\n",
       "      <td>73.437915</td>\n",
       "      <td>60.320491</td>\n",
       "      <td>63.289463</td>\n",
       "      <td>46.157992</td>\n",
       "      <td>64.221821</td>\n",
       "      <td>0.53</td>\n",
       "    </tr>\n",
       "    <tr>\n",
       "      <th>3</th>\n",
       "      <td>23.142767</td>\n",
       "      <td>21.051725</td>\n",
       "      <td>23.756966</td>\n",
       "      <td>26.862074</td>\n",
       "      <td>28.462806</td>\n",
       "      <td>27.484458</td>\n",
       "      <td>23.279228</td>\n",
       "      <td>21.266693</td>\n",
       "      <td>23.517746</td>\n",
       "      <td>26.278416</td>\n",
       "      <td>...</td>\n",
       "      <td>0</td>\n",
       "      <td>0</td>\n",
       "      <td>7</td>\n",
       "      <td>69.122265</td>\n",
       "      <td>63.514035</td>\n",
       "      <td>56.179486</td>\n",
       "      <td>45.162146</td>\n",
       "      <td>49.570839</td>\n",
       "      <td>64.775472</td>\n",
       "      <td>0.65</td>\n",
       "    </tr>\n",
       "    <tr>\n",
       "      <th>4</th>\n",
       "      <td>22.793699</td>\n",
       "      <td>21.453949</td>\n",
       "      <td>23.574978</td>\n",
       "      <td>25.280020</td>\n",
       "      <td>29.033976</td>\n",
       "      <td>30.774945</td>\n",
       "      <td>22.958870</td>\n",
       "      <td>21.654190</td>\n",
       "      <td>23.364885</td>\n",
       "      <td>24.963821</td>\n",
       "      <td>...</td>\n",
       "      <td>0</td>\n",
       "      <td>0</td>\n",
       "      <td>1</td>\n",
       "      <td>77.571152</td>\n",
       "      <td>67.288923</td>\n",
       "      <td>61.020668</td>\n",
       "      <td>47.557389</td>\n",
       "      <td>39.111047</td>\n",
       "      <td>46.402355</td>\n",
       "      <td>0.59</td>\n",
       "    </tr>\n",
       "    <tr>\n",
       "      <th>5</th>\n",
       "      <td>23.085706</td>\n",
       "      <td>22.657189</td>\n",
       "      <td>24.435358</td>\n",
       "      <td>27.193448</td>\n",
       "      <td>28.385300</td>\n",
       "      <td>29.769609</td>\n",
       "      <td>23.279880</td>\n",
       "      <td>22.803181</td>\n",
       "      <td>24.282675</td>\n",
       "      <td>26.721647</td>\n",
       "      <td>...</td>\n",
       "      <td>1</td>\n",
       "      <td>2</td>\n",
       "      <td>5</td>\n",
       "      <td>74.116077</td>\n",
       "      <td>52.285204</td>\n",
       "      <td>52.199267</td>\n",
       "      <td>51.116684</td>\n",
       "      <td>46.719261</td>\n",
       "      <td>52.430782</td>\n",
       "      <td>0.51</td>\n",
       "    </tr>\n",
       "  </tbody>\n",
       "</table>\n",
       "<p>5 rows × 97 columns</p>\n",
       "</div>"
      ],
      "text/plain": [
       "     stl1_11    stl1_12     stl1_1     stl1_2     stl1_3     stl1_4  \\\n",
       "1  22.547677  21.544899  21.985256  24.535005  28.163719  28.440576   \n",
       "2  21.862277  21.247081  22.817111  24.798288  27.230932  28.329787   \n",
       "3  23.142767  21.051725  23.756966  26.862074  28.462806  27.484458   \n",
       "4  22.793699  21.453949  23.574978  25.280020  29.033976  30.774945   \n",
       "5  23.085706  22.657189  24.435358  27.193448  28.385300  29.769609   \n",
       "\n",
       "     stl2_11    stl2_12     stl2_1     stl2_2  ...  countrain_2  countrain_3  \\\n",
       "1  22.714598  21.787069  21.977031  24.226889  ...            0            0   \n",
       "2  22.079082  21.471184  22.669348  24.544743  ...            3            0   \n",
       "3  23.279228  21.266693  23.517746  26.278416  ...            0            0   \n",
       "4  22.958870  21.654190  23.364885  24.963821  ...            0            0   \n",
       "5  23.279880  22.803181  24.282675  26.721647  ...            1            2   \n",
       "\n",
       "   countrain_4      rh_11      rh_12       rh_1       rh_2       rh_3  \\\n",
       "1            8  80.486025  76.092533  60.303232  51.211272  42.174187   \n",
       "2            7  74.585048  73.437915  60.320491  63.289463  46.157992   \n",
       "3            7  69.122265  63.514035  56.179486  45.162146  49.570839   \n",
       "4            1  77.571152  67.288923  61.020668  47.557389  39.111047   \n",
       "5            5  74.116077  52.285204  52.199267  51.116684  46.719261   \n",
       "\n",
       "        rh_4  Yield(Tonnes/Hectare)  \n",
       "1  56.868856                   0.27  \n",
       "2  64.221821                   0.53  \n",
       "3  64.775472                   0.65  \n",
       "4  46.402355                   0.59  \n",
       "5  52.430782                   0.51  \n",
       "\n",
       "[5 rows x 97 columns]"
      ]
     },
     "execution_count": 22,
     "metadata": {},
     "output_type": "execute_result"
    }
   ],
   "source": [
    "df.head()"
   ]
  },
  {
   "cell_type": "code",
   "execution_count": 23,
   "metadata": {},
   "outputs": [
    {
     "data": {
      "text/plain": [
       "(513, 97)"
      ]
     },
     "execution_count": 23,
     "metadata": {},
     "output_type": "execute_result"
    }
   ],
   "source": [
    "df.shape"
   ]
  },
  {
   "cell_type": "code",
   "execution_count": 24,
   "metadata": {},
   "outputs": [
    {
     "data": {
      "text/plain": [
       "Index(['stl1_11', 'stl1_12', 'stl1_1', 'stl1_2', 'stl1_3', 'stl1_4', 'stl2_11',\n",
       "       'stl2_12', 'stl2_1', 'stl2_2', 'stl2_3', 'stl2_4', 'stl3_11', 'stl3_12',\n",
       "       'stl3_1', 'stl3_2', 'stl3_3', 'stl3_4', 'stl4_11', 'stl4_12', 'stl4_1',\n",
       "       'stl4_2', 'stl4_3', 'stl4_4', 'swvl1_11', 'swvl1_12', 'swvl1_1',\n",
       "       'swvl1_2', 'swvl1_3', 'swvl1_4', 'swvl2_11', 'swvl2_12', 'swvl2_1',\n",
       "       'swvl2_2', 'swvl2_3', 'swvl2_4', 'swvl3_11', 'swvl3_12', 'swvl3_1',\n",
       "       'swvl3_2', 'swvl3_3', 'swvl3_4', 'swvl4_11', 'swvl4_12', 'swvl4_1',\n",
       "       'swvl4_2', 'swvl4_3', 'swvl4_4', 'ssr_12', 'ssr_11', 'ssr_1', 'ssr_2',\n",
       "       'ssr_3', 'ssr_4', 'u10_11', 'u10_12', 'u10_1', 'u10_2', 'u10_3',\n",
       "       'u10_4', 'v10_11', 'v10_12', 'v10_1', 'v10_2', 'v10_3', 'v10_4',\n",
       "       'tmax_11', 'tmax_12', 'tmax_1', 'tmax_2', 'tmax_3', 'tmax_4', 'tmin_11',\n",
       "       'tmin_12', 'tmin_1', 'tmin_2', 'tmin_3', 'tmin_4', 'rain_11', 'rain_12',\n",
       "       'rain_1', 'rain_2', 'rain_3', 'rain_4', 'countrain_11', 'countrain_12',\n",
       "       'countrain_1', 'countrain_2', 'countrain_3', 'countrain_4', 'rh_11',\n",
       "       'rh_12', 'rh_1', 'rh_2', 'rh_3', 'rh_4', 'Yield(Tonnes/Hectare)'],\n",
       "      dtype='object')"
      ]
     },
     "execution_count": 24,
     "metadata": {},
     "output_type": "execute_result"
    }
   ],
   "source": [
    "df.columns"
   ]
  },
  {
   "cell_type": "code",
   "execution_count": 25,
   "metadata": {},
   "outputs": [],
   "source": [
    "#df = df[['countrain_11', 'countrain_12', 'countrain_1','countrain_2', 'countrain_3', 'countrain_4', 'rain_11', 'rain_12','rain_1', 'rain_2', 'rain_3', 'rain_4','tmax_11', 'tmax_12', 'tmax_1','tmax_2', 'tmax_3', 'tmax_4', 'tmin_11', 'tmin_12', 'tmin_1', 'tmin_2','tmin_3', 'tmin_4','Yield(Tonnes/Hectare)']]"
   ]
  },
  {
   "cell_type": "code",
   "execution_count": 26,
   "metadata": {},
   "outputs": [],
   "source": [
    "#df = df.drop(columns=['countrain_11', 'countrain_12', 'countrain_1','countrain_2', 'countrain_3', 'countrain_4', 'rain_11', 'rain_12','rain_1', 'rain_2', 'rain_3', 'rain_4','tmax_11', 'tmax_12', 'tmax_1','tmax_2', 'tmax_3', 'tmax_4', 'tmin_11', 'tmin_12', 'tmin_1', 'tmin_2','tmin_3', 'tmin_4'])"
   ]
  },
  {
   "cell_type": "code",
   "execution_count": 27,
   "metadata": {},
   "outputs": [
    {
     "data": {
      "text/plain": [
       "(513, 97)"
      ]
     },
     "execution_count": 27,
     "metadata": {},
     "output_type": "execute_result"
    }
   ],
   "source": [
    "df.shape"
   ]
  },
  {
   "cell_type": "code",
   "execution_count": 28,
   "metadata": {},
   "outputs": [],
   "source": [
    "X = df.drop('Yield(Tonnes/Hectare)', axis=1)  # Features\n",
    "y = df['Yield(Tonnes/Hectare)']  # Target variable\n",
    "\n",
    "# Split the dataset into training and testing sets\n",
    "#X_train, X_test, y_train, y_test = train_test_split(X, y, test_size=0.2, random_state=42)"
   ]
  },
  {
   "cell_type": "code",
   "execution_count": 29,
   "metadata": {},
   "outputs": [],
   "source": [
    "# X = X.drop(columns=['stl2','stl3'],axis=1)"
   ]
  },
  {
   "cell_type": "code",
   "execution_count": 30,
   "metadata": {},
   "outputs": [
    {
     "name": "stdout",
     "output_type": "stream",
     "text": [
      "Linear Regression - R^2 Score (Train) : 0.50, R^2 Score (Test): 0.15\n",
      "[0.03865301109980557, 0.3291593465046495, 0.22712275590163655, 0.33332568786700245, -0.11841362944862155, -0.31767828663118003, 0.22889063046414737, 0.3258137144801664, 0.18228175245248257, 0.24093006754348667]\n",
      "Ridge Regression - R^2 Score (Train) : 0.41, R^2 Score (Test): 0.18\n",
      "[0.289517096705607, 0.014799716652958428, 0.25872824706535813, 0.2644049233955579, 0.1579614171326016, -0.09606740585790474, 0.24280080707766827, 0.05863832534031621, 0.26970596742468556, 0.29371208138093385]\n",
      "XGB Regressor - R^2 Score (Train) : 1.00, R^2 Score (Test): 0.17\n",
      "[0.175716922247954, 0.1171016678820268, 0.32420117205810695, 0.4216306990451245, 0.028765335660819735, -0.03502229669045742, 0.04895137125821958, 0.028254954219457007, 0.21399324037228584, 0.3767792873541306]\n",
      "Lasso Regression - R^2 Score (Train) : 0.02, R^2 Score (Test): -0.03\n",
      "[0.025246659361685242, -0.06985193078284513, 0.048305375223986036, -0.018702461166610007, -0.021499827852622833, 0.00017195629736865836, -0.08253799209884072, -0.06273479346357447, -0.08568207144562301, -0.07439097221429303]\n",
      "Decision Tree - R^2 Score (Train) : 1.00, R^2 Score (Test): -0.60\n",
      "[-0.6217648455021481, -0.576547245812606, -0.3433854600413311, -0.6621464562353392, -0.8181133669909646, -0.07483731708091312, -0.6813827315541603, -0.8889314438912292, -0.05309627651262261, -1.3136909716339749]\n",
      "Gradient Boosting - R^2 Score (Train) : 0.86, R^2 Score (Test): 0.25\n",
      "[0.24897703844007046, 0.33388728959267777, 0.3025265317790866, 0.25038269628018095, 0.1808057717644893, 0.3004176460221655, 0.3234536458105377, 0.29122966774566383, 0.10842320719894638, 0.15529621675987937]\n",
      "Random Forest - R^2 Score (Train) : 0.90, R^2 Score (Test): 0.25\n",
      "[0.12213692731062464, 0.35639579814754974, 0.16163274510085013, 0.1430751422896639, 0.36143581214225395, 0.33783005491762363, 0.23090060750686892, 0.21560533173395158, 0.20077958257861916, 0.3419843907892389]\n",
      "Support Vector Machine - R^2 Score (Train) : 0.02, R^2 Score (Test): -0.00\n",
      "[-0.051382840716041045, 4.909800878771797e-05, 0.008051628627682716, 0.0670570300615051, -0.06987444470244197, -0.07499508760883034, -0.03681221066622076, 0.002786705151922919, 0.07561090018352101, 0.04250025271847935]\n"
     ]
    }
   ],
   "source": [
    "# Import necessary libraries\n",
    "import numpy as np\n",
    "import pandas as pd\n",
    "from sklearn.model_selection import train_test_split\n",
    "from sklearn.linear_model import LinearRegression, Ridge, Lasso\n",
    "from sklearn.tree import DecisionTreeRegressor\n",
    "from sklearn.ensemble import RandomForestRegressor, GradientBoostingRegressor\n",
    "from sklearn.svm import SVR\n",
    "import xgboost as xgb\n",
    "from sklearn.metrics import mean_squared_error, r2_score\n",
    "from sklearn.model_selection import KFold\n",
    "\n",
    "\n",
    "\n",
    "\n",
    "# Models\n",
    "models = {\n",
    "    \"Linear Regression\": LinearRegression(),\n",
    "    \"Ridge Regression\": Ridge(),\n",
    "    \"XGB Regressor\": xgb.XGBRegressor(objective='reg:squarederror', random_state=42),\n",
    "    \"Lasso Regression\": Lasso(),\n",
    "    \"Decision Tree\": DecisionTreeRegressor(),\n",
    "    \"Gradient Boosting\": GradientBoostingRegressor(),\n",
    "    \"Random Forest\": RandomForestRegressor(),\n",
    "    \"Support Vector Machine\": SVR()\n",
    "}\n",
    "\n",
    "# Train and evaluate each model\n",
    "for name, model in models.items():\n",
    "\n",
    "    mse_scores_test = []\n",
    "    mse_scores_train = []\n",
    "    r2_scores_test = []\n",
    "    r2_scores_train = []\n",
    "    # Create KFold object\n",
    "    k = 10\n",
    "    kfold = KFold(n_splits=k, shuffle=True)\n",
    "\n",
    "    for train_index, test_index in kfold.split(X):\n",
    "        X_train, X_test = X.iloc[train_index], X.iloc[test_index]\n",
    "        y_train, y_test = y.iloc[train_index], y.iloc[test_index]\n",
    "        model.fit(X_train, y_train)\n",
    "        y_pred_test = model.predict(X_test)\n",
    "        y_pred_train = model.predict(X_train)\n",
    "        mse_test = mean_squared_error(y_test, y_pred_test)\n",
    "        mse_train = mean_squared_error(y_train, y_pred_train)\n",
    "        r2_test = r2_score(y_test, y_pred_test)\n",
    "        r2_train = r2_score(y_train, y_pred_train)\n",
    "        mse_scores_test.append(mse_test)\n",
    "        mse_scores_train.append(mse_train)\n",
    "        r2_scores_test.append(r2_test)\n",
    "        r2_scores_train.append(r2_train)\n",
    "\n",
    "    average_mse_test = np.mean(mse_scores_test)\n",
    "    average_mse_train = np.mean(mse_scores_train)\n",
    "    average_r2_test = np.mean(r2_scores_test)\n",
    "    average_r2_train = np.mean(r2_scores_train)  \n",
    "\n",
    "    print(f'{name} - R^2 Score (Train) : {average_r2_train:.2f}, R^2 Score (Test): {average_r2_test:.2f}')\n",
    "    print(r2_scores_test)\n"
   ]
  },
  {
   "cell_type": "code",
   "execution_count": 31,
   "metadata": {},
   "outputs": [],
   "source": [
    "X_train, X_test, y_train, y_test = train_test_split(X, y, test_size=0.2, random_state=42)"
   ]
  },
  {
   "cell_type": "code",
   "execution_count": 32,
   "metadata": {},
   "outputs": [],
   "source": [
    "# import pandas as pd\n",
    "\n",
    "# # Assuming X_train is your DataFrame\n",
    "# # X_train = pd.DataFrame(...)\n",
    "\n",
    "# corr_matrix = X_train.corr()\n",
    "\n",
    "# # Get the column names of the DataFrame\n",
    "# columns = corr_matrix.columns\n",
    "\n",
    "# # Create an empty list to keep track of columns to drop\n",
    "# columns_to_drop = []\n",
    "# # Create a dictionary to store highly correlated features\n",
    "# highly_correlated_features = {}\n",
    "\n",
    "# # Loop over the columns\n",
    "# for i in range(len(columns)):\n",
    "#     for j in range(0, len(columns)):  # Loop only over the upper triangle to avoid duplicate comparisons\n",
    "#         # Access the cell of the DataFrame\n",
    "#         if abs(corr_matrix.iloc[i, j]) > 0.90:\n",
    "#             # Sort correlated features based on correlation coefficient\n",
    "#             sorted_features = sorted([(corr_matrix.iloc[i, j], columns[j]), (corr_matrix.iloc[i, i], columns[i])],\n",
    "#                                      key=lambda x: abs(x[0]), reverse=True)\n",
    "#             # Add the column to drop\n",
    "#             columns_to_drop.append(sorted_features[1][1])  # Add the one with lower correlation\n",
    "#             # Update the dictionary with highly correlated features\n",
    "#             if sorted_features[0][1] in highly_correlated_features:\n",
    "#                 highly_correlated_features[sorted_features[0][1]].append(sorted_features[1][1])\n",
    "#             else:\n",
    "#                 highly_correlated_features[sorted_features[0][1]] = [sorted_features[1][1]]\n",
    "\n",
    "# print(len(columns_to_drop))\n"
   ]
  },
  {
   "cell_type": "code",
   "execution_count": 33,
   "metadata": {},
   "outputs": [],
   "source": [
    "# import seaborn as sns\n",
    "\n",
    "# corr_matrix = X_train.corr()\n",
    "\n",
    "# # Get the column names of the DataFrame\n",
    "# columns = corr_matrix.columns\n",
    "\n",
    "# # Define a function to sort correlations in descending order (absolute value)\n",
    "# def sort_correlations(series):\n",
    "#   # Take the absolute value of the series\n",
    "#   abs_series = series.abs()\n",
    "#   # Sort the absolute values in descending order\n",
    "#   return abs_series.sort_values(ascending=False)\n",
    "\n",
    "# # Sort each column of the correlation matrix\n",
    "# sorted_corr_matrix = corr_matrix.apply(sort_correlations)\n",
    "\n",
    "# # Create an empty list to keep track of columns to drop\n",
    "# columns_to_drop = []\n",
    "# # Create a dictionary to store highly correlated features\n",
    "# highly_correlated_features = {}\n",
    "\n",
    "# # Loop over the sorted correlation matrix\n",
    "# for i in range(len(sorted_corr_matrix.columns)):\n",
    "#   # Skip the diagonal (correlation with self)\n",
    "#   if i == sorted_corr_matrix.columns[i]:\n",
    "#     continue\n",
    "#   # Get the current column and sorted correlations\n",
    "#   current_column = sorted_corr_matrix.columns[i]\n",
    "#   sorted_correlations = sorted_corr_matrix.loc[current_column]\n",
    "  \n",
    "#   # Identify highly correlated features (> 0.90) excluding the current column\n",
    "#   highly_correlated_features[current_column] = list(sorted_correlations[sorted_correlations > 0.90].index.difference([current_column]))\n",
    "\n",
    "#   # Update columns to drop based on correlations with the current column\n",
    "#   columns_to_drop.extend(highly_correlated_features[current_column])\n",
    "\n",
    "# # Remove duplicates from columns to drop\n",
    "# columns_to_drop = list(set(columns_to_drop))\n",
    "\n",
    "# print(len(columns_to_drop))"
   ]
  },
  {
   "cell_type": "code",
   "execution_count": 34,
   "metadata": {},
   "outputs": [
    {
     "name": "stdout",
     "output_type": "stream",
     "text": [
      "414\n"
     ]
    }
   ],
   "source": [
    "import seaborn as sns\n",
    "corr_matrix = X_train.corr()\n",
    "\n",
    "# Get the column names of the DataFrame\n",
    "columns = corr_matrix.columns\n",
    "\n",
    "# Create an empty list to keep track of columns to drop\n",
    "columns_to_drop = []\n",
    "# Create a dictionary to store highly correlated features\n",
    "highly_correlated_features = {}\n",
    "\n",
    "# Loop over the columns\n",
    "for i in range(len(columns)):\n",
    "    for j in range(0, len(columns)):\n",
    "        # Access the cell of the DataFrame\n",
    "        if i != j and corr_matrix.iloc[i, j] > 0.90:\n",
    "            # Add the column to drop\n",
    "            columns_to_drop.append(columns[j])\n",
    "            # Update the dictionary with highly correlated features\n",
    "            if columns[i] in highly_correlated_features:\n",
    "                highly_correlated_features[columns[i]].append((columns[j], corr_matrix.iloc[i, j].round(4)))\n",
    "            else:\n",
    "                highly_correlated_features[columns[i]] = [(columns[j], corr_matrix.iloc[i, j].round(4))]\n",
    "\n",
    "\n",
    "print(len(columns_to_drop))"
   ]
  },
  {
   "cell_type": "code",
   "execution_count": 35,
   "metadata": {},
   "outputs": [
    {
     "name": "stdout",
     "output_type": "stream",
     "text": [
      "['stl1_12', 'stl2_11', 'stl2_12', 'stl3_11', 'stl3_12', 'stl3_1', 'stl4_12', 'stl4_1', 'stl4_2', 'stl4_3', 'stl1_11', 'stl2_11', 'stl2_12', 'stl2_1', 'stl3_11', 'stl3_12', 'stl3_1', 'stl3_2', 'stl4_1', 'stl4_2', 'stl4_3', 'stl2_12', 'stl2_1', 'stl2_2', 'stl3_12', 'stl3_1', 'stl3_2', 'stl4_1', 'stl4_2', 'stl4_3', 'stl4_4', 'stl1_3', 'stl2_1', 'stl2_2', 'stl2_3', 'stl3_1', 'stl3_2', 'stl3_3', 'stl3_4', 'stl4_1', 'stl4_2', 'stl4_3', 'stl4_4', 'stl1_2', 'stl1_4', 'stl2_2', 'stl2_3', 'stl2_4', 'stl3_3', 'stl3_4', 'stl4_3', 'stl4_4', 'stl1_3', 'stl2_3', 'stl2_4', 'stl3_3', 'stl3_4', 'stl4_11', 'stl4_4', 'stl1_11', 'stl1_12', 'stl2_12', 'stl3_11', 'stl3_12', 'stl3_1', 'stl4_12', 'stl4_1', 'stl4_2', 'stl4_3', 'stl4_4', 'stl1_11', 'stl1_12', 'stl1_1', 'stl2_11', 'stl2_1', 'stl3_11', 'stl3_12', 'stl3_1', 'stl3_2', 'stl4_12', 'stl4_1', 'stl4_2', 'stl4_3', 'stl4_4', 'stl1_12', 'stl1_1', 'stl1_2', 'stl2_12', 'stl2_2', 'stl3_12', 'stl3_1', 'stl3_2', 'stl4_1', 'stl4_2', 'stl4_3', 'stl4_4', 'stl1_1', 'stl1_2', 'stl1_3', 'stl2_1', 'stl2_3', 'stl3_1', 'stl3_2', 'stl3_3', 'stl3_4', 'stl4_12', 'stl4_1', 'stl4_2', 'stl4_3', 'stl4_4', 'stl1_2', 'stl1_3', 'stl1_4', 'stl2_2', 'stl2_4', 'stl3_2', 'stl3_3', 'stl3_4', 'stl4_11', 'stl4_12', 'stl4_3', 'stl4_4', 'stl1_3', 'stl1_4', 'stl2_3', 'stl3_3', 'stl3_4', 'stl4_11', 'stl4_12', 'stl4_3', 'stl4_4', 'stl1_11', 'stl1_12', 'stl2_11', 'stl2_12', 'stl3_12', 'stl3_1', 'stl3_2', 'stl3_3', 'stl4_11', 'stl4_12', 'stl4_1', 'stl4_2', 'stl4_3', 'stl4_4', 'stl1_11', 'stl1_12', 'stl1_1', 'stl2_11', 'stl2_12', 'stl2_1', 'stl3_11', 'stl3_1', 'stl3_2', 'stl3_3', 'stl4_11', 'stl4_12', 'stl4_1', 'stl4_2', 'stl4_3', 'stl4_4', 'stl1_11', 'stl1_12', 'stl1_1', 'stl1_2', 'stl2_11', 'stl2_12', 'stl2_1', 'stl2_2', 'stl3_11', 'stl3_12', 'stl3_2', 'stl3_3', 'stl4_12', 'stl4_1', 'stl4_2', 'stl4_3', 'stl4_4', 'stl1_12', 'stl1_1', 'stl1_2', 'stl2_12', 'stl2_1', 'stl2_2', 'stl2_3', 'stl3_11', 'stl3_12', 'stl3_1', 'stl3_3', 'stl3_4', 'stl4_11', 'stl4_12', 'stl4_1', 'stl4_2', 'stl4_3', 'stl4_4', 'stl1_2', 'stl1_3', 'stl1_4', 'stl2_2', 'stl2_3', 'stl2_4', 'stl3_11', 'stl3_12', 'stl3_1', 'stl3_2', 'stl3_4', 'stl4_11', 'stl4_12', 'stl4_1', 'stl4_2', 'stl4_3', 'stl4_4', 'stl1_2', 'stl1_3', 'stl1_4', 'stl2_2', 'stl2_3', 'stl2_4', 'stl3_2', 'stl3_3', 'stl4_11', 'stl4_12', 'stl4_1', 'stl4_2', 'stl4_3', 'stl4_4', 'stl1_4', 'stl2_3', 'stl2_4', 'stl3_11', 'stl3_12', 'stl3_2', 'stl3_3', 'stl3_4', 'stl4_12', 'stl4_1', 'stl4_2', 'stl4_3', 'stl4_4', 'stl1_11', 'stl2_11', 'stl2_12', 'stl2_2', 'stl2_3', 'stl2_4', 'stl3_11', 'stl3_12', 'stl3_1', 'stl3_2', 'stl3_3', 'stl3_4', 'stl4_11', 'stl4_1', 'stl4_2', 'stl4_3', 'stl4_4', 'stl1_11', 'stl1_12', 'stl1_1', 'stl1_2', 'stl2_11', 'stl2_12', 'stl2_1', 'stl2_2', 'stl3_11', 'stl3_12', 'stl3_1', 'stl3_2', 'stl3_3', 'stl3_4', 'stl4_11', 'stl4_12', 'stl4_2', 'stl4_3', 'stl4_4', 'stl1_11', 'stl1_12', 'stl1_1', 'stl1_2', 'stl2_11', 'stl2_12', 'stl2_1', 'stl2_2', 'stl3_11', 'stl3_12', 'stl3_1', 'stl3_2', 'stl3_3', 'stl3_4', 'stl4_11', 'stl4_12', 'stl4_1', 'stl4_3', 'stl4_4', 'stl1_11', 'stl1_12', 'stl1_1', 'stl1_2', 'stl1_3', 'stl2_11', 'stl2_12', 'stl2_1', 'stl2_2', 'stl2_3', 'stl2_4', 'stl3_11', 'stl3_12', 'stl3_1', 'stl3_2', 'stl3_3', 'stl3_4', 'stl4_11', 'stl4_12', 'stl4_1', 'stl4_2', 'stl4_4', 'stl1_1', 'stl1_2', 'stl1_3', 'stl1_4', 'stl2_11', 'stl2_12', 'stl2_1', 'stl2_2', 'stl2_3', 'stl2_4', 'stl3_11', 'stl3_12', 'stl3_1', 'stl3_2', 'stl3_3', 'stl3_4', 'stl4_11', 'stl4_12', 'stl4_1', 'stl4_2', 'stl4_3', 'swvl1_2', 'swvl1_1', 'swvl1_3', 'swvl1_4', 'swvl1_2', 'swvl1_2', 'swvl2_2', 'swvl2_3', 'swvl2_1', 'swvl2_3', 'swvl2_4', 'swvl2_1', 'swvl2_2', 'swvl2_4', 'swvl2_2', 'swvl2_3', 'swvl3_12', 'swvl3_1', 'swvl3_11', 'swvl3_1', 'swvl3_2', 'swvl3_11', 'swvl3_12', 'swvl3_2', 'swvl3_3', 'swvl3_4', 'swvl3_12', 'swvl3_1', 'swvl3_3', 'swvl3_4', 'swvl3_1', 'swvl3_2', 'swvl3_4', 'swvl3_1', 'swvl3_2', 'swvl3_3', 'swvl4_12', 'swvl4_1', 'swvl4_2', 'swvl4_3', 'swvl4_4', 'swvl4_11', 'swvl4_1', 'swvl4_2', 'swvl4_3', 'swvl4_4', 'swvl4_11', 'swvl4_12', 'swvl4_2', 'swvl4_3', 'swvl4_4', 'swvl4_11', 'swvl4_12', 'swvl4_1', 'swvl4_3', 'swvl4_4', 'swvl4_11', 'swvl4_12', 'swvl4_1', 'swvl4_2', 'swvl4_4', 'swvl4_11', 'swvl4_12', 'swvl4_1', 'swvl4_2', 'swvl4_3', 'tmax_1', 'tmax_12', 'tmax_4', 'tmax_3', 'tmin_4', 'tmax_4', 'countrain_11', 'countrain_1', 'rain_11', 'rain_1']\n"
     ]
    }
   ],
   "source": [
    "print(columns_to_drop)"
   ]
  },
  {
   "cell_type": "code",
   "execution_count": 36,
   "metadata": {},
   "outputs": [
    {
     "name": "stdout",
     "output_type": "stream",
     "text": [
      "Highly correlated features:\n",
      "stl1_11 : [('stl1_12', 0.9009), ('stl2_11', 0.9985), ('stl2_12', 0.9191), ('stl3_11', 0.9766), ('stl3_12', 0.9507), ('stl3_1', 0.9076), ('stl4_12', 0.9248), ('stl4_1', 0.938), ('stl4_2', 0.9298), ('stl4_3', 0.9152)]\n",
      "stl1_12 : [('stl1_11', 0.9009), ('stl2_11', 0.9048), ('stl2_12', 0.9982), ('stl2_1', 0.9193), ('stl3_11', 0.9027), ('stl3_12', 0.9777), ('stl3_1', 0.9552), ('stl3_2', 0.9088), ('stl4_1', 0.9392), ('stl4_2', 0.9433), ('stl4_3', 0.9284)]\n",
      "stl1_1 : [('stl2_12', 0.9055), ('stl2_1', 0.9982), ('stl2_2', 0.9147), ('stl3_12', 0.9104), ('stl3_1', 0.9784), ('stl3_2', 0.9544), ('stl4_1', 0.9171), ('stl4_2', 0.9488), ('stl4_3', 0.9424), ('stl4_4', 0.9112)]\n",
      "stl1_2 : [('stl1_3', 0.9103), ('stl2_1', 0.9007), ('stl2_2', 0.998), ('stl2_3', 0.9265), ('stl3_1', 0.9089), ('stl3_2', 0.9788), ('stl3_3', 0.9647), ('stl3_4', 0.9082), ('stl4_1', 0.9021), ('stl4_2', 0.9262), ('stl4_3', 0.9595), ('stl4_4', 0.9595)]\n",
      "stl1_3 : [('stl1_2', 0.9103), ('stl1_4', 0.9378), ('stl2_2', 0.9076), ('stl2_3', 0.9978), ('stl2_4', 0.9471), ('stl3_3', 0.9778), ('stl3_4', 0.9715), ('stl4_3', 0.9145), ('stl4_4', 0.9599)]\n",
      "stl1_4 : [('stl1_3', 0.9378), ('stl2_3', 0.9353), ('stl2_4', 0.9988), ('stl3_3', 0.9242), ('stl3_4', 0.9878), ('stl4_11', 0.9116), ('stl4_4', 0.9375)]\n",
      "stl2_11 : [('stl1_11', 0.9985), ('stl1_12', 0.9048), ('stl2_12', 0.9233), ('stl3_11', 0.9866), ('stl3_12', 0.9572), ('stl3_1', 0.9162), ('stl4_12', 0.9409), ('stl4_1', 0.9509), ('stl4_2', 0.9417), ('stl4_3', 0.9285), ('stl4_4', 0.9038)]\n",
      "stl2_12 : [('stl1_11', 0.9191), ('stl1_12', 0.9982), ('stl1_1', 0.9055), ('stl2_11', 0.9233), ('stl2_1', 0.925), ('stl3_11', 0.9224), ('stl3_12', 0.988), ('stl3_1', 0.9622), ('stl3_2', 0.9192), ('stl4_12', 0.9126), ('stl4_1', 0.9543), ('stl4_2', 0.9564), ('stl4_3', 0.9412), ('stl4_4', 0.9022)]\n",
      "stl2_1 : [('stl1_12', 0.9193), ('stl1_1', 0.9982), ('stl1_2', 0.9007), ('stl2_12', 0.925), ('stl2_2', 0.9195), ('stl3_12', 0.9301), ('stl3_1', 0.9887), ('stl3_2', 0.9596), ('stl4_1', 0.9355), ('stl4_2', 0.9623), ('stl4_3', 0.9542), ('stl4_4', 0.922)]\n",
      "stl2_2 : [('stl1_1', 0.9147), ('stl1_2', 0.998), ('stl1_3', 0.9076), ('stl2_1', 0.9195), ('stl2_3', 0.9254), ('stl3_1', 0.927), ('stl3_2', 0.9886), ('stl3_3', 0.9659), ('stl3_4', 0.9106), ('stl4_12', 0.9025), ('stl4_1', 0.9189), ('stl4_2', 0.9425), ('stl4_3', 0.9702), ('stl4_4', 0.9657)]\n",
      "stl2_3 : [('stl1_2', 0.9265), ('stl1_3', 0.9978), ('stl1_4', 0.9353), ('stl2_2', 0.9254), ('stl2_4', 0.9458), ('stl3_2', 0.9155), ('stl3_3', 0.9876), ('stl3_4', 0.9716), ('stl4_11', 0.9011), ('stl4_12', 0.9001), ('stl4_3', 0.9313), ('stl4_4', 0.9695)]\n",
      "stl2_4 : [('stl1_3', 0.9471), ('stl1_4', 0.9988), ('stl2_3', 0.9458), ('stl3_3', 0.9338), ('stl3_4', 0.9928), ('stl4_11', 0.9177), ('stl4_12', 0.9015), ('stl4_3', 0.9), ('stl4_4', 0.9454)]\n",
      "stl3_11 : [('stl1_11', 0.9766), ('stl1_12', 0.9027), ('stl2_11', 0.9866), ('stl2_12', 0.9224), ('stl3_12', 0.9639), ('stl3_1', 0.9319), ('stl3_2', 0.9221), ('stl3_3', 0.9132), ('stl4_11', 0.9424), ('stl4_12', 0.9787), ('stl4_1', 0.9781), ('stl4_2', 0.9668), ('stl4_3', 0.9577), ('stl4_4', 0.942)]\n",
      "stl3_12 : [('stl1_11', 0.9507), ('stl1_12', 0.9777), ('stl1_1', 0.9104), ('stl2_11', 0.9572), ('stl2_12', 0.988), ('stl2_1', 0.9301), ('stl3_11', 0.9639), ('stl3_1', 0.97), ('stl3_2', 0.9372), ('stl3_3', 0.9013), ('stl4_11', 0.9075), ('stl4_12', 0.9598), ('stl4_1', 0.9843), ('stl4_2', 0.9808), ('stl4_3', 0.9658), ('stl4_4', 0.9363)]\n",
      "stl3_1 : [('stl1_11', 0.9076), ('stl1_12', 0.9552), ('stl1_1', 0.9784), ('stl1_2', 0.9089), ('stl2_11', 0.9162), ('stl2_12', 0.9622), ('stl2_1', 0.9887), ('stl2_2', 0.927), ('stl3_11', 0.9319), ('stl3_12', 0.97), ('stl3_2', 0.966), ('stl3_3', 0.9123), ('stl4_12', 0.9408), ('stl4_1', 0.9729), ('stl4_2', 0.9869), ('stl4_3', 0.9765), ('stl4_4', 0.9456)]\n",
      "stl3_2 : [('stl1_12', 0.9088), ('stl1_1', 0.9544), ('stl1_2', 0.9788), ('stl2_12', 0.9192), ('stl2_1', 0.9596), ('stl2_2', 0.9886), ('stl2_3', 0.9155), ('stl3_11', 0.9221), ('stl3_12', 0.9372), ('stl3_1', 0.966), ('stl3_3', 0.9606), ('stl3_4', 0.9119), ('stl4_11', 0.9094), ('stl4_12', 0.936), ('stl4_1', 0.9548), ('stl4_2', 0.9762), ('stl4_3', 0.9888), ('stl4_4', 0.9753)]\n",
      "stl3_3 : [('stl1_2', 0.9647), ('stl1_3', 0.9778), ('stl1_4', 0.9242), ('stl2_2', 0.9659), ('stl2_3', 0.9876), ('stl2_4', 0.9338), ('stl3_11', 0.9132), ('stl3_12', 0.9013), ('stl3_1', 0.9123), ('stl3_2', 0.9606), ('stl3_4', 0.9628), ('stl4_11', 0.9236), ('stl4_12', 0.9337), ('stl4_1', 0.9347), ('stl4_2', 0.9432), ('stl4_3', 0.9719), ('stl4_4', 0.9893)]\n",
      "stl3_4 : [('stl1_2', 0.9082), ('stl1_3', 0.9715), ('stl1_4', 0.9878), ('stl2_2', 0.9106), ('stl2_3', 0.9716), ('stl2_4', 0.9928), ('stl3_2', 0.9119), ('stl3_3', 0.9628), ('stl4_11', 0.9307), ('stl4_12', 0.9227), ('stl4_1', 0.9069), ('stl4_2', 0.908), ('stl4_3', 0.9311), ('stl4_4', 0.9714)]\n",
      "stl4_11 : [('stl1_4', 0.9116), ('stl2_3', 0.9011), ('stl2_4', 0.9177), ('stl3_11', 0.9424), ('stl3_12', 0.9075), ('stl3_2', 0.9094), ('stl3_3', 0.9236), ('stl3_4', 0.9307), ('stl4_12', 0.9868), ('stl4_1', 0.9636), ('stl4_2', 0.95), ('stl4_3', 0.9467), ('stl4_4', 0.9498)]\n",
      "stl4_12 : [('stl1_11', 0.9248), ('stl2_11', 0.9409), ('stl2_12', 0.9126), ('stl2_2', 0.9025), ('stl2_3', 0.9001), ('stl2_4', 0.9015), ('stl3_11', 0.9787), ('stl3_12', 0.9598), ('stl3_1', 0.9408), ('stl3_2', 0.936), ('stl3_3', 0.9337), ('stl3_4', 0.9227), ('stl4_11', 0.9868), ('stl4_1', 0.9917), ('stl4_2', 0.9802), ('stl4_3', 0.9719), ('stl4_4', 0.9632)]\n",
      "stl4_1 : [('stl1_11', 0.938), ('stl1_12', 0.9392), ('stl1_1', 0.9171), ('stl1_2', 0.9021), ('stl2_11', 0.9509), ('stl2_12', 0.9543), ('stl2_1', 0.9355), ('stl2_2', 0.9189), ('stl3_11', 0.9781), ('stl3_12', 0.9843), ('stl3_1', 0.9729), ('stl3_2', 0.9548), ('stl3_3', 0.9347), ('stl3_4', 0.9069), ('stl4_11', 0.9636), ('stl4_12', 0.9917), ('stl4_2', 0.9951), ('stl4_3', 0.9846), ('stl4_4', 0.9658)]\n",
      "stl4_2 : [('stl1_11', 0.9298), ('stl1_12', 0.9433), ('stl1_1', 0.9488), ('stl1_2', 0.9262), ('stl2_11', 0.9417), ('stl2_12', 0.9564), ('stl2_1', 0.9623), ('stl2_2', 0.9425), ('stl3_11', 0.9668), ('stl3_12', 0.9808), ('stl3_1', 0.9869), ('stl3_2', 0.9762), ('stl3_3', 0.9432), ('stl3_4', 0.908), ('stl4_11', 0.95), ('stl4_12', 0.9802), ('stl4_1', 0.9951), ('stl4_3', 0.9933), ('stl4_4', 0.9729)]\n",
      "stl4_3 : [('stl1_11', 0.9152), ('stl1_12', 0.9284), ('stl1_1', 0.9424), ('stl1_2', 0.9595), ('stl1_3', 0.9145), ('stl2_11', 0.9285), ('stl2_12', 0.9412), ('stl2_1', 0.9542), ('stl2_2', 0.9702), ('stl2_3', 0.9313), ('stl2_4', 0.9), ('stl3_11', 0.9577), ('stl3_12', 0.9658), ('stl3_1', 0.9765), ('stl3_2', 0.9888), ('stl3_3', 0.9719), ('stl3_4', 0.9311), ('stl4_11', 0.9467), ('stl4_12', 0.9719), ('stl4_1', 0.9846), ('stl4_2', 0.9933), ('stl4_4', 0.9891)]\n",
      "stl4_4 : [('stl1_1', 0.9112), ('stl1_2', 0.9595), ('stl1_3', 0.9599), ('stl1_4', 0.9375), ('stl2_11', 0.9038), ('stl2_12', 0.9022), ('stl2_1', 0.922), ('stl2_2', 0.9657), ('stl2_3', 0.9695), ('stl2_4', 0.9454), ('stl3_11', 0.942), ('stl3_12', 0.9363), ('stl3_1', 0.9456), ('stl3_2', 0.9753), ('stl3_3', 0.9893), ('stl3_4', 0.9714), ('stl4_11', 0.9498), ('stl4_12', 0.9632), ('stl4_1', 0.9658), ('stl4_2', 0.9729), ('stl4_3', 0.9891)]\n",
      "swvl1_1 : [('swvl1_2', 0.9326)]\n",
      "swvl1_2 : [('swvl1_1', 0.9326), ('swvl1_3', 0.935), ('swvl1_4', 0.9002)]\n",
      "swvl1_3 : [('swvl1_2', 0.935)]\n",
      "swvl1_4 : [('swvl1_2', 0.9002)]\n",
      "swvl2_1 : [('swvl2_2', 0.9526), ('swvl2_3', 0.9043)]\n",
      "swvl2_2 : [('swvl2_1', 0.9526), ('swvl2_3', 0.9633), ('swvl2_4', 0.9274)]\n",
      "swvl2_3 : [('swvl2_1', 0.9043), ('swvl2_2', 0.9633), ('swvl2_4', 0.9455)]\n",
      "swvl2_4 : [('swvl2_2', 0.9274), ('swvl2_3', 0.9455)]\n",
      "swvl3_11 : [('swvl3_12', 0.9725), ('swvl3_1', 0.9193)]\n",
      "swvl3_12 : [('swvl3_11', 0.9725), ('swvl3_1', 0.9597), ('swvl3_2', 0.9114)]\n",
      "swvl3_1 : [('swvl3_11', 0.9193), ('swvl3_12', 0.9597), ('swvl3_2', 0.9827), ('swvl3_3', 0.9484), ('swvl3_4', 0.9086)]\n",
      "swvl3_2 : [('swvl3_12', 0.9114), ('swvl3_1', 0.9827), ('swvl3_3', 0.9893), ('swvl3_4', 0.9617)]\n",
      "swvl3_3 : [('swvl3_1', 0.9484), ('swvl3_2', 0.9893), ('swvl3_4', 0.9878)]\n",
      "swvl3_4 : [('swvl3_1', 0.9086), ('swvl3_2', 0.9617), ('swvl3_3', 0.9878)]\n",
      "swvl4_11 : [('swvl4_12', 0.9983), ('swvl4_1', 0.9959), ('swvl4_2', 0.9938), ('swvl4_3', 0.9912), ('swvl4_4', 0.9882)]\n",
      "swvl4_12 : [('swvl4_11', 0.9983), ('swvl4_1', 0.999), ('swvl4_2', 0.9976), ('swvl4_3', 0.9954), ('swvl4_4', 0.9925)]\n",
      "swvl4_1 : [('swvl4_11', 0.9959), ('swvl4_12', 0.999), ('swvl4_2', 0.9995), ('swvl4_3', 0.9981), ('swvl4_4', 0.9958)]\n",
      "swvl4_2 : [('swvl4_11', 0.9938), ('swvl4_12', 0.9976), ('swvl4_1', 0.9995), ('swvl4_3', 0.9995), ('swvl4_4', 0.998)]\n",
      "swvl4_3 : [('swvl4_11', 0.9912), ('swvl4_12', 0.9954), ('swvl4_1', 0.9981), ('swvl4_2', 0.9995), ('swvl4_4', 0.9995)]\n",
      "swvl4_4 : [('swvl4_11', 0.9882), ('swvl4_12', 0.9925), ('swvl4_1', 0.9958), ('swvl4_2', 0.998), ('swvl4_3', 0.9995)]\n",
      "tmax_12 : [('tmax_1', 0.9204)]\n",
      "tmax_1 : [('tmax_12', 0.9204)]\n",
      "tmax_3 : [('tmax_4', 0.917)]\n",
      "tmax_4 : [('tmax_3', 0.917), ('tmin_4', 0.9066)]\n",
      "tmin_4 : [('tmax_4', 0.9066)]\n",
      "rain_11 : [('countrain_11', 0.9151)]\n",
      "rain_1 : [('countrain_1', 0.9186)]\n",
      "countrain_11 : [('rain_11', 0.9151)]\n",
      "countrain_1 : [('rain_1', 0.9186)]\n"
     ]
    }
   ],
   "source": [
    "print(\"Highly correlated features:\")\n",
    "for key, value in highly_correlated_features.items():\n",
    "    print(key, \":\", value)"
   ]
  },
  {
   "cell_type": "code",
   "execution_count": 37,
   "metadata": {},
   "outputs": [
    {
     "ename": "NameError",
     "evalue": "name 'stop' is not defined",
     "output_type": "error",
     "traceback": [
      "\u001b[1;31m---------------------------------------------------------------------------\u001b[0m",
      "\u001b[1;31mNameError\u001b[0m                                 Traceback (most recent call last)",
      "Cell \u001b[1;32mIn[37], line 1\u001b[0m\n\u001b[1;32m----> 1\u001b[0m \u001b[43mstop\u001b[49m\n",
      "\u001b[1;31mNameError\u001b[0m: name 'stop' is not defined"
     ]
    }
   ],
   "source": [
    "stop"
   ]
  },
  {
   "cell_type": "code",
   "execution_count": null,
   "metadata": {},
   "outputs": [],
   "source": [
    "import time\n",
    "def print_accuracy(f):\n",
    "    print(\n",
    "        f\"Root mean squared test error = {np.sqrt(np.mean((f(X_test) - y_test) ** 2))}\"\n",
    "    )\n",
    "    time.sleep(0.5)  # to let the print get out before any progress bars"
   ]
  },
  {
   "cell_type": "code",
   "execution_count": null,
   "metadata": {},
   "outputs": [],
   "source": [
    "from sklearn.ensemble import RandomForestRegressor\n",
    "\n",
    "rforest = RandomForestRegressor(\n",
    "    n_estimators=1000, max_depth=None, min_samples_split=2, random_state=0\n",
    ")\n",
    "rforest.fit(X_train, y_train)\n",
    "print_accuracy(rforest.predict)"
   ]
  },
  {
   "cell_type": "code",
   "execution_count": null,
   "metadata": {},
   "outputs": [],
   "source": [
    "y_pred = rforest.predict(X_test)\n",
    "mse = mean_squared_error(y_test, y_pred)\n",
    "r2 = r2_score(y_test, y_pred)\n",
    "print(mse,r2)"
   ]
  },
  {
   "cell_type": "code",
   "execution_count": null,
   "metadata": {},
   "outputs": [],
   "source": [
    "#pip install shap"
   ]
  },
  {
   "cell_type": "code",
   "execution_count": null,
   "metadata": {},
   "outputs": [],
   "source": [
    "stop"
   ]
  },
  {
   "cell_type": "code",
   "execution_count": null,
   "metadata": {},
   "outputs": [],
   "source": [
    "columns_to_drop = set(columns_to_drop)\n",
    "print(columns_to_drop)"
   ]
  },
  {
   "cell_type": "code",
   "execution_count": null,
   "metadata": {},
   "outputs": [],
   "source": [
    "len(columns_to_drop)"
   ]
  },
  {
   "cell_type": "code",
   "execution_count": null,
   "metadata": {},
   "outputs": [],
   "source": [
    "X_train.drop(columns = columns_to_drop, axis = 1, inplace=True)\n",
    "X_test.drop(columns = columns_to_drop, axis = 1, inplace=True)"
   ]
  },
  {
   "cell_type": "code",
   "execution_count": null,
   "metadata": {},
   "outputs": [],
   "source": [
    "from sklearn.model_selection import train_test_split\n",
    "from sklearn.linear_model import LinearRegression\n",
    "from sklearn.metrics import mean_squared_error, r2_score"
   ]
  },
  {
   "cell_type": "code",
   "execution_count": null,
   "metadata": {},
   "outputs": [],
   "source": [
    "# Import necessary libraries\n",
    "import numpy as np\n",
    "import pandas as pd\n",
    "from sklearn.model_selection import train_test_split\n",
    "from sklearn.linear_model import LinearRegression, Ridge, Lasso\n",
    "from sklearn.tree import DecisionTreeRegressor\n",
    "from sklearn.ensemble import RandomForestRegressor, GradientBoostingRegressor\n",
    "from sklearn.svm import SVR\n",
    "from sklearn.metrics import mean_squared_error, r2_score\n",
    "from sklearn.model_selection import KFold\n",
    "\n",
    "\n",
    "# Create KFold object\n",
    "k = 5\n",
    "kfold = KFold(n_splits=k, shuffle=True)\n",
    "\n",
    "\n",
    "# Models\n",
    "models = {\n",
    "    \"Linear Regression\": LinearRegression(),\n",
    "    \"Ridge Regression\": Ridge(),\n",
    "    \"Lasso Regression\": Lasso(),\n",
    "    \"Decision Tree\": DecisionTreeRegressor(),\n",
    "    \"Gradient Boosting\": GradientBoostingRegressor(),\n",
    "    \"Random Forest\": RandomForestRegressor(),\n",
    "    \"Support Vector Machine\": SVR()\n",
    "}\n",
    "\n",
    "# Train and evaluate each model\n",
    "for name, model in models.items():\n",
    "    mse_scores = []\n",
    "    r2_scores = []\n",
    "\n",
    "    for train_index, test_index in kfold.split(X):\n",
    "        X_train, X_test = X[train_index], X[test_index]\n",
    "        y_train, y_test = y[train_index], y[test_index]\n",
    "    model.fit(X_train, y_train)\n",
    "    y_pred = model.predict(X_test)\n",
    "    mse = mean_squared_error(y_test, y_pred)\n",
    "    r2 = r2_score(y_test, y_pred)\n",
    "    print(f'{name} - Mean Squared Error: {mse:.2f}, R^2 Score: {r2:.2f}')\n"
   ]
  },
  {
   "cell_type": "code",
   "execution_count": null,
   "metadata": {},
   "outputs": [],
   "source": [
    "import xarray\n",
    "data = xarray.open_dataset(r\"C:\\Users\\Kanishk Goyal\\OneDrive - IIT Kanpur\\Desktop\\Prof. Hamim Zafar\\Data\\Relative humidity\\1month_mean_Global_ea_r2_199703_v02.grib\", engine='cfgrib')\n",
    "data.to_netcdf(r\"C:\\Users\\Kanishk Goyal\\OneDrive - IIT Kanpur\\Desktop\\Prof. Hamim Zafar\\Data\\Relative humidity\\1month_mean_Global_ea_r2_199703_v02.nc\")"
   ]
  },
  {
   "cell_type": "code",
   "execution_count": null,
   "metadata": {},
   "outputs": [],
   "source": []
  }
 ],
 "metadata": {
  "kernelspec": {
   "display_name": "Python 3",
   "language": "python",
   "name": "python3"
  },
  "language_info": {
   "codemirror_mode": {
    "name": "ipython",
    "version": 3
   },
   "file_extension": ".py",
   "mimetype": "text/x-python",
   "name": "python",
   "nbconvert_exporter": "python",
   "pygments_lexer": "ipython3",
   "version": "3.11.4"
  }
 },
 "nbformat": 4,
 "nbformat_minor": 2
}
