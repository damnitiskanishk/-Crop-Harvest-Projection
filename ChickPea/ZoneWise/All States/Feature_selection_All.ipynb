{
 "cells": [
  {
   "cell_type": "code",
   "execution_count": 1,
   "metadata": {},
   "outputs": [],
   "source": [
    "import numpy as np \n",
    "import pandas as pd\n",
    "import seaborn as sns\n",
    "import matplotlib.pyplot as plt\n",
    "from sklearn.preprocessing import LabelEncoder\n",
    "from sklearn.model_selection import train_test_split\n",
    "from sklearn.linear_model import LinearRegression\n",
    "from sklearn.metrics import mean_squared_error, r2_score\n",
    "import seaborn as sns"
   ]
  },
  {
   "cell_type": "code",
   "execution_count": 2,
   "metadata": {},
   "outputs": [],
   "source": [
    "df = pd.read_csv(r\"C:\\Users\\Kanishk Goyal\\OneDrive - IIT Kanpur\\Desktop\\Prof. Hamim Zafar\\Data\\Final Data\\ChickPea\\Full_ChickPea_dataset.csv\")\n",
    "df = df.drop(columns=['latitude','longitude','DistrictName', 'year','index'])\n",
    "df = df.sample(frac=1).reset_index(drop=True)\n",
    "#df = df.drop(columns=['DistrictName','latitude','longitude','year','year_mask'])"
   ]
  },
  {
   "cell_type": "code",
   "execution_count": 3,
   "metadata": {},
   "outputs": [],
   "source": [
    "df = df.rename(columns={'Yield(tonnes/hectare)':'Yield(Tonnes/Hectare)'},inplace=False)"
   ]
  },
  {
   "cell_type": "code",
   "execution_count": 4,
   "metadata": {},
   "outputs": [
    {
     "data": {
      "text/plain": [
       "Index(['stl1_11', 'stl1_12', 'stl1_1', 'stl1_2', 'stl1_3', 'stl1_4', 'stl2_11',\n",
       "       'stl2_12', 'stl2_1', 'stl2_2', 'stl2_3', 'stl2_4', 'stl3_11', 'stl3_12',\n",
       "       'stl3_1', 'stl3_2', 'stl3_3', 'stl3_4', 'stl4_11', 'stl4_12', 'stl4_1',\n",
       "       'stl4_2', 'stl4_3', 'stl4_4', 'swvl1_11', 'swvl1_12', 'swvl1_1',\n",
       "       'swvl1_2', 'swvl1_3', 'swvl1_4', 'swvl2_11', 'swvl2_12', 'swvl2_1',\n",
       "       'swvl2_2', 'swvl2_3', 'swvl2_4', 'swvl3_11', 'swvl3_12', 'swvl3_1',\n",
       "       'swvl3_2', 'swvl3_3', 'swvl3_4', 'swvl4_11', 'swvl4_12', 'swvl4_1',\n",
       "       'swvl4_2', 'swvl4_3', 'swvl4_4', 'ssr_12', 'ssr_11', 'ssr_1', 'ssr_2',\n",
       "       'ssr_3', 'ssr_4', 'u10_11', 'u10_12', 'u10_1', 'u10_2', 'u10_3',\n",
       "       'u10_4', 'v10_11', 'v10_12', 'v10_1', 'v10_2', 'v10_3', 'v10_4',\n",
       "       'tmax_11', 'tmax_12', 'tmax_1', 'tmax_2', 'tmax_3', 'tmax_4', 'tmin_11',\n",
       "       'tmin_12', 'tmin_1', 'tmin_2', 'tmin_3', 'tmin_4', 'rain_11', 'rain_12',\n",
       "       'rain_1', 'rain_2', 'rain_3', 'rain_4', 'countrain_11', 'countrain_12',\n",
       "       'countrain_1', 'countrain_2', 'countrain_3', 'countrain_4', 'rh_11',\n",
       "       'rh_12', 'rh_1', 'rh_2', 'rh_3', 'rh_4', 'Yield(Tonnes/Hectare)'],\n",
       "      dtype='object')"
      ]
     },
     "execution_count": 4,
     "metadata": {},
     "output_type": "execute_result"
    }
   ],
   "source": [
    "df.columns"
   ]
  },
  {
   "cell_type": "code",
   "execution_count": 5,
   "metadata": {},
   "outputs": [],
   "source": [
    "# df['stl1'] = (df['stl1_1'] + df['stl1_2'])/2\n",
    "# df['stl2'] = (df['stl2_1'] + df['stl2_2'])/2\n",
    "# df['stl3'] = (df['stl3_1'] + df['stl3_2'])/2\n",
    "# df['stl4'] = (df['stl4_1'] + df['stl4_2'])/2\n",
    "# df['swvl1'] = (df['swvl1_1'] + df['swvl1_2'])/2\n",
    "# df['swvl2'] = (df['swvl2_1'] + df['swvl2_2'])/2\n",
    "# df['swvl3'] = (df['swvl3_1'] + df['swvl3_2'])/2\n",
    "# df['swvl4'] = (df['swvl4_1'] + df['swvl4_2'])/2\n",
    "# df['ssr'] = (df['ssr_1'] + df['ssr_2'])/2\n",
    "# df['rain'] = (df['rain_1'] + df['rain_2'])/2\n",
    "# df['tmax'] = (df['tmax_1'] + df['tmax_2'])/2\n",
    "# df['tmin'] = (df['tmin_1'] + df['tmin_2'])/2\n",
    "# df['countrain'] = df['countrain_1'] + df['countrain_2']\n",
    "# df['u10'] = (df['u10_3']+df['u10_4'])/2\n",
    "# df['v10'] = (df['v10_3']+df['v10_4'])/2\n",
    "# df['rh'] = (df['rh_3']+df['rh_4'])/2"
   ]
  },
  {
   "cell_type": "code",
   "execution_count": 6,
   "metadata": {},
   "outputs": [],
   "source": [
    "# df = df.drop(columns=['stl1_1','stl1_2','stl2_1','stl2_2','stl3_1','stl3_2','stl4_1','stl4_2','swvl1_1','swvl1_2','swvl2_1','swvl2_2','swvl3_1','swvl3_2','swvl4_1','swvl4_2','ssr_1','ssr_2','rain_1','rain_2','tmax_1','tmax_2','tmin_1','tmin_2','countrain_1','countrain_2','u10_3','u10_4','v10_3','v10_4','rh_3','rh_4'],axis=1)"
   ]
  },
  {
   "cell_type": "code",
   "execution_count": 7,
   "metadata": {},
   "outputs": [],
   "source": [
    "df = df.drop(columns=['stl2_11','stl2_12', 'stl2_1', 'stl2_2', 'stl2_3', 'stl2_4', 'stl3_11', 'stl3_12','stl3_1', 'stl3_2', 'stl3_3', 'stl3_4'])"
   ]
  },
  {
   "cell_type": "code",
   "execution_count": 8,
   "metadata": {},
   "outputs": [
    {
     "data": {
      "text/plain": [
       "(5550, 85)"
      ]
     },
     "execution_count": 8,
     "metadata": {},
     "output_type": "execute_result"
    }
   ],
   "source": [
    "df.shape"
   ]
  },
  {
   "cell_type": "code",
   "execution_count": 9,
   "metadata": {},
   "outputs": [
    {
     "data": {
      "text/plain": [
       "Index(['stl1_11', 'stl1_12', 'stl1_1', 'stl1_2', 'stl1_3', 'stl1_4', 'stl4_11',\n",
       "       'stl4_12', 'stl4_1', 'stl4_2', 'stl4_3', 'stl4_4', 'swvl1_11',\n",
       "       'swvl1_12', 'swvl1_1', 'swvl1_2', 'swvl1_3', 'swvl1_4', 'swvl2_11',\n",
       "       'swvl2_12', 'swvl2_1', 'swvl2_2', 'swvl2_3', 'swvl2_4', 'swvl3_11',\n",
       "       'swvl3_12', 'swvl3_1', 'swvl3_2', 'swvl3_3', 'swvl3_4', 'swvl4_11',\n",
       "       'swvl4_12', 'swvl4_1', 'swvl4_2', 'swvl4_3', 'swvl4_4', 'ssr_12',\n",
       "       'ssr_11', 'ssr_1', 'ssr_2', 'ssr_3', 'ssr_4', 'u10_11', 'u10_12',\n",
       "       'u10_1', 'u10_2', 'u10_3', 'u10_4', 'v10_11', 'v10_12', 'v10_1',\n",
       "       'v10_2', 'v10_3', 'v10_4', 'tmax_11', 'tmax_12', 'tmax_1', 'tmax_2',\n",
       "       'tmax_3', 'tmax_4', 'tmin_11', 'tmin_12', 'tmin_1', 'tmin_2', 'tmin_3',\n",
       "       'tmin_4', 'rain_11', 'rain_12', 'rain_1', 'rain_2', 'rain_3', 'rain_4',\n",
       "       'countrain_11', 'countrain_12', 'countrain_1', 'countrain_2',\n",
       "       'countrain_3', 'countrain_4', 'rh_11', 'rh_12', 'rh_1', 'rh_2', 'rh_3',\n",
       "       'rh_4', 'Yield(Tonnes/Hectare)'],\n",
       "      dtype='object')"
      ]
     },
     "execution_count": 9,
     "metadata": {},
     "output_type": "execute_result"
    }
   ],
   "source": [
    "df.columns"
   ]
  },
  {
   "cell_type": "code",
   "execution_count": 10,
   "metadata": {},
   "outputs": [],
   "source": [
    "df = df.dropna(subset=['Yield(Tonnes/Hectare)'])"
   ]
  },
  {
   "cell_type": "code",
   "execution_count": 11,
   "metadata": {},
   "outputs": [
    {
     "data": {
      "text/plain": [
       "(4537, 85)"
      ]
     },
     "execution_count": 11,
     "metadata": {},
     "output_type": "execute_result"
    }
   ],
   "source": [
    "df.shape"
   ]
  },
  {
   "cell_type": "code",
   "execution_count": 12,
   "metadata": {},
   "outputs": [
    {
     "data": {
      "text/plain": [
       "6.509536996491297"
      ]
     },
     "execution_count": 12,
     "metadata": {},
     "output_type": "execute_result"
    }
   ],
   "source": [
    "df['Yield(Tonnes/Hectare)'].skew()"
   ]
  },
  {
   "cell_type": "code",
   "execution_count": 13,
   "metadata": {},
   "outputs": [
    {
     "name": "stderr",
     "output_type": "stream",
     "text": [
      "C:\\Users\\Kanishk Goyal\\AppData\\Local\\Temp\\ipykernel_23656\\994257175.py:1: UserWarning: \n",
      "\n",
      "`distplot` is a deprecated function and will be removed in seaborn v0.14.0.\n",
      "\n",
      "Please adapt your code to use either `displot` (a figure-level function with\n",
      "similar flexibility) or `histplot` (an axes-level function for histograms).\n",
      "\n",
      "For a guide to updating your code to use the new functions, please see\n",
      "https://gist.github.com/mwaskom/de44147ed2974457ad6372750bbe5751\n",
      "\n",
      "  sns.distplot(df['Yield(Tonnes/Hectare)'],color='green')\n"
     ]
    },
    {
     "data": {
      "text/plain": [
       "<Axes: xlabel='Yield(Tonnes/Hectare)', ylabel='Density'>"
      ]
     },
     "execution_count": 13,
     "metadata": {},
     "output_type": "execute_result"
    },
    {
     "data": {
      "image/png": "[encoded data removed]",
      "text/plain": [
       "<Figure size 640x480 with 1 Axes>"
      ]
     },
     "metadata": {},
     "output_type": "display_data"
    }
   ],
   "source": [
    "sns.distplot(df['Yield(Tonnes/Hectare)'],color='green')"
   ]
  },
  {
   "cell_type": "code",
   "execution_count": 14,
   "metadata": {},
   "outputs": [
    {
     "data": {
      "text/plain": [
       "0       0.95\n",
       "1       1.24\n",
       "2       0.39\n",
       "3       1.30\n",
       "5       1.33\n",
       "        ... \n",
       "5545    1.17\n",
       "5546    0.75\n",
       "5547    0.56\n",
       "5548    0.59\n",
       "5549    0.26\n",
       "Name: Yield(Tonnes/Hectare), Length: 4537, dtype: float64"
      ]
     },
     "execution_count": 14,
     "metadata": {},
     "output_type": "execute_result"
    }
   ],
   "source": [
    "df['Yield(Tonnes/Hectare)']"
   ]
  },
  {
   "cell_type": "code",
   "execution_count": 15,
   "metadata": {},
   "outputs": [
    {
     "name": "stdout",
     "output_type": "stream",
     "text": [
      "Number of points in the final DataFrame after handling outliers: 4459\n"
     ]
    }
   ],
   "source": [
    "Q1 = df['Yield(Tonnes/Hectare)'].quantile(0.25)\n",
    "Q3 = df['Yield(Tonnes/Hectare)'].quantile(0.75)\n",
    "IQR = Q3 - Q1\n",
    "\n",
    "lower_bound = Q1 - 1.5 * IQR\n",
    "upper_bound = Q3 + 1.5 * IQR\n",
    "\n",
    "df['Yield_no_outliers'] = np.where((df['Yield(Tonnes/Hectare)'] < lower_bound) | (df['Yield(Tonnes/Hectare)'] > upper_bound), np.nan, df['Yield(Tonnes/Hectare)'])\n",
    "\n",
    "num_points_after_handling_outliers = df['Yield_no_outliers'].count()\n",
    "print(\"Number of points in the final DataFrame after handling outliers:\", num_points_after_handling_outliers)"
   ]
  },
  {
   "cell_type": "code",
   "execution_count": 16,
   "metadata": {},
   "outputs": [],
   "source": [
    "df = df.dropna(subset=['Yield_no_outliers'])\n",
    "df = df.drop(columns=['Yield(Tonnes/Hectare)'])"
   ]
  },
  {
   "cell_type": "code",
   "execution_count": 17,
   "metadata": {},
   "outputs": [],
   "source": [
    "df.rename(columns={'Yield_no_outliers': 'Yield(Tonnes/Hectare)'}, inplace=True)"
   ]
  },
  {
   "cell_type": "code",
   "execution_count": 18,
   "metadata": {},
   "outputs": [
    {
     "data": {
      "text/plain": [
       "0.2657581100607571"
      ]
     },
     "execution_count": 18,
     "metadata": {},
     "output_type": "execute_result"
    }
   ],
   "source": [
    "df['Yield(Tonnes/Hectare)'].skew()"
   ]
  },
  {
   "cell_type": "code",
   "execution_count": 19,
   "metadata": {},
   "outputs": [
    {
     "name": "stderr",
     "output_type": "stream",
     "text": [
      "C:\\Users\\Kanishk Goyal\\AppData\\Local\\Temp\\ipykernel_23656\\1820324139.py:1: UserWarning: \n",
      "\n",
      "`distplot` is a deprecated function and will be removed in seaborn v0.14.0.\n",
      "\n",
      "Please adapt your code to use either `displot` (a figure-level function with\n",
      "similar flexibility) or `histplot` (an axes-level function for histograms).\n",
      "\n",
      "For a guide to updating your code to use the new functions, please see\n",
      "https://gist.github.com/mwaskom/de44147ed2974457ad6372750bbe5751\n",
      "\n",
      "  sns.distplot(df['Yield(Tonnes/Hectare)'])\n"
     ]
    },
    {
     "data": {
      "text/plain": [
       "<Axes: xlabel='Yield(Tonnes/Hectare)', ylabel='Density'>"
      ]
     },
     "execution_count": 19,
     "metadata": {},
     "output_type": "execute_result"
    },
    {
     "data": {
      "image/png": "[encoded data removed]",
      "text/plain": [
       "<Figure size 640x480 with 1 Axes>"
      ]
     },
     "metadata": {},
     "output_type": "display_data"
    }
   ],
   "source": [
    "sns.distplot(df['Yield(Tonnes/Hectare)'])"
   ]
  },
  {
   "cell_type": "code",
   "execution_count": 20,
   "metadata": {},
   "outputs": [
    {
     "data": {
      "text/html": [
       "<div>\n",
       "<style scoped>\n",
       "    .dataframe tbody tr th:only-of-type {\n",
       "        vertical-align: middle;\n",
       "    }\n",
       "\n",
       "    .dataframe tbody tr th {\n",
       "        vertical-align: top;\n",
       "    }\n",
       "\n",
       "    .dataframe thead th {\n",
       "        text-align: right;\n",
       "    }\n",
       "</style>\n",
       "<table border=\"1\" class=\"dataframe\">\n",
       "  <thead>\n",
       "    <tr style=\"text-align: right;\">\n",
       "      <th></th>\n",
       "      <th>stl1_11</th>\n",
       "      <th>stl1_12</th>\n",
       "      <th>stl1_1</th>\n",
       "      <th>stl1_2</th>\n",
       "      <th>stl1_3</th>\n",
       "      <th>stl1_4</th>\n",
       "      <th>stl4_11</th>\n",
       "      <th>stl4_12</th>\n",
       "      <th>stl4_1</th>\n",
       "      <th>stl4_2</th>\n",
       "      <th>...</th>\n",
       "      <th>countrain_2</th>\n",
       "      <th>countrain_3</th>\n",
       "      <th>countrain_4</th>\n",
       "      <th>rh_11</th>\n",
       "      <th>rh_12</th>\n",
       "      <th>rh_1</th>\n",
       "      <th>rh_2</th>\n",
       "      <th>rh_3</th>\n",
       "      <th>rh_4</th>\n",
       "      <th>Yield(Tonnes/Hectare)</th>\n",
       "    </tr>\n",
       "  </thead>\n",
       "  <tbody>\n",
       "    <tr>\n",
       "      <th>0</th>\n",
       "      <td>23.806690</td>\n",
       "      <td>17.167067</td>\n",
       "      <td>15.370581</td>\n",
       "      <td>20.280177</td>\n",
       "      <td>22.635926</td>\n",
       "      <td>29.736510</td>\n",
       "      <td>29.190535</td>\n",
       "      <td>27.400601</td>\n",
       "      <td>24.584461</td>\n",
       "      <td>22.436700</td>\n",
       "      <td>...</td>\n",
       "      <td>0</td>\n",
       "      <td>8</td>\n",
       "      <td>2</td>\n",
       "      <td>42.541853</td>\n",
       "      <td>59.210452</td>\n",
       "      <td>72.438845</td>\n",
       "      <td>55.495103</td>\n",
       "      <td>54.614576</td>\n",
       "      <td>38.353248</td>\n",
       "      <td>0.95</td>\n",
       "    </tr>\n",
       "    <tr>\n",
       "      <th>1</th>\n",
       "      <td>22.942027</td>\n",
       "      <td>20.289454</td>\n",
       "      <td>19.730259</td>\n",
       "      <td>22.646645</td>\n",
       "      <td>28.067749</td>\n",
       "      <td>32.659535</td>\n",
       "      <td>27.454222</td>\n",
       "      <td>25.776696</td>\n",
       "      <td>24.011675</td>\n",
       "      <td>22.991249</td>\n",
       "      <td>...</td>\n",
       "      <td>0</td>\n",
       "      <td>0</td>\n",
       "      <td>0</td>\n",
       "      <td>55.762204</td>\n",
       "      <td>62.403004</td>\n",
       "      <td>64.739027</td>\n",
       "      <td>46.818167</td>\n",
       "      <td>30.833904</td>\n",
       "      <td>21.574929</td>\n",
       "      <td>1.24</td>\n",
       "    </tr>\n",
       "    <tr>\n",
       "      <th>2</th>\n",
       "      <td>22.254592</td>\n",
       "      <td>21.885506</td>\n",
       "      <td>22.232392</td>\n",
       "      <td>26.344706</td>\n",
       "      <td>30.319236</td>\n",
       "      <td>33.499066</td>\n",
       "      <td>25.163855</td>\n",
       "      <td>24.153779</td>\n",
       "      <td>23.396641</td>\n",
       "      <td>23.376164</td>\n",
       "      <td>...</td>\n",
       "      <td>0</td>\n",
       "      <td>0</td>\n",
       "      <td>0</td>\n",
       "      <td>83.170312</td>\n",
       "      <td>72.231308</td>\n",
       "      <td>57.289698</td>\n",
       "      <td>46.009245</td>\n",
       "      <td>39.412711</td>\n",
       "      <td>36.910807</td>\n",
       "      <td>0.39</td>\n",
       "    </tr>\n",
       "    <tr>\n",
       "      <th>3</th>\n",
       "      <td>22.522780</td>\n",
       "      <td>18.820395</td>\n",
       "      <td>17.063243</td>\n",
       "      <td>19.368418</td>\n",
       "      <td>26.316851</td>\n",
       "      <td>32.490352</td>\n",
       "      <td>28.110316</td>\n",
       "      <td>26.250242</td>\n",
       "      <td>23.958327</td>\n",
       "      <td>22.179842</td>\n",
       "      <td>...</td>\n",
       "      <td>1</td>\n",
       "      <td>0</td>\n",
       "      <td>7</td>\n",
       "      <td>41.323990</td>\n",
       "      <td>50.682901</td>\n",
       "      <td>52.715845</td>\n",
       "      <td>47.506102</td>\n",
       "      <td>27.859781</td>\n",
       "      <td>19.432031</td>\n",
       "      <td>1.30</td>\n",
       "    </tr>\n",
       "    <tr>\n",
       "      <th>5</th>\n",
       "      <td>23.014582</td>\n",
       "      <td>15.208111</td>\n",
       "      <td>14.586251</td>\n",
       "      <td>17.038982</td>\n",
       "      <td>21.515462</td>\n",
       "      <td>29.465503</td>\n",
       "      <td>27.985516</td>\n",
       "      <td>25.670011</td>\n",
       "      <td>22.108329</td>\n",
       "      <td>19.800529</td>\n",
       "      <td>...</td>\n",
       "      <td>1</td>\n",
       "      <td>6</td>\n",
       "      <td>1</td>\n",
       "      <td>66.230099</td>\n",
       "      <td>77.688090</td>\n",
       "      <td>78.013096</td>\n",
       "      <td>67.551938</td>\n",
       "      <td>66.932761</td>\n",
       "      <td>40.401128</td>\n",
       "      <td>1.33</td>\n",
       "    </tr>\n",
       "    <tr>\n",
       "      <th>6</th>\n",
       "      <td>25.982034</td>\n",
       "      <td>26.242282</td>\n",
       "      <td>25.770904</td>\n",
       "      <td>26.378708</td>\n",
       "      <td>27.350951</td>\n",
       "      <td>28.650909</td>\n",
       "      <td>24.849348</td>\n",
       "      <td>25.169154</td>\n",
       "      <td>25.447305</td>\n",
       "      <td>25.528891</td>\n",
       "      <td>...</td>\n",
       "      <td>0</td>\n",
       "      <td>0</td>\n",
       "      <td>3</td>\n",
       "      <td>69.454915</td>\n",
       "      <td>61.367290</td>\n",
       "      <td>58.278511</td>\n",
       "      <td>52.225822</td>\n",
       "      <td>64.039865</td>\n",
       "      <td>71.825358</td>\n",
       "      <td>0.73</td>\n",
       "    </tr>\n",
       "    <tr>\n",
       "      <th>9</th>\n",
       "      <td>23.316597</td>\n",
       "      <td>22.698823</td>\n",
       "      <td>23.741542</td>\n",
       "      <td>27.546119</td>\n",
       "      <td>30.860221</td>\n",
       "      <td>31.585946</td>\n",
       "      <td>24.712918</td>\n",
       "      <td>24.151000</td>\n",
       "      <td>23.784394</td>\n",
       "      <td>23.979579</td>\n",
       "      <td>...</td>\n",
       "      <td>0</td>\n",
       "      <td>1</td>\n",
       "      <td>9</td>\n",
       "      <td>79.301633</td>\n",
       "      <td>70.448466</td>\n",
       "      <td>55.301041</td>\n",
       "      <td>40.394030</td>\n",
       "      <td>32.845521</td>\n",
       "      <td>49.748610</td>\n",
       "      <td>0.35</td>\n",
       "    </tr>\n",
       "    <tr>\n",
       "      <th>10</th>\n",
       "      <td>24.331938</td>\n",
       "      <td>24.066577</td>\n",
       "      <td>25.667090</td>\n",
       "      <td>27.913998</td>\n",
       "      <td>32.035247</td>\n",
       "      <td>33.678790</td>\n",
       "      <td>25.617079</td>\n",
       "      <td>25.251802</td>\n",
       "      <td>24.982322</td>\n",
       "      <td>25.328845</td>\n",
       "      <td>...</td>\n",
       "      <td>0</td>\n",
       "      <td>1</td>\n",
       "      <td>5</td>\n",
       "      <td>72.664738</td>\n",
       "      <td>49.981731</td>\n",
       "      <td>41.510028</td>\n",
       "      <td>40.624673</td>\n",
       "      <td>44.162941</td>\n",
       "      <td>51.258802</td>\n",
       "      <td>0.66</td>\n",
       "    </tr>\n",
       "    <tr>\n",
       "      <th>14</th>\n",
       "      <td>22.506673</td>\n",
       "      <td>19.239250</td>\n",
       "      <td>16.354662</td>\n",
       "      <td>20.524517</td>\n",
       "      <td>26.426600</td>\n",
       "      <td>30.556690</td>\n",
       "      <td>27.815852</td>\n",
       "      <td>25.869833</td>\n",
       "      <td>23.478536</td>\n",
       "      <td>21.751510</td>\n",
       "      <td>...</td>\n",
       "      <td>0</td>\n",
       "      <td>0</td>\n",
       "      <td>2</td>\n",
       "      <td>66.335450</td>\n",
       "      <td>72.040604</td>\n",
       "      <td>77.731112</td>\n",
       "      <td>64.837462</td>\n",
       "      <td>44.440546</td>\n",
       "      <td>41.098728</td>\n",
       "      <td>1.06</td>\n",
       "    </tr>\n",
       "    <tr>\n",
       "      <th>15</th>\n",
       "      <td>25.361787</td>\n",
       "      <td>21.266491</td>\n",
       "      <td>20.425787</td>\n",
       "      <td>23.718438</td>\n",
       "      <td>29.828393</td>\n",
       "      <td>36.198576</td>\n",
       "      <td>28.983892</td>\n",
       "      <td>27.702694</td>\n",
       "      <td>25.972894</td>\n",
       "      <td>24.735063</td>\n",
       "      <td>...</td>\n",
       "      <td>1</td>\n",
       "      <td>1</td>\n",
       "      <td>0</td>\n",
       "      <td>41.187035</td>\n",
       "      <td>38.652306</td>\n",
       "      <td>41.193168</td>\n",
       "      <td>47.713627</td>\n",
       "      <td>21.408907</td>\n",
       "      <td>13.715948</td>\n",
       "      <td>0.77</td>\n",
       "    </tr>\n",
       "  </tbody>\n",
       "</table>\n",
       "<p>10 rows × 85 columns</p>\n",
       "</div>"
      ],
      "text/plain": [
       "      stl1_11    stl1_12     stl1_1     stl1_2     stl1_3     stl1_4  \\\n",
       "0   23.806690  17.167067  15.370581  20.280177  22.635926  29.736510   \n",
       "1   22.942027  20.289454  19.730259  22.646645  28.067749  32.659535   \n",
       "2   22.254592  21.885506  22.232392  26.344706  30.319236  33.499066   \n",
       "3   22.522780  18.820395  17.063243  19.368418  26.316851  32.490352   \n",
       "5   23.014582  15.208111  14.586251  17.038982  21.515462  29.465503   \n",
       "6   25.982034  26.242282  25.770904  26.378708  27.350951  28.650909   \n",
       "9   23.316597  22.698823  23.741542  27.546119  30.860221  31.585946   \n",
       "10  24.331938  24.066577  25.667090  27.913998  32.035247  33.678790   \n",
       "14  22.506673  19.239250  16.354662  20.524517  26.426600  30.556690   \n",
       "15  25.361787  21.266491  20.425787  23.718438  29.828393  36.198576   \n",
       "\n",
       "      stl4_11    stl4_12     stl4_1     stl4_2  ...  countrain_2  countrain_3  \\\n",
       "0   29.190535  27.400601  24.584461  22.436700  ...            0            8   \n",
       "1   27.454222  25.776696  24.011675  22.991249  ...            0            0   \n",
       "2   25.163855  24.153779  23.396641  23.376164  ...            0            0   \n",
       "3   28.110316  26.250242  23.958327  22.179842  ...            1            0   \n",
       "5   27.985516  25.670011  22.108329  19.800529  ...            1            6   \n",
       "6   24.849348  25.169154  25.447305  25.528891  ...            0            0   \n",
       "9   24.712918  24.151000  23.784394  23.979579  ...            0            1   \n",
       "10  25.617079  25.251802  24.982322  25.328845  ...            0            1   \n",
       "14  27.815852  25.869833  23.478536  21.751510  ...            0            0   \n",
       "15  28.983892  27.702694  25.972894  24.735063  ...            1            1   \n",
       "\n",
       "    countrain_4      rh_11      rh_12       rh_1       rh_2       rh_3  \\\n",
       "0             2  42.541853  59.210452  72.438845  55.495103  54.614576   \n",
       "1             0  55.762204  62.403004  64.739027  46.818167  30.833904   \n",
       "2             0  83.170312  72.231308  57.289698  46.009245  39.412711   \n",
       "3             7  41.323990  50.682901  52.715845  47.506102  27.859781   \n",
       "5             1  66.230099  77.688090  78.013096  67.551938  66.932761   \n",
       "6             3  69.454915  61.367290  58.278511  52.225822  64.039865   \n",
       "9             9  79.301633  70.448466  55.301041  40.394030  32.845521   \n",
       "10            5  72.664738  49.981731  41.510028  40.624673  44.162941   \n",
       "14            2  66.335450  72.040604  77.731112  64.837462  44.440546   \n",
       "15            0  41.187035  38.652306  41.193168  47.713627  21.408907   \n",
       "\n",
       "         rh_4  Yield(Tonnes/Hectare)  \n",
       "0   38.353248                   0.95  \n",
       "1   21.574929                   1.24  \n",
       "2   36.910807                   0.39  \n",
       "3   19.432031                   1.30  \n",
       "5   40.401128                   1.33  \n",
       "6   71.825358                   0.73  \n",
       "9   49.748610                   0.35  \n",
       "10  51.258802                   0.66  \n",
       "14  41.098728                   1.06  \n",
       "15  13.715948                   0.77  \n",
       "\n",
       "[10 rows x 85 columns]"
      ]
     },
     "execution_count": 20,
     "metadata": {},
     "output_type": "execute_result"
    }
   ],
   "source": [
    "df.head(10)"
   ]
  },
  {
   "cell_type": "code",
   "execution_count": 21,
   "metadata": {},
   "outputs": [
    {
     "data": {
      "text/plain": [
       "(4459, 85)"
      ]
     },
     "execution_count": 21,
     "metadata": {},
     "output_type": "execute_result"
    }
   ],
   "source": [
    "df.shape"
   ]
  },
  {
   "cell_type": "code",
   "execution_count": 22,
   "metadata": {},
   "outputs": [],
   "source": [
    "# cat_cols = ['DistrictName', 'year']\n",
    "# # Label encode categorical columns\n",
    "# encoder = LabelEncoder()\n",
    "# df[cat_cols] = df[cat_cols].apply(encoder.fit_transform)"
   ]
  },
  {
   "cell_type": "code",
   "execution_count": 23,
   "metadata": {},
   "outputs": [
    {
     "data": {
      "text/html": [
       "<div>\n",
       "<style scoped>\n",
       "    .dataframe tbody tr th:only-of-type {\n",
       "        vertical-align: middle;\n",
       "    }\n",
       "\n",
       "    .dataframe tbody tr th {\n",
       "        vertical-align: top;\n",
       "    }\n",
       "\n",
       "    .dataframe thead th {\n",
       "        text-align: right;\n",
       "    }\n",
       "</style>\n",
       "<table border=\"1\" class=\"dataframe\">\n",
       "  <thead>\n",
       "    <tr style=\"text-align: right;\">\n",
       "      <th></th>\n",
       "      <th>stl1_11</th>\n",
       "      <th>stl1_12</th>\n",
       "      <th>stl1_1</th>\n",
       "      <th>stl1_2</th>\n",
       "      <th>stl1_3</th>\n",
       "      <th>stl1_4</th>\n",
       "      <th>stl4_11</th>\n",
       "      <th>stl4_12</th>\n",
       "      <th>stl4_1</th>\n",
       "      <th>stl4_2</th>\n",
       "      <th>...</th>\n",
       "      <th>countrain_2</th>\n",
       "      <th>countrain_3</th>\n",
       "      <th>countrain_4</th>\n",
       "      <th>rh_11</th>\n",
       "      <th>rh_12</th>\n",
       "      <th>rh_1</th>\n",
       "      <th>rh_2</th>\n",
       "      <th>rh_3</th>\n",
       "      <th>rh_4</th>\n",
       "      <th>Yield(Tonnes/Hectare)</th>\n",
       "    </tr>\n",
       "  </thead>\n",
       "  <tbody>\n",
       "    <tr>\n",
       "      <th>0</th>\n",
       "      <td>23.806690</td>\n",
       "      <td>17.167067</td>\n",
       "      <td>15.370581</td>\n",
       "      <td>20.280177</td>\n",
       "      <td>22.635926</td>\n",
       "      <td>29.736510</td>\n",
       "      <td>29.190535</td>\n",
       "      <td>27.400601</td>\n",
       "      <td>24.584461</td>\n",
       "      <td>22.436700</td>\n",
       "      <td>...</td>\n",
       "      <td>0</td>\n",
       "      <td>8</td>\n",
       "      <td>2</td>\n",
       "      <td>42.541853</td>\n",
       "      <td>59.210452</td>\n",
       "      <td>72.438845</td>\n",
       "      <td>55.495103</td>\n",
       "      <td>54.614576</td>\n",
       "      <td>38.353248</td>\n",
       "      <td>0.95</td>\n",
       "    </tr>\n",
       "    <tr>\n",
       "      <th>1</th>\n",
       "      <td>22.942027</td>\n",
       "      <td>20.289454</td>\n",
       "      <td>19.730259</td>\n",
       "      <td>22.646645</td>\n",
       "      <td>28.067749</td>\n",
       "      <td>32.659535</td>\n",
       "      <td>27.454222</td>\n",
       "      <td>25.776696</td>\n",
       "      <td>24.011675</td>\n",
       "      <td>22.991249</td>\n",
       "      <td>...</td>\n",
       "      <td>0</td>\n",
       "      <td>0</td>\n",
       "      <td>0</td>\n",
       "      <td>55.762204</td>\n",
       "      <td>62.403004</td>\n",
       "      <td>64.739027</td>\n",
       "      <td>46.818167</td>\n",
       "      <td>30.833904</td>\n",
       "      <td>21.574929</td>\n",
       "      <td>1.24</td>\n",
       "    </tr>\n",
       "    <tr>\n",
       "      <th>2</th>\n",
       "      <td>22.254592</td>\n",
       "      <td>21.885506</td>\n",
       "      <td>22.232392</td>\n",
       "      <td>26.344706</td>\n",
       "      <td>30.319236</td>\n",
       "      <td>33.499066</td>\n",
       "      <td>25.163855</td>\n",
       "      <td>24.153779</td>\n",
       "      <td>23.396641</td>\n",
       "      <td>23.376164</td>\n",
       "      <td>...</td>\n",
       "      <td>0</td>\n",
       "      <td>0</td>\n",
       "      <td>0</td>\n",
       "      <td>83.170312</td>\n",
       "      <td>72.231308</td>\n",
       "      <td>57.289698</td>\n",
       "      <td>46.009245</td>\n",
       "      <td>39.412711</td>\n",
       "      <td>36.910807</td>\n",
       "      <td>0.39</td>\n",
       "    </tr>\n",
       "    <tr>\n",
       "      <th>3</th>\n",
       "      <td>22.522780</td>\n",
       "      <td>18.820395</td>\n",
       "      <td>17.063243</td>\n",
       "      <td>19.368418</td>\n",
       "      <td>26.316851</td>\n",
       "      <td>32.490352</td>\n",
       "      <td>28.110316</td>\n",
       "      <td>26.250242</td>\n",
       "      <td>23.958327</td>\n",
       "      <td>22.179842</td>\n",
       "      <td>...</td>\n",
       "      <td>1</td>\n",
       "      <td>0</td>\n",
       "      <td>7</td>\n",
       "      <td>41.323990</td>\n",
       "      <td>50.682901</td>\n",
       "      <td>52.715845</td>\n",
       "      <td>47.506102</td>\n",
       "      <td>27.859781</td>\n",
       "      <td>19.432031</td>\n",
       "      <td>1.30</td>\n",
       "    </tr>\n",
       "    <tr>\n",
       "      <th>5</th>\n",
       "      <td>23.014582</td>\n",
       "      <td>15.208111</td>\n",
       "      <td>14.586251</td>\n",
       "      <td>17.038982</td>\n",
       "      <td>21.515462</td>\n",
       "      <td>29.465503</td>\n",
       "      <td>27.985516</td>\n",
       "      <td>25.670011</td>\n",
       "      <td>22.108329</td>\n",
       "      <td>19.800529</td>\n",
       "      <td>...</td>\n",
       "      <td>1</td>\n",
       "      <td>6</td>\n",
       "      <td>1</td>\n",
       "      <td>66.230099</td>\n",
       "      <td>77.688090</td>\n",
       "      <td>78.013096</td>\n",
       "      <td>67.551938</td>\n",
       "      <td>66.932761</td>\n",
       "      <td>40.401128</td>\n",
       "      <td>1.33</td>\n",
       "    </tr>\n",
       "  </tbody>\n",
       "</table>\n",
       "<p>5 rows × 85 columns</p>\n",
       "</div>"
      ],
      "text/plain": [
       "     stl1_11    stl1_12     stl1_1     stl1_2     stl1_3     stl1_4  \\\n",
       "0  23.806690  17.167067  15.370581  20.280177  22.635926  29.736510   \n",
       "1  22.942027  20.289454  19.730259  22.646645  28.067749  32.659535   \n",
       "2  22.254592  21.885506  22.232392  26.344706  30.319236  33.499066   \n",
       "3  22.522780  18.820395  17.063243  19.368418  26.316851  32.490352   \n",
       "5  23.014582  15.208111  14.586251  17.038982  21.515462  29.465503   \n",
       "\n",
       "     stl4_11    stl4_12     stl4_1     stl4_2  ...  countrain_2  countrain_3  \\\n",
       "0  29.190535  27.400601  24.584461  22.436700  ...            0            8   \n",
       "1  27.454222  25.776696  24.011675  22.991249  ...            0            0   \n",
       "2  25.163855  24.153779  23.396641  23.376164  ...            0            0   \n",
       "3  28.110316  26.250242  23.958327  22.179842  ...            1            0   \n",
       "5  27.985516  25.670011  22.108329  19.800529  ...            1            6   \n",
       "\n",
       "   countrain_4      rh_11      rh_12       rh_1       rh_2       rh_3  \\\n",
       "0            2  42.541853  59.210452  72.438845  55.495103  54.614576   \n",
       "1            0  55.762204  62.403004  64.739027  46.818167  30.833904   \n",
       "2            0  83.170312  72.231308  57.289698  46.009245  39.412711   \n",
       "3            7  41.323990  50.682901  52.715845  47.506102  27.859781   \n",
       "5            1  66.230099  77.688090  78.013096  67.551938  66.932761   \n",
       "\n",
       "        rh_4  Yield(Tonnes/Hectare)  \n",
       "0  38.353248                   0.95  \n",
       "1  21.574929                   1.24  \n",
       "2  36.910807                   0.39  \n",
       "3  19.432031                   1.30  \n",
       "5  40.401128                   1.33  \n",
       "\n",
       "[5 rows x 85 columns]"
      ]
     },
     "execution_count": 23,
     "metadata": {},
     "output_type": "execute_result"
    }
   ],
   "source": [
    "df.head()"
   ]
  },
  {
   "cell_type": "code",
   "execution_count": 24,
   "metadata": {},
   "outputs": [
    {
     "data": {
      "text/plain": [
       "(4459, 85)"
      ]
     },
     "execution_count": 24,
     "metadata": {},
     "output_type": "execute_result"
    }
   ],
   "source": [
    "df.shape"
   ]
  },
  {
   "cell_type": "code",
   "execution_count": 25,
   "metadata": {},
   "outputs": [
    {
     "data": {
      "text/plain": [
       "Index(['stl1_11', 'stl1_12', 'stl1_1', 'stl1_2', 'stl1_3', 'stl1_4', 'stl4_11',\n",
       "       'stl4_12', 'stl4_1', 'stl4_2', 'stl4_3', 'stl4_4', 'swvl1_11',\n",
       "       'swvl1_12', 'swvl1_1', 'swvl1_2', 'swvl1_3', 'swvl1_4', 'swvl2_11',\n",
       "       'swvl2_12', 'swvl2_1', 'swvl2_2', 'swvl2_3', 'swvl2_4', 'swvl3_11',\n",
       "       'swvl3_12', 'swvl3_1', 'swvl3_2', 'swvl3_3', 'swvl3_4', 'swvl4_11',\n",
       "       'swvl4_12', 'swvl4_1', 'swvl4_2', 'swvl4_3', 'swvl4_4', 'ssr_12',\n",
       "       'ssr_11', 'ssr_1', 'ssr_2', 'ssr_3', 'ssr_4', 'u10_11', 'u10_12',\n",
       "       'u10_1', 'u10_2', 'u10_3', 'u10_4', 'v10_11', 'v10_12', 'v10_1',\n",
       "       'v10_2', 'v10_3', 'v10_4', 'tmax_11', 'tmax_12', 'tmax_1', 'tmax_2',\n",
       "       'tmax_3', 'tmax_4', 'tmin_11', 'tmin_12', 'tmin_1', 'tmin_2', 'tmin_3',\n",
       "       'tmin_4', 'rain_11', 'rain_12', 'rain_1', 'rain_2', 'rain_3', 'rain_4',\n",
       "       'countrain_11', 'countrain_12', 'countrain_1', 'countrain_2',\n",
       "       'countrain_3', 'countrain_4', 'rh_11', 'rh_12', 'rh_1', 'rh_2', 'rh_3',\n",
       "       'rh_4', 'Yield(Tonnes/Hectare)'],\n",
       "      dtype='object')"
      ]
     },
     "execution_count": 25,
     "metadata": {},
     "output_type": "execute_result"
    }
   ],
   "source": [
    "df.columns"
   ]
  },
  {
   "cell_type": "code",
   "execution_count": 26,
   "metadata": {},
   "outputs": [],
   "source": [
    "#df = df[['countrain_11', 'countrain_12', 'countrain_1','countrain_2', 'countrain_3', 'countrain_4', 'rain_11', 'rain_12','rain_1', 'rain_2', 'rain_3', 'rain_4','tmax_11', 'tmax_12', 'tmax_1','tmax_2', 'tmax_3', 'tmax_4', 'tmin_11', 'tmin_12', 'tmin_1', 'tmin_2','tmin_3', 'tmin_4','Yield(Tonnes/Hectare)']]"
   ]
  },
  {
   "cell_type": "code",
   "execution_count": 27,
   "metadata": {},
   "outputs": [],
   "source": [
    "#df = df.drop(columns=['countrain_11', 'countrain_12', 'countrain_1','countrain_2', 'countrain_3', 'countrain_4', 'rain_11', 'rain_12','rain_1', 'rain_2', 'rain_3', 'rain_4','tmax_11', 'tmax_12', 'tmax_1','tmax_2', 'tmax_3', 'tmax_4', 'tmin_11', 'tmin_12', 'tmin_1', 'tmin_2','tmin_3', 'tmin_4'])"
   ]
  },
  {
   "cell_type": "code",
   "execution_count": 28,
   "metadata": {},
   "outputs": [
    {
     "data": {
      "text/plain": [
       "(4459, 85)"
      ]
     },
     "execution_count": 28,
     "metadata": {},
     "output_type": "execute_result"
    }
   ],
   "source": [
    "df.shape"
   ]
  },
  {
   "cell_type": "code",
   "execution_count": 29,
   "metadata": {},
   "outputs": [],
   "source": [
    "X = df.drop('Yield(Tonnes/Hectare)', axis=1)  # Features\n",
    "y = df['Yield(Tonnes/Hectare)']  # Target variable\n",
    "\n",
    "# Split the dataset into training and testing sets\n",
    "#X_train, X_test, y_train, y_test = train_test_split(X, y, test_size=0.2, random_state=42)"
   ]
  },
  {
   "cell_type": "code",
   "execution_count": 30,
   "metadata": {},
   "outputs": [],
   "source": [
    "# X = X.drop(columns=['stl2','stl3'],axis=1)"
   ]
  },
  {
   "cell_type": "code",
   "execution_count": 31,
   "metadata": {},
   "outputs": [
    {
     "name": "stdout",
     "output_type": "stream",
     "text": [
      "Linear Regression - R^2 Score (Train) : 0.40, R^2 Score (Test): 0.37\n",
      "[0.3994597844767528, 0.4038159070997912, 0.3384797754364889, 0.39097735082776064, 0.3871842484551785, 0.4237726479713726, 0.3245848112520636, 0.3044766405479129, 0.393338614977372, 0.3445110731328608]\n",
      "Ridge Regression - R^2 Score (Train) : 0.38, R^2 Score (Test): 0.36\n",
      "[0.33974867840384804, 0.3385515991716096, 0.3915390368814796, 0.35645264391623377, 0.381382687407157, 0.3856190633072314, 0.4061080826640765, 0.3123306714014433, 0.33907151588821216, 0.35644110152466557]\n"
     ]
    },
    {
     "name": "stderr",
     "output_type": "stream",
     "text": [
      "c:\\Users\\Kanishk Goyal\\AppData\\Local\\Programs\\Python\\Python311\\Lib\\site-packages\\sklearn\\linear_model\\_ridge.py:200: LinAlgWarning: Ill-conditioned matrix (rcond=1.05165e-17): result may not be accurate.\n",
      "  return linalg.solve(A, Xy, assume_a=\"pos\", overwrite_a=True).T\n",
      "c:\\Users\\Kanishk Goyal\\AppData\\Local\\Programs\\Python\\Python311\\Lib\\site-packages\\sklearn\\linear_model\\_ridge.py:200: LinAlgWarning: Ill-conditioned matrix (rcond=1.05556e-17): result may not be accurate.\n",
      "  return linalg.solve(A, Xy, assume_a=\"pos\", overwrite_a=True).T\n",
      "c:\\Users\\Kanishk Goyal\\AppData\\Local\\Programs\\Python\\Python311\\Lib\\site-packages\\sklearn\\linear_model\\_ridge.py:200: LinAlgWarning: Ill-conditioned matrix (rcond=1.13176e-17): result may not be accurate.\n",
      "  return linalg.solve(A, Xy, assume_a=\"pos\", overwrite_a=True).T\n",
      "c:\\Users\\Kanishk Goyal\\AppData\\Local\\Programs\\Python\\Python311\\Lib\\site-packages\\sklearn\\linear_model\\_ridge.py:200: LinAlgWarning: Ill-conditioned matrix (rcond=1.05237e-17): result may not be accurate.\n",
      "  return linalg.solve(A, Xy, assume_a=\"pos\", overwrite_a=True).T\n",
      "c:\\Users\\Kanishk Goyal\\AppData\\Local\\Programs\\Python\\Python311\\Lib\\site-packages\\sklearn\\linear_model\\_ridge.py:200: LinAlgWarning: Ill-conditioned matrix (rcond=1.1252e-17): result may not be accurate.\n",
      "  return linalg.solve(A, Xy, assume_a=\"pos\", overwrite_a=True).T\n",
      "c:\\Users\\Kanishk Goyal\\AppData\\Local\\Programs\\Python\\Python311\\Lib\\site-packages\\sklearn\\linear_model\\_ridge.py:200: LinAlgWarning: Ill-conditioned matrix (rcond=1.12801e-17): result may not be accurate.\n",
      "  return linalg.solve(A, Xy, assume_a=\"pos\", overwrite_a=True).T\n",
      "c:\\Users\\Kanishk Goyal\\AppData\\Local\\Programs\\Python\\Python311\\Lib\\site-packages\\sklearn\\linear_model\\_ridge.py:200: LinAlgWarning: Ill-conditioned matrix (rcond=1.12621e-17): result may not be accurate.\n",
      "  return linalg.solve(A, Xy, assume_a=\"pos\", overwrite_a=True).T\n",
      "c:\\Users\\Kanishk Goyal\\AppData\\Local\\Programs\\Python\\Python311\\Lib\\site-packages\\sklearn\\linear_model\\_ridge.py:200: LinAlgWarning: Ill-conditioned matrix (rcond=1.13029e-17): result may not be accurate.\n",
      "  return linalg.solve(A, Xy, assume_a=\"pos\", overwrite_a=True).T\n",
      "c:\\Users\\Kanishk Goyal\\AppData\\Local\\Programs\\Python\\Python311\\Lib\\site-packages\\sklearn\\linear_model\\_ridge.py:200: LinAlgWarning: Ill-conditioned matrix (rcond=1.13001e-17): result may not be accurate.\n",
      "  return linalg.solve(A, Xy, assume_a=\"pos\", overwrite_a=True).T\n",
      "c:\\Users\\Kanishk Goyal\\AppData\\Local\\Programs\\Python\\Python311\\Lib\\site-packages\\sklearn\\linear_model\\_ridge.py:200: LinAlgWarning: Ill-conditioned matrix (rcond=1.1286e-17): result may not be accurate.\n",
      "  return linalg.solve(A, Xy, assume_a=\"pos\", overwrite_a=True).T\n"
     ]
    },
    {
     "name": "stdout",
     "output_type": "stream",
     "text": [
      "XGB Regressor - R^2 Score (Train) : 0.99, R^2 Score (Test): 0.56\n",
      "[0.5309854352255474, 0.5814656226044433, 0.5499257165610645, 0.5438112679792652, 0.5480219763892551, 0.5989531132509232, 0.5626509891099194, 0.5757890471861984, 0.5588156122368411, 0.5621877943936602]\n",
      "Lasso Regression - R^2 Score (Train) : 0.15, R^2 Score (Test): 0.14\n",
      "[0.16301342312675648, 0.11701931992408399, 0.13069654600066483, 0.13111371114036974, 0.13123720235469416, 0.17881563393990862, 0.15194021400537971, 0.148081990800496, 0.12062938102707133, 0.14456927214810278]\n",
      "Decision Tree - R^2 Score (Train) : 1.00, R^2 Score (Test): 0.07\n",
      "[0.024357379509912236, 0.10664883819206339, 0.10154805033153036, 0.1762772154302742, 0.11947651162146755, -0.04454736618129318, 0.2627405986439555, 0.07560304990549183, 0.029793316564130423, -0.11499628327877764]\n",
      "Gradient Boosting - R^2 Score (Train) : 0.61, R^2 Score (Test): 0.47\n",
      "[0.4856214196034868, 0.5054598864441648, 0.466795529514472, 0.46232330033006563, 0.4930232080995488, 0.4284370739856831, 0.4645538151941506, 0.4897962572168505, 0.4615316251684327, 0.48867438641930827]\n",
      "Random Forest - R^2 Score (Train) : 0.94, R^2 Score (Test): 0.57\n",
      "[0.565193318490727, 0.5949407980312018, 0.5364963795114643, 0.5754752542039752, 0.5494180967816882, 0.5994541007825531, 0.6130573623658648, 0.5606825468029261, 0.5671860588424967, 0.5732708583385558]\n",
      "Support Vector Machine - R^2 Score (Train) : 0.17, R^2 Score (Test): 0.17\n",
      "[0.1922851616859812, 0.1651954242501561, 0.17474143821917187, 0.15543176201025144, 0.1976086963040905, 0.13783288312509123, 0.163791941060634, 0.18245116402930195, 0.13854818446882222, 0.15816980213278387]\n"
     ]
    }
   ],
   "source": [
    "# Import necessary libraries\n",
    "import numpy as np\n",
    "import pandas as pd\n",
    "from sklearn.model_selection import train_test_split\n",
    "from sklearn.linear_model import LinearRegression, Ridge, Lasso\n",
    "from sklearn.tree import DecisionTreeRegressor\n",
    "from sklearn.ensemble import RandomForestRegressor, GradientBoostingRegressor\n",
    "from sklearn.svm import SVR\n",
    "import xgboost as xgb\n",
    "from sklearn.metrics import mean_squared_error, r2_score\n",
    "from sklearn.model_selection import KFold\n",
    "\n",
    "\n",
    "\n",
    "\n",
    "# Models\n",
    "models = {\n",
    "    \"Linear Regression\": LinearRegression(),\n",
    "    \"Ridge Regression\": Ridge(),\n",
    "    \"XGB Regressor\": xgb.XGBRegressor(objective='reg:squarederror', random_state=42),\n",
    "    \"Lasso Regression\": Lasso(),\n",
    "    \"Decision Tree\": DecisionTreeRegressor(),\n",
    "    \"Gradient Boosting\": GradientBoostingRegressor(),\n",
    "    \"Random Forest\": RandomForestRegressor(),\n",
    "    \"Support Vector Machine\": SVR()\n",
    "}\n",
    "\n",
    "# Train and evaluate each model\n",
    "for name, model in models.items():\n",
    "\n",
    "    mse_scores_test = []\n",
    "    mse_scores_train = []\n",
    "    r2_scores_test = []\n",
    "    r2_scores_train = []\n",
    "    # Create KFold object\n",
    "    k = 10\n",
    "    kfold = KFold(n_splits=k, shuffle=True)\n",
    "\n",
    "    for train_index, test_index in kfold.split(X):\n",
    "        X_train, X_test = X.iloc[train_index], X.iloc[test_index]\n",
    "        y_train, y_test = y.iloc[train_index], y.iloc[test_index]\n",
    "        model.fit(X_train, y_train)\n",
    "        y_pred_test = model.predict(X_test)\n",
    "        y_pred_train = model.predict(X_train)\n",
    "        mse_test = mean_squared_error(y_test, y_pred_test)\n",
    "        mse_train = mean_squared_error(y_train, y_pred_train)\n",
    "        r2_test = r2_score(y_test, y_pred_test)\n",
    "        r2_train = r2_score(y_train, y_pred_train)\n",
    "        mse_scores_test.append(mse_test)\n",
    "        mse_scores_train.append(mse_train)\n",
    "        r2_scores_test.append(r2_test)\n",
    "        r2_scores_train.append(r2_train)\n",
    "\n",
    "    average_mse_test = np.mean(mse_scores_test)\n",
    "    average_mse_train = np.mean(mse_scores_train)\n",
    "    average_r2_test = np.mean(r2_scores_test)\n",
    "    average_r2_train = np.mean(r2_scores_train)  \n",
    "\n",
    "    print(f'{name} - R^2 Score (Train) : {average_r2_train:.2f}, R^2 Score (Test): {average_r2_test:.2f}')\n",
    "    print(r2_scores_test)\n"
   ]
  },
  {
   "cell_type": "code",
   "execution_count": 32,
   "metadata": {},
   "outputs": [],
   "source": [
    "X_train, X_test, y_train, y_test = train_test_split(X, y, test_size=0.2, random_state=42)"
   ]
  },
  {
   "cell_type": "code",
   "execution_count": 33,
   "metadata": {},
   "outputs": [],
   "source": [
    "# import pandas as pd\n",
    "\n",
    "# # Assuming X_train is your DataFrame\n",
    "# # X_train = pd.DataFrame(...)\n",
    "\n",
    "# corr_matrix = X_train.corr()\n",
    "\n",
    "# # Get the column names of the DataFrame\n",
    "# columns = corr_matrix.columns\n",
    "\n",
    "# # Create an empty list to keep track of columns to drop\n",
    "# columns_to_drop = []\n",
    "# # Create a dictionary to store highly correlated features\n",
    "# highly_correlated_features = {}\n",
    "\n",
    "# # Loop over the columns\n",
    "# for i in range(len(columns)):\n",
    "#     for j in range(0, len(columns)):  # Loop only over the upper triangle to avoid duplicate comparisons\n",
    "#         # Access the cell of the DataFrame\n",
    "#         if abs(corr_matrix.iloc[i, j]) > 0.90:\n",
    "#             # Sort correlated features based on correlation coefficient\n",
    "#             sorted_features = sorted([(corr_matrix.iloc[i, j], columns[j]), (corr_matrix.iloc[i, i], columns[i])],\n",
    "#                                      key=lambda x: abs(x[0]), reverse=True)\n",
    "#             # Add the column to drop\n",
    "#             columns_to_drop.append(sorted_features[1][1])  # Add the one with lower correlation\n",
    "#             # Update the dictionary with highly correlated features\n",
    "#             if sorted_features[0][1] in highly_correlated_features:\n",
    "#                 highly_correlated_features[sorted_features[0][1]].append(sorted_features[1][1])\n",
    "#             else:\n",
    "#                 highly_correlated_features[sorted_features[0][1]] = [sorted_features[1][1]]\n",
    "\n",
    "# print(len(columns_to_drop))\n"
   ]
  },
  {
   "cell_type": "code",
   "execution_count": 34,
   "metadata": {},
   "outputs": [],
   "source": [
    "# import seaborn as sns\n",
    "\n",
    "# corr_matrix = X_train.corr()\n",
    "\n",
    "# # Get the column names of the DataFrame\n",
    "# columns = corr_matrix.columns\n",
    "\n",
    "# # Define a function to sort correlations in descending order (absolute value)\n",
    "# def sort_correlations(series):\n",
    "#   # Take the absolute value of the series\n",
    "#   abs_series = series.abs()\n",
    "#   # Sort the absolute values in descending order\n",
    "#   return abs_series.sort_values(ascending=False)\n",
    "\n",
    "# # Sort each column of the correlation matrix\n",
    "# sorted_corr_matrix = corr_matrix.apply(sort_correlations)\n",
    "\n",
    "# # Create an empty list to keep track of columns to drop\n",
    "# columns_to_drop = []\n",
    "# # Create a dictionary to store highly correlated features\n",
    "# highly_correlated_features = {}\n",
    "\n",
    "# # Loop over the sorted correlation matrix\n",
    "# for i in range(len(sorted_corr_matrix.columns)):\n",
    "#   # Skip the diagonal (correlation with self)\n",
    "#   if i == sorted_corr_matrix.columns[i]:\n",
    "#     continue\n",
    "#   # Get the current column and sorted correlations\n",
    "#   current_column = sorted_corr_matrix.columns[i]\n",
    "#   sorted_correlations = sorted_corr_matrix.loc[current_column]\n",
    "  \n",
    "#   # Identify highly correlated features (> 0.90) excluding the current column\n",
    "#   highly_correlated_features[current_column] = list(sorted_correlations[sorted_correlations > 0.90].index.difference([current_column]))\n",
    "\n",
    "#   # Update columns to drop based on correlations with the current column\n",
    "#   columns_to_drop.extend(highly_correlated_features[current_column])\n",
    "\n",
    "# # Remove duplicates from columns to drop\n",
    "# columns_to_drop = list(set(columns_to_drop))\n",
    "\n",
    "# print(len(columns_to_drop))"
   ]
  },
  {
   "cell_type": "code",
   "execution_count": 35,
   "metadata": {},
   "outputs": [
    {
     "name": "stdout",
     "output_type": "stream",
     "text": [
      "100\n"
     ]
    }
   ],
   "source": [
    "import seaborn as sns\n",
    "corr_matrix = X_train.corr()\n",
    "\n",
    "# Get the column names of the DataFrame\n",
    "columns = corr_matrix.columns\n",
    "\n",
    "# Create an empty list to keep track of columns to drop\n",
    "columns_to_drop = []\n",
    "# Create a dictionary to store highly correlated features\n",
    "highly_correlated_features = {}\n",
    "\n",
    "# Loop over the columns\n",
    "for i in range(len(columns)):\n",
    "    for j in range(0, len(columns)):\n",
    "        # Access the cell of the DataFrame\n",
    "        if i != j and corr_matrix.iloc[i, j] > 0.90:\n",
    "            # Add the column to drop\n",
    "            columns_to_drop.append(columns[j])\n",
    "            # Update the dictionary with highly correlated features\n",
    "            if columns[i] in highly_correlated_features:\n",
    "                highly_correlated_features[columns[i]].append((columns[j], corr_matrix.iloc[i, j].round(4)))\n",
    "            else:\n",
    "                highly_correlated_features[columns[i]] = [(columns[j], corr_matrix.iloc[i, j].round(4))]\n",
    "\n",
    "\n",
    "print(len(columns_to_drop))"
   ]
  },
  {
   "cell_type": "code",
   "execution_count": 36,
   "metadata": {},
   "outputs": [
    {
     "name": "stdout",
     "output_type": "stream",
     "text": [
      "['stl1_1', 'stl4_3', 'stl4_4', 'stl1_12', 'stl1_2', 'stl4_3', 'tmax_1', 'stl1_1', 'stl4_3', 'stl4_4', 'tmax_2', 'stl4_4', 'stl4_2', 'stl4_1', 'stl4_3', 'stl4_4', 'stl1_12', 'stl1_1', 'stl1_2', 'stl4_2', 'stl4_4', 'stl1_12', 'stl1_2', 'stl1_3', 'stl4_2', 'stl4_3', 'swvl2_11', 'swvl1_11', 'swvl2_12', 'swvl2_11', 'swvl2_3', 'swvl2_2', 'swvl2_4', 'swvl2_3', 'swvl3_12', 'swvl3_1', 'swvl3_2', 'swvl3_11', 'swvl3_1', 'swvl3_2', 'swvl3_3', 'swvl3_11', 'swvl3_12', 'swvl3_2', 'swvl3_3', 'swvl3_4', 'swvl3_11', 'swvl3_12', 'swvl3_1', 'swvl3_3', 'swvl3_4', 'swvl3_12', 'swvl3_1', 'swvl3_2', 'swvl3_4', 'swvl3_1', 'swvl3_2', 'swvl3_3', 'swvl4_12', 'swvl4_1', 'swvl4_2', 'swvl4_3', 'swvl4_4', 'swvl4_11', 'swvl4_1', 'swvl4_2', 'swvl4_3', 'swvl4_4', 'swvl4_11', 'swvl4_12', 'swvl4_2', 'swvl4_3', 'swvl4_4', 'swvl4_11', 'swvl4_12', 'swvl4_1', 'swvl4_3', 'swvl4_4', 'swvl4_11', 'swvl4_12', 'swvl4_1', 'swvl4_2', 'swvl4_4', 'swvl4_11', 'swvl4_12', 'swvl4_1', 'swvl4_2', 'swvl4_3', 'u10_12', 'u10_11', 'u10_1', 'u10_12', 'stl1_1', 'tmax_2', 'stl1_2', 'tmax_1', 'tmin_1', 'tmin_12', 'countrain_11', 'rain_11']\n"
     ]
    }
   ],
   "source": [
    "print(columns_to_drop)"
   ]
  },
  {
   "cell_type": "code",
   "execution_count": 37,
   "metadata": {},
   "outputs": [
    {
     "name": "stdout",
     "output_type": "stream",
     "text": [
      "Highly correlated features:\n",
      "stl1_12 : [('stl1_1', 0.937), ('stl4_3', 0.9147), ('stl4_4', 0.9093)]\n",
      "stl1_1 : [('stl1_12', 0.937), ('stl1_2', 0.9397), ('stl4_3', 0.9116), ('tmax_1', 0.9393)]\n",
      "stl1_2 : [('stl1_1', 0.9397), ('stl4_3', 0.9292), ('stl4_4', 0.9209), ('tmax_2', 0.9391)]\n",
      "stl1_3 : [('stl4_4', 0.941)]\n",
      "stl4_1 : [('stl4_2', 0.928)]\n",
      "stl4_2 : [('stl4_1', 0.928), ('stl4_3', 0.9823), ('stl4_4', 0.9596)]\n",
      "stl4_3 : [('stl1_12', 0.9147), ('stl1_1', 0.9116), ('stl1_2', 0.9292), ('stl4_2', 0.9823), ('stl4_4', 0.988)]\n",
      "stl4_4 : [('stl1_12', 0.9093), ('stl1_2', 0.9209), ('stl1_3', 0.941), ('stl4_2', 0.9596), ('stl4_3', 0.988)]\n",
      "swvl1_11 : [('swvl2_11', 0.9295)]\n",
      "swvl2_11 : [('swvl1_11', 0.9295), ('swvl2_12', 0.9073)]\n",
      "swvl2_12 : [('swvl2_11', 0.9073)]\n",
      "swvl2_2 : [('swvl2_3', 0.9052)]\n",
      "swvl2_3 : [('swvl2_2', 0.9052), ('swvl2_4', 0.9158)]\n",
      "swvl2_4 : [('swvl2_3', 0.9158)]\n",
      "swvl3_11 : [('swvl3_12', 0.9833), ('swvl3_1', 0.952), ('swvl3_2', 0.9116)]\n",
      "swvl3_12 : [('swvl3_11', 0.9833), ('swvl3_1', 0.9847), ('swvl3_2', 0.9499), ('swvl3_3', 0.9086)]\n",
      "swvl3_1 : [('swvl3_11', 0.952), ('swvl3_12', 0.9847), ('swvl3_2', 0.985), ('swvl3_3', 0.9541), ('swvl3_4', 0.9349)]\n",
      "swvl3_2 : [('swvl3_11', 0.9116), ('swvl3_12', 0.9499), ('swvl3_1', 0.985), ('swvl3_3', 0.986), ('swvl3_4', 0.9639)]\n",
      "swvl3_3 : [('swvl3_12', 0.9086), ('swvl3_1', 0.9541), ('swvl3_2', 0.986), ('swvl3_4', 0.9866)]\n",
      "swvl3_4 : [('swvl3_1', 0.9349), ('swvl3_2', 0.9639), ('swvl3_3', 0.9866)]\n",
      "swvl4_11 : [('swvl4_12', 0.9987), ('swvl4_1', 0.9964), ('swvl4_2', 0.9938), ('swvl4_3', 0.9903), ('swvl4_4', 0.9855)]\n",
      "swvl4_12 : [('swvl4_11', 0.9987), ('swvl4_1', 0.9992), ('swvl4_2', 0.9978), ('swvl4_3', 0.9954), ('swvl4_4', 0.9917)]\n",
      "swvl4_1 : [('swvl4_11', 0.9964), ('swvl4_12', 0.9992), ('swvl4_2', 0.9995), ('swvl4_3', 0.9981), ('swvl4_4', 0.9953)]\n",
      "swvl4_2 : [('swvl4_11', 0.9938), ('swvl4_12', 0.9978), ('swvl4_1', 0.9995), ('swvl4_3', 0.9995), ('swvl4_4', 0.9976)]\n",
      "swvl4_3 : [('swvl4_11', 0.9903), ('swvl4_12', 0.9954), ('swvl4_1', 0.9981), ('swvl4_2', 0.9995), ('swvl4_4', 0.9993)]\n",
      "swvl4_4 : [('swvl4_11', 0.9855), ('swvl4_12', 0.9917), ('swvl4_1', 0.9953), ('swvl4_2', 0.9976), ('swvl4_3', 0.9993)]\n",
      "u10_11 : [('u10_12', 0.9115)]\n",
      "u10_12 : [('u10_11', 0.9115), ('u10_1', 0.9135)]\n",
      "u10_1 : [('u10_12', 0.9135)]\n",
      "tmax_1 : [('stl1_1', 0.9393), ('tmax_2', 0.9092)]\n",
      "tmax_2 : [('stl1_2', 0.9391), ('tmax_1', 0.9092)]\n",
      "tmin_12 : [('tmin_1', 0.928)]\n",
      "tmin_1 : [('tmin_12', 0.928)]\n",
      "rain_11 : [('countrain_11', 0.9126)]\n",
      "countrain_11 : [('rain_11', 0.9126)]\n"
     ]
    }
   ],
   "source": [
    "print(\"Highly correlated features:\")\n",
    "for key, value in highly_correlated_features.items():\n",
    "    print(key, \":\", value)"
   ]
  },
  {
   "cell_type": "code",
   "execution_count": 38,
   "metadata": {},
   "outputs": [
    {
     "ename": "NameError",
     "evalue": "name 'stop' is not defined",
     "output_type": "error",
     "traceback": [
      "\u001b[1;31m---------------------------------------------------------------------------\u001b[0m",
      "\u001b[1;31mNameError\u001b[0m                                 Traceback (most recent call last)",
      "Cell \u001b[1;32mIn[38], line 1\u001b[0m\n\u001b[1;32m----> 1\u001b[0m \u001b[43mstop\u001b[49m\n",
      "\u001b[1;31mNameError\u001b[0m: name 'stop' is not defined"
     ]
    }
   ],
   "source": [
    "stop"
   ]
  },
  {
   "cell_type": "code",
   "execution_count": null,
   "metadata": {},
   "outputs": [],
   "source": [
    "import time\n",
    "def print_accuracy(f):\n",
    "    print(\n",
    "        f\"Root mean squared test error = {np.sqrt(np.mean((f(X_test) - y_test) ** 2))}\"\n",
    "    )\n",
    "    time.sleep(0.5)  # to let the print get out before any progress bars"
   ]
  },
  {
   "cell_type": "code",
   "execution_count": null,
   "metadata": {},
   "outputs": [],
   "source": [
    "from sklearn.ensemble import RandomForestRegressor\n",
    "\n",
    "rforest = RandomForestRegressor(\n",
    "    n_estimators=1000, max_depth=None, min_samples_split=2, random_state=0\n",
    ")\n",
    "rforest.fit(X_train, y_train)\n",
    "print_accuracy(rforest.predict)"
   ]
  },
  {
   "cell_type": "code",
   "execution_count": null,
   "metadata": {},
   "outputs": [],
   "source": [
    "y_pred = rforest.predict(X_test)\n",
    "mse = mean_squared_error(y_test, y_pred)\n",
    "r2 = r2_score(y_test, y_pred)\n",
    "print(mse,r2)"
   ]
  },
  {
   "cell_type": "code",
   "execution_count": null,
   "metadata": {},
   "outputs": [],
   "source": [
    "#pip install shap"
   ]
  },
  {
   "cell_type": "code",
   "execution_count": null,
   "metadata": {},
   "outputs": [],
   "source": [
    "stop"
   ]
  },
  {
   "cell_type": "code",
   "execution_count": null,
   "metadata": {},
   "outputs": [],
   "source": [
    "columns_to_drop = set(columns_to_drop)\n",
    "print(columns_to_drop)"
   ]
  },
  {
   "cell_type": "code",
   "execution_count": null,
   "metadata": {},
   "outputs": [],
   "source": [
    "len(columns_to_drop)"
   ]
  },
  {
   "cell_type": "code",
   "execution_count": null,
   "metadata": {},
   "outputs": [],
   "source": [
    "X_train.drop(columns = columns_to_drop, axis = 1, inplace=True)\n",
    "X_test.drop(columns = columns_to_drop, axis = 1, inplace=True)"
   ]
  },
  {
   "cell_type": "code",
   "execution_count": null,
   "metadata": {},
   "outputs": [],
   "source": [
    "from sklearn.model_selection import train_test_split\n",
    "from sklearn.linear_model import LinearRegression\n",
    "from sklearn.metrics import mean_squared_error, r2_score"
   ]
  },
  {
   "cell_type": "code",
   "execution_count": null,
   "metadata": {},
   "outputs": [],
   "source": [
    "# Import necessary libraries\n",
    "import numpy as np\n",
    "import pandas as pd\n",
    "from sklearn.model_selection import train_test_split\n",
    "from sklearn.linear_model import LinearRegression, Ridge, Lasso\n",
    "from sklearn.tree import DecisionTreeRegressor\n",
    "from sklearn.ensemble import RandomForestRegressor, GradientBoostingRegressor\n",
    "from sklearn.svm import SVR\n",
    "from sklearn.metrics import mean_squared_error, r2_score\n",
    "from sklearn.model_selection import KFold\n",
    "\n",
    "\n",
    "# Create KFold object\n",
    "k = 5\n",
    "kfold = KFold(n_splits=k, shuffle=True)\n",
    "\n",
    "\n",
    "# Models\n",
    "models = {\n",
    "    \"Linear Regression\": LinearRegression(),\n",
    "    \"Ridge Regression\": Ridge(),\n",
    "    \"Lasso Regression\": Lasso(),\n",
    "    \"Decision Tree\": DecisionTreeRegressor(),\n",
    "    \"Gradient Boosting\": GradientBoostingRegressor(),\n",
    "    \"Random Forest\": RandomForestRegressor(),\n",
    "    \"Support Vector Machine\": SVR()\n",
    "}\n",
    "\n",
    "# Train and evaluate each model\n",
    "for name, model in models.items():\n",
    "    mse_scores = []\n",
    "    r2_scores = []\n",
    "\n",
    "    for train_index, test_index in kfold.split(X):\n",
    "        X_train, X_test = X[train_index], X[test_index]\n",
    "        y_train, y_test = y[train_index], y[test_index]\n",
    "    model.fit(X_train, y_train)\n",
    "    y_pred = model.predict(X_test)\n",
    "    mse = mean_squared_error(y_test, y_pred)\n",
    "    r2 = r2_score(y_test, y_pred)\n",
    "    print(f'{name} - Mean Squared Error: {mse:.2f}, R^2 Score: {r2:.2f}')\n"
   ]
  },
  {
   "cell_type": "code",
   "execution_count": null,
   "metadata": {},
   "outputs": [],
   "source": [
    "import xarray\n",
    "data = xarray.open_dataset(r\"C:\\Users\\Kanishk Goyal\\OneDrive - IIT Kanpur\\Desktop\\Prof. Hamim Zafar\\Data\\Relative humidity\\1month_mean_Global_ea_r2_199703_v02.grib\", engine='cfgrib')\n",
    "data.to_netcdf(r\"C:\\Users\\Kanishk Goyal\\OneDrive - IIT Kanpur\\Desktop\\Prof. Hamim Zafar\\Data\\Relative humidity\\1month_mean_Global_ea_r2_199703_v02.nc\")"
   ]
  },
  {
   "cell_type": "code",
   "execution_count": null,
   "metadata": {},
   "outputs": [],
   "source": []
  }
 ],
 "metadata": {
  "kernelspec": {
   "display_name": "Python 3",
   "language": "python",
   "name": "python3"
  },
  "language_info": {
   "codemirror_mode": {
    "name": "ipython",
    "version": 3
   },
   "file_extension": ".py",
   "mimetype": "text/x-python",
   "name": "python",
   "nbconvert_exporter": "python",
   "pygments_lexer": "ipython3",
   "version": "3.11.4"
  }
 },
 "nbformat": 4,
 "nbformat_minor": 2
}
