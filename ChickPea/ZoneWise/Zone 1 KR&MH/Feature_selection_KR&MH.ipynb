{
 "cells": [
  {
   "cell_type": "code",
   "execution_count": 1,
   "metadata": {},
   "outputs": [],
   "source": [
    "import numpy as np \n",
    "import pandas as pd\n",
    "import seaborn as sns\n",
    "import matplotlib.pyplot as plt\n",
    "from sklearn.preprocessing import LabelEncoder\n",
    "from sklearn.model_selection import train_test_split\n",
    "from sklearn.linear_model import LinearRegression\n",
    "from sklearn.metrics import mean_squared_error, r2_score\n",
    "import seaborn as sns"
   ]
  },
  {
   "cell_type": "code",
   "execution_count": 2,
   "metadata": {},
   "outputs": [],
   "source": [
    "df = pd.read_csv(r\"C:\\Users\\Kanishk Goyal\\OneDrive - IIT Kanpur\\Desktop\\Prof. Hamim Zafar\\Data\\Final Data\\ChickPea\\KR_MH_ChickPea_dataset.csv\")\n",
    "df = df.drop(columns=['latitude','longitude','DistrictName', 'year','index'])\n",
    "df = df.sample(frac=1).reset_index(drop=True)\n",
    "#df = df.drop(columns=['DistrictName','latitude','longitude','year','year_mask'])"
   ]
  },
  {
   "cell_type": "code",
   "execution_count": 3,
   "metadata": {},
   "outputs": [],
   "source": [
    "df = df.rename(columns={'Yield(tonnes/hectare)':'Yield(Tonnes/Hectare)'},inplace=False)"
   ]
  },
  {
   "cell_type": "code",
   "execution_count": 4,
   "metadata": {},
   "outputs": [
    {
     "data": {
      "text/plain": [
       "Index(['stl1_11', 'stl1_12', 'stl1_1', 'stl1_2', 'stl1_3', 'stl1_4', 'stl2_11',\n",
       "       'stl2_12', 'stl2_1', 'stl2_2', 'stl2_3', 'stl2_4', 'stl3_11', 'stl3_12',\n",
       "       'stl3_1', 'stl3_2', 'stl3_3', 'stl3_4', 'stl4_11', 'stl4_12', 'stl4_1',\n",
       "       'stl4_2', 'stl4_3', 'stl4_4', 'swvl1_11', 'swvl1_12', 'swvl1_1',\n",
       "       'swvl1_2', 'swvl1_3', 'swvl1_4', 'swvl2_11', 'swvl2_12', 'swvl2_1',\n",
       "       'swvl2_2', 'swvl2_3', 'swvl2_4', 'swvl3_11', 'swvl3_12', 'swvl3_1',\n",
       "       'swvl3_2', 'swvl3_3', 'swvl3_4', 'swvl4_11', 'swvl4_12', 'swvl4_1',\n",
       "       'swvl4_2', 'swvl4_3', 'swvl4_4', 'ssr_12', 'ssr_11', 'ssr_1', 'ssr_2',\n",
       "       'ssr_3', 'ssr_4', 'u10_11', 'u10_12', 'u10_1', 'u10_2', 'u10_3',\n",
       "       'u10_4', 'v10_11', 'v10_12', 'v10_1', 'v10_2', 'v10_3', 'v10_4',\n",
       "       'tmax_11', 'tmax_12', 'tmax_1', 'tmax_2', 'tmax_3', 'tmax_4', 'tmin_11',\n",
       "       'tmin_12', 'tmin_1', 'tmin_2', 'tmin_3', 'tmin_4', 'rain_11', 'rain_12',\n",
       "       'rain_1', 'rain_2', 'rain_3', 'rain_4', 'countrain_11', 'countrain_12',\n",
       "       'countrain_1', 'countrain_2', 'countrain_3', 'countrain_4', 'rh_11',\n",
       "       'rh_12', 'rh_1', 'rh_2', 'rh_3', 'rh_4', 'Yield(Tonnes/Hectare)'],\n",
       "      dtype='object')"
      ]
     },
     "execution_count": 4,
     "metadata": {},
     "output_type": "execute_result"
    }
   ],
   "source": [
    "df.columns"
   ]
  },
  {
   "cell_type": "code",
   "execution_count": 5,
   "metadata": {},
   "outputs": [],
   "source": [
    "# df['stl1'] = (df['stl1_1'] + df['stl1_2'])/2\n",
    "# df['stl2'] = (df['stl2_1'] + df['stl2_2'])/2\n",
    "# df['stl3'] = (df['stl3_1'] + df['stl3_2'])/2\n",
    "# df['stl4'] = (df['stl4_1'] + df['stl4_2'])/2\n",
    "# df['swvl1'] = (df['swvl1_1'] + df['swvl1_2'])/2\n",
    "# df['swvl2'] = (df['swvl2_1'] + df['swvl2_2'])/2\n",
    "# df['swvl3'] = (df['swvl3_1'] + df['swvl3_2'])/2\n",
    "# df['swvl4'] = (df['swvl4_1'] + df['swvl4_2'])/2\n",
    "# df['ssr'] = (df['ssr_1'] + df['ssr_2'])/2\n",
    "# df['rain'] = (df['rain_1'] + df['rain_2'])/2\n",
    "# df['tmax'] = (df['tmax_1'] + df['tmax_2'])/2\n",
    "# df['tmin'] = (df['tmin_1'] + df['tmin_2'])/2\n",
    "# df['countrain'] = df['countrain_1'] + df['countrain_2']\n",
    "# df['u10'] = (df['u10_3']+df['u10_4'])/2\n",
    "# df['v10'] = (df['v10_3']+df['v10_4'])/2\n",
    "# df['rh'] = (df['rh_3']+df['rh_4'])/2"
   ]
  },
  {
   "cell_type": "code",
   "execution_count": 6,
   "metadata": {},
   "outputs": [],
   "source": [
    "# df = df.drop(columns=['stl1_1','stl1_2','stl2_1','stl2_2','stl3_1','stl3_2','stl4_1','stl4_2','swvl1_1','swvl1_2','swvl2_1','swvl2_2','swvl3_1','swvl3_2','swvl4_1','swvl4_2','ssr_1','ssr_2','rain_1','rain_2','tmax_1','tmax_2','tmin_1','tmin_2','countrain_1','countrain_2','u10_3','u10_4','v10_3','v10_4','rh_3','rh_4'],axis=1)"
   ]
  },
  {
   "cell_type": "code",
   "execution_count": 7,
   "metadata": {},
   "outputs": [
    {
     "data": {
      "text/plain": [
       "(1600, 97)"
      ]
     },
     "execution_count": 7,
     "metadata": {},
     "output_type": "execute_result"
    }
   ],
   "source": [
    "df.shape"
   ]
  },
  {
   "cell_type": "code",
   "execution_count": 8,
   "metadata": {},
   "outputs": [
    {
     "data": {
      "text/plain": [
       "Index(['stl1_11', 'stl1_12', 'stl1_1', 'stl1_2', 'stl1_3', 'stl1_4', 'stl2_11',\n",
       "       'stl2_12', 'stl2_1', 'stl2_2', 'stl2_3', 'stl2_4', 'stl3_11', 'stl3_12',\n",
       "       'stl3_1', 'stl3_2', 'stl3_3', 'stl3_4', 'stl4_11', 'stl4_12', 'stl4_1',\n",
       "       'stl4_2', 'stl4_3', 'stl4_4', 'swvl1_11', 'swvl1_12', 'swvl1_1',\n",
       "       'swvl1_2', 'swvl1_3', 'swvl1_4', 'swvl2_11', 'swvl2_12', 'swvl2_1',\n",
       "       'swvl2_2', 'swvl2_3', 'swvl2_4', 'swvl3_11', 'swvl3_12', 'swvl3_1',\n",
       "       'swvl3_2', 'swvl3_3', 'swvl3_4', 'swvl4_11', 'swvl4_12', 'swvl4_1',\n",
       "       'swvl4_2', 'swvl4_3', 'swvl4_4', 'ssr_12', 'ssr_11', 'ssr_1', 'ssr_2',\n",
       "       'ssr_3', 'ssr_4', 'u10_11', 'u10_12', 'u10_1', 'u10_2', 'u10_3',\n",
       "       'u10_4', 'v10_11', 'v10_12', 'v10_1', 'v10_2', 'v10_3', 'v10_4',\n",
       "       'tmax_11', 'tmax_12', 'tmax_1', 'tmax_2', 'tmax_3', 'tmax_4', 'tmin_11',\n",
       "       'tmin_12', 'tmin_1', 'tmin_2', 'tmin_3', 'tmin_4', 'rain_11', 'rain_12',\n",
       "       'rain_1', 'rain_2', 'rain_3', 'rain_4', 'countrain_11', 'countrain_12',\n",
       "       'countrain_1', 'countrain_2', 'countrain_3', 'countrain_4', 'rh_11',\n",
       "       'rh_12', 'rh_1', 'rh_2', 'rh_3', 'rh_4', 'Yield(Tonnes/Hectare)'],\n",
       "      dtype='object')"
      ]
     },
     "execution_count": 8,
     "metadata": {},
     "output_type": "execute_result"
    }
   ],
   "source": [
    "df.columns"
   ]
  },
  {
   "cell_type": "code",
   "execution_count": 9,
   "metadata": {},
   "outputs": [],
   "source": [
    "df = df.dropna(subset=['Yield(Tonnes/Hectare)'])"
   ]
  },
  {
   "cell_type": "code",
   "execution_count": 10,
   "metadata": {},
   "outputs": [
    {
     "data": {
      "text/plain": [
       "(1202, 97)"
      ]
     },
     "execution_count": 10,
     "metadata": {},
     "output_type": "execute_result"
    }
   ],
   "source": [
    "df.shape"
   ]
  },
  {
   "cell_type": "code",
   "execution_count": 11,
   "metadata": {},
   "outputs": [
    {
     "data": {
      "text/plain": [
       "1.6680642138243265"
      ]
     },
     "execution_count": 11,
     "metadata": {},
     "output_type": "execute_result"
    }
   ],
   "source": [
    "df['Yield(Tonnes/Hectare)'].skew()"
   ]
  },
  {
   "cell_type": "code",
   "execution_count": 12,
   "metadata": {},
   "outputs": [
    {
     "name": "stderr",
     "output_type": "stream",
     "text": [
      "C:\\Users\\Kanishk Goyal\\AppData\\Local\\Temp\\ipykernel_37352\\994257175.py:1: UserWarning: \n",
      "\n",
      "`distplot` is a deprecated function and will be removed in seaborn v0.14.0.\n",
      "\n",
      "Please adapt your code to use either `displot` (a figure-level function with\n",
      "similar flexibility) or `histplot` (an axes-level function for histograms).\n",
      "\n",
      "For a guide to updating your code to use the new functions, please see\n",
      "https://gist.github.com/mwaskom/de44147ed2974457ad6372750bbe5751\n",
      "\n",
      "  sns.distplot(df['Yield(Tonnes/Hectare)'],color='green')\n"
     ]
    },
    {
     "data": {
      "text/plain": [
       "<Axes: xlabel='Yield(Tonnes/Hectare)', ylabel='Density'>"
      ]
     },
     "execution_count": 12,
     "metadata": {},
     "output_type": "execute_result"
    },
    {
     "data": {
      "image/png": "[encoded data removed]",
      "text/plain": [
       "<Figure size 640x480 with 1 Axes>"
      ]
     },
     "metadata": {},
     "output_type": "display_data"
    }
   ],
   "source": [
    "sns.distplot(df['Yield(Tonnes/Hectare)'],color='green')"
   ]
  },
  {
   "cell_type": "code",
   "execution_count": 13,
   "metadata": {},
   "outputs": [
    {
     "data": {
      "text/plain": [
       "0       0.23\n",
       "1       0.58\n",
       "3       0.64\n",
       "4       0.57\n",
       "6       0.90\n",
       "        ... \n",
       "1592    0.52\n",
       "1594    1.15\n",
       "1595    0.51\n",
       "1596    0.48\n",
       "1597    1.02\n",
       "Name: Yield(Tonnes/Hectare), Length: 1202, dtype: float64"
      ]
     },
     "execution_count": 13,
     "metadata": {},
     "output_type": "execute_result"
    }
   ],
   "source": [
    "df['Yield(Tonnes/Hectare)']"
   ]
  },
  {
   "cell_type": "code",
   "execution_count": 14,
   "metadata": {},
   "outputs": [
    {
     "name": "stdout",
     "output_type": "stream",
     "text": [
      "Number of points in the final DataFrame after handling outliers: 1158\n"
     ]
    }
   ],
   "source": [
    "Q1 = df['Yield(Tonnes/Hectare)'].quantile(0.25)\n",
    "Q3 = df['Yield(Tonnes/Hectare)'].quantile(0.75)\n",
    "IQR = Q3 - Q1\n",
    "\n",
    "lower_bound = Q1 - 1.5 * IQR\n",
    "upper_bound = Q3 + 1.5 * IQR\n",
    "\n",
    "df['Yield_no_outliers'] = np.where((df['Yield(Tonnes/Hectare)'] < lower_bound) | (df['Yield(Tonnes/Hectare)'] > upper_bound), np.nan, df['Yield(Tonnes/Hectare)'])\n",
    "\n",
    "num_points_after_handling_outliers = df['Yield_no_outliers'].count()\n",
    "print(\"Number of points in the final DataFrame after handling outliers:\", num_points_after_handling_outliers)"
   ]
  },
  {
   "cell_type": "code",
   "execution_count": 15,
   "metadata": {},
   "outputs": [],
   "source": [
    "df = df.dropna(subset=['Yield_no_outliers'])\n",
    "df = df.drop(columns=['Yield(Tonnes/Hectare)'])"
   ]
  },
  {
   "cell_type": "code",
   "execution_count": 16,
   "metadata": {},
   "outputs": [],
   "source": [
    "df.rename(columns={'Yield_no_outliers': 'Yield(Tonnes/Hectare)'}, inplace=True)"
   ]
  },
  {
   "cell_type": "code",
   "execution_count": 17,
   "metadata": {},
   "outputs": [
    {
     "data": {
      "text/plain": [
       "0.15173848814700808"
      ]
     },
     "execution_count": 17,
     "metadata": {},
     "output_type": "execute_result"
    }
   ],
   "source": [
    "df['Yield(Tonnes/Hectare)'].skew()"
   ]
  },
  {
   "cell_type": "code",
   "execution_count": 18,
   "metadata": {},
   "outputs": [
    {
     "name": "stderr",
     "output_type": "stream",
     "text": [
      "C:\\Users\\Kanishk Goyal\\AppData\\Local\\Temp\\ipykernel_37352\\1820324139.py:1: UserWarning: \n",
      "\n",
      "`distplot` is a deprecated function and will be removed in seaborn v0.14.0.\n",
      "\n",
      "Please adapt your code to use either `displot` (a figure-level function with\n",
      "similar flexibility) or `histplot` (an axes-level function for histograms).\n",
      "\n",
      "For a guide to updating your code to use the new functions, please see\n",
      "https://gist.github.com/mwaskom/de44147ed2974457ad6372750bbe5751\n",
      "\n",
      "  sns.distplot(df['Yield(Tonnes/Hectare)'])\n"
     ]
    },
    {
     "data": {
      "text/plain": [
       "<Axes: xlabel='Yield(Tonnes/Hectare)', ylabel='Density'>"
      ]
     },
     "execution_count": 18,
     "metadata": {},
     "output_type": "execute_result"
    },
    {
     "data": {
      "image/png": "[encoded data removed]",
      "text/plain": [
       "<Figure size 640x480 with 1 Axes>"
      ]
     },
     "metadata": {},
     "output_type": "display_data"
    }
   ],
   "source": [
    "sns.distplot(df['Yield(Tonnes/Hectare)'])"
   ]
  },
  {
   "cell_type": "code",
   "execution_count": 19,
   "metadata": {},
   "outputs": [
    {
     "data": {
      "text/html": [
       "<div>\n",
       "<style scoped>\n",
       "    .dataframe tbody tr th:only-of-type {\n",
       "        vertical-align: middle;\n",
       "    }\n",
       "\n",
       "    .dataframe tbody tr th {\n",
       "        vertical-align: top;\n",
       "    }\n",
       "\n",
       "    .dataframe thead th {\n",
       "        text-align: right;\n",
       "    }\n",
       "</style>\n",
       "<table border=\"1\" class=\"dataframe\">\n",
       "  <thead>\n",
       "    <tr style=\"text-align: right;\">\n",
       "      <th></th>\n",
       "      <th>stl1_11</th>\n",
       "      <th>stl1_12</th>\n",
       "      <th>stl1_1</th>\n",
       "      <th>stl1_2</th>\n",
       "      <th>stl1_3</th>\n",
       "      <th>stl1_4</th>\n",
       "      <th>stl2_11</th>\n",
       "      <th>stl2_12</th>\n",
       "      <th>stl2_1</th>\n",
       "      <th>stl2_2</th>\n",
       "      <th>...</th>\n",
       "      <th>countrain_2</th>\n",
       "      <th>countrain_3</th>\n",
       "      <th>countrain_4</th>\n",
       "      <th>rh_11</th>\n",
       "      <th>rh_12</th>\n",
       "      <th>rh_1</th>\n",
       "      <th>rh_2</th>\n",
       "      <th>rh_3</th>\n",
       "      <th>rh_4</th>\n",
       "      <th>Yield(Tonnes/Hectare)</th>\n",
       "    </tr>\n",
       "  </thead>\n",
       "  <tbody>\n",
       "    <tr>\n",
       "      <th>0</th>\n",
       "      <td>25.974273</td>\n",
       "      <td>24.381843</td>\n",
       "      <td>25.599655</td>\n",
       "      <td>28.663775</td>\n",
       "      <td>32.096554</td>\n",
       "      <td>36.003179</td>\n",
       "      <td>26.280385</td>\n",
       "      <td>24.784700</td>\n",
       "      <td>25.450361</td>\n",
       "      <td>28.256473</td>\n",
       "      <td>...</td>\n",
       "      <td>0</td>\n",
       "      <td>1</td>\n",
       "      <td>0</td>\n",
       "      <td>51.632696</td>\n",
       "      <td>44.671626</td>\n",
       "      <td>43.947648</td>\n",
       "      <td>31.604435</td>\n",
       "      <td>23.084419</td>\n",
       "      <td>16.992407</td>\n",
       "      <td>0.23</td>\n",
       "    </tr>\n",
       "    <tr>\n",
       "      <th>1</th>\n",
       "      <td>26.751969</td>\n",
       "      <td>22.587575</td>\n",
       "      <td>21.723626</td>\n",
       "      <td>25.341858</td>\n",
       "      <td>30.388277</td>\n",
       "      <td>33.912103</td>\n",
       "      <td>26.890797</td>\n",
       "      <td>23.230922</td>\n",
       "      <td>21.987696</td>\n",
       "      <td>24.901901</td>\n",
       "      <td>...</td>\n",
       "      <td>0</td>\n",
       "      <td>0</td>\n",
       "      <td>0</td>\n",
       "      <td>45.016424</td>\n",
       "      <td>60.152452</td>\n",
       "      <td>52.716848</td>\n",
       "      <td>46.152277</td>\n",
       "      <td>34.754508</td>\n",
       "      <td>31.730145</td>\n",
       "      <td>0.58</td>\n",
       "    </tr>\n",
       "    <tr>\n",
       "      <th>3</th>\n",
       "      <td>24.992379</td>\n",
       "      <td>24.351245</td>\n",
       "      <td>23.915392</td>\n",
       "      <td>28.852154</td>\n",
       "      <td>34.015409</td>\n",
       "      <td>38.224122</td>\n",
       "      <td>25.474891</td>\n",
       "      <td>24.600925</td>\n",
       "      <td>24.108250</td>\n",
       "      <td>28.271924</td>\n",
       "      <td>...</td>\n",
       "      <td>3</td>\n",
       "      <td>1</td>\n",
       "      <td>0</td>\n",
       "      <td>58.449419</td>\n",
       "      <td>49.470111</td>\n",
       "      <td>38.573611</td>\n",
       "      <td>39.396202</td>\n",
       "      <td>25.522722</td>\n",
       "      <td>18.211637</td>\n",
       "      <td>0.64</td>\n",
       "    </tr>\n",
       "    <tr>\n",
       "      <th>4</th>\n",
       "      <td>25.829532</td>\n",
       "      <td>25.172885</td>\n",
       "      <td>24.466076</td>\n",
       "      <td>26.439405</td>\n",
       "      <td>27.694115</td>\n",
       "      <td>28.069767</td>\n",
       "      <td>25.689002</td>\n",
       "      <td>25.152110</td>\n",
       "      <td>24.601630</td>\n",
       "      <td>26.147021</td>\n",
       "      <td>...</td>\n",
       "      <td>0</td>\n",
       "      <td>0</td>\n",
       "      <td>4</td>\n",
       "      <td>65.849136</td>\n",
       "      <td>47.522200</td>\n",
       "      <td>52.871390</td>\n",
       "      <td>50.715869</td>\n",
       "      <td>60.468702</td>\n",
       "      <td>74.191692</td>\n",
       "      <td>0.57</td>\n",
       "    </tr>\n",
       "    <tr>\n",
       "      <th>6</th>\n",
       "      <td>23.731168</td>\n",
       "      <td>22.794091</td>\n",
       "      <td>23.875338</td>\n",
       "      <td>27.565174</td>\n",
       "      <td>30.811638</td>\n",
       "      <td>35.396396</td>\n",
       "      <td>24.103026</td>\n",
       "      <td>23.164983</td>\n",
       "      <td>23.854722</td>\n",
       "      <td>27.127745</td>\n",
       "      <td>...</td>\n",
       "      <td>0</td>\n",
       "      <td>1</td>\n",
       "      <td>0</td>\n",
       "      <td>46.368746</td>\n",
       "      <td>44.712006</td>\n",
       "      <td>42.285009</td>\n",
       "      <td>32.657187</td>\n",
       "      <td>23.824269</td>\n",
       "      <td>16.048068</td>\n",
       "      <td>0.90</td>\n",
       "    </tr>\n",
       "    <tr>\n",
       "      <th>7</th>\n",
       "      <td>23.160866</td>\n",
       "      <td>21.804547</td>\n",
       "      <td>22.794879</td>\n",
       "      <td>25.007367</td>\n",
       "      <td>28.727020</td>\n",
       "      <td>29.583313</td>\n",
       "      <td>23.380142</td>\n",
       "      <td>22.037117</td>\n",
       "      <td>22.747961</td>\n",
       "      <td>24.653434</td>\n",
       "      <td>...</td>\n",
       "      <td>0</td>\n",
       "      <td>1</td>\n",
       "      <td>8</td>\n",
       "      <td>83.130219</td>\n",
       "      <td>71.932223</td>\n",
       "      <td>52.857068</td>\n",
       "      <td>44.478105</td>\n",
       "      <td>38.495691</td>\n",
       "      <td>57.934113</td>\n",
       "      <td>0.75</td>\n",
       "    </tr>\n",
       "    <tr>\n",
       "      <th>10</th>\n",
       "      <td>25.521795</td>\n",
       "      <td>22.844697</td>\n",
       "      <td>22.372738</td>\n",
       "      <td>25.703093</td>\n",
       "      <td>30.007540</td>\n",
       "      <td>34.338946</td>\n",
       "      <td>25.735925</td>\n",
       "      <td>23.424316</td>\n",
       "      <td>22.628454</td>\n",
       "      <td>25.277930</td>\n",
       "      <td>...</td>\n",
       "      <td>0</td>\n",
       "      <td>0</td>\n",
       "      <td>0</td>\n",
       "      <td>48.386093</td>\n",
       "      <td>46.989968</td>\n",
       "      <td>41.968562</td>\n",
       "      <td>36.734644</td>\n",
       "      <td>25.611574</td>\n",
       "      <td>21.501043</td>\n",
       "      <td>0.60</td>\n",
       "    </tr>\n",
       "    <tr>\n",
       "      <th>11</th>\n",
       "      <td>23.917268</td>\n",
       "      <td>23.884608</td>\n",
       "      <td>24.001671</td>\n",
       "      <td>26.227348</td>\n",
       "      <td>27.990070</td>\n",
       "      <td>28.703546</td>\n",
       "      <td>23.961648</td>\n",
       "      <td>23.898256</td>\n",
       "      <td>23.949345</td>\n",
       "      <td>25.923322</td>\n",
       "      <td>...</td>\n",
       "      <td>0</td>\n",
       "      <td>4</td>\n",
       "      <td>6</td>\n",
       "      <td>65.015770</td>\n",
       "      <td>61.931546</td>\n",
       "      <td>53.279526</td>\n",
       "      <td>41.631693</td>\n",
       "      <td>62.072651</td>\n",
       "      <td>65.064811</td>\n",
       "      <td>0.69</td>\n",
       "    </tr>\n",
       "    <tr>\n",
       "      <th>14</th>\n",
       "      <td>21.966641</td>\n",
       "      <td>21.127905</td>\n",
       "      <td>21.501884</td>\n",
       "      <td>25.267210</td>\n",
       "      <td>28.501751</td>\n",
       "      <td>28.742141</td>\n",
       "      <td>22.111016</td>\n",
       "      <td>21.243955</td>\n",
       "      <td>21.532513</td>\n",
       "      <td>24.673864</td>\n",
       "      <td>...</td>\n",
       "      <td>1</td>\n",
       "      <td>0</td>\n",
       "      <td>11</td>\n",
       "      <td>82.849276</td>\n",
       "      <td>77.216584</td>\n",
       "      <td>64.181906</td>\n",
       "      <td>52.340884</td>\n",
       "      <td>46.057062</td>\n",
       "      <td>65.855362</td>\n",
       "      <td>0.48</td>\n",
       "    </tr>\n",
       "    <tr>\n",
       "      <th>15</th>\n",
       "      <td>25.391314</td>\n",
       "      <td>23.897636</td>\n",
       "      <td>24.938866</td>\n",
       "      <td>25.746941</td>\n",
       "      <td>29.202342</td>\n",
       "      <td>35.038669</td>\n",
       "      <td>25.652328</td>\n",
       "      <td>24.166716</td>\n",
       "      <td>25.085103</td>\n",
       "      <td>25.399280</td>\n",
       "      <td>...</td>\n",
       "      <td>1</td>\n",
       "      <td>3</td>\n",
       "      <td>1</td>\n",
       "      <td>49.960884</td>\n",
       "      <td>41.867559</td>\n",
       "      <td>48.398759</td>\n",
       "      <td>45.483690</td>\n",
       "      <td>36.084103</td>\n",
       "      <td>28.064851</td>\n",
       "      <td>0.50</td>\n",
       "    </tr>\n",
       "  </tbody>\n",
       "</table>\n",
       "<p>10 rows × 97 columns</p>\n",
       "</div>"
      ],
      "text/plain": [
       "      stl1_11    stl1_12     stl1_1     stl1_2     stl1_3     stl1_4  \\\n",
       "0   25.974273  24.381843  25.599655  28.663775  32.096554  36.003179   \n",
       "1   26.751969  22.587575  21.723626  25.341858  30.388277  33.912103   \n",
       "3   24.992379  24.351245  23.915392  28.852154  34.015409  38.224122   \n",
       "4   25.829532  25.172885  24.466076  26.439405  27.694115  28.069767   \n",
       "6   23.731168  22.794091  23.875338  27.565174  30.811638  35.396396   \n",
       "7   23.160866  21.804547  22.794879  25.007367  28.727020  29.583313   \n",
       "10  25.521795  22.844697  22.372738  25.703093  30.007540  34.338946   \n",
       "11  23.917268  23.884608  24.001671  26.227348  27.990070  28.703546   \n",
       "14  21.966641  21.127905  21.501884  25.267210  28.501751  28.742141   \n",
       "15  25.391314  23.897636  24.938866  25.746941  29.202342  35.038669   \n",
       "\n",
       "      stl2_11    stl2_12     stl2_1     stl2_2  ...  countrain_2  countrain_3  \\\n",
       "0   26.280385  24.784700  25.450361  28.256473  ...            0            1   \n",
       "1   26.890797  23.230922  21.987696  24.901901  ...            0            0   \n",
       "3   25.474891  24.600925  24.108250  28.271924  ...            3            1   \n",
       "4   25.689002  25.152110  24.601630  26.147021  ...            0            0   \n",
       "6   24.103026  23.164983  23.854722  27.127745  ...            0            1   \n",
       "7   23.380142  22.037117  22.747961  24.653434  ...            0            1   \n",
       "10  25.735925  23.424316  22.628454  25.277930  ...            0            0   \n",
       "11  23.961648  23.898256  23.949345  25.923322  ...            0            4   \n",
       "14  22.111016  21.243955  21.532513  24.673864  ...            1            0   \n",
       "15  25.652328  24.166716  25.085103  25.399280  ...            1            3   \n",
       "\n",
       "    countrain_4      rh_11      rh_12       rh_1       rh_2       rh_3  \\\n",
       "0             0  51.632696  44.671626  43.947648  31.604435  23.084419   \n",
       "1             0  45.016424  60.152452  52.716848  46.152277  34.754508   \n",
       "3             0  58.449419  49.470111  38.573611  39.396202  25.522722   \n",
       "4             4  65.849136  47.522200  52.871390  50.715869  60.468702   \n",
       "6             0  46.368746  44.712006  42.285009  32.657187  23.824269   \n",
       "7             8  83.130219  71.932223  52.857068  44.478105  38.495691   \n",
       "10            0  48.386093  46.989968  41.968562  36.734644  25.611574   \n",
       "11            6  65.015770  61.931546  53.279526  41.631693  62.072651   \n",
       "14           11  82.849276  77.216584  64.181906  52.340884  46.057062   \n",
       "15            1  49.960884  41.867559  48.398759  45.483690  36.084103   \n",
       "\n",
       "         rh_4  Yield(Tonnes/Hectare)  \n",
       "0   16.992407                   0.23  \n",
       "1   31.730145                   0.58  \n",
       "3   18.211637                   0.64  \n",
       "4   74.191692                   0.57  \n",
       "6   16.048068                   0.90  \n",
       "7   57.934113                   0.75  \n",
       "10  21.501043                   0.60  \n",
       "11  65.064811                   0.69  \n",
       "14  65.855362                   0.48  \n",
       "15  28.064851                   0.50  \n",
       "\n",
       "[10 rows x 97 columns]"
      ]
     },
     "execution_count": 19,
     "metadata": {},
     "output_type": "execute_result"
    }
   ],
   "source": [
    "df.head(10)"
   ]
  },
  {
   "cell_type": "code",
   "execution_count": 20,
   "metadata": {},
   "outputs": [
    {
     "data": {
      "text/plain": [
       "(1158, 97)"
      ]
     },
     "execution_count": 20,
     "metadata": {},
     "output_type": "execute_result"
    }
   ],
   "source": [
    "df.shape"
   ]
  },
  {
   "cell_type": "code",
   "execution_count": 21,
   "metadata": {},
   "outputs": [],
   "source": [
    "# cat_cols = ['DistrictName', 'year']\n",
    "# # Label encode categorical columns\n",
    "# encoder = LabelEncoder()\n",
    "# df[cat_cols] = df[cat_cols].apply(encoder.fit_transform)"
   ]
  },
  {
   "cell_type": "code",
   "execution_count": 22,
   "metadata": {},
   "outputs": [
    {
     "data": {
      "text/html": [
       "<div>\n",
       "<style scoped>\n",
       "    .dataframe tbody tr th:only-of-type {\n",
       "        vertical-align: middle;\n",
       "    }\n",
       "\n",
       "    .dataframe tbody tr th {\n",
       "        vertical-align: top;\n",
       "    }\n",
       "\n",
       "    .dataframe thead th {\n",
       "        text-align: right;\n",
       "    }\n",
       "</style>\n",
       "<table border=\"1\" class=\"dataframe\">\n",
       "  <thead>\n",
       "    <tr style=\"text-align: right;\">\n",
       "      <th></th>\n",
       "      <th>stl1_11</th>\n",
       "      <th>stl1_12</th>\n",
       "      <th>stl1_1</th>\n",
       "      <th>stl1_2</th>\n",
       "      <th>stl1_3</th>\n",
       "      <th>stl1_4</th>\n",
       "      <th>stl2_11</th>\n",
       "      <th>stl2_12</th>\n",
       "      <th>stl2_1</th>\n",
       "      <th>stl2_2</th>\n",
       "      <th>...</th>\n",
       "      <th>countrain_2</th>\n",
       "      <th>countrain_3</th>\n",
       "      <th>countrain_4</th>\n",
       "      <th>rh_11</th>\n",
       "      <th>rh_12</th>\n",
       "      <th>rh_1</th>\n",
       "      <th>rh_2</th>\n",
       "      <th>rh_3</th>\n",
       "      <th>rh_4</th>\n",
       "      <th>Yield(Tonnes/Hectare)</th>\n",
       "    </tr>\n",
       "  </thead>\n",
       "  <tbody>\n",
       "    <tr>\n",
       "      <th>0</th>\n",
       "      <td>25.974273</td>\n",
       "      <td>24.381843</td>\n",
       "      <td>25.599655</td>\n",
       "      <td>28.663775</td>\n",
       "      <td>32.096554</td>\n",
       "      <td>36.003179</td>\n",
       "      <td>26.280385</td>\n",
       "      <td>24.784700</td>\n",
       "      <td>25.450361</td>\n",
       "      <td>28.256473</td>\n",
       "      <td>...</td>\n",
       "      <td>0</td>\n",
       "      <td>1</td>\n",
       "      <td>0</td>\n",
       "      <td>51.632696</td>\n",
       "      <td>44.671626</td>\n",
       "      <td>43.947648</td>\n",
       "      <td>31.604435</td>\n",
       "      <td>23.084419</td>\n",
       "      <td>16.992407</td>\n",
       "      <td>0.23</td>\n",
       "    </tr>\n",
       "    <tr>\n",
       "      <th>1</th>\n",
       "      <td>26.751969</td>\n",
       "      <td>22.587575</td>\n",
       "      <td>21.723626</td>\n",
       "      <td>25.341858</td>\n",
       "      <td>30.388277</td>\n",
       "      <td>33.912103</td>\n",
       "      <td>26.890797</td>\n",
       "      <td>23.230922</td>\n",
       "      <td>21.987696</td>\n",
       "      <td>24.901901</td>\n",
       "      <td>...</td>\n",
       "      <td>0</td>\n",
       "      <td>0</td>\n",
       "      <td>0</td>\n",
       "      <td>45.016424</td>\n",
       "      <td>60.152452</td>\n",
       "      <td>52.716848</td>\n",
       "      <td>46.152277</td>\n",
       "      <td>34.754508</td>\n",
       "      <td>31.730145</td>\n",
       "      <td>0.58</td>\n",
       "    </tr>\n",
       "    <tr>\n",
       "      <th>3</th>\n",
       "      <td>24.992379</td>\n",
       "      <td>24.351245</td>\n",
       "      <td>23.915392</td>\n",
       "      <td>28.852154</td>\n",
       "      <td>34.015409</td>\n",
       "      <td>38.224122</td>\n",
       "      <td>25.474891</td>\n",
       "      <td>24.600925</td>\n",
       "      <td>24.108250</td>\n",
       "      <td>28.271924</td>\n",
       "      <td>...</td>\n",
       "      <td>3</td>\n",
       "      <td>1</td>\n",
       "      <td>0</td>\n",
       "      <td>58.449419</td>\n",
       "      <td>49.470111</td>\n",
       "      <td>38.573611</td>\n",
       "      <td>39.396202</td>\n",
       "      <td>25.522722</td>\n",
       "      <td>18.211637</td>\n",
       "      <td>0.64</td>\n",
       "    </tr>\n",
       "    <tr>\n",
       "      <th>4</th>\n",
       "      <td>25.829532</td>\n",
       "      <td>25.172885</td>\n",
       "      <td>24.466076</td>\n",
       "      <td>26.439405</td>\n",
       "      <td>27.694115</td>\n",
       "      <td>28.069767</td>\n",
       "      <td>25.689002</td>\n",
       "      <td>25.152110</td>\n",
       "      <td>24.601630</td>\n",
       "      <td>26.147021</td>\n",
       "      <td>...</td>\n",
       "      <td>0</td>\n",
       "      <td>0</td>\n",
       "      <td>4</td>\n",
       "      <td>65.849136</td>\n",
       "      <td>47.522200</td>\n",
       "      <td>52.871390</td>\n",
       "      <td>50.715869</td>\n",
       "      <td>60.468702</td>\n",
       "      <td>74.191692</td>\n",
       "      <td>0.57</td>\n",
       "    </tr>\n",
       "    <tr>\n",
       "      <th>6</th>\n",
       "      <td>23.731168</td>\n",
       "      <td>22.794091</td>\n",
       "      <td>23.875338</td>\n",
       "      <td>27.565174</td>\n",
       "      <td>30.811638</td>\n",
       "      <td>35.396396</td>\n",
       "      <td>24.103026</td>\n",
       "      <td>23.164983</td>\n",
       "      <td>23.854722</td>\n",
       "      <td>27.127745</td>\n",
       "      <td>...</td>\n",
       "      <td>0</td>\n",
       "      <td>1</td>\n",
       "      <td>0</td>\n",
       "      <td>46.368746</td>\n",
       "      <td>44.712006</td>\n",
       "      <td>42.285009</td>\n",
       "      <td>32.657187</td>\n",
       "      <td>23.824269</td>\n",
       "      <td>16.048068</td>\n",
       "      <td>0.90</td>\n",
       "    </tr>\n",
       "  </tbody>\n",
       "</table>\n",
       "<p>5 rows × 97 columns</p>\n",
       "</div>"
      ],
      "text/plain": [
       "     stl1_11    stl1_12     stl1_1     stl1_2     stl1_3     stl1_4  \\\n",
       "0  25.974273  24.381843  25.599655  28.663775  32.096554  36.003179   \n",
       "1  26.751969  22.587575  21.723626  25.341858  30.388277  33.912103   \n",
       "3  24.992379  24.351245  23.915392  28.852154  34.015409  38.224122   \n",
       "4  25.829532  25.172885  24.466076  26.439405  27.694115  28.069767   \n",
       "6  23.731168  22.794091  23.875338  27.565174  30.811638  35.396396   \n",
       "\n",
       "     stl2_11    stl2_12     stl2_1     stl2_2  ...  countrain_2  countrain_3  \\\n",
       "0  26.280385  24.784700  25.450361  28.256473  ...            0            1   \n",
       "1  26.890797  23.230922  21.987696  24.901901  ...            0            0   \n",
       "3  25.474891  24.600925  24.108250  28.271924  ...            3            1   \n",
       "4  25.689002  25.152110  24.601630  26.147021  ...            0            0   \n",
       "6  24.103026  23.164983  23.854722  27.127745  ...            0            1   \n",
       "\n",
       "   countrain_4      rh_11      rh_12       rh_1       rh_2       rh_3  \\\n",
       "0            0  51.632696  44.671626  43.947648  31.604435  23.084419   \n",
       "1            0  45.016424  60.152452  52.716848  46.152277  34.754508   \n",
       "3            0  58.449419  49.470111  38.573611  39.396202  25.522722   \n",
       "4            4  65.849136  47.522200  52.871390  50.715869  60.468702   \n",
       "6            0  46.368746  44.712006  42.285009  32.657187  23.824269   \n",
       "\n",
       "        rh_4  Yield(Tonnes/Hectare)  \n",
       "0  16.992407                   0.23  \n",
       "1  31.730145                   0.58  \n",
       "3  18.211637                   0.64  \n",
       "4  74.191692                   0.57  \n",
       "6  16.048068                   0.90  \n",
       "\n",
       "[5 rows x 97 columns]"
      ]
     },
     "execution_count": 22,
     "metadata": {},
     "output_type": "execute_result"
    }
   ],
   "source": [
    "df.head()"
   ]
  },
  {
   "cell_type": "code",
   "execution_count": 23,
   "metadata": {},
   "outputs": [
    {
     "data": {
      "text/plain": [
       "(1158, 97)"
      ]
     },
     "execution_count": 23,
     "metadata": {},
     "output_type": "execute_result"
    }
   ],
   "source": [
    "df.shape"
   ]
  },
  {
   "cell_type": "code",
   "execution_count": 24,
   "metadata": {},
   "outputs": [
    {
     "data": {
      "text/plain": [
       "Index(['stl1_11', 'stl1_12', 'stl1_1', 'stl1_2', 'stl1_3', 'stl1_4', 'stl2_11',\n",
       "       'stl2_12', 'stl2_1', 'stl2_2', 'stl2_3', 'stl2_4', 'stl3_11', 'stl3_12',\n",
       "       'stl3_1', 'stl3_2', 'stl3_3', 'stl3_4', 'stl4_11', 'stl4_12', 'stl4_1',\n",
       "       'stl4_2', 'stl4_3', 'stl4_4', 'swvl1_11', 'swvl1_12', 'swvl1_1',\n",
       "       'swvl1_2', 'swvl1_3', 'swvl1_4', 'swvl2_11', 'swvl2_12', 'swvl2_1',\n",
       "       'swvl2_2', 'swvl2_3', 'swvl2_4', 'swvl3_11', 'swvl3_12', 'swvl3_1',\n",
       "       'swvl3_2', 'swvl3_3', 'swvl3_4', 'swvl4_11', 'swvl4_12', 'swvl4_1',\n",
       "       'swvl4_2', 'swvl4_3', 'swvl4_4', 'ssr_12', 'ssr_11', 'ssr_1', 'ssr_2',\n",
       "       'ssr_3', 'ssr_4', 'u10_11', 'u10_12', 'u10_1', 'u10_2', 'u10_3',\n",
       "       'u10_4', 'v10_11', 'v10_12', 'v10_1', 'v10_2', 'v10_3', 'v10_4',\n",
       "       'tmax_11', 'tmax_12', 'tmax_1', 'tmax_2', 'tmax_3', 'tmax_4', 'tmin_11',\n",
       "       'tmin_12', 'tmin_1', 'tmin_2', 'tmin_3', 'tmin_4', 'rain_11', 'rain_12',\n",
       "       'rain_1', 'rain_2', 'rain_3', 'rain_4', 'countrain_11', 'countrain_12',\n",
       "       'countrain_1', 'countrain_2', 'countrain_3', 'countrain_4', 'rh_11',\n",
       "       'rh_12', 'rh_1', 'rh_2', 'rh_3', 'rh_4', 'Yield(Tonnes/Hectare)'],\n",
       "      dtype='object')"
      ]
     },
     "execution_count": 24,
     "metadata": {},
     "output_type": "execute_result"
    }
   ],
   "source": [
    "df.columns"
   ]
  },
  {
   "cell_type": "code",
   "execution_count": 25,
   "metadata": {},
   "outputs": [],
   "source": [
    "#df = df[['countrain_11', 'countrain_12', 'countrain_1','countrain_2', 'countrain_3', 'countrain_4', 'rain_11', 'rain_12','rain_1', 'rain_2', 'rain_3', 'rain_4','tmax_11', 'tmax_12', 'tmax_1','tmax_2', 'tmax_3', 'tmax_4', 'tmin_11', 'tmin_12', 'tmin_1', 'tmin_2','tmin_3', 'tmin_4','Yield(Tonnes/Hectare)']]"
   ]
  },
  {
   "cell_type": "code",
   "execution_count": 26,
   "metadata": {},
   "outputs": [],
   "source": [
    "#df = df.drop(columns=['countrain_11', 'countrain_12', 'countrain_1','countrain_2', 'countrain_3', 'countrain_4', 'rain_11', 'rain_12','rain_1', 'rain_2', 'rain_3', 'rain_4','tmax_11', 'tmax_12', 'tmax_1','tmax_2', 'tmax_3', 'tmax_4', 'tmin_11', 'tmin_12', 'tmin_1', 'tmin_2','tmin_3', 'tmin_4'])"
   ]
  },
  {
   "cell_type": "code",
   "execution_count": 27,
   "metadata": {},
   "outputs": [
    {
     "data": {
      "text/plain": [
       "(1158, 97)"
      ]
     },
     "execution_count": 27,
     "metadata": {},
     "output_type": "execute_result"
    }
   ],
   "source": [
    "df.shape"
   ]
  },
  {
   "cell_type": "code",
   "execution_count": 28,
   "metadata": {},
   "outputs": [],
   "source": [
    "X = df.drop('Yield(Tonnes/Hectare)', axis=1)  # Features\n",
    "y = df['Yield(Tonnes/Hectare)']  # Target variable\n",
    "\n",
    "# Split the dataset into training and testing sets\n",
    "#X_train, X_test, y_train, y_test = train_test_split(X, y, test_size=0.2, random_state=42)"
   ]
  },
  {
   "cell_type": "code",
   "execution_count": 29,
   "metadata": {},
   "outputs": [],
   "source": [
    "# X = X.drop(columns=['stl2','stl3'],axis=1)"
   ]
  },
  {
   "cell_type": "code",
   "execution_count": 30,
   "metadata": {},
   "outputs": [
    {
     "name": "stdout",
     "output_type": "stream",
     "text": [
      "Linear Regression - R^2 Score (Train) : 0.44, R^2 Score (Test): 0.31\n",
      "[0.3000620492543109, 0.26990559794940516, 0.34407462239121567, 0.22328618791872457, 0.41069275502376157, 0.31262963085892626, 0.2626066727983152, 0.23395254850025737, 0.3404741039242709, 0.41100891733834544]\n",
      "Ridge Regression - R^2 Score (Train) : 0.40, R^2 Score (Test): 0.29\n",
      "[0.30408939643705424, 0.22007851350569319, 0.33333501861795944, 0.2542411513073375, 0.2945975052786013, 0.32070169141042604, 0.3690147129145228, 0.04143014289199565, 0.4267801614318003, 0.3049139876994953]\n",
      "XGB Regressor - R^2 Score (Train) : 1.00, R^2 Score (Test): 0.29\n",
      "[-0.022951649623560888, 0.32685950686532905, 0.2789236462240834, 0.2643566101825624, 0.3967184861269639, 0.42406374614005726, 0.4125721539249785, 0.4011059635188874, 0.2207934895539767, 0.24347546980575197]\n",
      "Lasso Regression - R^2 Score (Train) : 0.10, R^2 Score (Test): 0.06\n",
      "[0.15324022346607347, 0.029517391826875183, -0.003445730298514693, 0.08893043336008466, 0.06066638945788827, 0.07817155831128264, 0.1422951767270434, 0.022855877855555096, 0.06514662733286569, -0.05358877644516569]\n",
      "Decision Tree - R^2 Score (Train) : 1.00, R^2 Score (Test): -0.38\n",
      "[-0.35812337562107044, -0.3120828642411635, -0.8251688837981181, -0.1120466176761703, -0.2561926217659538, -0.21544731876903356, -0.5909735809975245, 0.15886312145317605, -0.18074499594072502, -1.118907020405187]\n",
      "Gradient Boosting - R^2 Score (Train) : 0.73, R^2 Score (Test): 0.35\n",
      "[0.3586795766485267, 0.3350627104071492, 0.2840175344244782, 0.40588834689877684, 0.3107763999598372, 0.4194449722028737, 0.2979908844940252, 0.4043892080471452, 0.3424592981973975, 0.377352156968076]\n",
      "Random Forest - R^2 Score (Train) : 0.91, R^2 Score (Test): 0.37\n",
      "[0.2290967954641302, 0.40048068874929665, 0.4063140617714671, 0.4643766276903778, 0.4065227821000015, 0.2905949816641642, 0.3600846317957195, 0.3179152537371265, 0.409495112611279, 0.3932421462639275]\n",
      "Support Vector Machine - R^2 Score (Train) : 0.09, R^2 Score (Test): 0.07\n",
      "[0.14254775237286643, 0.04642480653828296, -0.011148101435632718, 0.11459609150041772, 0.07998354167511079, 0.10185992451573089, 0.0007685134142986216, 0.10663805564635198, 0.077834310971864, 0.08290488770191817]\n"
     ]
    }
   ],
   "source": [
    "# Import necessary libraries\n",
    "import numpy as np\n",
    "import pandas as pd\n",
    "from sklearn.model_selection import train_test_split\n",
    "from sklearn.linear_model import LinearRegression, Ridge, Lasso\n",
    "from sklearn.tree import DecisionTreeRegressor\n",
    "from sklearn.ensemble import RandomForestRegressor, GradientBoostingRegressor\n",
    "from sklearn.svm import SVR\n",
    "import xgboost as xgb\n",
    "from sklearn.metrics import mean_squared_error, r2_score\n",
    "from sklearn.model_selection import KFold\n",
    "\n",
    "\n",
    "\n",
    "\n",
    "# Models\n",
    "models = {\n",
    "    \"Linear Regression\": LinearRegression(),\n",
    "    \"Ridge Regression\": Ridge(),\n",
    "    \"XGB Regressor\": xgb.XGBRegressor(objective='reg:squarederror', random_state=42),\n",
    "    \"Lasso Regression\": Lasso(),\n",
    "    \"Decision Tree\": DecisionTreeRegressor(),\n",
    "    \"Gradient Boosting\": GradientBoostingRegressor(),\n",
    "    \"Random Forest\": RandomForestRegressor(),\n",
    "    \"Support Vector Machine\": SVR()\n",
    "}\n",
    "\n",
    "# Train and evaluate each model\n",
    "for name, model in models.items():\n",
    "\n",
    "    mse_scores_test = []\n",
    "    mse_scores_train = []\n",
    "    r2_scores_test = []\n",
    "    r2_scores_train = []\n",
    "    # Create KFold object\n",
    "    k = 10\n",
    "    kfold = KFold(n_splits=k, shuffle=True)\n",
    "\n",
    "    for train_index, test_index in kfold.split(X):\n",
    "        X_train, X_test = X.iloc[train_index], X.iloc[test_index]\n",
    "        y_train, y_test = y.iloc[train_index], y.iloc[test_index]\n",
    "        model.fit(X_train, y_train)\n",
    "        y_pred_test = model.predict(X_test)\n",
    "        y_pred_train = model.predict(X_train)\n",
    "        mse_test = mean_squared_error(y_test, y_pred_test)\n",
    "        mse_train = mean_squared_error(y_train, y_pred_train)\n",
    "        r2_test = r2_score(y_test, y_pred_test)\n",
    "        r2_train = r2_score(y_train, y_pred_train)\n",
    "        mse_scores_test.append(mse_test)\n",
    "        mse_scores_train.append(mse_train)\n",
    "        r2_scores_test.append(r2_test)\n",
    "        r2_scores_train.append(r2_train)\n",
    "\n",
    "    average_mse_test = np.mean(mse_scores_test)\n",
    "    average_mse_train = np.mean(mse_scores_train)\n",
    "    average_r2_test = np.mean(r2_scores_test)\n",
    "    average_r2_train = np.mean(r2_scores_train)  \n",
    "\n",
    "    print(f'{name} - R^2 Score (Train) : {average_r2_train:.2f}, R^2 Score (Test): {average_r2_test:.2f}')\n",
    "    print(r2_scores_test)\n"
   ]
  },
  {
   "cell_type": "code",
   "execution_count": 31,
   "metadata": {},
   "outputs": [],
   "source": [
    "X_train, X_test, y_train, y_test = train_test_split(X, y, test_size=0.2, random_state=42)"
   ]
  },
  {
   "cell_type": "code",
   "execution_count": 32,
   "metadata": {},
   "outputs": [],
   "source": [
    "# import pandas as pd\n",
    "\n",
    "# # Assuming X_train is your DataFrame\n",
    "# # X_train = pd.DataFrame(...)\n",
    "\n",
    "# corr_matrix = X_train.corr()\n",
    "\n",
    "# # Get the column names of the DataFrame\n",
    "# columns = corr_matrix.columns\n",
    "\n",
    "# # Create an empty list to keep track of columns to drop\n",
    "# columns_to_drop = []\n",
    "# # Create a dictionary to store highly correlated features\n",
    "# highly_correlated_features = {}\n",
    "\n",
    "# # Loop over the columns\n",
    "# for i in range(len(columns)):\n",
    "#     for j in range(0, len(columns)):  # Loop only over the upper triangle to avoid duplicate comparisons\n",
    "#         # Access the cell of the DataFrame\n",
    "#         if abs(corr_matrix.iloc[i, j]) > 0.90:\n",
    "#             # Sort correlated features based on correlation coefficient\n",
    "#             sorted_features = sorted([(corr_matrix.iloc[i, j], columns[j]), (corr_matrix.iloc[i, i], columns[i])],\n",
    "#                                      key=lambda x: abs(x[0]), reverse=True)\n",
    "#             # Add the column to drop\n",
    "#             columns_to_drop.append(sorted_features[1][1])  # Add the one with lower correlation\n",
    "#             # Update the dictionary with highly correlated features\n",
    "#             if sorted_features[0][1] in highly_correlated_features:\n",
    "#                 highly_correlated_features[sorted_features[0][1]].append(sorted_features[1][1])\n",
    "#             else:\n",
    "#                 highly_correlated_features[sorted_features[0][1]] = [sorted_features[1][1]]\n",
    "\n",
    "# print(len(columns_to_drop))\n"
   ]
  },
  {
   "cell_type": "code",
   "execution_count": 33,
   "metadata": {},
   "outputs": [],
   "source": [
    "# import seaborn as sns\n",
    "\n",
    "# corr_matrix = X_train.corr()\n",
    "\n",
    "# # Get the column names of the DataFrame\n",
    "# columns = corr_matrix.columns\n",
    "\n",
    "# # Define a function to sort correlations in descending order (absolute value)\n",
    "# def sort_correlations(series):\n",
    "#   # Take the absolute value of the series\n",
    "#   abs_series = series.abs()\n",
    "#   # Sort the absolute values in descending order\n",
    "#   return abs_series.sort_values(ascending=False)\n",
    "\n",
    "# # Sort each column of the correlation matrix\n",
    "# sorted_corr_matrix = corr_matrix.apply(sort_correlations)\n",
    "\n",
    "# # Create an empty list to keep track of columns to drop\n",
    "# columns_to_drop = []\n",
    "# # Create a dictionary to store highly correlated features\n",
    "# highly_correlated_features = {}\n",
    "\n",
    "# # Loop over the sorted correlation matrix\n",
    "# for i in range(len(sorted_corr_matrix.columns)):\n",
    "#   # Skip the diagonal (correlation with self)\n",
    "#   if i == sorted_corr_matrix.columns[i]:\n",
    "#     continue\n",
    "#   # Get the current column and sorted correlations\n",
    "#   current_column = sorted_corr_matrix.columns[i]\n",
    "#   sorted_correlations = sorted_corr_matrix.loc[current_column]\n",
    "  \n",
    "#   # Identify highly correlated features (> 0.90) excluding the current column\n",
    "#   highly_correlated_features[current_column] = list(sorted_correlations[sorted_correlations > 0.90].index.difference([current_column]))\n",
    "\n",
    "#   # Update columns to drop based on correlations with the current column\n",
    "#   columns_to_drop.extend(highly_correlated_features[current_column])\n",
    "\n",
    "# # Remove duplicates from columns to drop\n",
    "# columns_to_drop = list(set(columns_to_drop))\n",
    "\n",
    "# print(len(columns_to_drop))"
   ]
  },
  {
   "cell_type": "code",
   "execution_count": 34,
   "metadata": {},
   "outputs": [
    {
     "name": "stdout",
     "output_type": "stream",
     "text": [
      "182\n"
     ]
    }
   ],
   "source": [
    "import seaborn as sns\n",
    "corr_matrix = X_train.corr()\n",
    "\n",
    "# Get the column names of the DataFrame\n",
    "columns = corr_matrix.columns\n",
    "\n",
    "# Create an empty list to keep track of columns to drop\n",
    "columns_to_drop = []\n",
    "# Create a dictionary to store highly correlated features\n",
    "highly_correlated_features = {}\n",
    "\n",
    "# Loop over the columns\n",
    "for i in range(len(columns)):\n",
    "    for j in range(0, len(columns)):\n",
    "        # Access the cell of the DataFrame\n",
    "        if i != j and corr_matrix.iloc[i, j] > 0.90:\n",
    "            # Add the column to drop\n",
    "            columns_to_drop.append(columns[j])\n",
    "            # Update the dictionary with highly correlated features\n",
    "            if columns[i] in highly_correlated_features:\n",
    "                highly_correlated_features[columns[i]].append((columns[j], corr_matrix.iloc[i, j].round(4)))\n",
    "            else:\n",
    "                highly_correlated_features[columns[i]] = [(columns[j], corr_matrix.iloc[i, j].round(4))]\n",
    "\n",
    "\n",
    "print(len(columns_to_drop))"
   ]
  },
  {
   "cell_type": "code",
   "execution_count": 35,
   "metadata": {},
   "outputs": [
    {
     "name": "stdout",
     "output_type": "stream",
     "text": [
      "['stl2_11', 'stl3_11', 'stl3_12', 'stl4_1', 'stl2_12', 'stl3_12', 'stl3_1', 'stl2_1', 'stl3_1', 'stl2_2', 'stl3_2', 'stl3_3', 'stl4_3', 'stl2_3', 'stl3_3', 'stl3_4', 'stl4_4', 'stl2_4', 'stl3_4', 'stl1_11', 'stl3_11', 'stl3_12', 'stl4_12', 'stl4_1', 'stl1_12', 'stl3_12', 'stl3_1', 'stl4_2', 'stl4_3', 'stl1_1', 'stl3_1', 'stl3_2', 'stl1_2', 'stl3_2', 'stl3_3', 'stl4_3', 'stl1_3', 'stl3_3', 'stl3_4', 'stl4_4', 'stl1_4', 'stl3_4', 'stl1_11', 'stl2_11', 'stl4_11', 'stl4_12', 'stl4_1', 'stl1_11', 'stl1_12', 'stl2_11', 'stl2_12', 'stl4_1', 'stl4_2', 'stl4_3', 'stl1_12', 'stl1_1', 'stl2_12', 'stl2_1', 'stl3_2', 'stl4_2', 'stl4_3', 'stl1_2', 'stl2_1', 'stl2_2', 'stl3_1', 'stl3_3', 'stl4_2', 'stl4_3', 'stl4_4', 'stl1_2', 'stl1_3', 'stl2_2', 'stl2_3', 'stl3_2', 'stl4_3', 'stl4_4', 'stl1_3', 'stl1_4', 'stl2_3', 'stl2_4', 'stl4_4', 'stl3_11', 'stl4_12', 'stl2_11', 'stl3_11', 'stl4_11', 'stl4_1', 'stl1_11', 'stl2_11', 'stl3_11', 'stl3_12', 'stl4_12', 'stl4_2', 'stl4_3', 'stl4_4', 'stl2_12', 'stl3_12', 'stl3_1', 'stl3_2', 'stl4_1', 'stl4_3', 'stl4_4', 'stl1_2', 'stl2_12', 'stl2_2', 'stl3_12', 'stl3_1', 'stl3_2', 'stl3_3', 'stl4_1', 'stl4_2', 'stl4_4', 'stl1_3', 'stl2_3', 'stl3_2', 'stl3_3', 'stl3_4', 'stl4_1', 'stl4_2', 'stl4_3', 'swvl1_2', 'swvl1_1', 'swvl2_2', 'swvl2_3', 'swvl2_1', 'swvl2_3', 'swvl2_4', 'swvl2_1', 'swvl2_2', 'swvl2_4', 'swvl2_2', 'swvl2_3', 'swvl3_12', 'swvl3_1', 'swvl3_11', 'swvl3_1', 'swvl3_11', 'swvl3_12', 'swvl3_2', 'swvl3_3', 'swvl3_4', 'swvl3_1', 'swvl3_3', 'swvl3_4', 'swvl3_1', 'swvl3_2', 'swvl3_4', 'swvl3_1', 'swvl3_2', 'swvl3_3', 'swvl4_12', 'swvl4_1', 'swvl4_2', 'swvl4_3', 'swvl4_4', 'swvl4_11', 'swvl4_1', 'swvl4_2', 'swvl4_3', 'swvl4_4', 'swvl4_11', 'swvl4_12', 'swvl4_2', 'swvl4_3', 'swvl4_4', 'swvl4_11', 'swvl4_12', 'swvl4_1', 'swvl4_3', 'swvl4_4', 'swvl4_11', 'swvl4_12', 'swvl4_1', 'swvl4_2', 'swvl4_4', 'swvl4_11', 'swvl4_12', 'swvl4_1', 'swvl4_2', 'swvl4_3', 'countrain_11', 'rain_11']\n"
     ]
    }
   ],
   "source": [
    "print(columns_to_drop)"
   ]
  },
  {
   "cell_type": "code",
   "execution_count": 36,
   "metadata": {},
   "outputs": [
    {
     "name": "stdout",
     "output_type": "stream",
     "text": [
      "Highly correlated features:\n",
      "stl1_11 : [('stl2_11', 0.9966), ('stl3_11', 0.9518), ('stl3_12', 0.9188), ('stl4_1', 0.908)]\n",
      "stl1_12 : [('stl2_12', 0.9939), ('stl3_12', 0.9144), ('stl3_1', 0.9334)]\n",
      "stl1_1 : [('stl2_1', 0.996), ('stl3_1', 0.9362)]\n",
      "stl1_2 : [('stl2_2', 0.9969), ('stl3_2', 0.9641), ('stl3_3', 0.9076), ('stl4_3', 0.9014)]\n",
      "stl1_3 : [('stl2_3', 0.9968), ('stl3_3', 0.9622), ('stl3_4', 0.9071), ('stl4_4', 0.921)]\n",
      "stl1_4 : [('stl2_4', 0.9977), ('stl3_4', 0.9632)]\n",
      "stl2_11 : [('stl1_11', 0.9966), ('stl3_11', 0.9734), ('stl3_12', 0.9176), ('stl4_12', 0.9068), ('stl4_1', 0.9246)]\n",
      "stl2_12 : [('stl1_12', 0.9939), ('stl3_12', 0.9528), ('stl3_1', 0.9353), ('stl4_2', 0.9135), ('stl4_3', 0.9022)]\n",
      "stl2_1 : [('stl1_1', 0.996), ('stl3_1', 0.9631), ('stl3_2', 0.9045)]\n",
      "stl2_2 : [('stl1_2', 0.9969), ('stl3_2', 0.9802), ('stl3_3', 0.91), ('stl4_3', 0.9186)]\n",
      "stl2_3 : [('stl1_3', 0.9968), ('stl3_3', 0.9785), ('stl3_4', 0.9036), ('stl4_4', 0.9369)]\n",
      "stl2_4 : [('stl1_4', 0.9977), ('stl3_4', 0.9771)]\n",
      "stl3_11 : [('stl1_11', 0.9518), ('stl2_11', 0.9734), ('stl4_11', 0.9116), ('stl4_12', 0.9692), ('stl4_1', 0.9477)]\n",
      "stl3_12 : [('stl1_11', 0.9188), ('stl1_12', 0.9144), ('stl2_11', 0.9176), ('stl2_12', 0.9528), ('stl4_1', 0.964), ('stl4_2', 0.9634), ('stl4_3', 0.9336)]\n",
      "stl3_1 : [('stl1_12', 0.9334), ('stl1_1', 0.9362), ('stl2_12', 0.9353), ('stl2_1', 0.9631), ('stl3_2', 0.9257), ('stl4_2', 0.9357), ('stl4_3', 0.936)]\n",
      "stl3_2 : [('stl1_2', 0.9641), ('stl2_1', 0.9045), ('stl2_2', 0.9802), ('stl3_1', 0.9257), ('stl3_3', 0.9119), ('stl4_2', 0.9202), ('stl4_3', 0.9587), ('stl4_4', 0.9272)]\n",
      "stl3_3 : [('stl1_2', 0.9076), ('stl1_3', 0.9622), ('stl2_2', 0.91), ('stl2_3', 0.9785), ('stl3_2', 0.9119), ('stl4_3', 0.9469), ('stl4_4', 0.9726)]\n",
      "stl3_4 : [('stl1_3', 0.9071), ('stl1_4', 0.9632), ('stl2_3', 0.9036), ('stl2_4', 0.9771), ('stl4_4', 0.9276)]\n",
      "stl4_11 : [('stl3_11', 0.9116), ('stl4_12', 0.9749)]\n",
      "stl4_12 : [('stl2_11', 0.9068), ('stl3_11', 0.9692), ('stl4_11', 0.9749), ('stl4_1', 0.9652)]\n",
      "stl4_1 : [('stl1_11', 0.908), ('stl2_11', 0.9246), ('stl3_11', 0.9477), ('stl3_12', 0.964), ('stl4_12', 0.9652), ('stl4_2', 0.9742), ('stl4_3', 0.9396), ('stl4_4', 0.9227)]\n",
      "stl4_2 : [('stl2_12', 0.9135), ('stl3_12', 0.9634), ('stl3_1', 0.9357), ('stl3_2', 0.9202), ('stl4_1', 0.9742), ('stl4_3', 0.9855), ('stl4_4', 0.9563)]\n",
      "stl4_3 : [('stl1_2', 0.9014), ('stl2_12', 0.9022), ('stl2_2', 0.9186), ('stl3_12', 0.9336), ('stl3_1', 0.936), ('stl3_2', 0.9587), ('stl3_3', 0.9469), ('stl4_1', 0.9396), ('stl4_2', 0.9855), ('stl4_4', 0.9822)]\n",
      "stl4_4 : [('stl1_3', 0.921), ('stl2_3', 0.9369), ('stl3_2', 0.9272), ('stl3_3', 0.9726), ('stl3_4', 0.9276), ('stl4_1', 0.9227), ('stl4_2', 0.9563), ('stl4_3', 0.9822)]\n",
      "swvl1_1 : [('swvl1_2', 0.9187)]\n",
      "swvl1_2 : [('swvl1_1', 0.9187)]\n",
      "swvl2_1 : [('swvl2_2', 0.9444), ('swvl2_3', 0.902)]\n",
      "swvl2_2 : [('swvl2_1', 0.9444), ('swvl2_3', 0.944), ('swvl2_4', 0.9164)]\n",
      "swvl2_3 : [('swvl2_1', 0.902), ('swvl2_2', 0.944), ('swvl2_4', 0.9401)]\n",
      "swvl2_4 : [('swvl2_2', 0.9164), ('swvl2_3', 0.9401)]\n",
      "swvl3_11 : [('swvl3_12', 0.9669), ('swvl3_1', 0.9063)]\n",
      "swvl3_12 : [('swvl3_11', 0.9669), ('swvl3_1', 0.9616)]\n",
      "swvl3_1 : [('swvl3_11', 0.9063), ('swvl3_12', 0.9616), ('swvl3_2', 0.9762), ('swvl3_3', 0.9404), ('swvl3_4', 0.9067)]\n",
      "swvl3_2 : [('swvl3_1', 0.9762), ('swvl3_3', 0.9883), ('swvl3_4', 0.9647)]\n",
      "swvl3_3 : [('swvl3_1', 0.9404), ('swvl3_2', 0.9883), ('swvl3_4', 0.9906)]\n",
      "swvl3_4 : [('swvl3_1', 0.9067), ('swvl3_2', 0.9647), ('swvl3_3', 0.9906)]\n",
      "swvl4_11 : [('swvl4_12', 0.9974), ('swvl4_1', 0.9934), ('swvl4_2', 0.989), ('swvl4_3', 0.9837), ('swvl4_4', 0.9769)]\n",
      "swvl4_12 : [('swvl4_11', 0.9974), ('swvl4_1', 0.9987), ('swvl4_2', 0.9961), ('swvl4_3', 0.9921), ('swvl4_4', 0.9866)]\n",
      "swvl4_1 : [('swvl4_11', 0.9934), ('swvl4_12', 0.9987), ('swvl4_2', 0.9991), ('swvl4_3', 0.9967), ('swvl4_4', 0.9925)]\n",
      "swvl4_2 : [('swvl4_11', 0.989), ('swvl4_12', 0.9961), ('swvl4_1', 0.9991), ('swvl4_3', 0.9992), ('swvl4_4', 0.9965)]\n",
      "swvl4_3 : [('swvl4_11', 0.9837), ('swvl4_12', 0.9921), ('swvl4_1', 0.9967), ('swvl4_2', 0.9992), ('swvl4_4', 0.999)]\n",
      "swvl4_4 : [('swvl4_11', 0.9769), ('swvl4_12', 0.9866), ('swvl4_1', 0.9925), ('swvl4_2', 0.9965), ('swvl4_3', 0.999)]\n",
      "rain_11 : [('countrain_11', 0.9082)]\n",
      "countrain_11 : [('rain_11', 0.9082)]\n"
     ]
    }
   ],
   "source": [
    "print(\"Highly correlated features:\")\n",
    "for key, value in highly_correlated_features.items():\n",
    "    print(key, \":\", value)"
   ]
  },
  {
   "cell_type": "code",
   "execution_count": 37,
   "metadata": {},
   "outputs": [
    {
     "ename": "NameError",
     "evalue": "name 'stop' is not defined",
     "output_type": "error",
     "traceback": [
      "\u001b[1;31m---------------------------------------------------------------------------\u001b[0m",
      "\u001b[1;31mNameError\u001b[0m                                 Traceback (most recent call last)",
      "Cell \u001b[1;32mIn[37], line 1\u001b[0m\n\u001b[1;32m----> 1\u001b[0m \u001b[43mstop\u001b[49m\n",
      "\u001b[1;31mNameError\u001b[0m: name 'stop' is not defined"
     ]
    }
   ],
   "source": [
    "stop"
   ]
  },
  {
   "cell_type": "code",
   "execution_count": null,
   "metadata": {},
   "outputs": [],
   "source": [
    "import time\n",
    "def print_accuracy(f):\n",
    "    print(\n",
    "        f\"Root mean squared test error = {np.sqrt(np.mean((f(X_test) - y_test) ** 2))}\"\n",
    "    )\n",
    "    time.sleep(0.5)  # to let the print get out before any progress bars"
   ]
  },
  {
   "cell_type": "code",
   "execution_count": null,
   "metadata": {},
   "outputs": [],
   "source": [
    "from sklearn.ensemble import RandomForestRegressor\n",
    "\n",
    "rforest = RandomForestRegressor(\n",
    "    n_estimators=1000, max_depth=None, min_samples_split=2, random_state=0\n",
    ")\n",
    "rforest.fit(X_train, y_train)\n",
    "print_accuracy(rforest.predict)"
   ]
  },
  {
   "cell_type": "code",
   "execution_count": null,
   "metadata": {},
   "outputs": [],
   "source": [
    "y_pred = rforest.predict(X_test)\n",
    "mse = mean_squared_error(y_test, y_pred)\n",
    "r2 = r2_score(y_test, y_pred)\n",
    "print(mse,r2)"
   ]
  },
  {
   "cell_type": "code",
   "execution_count": null,
   "metadata": {},
   "outputs": [],
   "source": [
    "#pip install shap"
   ]
  },
  {
   "cell_type": "code",
   "execution_count": null,
   "metadata": {},
   "outputs": [],
   "source": [
    "stop"
   ]
  },
  {
   "cell_type": "code",
   "execution_count": null,
   "metadata": {},
   "outputs": [],
   "source": [
    "columns_to_drop = set(columns_to_drop)\n",
    "print(columns_to_drop)"
   ]
  },
  {
   "cell_type": "code",
   "execution_count": null,
   "metadata": {},
   "outputs": [],
   "source": [
    "len(columns_to_drop)"
   ]
  },
  {
   "cell_type": "code",
   "execution_count": null,
   "metadata": {},
   "outputs": [],
   "source": [
    "X_train.drop(columns = columns_to_drop, axis = 1, inplace=True)\n",
    "X_test.drop(columns = columns_to_drop, axis = 1, inplace=True)"
   ]
  },
  {
   "cell_type": "code",
   "execution_count": null,
   "metadata": {},
   "outputs": [],
   "source": [
    "from sklearn.model_selection import train_test_split\n",
    "from sklearn.linear_model import LinearRegression\n",
    "from sklearn.metrics import mean_squared_error, r2_score"
   ]
  },
  {
   "cell_type": "code",
   "execution_count": null,
   "metadata": {},
   "outputs": [],
   "source": [
    "# Import necessary libraries\n",
    "import numpy as np\n",
    "import pandas as pd\n",
    "from sklearn.model_selection import train_test_split\n",
    "from sklearn.linear_model import LinearRegression, Ridge, Lasso\n",
    "from sklearn.tree import DecisionTreeRegressor\n",
    "from sklearn.ensemble import RandomForestRegressor, GradientBoostingRegressor\n",
    "from sklearn.svm import SVR\n",
    "from sklearn.metrics import mean_squared_error, r2_score\n",
    "from sklearn.model_selection import KFold\n",
    "\n",
    "\n",
    "# Create KFold object\n",
    "k = 5\n",
    "kfold = KFold(n_splits=k, shuffle=True)\n",
    "\n",
    "\n",
    "# Models\n",
    "models = {\n",
    "    \"Linear Regression\": LinearRegression(),\n",
    "    \"Ridge Regression\": Ridge(),\n",
    "    \"Lasso Regression\": Lasso(),\n",
    "    \"Decision Tree\": DecisionTreeRegressor(),\n",
    "    \"Gradient Boosting\": GradientBoostingRegressor(),\n",
    "    \"Random Forest\": RandomForestRegressor(),\n",
    "    \"Support Vector Machine\": SVR()\n",
    "}\n",
    "\n",
    "# Train and evaluate each model\n",
    "for name, model in models.items():\n",
    "    mse_scores = []\n",
    "    r2_scores = []\n",
    "\n",
    "    for train_index, test_index in kfold.split(X):\n",
    "        X_train, X_test = X[train_index], X[test_index]\n",
    "        y_train, y_test = y[train_index], y[test_index]\n",
    "    model.fit(X_train, y_train)\n",
    "    y_pred = model.predict(X_test)\n",
    "    mse = mean_squared_error(y_test, y_pred)\n",
    "    r2 = r2_score(y_test, y_pred)\n",
    "    print(f'{name} - Mean Squared Error: {mse:.2f}, R^2 Score: {r2:.2f}')\n"
   ]
  },
  {
   "cell_type": "code",
   "execution_count": null,
   "metadata": {},
   "outputs": [],
   "source": [
    "import xarray\n",
    "data = xarray.open_dataset(r\"C:\\Users\\Kanishk Goyal\\OneDrive - IIT Kanpur\\Desktop\\Prof. Hamim Zafar\\Data\\Relative humidity\\1month_mean_Global_ea_r2_199703_v02.grib\", engine='cfgrib')\n",
    "data.to_netcdf(r\"C:\\Users\\Kanishk Goyal\\OneDrive - IIT Kanpur\\Desktop\\Prof. Hamim Zafar\\Data\\Relative humidity\\1month_mean_Global_ea_r2_199703_v02.nc\")"
   ]
  },
  {
   "cell_type": "code",
   "execution_count": null,
   "metadata": {},
   "outputs": [],
   "source": []
  }
 ],
 "metadata": {
  "kernelspec": {
   "display_name": "Python 3",
   "language": "python",
   "name": "python3"
  },
  "language_info": {
   "codemirror_mode": {
    "name": "ipython",
    "version": 3
   },
   "file_extension": ".py",
   "mimetype": "text/x-python",
   "name": "python",
   "nbconvert_exporter": "python",
   "pygments_lexer": "ipython3",
   "version": "3.11.4"
  }
 },
 "nbformat": 4,
 "nbformat_minor": 2
}
