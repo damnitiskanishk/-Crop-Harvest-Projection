{
 "cells": [
  {
   "cell_type": "code",
   "execution_count": 1,
   "metadata": {},
   "outputs": [],
   "source": [
    "import numpy as np \n",
    "import pandas as pd\n",
    "import seaborn as sns\n",
    "import matplotlib.pyplot as plt\n",
    "from sklearn.preprocessing import LabelEncoder\n",
    "from sklearn.model_selection import train_test_split\n",
    "from sklearn.linear_model import LinearRegression\n",
    "from sklearn.metrics import mean_squared_error, r2_score\n",
    "import seaborn as sns"
   ]
  },
  {
   "cell_type": "code",
   "execution_count": 2,
   "metadata": {},
   "outputs": [],
   "source": [
    "df = pd.read_csv(r\"C:\\Users\\Kanishk Goyal\\OneDrive - IIT Kanpur\\Desktop\\Prof. Hamim Zafar\\Data\\Final Data\\ChickPea\\ChickPea_MP_updated.csv\")\n",
    "df = df.drop(columns=['latitude','longitude','DistrictName', 'year'])\n",
    "# df = df.sample(frac=1).reset_index(drop=True)\n",
    "#df = df.drop(columns=['DistrictName','latitude','longitude','year','year_mask'])"
   ]
  },
  {
   "cell_type": "code",
   "execution_count": 3,
   "metadata": {},
   "outputs": [],
   "source": [
    "df = df.rename(columns={'Yield(tonnes/hectare)':'Yield(Tonnes/Hectare)'},inplace=False)"
   ]
  },
  {
   "cell_type": "code",
   "execution_count": 4,
   "metadata": {},
   "outputs": [
    {
     "data": {
      "text/plain": [
       "Index(['stl1_11', 'stl1_12', 'stl1_1', 'stl1_2', 'stl1_3', 'stl1_4', 'stl2_11',\n",
       "       'stl2_12', 'stl2_1', 'stl2_2', 'stl2_3', 'stl2_4', 'stl3_11', 'stl3_12',\n",
       "       'stl3_1', 'stl3_2', 'stl3_3', 'stl3_4', 'stl4_11', 'stl4_12', 'stl4_1',\n",
       "       'stl4_2', 'stl4_3', 'stl4_4', 'swvl1_11', 'swvl1_12', 'swvl1_1',\n",
       "       'swvl1_2', 'swvl1_3', 'swvl1_4', 'swvl2_11', 'swvl2_12', 'swvl2_1',\n",
       "       'swvl2_2', 'swvl2_3', 'swvl2_4', 'swvl3_11', 'swvl3_12', 'swvl3_1',\n",
       "       'swvl3_2', 'swvl3_3', 'swvl3_4', 'swvl4_11', 'swvl4_12', 'swvl4_1',\n",
       "       'swvl4_2', 'swvl4_3', 'swvl4_4', 'ssr_12', 'ssr_11', 'ssr_1', 'ssr_2',\n",
       "       'ssr_3', 'ssr_4', 'u10_11', 'u10_12', 'u10_1', 'u10_2', 'u10_3',\n",
       "       'u10_4', 'v10_11', 'v10_12', 'v10_1', 'v10_2', 'v10_3', 'v10_4',\n",
       "       'tmax_11', 'tmax_12', 'tmax_1', 'tmax_2', 'tmax_3', 'tmax_4', 'tmin_11',\n",
       "       'tmin_12', 'tmin_1', 'tmin_2', 'tmin_3', 'tmin_4', 'rain_11', 'rain_12',\n",
       "       'rain_1', 'rain_2', 'rain_3', 'rain_4', 'countrain_11', 'countrain_12',\n",
       "       'countrain_1', 'countrain_2', 'countrain_3', 'countrain_4', 'rh_11',\n",
       "       'rh_12', 'rh_1', 'rh_2', 'rh_3', 'rh_4', 'Yield(Tonnes/Hectare)'],\n",
       "      dtype='object')"
      ]
     },
     "execution_count": 4,
     "metadata": {},
     "output_type": "execute_result"
    }
   ],
   "source": [
    "df.columns"
   ]
  },
  {
   "cell_type": "code",
   "execution_count": 5,
   "metadata": {},
   "outputs": [],
   "source": [
    "# df['stl1'] = (df['stl1_1'] + df['stl1_2'])/2\n",
    "# df['stl2'] = (df['stl2_1'] + df['stl2_2'])/2\n",
    "# df['stl3'] = (df['stl3_1'] + df['stl3_2'])/2\n",
    "# df['stl4'] = (df['stl4_1'] + df['stl4_2'])/2\n",
    "# df['swvl1'] = (df['swvl1_1'] + df['swvl1_2'])/2\n",
    "# df['swvl2'] = (df['swvl2_1'] + df['swvl2_2'])/2\n",
    "# df['swvl3'] = (df['swvl3_1'] + df['swvl3_2'])/2\n",
    "# df['swvl4'] = (df['swvl4_1'] + df['swvl4_2'])/2\n",
    "# df['ssr'] = (df['ssr_1'] + df['ssr_2'])/2\n",
    "# df['rain'] = (df['rain_1'] + df['rain_2'])/2\n",
    "# df['tmax'] = (df['tmax_1'] + df['tmax_2'])/2\n",
    "# df['tmin'] = (df['tmin_1'] + df['tmin_2'])/2\n",
    "# df['countrain'] = df['countrain_1'] + df['countrain_2']\n",
    "# df['u10'] = (df['u10_3']+df['u10_4'])/2\n",
    "# df['v10'] = (df['v10_3']+df['v10_4'])/2\n",
    "# df['rh'] = (df['rh_3']+df['rh_4'])/2"
   ]
  },
  {
   "cell_type": "code",
   "execution_count": 6,
   "metadata": {},
   "outputs": [],
   "source": [
    "# df = df.drop(columns=['stl1_1','stl1_2','stl2_1','stl2_2','stl3_1','stl3_2','stl4_1','stl4_2','swvl1_1','swvl1_2','swvl2_1','swvl2_2','swvl3_1','swvl3_2','swvl4_1','swvl4_2','ssr_1','ssr_2','rain_1','rain_2','tmax_1','tmax_2','tmin_1','tmin_2','countrain_1','countrain_2','u10_3','u10_4','v10_3','v10_4','rh_3','rh_4'],axis=1)"
   ]
  },
  {
   "cell_type": "code",
   "execution_count": 7,
   "metadata": {},
   "outputs": [
    {
     "data": {
      "text/plain": [
       "(1250, 97)"
      ]
     },
     "execution_count": 7,
     "metadata": {},
     "output_type": "execute_result"
    }
   ],
   "source": [
    "df.shape"
   ]
  },
  {
   "cell_type": "code",
   "execution_count": 8,
   "metadata": {},
   "outputs": [
    {
     "data": {
      "text/plain": [
       "Index(['stl1_11', 'stl1_12', 'stl1_1', 'stl1_2', 'stl1_3', 'stl1_4', 'stl2_11',\n",
       "       'stl2_12', 'stl2_1', 'stl2_2', 'stl2_3', 'stl2_4', 'stl3_11', 'stl3_12',\n",
       "       'stl3_1', 'stl3_2', 'stl3_3', 'stl3_4', 'stl4_11', 'stl4_12', 'stl4_1',\n",
       "       'stl4_2', 'stl4_3', 'stl4_4', 'swvl1_11', 'swvl1_12', 'swvl1_1',\n",
       "       'swvl1_2', 'swvl1_3', 'swvl1_4', 'swvl2_11', 'swvl2_12', 'swvl2_1',\n",
       "       'swvl2_2', 'swvl2_3', 'swvl2_4', 'swvl3_11', 'swvl3_12', 'swvl3_1',\n",
       "       'swvl3_2', 'swvl3_3', 'swvl3_4', 'swvl4_11', 'swvl4_12', 'swvl4_1',\n",
       "       'swvl4_2', 'swvl4_3', 'swvl4_4', 'ssr_12', 'ssr_11', 'ssr_1', 'ssr_2',\n",
       "       'ssr_3', 'ssr_4', 'u10_11', 'u10_12', 'u10_1', 'u10_2', 'u10_3',\n",
       "       'u10_4', 'v10_11', 'v10_12', 'v10_1', 'v10_2', 'v10_3', 'v10_4',\n",
       "       'tmax_11', 'tmax_12', 'tmax_1', 'tmax_2', 'tmax_3', 'tmax_4', 'tmin_11',\n",
       "       'tmin_12', 'tmin_1', 'tmin_2', 'tmin_3', 'tmin_4', 'rain_11', 'rain_12',\n",
       "       'rain_1', 'rain_2', 'rain_3', 'rain_4', 'countrain_11', 'countrain_12',\n",
       "       'countrain_1', 'countrain_2', 'countrain_3', 'countrain_4', 'rh_11',\n",
       "       'rh_12', 'rh_1', 'rh_2', 'rh_3', 'rh_4', 'Yield(Tonnes/Hectare)'],\n",
       "      dtype='object')"
      ]
     },
     "execution_count": 8,
     "metadata": {},
     "output_type": "execute_result"
    }
   ],
   "source": [
    "df.columns"
   ]
  },
  {
   "cell_type": "code",
   "execution_count": 9,
   "metadata": {},
   "outputs": [],
   "source": [
    "df = df.dropna(subset=['Yield(Tonnes/Hectare)'])"
   ]
  },
  {
   "cell_type": "code",
   "execution_count": 10,
   "metadata": {},
   "outputs": [
    {
     "data": {
      "text/plain": [
       "(1015, 97)"
      ]
     },
     "execution_count": 10,
     "metadata": {},
     "output_type": "execute_result"
    }
   ],
   "source": [
    "df.shape"
   ]
  },
  {
   "cell_type": "code",
   "execution_count": 11,
   "metadata": {},
   "outputs": [
    {
     "data": {
      "text/plain": [
       "1.0218648330751237"
      ]
     },
     "execution_count": 11,
     "metadata": {},
     "output_type": "execute_result"
    }
   ],
   "source": [
    "df['Yield(Tonnes/Hectare)'].skew()"
   ]
  },
  {
   "cell_type": "code",
   "execution_count": 12,
   "metadata": {},
   "outputs": [
    {
     "name": "stderr",
     "output_type": "stream",
     "text": [
      "C:\\Users\\Kanishk Goyal\\AppData\\Local\\Temp\\ipykernel_28100\\994257175.py:1: UserWarning: \n",
      "\n",
      "`distplot` is a deprecated function and will be removed in seaborn v0.14.0.\n",
      "\n",
      "Please adapt your code to use either `displot` (a figure-level function with\n",
      "similar flexibility) or `histplot` (an axes-level function for histograms).\n",
      "\n",
      "For a guide to updating your code to use the new functions, please see\n",
      "https://gist.github.com/mwaskom/de44147ed2974457ad6372750bbe5751\n",
      "\n",
      "  sns.distplot(df['Yield(Tonnes/Hectare)'],color='green')\n"
     ]
    },
    {
     "data": {
      "text/plain": [
       "<Axes: xlabel='Yield(Tonnes/Hectare)', ylabel='Density'>"
      ]
     },
     "execution_count": 12,
     "metadata": {},
     "output_type": "execute_result"
    },
    {
     "data": {
      "image/png": "[encoded data removed]",
      "text/plain": [
       "<Figure size 640x480 with 1 Axes>"
      ]
     },
     "metadata": {},
     "output_type": "display_data"
    }
   ],
   "source": [
    "sns.distplot(df['Yield(Tonnes/Hectare)'],color='green')"
   ]
  },
  {
   "cell_type": "code",
   "execution_count": 13,
   "metadata": {},
   "outputs": [
    {
     "data": {
      "text/plain": [
       "6       1.14\n",
       "7       1.00\n",
       "8       1.02\n",
       "9       1.00\n",
       "10      0.76\n",
       "        ... \n",
       "1243    0.86\n",
       "1244    1.56\n",
       "1245    1.56\n",
       "1246    1.59\n",
       "1247    1.24\n",
       "Name: Yield(Tonnes/Hectare), Length: 1015, dtype: float64"
      ]
     },
     "execution_count": 13,
     "metadata": {},
     "output_type": "execute_result"
    }
   ],
   "source": [
    "df['Yield(Tonnes/Hectare)']"
   ]
  },
  {
   "cell_type": "code",
   "execution_count": 14,
   "metadata": {},
   "outputs": [
    {
     "name": "stdout",
     "output_type": "stream",
     "text": [
      "Number of points in the final DataFrame after handling outliers: 989\n"
     ]
    }
   ],
   "source": [
    "Q1 = df['Yield(Tonnes/Hectare)'].quantile(0.25)\n",
    "Q3 = df['Yield(Tonnes/Hectare)'].quantile(0.75)\n",
    "IQR = Q3 - Q1\n",
    "\n",
    "lower_bound = Q1 - 1.5 * IQR\n",
    "upper_bound = Q3 + 1.5 * IQR\n",
    "\n",
    "df['Yield_no_outliers'] = np.where((df['Yield(Tonnes/Hectare)'] < lower_bound) | (df['Yield(Tonnes/Hectare)'] > upper_bound), np.nan, df['Yield(Tonnes/Hectare)'])\n",
    "\n",
    "num_points_after_handling_outliers = df['Yield_no_outliers'].count()\n",
    "print(\"Number of points in the final DataFrame after handling outliers:\", num_points_after_handling_outliers)"
   ]
  },
  {
   "cell_type": "code",
   "execution_count": 15,
   "metadata": {},
   "outputs": [],
   "source": [
    "df = df.dropna(subset=['Yield_no_outliers'])\n",
    "df = df.drop(columns=['Yield(Tonnes/Hectare)'])"
   ]
  },
  {
   "cell_type": "code",
   "execution_count": 16,
   "metadata": {},
   "outputs": [],
   "source": [
    "df.rename(columns={'Yield_no_outliers': 'Yield(Tonnes/Hectare)'}, inplace=True)"
   ]
  },
  {
   "cell_type": "code",
   "execution_count": 17,
   "metadata": {},
   "outputs": [
    {
     "data": {
      "text/plain": [
       "0.2852316162278288"
      ]
     },
     "execution_count": 17,
     "metadata": {},
     "output_type": "execute_result"
    }
   ],
   "source": [
    "df['Yield(Tonnes/Hectare)'].skew()"
   ]
  },
  {
   "cell_type": "code",
   "execution_count": 18,
   "metadata": {},
   "outputs": [
    {
     "name": "stderr",
     "output_type": "stream",
     "text": [
      "C:\\Users\\Kanishk Goyal\\AppData\\Local\\Temp\\ipykernel_28100\\1820324139.py:1: UserWarning: \n",
      "\n",
      "`distplot` is a deprecated function and will be removed in seaborn v0.14.0.\n",
      "\n",
      "Please adapt your code to use either `displot` (a figure-level function with\n",
      "similar flexibility) or `histplot` (an axes-level function for histograms).\n",
      "\n",
      "For a guide to updating your code to use the new functions, please see\n",
      "https://gist.github.com/mwaskom/de44147ed2974457ad6372750bbe5751\n",
      "\n",
      "  sns.distplot(df['Yield(Tonnes/Hectare)'])\n"
     ]
    },
    {
     "data": {
      "text/plain": [
       "<Axes: xlabel='Yield(Tonnes/Hectare)', ylabel='Density'>"
      ]
     },
     "execution_count": 18,
     "metadata": {},
     "output_type": "execute_result"
    },
    {
     "data": {
      "image/png": "[encoded data removed]",
      "text/plain": [
       "<Figure size 640x480 with 1 Axes>"
      ]
     },
     "metadata": {},
     "output_type": "display_data"
    }
   ],
   "source": [
    "sns.distplot(df['Yield(Tonnes/Hectare)'])"
   ]
  },
  {
   "cell_type": "code",
   "execution_count": 19,
   "metadata": {},
   "outputs": [
    {
     "data": {
      "text/html": [
       "<div>\n",
       "<style scoped>\n",
       "    .dataframe tbody tr th:only-of-type {\n",
       "        vertical-align: middle;\n",
       "    }\n",
       "\n",
       "    .dataframe tbody tr th {\n",
       "        vertical-align: top;\n",
       "    }\n",
       "\n",
       "    .dataframe thead th {\n",
       "        text-align: right;\n",
       "    }\n",
       "</style>\n",
       "<table border=\"1\" class=\"dataframe\">\n",
       "  <thead>\n",
       "    <tr style=\"text-align: right;\">\n",
       "      <th></th>\n",
       "      <th>stl1_11</th>\n",
       "      <th>stl1_12</th>\n",
       "      <th>stl1_1</th>\n",
       "      <th>stl1_2</th>\n",
       "      <th>stl1_3</th>\n",
       "      <th>stl1_4</th>\n",
       "      <th>stl2_11</th>\n",
       "      <th>stl2_12</th>\n",
       "      <th>stl2_1</th>\n",
       "      <th>stl2_2</th>\n",
       "      <th>...</th>\n",
       "      <th>countrain_2</th>\n",
       "      <th>countrain_3</th>\n",
       "      <th>countrain_4</th>\n",
       "      <th>rh_11</th>\n",
       "      <th>rh_12</th>\n",
       "      <th>rh_1</th>\n",
       "      <th>rh_2</th>\n",
       "      <th>rh_3</th>\n",
       "      <th>rh_4</th>\n",
       "      <th>Yield(Tonnes/Hectare)</th>\n",
       "    </tr>\n",
       "  </thead>\n",
       "  <tbody>\n",
       "    <tr>\n",
       "      <th>6</th>\n",
       "      <td>26.067902</td>\n",
       "      <td>22.926133</td>\n",
       "      <td>22.322573</td>\n",
       "      <td>25.399277</td>\n",
       "      <td>31.695860</td>\n",
       "      <td>35.902315</td>\n",
       "      <td>26.239048</td>\n",
       "      <td>23.603049</td>\n",
       "      <td>22.549155</td>\n",
       "      <td>25.033027</td>\n",
       "      <td>...</td>\n",
       "      <td>0</td>\n",
       "      <td>0</td>\n",
       "      <td>0</td>\n",
       "      <td>50.386171</td>\n",
       "      <td>48.913918</td>\n",
       "      <td>50.453466</td>\n",
       "      <td>35.246657</td>\n",
       "      <td>20.819689</td>\n",
       "      <td>24.287291</td>\n",
       "      <td>1.14</td>\n",
       "    </tr>\n",
       "    <tr>\n",
       "      <th>7</th>\n",
       "      <td>25.871806</td>\n",
       "      <td>23.084699</td>\n",
       "      <td>23.027444</td>\n",
       "      <td>26.084324</td>\n",
       "      <td>30.660893</td>\n",
       "      <td>34.803107</td>\n",
       "      <td>26.151689</td>\n",
       "      <td>23.526099</td>\n",
       "      <td>23.429477</td>\n",
       "      <td>25.635279</td>\n",
       "      <td>...</td>\n",
       "      <td>1</td>\n",
       "      <td>2</td>\n",
       "      <td>0</td>\n",
       "      <td>47.861046</td>\n",
       "      <td>43.239681</td>\n",
       "      <td>47.364364</td>\n",
       "      <td>35.010391</td>\n",
       "      <td>26.392700</td>\n",
       "      <td>17.331910</td>\n",
       "      <td>1.00</td>\n",
       "    </tr>\n",
       "    <tr>\n",
       "      <th>8</th>\n",
       "      <td>24.016368</td>\n",
       "      <td>22.381669</td>\n",
       "      <td>23.377221</td>\n",
       "      <td>27.492971</td>\n",
       "      <td>27.671280</td>\n",
       "      <td>34.457169</td>\n",
       "      <td>24.428738</td>\n",
       "      <td>22.965790</td>\n",
       "      <td>23.488667</td>\n",
       "      <td>26.856390</td>\n",
       "      <td>...</td>\n",
       "      <td>0</td>\n",
       "      <td>3</td>\n",
       "      <td>1</td>\n",
       "      <td>41.614175</td>\n",
       "      <td>44.771326</td>\n",
       "      <td>40.359641</td>\n",
       "      <td>30.004931</td>\n",
       "      <td>41.513569</td>\n",
       "      <td>24.230550</td>\n",
       "      <td>1.02</td>\n",
       "    </tr>\n",
       "    <tr>\n",
       "      <th>9</th>\n",
       "      <td>25.500651</td>\n",
       "      <td>23.782685</td>\n",
       "      <td>23.525030</td>\n",
       "      <td>26.419278</td>\n",
       "      <td>30.420838</td>\n",
       "      <td>35.321209</td>\n",
       "      <td>25.768721</td>\n",
       "      <td>24.230379</td>\n",
       "      <td>23.678202</td>\n",
       "      <td>26.199659</td>\n",
       "      <td>...</td>\n",
       "      <td>0</td>\n",
       "      <td>0</td>\n",
       "      <td>0</td>\n",
       "      <td>58.643027</td>\n",
       "      <td>54.850803</td>\n",
       "      <td>48.212678</td>\n",
       "      <td>41.711799</td>\n",
       "      <td>28.996326</td>\n",
       "      <td>23.143729</td>\n",
       "      <td>1.00</td>\n",
       "    </tr>\n",
       "    <tr>\n",
       "      <th>10</th>\n",
       "      <td>24.814927</td>\n",
       "      <td>23.620362</td>\n",
       "      <td>23.411051</td>\n",
       "      <td>24.158815</td>\n",
       "      <td>30.845634</td>\n",
       "      <td>34.883407</td>\n",
       "      <td>25.285390</td>\n",
       "      <td>23.891198</td>\n",
       "      <td>23.793144</td>\n",
       "      <td>24.006996</td>\n",
       "      <td>...</td>\n",
       "      <td>0</td>\n",
       "      <td>0</td>\n",
       "      <td>0</td>\n",
       "      <td>49.797599</td>\n",
       "      <td>52.456387</td>\n",
       "      <td>46.137357</td>\n",
       "      <td>33.326873</td>\n",
       "      <td>28.703663</td>\n",
       "      <td>21.854922</td>\n",
       "      <td>0.76</td>\n",
       "    </tr>\n",
       "    <tr>\n",
       "      <th>11</th>\n",
       "      <td>25.129316</td>\n",
       "      <td>24.066362</td>\n",
       "      <td>24.774233</td>\n",
       "      <td>27.564231</td>\n",
       "      <td>31.468461</td>\n",
       "      <td>35.047425</td>\n",
       "      <td>25.381448</td>\n",
       "      <td>24.438822</td>\n",
       "      <td>24.683100</td>\n",
       "      <td>27.174582</td>\n",
       "      <td>...</td>\n",
       "      <td>0</td>\n",
       "      <td>0</td>\n",
       "      <td>0</td>\n",
       "      <td>49.951694</td>\n",
       "      <td>44.511355</td>\n",
       "      <td>47.994250</td>\n",
       "      <td>34.110869</td>\n",
       "      <td>24.524251</td>\n",
       "      <td>18.957647</td>\n",
       "      <td>0.83</td>\n",
       "    </tr>\n",
       "    <tr>\n",
       "      <th>13</th>\n",
       "      <td>26.348058</td>\n",
       "      <td>22.136230</td>\n",
       "      <td>21.733105</td>\n",
       "      <td>25.953501</td>\n",
       "      <td>30.329466</td>\n",
       "      <td>34.411148</td>\n",
       "      <td>26.572674</td>\n",
       "      <td>22.914084</td>\n",
       "      <td>22.012604</td>\n",
       "      <td>25.684578</td>\n",
       "      <td>...</td>\n",
       "      <td>0</td>\n",
       "      <td>0</td>\n",
       "      <td>0</td>\n",
       "      <td>68.494533</td>\n",
       "      <td>53.851105</td>\n",
       "      <td>43.889803</td>\n",
       "      <td>41.714757</td>\n",
       "      <td>27.653531</td>\n",
       "      <td>26.195974</td>\n",
       "      <td>0.90</td>\n",
       "    </tr>\n",
       "    <tr>\n",
       "      <th>14</th>\n",
       "      <td>26.277706</td>\n",
       "      <td>23.540111</td>\n",
       "      <td>22.615088</td>\n",
       "      <td>25.790195</td>\n",
       "      <td>29.432515</td>\n",
       "      <td>35.365522</td>\n",
       "      <td>26.495670</td>\n",
       "      <td>24.070370</td>\n",
       "      <td>22.975359</td>\n",
       "      <td>25.516489</td>\n",
       "      <td>...</td>\n",
       "      <td>0</td>\n",
       "      <td>0</td>\n",
       "      <td>0</td>\n",
       "      <td>46.638447</td>\n",
       "      <td>47.025874</td>\n",
       "      <td>49.436328</td>\n",
       "      <td>35.326016</td>\n",
       "      <td>21.981613</td>\n",
       "      <td>22.616386</td>\n",
       "      <td>1.12</td>\n",
       "    </tr>\n",
       "    <tr>\n",
       "      <th>15</th>\n",
       "      <td>24.715917</td>\n",
       "      <td>23.873106</td>\n",
       "      <td>23.142761</td>\n",
       "      <td>26.328623</td>\n",
       "      <td>30.734187</td>\n",
       "      <td>34.762734</td>\n",
       "      <td>25.060666</td>\n",
       "      <td>24.220243</td>\n",
       "      <td>23.381692</td>\n",
       "      <td>26.030189</td>\n",
       "      <td>...</td>\n",
       "      <td>3</td>\n",
       "      <td>0</td>\n",
       "      <td>0</td>\n",
       "      <td>48.794034</td>\n",
       "      <td>50.651119</td>\n",
       "      <td>47.032704</td>\n",
       "      <td>47.466669</td>\n",
       "      <td>28.166802</td>\n",
       "      <td>25.772165</td>\n",
       "      <td>1.11</td>\n",
       "    </tr>\n",
       "    <tr>\n",
       "      <th>16</th>\n",
       "      <td>23.803000</td>\n",
       "      <td>22.230446</td>\n",
       "      <td>23.217017</td>\n",
       "      <td>24.155424</td>\n",
       "      <td>27.953242</td>\n",
       "      <td>34.929313</td>\n",
       "      <td>24.180783</td>\n",
       "      <td>22.662530</td>\n",
       "      <td>23.393892</td>\n",
       "      <td>24.046270</td>\n",
       "      <td>...</td>\n",
       "      <td>3</td>\n",
       "      <td>1</td>\n",
       "      <td>0</td>\n",
       "      <td>55.869630</td>\n",
       "      <td>54.938885</td>\n",
       "      <td>58.815938</td>\n",
       "      <td>49.106260</td>\n",
       "      <td>43.130925</td>\n",
       "      <td>24.304271</td>\n",
       "      <td>0.93</td>\n",
       "    </tr>\n",
       "  </tbody>\n",
       "</table>\n",
       "<p>10 rows × 97 columns</p>\n",
       "</div>"
      ],
      "text/plain": [
       "      stl1_11    stl1_12     stl1_1     stl1_2     stl1_3     stl1_4  \\\n",
       "6   26.067902  22.926133  22.322573  25.399277  31.695860  35.902315   \n",
       "7   25.871806  23.084699  23.027444  26.084324  30.660893  34.803107   \n",
       "8   24.016368  22.381669  23.377221  27.492971  27.671280  34.457169   \n",
       "9   25.500651  23.782685  23.525030  26.419278  30.420838  35.321209   \n",
       "10  24.814927  23.620362  23.411051  24.158815  30.845634  34.883407   \n",
       "11  25.129316  24.066362  24.774233  27.564231  31.468461  35.047425   \n",
       "13  26.348058  22.136230  21.733105  25.953501  30.329466  34.411148   \n",
       "14  26.277706  23.540111  22.615088  25.790195  29.432515  35.365522   \n",
       "15  24.715917  23.873106  23.142761  26.328623  30.734187  34.762734   \n",
       "16  23.803000  22.230446  23.217017  24.155424  27.953242  34.929313   \n",
       "\n",
       "      stl2_11    stl2_12     stl2_1     stl2_2  ...  countrain_2  countrain_3  \\\n",
       "6   26.239048  23.603049  22.549155  25.033027  ...            0            0   \n",
       "7   26.151689  23.526099  23.429477  25.635279  ...            1            2   \n",
       "8   24.428738  22.965790  23.488667  26.856390  ...            0            3   \n",
       "9   25.768721  24.230379  23.678202  26.199659  ...            0            0   \n",
       "10  25.285390  23.891198  23.793144  24.006996  ...            0            0   \n",
       "11  25.381448  24.438822  24.683100  27.174582  ...            0            0   \n",
       "13  26.572674  22.914084  22.012604  25.684578  ...            0            0   \n",
       "14  26.495670  24.070370  22.975359  25.516489  ...            0            0   \n",
       "15  25.060666  24.220243  23.381692  26.030189  ...            3            0   \n",
       "16  24.180783  22.662530  23.393892  24.046270  ...            3            1   \n",
       "\n",
       "    countrain_4      rh_11      rh_12       rh_1       rh_2       rh_3  \\\n",
       "6             0  50.386171  48.913918  50.453466  35.246657  20.819689   \n",
       "7             0  47.861046  43.239681  47.364364  35.010391  26.392700   \n",
       "8             1  41.614175  44.771326  40.359641  30.004931  41.513569   \n",
       "9             0  58.643027  54.850803  48.212678  41.711799  28.996326   \n",
       "10            0  49.797599  52.456387  46.137357  33.326873  28.703663   \n",
       "11            0  49.951694  44.511355  47.994250  34.110869  24.524251   \n",
       "13            0  68.494533  53.851105  43.889803  41.714757  27.653531   \n",
       "14            0  46.638447  47.025874  49.436328  35.326016  21.981613   \n",
       "15            0  48.794034  50.651119  47.032704  47.466669  28.166802   \n",
       "16            0  55.869630  54.938885  58.815938  49.106260  43.130925   \n",
       "\n",
       "         rh_4  Yield(Tonnes/Hectare)  \n",
       "6   24.287291                   1.14  \n",
       "7   17.331910                   1.00  \n",
       "8   24.230550                   1.02  \n",
       "9   23.143729                   1.00  \n",
       "10  21.854922                   0.76  \n",
       "11  18.957647                   0.83  \n",
       "13  26.195974                   0.90  \n",
       "14  22.616386                   1.12  \n",
       "15  25.772165                   1.11  \n",
       "16  24.304271                   0.93  \n",
       "\n",
       "[10 rows x 97 columns]"
      ]
     },
     "execution_count": 19,
     "metadata": {},
     "output_type": "execute_result"
    }
   ],
   "source": [
    "df.head(10)"
   ]
  },
  {
   "cell_type": "code",
   "execution_count": 20,
   "metadata": {},
   "outputs": [
    {
     "data": {
      "text/plain": [
       "(989, 97)"
      ]
     },
     "execution_count": 20,
     "metadata": {},
     "output_type": "execute_result"
    }
   ],
   "source": [
    "df.shape"
   ]
  },
  {
   "cell_type": "code",
   "execution_count": 21,
   "metadata": {},
   "outputs": [],
   "source": [
    "# cat_cols = ['DistrictName', 'year']\n",
    "# # Label encode categorical columns\n",
    "# encoder = LabelEncoder()\n",
    "# df[cat_cols] = df[cat_cols].apply(encoder.fit_transform)"
   ]
  },
  {
   "cell_type": "code",
   "execution_count": 22,
   "metadata": {},
   "outputs": [
    {
     "data": {
      "text/html": [
       "<div>\n",
       "<style scoped>\n",
       "    .dataframe tbody tr th:only-of-type {\n",
       "        vertical-align: middle;\n",
       "    }\n",
       "\n",
       "    .dataframe tbody tr th {\n",
       "        vertical-align: top;\n",
       "    }\n",
       "\n",
       "    .dataframe thead th {\n",
       "        text-align: right;\n",
       "    }\n",
       "</style>\n",
       "<table border=\"1\" class=\"dataframe\">\n",
       "  <thead>\n",
       "    <tr style=\"text-align: right;\">\n",
       "      <th></th>\n",
       "      <th>stl1_11</th>\n",
       "      <th>stl1_12</th>\n",
       "      <th>stl1_1</th>\n",
       "      <th>stl1_2</th>\n",
       "      <th>stl1_3</th>\n",
       "      <th>stl1_4</th>\n",
       "      <th>stl2_11</th>\n",
       "      <th>stl2_12</th>\n",
       "      <th>stl2_1</th>\n",
       "      <th>stl2_2</th>\n",
       "      <th>...</th>\n",
       "      <th>countrain_2</th>\n",
       "      <th>countrain_3</th>\n",
       "      <th>countrain_4</th>\n",
       "      <th>rh_11</th>\n",
       "      <th>rh_12</th>\n",
       "      <th>rh_1</th>\n",
       "      <th>rh_2</th>\n",
       "      <th>rh_3</th>\n",
       "      <th>rh_4</th>\n",
       "      <th>Yield(Tonnes/Hectare)</th>\n",
       "    </tr>\n",
       "  </thead>\n",
       "  <tbody>\n",
       "    <tr>\n",
       "      <th>6</th>\n",
       "      <td>26.067902</td>\n",
       "      <td>22.926133</td>\n",
       "      <td>22.322573</td>\n",
       "      <td>25.399277</td>\n",
       "      <td>31.695860</td>\n",
       "      <td>35.902315</td>\n",
       "      <td>26.239048</td>\n",
       "      <td>23.603049</td>\n",
       "      <td>22.549155</td>\n",
       "      <td>25.033027</td>\n",
       "      <td>...</td>\n",
       "      <td>0</td>\n",
       "      <td>0</td>\n",
       "      <td>0</td>\n",
       "      <td>50.386171</td>\n",
       "      <td>48.913918</td>\n",
       "      <td>50.453466</td>\n",
       "      <td>35.246657</td>\n",
       "      <td>20.819689</td>\n",
       "      <td>24.287291</td>\n",
       "      <td>1.14</td>\n",
       "    </tr>\n",
       "    <tr>\n",
       "      <th>7</th>\n",
       "      <td>25.871806</td>\n",
       "      <td>23.084699</td>\n",
       "      <td>23.027444</td>\n",
       "      <td>26.084324</td>\n",
       "      <td>30.660893</td>\n",
       "      <td>34.803107</td>\n",
       "      <td>26.151689</td>\n",
       "      <td>23.526099</td>\n",
       "      <td>23.429477</td>\n",
       "      <td>25.635279</td>\n",
       "      <td>...</td>\n",
       "      <td>1</td>\n",
       "      <td>2</td>\n",
       "      <td>0</td>\n",
       "      <td>47.861046</td>\n",
       "      <td>43.239681</td>\n",
       "      <td>47.364364</td>\n",
       "      <td>35.010391</td>\n",
       "      <td>26.392700</td>\n",
       "      <td>17.331910</td>\n",
       "      <td>1.00</td>\n",
       "    </tr>\n",
       "    <tr>\n",
       "      <th>8</th>\n",
       "      <td>24.016368</td>\n",
       "      <td>22.381669</td>\n",
       "      <td>23.377221</td>\n",
       "      <td>27.492971</td>\n",
       "      <td>27.671280</td>\n",
       "      <td>34.457169</td>\n",
       "      <td>24.428738</td>\n",
       "      <td>22.965790</td>\n",
       "      <td>23.488667</td>\n",
       "      <td>26.856390</td>\n",
       "      <td>...</td>\n",
       "      <td>0</td>\n",
       "      <td>3</td>\n",
       "      <td>1</td>\n",
       "      <td>41.614175</td>\n",
       "      <td>44.771326</td>\n",
       "      <td>40.359641</td>\n",
       "      <td>30.004931</td>\n",
       "      <td>41.513569</td>\n",
       "      <td>24.230550</td>\n",
       "      <td>1.02</td>\n",
       "    </tr>\n",
       "    <tr>\n",
       "      <th>9</th>\n",
       "      <td>25.500651</td>\n",
       "      <td>23.782685</td>\n",
       "      <td>23.525030</td>\n",
       "      <td>26.419278</td>\n",
       "      <td>30.420838</td>\n",
       "      <td>35.321209</td>\n",
       "      <td>25.768721</td>\n",
       "      <td>24.230379</td>\n",
       "      <td>23.678202</td>\n",
       "      <td>26.199659</td>\n",
       "      <td>...</td>\n",
       "      <td>0</td>\n",
       "      <td>0</td>\n",
       "      <td>0</td>\n",
       "      <td>58.643027</td>\n",
       "      <td>54.850803</td>\n",
       "      <td>48.212678</td>\n",
       "      <td>41.711799</td>\n",
       "      <td>28.996326</td>\n",
       "      <td>23.143729</td>\n",
       "      <td>1.00</td>\n",
       "    </tr>\n",
       "    <tr>\n",
       "      <th>10</th>\n",
       "      <td>24.814927</td>\n",
       "      <td>23.620362</td>\n",
       "      <td>23.411051</td>\n",
       "      <td>24.158815</td>\n",
       "      <td>30.845634</td>\n",
       "      <td>34.883407</td>\n",
       "      <td>25.285390</td>\n",
       "      <td>23.891198</td>\n",
       "      <td>23.793144</td>\n",
       "      <td>24.006996</td>\n",
       "      <td>...</td>\n",
       "      <td>0</td>\n",
       "      <td>0</td>\n",
       "      <td>0</td>\n",
       "      <td>49.797599</td>\n",
       "      <td>52.456387</td>\n",
       "      <td>46.137357</td>\n",
       "      <td>33.326873</td>\n",
       "      <td>28.703663</td>\n",
       "      <td>21.854922</td>\n",
       "      <td>0.76</td>\n",
       "    </tr>\n",
       "  </tbody>\n",
       "</table>\n",
       "<p>5 rows × 97 columns</p>\n",
       "</div>"
      ],
      "text/plain": [
       "      stl1_11    stl1_12     stl1_1     stl1_2     stl1_3     stl1_4  \\\n",
       "6   26.067902  22.926133  22.322573  25.399277  31.695860  35.902315   \n",
       "7   25.871806  23.084699  23.027444  26.084324  30.660893  34.803107   \n",
       "8   24.016368  22.381669  23.377221  27.492971  27.671280  34.457169   \n",
       "9   25.500651  23.782685  23.525030  26.419278  30.420838  35.321209   \n",
       "10  24.814927  23.620362  23.411051  24.158815  30.845634  34.883407   \n",
       "\n",
       "      stl2_11    stl2_12     stl2_1     stl2_2  ...  countrain_2  countrain_3  \\\n",
       "6   26.239048  23.603049  22.549155  25.033027  ...            0            0   \n",
       "7   26.151689  23.526099  23.429477  25.635279  ...            1            2   \n",
       "8   24.428738  22.965790  23.488667  26.856390  ...            0            3   \n",
       "9   25.768721  24.230379  23.678202  26.199659  ...            0            0   \n",
       "10  25.285390  23.891198  23.793144  24.006996  ...            0            0   \n",
       "\n",
       "    countrain_4      rh_11      rh_12       rh_1       rh_2       rh_3  \\\n",
       "6             0  50.386171  48.913918  50.453466  35.246657  20.819689   \n",
       "7             0  47.861046  43.239681  47.364364  35.010391  26.392700   \n",
       "8             1  41.614175  44.771326  40.359641  30.004931  41.513569   \n",
       "9             0  58.643027  54.850803  48.212678  41.711799  28.996326   \n",
       "10            0  49.797599  52.456387  46.137357  33.326873  28.703663   \n",
       "\n",
       "         rh_4  Yield(Tonnes/Hectare)  \n",
       "6   24.287291                   1.14  \n",
       "7   17.331910                   1.00  \n",
       "8   24.230550                   1.02  \n",
       "9   23.143729                   1.00  \n",
       "10  21.854922                   0.76  \n",
       "\n",
       "[5 rows x 97 columns]"
      ]
     },
     "execution_count": 22,
     "metadata": {},
     "output_type": "execute_result"
    }
   ],
   "source": [
    "df.head()"
   ]
  },
  {
   "cell_type": "code",
   "execution_count": 23,
   "metadata": {},
   "outputs": [
    {
     "data": {
      "text/plain": [
       "(989, 97)"
      ]
     },
     "execution_count": 23,
     "metadata": {},
     "output_type": "execute_result"
    }
   ],
   "source": [
    "df.shape"
   ]
  },
  {
   "cell_type": "code",
   "execution_count": 24,
   "metadata": {},
   "outputs": [
    {
     "data": {
      "text/plain": [
       "Index(['stl1_11', 'stl1_12', 'stl1_1', 'stl1_2', 'stl1_3', 'stl1_4', 'stl2_11',\n",
       "       'stl2_12', 'stl2_1', 'stl2_2', 'stl2_3', 'stl2_4', 'stl3_11', 'stl3_12',\n",
       "       'stl3_1', 'stl3_2', 'stl3_3', 'stl3_4', 'stl4_11', 'stl4_12', 'stl4_1',\n",
       "       'stl4_2', 'stl4_3', 'stl4_4', 'swvl1_11', 'swvl1_12', 'swvl1_1',\n",
       "       'swvl1_2', 'swvl1_3', 'swvl1_4', 'swvl2_11', 'swvl2_12', 'swvl2_1',\n",
       "       'swvl2_2', 'swvl2_3', 'swvl2_4', 'swvl3_11', 'swvl3_12', 'swvl3_1',\n",
       "       'swvl3_2', 'swvl3_3', 'swvl3_4', 'swvl4_11', 'swvl4_12', 'swvl4_1',\n",
       "       'swvl4_2', 'swvl4_3', 'swvl4_4', 'ssr_12', 'ssr_11', 'ssr_1', 'ssr_2',\n",
       "       'ssr_3', 'ssr_4', 'u10_11', 'u10_12', 'u10_1', 'u10_2', 'u10_3',\n",
       "       'u10_4', 'v10_11', 'v10_12', 'v10_1', 'v10_2', 'v10_3', 'v10_4',\n",
       "       'tmax_11', 'tmax_12', 'tmax_1', 'tmax_2', 'tmax_3', 'tmax_4', 'tmin_11',\n",
       "       'tmin_12', 'tmin_1', 'tmin_2', 'tmin_3', 'tmin_4', 'rain_11', 'rain_12',\n",
       "       'rain_1', 'rain_2', 'rain_3', 'rain_4', 'countrain_11', 'countrain_12',\n",
       "       'countrain_1', 'countrain_2', 'countrain_3', 'countrain_4', 'rh_11',\n",
       "       'rh_12', 'rh_1', 'rh_2', 'rh_3', 'rh_4', 'Yield(Tonnes/Hectare)'],\n",
       "      dtype='object')"
      ]
     },
     "execution_count": 24,
     "metadata": {},
     "output_type": "execute_result"
    }
   ],
   "source": [
    "df.columns"
   ]
  },
  {
   "cell_type": "code",
   "execution_count": 25,
   "metadata": {},
   "outputs": [],
   "source": [
    "#df = df[['countrain_11', 'countrain_12', 'countrain_1','countrain_2', 'countrain_3', 'countrain_4', 'rain_11', 'rain_12','rain_1', 'rain_2', 'rain_3', 'rain_4','tmax_11', 'tmax_12', 'tmax_1','tmax_2', 'tmax_3', 'tmax_4', 'tmin_11', 'tmin_12', 'tmin_1', 'tmin_2','tmin_3', 'tmin_4','Yield(Tonnes/Hectare)']]"
   ]
  },
  {
   "cell_type": "code",
   "execution_count": 26,
   "metadata": {},
   "outputs": [],
   "source": [
    "#df = df.drop(columns=['countrain_11', 'countrain_12', 'countrain_1','countrain_2', 'countrain_3', 'countrain_4', 'rain_11', 'rain_12','rain_1', 'rain_2', 'rain_3', 'rain_4','tmax_11', 'tmax_12', 'tmax_1','tmax_2', 'tmax_3', 'tmax_4', 'tmin_11', 'tmin_12', 'tmin_1', 'tmin_2','tmin_3', 'tmin_4'])"
   ]
  },
  {
   "cell_type": "code",
   "execution_count": 27,
   "metadata": {},
   "outputs": [
    {
     "data": {
      "text/plain": [
       "(989, 97)"
      ]
     },
     "execution_count": 27,
     "metadata": {},
     "output_type": "execute_result"
    }
   ],
   "source": [
    "df.shape"
   ]
  },
  {
   "cell_type": "code",
   "execution_count": 28,
   "metadata": {},
   "outputs": [],
   "source": [
    "X = df.drop('Yield(Tonnes/Hectare)', axis=1)  # Features\n",
    "y = df['Yield(Tonnes/Hectare)']  # Target variable\n",
    "\n",
    "# Split the dataset into training and testing sets\n",
    "#X_train, X_test, y_train, y_test = train_test_split(X, y, test_size=0.2, random_state=42)"
   ]
  },
  {
   "cell_type": "code",
   "execution_count": 29,
   "metadata": {},
   "outputs": [],
   "source": [
    "# X = X.drop(columns=['stl2','stl3'],axis=1)"
   ]
  },
  {
   "cell_type": "code",
   "execution_count": 30,
   "metadata": {},
   "outputs": [
    {
     "name": "stdout",
     "output_type": "stream",
     "text": [
      "Linear Regression - R^2 Score (Train) : 0.56, R^2 Score (Test): 0.43\n",
      "[0.5267002390306259, 0.48052433867157285, 0.31980648875690376, 0.4303226240652096, 0.2713214122575962, 0.47928923283801894, 0.4956902518003099, 0.327031469910127, 0.5418175681027417, 0.43144701597983914]\n",
      "Ridge Regression - R^2 Score (Train) : 0.51, R^2 Score (Test): 0.41\n",
      "[0.3510272803923442, 0.5103031058121477, 0.4456403928929453, 0.41323414566671346, 0.41405928850955187, 0.537329442058504, 0.20188021350381324, 0.44600205754483035, 0.3409820504533627, 0.44440672822461014]\n",
      "XGB Regressor - R^2 Score (Train) : 1.00, R^2 Score (Test): 0.50\n",
      "[0.5372561567613502, 0.48746242518324634, 0.5418832858177519, 0.429346001787161, 0.5129633559443547, 0.4490622190380912, 0.48431260092052764, 0.46831355504895666, 0.4861691274188633, 0.5701519646505058]\n",
      "Lasso Regression - R^2 Score (Train) : 0.04, R^2 Score (Test): -0.00\n",
      "[-0.027991268330911367, 0.020660415733968707, 0.0035298708561724013, -0.0013327405559426797, -0.008012953473680362, -0.03293748255241824, 0.0751020631391075, 0.02522394547620843, -0.03757834576576902, -0.054070164172362656]\n",
      "Decision Tree - R^2 Score (Train) : 1.00, R^2 Score (Test): -0.01\n",
      "[0.12376589568797414, -0.12883403283453698, -0.17597774017785195, 0.1944110669189607, -0.3223746610060507, 0.143237986045041, 0.14854347748195607, -0.12501837950465555, -0.31474251478352966, 0.3364475177639974]\n",
      "Gradient Boosting - R^2 Score (Train) : 0.82, R^2 Score (Test): 0.49\n",
      "[0.4176307330314627, 0.45903209168505854, 0.5400417017347636, 0.6102278239526696, 0.40454629482444027, 0.5018663416274598, 0.35403430653475965, 0.530627269578863, 0.5517992104149263, 0.5628796449223378]\n",
      "Random Forest - R^2 Score (Train) : 0.93, R^2 Score (Test): 0.49\n",
      "[0.5783901360205645, 0.37583879853217406, 0.5791578117227902, 0.49452472361407174, 0.4304071590672257, 0.46969030250810484, 0.5781054780057121, 0.5719839226605307, 0.4505584775130236, 0.3752356822289066]\n",
      "Support Vector Machine - R^2 Score (Train) : 0.03, R^2 Score (Test): 0.01\n",
      "[0.10312970642181785, -0.029010607565220115, 0.03542567544604536, 0.009115268572797208, -0.015054964180996055, 0.03230530496024686, 0.030833064702559754, 0.006749131244462303, 0.011779634699674024, -0.1185796258585583]\n"
     ]
    }
   ],
   "source": [
    "# Import necessary libraries\n",
    "import numpy as np\n",
    "import pandas as pd\n",
    "from sklearn.model_selection import train_test_split\n",
    "from sklearn.linear_model import LinearRegression, Ridge, Lasso\n",
    "from sklearn.tree import DecisionTreeRegressor\n",
    "from sklearn.ensemble import RandomForestRegressor, GradientBoostingRegressor\n",
    "from sklearn.svm import SVR\n",
    "import xgboost as xgb\n",
    "from sklearn.metrics import mean_squared_error, r2_score\n",
    "from sklearn.model_selection import KFold\n",
    "\n",
    "\n",
    "\n",
    "\n",
    "# Models\n",
    "models = {\n",
    "    \"Linear Regression\": LinearRegression(),\n",
    "    \"Ridge Regression\": Ridge(),\n",
    "    \"XGB Regressor\": xgb.XGBRegressor(objective='reg:squarederror', random_state=42),\n",
    "    \"Lasso Regression\": Lasso(),\n",
    "    \"Decision Tree\": DecisionTreeRegressor(),\n",
    "    \"Gradient Boosting\": GradientBoostingRegressor(),\n",
    "    \"Random Forest\": RandomForestRegressor(),\n",
    "    \"Support Vector Machine\": SVR()\n",
    "}\n",
    "\n",
    "# Train and evaluate each model\n",
    "for name, model in models.items():\n",
    "\n",
    "    mse_scores_test = []\n",
    "    mse_scores_train = []\n",
    "    r2_scores_test = []\n",
    "    r2_scores_train = []\n",
    "    # Create KFold object\n",
    "    k = 10\n",
    "    kfold = KFold(n_splits=k, shuffle=True)\n",
    "\n",
    "    for train_index, test_index in kfold.split(X):\n",
    "        X_train, X_test = X.iloc[train_index], X.iloc[test_index]\n",
    "        y_train, y_test = y.iloc[train_index], y.iloc[test_index]\n",
    "        model.fit(X_train, y_train)\n",
    "        y_pred_test = model.predict(X_test)\n",
    "        y_pred_train = model.predict(X_train)\n",
    "        mse_test = mean_squared_error(y_test, y_pred_test)\n",
    "        mse_train = mean_squared_error(y_train, y_pred_train)\n",
    "        r2_test = r2_score(y_test, y_pred_test)\n",
    "        r2_train = r2_score(y_train, y_pred_train)\n",
    "        mse_scores_test.append(mse_test)\n",
    "        mse_scores_train.append(mse_train)\n",
    "        r2_scores_test.append(r2_test)\n",
    "        r2_scores_train.append(r2_train)\n",
    "\n",
    "    average_mse_test = np.mean(mse_scores_test)\n",
    "    average_mse_train = np.mean(mse_scores_train)\n",
    "    average_r2_test = np.mean(r2_scores_test)\n",
    "    average_r2_train = np.mean(r2_scores_train)  \n",
    "\n",
    "    print(f'{name} - R^2 Score (Train) : {average_r2_train:.2f}, R^2 Score (Test): {average_r2_test:.2f}')\n",
    "    print(r2_scores_test)\n"
   ]
  },
  {
   "cell_type": "code",
   "execution_count": 31,
   "metadata": {},
   "outputs": [],
   "source": [
    "X_train, X_test, y_train, y_test = train_test_split(X, y, test_size=0.2, random_state=42)"
   ]
  },
  {
   "cell_type": "code",
   "execution_count": 32,
   "metadata": {},
   "outputs": [],
   "source": [
    "# import pandas as pd\n",
    "\n",
    "# # Assuming X_train is your DataFrame\n",
    "# # X_train = pd.DataFrame(...)\n",
    "\n",
    "# corr_matrix = X_train.corr()\n",
    "\n",
    "# # Get the column names of the DataFrame\n",
    "# columns = corr_matrix.columns\n",
    "\n",
    "# # Create an empty list to keep track of columns to drop\n",
    "# columns_to_drop = []\n",
    "# # Create a dictionary to store highly correlated features\n",
    "# highly_correlated_features = {}\n",
    "\n",
    "# # Loop over the columns\n",
    "# for i in range(len(columns)):\n",
    "#     for j in range(0, len(columns)):  # Loop only over the upper triangle to avoid duplicate comparisons\n",
    "#         # Access the cell of the DataFrame\n",
    "#         if abs(corr_matrix.iloc[i, j]) > 0.90:\n",
    "#             # Sort correlated features based on correlation coefficient\n",
    "#             sorted_features = sorted([(corr_matrix.iloc[i, j], columns[j]), (corr_matrix.iloc[i, i], columns[i])],\n",
    "#                                      key=lambda x: abs(x[0]), reverse=True)\n",
    "#             # Add the column to drop\n",
    "#             columns_to_drop.append(sorted_features[1][1])  # Add the one with lower correlation\n",
    "#             # Update the dictionary with highly correlated features\n",
    "#             if sorted_features[0][1] in highly_correlated_features:\n",
    "#                 highly_correlated_features[sorted_features[0][1]].append(sorted_features[1][1])\n",
    "#             else:\n",
    "#                 highly_correlated_features[sorted_features[0][1]] = [sorted_features[1][1]]\n",
    "\n",
    "# print(len(columns_to_drop))\n"
   ]
  },
  {
   "cell_type": "code",
   "execution_count": 33,
   "metadata": {},
   "outputs": [],
   "source": [
    "# import seaborn as sns\n",
    "\n",
    "# corr_matrix = X_train.corr()\n",
    "\n",
    "# # Get the column names of the DataFrame\n",
    "# columns = corr_matrix.columns\n",
    "\n",
    "# # Define a function to sort correlations in descending order (absolute value)\n",
    "# def sort_correlations(series):\n",
    "#   # Take the absolute value of the series\n",
    "#   abs_series = series.abs()\n",
    "#   # Sort the absolute values in descending order\n",
    "#   return abs_series.sort_values(ascending=False)\n",
    "\n",
    "# # Sort each column of the correlation matrix\n",
    "# sorted_corr_matrix = corr_matrix.apply(sort_correlations)\n",
    "\n",
    "# # Create an empty list to keep track of columns to drop\n",
    "# columns_to_drop = []\n",
    "# # Create a dictionary to store highly correlated features\n",
    "# highly_correlated_features = {}\n",
    "\n",
    "# # Loop over the sorted correlation matrix\n",
    "# for i in range(len(sorted_corr_matrix.columns)):\n",
    "#   # Skip the diagonal (correlation with self)\n",
    "#   if i == sorted_corr_matrix.columns[i]:\n",
    "#     continue\n",
    "#   # Get the current column and sorted correlations\n",
    "#   current_column = sorted_corr_matrix.columns[i]\n",
    "#   sorted_correlations = sorted_corr_matrix.loc[current_column]\n",
    "  \n",
    "#   # Identify highly correlated features (> 0.90) excluding the current column\n",
    "#   highly_correlated_features[current_column] = list(sorted_correlations[sorted_correlations > 0.90].index.difference([current_column]))\n",
    "\n",
    "#   # Update columns to drop based on correlations with the current column\n",
    "#   columns_to_drop.extend(highly_correlated_features[current_column])\n",
    "\n",
    "# # Remove duplicates from columns to drop\n",
    "# columns_to_drop = list(set(columns_to_drop))\n",
    "\n",
    "# print(len(columns_to_drop))"
   ]
  },
  {
   "cell_type": "code",
   "execution_count": 34,
   "metadata": {},
   "outputs": [
    {
     "name": "stdout",
     "output_type": "stream",
     "text": [
      "318\n"
     ]
    }
   ],
   "source": [
    "import seaborn as sns\n",
    "corr_matrix = X_train.corr()\n",
    "\n",
    "# Get the column names of the DataFrame\n",
    "columns = corr_matrix.columns\n",
    "\n",
    "# Create an empty list to keep track of columns to drop\n",
    "columns_to_drop = []\n",
    "# Create a dictionary to store highly correlated features\n",
    "highly_correlated_features = {}\n",
    "\n",
    "# Loop over the columns\n",
    "for i in range(len(columns)):\n",
    "    for j in range(0, len(columns)):\n",
    "        # Access the cell of the DataFrame\n",
    "        if i != j and corr_matrix.iloc[i, j] > 0.90:\n",
    "            # Add the column to drop\n",
    "            columns_to_drop.append(columns[j])\n",
    "            # Update the dictionary with highly correlated features\n",
    "            if columns[i] in highly_correlated_features:\n",
    "                highly_correlated_features[columns[i]].append((columns[j], corr_matrix.iloc[i, j].round(4)))\n",
    "            else:\n",
    "                highly_correlated_features[columns[i]] = [(columns[j], corr_matrix.iloc[i, j].round(4))]\n",
    "\n",
    "\n",
    "print(len(columns_to_drop))"
   ]
  },
  {
   "cell_type": "code",
   "execution_count": 35,
   "metadata": {},
   "outputs": [
    {
     "name": "stdout",
     "output_type": "stream",
     "text": [
      "['stl2_11', 'stl3_11', 'stl2_12', 'stl3_12', 'stl3_1', 'stl2_1', 'stl3_1', 'stl3_2', 'stl2_2', 'stl3_2', 'stl2_3', 'stl3_3', 'stl2_4', 'stl3_4', 'stl1_11', 'stl3_11', 'stl4_12', 'stl4_1', 'stl1_12', 'stl3_12', 'stl3_1', 'stl4_2', 'stl1_1', 'stl3_1', 'stl3_2', 'stl4_3', 'stl1_2', 'stl3_2', 'stl1_3', 'stl3_3', 'stl3_4', 'stl4_4', 'stl1_4', 'stl3_4', 'stl1_11', 'stl2_11', 'stl4_12', 'stl1_12', 'stl2_12', 'stl4_1', 'stl4_2', 'stl1_12', 'stl1_1', 'stl2_12', 'stl2_1', 'stl3_2', 'stl4_2', 'stl4_3', 'stl4_4', 'stl1_1', 'stl1_2', 'stl2_1', 'stl2_2', 'stl3_1', 'stl4_2', 'stl4_3', 'stl4_4', 'stl1_3', 'stl2_3', 'stl3_4', 'stl4_3', 'stl4_4', 'stl1_4', 'stl2_3', 'stl2_4', 'stl3_3', 'stl4_4', 'stl4_12', 'stl2_11', 'stl3_11', 'stl4_11', 'stl4_1', 'stl2_11', 'stl3_12', 'stl4_12', 'stl4_2', 'stl4_3', 'stl2_12', 'stl3_12', 'stl3_1', 'stl3_2', 'stl4_1', 'stl4_3', 'stl4_4', 'stl2_1', 'stl3_1', 'stl3_2', 'stl3_3', 'stl4_1', 'stl4_2', 'stl4_4', 'stl2_3', 'stl3_1', 'stl3_2', 'stl3_3', 'stl3_4', 'stl4_2', 'stl4_3', 'swvl2_11', 'swvl1_4', 'swvl2_12', 'swvl2_1', 'swvl2_4', 'swvl3_2', 'swvl3_3', 'swvl3_4', 'swvl2_1', 'swvl2_2', 'swvl1_4', 'swvl2_3', 'swvl1_12', 'swvl1_3', 'swvl2_12', 'swvl2_1', 'swvl2_3', 'swvl2_4', 'swvl3_2', 'swvl3_3', 'swvl3_4', 'swvl1_11', 'swvl2_12', 'swvl3_11', 'swvl3_12', 'swvl3_1', 'swvl1_12', 'swvl1_4', 'swvl2_11', 'swvl2_1', 'swvl2_4', 'swvl3_12', 'swvl3_1', 'swvl3_2', 'swvl3_3', 'swvl3_4', 'swvl4_3', 'swvl4_4', 'swvl1_12', 'swvl1_1', 'swvl1_4', 'swvl2_12', 'swvl2_3', 'swvl2_4', 'swvl3_1', 'swvl3_2', 'swvl3_3', 'swvl3_4', 'swvl1_2', 'swvl2_3', 'swvl2_4', 'swvl3_2', 'swvl3_3', 'swvl3_4', 'swvl1_3', 'swvl1_4', 'swvl2_1', 'swvl2_2', 'swvl2_4', 'swvl3_2', 'swvl3_3', 'swvl3_4', 'swvl1_12', 'swvl1_4', 'swvl2_12', 'swvl2_1', 'swvl2_2', 'swvl2_3', 'swvl3_1', 'swvl3_2', 'swvl3_3', 'swvl3_4', 'swvl4_4', 'swvl2_11', 'swvl3_12', 'swvl3_1', 'swvl3_2', 'swvl2_11', 'swvl2_12', 'swvl3_11', 'swvl3_1', 'swvl3_2', 'swvl3_3', 'swvl3_4', 'swvl4_11', 'swvl4_12', 'swvl4_1', 'swvl4_2', 'swvl4_3', 'swvl4_4', 'swvl2_11', 'swvl2_12', 'swvl2_1', 'swvl2_4', 'swvl3_11', 'swvl3_12', 'swvl3_2', 'swvl3_3', 'swvl3_4', 'swvl4_11', 'swvl4_12', 'swvl4_1', 'swvl4_2', 'swvl4_3', 'swvl4_4', 'swvl1_12', 'swvl1_4', 'swvl2_12', 'swvl2_1', 'swvl2_2', 'swvl2_3', 'swvl2_4', 'swvl3_11', 'swvl3_12', 'swvl3_1', 'swvl3_3', 'swvl3_4', 'swvl4_11', 'swvl4_12', 'swvl4_1', 'swvl4_2', 'swvl4_3', 'swvl4_4', 'swvl1_12', 'swvl1_4', 'swvl2_12', 'swvl2_1', 'swvl2_2', 'swvl2_3', 'swvl2_4', 'swvl3_12', 'swvl3_1', 'swvl3_2', 'swvl3_4', 'swvl4_12', 'swvl4_1', 'swvl4_2', 'swvl4_3', 'swvl4_4', 'swvl1_12', 'swvl1_4', 'swvl2_12', 'swvl2_1', 'swvl2_2', 'swvl2_3', 'swvl2_4', 'swvl3_12', 'swvl3_1', 'swvl3_2', 'swvl3_3', 'swvl4_1', 'swvl4_2', 'swvl4_3', 'swvl4_4', 'swvl3_12', 'swvl3_1', 'swvl3_2', 'swvl4_12', 'swvl4_1', 'swvl4_2', 'swvl4_3', 'swvl4_4', 'swvl3_12', 'swvl3_1', 'swvl3_2', 'swvl3_3', 'swvl4_11', 'swvl4_1', 'swvl4_2', 'swvl4_3', 'swvl4_4', 'swvl3_12', 'swvl3_1', 'swvl3_2', 'swvl3_3', 'swvl3_4', 'swvl4_11', 'swvl4_12', 'swvl4_2', 'swvl4_3', 'swvl4_4', 'swvl3_12', 'swvl3_1', 'swvl3_2', 'swvl3_3', 'swvl3_4', 'swvl4_11', 'swvl4_12', 'swvl4_1', 'swvl4_3', 'swvl4_4', 'swvl2_12', 'swvl3_12', 'swvl3_1', 'swvl3_2', 'swvl3_3', 'swvl3_4', 'swvl4_11', 'swvl4_12', 'swvl4_1', 'swvl4_2', 'swvl4_4', 'swvl2_12', 'swvl2_4', 'swvl3_12', 'swvl3_1', 'swvl3_2', 'swvl3_3', 'swvl3_4', 'swvl4_11', 'swvl4_12', 'swvl4_1', 'swvl4_2', 'swvl4_3', 'countrain_2', 'countrain_3', 'countrain_4', 'rain_2', 'rain_3', 'rain_4']\n"
     ]
    }
   ],
   "source": [
    "print(columns_to_drop)"
   ]
  },
  {
   "cell_type": "code",
   "execution_count": 36,
   "metadata": {},
   "outputs": [
    {
     "name": "stdout",
     "output_type": "stream",
     "text": [
      "Highly correlated features:\n",
      "stl1_11 : [('stl2_11', 0.9959), ('stl3_11', 0.9418)]\n",
      "stl1_12 : [('stl2_12', 0.9956), ('stl3_12', 0.9202), ('stl3_1', 0.9255)]\n",
      "stl1_1 : [('stl2_1', 0.9977), ('stl3_1', 0.9604), ('stl3_2', 0.912)]\n",
      "stl1_2 : [('stl2_2', 0.9975), ('stl3_2', 0.9604)]\n",
      "stl1_3 : [('stl2_3', 0.9956), ('stl3_3', 0.9426)]\n",
      "stl1_4 : [('stl2_4', 0.995), ('stl3_4', 0.9356)]\n",
      "stl2_11 : [('stl1_11', 0.9959), ('stl3_11', 0.9674), ('stl4_12', 0.913), ('stl4_1', 0.9003)]\n",
      "stl2_12 : [('stl1_12', 0.9956), ('stl3_12', 0.9521), ('stl3_1', 0.9207), ('stl4_2', 0.9175)]\n",
      "stl2_1 : [('stl1_1', 0.9977), ('stl3_1', 0.9758), ('stl3_2', 0.9118), ('stl4_3', 0.9031)]\n",
      "stl2_2 : [('stl1_2', 0.9975), ('stl3_2', 0.9773)]\n",
      "stl2_3 : [('stl1_3', 0.9956), ('stl3_3', 0.9691), ('stl3_4', 0.9076), ('stl4_4', 0.9178)]\n",
      "stl2_4 : [('stl1_4', 0.995), ('stl3_4', 0.9654)]\n",
      "stl3_11 : [('stl1_11', 0.9418), ('stl2_11', 0.9674), ('stl4_12', 0.9701)]\n",
      "stl3_12 : [('stl1_12', 0.9202), ('stl2_12', 0.9521), ('stl4_1', 0.9567), ('stl4_2', 0.9372)]\n",
      "stl3_1 : [('stl1_12', 0.9255), ('stl1_1', 0.9604), ('stl2_12', 0.9207), ('stl2_1', 0.9758), ('stl3_2', 0.9018), ('stl4_2', 0.9421), ('stl4_3', 0.9455), ('stl4_4', 0.9339)]\n",
      "stl3_2 : [('stl1_1', 0.912), ('stl1_2', 0.9604), ('stl2_1', 0.9118), ('stl2_2', 0.9773), ('stl3_1', 0.9018), ('stl4_2', 0.9035), ('stl4_3', 0.954), ('stl4_4', 0.9287)]\n",
      "stl3_3 : [('stl1_3', 0.9426), ('stl2_3', 0.9691), ('stl3_4', 0.9137), ('stl4_3', 0.9414), ('stl4_4', 0.973)]\n",
      "stl3_4 : [('stl1_4', 0.9356), ('stl2_3', 0.9076), ('stl2_4', 0.9654), ('stl3_3', 0.9137), ('stl4_4', 0.9411)]\n",
      "stl4_11 : [('stl4_12', 0.9264)]\n",
      "stl4_12 : [('stl2_11', 0.913), ('stl3_11', 0.9701), ('stl4_11', 0.9264), ('stl4_1', 0.9217)]\n",
      "stl4_1 : [('stl2_11', 0.9003), ('stl3_12', 0.9567), ('stl4_12', 0.9217), ('stl4_2', 0.9577), ('stl4_3', 0.9042)]\n",
      "stl4_2 : [('stl2_12', 0.9175), ('stl3_12', 0.9372), ('stl3_1', 0.9421), ('stl3_2', 0.9035), ('stl4_1', 0.9577), ('stl4_3', 0.981), ('stl4_4', 0.9578)]\n",
      "stl4_3 : [('stl2_1', 0.9031), ('stl3_1', 0.9455), ('stl3_2', 0.954), ('stl3_3', 0.9414), ('stl4_1', 0.9042), ('stl4_2', 0.981), ('stl4_4', 0.9865)]\n",
      "stl4_4 : [('stl2_3', 0.9178), ('stl3_1', 0.9339), ('stl3_2', 0.9287), ('stl3_3', 0.973), ('stl3_4', 0.9411), ('stl4_2', 0.9578), ('stl4_3', 0.9865)]\n",
      "swvl1_11 : [('swvl2_11', 0.9571)]\n",
      "swvl1_12 : [('swvl1_4', 0.9252), ('swvl2_12', 0.9646), ('swvl2_1', 0.9277), ('swvl2_4', 0.9225), ('swvl3_2', 0.9077), ('swvl3_3', 0.9102), ('swvl3_4', 0.9187)]\n",
      "swvl1_1 : [('swvl2_1', 0.9478)]\n",
      "swvl1_2 : [('swvl2_2', 0.9535)]\n",
      "swvl1_3 : [('swvl1_4', 0.9033), ('swvl2_3', 0.9709)]\n",
      "swvl1_4 : [('swvl1_12', 0.9252), ('swvl1_3', 0.9033), ('swvl2_12', 0.9147), ('swvl2_1', 0.9142), ('swvl2_3', 0.9333), ('swvl2_4', 0.9857), ('swvl3_2', 0.9012), ('swvl3_3', 0.9271), ('swvl3_4', 0.955)]\n",
      "swvl2_11 : [('swvl1_11', 0.9571), ('swvl2_12', 0.9124), ('swvl3_11', 0.9341), ('swvl3_12', 0.9454), ('swvl3_1', 0.9208)]\n",
      "swvl2_12 : [('swvl1_12', 0.9646), ('swvl1_4', 0.9147), ('swvl2_11', 0.9124), ('swvl2_1', 0.9241), ('swvl2_4', 0.9372), ('swvl3_12', 0.9426), ('swvl3_1', 0.961), ('swvl3_2', 0.9611), ('swvl3_3', 0.9571), ('swvl3_4', 0.9576), ('swvl4_3', 0.9062), ('swvl4_4', 0.916)]\n",
      "swvl2_1 : [('swvl1_12', 0.9277), ('swvl1_1', 0.9478), ('swvl1_4', 0.9142), ('swvl2_12', 0.9241), ('swvl2_3', 0.9207), ('swvl2_4', 0.9226), ('swvl3_1', 0.9084), ('swvl3_2', 0.9347), ('swvl3_3', 0.9395), ('swvl3_4', 0.9349)]\n",
      "swvl2_2 : [('swvl1_2', 0.9535), ('swvl2_3', 0.9083), ('swvl2_4', 0.9071), ('swvl3_2', 0.9105), ('swvl3_3', 0.9267), ('swvl3_4', 0.919)]\n",
      "swvl2_3 : [('swvl1_3', 0.9709), ('swvl1_4', 0.9333), ('swvl2_1', 0.9207), ('swvl2_2', 0.9083), ('swvl2_4', 0.9449), ('swvl3_2', 0.9054), ('swvl3_3', 0.9435), ('swvl3_4', 0.9459)]\n",
      "swvl2_4 : [('swvl1_12', 0.9225), ('swvl1_4', 0.9857), ('swvl2_12', 0.9372), ('swvl2_1', 0.9226), ('swvl2_2', 0.9071), ('swvl2_3', 0.9449), ('swvl3_1', 0.9038), ('swvl3_2', 0.9297), ('swvl3_3', 0.9534), ('swvl3_4', 0.9795), ('swvl4_4', 0.9065)]\n",
      "swvl3_11 : [('swvl2_11', 0.9341), ('swvl3_12', 0.983), ('swvl3_1', 0.9555), ('swvl3_2', 0.9226)]\n",
      "swvl3_12 : [('swvl2_11', 0.9454), ('swvl2_12', 0.9426), ('swvl3_11', 0.983), ('swvl3_1', 0.9898), ('swvl3_2', 0.9681), ('swvl3_3', 0.9424), ('swvl3_4', 0.92), ('swvl4_11', 0.9048), ('swvl4_12', 0.921), ('swvl4_1', 0.9297), ('swvl4_2', 0.9349), ('swvl4_3', 0.9386), ('swvl4_4', 0.941)]\n",
      "swvl3_1 : [('swvl2_11', 0.9208), ('swvl2_12', 0.961), ('swvl2_1', 0.9084), ('swvl2_4', 0.9038), ('swvl3_11', 0.9555), ('swvl3_12', 0.9898), ('swvl3_2', 0.9918), ('swvl3_3', 0.9741), ('swvl3_4', 0.9564), ('swvl4_11', 0.9199), ('swvl4_12', 0.9361), ('swvl4_1', 0.9465), ('swvl4_2', 0.9539), ('swvl4_3', 0.9596), ('swvl4_4', 0.9643)]\n",
      "swvl3_2 : [('swvl1_12', 0.9077), ('swvl1_4', 0.9012), ('swvl2_12', 0.9611), ('swvl2_1', 0.9347), ('swvl2_2', 0.9105), ('swvl2_3', 0.9054), ('swvl2_4', 0.9297), ('swvl3_11', 0.9226), ('swvl3_12', 0.9681), ('swvl3_1', 0.9918), ('swvl3_3', 0.9911), ('swvl3_4', 0.9762), ('swvl4_11', 0.9138), ('swvl4_12', 0.9308), ('swvl4_1', 0.9429), ('swvl4_2', 0.9527), ('swvl4_3', 0.9608), ('swvl4_4', 0.9675)]\n",
      "swvl3_3 : [('swvl1_12', 0.9102), ('swvl1_4', 0.9271), ('swvl2_12', 0.9571), ('swvl2_1', 0.9395), ('swvl2_2', 0.9267), ('swvl2_3', 0.9435), ('swvl2_4', 0.9534), ('swvl3_12', 0.9424), ('swvl3_1', 0.9741), ('swvl3_2', 0.9911), ('swvl3_4', 0.9916), ('swvl4_12', 0.9141), ('swvl4_1', 0.9278), ('swvl4_2', 0.9394), ('swvl4_3', 0.9502), ('swvl4_4', 0.9598)]\n",
      "swvl3_4 : [('swvl1_12', 0.9187), ('swvl1_4', 0.955), ('swvl2_12', 0.9576), ('swvl2_1', 0.9349), ('swvl2_2', 0.919), ('swvl2_3', 0.9459), ('swvl2_4', 0.9795), ('swvl3_12', 0.92), ('swvl3_1', 0.9564), ('swvl3_2', 0.9762), ('swvl3_3', 0.9916), ('swvl4_1', 0.9113), ('swvl4_2', 0.9244), ('swvl4_3', 0.9365), ('swvl4_4', 0.9483)]\n",
      "swvl4_11 : [('swvl3_12', 0.9048), ('swvl3_1', 0.9199), ('swvl3_2', 0.9138), ('swvl4_12', 0.9984), ('swvl4_1', 0.9947), ('swvl4_2', 0.9902), ('swvl4_3', 0.9848), ('swvl4_4', 0.9783)]\n",
      "swvl4_12 : [('swvl3_12', 0.921), ('swvl3_1', 0.9361), ('swvl3_2', 0.9308), ('swvl3_3', 0.9141), ('swvl4_11', 0.9984), ('swvl4_1', 0.9989), ('swvl4_2', 0.9963), ('swvl4_3', 0.9927), ('swvl4_4', 0.9877)]\n",
      "swvl4_1 : [('swvl3_12', 0.9297), ('swvl3_1', 0.9465), ('swvl3_2', 0.9429), ('swvl3_3', 0.9278), ('swvl3_4', 0.9113), ('swvl4_11', 0.9947), ('swvl4_12', 0.9989), ('swvl4_2', 0.9992), ('swvl4_3', 0.9971), ('swvl4_4', 0.9936)]\n",
      "swvl4_2 : [('swvl3_12', 0.9349), ('swvl3_1', 0.9539), ('swvl3_2', 0.9527), ('swvl3_3', 0.9394), ('swvl3_4', 0.9244), ('swvl4_11', 0.9902), ('swvl4_12', 0.9963), ('swvl4_1', 0.9992), ('swvl4_3', 0.9993), ('swvl4_4', 0.9971)]\n",
      "swvl4_3 : [('swvl2_12', 0.9062), ('swvl3_12', 0.9386), ('swvl3_1', 0.9596), ('swvl3_2', 0.9608), ('swvl3_3', 0.9502), ('swvl3_4', 0.9365), ('swvl4_11', 0.9848), ('swvl4_12', 0.9927), ('swvl4_1', 0.9971), ('swvl4_2', 0.9993), ('swvl4_4', 0.9992)]\n",
      "swvl4_4 : [('swvl2_12', 0.916), ('swvl2_4', 0.9065), ('swvl3_12', 0.941), ('swvl3_1', 0.9643), ('swvl3_2', 0.9675), ('swvl3_3', 0.9598), ('swvl3_4', 0.9483), ('swvl4_11', 0.9783), ('swvl4_12', 0.9877), ('swvl4_1', 0.9936), ('swvl4_2', 0.9971), ('swvl4_3', 0.9992)]\n",
      "rain_2 : [('countrain_2', 0.9125)]\n",
      "rain_3 : [('countrain_3', 0.9211)]\n",
      "rain_4 : [('countrain_4', 0.9126)]\n",
      "countrain_2 : [('rain_2', 0.9125)]\n",
      "countrain_3 : [('rain_3', 0.9211)]\n",
      "countrain_4 : [('rain_4', 0.9126)]\n"
     ]
    }
   ],
   "source": [
    "print(\"Highly correlated features:\")\n",
    "for key, value in highly_correlated_features.items():\n",
    "    print(key, \":\", value)"
   ]
  },
  {
   "cell_type": "code",
   "execution_count": 37,
   "metadata": {},
   "outputs": [
    {
     "ename": "NameError",
     "evalue": "name 'stop' is not defined",
     "output_type": "error",
     "traceback": [
      "\u001b[1;31m---------------------------------------------------------------------------\u001b[0m",
      "\u001b[1;31mNameError\u001b[0m                                 Traceback (most recent call last)",
      "Cell \u001b[1;32mIn[37], line 1\u001b[0m\n\u001b[1;32m----> 1\u001b[0m \u001b[43mstop\u001b[49m\n",
      "\u001b[1;31mNameError\u001b[0m: name 'stop' is not defined"
     ]
    }
   ],
   "source": [
    "stop"
   ]
  },
  {
   "cell_type": "code",
   "execution_count": null,
   "metadata": {},
   "outputs": [],
   "source": [
    "import time\n",
    "def print_accuracy(f):\n",
    "    print(\n",
    "        f\"Root mean squared test error = {np.sqrt(np.mean((f(X_test) - y_test) ** 2))}\"\n",
    "    )\n",
    "    time.sleep(0.5)  # to let the print get out before any progress bars"
   ]
  },
  {
   "cell_type": "code",
   "execution_count": null,
   "metadata": {},
   "outputs": [],
   "source": [
    "from sklearn.ensemble import RandomForestRegressor\n",
    "\n",
    "rforest = RandomForestRegressor(\n",
    "    n_estimators=1000, max_depth=None, min_samples_split=2, random_state=0\n",
    ")\n",
    "rforest.fit(X_train, y_train)\n",
    "print_accuracy(rforest.predict)"
   ]
  },
  {
   "cell_type": "code",
   "execution_count": null,
   "metadata": {},
   "outputs": [],
   "source": [
    "y_pred = rforest.predict(X_test)\n",
    "mse = mean_squared_error(y_test, y_pred)\n",
    "r2 = r2_score(y_test, y_pred)\n",
    "print(mse,r2)"
   ]
  },
  {
   "cell_type": "code",
   "execution_count": null,
   "metadata": {},
   "outputs": [],
   "source": [
    "#pip install shap"
   ]
  },
  {
   "cell_type": "code",
   "execution_count": null,
   "metadata": {},
   "outputs": [],
   "source": [
    "stop"
   ]
  },
  {
   "cell_type": "code",
   "execution_count": null,
   "metadata": {},
   "outputs": [],
   "source": [
    "columns_to_drop = set(columns_to_drop)\n",
    "print(columns_to_drop)"
   ]
  },
  {
   "cell_type": "code",
   "execution_count": null,
   "metadata": {},
   "outputs": [],
   "source": [
    "len(columns_to_drop)"
   ]
  },
  {
   "cell_type": "code",
   "execution_count": null,
   "metadata": {},
   "outputs": [],
   "source": [
    "X_train.drop(columns = columns_to_drop, axis = 1, inplace=True)\n",
    "X_test.drop(columns = columns_to_drop, axis = 1, inplace=True)"
   ]
  },
  {
   "cell_type": "code",
   "execution_count": null,
   "metadata": {},
   "outputs": [],
   "source": [
    "from sklearn.model_selection import train_test_split\n",
    "from sklearn.linear_model import LinearRegression\n",
    "from sklearn.metrics import mean_squared_error, r2_score"
   ]
  },
  {
   "cell_type": "code",
   "execution_count": null,
   "metadata": {},
   "outputs": [],
   "source": [
    "# Import necessary libraries\n",
    "import numpy as np\n",
    "import pandas as pd\n",
    "from sklearn.model_selection import train_test_split\n",
    "from sklearn.linear_model import LinearRegression, Ridge, Lasso\n",
    "from sklearn.tree import DecisionTreeRegressor\n",
    "from sklearn.ensemble import RandomForestRegressor, GradientBoostingRegressor\n",
    "from sklearn.svm import SVR\n",
    "from sklearn.metrics import mean_squared_error, r2_score\n",
    "from sklearn.model_selection import KFold\n",
    "\n",
    "\n",
    "# Create KFold object\n",
    "k = 5\n",
    "kfold = KFold(n_splits=k, shuffle=True)\n",
    "\n",
    "\n",
    "# Models\n",
    "models = {\n",
    "    \"Linear Regression\": LinearRegression(),\n",
    "    \"Ridge Regression\": Ridge(),\n",
    "    \"Lasso Regression\": Lasso(),\n",
    "    \"Decision Tree\": DecisionTreeRegressor(),\n",
    "    \"Gradient Boosting\": GradientBoostingRegressor(),\n",
    "    \"Random Forest\": RandomForestRegressor(),\n",
    "    \"Support Vector Machine\": SVR()\n",
    "}\n",
    "\n",
    "# Train and evaluate each model\n",
    "for name, model in models.items():\n",
    "    mse_scores = []\n",
    "    r2_scores = []\n",
    "\n",
    "    for train_index, test_index in kfold.split(X):\n",
    "        X_train, X_test = X[train_index], X[test_index]\n",
    "        y_train, y_test = y[train_index], y[test_index]\n",
    "    model.fit(X_train, y_train)\n",
    "    y_pred = model.predict(X_test)\n",
    "    mse = mean_squared_error(y_test, y_pred)\n",
    "    r2 = r2_score(y_test, y_pred)\n",
    "    print(f'{name} - Mean Squared Error: {mse:.2f}, R^2 Score: {r2:.2f}')\n"
   ]
  },
  {
   "cell_type": "code",
   "execution_count": null,
   "metadata": {},
   "outputs": [],
   "source": [
    "import xarray\n",
    "data = xarray.open_dataset(r\"C:\\Users\\Kanishk Goyal\\OneDrive - IIT Kanpur\\Desktop\\Prof. Hamim Zafar\\Data\\Relative humidity\\1month_mean_Global_ea_r2_199703_v02.grib\", engine='cfgrib')\n",
    "data.to_netcdf(r\"C:\\Users\\Kanishk Goyal\\OneDrive - IIT Kanpur\\Desktop\\Prof. Hamim Zafar\\Data\\Relative humidity\\1month_mean_Global_ea_r2_199703_v02.nc\")"
   ]
  },
  {
   "cell_type": "code",
   "execution_count": null,
   "metadata": {},
   "outputs": [],
   "source": []
  },
  {
   "cell_type": "code",
   "execution_count": null,
   "metadata": {},
   "outputs": [],
   "source": []
  },
  {
   "cell_type": "code",
   "execution_count": null,
   "metadata": {},
   "outputs": [],
   "source": []
  },
  {
   "cell_type": "code",
   "execution_count": null,
   "metadata": {},
   "outputs": [],
   "source": []
  },
  {
   "cell_type": "code",
   "execution_count": null,
   "metadata": {},
   "outputs": [],
   "source": []
  },
  {
   "cell_type": "code",
   "execution_count": null,
   "metadata": {},
   "outputs": [],
   "source": []
  },
  {
   "cell_type": "code",
   "execution_count": null,
   "metadata": {},
   "outputs": [],
   "source": []
  },
  {
   "cell_type": "code",
   "execution_count": null,
   "metadata": {},
   "outputs": [],
   "source": []
  },
  {
   "cell_type": "code",
   "execution_count": null,
   "metadata": {},
   "outputs": [],
   "source": []
  },
  {
   "cell_type": "code",
   "execution_count": null,
   "metadata": {},
   "outputs": [],
   "source": []
  },
  {
   "cell_type": "code",
   "execution_count": null,
   "metadata": {},
   "outputs": [],
   "source": []
  },
  {
   "cell_type": "code",
   "execution_count": null,
   "metadata": {},
   "outputs": [],
   "source": []
  },
  {
   "cell_type": "code",
   "execution_count": null,
   "metadata": {},
   "outputs": [],
   "source": []
  },
  {
   "cell_type": "code",
   "execution_count": null,
   "metadata": {},
   "outputs": [],
   "source": []
  },
  {
   "cell_type": "code",
   "execution_count": null,
   "metadata": {},
   "outputs": [],
   "source": []
  },
  {
   "cell_type": "code",
   "execution_count": null,
   "metadata": {},
   "outputs": [],
   "source": []
  },
  {
   "cell_type": "code",
   "execution_count": null,
   "metadata": {},
   "outputs": [],
   "source": []
  },
  {
   "cell_type": "code",
   "execution_count": null,
   "metadata": {},
   "outputs": [],
   "source": []
  },
  {
   "cell_type": "code",
   "execution_count": null,
   "metadata": {},
   "outputs": [],
   "source": []
  },
  {
   "cell_type": "code",
   "execution_count": null,
   "metadata": {},
   "outputs": [],
   "source": []
  },
  {
   "cell_type": "code",
   "execution_count": null,
   "metadata": {},
   "outputs": [],
   "source": []
  },
  {
   "cell_type": "code",
   "execution_count": null,
   "metadata": {},
   "outputs": [],
   "source": []
  },
  {
   "cell_type": "code",
   "execution_count": null,
   "metadata": {},
   "outputs": [],
   "source": []
  },
  {
   "cell_type": "code",
   "execution_count": null,
   "metadata": {},
   "outputs": [],
   "source": []
  },
  {
   "cell_type": "code",
   "execution_count": null,
   "metadata": {},
   "outputs": [],
   "source": []
  },
  {
   "cell_type": "code",
   "execution_count": null,
   "metadata": {},
   "outputs": [],
   "source": []
  },
  {
   "cell_type": "code",
   "execution_count": null,
   "metadata": {},
   "outputs": [],
   "source": []
  },
  {
   "cell_type": "code",
   "execution_count": null,
   "metadata": {},
   "outputs": [],
   "source": []
  },
  {
   "cell_type": "code",
   "execution_count": null,
   "metadata": {},
   "outputs": [],
   "source": []
  },
  {
   "cell_type": "code",
   "execution_count": null,
   "metadata": {},
   "outputs": [],
   "source": []
  },
  {
   "cell_type": "code",
   "execution_count": null,
   "metadata": {},
   "outputs": [],
   "source": []
  },
  {
   "cell_type": "code",
   "execution_count": null,
   "metadata": {},
   "outputs": [],
   "source": []
  },
  {
   "cell_type": "code",
   "execution_count": null,
   "metadata": {},
   "outputs": [],
   "source": []
  },
  {
   "cell_type": "code",
   "execution_count": null,
   "metadata": {},
   "outputs": [],
   "source": []
  },
  {
   "cell_type": "code",
   "execution_count": null,
   "metadata": {},
   "outputs": [],
   "source": []
  },
  {
   "cell_type": "code",
   "execution_count": null,
   "metadata": {},
   "outputs": [],
   "source": []
  },
  {
   "cell_type": "code",
   "execution_count": null,
   "metadata": {},
   "outputs": [],
   "source": []
  },
  {
   "cell_type": "code",
   "execution_count": null,
   "metadata": {},
   "outputs": [],
   "source": []
  },
  {
   "cell_type": "code",
   "execution_count": null,
   "metadata": {},
   "outputs": [],
   "source": []
  },
  {
   "cell_type": "code",
   "execution_count": null,
   "metadata": {},
   "outputs": [],
   "source": []
  }
 ],
 "metadata": {
  "kernelspec": {
   "display_name": "Python 3",
   "language": "python",
   "name": "python3"
  },
  "language_info": {
   "codemirror_mode": {
    "name": "ipython",
    "version": 3
   },
   "file_extension": ".py",
   "mimetype": "text/x-python",
   "name": "python",
   "nbconvert_exporter": "python",
   "pygments_lexer": "ipython3",
   "version": "3.11.4"
  }
 },
 "nbformat": 4,
 "nbformat_minor": 2
}
