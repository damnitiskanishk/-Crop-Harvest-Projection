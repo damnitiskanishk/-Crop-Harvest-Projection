{
 "cells": [
  {
   "cell_type": "code",
   "execution_count": 1,
   "metadata": {},
   "outputs": [],
   "source": [
    "import numpy as np \n",
    "import pandas as pd\n",
    "import seaborn as sns\n",
    "import matplotlib.pyplot as plt\n",
    "from sklearn.preprocessing import LabelEncoder\n",
    "from sklearn.model_selection import train_test_split\n",
    "from sklearn.linear_model import LinearRegression\n",
    "from sklearn.metrics import mean_squared_error, r2_score\n",
    "import seaborn as sns"
   ]
  },
  {
   "cell_type": "code",
   "execution_count": 2,
   "metadata": {},
   "outputs": [],
   "source": [
    "df = pd.read_csv(r\"C:\\Users\\Kanishk Goyal\\OneDrive - IIT Kanpur\\Desktop\\Prof. Hamim Zafar\\Data\\Final Data\\ChickPea\\ChickPea_Rajasthan_updated.csv\")\n",
    "df = df.drop(columns=['latitude','longitude','DistrictName', 'year'])\n",
    "# df = df.sample(frac=1).reset_index(drop=True)\n",
    "#df = df.drop(columns=['DistrictName','latitude','longitude','year','year_mask'])"
   ]
  },
  {
   "cell_type": "code",
   "execution_count": 3,
   "metadata": {},
   "outputs": [],
   "source": [
    "df = df.rename(columns={'Yield(tonnes/hectare)':'Yield(Tonnes/Hectare)'},inplace=False)"
   ]
  },
  {
   "cell_type": "code",
   "execution_count": 4,
   "metadata": {},
   "outputs": [
    {
     "data": {
      "text/plain": [
       "Index(['stl1_11', 'stl1_12', 'stl1_1', 'stl1_2', 'stl1_3', 'stl1_4', 'stl2_11',\n",
       "       'stl2_12', 'stl2_1', 'stl2_2', 'stl2_3', 'stl2_4', 'stl3_11', 'stl3_12',\n",
       "       'stl3_1', 'stl3_2', 'stl3_3', 'stl3_4', 'stl4_11', 'stl4_12', 'stl4_1',\n",
       "       'stl4_2', 'stl4_3', 'stl4_4', 'swvl1_11', 'swvl1_12', 'swvl1_1',\n",
       "       'swvl1_2', 'swvl1_3', 'swvl1_4', 'swvl2_11', 'swvl2_12', 'swvl2_1',\n",
       "       'swvl2_2', 'swvl2_3', 'swvl2_4', 'swvl3_11', 'swvl3_12', 'swvl3_1',\n",
       "       'swvl3_2', 'swvl3_3', 'swvl3_4', 'swvl4_11', 'swvl4_12', 'swvl4_1',\n",
       "       'swvl4_2', 'swvl4_3', 'swvl4_4', 'ssr_12', 'ssr_11', 'ssr_1', 'ssr_2',\n",
       "       'ssr_3', 'ssr_4', 'u10_11', 'u10_12', 'u10_1', 'u10_2', 'u10_3',\n",
       "       'u10_4', 'v10_11', 'v10_12', 'v10_1', 'v10_2', 'v10_3', 'v10_4',\n",
       "       'tmax_11', 'tmax_12', 'tmax_1', 'tmax_2', 'tmax_3', 'tmax_4', 'tmin_11',\n",
       "       'tmin_12', 'tmin_1', 'tmin_2', 'tmin_3', 'tmin_4', 'rain_11', 'rain_12',\n",
       "       'rain_1', 'rain_2', 'rain_3', 'rain_4', 'countrain_11', 'countrain_12',\n",
       "       'countrain_1', 'countrain_2', 'countrain_3', 'countrain_4', 'rh_11',\n",
       "       'rh_12', 'rh_1', 'rh_2', 'rh_3', 'rh_4', 'Yield(Tonnes/Hectare)'],\n",
       "      dtype='object')"
      ]
     },
     "execution_count": 4,
     "metadata": {},
     "output_type": "execute_result"
    }
   ],
   "source": [
    "df.columns"
   ]
  },
  {
   "cell_type": "code",
   "execution_count": 5,
   "metadata": {},
   "outputs": [],
   "source": [
    "# df['stl1'] = (df['stl1_1'] + df['stl1_2'])/2\n",
    "# df['stl2'] = (df['stl2_1'] + df['stl2_2'])/2\n",
    "# df['stl3'] = (df['stl3_1'] + df['stl3_2'])/2\n",
    "# df['stl4'] = (df['stl4_1'] + df['stl4_2'])/2\n",
    "# df['swvl1'] = (df['swvl1_1'] + df['swvl1_2'])/2\n",
    "# df['swvl2'] = (df['swvl2_1'] + df['swvl2_2'])/2\n",
    "# df['swvl3'] = (df['swvl3_1'] + df['swvl3_2'])/2\n",
    "# df['swvl4'] = (df['swvl4_1'] + df['swvl4_2'])/2\n",
    "# df['ssr'] = (df['ssr_1'] + df['ssr_2'])/2\n",
    "# df['rain'] = (df['rain_1'] + df['rain_2'])/2\n",
    "# df['tmax'] = (df['tmax_1'] + df['tmax_2'])/2\n",
    "# df['tmin'] = (df['tmin_1'] + df['tmin_2'])/2\n",
    "# df['countrain'] = df['countrain_1'] + df['countrain_2']\n",
    "# df['u10'] = (df['u10_3']+df['u10_4'])/2\n",
    "# df['v10'] = (df['v10_3']+df['v10_4'])/2\n",
    "# df['rh'] = (df['rh_3']+df['rh_4'])/2"
   ]
  },
  {
   "cell_type": "code",
   "execution_count": 6,
   "metadata": {},
   "outputs": [],
   "source": [
    "# df = df.drop(columns=['stl1_1','stl1_2','stl2_1','stl2_2','stl3_1','stl3_2','stl4_1','stl4_2','swvl1_1','swvl1_2','swvl2_1','swvl2_2','swvl3_1','swvl3_2','swvl4_1','swvl4_2','ssr_1','ssr_2','rain_1','rain_2','tmax_1','tmax_2','tmin_1','tmin_2','countrain_1','countrain_2','u10_3','u10_4','v10_3','v10_4','rh_3','rh_4'],axis=1)"
   ]
  },
  {
   "cell_type": "code",
   "execution_count": 7,
   "metadata": {},
   "outputs": [
    {
     "data": {
      "text/plain": [
       "(825, 97)"
      ]
     },
     "execution_count": 7,
     "metadata": {},
     "output_type": "execute_result"
    }
   ],
   "source": [
    "df.shape"
   ]
  },
  {
   "cell_type": "code",
   "execution_count": 8,
   "metadata": {},
   "outputs": [
    {
     "data": {
      "text/plain": [
       "Index(['stl1_11', 'stl1_12', 'stl1_1', 'stl1_2', 'stl1_3', 'stl1_4', 'stl2_11',\n",
       "       'stl2_12', 'stl2_1', 'stl2_2', 'stl2_3', 'stl2_4', 'stl3_11', 'stl3_12',\n",
       "       'stl3_1', 'stl3_2', 'stl3_3', 'stl3_4', 'stl4_11', 'stl4_12', 'stl4_1',\n",
       "       'stl4_2', 'stl4_3', 'stl4_4', 'swvl1_11', 'swvl1_12', 'swvl1_1',\n",
       "       'swvl1_2', 'swvl1_3', 'swvl1_4', 'swvl2_11', 'swvl2_12', 'swvl2_1',\n",
       "       'swvl2_2', 'swvl2_3', 'swvl2_4', 'swvl3_11', 'swvl3_12', 'swvl3_1',\n",
       "       'swvl3_2', 'swvl3_3', 'swvl3_4', 'swvl4_11', 'swvl4_12', 'swvl4_1',\n",
       "       'swvl4_2', 'swvl4_3', 'swvl4_4', 'ssr_12', 'ssr_11', 'ssr_1', 'ssr_2',\n",
       "       'ssr_3', 'ssr_4', 'u10_11', 'u10_12', 'u10_1', 'u10_2', 'u10_3',\n",
       "       'u10_4', 'v10_11', 'v10_12', 'v10_1', 'v10_2', 'v10_3', 'v10_4',\n",
       "       'tmax_11', 'tmax_12', 'tmax_1', 'tmax_2', 'tmax_3', 'tmax_4', 'tmin_11',\n",
       "       'tmin_12', 'tmin_1', 'tmin_2', 'tmin_3', 'tmin_4', 'rain_11', 'rain_12',\n",
       "       'rain_1', 'rain_2', 'rain_3', 'rain_4', 'countrain_11', 'countrain_12',\n",
       "       'countrain_1', 'countrain_2', 'countrain_3', 'countrain_4', 'rh_11',\n",
       "       'rh_12', 'rh_1', 'rh_2', 'rh_3', 'rh_4', 'Yield(Tonnes/Hectare)'],\n",
       "      dtype='object')"
      ]
     },
     "execution_count": 8,
     "metadata": {},
     "output_type": "execute_result"
    }
   ],
   "source": [
    "df.columns"
   ]
  },
  {
   "cell_type": "code",
   "execution_count": 9,
   "metadata": {},
   "outputs": [],
   "source": [
    "df = df.dropna(subset=['Yield(Tonnes/Hectare)'])"
   ]
  },
  {
   "cell_type": "code",
   "execution_count": 10,
   "metadata": {},
   "outputs": [
    {
     "data": {
      "text/plain": [
       "(747, 97)"
      ]
     },
     "execution_count": 10,
     "metadata": {},
     "output_type": "execute_result"
    }
   ],
   "source": [
    "df.shape"
   ]
  },
  {
   "cell_type": "code",
   "execution_count": 11,
   "metadata": {},
   "outputs": [
    {
     "data": {
      "text/plain": [
       "0.3670614002156397"
      ]
     },
     "execution_count": 11,
     "metadata": {},
     "output_type": "execute_result"
    }
   ],
   "source": [
    "df['Yield(Tonnes/Hectare)'].skew()"
   ]
  },
  {
   "cell_type": "code",
   "execution_count": 12,
   "metadata": {},
   "outputs": [
    {
     "name": "stderr",
     "output_type": "stream",
     "text": [
      "C:\\Users\\Kanishk Goyal\\AppData\\Local\\Temp\\ipykernel_16228\\994257175.py:1: UserWarning: \n",
      "\n",
      "`distplot` is a deprecated function and will be removed in seaborn v0.14.0.\n",
      "\n",
      "Please adapt your code to use either `displot` (a figure-level function with\n",
      "similar flexibility) or `histplot` (an axes-level function for histograms).\n",
      "\n",
      "For a guide to updating your code to use the new functions, please see\n",
      "https://gist.github.com/mwaskom/de44147ed2974457ad6372750bbe5751\n",
      "\n",
      "  sns.distplot(df['Yield(Tonnes/Hectare)'],color='green')\n"
     ]
    },
    {
     "data": {
      "text/plain": [
       "<Axes: xlabel='Yield(Tonnes/Hectare)', ylabel='Density'>"
      ]
     },
     "execution_count": 12,
     "metadata": {},
     "output_type": "execute_result"
    },
    {
     "data": {
      "image/png": "[encoded data removed]",
      "text/plain": [
       "<Figure size 640x480 with 1 Axes>"
      ]
     },
     "metadata": {},
     "output_type": "display_data"
    }
   ],
   "source": [
    "sns.distplot(df['Yield(Tonnes/Hectare)'],color='green')"
   ]
  },
  {
   "cell_type": "code",
   "execution_count": 13,
   "metadata": {},
   "outputs": [
    {
     "data": {
      "text/plain": [
       "0      0.92\n",
       "1      1.30\n",
       "2      1.25\n",
       "3      0.60\n",
       "4      1.11\n",
       "       ... \n",
       "818    1.19\n",
       "819    0.99\n",
       "820    1.00\n",
       "821    1.21\n",
       "822    1.31\n",
       "Name: Yield(Tonnes/Hectare), Length: 747, dtype: float64"
      ]
     },
     "execution_count": 13,
     "metadata": {},
     "output_type": "execute_result"
    }
   ],
   "source": [
    "df['Yield(Tonnes/Hectare)']"
   ]
  },
  {
   "cell_type": "code",
   "execution_count": 14,
   "metadata": {},
   "outputs": [
    {
     "name": "stdout",
     "output_type": "stream",
     "text": [
      "Number of points in the final DataFrame after handling outliers: 726\n"
     ]
    }
   ],
   "source": [
    "Q1 = df['Yield(Tonnes/Hectare)'].quantile(0.25)\n",
    "Q3 = df['Yield(Tonnes/Hectare)'].quantile(0.75)\n",
    "IQR = Q3 - Q1\n",
    "\n",
    "lower_bound = Q1 - 1.5 * IQR\n",
    "upper_bound = Q3 + 1.5 * IQR\n",
    "\n",
    "df['Yield_no_outliers'] = np.where((df['Yield(Tonnes/Hectare)'] < lower_bound) | (df['Yield(Tonnes/Hectare)'] > upper_bound), np.nan, df['Yield(Tonnes/Hectare)'])\n",
    "\n",
    "num_points_after_handling_outliers = df['Yield_no_outliers'].count()\n",
    "print(\"Number of points in the final DataFrame after handling outliers:\", num_points_after_handling_outliers)"
   ]
  },
  {
   "cell_type": "code",
   "execution_count": 15,
   "metadata": {},
   "outputs": [],
   "source": [
    "df = df.dropna(subset=['Yield_no_outliers'])\n",
    "df = df.drop(columns=['Yield(Tonnes/Hectare)'])"
   ]
  },
  {
   "cell_type": "code",
   "execution_count": 16,
   "metadata": {},
   "outputs": [],
   "source": [
    "df.rename(columns={'Yield_no_outliers': 'Yield(Tonnes/Hectare)'}, inplace=True)"
   ]
  },
  {
   "cell_type": "code",
   "execution_count": 17,
   "metadata": {},
   "outputs": [
    {
     "data": {
      "text/plain": [
       "0.07960791528260056"
      ]
     },
     "execution_count": 17,
     "metadata": {},
     "output_type": "execute_result"
    }
   ],
   "source": [
    "df['Yield(Tonnes/Hectare)'].skew()"
   ]
  },
  {
   "cell_type": "code",
   "execution_count": 18,
   "metadata": {},
   "outputs": [
    {
     "name": "stderr",
     "output_type": "stream",
     "text": [
      "C:\\Users\\Kanishk Goyal\\AppData\\Local\\Temp\\ipykernel_16228\\1820324139.py:1: UserWarning: \n",
      "\n",
      "`distplot` is a deprecated function and will be removed in seaborn v0.14.0.\n",
      "\n",
      "Please adapt your code to use either `displot` (a figure-level function with\n",
      "similar flexibility) or `histplot` (an axes-level function for histograms).\n",
      "\n",
      "For a guide to updating your code to use the new functions, please see\n",
      "https://gist.github.com/mwaskom/de44147ed2974457ad6372750bbe5751\n",
      "\n",
      "  sns.distplot(df['Yield(Tonnes/Hectare)'])\n"
     ]
    },
    {
     "data": {
      "text/plain": [
       "<Axes: xlabel='Yield(Tonnes/Hectare)', ylabel='Density'>"
      ]
     },
     "execution_count": 18,
     "metadata": {},
     "output_type": "execute_result"
    },
    {
     "data": {
      "image/png": "[encoded data removed]",
      "text/plain": [
       "<Figure size 640x480 with 1 Axes>"
      ]
     },
     "metadata": {},
     "output_type": "display_data"
    }
   ],
   "source": [
    "sns.distplot(df['Yield(Tonnes/Hectare)'])"
   ]
  },
  {
   "cell_type": "code",
   "execution_count": 19,
   "metadata": {},
   "outputs": [
    {
     "data": {
      "text/html": [
       "<div>\n",
       "<style scoped>\n",
       "    .dataframe tbody tr th:only-of-type {\n",
       "        vertical-align: middle;\n",
       "    }\n",
       "\n",
       "    .dataframe tbody tr th {\n",
       "        vertical-align: top;\n",
       "    }\n",
       "\n",
       "    .dataframe thead th {\n",
       "        text-align: right;\n",
       "    }\n",
       "</style>\n",
       "<table border=\"1\" class=\"dataframe\">\n",
       "  <thead>\n",
       "    <tr style=\"text-align: right;\">\n",
       "      <th></th>\n",
       "      <th>stl1_11</th>\n",
       "      <th>stl1_12</th>\n",
       "      <th>stl1_1</th>\n",
       "      <th>stl1_2</th>\n",
       "      <th>stl1_3</th>\n",
       "      <th>stl1_4</th>\n",
       "      <th>stl2_11</th>\n",
       "      <th>stl2_12</th>\n",
       "      <th>stl2_1</th>\n",
       "      <th>stl2_2</th>\n",
       "      <th>...</th>\n",
       "      <th>countrain_2</th>\n",
       "      <th>countrain_3</th>\n",
       "      <th>countrain_4</th>\n",
       "      <th>rh_11</th>\n",
       "      <th>rh_12</th>\n",
       "      <th>rh_1</th>\n",
       "      <th>rh_2</th>\n",
       "      <th>rh_3</th>\n",
       "      <th>rh_4</th>\n",
       "      <th>Yield(Tonnes/Hectare)</th>\n",
       "    </tr>\n",
       "  </thead>\n",
       "  <tbody>\n",
       "    <tr>\n",
       "      <th>0</th>\n",
       "      <td>25.693202</td>\n",
       "      <td>20.281856</td>\n",
       "      <td>21.010743</td>\n",
       "      <td>23.106515</td>\n",
       "      <td>28.024204</td>\n",
       "      <td>33.926456</td>\n",
       "      <td>25.961717</td>\n",
       "      <td>21.036720</td>\n",
       "      <td>21.196228</td>\n",
       "      <td>23.138172</td>\n",
       "      <td>...</td>\n",
       "      <td>0</td>\n",
       "      <td>0</td>\n",
       "      <td>0</td>\n",
       "      <td>56.486725</td>\n",
       "      <td>68.697734</td>\n",
       "      <td>46.231013</td>\n",
       "      <td>38.676809</td>\n",
       "      <td>29.972930</td>\n",
       "      <td>28.119702</td>\n",
       "      <td>0.92</td>\n",
       "    </tr>\n",
       "    <tr>\n",
       "      <th>1</th>\n",
       "      <td>23.865524</td>\n",
       "      <td>20.934337</td>\n",
       "      <td>20.361871</td>\n",
       "      <td>24.754254</td>\n",
       "      <td>28.648712</td>\n",
       "      <td>33.985006</td>\n",
       "      <td>24.397693</td>\n",
       "      <td>21.571260</td>\n",
       "      <td>20.817535</td>\n",
       "      <td>24.296281</td>\n",
       "      <td>...</td>\n",
       "      <td>0</td>\n",
       "      <td>0</td>\n",
       "      <td>0</td>\n",
       "      <td>53.004848</td>\n",
       "      <td>45.762598</td>\n",
       "      <td>45.836998</td>\n",
       "      <td>47.363404</td>\n",
       "      <td>25.894276</td>\n",
       "      <td>21.690049</td>\n",
       "      <td>1.30</td>\n",
       "    </tr>\n",
       "    <tr>\n",
       "      <th>2</th>\n",
       "      <td>25.111040</td>\n",
       "      <td>21.590521</td>\n",
       "      <td>22.162029</td>\n",
       "      <td>23.286367</td>\n",
       "      <td>28.195368</td>\n",
       "      <td>34.938177</td>\n",
       "      <td>25.558162</td>\n",
       "      <td>22.186711</td>\n",
       "      <td>22.459103</td>\n",
       "      <td>23.233472</td>\n",
       "      <td>...</td>\n",
       "      <td>0</td>\n",
       "      <td>0</td>\n",
       "      <td>0</td>\n",
       "      <td>38.619283</td>\n",
       "      <td>40.324745</td>\n",
       "      <td>35.350653</td>\n",
       "      <td>30.825493</td>\n",
       "      <td>20.190913</td>\n",
       "      <td>21.186729</td>\n",
       "      <td>1.25</td>\n",
       "    </tr>\n",
       "    <tr>\n",
       "      <th>3</th>\n",
       "      <td>26.527940</td>\n",
       "      <td>22.679671</td>\n",
       "      <td>22.366372</td>\n",
       "      <td>24.894876</td>\n",
       "      <td>29.586203</td>\n",
       "      <td>33.940978</td>\n",
       "      <td>26.963256</td>\n",
       "      <td>23.318844</td>\n",
       "      <td>22.630413</td>\n",
       "      <td>24.804552</td>\n",
       "      <td>...</td>\n",
       "      <td>0</td>\n",
       "      <td>0</td>\n",
       "      <td>0</td>\n",
       "      <td>34.756159</td>\n",
       "      <td>30.182443</td>\n",
       "      <td>31.836658</td>\n",
       "      <td>28.972111</td>\n",
       "      <td>25.608226</td>\n",
       "      <td>21.186865</td>\n",
       "      <td>0.60</td>\n",
       "    </tr>\n",
       "    <tr>\n",
       "      <th>4</th>\n",
       "      <td>26.476361</td>\n",
       "      <td>23.533064</td>\n",
       "      <td>22.063500</td>\n",
       "      <td>24.241508</td>\n",
       "      <td>29.910576</td>\n",
       "      <td>34.578776</td>\n",
       "      <td>26.894615</td>\n",
       "      <td>24.022964</td>\n",
       "      <td>22.617619</td>\n",
       "      <td>23.978152</td>\n",
       "      <td>...</td>\n",
       "      <td>0</td>\n",
       "      <td>0</td>\n",
       "      <td>0</td>\n",
       "      <td>28.568040</td>\n",
       "      <td>34.318398</td>\n",
       "      <td>34.675698</td>\n",
       "      <td>30.824335</td>\n",
       "      <td>22.873692</td>\n",
       "      <td>21.499809</td>\n",
       "      <td>1.11</td>\n",
       "    </tr>\n",
       "    <tr>\n",
       "      <th>5</th>\n",
       "      <td>26.433016</td>\n",
       "      <td>24.161997</td>\n",
       "      <td>23.579405</td>\n",
       "      <td>24.500589</td>\n",
       "      <td>29.084350</td>\n",
       "      <td>35.206350</td>\n",
       "      <td>26.853875</td>\n",
       "      <td>24.683324</td>\n",
       "      <td>23.760796</td>\n",
       "      <td>24.572419</td>\n",
       "      <td>...</td>\n",
       "      <td>1</td>\n",
       "      <td>0</td>\n",
       "      <td>0</td>\n",
       "      <td>32.942337</td>\n",
       "      <td>37.527913</td>\n",
       "      <td>34.330369</td>\n",
       "      <td>43.144241</td>\n",
       "      <td>21.887746</td>\n",
       "      <td>22.556520</td>\n",
       "      <td>0.62</td>\n",
       "    </tr>\n",
       "    <tr>\n",
       "      <th>6</th>\n",
       "      <td>26.353633</td>\n",
       "      <td>23.098105</td>\n",
       "      <td>21.969120</td>\n",
       "      <td>24.300912</td>\n",
       "      <td>30.816245</td>\n",
       "      <td>34.544902</td>\n",
       "      <td>26.555648</td>\n",
       "      <td>23.753952</td>\n",
       "      <td>22.321973</td>\n",
       "      <td>24.082638</td>\n",
       "      <td>...</td>\n",
       "      <td>0</td>\n",
       "      <td>0</td>\n",
       "      <td>0</td>\n",
       "      <td>46.302013</td>\n",
       "      <td>46.762800</td>\n",
       "      <td>42.142704</td>\n",
       "      <td>31.605255</td>\n",
       "      <td>20.441380</td>\n",
       "      <td>30.043023</td>\n",
       "      <td>1.13</td>\n",
       "    </tr>\n",
       "    <tr>\n",
       "      <th>7</th>\n",
       "      <td>26.810477</td>\n",
       "      <td>23.458074</td>\n",
       "      <td>20.849287</td>\n",
       "      <td>23.486716</td>\n",
       "      <td>28.968760</td>\n",
       "      <td>32.841888</td>\n",
       "      <td>27.075703</td>\n",
       "      <td>23.997635</td>\n",
       "      <td>21.521554</td>\n",
       "      <td>23.352255</td>\n",
       "      <td>...</td>\n",
       "      <td>0</td>\n",
       "      <td>0</td>\n",
       "      <td>0</td>\n",
       "      <td>36.799276</td>\n",
       "      <td>42.116956</td>\n",
       "      <td>41.609950</td>\n",
       "      <td>37.836118</td>\n",
       "      <td>29.604970</td>\n",
       "      <td>18.845520</td>\n",
       "      <td>1.01</td>\n",
       "    </tr>\n",
       "    <tr>\n",
       "      <th>8</th>\n",
       "      <td>24.494590</td>\n",
       "      <td>21.591448</td>\n",
       "      <td>22.011112</td>\n",
       "      <td>26.675149</td>\n",
       "      <td>28.195007</td>\n",
       "      <td>33.577572</td>\n",
       "      <td>24.956732</td>\n",
       "      <td>22.270318</td>\n",
       "      <td>22.202422</td>\n",
       "      <td>26.151996</td>\n",
       "      <td>...</td>\n",
       "      <td>0</td>\n",
       "      <td>0</td>\n",
       "      <td>0</td>\n",
       "      <td>41.140646</td>\n",
       "      <td>39.316217</td>\n",
       "      <td>38.962507</td>\n",
       "      <td>30.451113</td>\n",
       "      <td>29.290342</td>\n",
       "      <td>27.764714</td>\n",
       "      <td>0.80</td>\n",
       "    </tr>\n",
       "    <tr>\n",
       "      <th>9</th>\n",
       "      <td>26.786622</td>\n",
       "      <td>24.263122</td>\n",
       "      <td>22.668385</td>\n",
       "      <td>24.993950</td>\n",
       "      <td>28.817072</td>\n",
       "      <td>34.524183</td>\n",
       "      <td>27.160769</td>\n",
       "      <td>24.714175</td>\n",
       "      <td>22.980753</td>\n",
       "      <td>24.980948</td>\n",
       "      <td>...</td>\n",
       "      <td>0</td>\n",
       "      <td>0</td>\n",
       "      <td>0</td>\n",
       "      <td>40.867016</td>\n",
       "      <td>45.352963</td>\n",
       "      <td>42.671484</td>\n",
       "      <td>44.231832</td>\n",
       "      <td>29.001950</td>\n",
       "      <td>24.207434</td>\n",
       "      <td>0.99</td>\n",
       "    </tr>\n",
       "  </tbody>\n",
       "</table>\n",
       "<p>10 rows × 97 columns</p>\n",
       "</div>"
      ],
      "text/plain": [
       "     stl1_11    stl1_12     stl1_1     stl1_2     stl1_3     stl1_4  \\\n",
       "0  25.693202  20.281856  21.010743  23.106515  28.024204  33.926456   \n",
       "1  23.865524  20.934337  20.361871  24.754254  28.648712  33.985006   \n",
       "2  25.111040  21.590521  22.162029  23.286367  28.195368  34.938177   \n",
       "3  26.527940  22.679671  22.366372  24.894876  29.586203  33.940978   \n",
       "4  26.476361  23.533064  22.063500  24.241508  29.910576  34.578776   \n",
       "5  26.433016  24.161997  23.579405  24.500589  29.084350  35.206350   \n",
       "6  26.353633  23.098105  21.969120  24.300912  30.816245  34.544902   \n",
       "7  26.810477  23.458074  20.849287  23.486716  28.968760  32.841888   \n",
       "8  24.494590  21.591448  22.011112  26.675149  28.195007  33.577572   \n",
       "9  26.786622  24.263122  22.668385  24.993950  28.817072  34.524183   \n",
       "\n",
       "     stl2_11    stl2_12     stl2_1     stl2_2  ...  countrain_2  countrain_3  \\\n",
       "0  25.961717  21.036720  21.196228  23.138172  ...            0            0   \n",
       "1  24.397693  21.571260  20.817535  24.296281  ...            0            0   \n",
       "2  25.558162  22.186711  22.459103  23.233472  ...            0            0   \n",
       "3  26.963256  23.318844  22.630413  24.804552  ...            0            0   \n",
       "4  26.894615  24.022964  22.617619  23.978152  ...            0            0   \n",
       "5  26.853875  24.683324  23.760796  24.572419  ...            1            0   \n",
       "6  26.555648  23.753952  22.321973  24.082638  ...            0            0   \n",
       "7  27.075703  23.997635  21.521554  23.352255  ...            0            0   \n",
       "8  24.956732  22.270318  22.202422  26.151996  ...            0            0   \n",
       "9  27.160769  24.714175  22.980753  24.980948  ...            0            0   \n",
       "\n",
       "   countrain_4      rh_11      rh_12       rh_1       rh_2       rh_3  \\\n",
       "0            0  56.486725  68.697734  46.231013  38.676809  29.972930   \n",
       "1            0  53.004848  45.762598  45.836998  47.363404  25.894276   \n",
       "2            0  38.619283  40.324745  35.350653  30.825493  20.190913   \n",
       "3            0  34.756159  30.182443  31.836658  28.972111  25.608226   \n",
       "4            0  28.568040  34.318398  34.675698  30.824335  22.873692   \n",
       "5            0  32.942337  37.527913  34.330369  43.144241  21.887746   \n",
       "6            0  46.302013  46.762800  42.142704  31.605255  20.441380   \n",
       "7            0  36.799276  42.116956  41.609950  37.836118  29.604970   \n",
       "8            0  41.140646  39.316217  38.962507  30.451113  29.290342   \n",
       "9            0  40.867016  45.352963  42.671484  44.231832  29.001950   \n",
       "\n",
       "        rh_4  Yield(Tonnes/Hectare)  \n",
       "0  28.119702                   0.92  \n",
       "1  21.690049                   1.30  \n",
       "2  21.186729                   1.25  \n",
       "3  21.186865                   0.60  \n",
       "4  21.499809                   1.11  \n",
       "5  22.556520                   0.62  \n",
       "6  30.043023                   1.13  \n",
       "7  18.845520                   1.01  \n",
       "8  27.764714                   0.80  \n",
       "9  24.207434                   0.99  \n",
       "\n",
       "[10 rows x 97 columns]"
      ]
     },
     "execution_count": 19,
     "metadata": {},
     "output_type": "execute_result"
    }
   ],
   "source": [
    "df.head(10)"
   ]
  },
  {
   "cell_type": "code",
   "execution_count": 20,
   "metadata": {},
   "outputs": [
    {
     "data": {
      "text/plain": [
       "(726, 97)"
      ]
     },
     "execution_count": 20,
     "metadata": {},
     "output_type": "execute_result"
    }
   ],
   "source": [
    "df.shape"
   ]
  },
  {
   "cell_type": "code",
   "execution_count": 21,
   "metadata": {},
   "outputs": [],
   "source": [
    "# cat_cols = ['DistrictName', 'year']\n",
    "# # Label encode categorical columns\n",
    "# encoder = LabelEncoder()\n",
    "# df[cat_cols] = df[cat_cols].apply(encoder.fit_transform)"
   ]
  },
  {
   "cell_type": "code",
   "execution_count": 22,
   "metadata": {},
   "outputs": [
    {
     "data": {
      "text/html": [
       "<div>\n",
       "<style scoped>\n",
       "    .dataframe tbody tr th:only-of-type {\n",
       "        vertical-align: middle;\n",
       "    }\n",
       "\n",
       "    .dataframe tbody tr th {\n",
       "        vertical-align: top;\n",
       "    }\n",
       "\n",
       "    .dataframe thead th {\n",
       "        text-align: right;\n",
       "    }\n",
       "</style>\n",
       "<table border=\"1\" class=\"dataframe\">\n",
       "  <thead>\n",
       "    <tr style=\"text-align: right;\">\n",
       "      <th></th>\n",
       "      <th>stl1_11</th>\n",
       "      <th>stl1_12</th>\n",
       "      <th>stl1_1</th>\n",
       "      <th>stl1_2</th>\n",
       "      <th>stl1_3</th>\n",
       "      <th>stl1_4</th>\n",
       "      <th>stl2_11</th>\n",
       "      <th>stl2_12</th>\n",
       "      <th>stl2_1</th>\n",
       "      <th>stl2_2</th>\n",
       "      <th>...</th>\n",
       "      <th>countrain_2</th>\n",
       "      <th>countrain_3</th>\n",
       "      <th>countrain_4</th>\n",
       "      <th>rh_11</th>\n",
       "      <th>rh_12</th>\n",
       "      <th>rh_1</th>\n",
       "      <th>rh_2</th>\n",
       "      <th>rh_3</th>\n",
       "      <th>rh_4</th>\n",
       "      <th>Yield(Tonnes/Hectare)</th>\n",
       "    </tr>\n",
       "  </thead>\n",
       "  <tbody>\n",
       "    <tr>\n",
       "      <th>0</th>\n",
       "      <td>25.693202</td>\n",
       "      <td>20.281856</td>\n",
       "      <td>21.010743</td>\n",
       "      <td>23.106515</td>\n",
       "      <td>28.024204</td>\n",
       "      <td>33.926456</td>\n",
       "      <td>25.961717</td>\n",
       "      <td>21.036720</td>\n",
       "      <td>21.196228</td>\n",
       "      <td>23.138172</td>\n",
       "      <td>...</td>\n",
       "      <td>0</td>\n",
       "      <td>0</td>\n",
       "      <td>0</td>\n",
       "      <td>56.486725</td>\n",
       "      <td>68.697734</td>\n",
       "      <td>46.231013</td>\n",
       "      <td>38.676809</td>\n",
       "      <td>29.972930</td>\n",
       "      <td>28.119702</td>\n",
       "      <td>0.92</td>\n",
       "    </tr>\n",
       "    <tr>\n",
       "      <th>1</th>\n",
       "      <td>23.865524</td>\n",
       "      <td>20.934337</td>\n",
       "      <td>20.361871</td>\n",
       "      <td>24.754254</td>\n",
       "      <td>28.648712</td>\n",
       "      <td>33.985006</td>\n",
       "      <td>24.397693</td>\n",
       "      <td>21.571260</td>\n",
       "      <td>20.817535</td>\n",
       "      <td>24.296281</td>\n",
       "      <td>...</td>\n",
       "      <td>0</td>\n",
       "      <td>0</td>\n",
       "      <td>0</td>\n",
       "      <td>53.004848</td>\n",
       "      <td>45.762598</td>\n",
       "      <td>45.836998</td>\n",
       "      <td>47.363404</td>\n",
       "      <td>25.894276</td>\n",
       "      <td>21.690049</td>\n",
       "      <td>1.30</td>\n",
       "    </tr>\n",
       "    <tr>\n",
       "      <th>2</th>\n",
       "      <td>25.111040</td>\n",
       "      <td>21.590521</td>\n",
       "      <td>22.162029</td>\n",
       "      <td>23.286367</td>\n",
       "      <td>28.195368</td>\n",
       "      <td>34.938177</td>\n",
       "      <td>25.558162</td>\n",
       "      <td>22.186711</td>\n",
       "      <td>22.459103</td>\n",
       "      <td>23.233472</td>\n",
       "      <td>...</td>\n",
       "      <td>0</td>\n",
       "      <td>0</td>\n",
       "      <td>0</td>\n",
       "      <td>38.619283</td>\n",
       "      <td>40.324745</td>\n",
       "      <td>35.350653</td>\n",
       "      <td>30.825493</td>\n",
       "      <td>20.190913</td>\n",
       "      <td>21.186729</td>\n",
       "      <td>1.25</td>\n",
       "    </tr>\n",
       "    <tr>\n",
       "      <th>3</th>\n",
       "      <td>26.527940</td>\n",
       "      <td>22.679671</td>\n",
       "      <td>22.366372</td>\n",
       "      <td>24.894876</td>\n",
       "      <td>29.586203</td>\n",
       "      <td>33.940978</td>\n",
       "      <td>26.963256</td>\n",
       "      <td>23.318844</td>\n",
       "      <td>22.630413</td>\n",
       "      <td>24.804552</td>\n",
       "      <td>...</td>\n",
       "      <td>0</td>\n",
       "      <td>0</td>\n",
       "      <td>0</td>\n",
       "      <td>34.756159</td>\n",
       "      <td>30.182443</td>\n",
       "      <td>31.836658</td>\n",
       "      <td>28.972111</td>\n",
       "      <td>25.608226</td>\n",
       "      <td>21.186865</td>\n",
       "      <td>0.60</td>\n",
       "    </tr>\n",
       "    <tr>\n",
       "      <th>4</th>\n",
       "      <td>26.476361</td>\n",
       "      <td>23.533064</td>\n",
       "      <td>22.063500</td>\n",
       "      <td>24.241508</td>\n",
       "      <td>29.910576</td>\n",
       "      <td>34.578776</td>\n",
       "      <td>26.894615</td>\n",
       "      <td>24.022964</td>\n",
       "      <td>22.617619</td>\n",
       "      <td>23.978152</td>\n",
       "      <td>...</td>\n",
       "      <td>0</td>\n",
       "      <td>0</td>\n",
       "      <td>0</td>\n",
       "      <td>28.568040</td>\n",
       "      <td>34.318398</td>\n",
       "      <td>34.675698</td>\n",
       "      <td>30.824335</td>\n",
       "      <td>22.873692</td>\n",
       "      <td>21.499809</td>\n",
       "      <td>1.11</td>\n",
       "    </tr>\n",
       "  </tbody>\n",
       "</table>\n",
       "<p>5 rows × 97 columns</p>\n",
       "</div>"
      ],
      "text/plain": [
       "     stl1_11    stl1_12     stl1_1     stl1_2     stl1_3     stl1_4  \\\n",
       "0  25.693202  20.281856  21.010743  23.106515  28.024204  33.926456   \n",
       "1  23.865524  20.934337  20.361871  24.754254  28.648712  33.985006   \n",
       "2  25.111040  21.590521  22.162029  23.286367  28.195368  34.938177   \n",
       "3  26.527940  22.679671  22.366372  24.894876  29.586203  33.940978   \n",
       "4  26.476361  23.533064  22.063500  24.241508  29.910576  34.578776   \n",
       "\n",
       "     stl2_11    stl2_12     stl2_1     stl2_2  ...  countrain_2  countrain_3  \\\n",
       "0  25.961717  21.036720  21.196228  23.138172  ...            0            0   \n",
       "1  24.397693  21.571260  20.817535  24.296281  ...            0            0   \n",
       "2  25.558162  22.186711  22.459103  23.233472  ...            0            0   \n",
       "3  26.963256  23.318844  22.630413  24.804552  ...            0            0   \n",
       "4  26.894615  24.022964  22.617619  23.978152  ...            0            0   \n",
       "\n",
       "   countrain_4      rh_11      rh_12       rh_1       rh_2       rh_3  \\\n",
       "0            0  56.486725  68.697734  46.231013  38.676809  29.972930   \n",
       "1            0  53.004848  45.762598  45.836998  47.363404  25.894276   \n",
       "2            0  38.619283  40.324745  35.350653  30.825493  20.190913   \n",
       "3            0  34.756159  30.182443  31.836658  28.972111  25.608226   \n",
       "4            0  28.568040  34.318398  34.675698  30.824335  22.873692   \n",
       "\n",
       "        rh_4  Yield(Tonnes/Hectare)  \n",
       "0  28.119702                   0.92  \n",
       "1  21.690049                   1.30  \n",
       "2  21.186729                   1.25  \n",
       "3  21.186865                   0.60  \n",
       "4  21.499809                   1.11  \n",
       "\n",
       "[5 rows x 97 columns]"
      ]
     },
     "execution_count": 22,
     "metadata": {},
     "output_type": "execute_result"
    }
   ],
   "source": [
    "df.head()"
   ]
  },
  {
   "cell_type": "code",
   "execution_count": 23,
   "metadata": {},
   "outputs": [
    {
     "data": {
      "text/plain": [
       "(726, 97)"
      ]
     },
     "execution_count": 23,
     "metadata": {},
     "output_type": "execute_result"
    }
   ],
   "source": [
    "df.shape"
   ]
  },
  {
   "cell_type": "code",
   "execution_count": 24,
   "metadata": {},
   "outputs": [
    {
     "data": {
      "text/plain": [
       "Index(['stl1_11', 'stl1_12', 'stl1_1', 'stl1_2', 'stl1_3', 'stl1_4', 'stl2_11',\n",
       "       'stl2_12', 'stl2_1', 'stl2_2', 'stl2_3', 'stl2_4', 'stl3_11', 'stl3_12',\n",
       "       'stl3_1', 'stl3_2', 'stl3_3', 'stl3_4', 'stl4_11', 'stl4_12', 'stl4_1',\n",
       "       'stl4_2', 'stl4_3', 'stl4_4', 'swvl1_11', 'swvl1_12', 'swvl1_1',\n",
       "       'swvl1_2', 'swvl1_3', 'swvl1_4', 'swvl2_11', 'swvl2_12', 'swvl2_1',\n",
       "       'swvl2_2', 'swvl2_3', 'swvl2_4', 'swvl3_11', 'swvl3_12', 'swvl3_1',\n",
       "       'swvl3_2', 'swvl3_3', 'swvl3_4', 'swvl4_11', 'swvl4_12', 'swvl4_1',\n",
       "       'swvl4_2', 'swvl4_3', 'swvl4_4', 'ssr_12', 'ssr_11', 'ssr_1', 'ssr_2',\n",
       "       'ssr_3', 'ssr_4', 'u10_11', 'u10_12', 'u10_1', 'u10_2', 'u10_3',\n",
       "       'u10_4', 'v10_11', 'v10_12', 'v10_1', 'v10_2', 'v10_3', 'v10_4',\n",
       "       'tmax_11', 'tmax_12', 'tmax_1', 'tmax_2', 'tmax_3', 'tmax_4', 'tmin_11',\n",
       "       'tmin_12', 'tmin_1', 'tmin_2', 'tmin_3', 'tmin_4', 'rain_11', 'rain_12',\n",
       "       'rain_1', 'rain_2', 'rain_3', 'rain_4', 'countrain_11', 'countrain_12',\n",
       "       'countrain_1', 'countrain_2', 'countrain_3', 'countrain_4', 'rh_11',\n",
       "       'rh_12', 'rh_1', 'rh_2', 'rh_3', 'rh_4', 'Yield(Tonnes/Hectare)'],\n",
       "      dtype='object')"
      ]
     },
     "execution_count": 24,
     "metadata": {},
     "output_type": "execute_result"
    }
   ],
   "source": [
    "df.columns"
   ]
  },
  {
   "cell_type": "code",
   "execution_count": 25,
   "metadata": {},
   "outputs": [],
   "source": [
    "#df = df[['countrain_11', 'countrain_12', 'countrain_1','countrain_2', 'countrain_3', 'countrain_4', 'rain_11', 'rain_12','rain_1', 'rain_2', 'rain_3', 'rain_4','tmax_11', 'tmax_12', 'tmax_1','tmax_2', 'tmax_3', 'tmax_4', 'tmin_11', 'tmin_12', 'tmin_1', 'tmin_2','tmin_3', 'tmin_4','Yield(Tonnes/Hectare)']]"
   ]
  },
  {
   "cell_type": "code",
   "execution_count": 26,
   "metadata": {},
   "outputs": [],
   "source": [
    "#df = df.drop(columns=['countrain_11', 'countrain_12', 'countrain_1','countrain_2', 'countrain_3', 'countrain_4', 'rain_11', 'rain_12','rain_1', 'rain_2', 'rain_3', 'rain_4','tmax_11', 'tmax_12', 'tmax_1','tmax_2', 'tmax_3', 'tmax_4', 'tmin_11', 'tmin_12', 'tmin_1', 'tmin_2','tmin_3', 'tmin_4'])"
   ]
  },
  {
   "cell_type": "code",
   "execution_count": 27,
   "metadata": {},
   "outputs": [
    {
     "data": {
      "text/plain": [
       "(726, 97)"
      ]
     },
     "execution_count": 27,
     "metadata": {},
     "output_type": "execute_result"
    }
   ],
   "source": [
    "df.shape"
   ]
  },
  {
   "cell_type": "code",
   "execution_count": 28,
   "metadata": {},
   "outputs": [],
   "source": [
    "X = df.drop('Yield(Tonnes/Hectare)', axis=1)  # Features\n",
    "y = df['Yield(Tonnes/Hectare)']  # Target variable\n",
    "\n",
    "# Split the dataset into training and testing sets\n",
    "#X_train, X_test, y_train, y_test = train_test_split(X, y, test_size=0.2, random_state=42)"
   ]
  },
  {
   "cell_type": "code",
   "execution_count": 29,
   "metadata": {},
   "outputs": [],
   "source": [
    "# X = X.drop(columns=['stl2','stl3'],axis=1)"
   ]
  },
  {
   "cell_type": "code",
   "execution_count": 30,
   "metadata": {},
   "outputs": [
    {
     "name": "stdout",
     "output_type": "stream",
     "text": [
      "Linear Regression - R^2 Score (Train) : 0.55, R^2 Score (Test): 0.32\n",
      "[0.23923373582735719, 0.47920706004164937, 0.4241945908154747, 0.2243647934404177, 0.3499452013367643, 0.18778516941829704, 0.4419862423234052, 0.18191943041719683, 0.27087410127751155, 0.43109553430313097]\n",
      "Ridge Regression - R^2 Score (Train) : 0.50, R^2 Score (Test): 0.35\n",
      "[0.4734313501088404, 0.4849156534804915, 0.4284470058383951, 0.4016780469077743, 0.37988043139666505, 0.34754586698939205, 0.20399880991236097, 0.23627275900912015, 0.1571797282850368, 0.4199108867619671]\n",
      "XGB Regressor - R^2 Score (Train) : 1.00, R^2 Score (Test): 0.40\n",
      "[0.32185340181575084, 0.5472597961038135, 0.3201604863385843, 0.5105375579080278, 0.32503858493327253, 0.45945171220380054, 0.4114996306086607, 0.4274167520220348, 0.27696224800697067, 0.36805662465641753]\n",
      "Lasso Regression - R^2 Score (Train) : 0.11, R^2 Score (Test): 0.06\n",
      "[0.12814690612101687, 0.08121730737266841, 0.11110463240808732, 0.09951386445195554, 0.03624902884038206, 0.04764161434723779, 0.11061941325161817, -0.005758645472425439, 0.020884875133501568, -0.009601992167129758]\n",
      "Decision Tree - R^2 Score (Train) : 1.00, R^2 Score (Test): -0.24\n",
      "[-0.290322186246069, -0.24085003416857687, -0.26569145723369925, -0.005731844523282792, -0.3896561868024351, -0.0447266956190997, -0.12869749223357774, -0.6050109932634888, -0.20790334794030696, -0.19676942945949127]\n",
      "Gradient Boosting - R^2 Score (Train) : 0.84, R^2 Score (Test): 0.41\n",
      "[0.38977212177416065, 0.3560180784898588, 0.28606553154560965, 0.5209470638640623, 0.2970872840478991, 0.38176224227617117, 0.4108030970124824, 0.4354969389388691, 0.4012715020070782, 0.5875629567703984]\n",
      "Random Forest - R^2 Score (Train) : 0.92, R^2 Score (Test): 0.40\n",
      "[0.47840995788726615, 0.33422163824884554, 0.36570878009466656, 0.513623318718514, 0.4883729330617109, 0.483997101686095, 0.1845654475625924, 0.26145190265075147, 0.549607077342386, 0.38974202784928624]\n",
      "Support Vector Machine - R^2 Score (Train) : 0.04, R^2 Score (Test): 0.01\n",
      "[-0.06121222212728883, 0.0014783749163289617, 0.04736402359081393, 0.017297717443650273, 0.05026255580024175, 0.03936750615596485, 0.03376802754349628, 0.023102403511139125, -0.02782693889457799, -0.0011048430284164024]\n"
     ]
    }
   ],
   "source": [
    "# Import necessary libraries\n",
    "import numpy as np\n",
    "import pandas as pd\n",
    "from sklearn.model_selection import train_test_split\n",
    "from sklearn.linear_model import LinearRegression, Ridge, Lasso\n",
    "from sklearn.tree import DecisionTreeRegressor\n",
    "from sklearn.ensemble import RandomForestRegressor, GradientBoostingRegressor\n",
    "from sklearn.svm import SVR\n",
    "import xgboost as xgb\n",
    "from sklearn.metrics import mean_squared_error, r2_score\n",
    "from sklearn.model_selection import KFold\n",
    "\n",
    "\n",
    "\n",
    "\n",
    "# Models\n",
    "models = {\n",
    "    \"Linear Regression\": LinearRegression(),\n",
    "    \"Ridge Regression\": Ridge(),\n",
    "    \"XGB Regressor\": xgb.XGBRegressor(objective='reg:squarederror', random_state=42),\n",
    "    \"Lasso Regression\": Lasso(),\n",
    "    \"Decision Tree\": DecisionTreeRegressor(),\n",
    "    \"Gradient Boosting\": GradientBoostingRegressor(),\n",
    "    \"Random Forest\": RandomForestRegressor(),\n",
    "    \"Support Vector Machine\": SVR()\n",
    "}\n",
    "\n",
    "# Train and evaluate each model\n",
    "for name, model in models.items():\n",
    "\n",
    "    mse_scores_test = []\n",
    "    mse_scores_train = []\n",
    "    r2_scores_test = []\n",
    "    r2_scores_train = []\n",
    "    # Create KFold object\n",
    "    k = 10\n",
    "    kfold = KFold(n_splits=k, shuffle=True)\n",
    "\n",
    "    for train_index, test_index in kfold.split(X):\n",
    "        X_train, X_test = X.iloc[train_index], X.iloc[test_index]\n",
    "        y_train, y_test = y.iloc[train_index], y.iloc[test_index]\n",
    "        model.fit(X_train, y_train)\n",
    "        y_pred_test = model.predict(X_test)\n",
    "        y_pred_train = model.predict(X_train)\n",
    "        mse_test = mean_squared_error(y_test, y_pred_test)\n",
    "        mse_train = mean_squared_error(y_train, y_pred_train)\n",
    "        r2_test = r2_score(y_test, y_pred_test)\n",
    "        r2_train = r2_score(y_train, y_pred_train)\n",
    "        mse_scores_test.append(mse_test)\n",
    "        mse_scores_train.append(mse_train)\n",
    "        r2_scores_test.append(r2_test)\n",
    "        r2_scores_train.append(r2_train)\n",
    "\n",
    "    average_mse_test = np.mean(mse_scores_test)\n",
    "    average_mse_train = np.mean(mse_scores_train)\n",
    "    average_r2_test = np.mean(r2_scores_test)\n",
    "    average_r2_train = np.mean(r2_scores_train)  \n",
    "\n",
    "    print(f'{name} - R^2 Score (Train) : {average_r2_train:.2f}, R^2 Score (Test): {average_r2_test:.2f}')\n",
    "    print(r2_scores_test)\n"
   ]
  },
  {
   "cell_type": "code",
   "execution_count": 31,
   "metadata": {},
   "outputs": [],
   "source": [
    "X_train, X_test, y_train, y_test = train_test_split(X, y, test_size=0.2, random_state=42)"
   ]
  },
  {
   "cell_type": "code",
   "execution_count": 32,
   "metadata": {},
   "outputs": [],
   "source": [
    "# import pandas as pd\n",
    "\n",
    "# # Assuming X_train is your DataFrame\n",
    "# # X_train = pd.DataFrame(...)\n",
    "\n",
    "# corr_matrix = X_train.corr()\n",
    "\n",
    "# # Get the column names of the DataFrame\n",
    "# columns = corr_matrix.columns\n",
    "\n",
    "# # Create an empty list to keep track of columns to drop\n",
    "# columns_to_drop = []\n",
    "# # Create a dictionary to store highly correlated features\n",
    "# highly_correlated_features = {}\n",
    "\n",
    "# # Loop over the columns\n",
    "# for i in range(len(columns)):\n",
    "#     for j in range(0, len(columns)):  # Loop only over the upper triangle to avoid duplicate comparisons\n",
    "#         # Access the cell of the DataFrame\n",
    "#         if abs(corr_matrix.iloc[i, j]) > 0.90:\n",
    "#             # Sort correlated features based on correlation coefficient\n",
    "#             sorted_features = sorted([(corr_matrix.iloc[i, j], columns[j]), (corr_matrix.iloc[i, i], columns[i])],\n",
    "#                                      key=lambda x: abs(x[0]), reverse=True)\n",
    "#             # Add the column to drop\n",
    "#             columns_to_drop.append(sorted_features[1][1])  # Add the one with lower correlation\n",
    "#             # Update the dictionary with highly correlated features\n",
    "#             if sorted_features[0][1] in highly_correlated_features:\n",
    "#                 highly_correlated_features[sorted_features[0][1]].append(sorted_features[1][1])\n",
    "#             else:\n",
    "#                 highly_correlated_features[sorted_features[0][1]] = [sorted_features[1][1]]\n",
    "\n",
    "# print(len(columns_to_drop))\n"
   ]
  },
  {
   "cell_type": "code",
   "execution_count": 33,
   "metadata": {},
   "outputs": [],
   "source": [
    "# import seaborn as sns\n",
    "\n",
    "# corr_matrix = X_train.corr()\n",
    "\n",
    "# # Get the column names of the DataFrame\n",
    "# columns = corr_matrix.columns\n",
    "\n",
    "# # Define a function to sort correlations in descending order (absolute value)\n",
    "# def sort_correlations(series):\n",
    "#   # Take the absolute value of the series\n",
    "#   abs_series = series.abs()\n",
    "#   # Sort the absolute values in descending order\n",
    "#   return abs_series.sort_values(ascending=False)\n",
    "\n",
    "# # Sort each column of the correlation matrix\n",
    "# sorted_corr_matrix = corr_matrix.apply(sort_correlations)\n",
    "\n",
    "# # Create an empty list to keep track of columns to drop\n",
    "# columns_to_drop = []\n",
    "# # Create a dictionary to store highly correlated features\n",
    "# highly_correlated_features = {}\n",
    "\n",
    "# # Loop over the sorted correlation matrix\n",
    "# for i in range(len(sorted_corr_matrix.columns)):\n",
    "#   # Skip the diagonal (correlation with self)\n",
    "#   if i == sorted_corr_matrix.columns[i]:\n",
    "#     continue\n",
    "#   # Get the current column and sorted correlations\n",
    "#   current_column = sorted_corr_matrix.columns[i]\n",
    "#   sorted_correlations = sorted_corr_matrix.loc[current_column]\n",
    "  \n",
    "#   # Identify highly correlated features (> 0.90) excluding the current column\n",
    "#   highly_correlated_features[current_column] = list(sorted_correlations[sorted_correlations > 0.90].index.difference([current_column]))\n",
    "\n",
    "#   # Update columns to drop based on correlations with the current column\n",
    "#   columns_to_drop.extend(highly_correlated_features[current_column])\n",
    "\n",
    "# # Remove duplicates from columns to drop\n",
    "# columns_to_drop = list(set(columns_to_drop))\n",
    "\n",
    "# print(len(columns_to_drop))"
   ]
  },
  {
   "cell_type": "code",
   "execution_count": 34,
   "metadata": {},
   "outputs": [
    {
     "name": "stdout",
     "output_type": "stream",
     "text": [
      "300\n"
     ]
    }
   ],
   "source": [
    "import seaborn as sns\n",
    "corr_matrix = X_train.corr()\n",
    "\n",
    "# Get the column names of the DataFrame\n",
    "columns = corr_matrix.columns\n",
    "\n",
    "# Create an empty list to keep track of columns to drop\n",
    "columns_to_drop = []\n",
    "# Create a dictionary to store highly correlated features\n",
    "highly_correlated_features = {}\n",
    "\n",
    "# Loop over the columns\n",
    "for i in range(len(columns)):\n",
    "    for j in range(0, len(columns)):\n",
    "        # Access the cell of the DataFrame\n",
    "        if i != j and corr_matrix.iloc[i, j] > 0.90:\n",
    "            # Add the column to drop\n",
    "            columns_to_drop.append(columns[j])\n",
    "            # Update the dictionary with highly correlated features\n",
    "            if columns[i] in highly_correlated_features:\n",
    "                highly_correlated_features[columns[i]].append((columns[j], corr_matrix.iloc[i, j].round(4)))\n",
    "            else:\n",
    "                highly_correlated_features[columns[i]] = [(columns[j], corr_matrix.iloc[i, j].round(4))]\n",
    "\n",
    "\n",
    "print(len(columns_to_drop))"
   ]
  },
  {
   "cell_type": "code",
   "execution_count": 35,
   "metadata": {},
   "outputs": [
    {
     "name": "stdout",
     "output_type": "stream",
     "text": [
      "['stl2_11', 'stl2_12', 'stl2_1', 'stl3_1', 'stl2_2', 'stl3_2', 'stl2_3', 'stl3_3', 'stl2_4', 'stl3_4', 'stl1_11', 'stl3_11', 'stl1_12', 'stl3_12', 'stl3_1', 'stl1_1', 'stl3_1', 'stl3_2', 'stl1_2', 'stl3_2', 'stl1_3', 'stl3_3', 'stl1_4', 'stl3_4', 'stl2_11', 'stl4_12', 'stl4_1', 'stl2_12', 'stl1_1', 'stl2_12', 'stl2_1', 'stl4_4', 'stl1_2', 'stl2_1', 'stl2_2', 'stl1_3', 'stl2_3', 'stl4_4', 'stl1_4', 'stl2_4', 'stl4_4', 'stl4_12', 'stl3_11', 'stl4_11', 'stl4_1', 'stl3_11', 'stl4_12', 'stl4_2', 'stl4_1', 'stl4_3', 'stl4_2', 'stl4_4', 'stl3_1', 'stl3_3', 'stl3_4', 'stl4_3', 'swvl1_12', 'swvl1_1', 'swvl1_4', 'swvl1_11', 'swvl1_1', 'swvl1_3', 'swvl1_4', 'swvl2_12', 'swvl1_11', 'swvl1_12', 'swvl1_2', 'swvl1_3', 'swvl1_4', 'swvl1_1', 'swvl1_3', 'swvl1_4', 'swvl1_12', 'swvl1_1', 'swvl1_2', 'swvl1_4', 'swvl1_11', 'swvl1_12', 'swvl1_1', 'swvl1_2', 'swvl1_3', 'swvl2_12', 'swvl2_1', 'swvl2_2', 'swvl2_4', 'swvl3_11', 'swvl3_12', 'swvl3_1', 'swvl3_2', 'swvl3_3', 'swvl3_4', 'swvl1_12', 'swvl2_11', 'swvl2_1', 'swvl2_2', 'swvl2_4', 'swvl3_11', 'swvl3_12', 'swvl3_1', 'swvl3_2', 'swvl3_3', 'swvl3_4', 'swvl2_11', 'swvl2_12', 'swvl2_2', 'swvl2_3', 'swvl2_4', 'swvl3_11', 'swvl3_12', 'swvl3_1', 'swvl3_2', 'swvl3_3', 'swvl3_4', 'swvl4_1', 'swvl4_2', 'swvl4_3', 'swvl4_4', 'swvl2_11', 'swvl2_12', 'swvl2_1', 'swvl2_3', 'swvl2_4', 'swvl3_1', 'swvl3_2', 'swvl3_3', 'swvl3_4', 'swvl2_1', 'swvl2_2', 'swvl2_4', 'swvl3_1', 'swvl3_2', 'swvl3_3', 'swvl3_4', 'swvl2_11', 'swvl2_12', 'swvl2_1', 'swvl2_2', 'swvl2_3', 'swvl3_12', 'swvl3_1', 'swvl3_2', 'swvl3_3', 'swvl3_4', 'swvl4_4', 'swvl2_11', 'swvl2_12', 'swvl2_1', 'swvl3_12', 'swvl3_1', 'swvl3_2', 'swvl3_3', 'swvl3_4', 'swvl4_11', 'swvl4_12', 'swvl4_1', 'swvl4_2', 'swvl4_3', 'swvl4_4', 'swvl2_11', 'swvl2_12', 'swvl2_1', 'swvl2_4', 'swvl3_11', 'swvl3_1', 'swvl3_2', 'swvl3_3', 'swvl3_4', 'swvl4_11', 'swvl4_12', 'swvl4_1', 'swvl4_2', 'swvl4_3', 'swvl4_4', 'swvl2_11', 'swvl2_12', 'swvl2_1', 'swvl2_2', 'swvl2_3', 'swvl2_4', 'swvl3_11', 'swvl3_12', 'swvl3_2', 'swvl3_3', 'swvl3_4', 'swvl4_11', 'swvl4_12', 'swvl4_1', 'swvl4_2', 'swvl4_3', 'swvl4_4', 'swvl2_11', 'swvl2_12', 'swvl2_1', 'swvl2_2', 'swvl2_3', 'swvl2_4', 'swvl3_11', 'swvl3_12', 'swvl3_1', 'swvl3_3', 'swvl3_4', 'swvl4_11', 'swvl4_12', 'swvl4_1', 'swvl4_2', 'swvl4_3', 'swvl4_4', 'swvl2_11', 'swvl2_12', 'swvl2_1', 'swvl2_2', 'swvl2_3', 'swvl2_4', 'swvl3_11', 'swvl3_12', 'swvl3_1', 'swvl3_2', 'swvl3_4', 'swvl4_12', 'swvl4_1', 'swvl4_2', 'swvl4_3', 'swvl4_4', 'swvl2_11', 'swvl2_12', 'swvl2_1', 'swvl2_2', 'swvl2_3', 'swvl2_4', 'swvl3_11', 'swvl3_12', 'swvl3_1', 'swvl3_2', 'swvl3_3', 'swvl3_11', 'swvl3_12', 'swvl3_1', 'swvl3_2', 'swvl4_12', 'swvl4_1', 'swvl4_2', 'swvl4_3', 'swvl4_4', 'swvl3_11', 'swvl3_12', 'swvl3_1', 'swvl3_2', 'swvl3_3', 'swvl4_11', 'swvl4_1', 'swvl4_2', 'swvl4_3', 'swvl4_4', 'swvl2_1', 'swvl3_11', 'swvl3_12', 'swvl3_1', 'swvl3_2', 'swvl3_3', 'swvl4_11', 'swvl4_12', 'swvl4_2', 'swvl4_3', 'swvl4_4', 'swvl2_1', 'swvl3_11', 'swvl3_12', 'swvl3_1', 'swvl3_2', 'swvl3_3', 'swvl4_11', 'swvl4_12', 'swvl4_1', 'swvl4_3', 'swvl4_4', 'swvl2_1', 'swvl3_11', 'swvl3_12', 'swvl3_1', 'swvl3_2', 'swvl3_3', 'swvl4_11', 'swvl4_12', 'swvl4_1', 'swvl4_2', 'swvl4_4', 'swvl2_1', 'swvl2_4', 'swvl3_11', 'swvl3_12', 'swvl3_1', 'swvl3_2', 'swvl3_3', 'swvl4_11', 'swvl4_12', 'swvl4_1', 'swvl4_2', 'swvl4_3', 'countrain_11', 'rain_11']\n"
     ]
    }
   ],
   "source": [
    "print(columns_to_drop)"
   ]
  },
  {
   "cell_type": "code",
   "execution_count": 36,
   "metadata": {},
   "outputs": [
    {
     "name": "stdout",
     "output_type": "stream",
     "text": [
      "Highly correlated features:\n",
      "stl1_11 : [('stl2_11', 0.971)]\n",
      "stl1_12 : [('stl2_12', 0.9795)]\n",
      "stl1_1 : [('stl2_1', 0.9906), ('stl3_1', 0.9126)]\n",
      "stl1_2 : [('stl2_2', 0.9965), ('stl3_2', 0.9426)]\n",
      "stl1_3 : [('stl2_3', 0.9924), ('stl3_3', 0.9401)]\n",
      "stl1_4 : [('stl2_4', 0.9816), ('stl3_4', 0.9099)]\n",
      "stl2_11 : [('stl1_11', 0.971), ('stl3_11', 0.9144)]\n",
      "stl2_12 : [('stl1_12', 0.9795), ('stl3_12', 0.9216), ('stl3_1', 0.9128)]\n",
      "stl2_1 : [('stl1_1', 0.9906), ('stl3_1', 0.9545), ('stl3_2', 0.9119)]\n",
      "stl2_2 : [('stl1_2', 0.9965), ('stl3_2', 0.9649)]\n",
      "stl2_3 : [('stl1_3', 0.9924), ('stl3_3', 0.9677)]\n",
      "stl2_4 : [('stl1_4', 0.9816), ('stl3_4', 0.9547)]\n",
      "stl3_11 : [('stl2_11', 0.9144), ('stl4_12', 0.9424), ('stl4_1', 0.9031)]\n",
      "stl3_12 : [('stl2_12', 0.9216)]\n",
      "stl3_1 : [('stl1_1', 0.9126), ('stl2_12', 0.9128), ('stl2_1', 0.9545), ('stl4_4', 0.9203)]\n",
      "stl3_2 : [('stl1_2', 0.9426), ('stl2_1', 0.9119), ('stl2_2', 0.9649)]\n",
      "stl3_3 : [('stl1_3', 0.9401), ('stl2_3', 0.9677), ('stl4_4', 0.9385)]\n",
      "stl3_4 : [('stl1_4', 0.9099), ('stl2_4', 0.9547), ('stl4_4', 0.9159)]\n",
      "stl4_11 : [('stl4_12', 0.9577)]\n",
      "stl4_12 : [('stl3_11', 0.9424), ('stl4_11', 0.9577), ('stl4_1', 0.9444)]\n",
      "stl4_1 : [('stl3_11', 0.9031), ('stl4_12', 0.9444), ('stl4_2', 0.9662)]\n",
      "stl4_2 : [('stl4_1', 0.9662), ('stl4_3', 0.9701)]\n",
      "stl4_3 : [('stl4_2', 0.9701), ('stl4_4', 0.9665)]\n",
      "stl4_4 : [('stl3_1', 0.9203), ('stl3_3', 0.9385), ('stl3_4', 0.9159), ('stl4_3', 0.9665)]\n",
      "swvl1_11 : [('swvl1_12', 0.9652), ('swvl1_1', 0.9083), ('swvl1_4', 0.9043)]\n",
      "swvl1_12 : [('swvl1_11', 0.9652), ('swvl1_1', 0.9262), ('swvl1_3', 0.9062), ('swvl1_4', 0.9208), ('swvl2_12', 0.9018)]\n",
      "swvl1_1 : [('swvl1_11', 0.9083), ('swvl1_12', 0.9262), ('swvl1_2', 0.9425), ('swvl1_3', 0.9425), ('swvl1_4', 0.9491)]\n",
      "swvl1_2 : [('swvl1_1', 0.9425), ('swvl1_3', 0.9321), ('swvl1_4', 0.935)]\n",
      "swvl1_3 : [('swvl1_12', 0.9062), ('swvl1_1', 0.9425), ('swvl1_2', 0.9321), ('swvl1_4', 0.9656)]\n",
      "swvl1_4 : [('swvl1_11', 0.9043), ('swvl1_12', 0.9208), ('swvl1_1', 0.9491), ('swvl1_2', 0.935), ('swvl1_3', 0.9656)]\n",
      "swvl2_11 : [('swvl2_12', 0.9724), ('swvl2_1', 0.9584), ('swvl2_2', 0.9083), ('swvl2_4', 0.9154), ('swvl3_11', 0.9457), ('swvl3_12', 0.9675), ('swvl3_1', 0.9665), ('swvl3_2', 0.9582), ('swvl3_3', 0.9433), ('swvl3_4', 0.9231)]\n",
      "swvl2_12 : [('swvl1_12', 0.9018), ('swvl2_11', 0.9724), ('swvl2_1', 0.9669), ('swvl2_2', 0.9022), ('swvl2_4', 0.9112), ('swvl3_11', 0.9129), ('swvl3_12', 0.9514), ('swvl3_1', 0.9569), ('swvl3_2', 0.9472), ('swvl3_3', 0.933), ('swvl3_4', 0.9142)]\n",
      "swvl2_1 : [('swvl2_11', 0.9584), ('swvl2_12', 0.9669), ('swvl2_2', 0.9667), ('swvl2_3', 0.9487), ('swvl2_4', 0.9583), ('swvl3_11', 0.9238), ('swvl3_12', 0.9472), ('swvl3_1', 0.9604), ('swvl3_2', 0.9669), ('swvl3_3', 0.9638), ('swvl3_4', 0.9518), ('swvl4_1', 0.9001), ('swvl4_2', 0.9041), ('swvl4_3', 0.9086), ('swvl4_4', 0.9137)]\n",
      "swvl2_2 : [('swvl2_11', 0.9083), ('swvl2_12', 0.9022), ('swvl2_1', 0.9667), ('swvl2_3', 0.9714), ('swvl2_4', 0.9638), ('swvl3_1', 0.9156), ('swvl3_2', 0.9351), ('swvl3_3', 0.9454), ('swvl3_4', 0.9423)]\n",
      "swvl2_3 : [('swvl2_1', 0.9487), ('swvl2_2', 0.9714), ('swvl2_4', 0.979), ('swvl3_1', 0.9057), ('swvl3_2', 0.9251), ('swvl3_3', 0.9413), ('swvl3_4', 0.9457)]\n",
      "swvl2_4 : [('swvl2_11', 0.9154), ('swvl2_12', 0.9112), ('swvl2_1', 0.9583), ('swvl2_2', 0.9638), ('swvl2_3', 0.979), ('swvl3_12', 0.9034), ('swvl3_1', 0.9217), ('swvl3_2', 0.9401), ('swvl3_3', 0.9552), ('swvl3_4', 0.9649), ('swvl4_4', 0.9003)]\n",
      "swvl3_11 : [('swvl2_11', 0.9457), ('swvl2_12', 0.9129), ('swvl2_1', 0.9238), ('swvl3_12', 0.9884), ('swvl3_1', 0.9796), ('swvl3_2', 0.9676), ('swvl3_3', 0.9445), ('swvl3_4', 0.9165), ('swvl4_11', 0.9214), ('swvl4_12', 0.9262), ('swvl4_1', 0.9297), ('swvl4_2', 0.9325), ('swvl4_3', 0.9351), ('swvl4_4', 0.9377)]\n",
      "swvl3_12 : [('swvl2_11', 0.9675), ('swvl2_12', 0.9514), ('swvl2_1', 0.9472), ('swvl2_4', 0.9034), ('swvl3_11', 0.9884), ('swvl3_1', 0.9967), ('swvl3_2', 0.9858), ('swvl3_3', 0.9656), ('swvl3_4', 0.9396), ('swvl4_11', 0.9106), ('swvl4_12', 0.9161), ('swvl4_1', 0.9201), ('swvl4_2', 0.9234), ('swvl4_3', 0.9268), ('swvl4_4', 0.9305)]\n",
      "swvl3_1 : [('swvl2_11', 0.9665), ('swvl2_12', 0.9569), ('swvl2_1', 0.9604), ('swvl2_2', 0.9156), ('swvl2_3', 0.9057), ('swvl2_4', 0.9217), ('swvl3_11', 0.9796), ('swvl3_12', 0.9967), ('swvl3_2', 0.9955), ('swvl3_3', 0.9816), ('swvl3_4', 0.9607), ('swvl4_11', 0.9122), ('swvl4_12', 0.9174), ('swvl4_1', 0.9213), ('swvl4_2', 0.9249), ('swvl4_3', 0.9286), ('swvl4_4', 0.9329)]\n",
      "swvl3_2 : [('swvl2_11', 0.9582), ('swvl2_12', 0.9472), ('swvl2_1', 0.9669), ('swvl2_2', 0.9351), ('swvl2_3', 0.9251), ('swvl2_4', 0.9401), ('swvl3_11', 0.9676), ('swvl3_12', 0.9858), ('swvl3_1', 0.9955), ('swvl3_3', 0.9948), ('swvl3_4', 0.9806), ('swvl4_11', 0.9117), ('swvl4_12', 0.9164), ('swvl4_1', 0.92), ('swvl4_2', 0.9236), ('swvl4_3', 0.9278), ('swvl4_4', 0.9327)]\n",
      "swvl3_3 : [('swvl2_11', 0.9433), ('swvl2_12', 0.933), ('swvl2_1', 0.9638), ('swvl2_2', 0.9454), ('swvl2_3', 0.9413), ('swvl2_4', 0.9552), ('swvl3_11', 0.9445), ('swvl3_12', 0.9656), ('swvl3_1', 0.9816), ('swvl3_2', 0.9948), ('swvl3_4', 0.9949), ('swvl4_12', 0.9025), ('swvl4_1', 0.9059), ('swvl4_2', 0.9098), ('swvl4_3', 0.9145), ('swvl4_4', 0.9203)]\n",
      "swvl3_4 : [('swvl2_11', 0.9231), ('swvl2_12', 0.9142), ('swvl2_1', 0.9518), ('swvl2_2', 0.9423), ('swvl2_3', 0.9457), ('swvl2_4', 0.9649), ('swvl3_11', 0.9165), ('swvl3_12', 0.9396), ('swvl3_1', 0.9607), ('swvl3_2', 0.9806), ('swvl3_3', 0.9949)]\n",
      "swvl4_11 : [('swvl3_11', 0.9214), ('swvl3_12', 0.9106), ('swvl3_1', 0.9122), ('swvl3_2', 0.9117), ('swvl4_12', 0.9998), ('swvl4_1', 0.999), ('swvl4_2', 0.9984), ('swvl4_3', 0.9976), ('swvl4_4', 0.9964)]\n",
      "swvl4_12 : [('swvl3_11', 0.9262), ('swvl3_12', 0.9161), ('swvl3_1', 0.9174), ('swvl3_2', 0.9164), ('swvl3_3', 0.9025), ('swvl4_11', 0.9998), ('swvl4_1', 0.9995), ('swvl4_2', 0.9991), ('swvl4_3', 0.9986), ('swvl4_4', 0.9977)]\n",
      "swvl4_1 : [('swvl2_1', 0.9001), ('swvl3_11', 0.9297), ('swvl3_12', 0.9201), ('swvl3_1', 0.9213), ('swvl3_2', 0.92), ('swvl3_3', 0.9059), ('swvl4_11', 0.999), ('swvl4_12', 0.9995), ('swvl4_2', 0.9999), ('swvl4_3', 0.9996), ('swvl4_4', 0.9989)]\n",
      "swvl4_2 : [('swvl2_1', 0.9041), ('swvl3_11', 0.9325), ('swvl3_12', 0.9234), ('swvl3_1', 0.9249), ('swvl3_2', 0.9236), ('swvl3_3', 0.9098), ('swvl4_11', 0.9984), ('swvl4_12', 0.9991), ('swvl4_1', 0.9999), ('swvl4_3', 0.9999), ('swvl4_4', 0.9994)]\n",
      "swvl4_3 : [('swvl2_1', 0.9086), ('swvl3_11', 0.9351), ('swvl3_12', 0.9268), ('swvl3_1', 0.9286), ('swvl3_2', 0.9278), ('swvl3_3', 0.9145), ('swvl4_11', 0.9976), ('swvl4_12', 0.9986), ('swvl4_1', 0.9996), ('swvl4_2', 0.9999), ('swvl4_4', 0.9998)]\n",
      "swvl4_4 : [('swvl2_1', 0.9137), ('swvl2_4', 0.9003), ('swvl3_11', 0.9377), ('swvl3_12', 0.9305), ('swvl3_1', 0.9329), ('swvl3_2', 0.9327), ('swvl3_3', 0.9203), ('swvl4_11', 0.9964), ('swvl4_12', 0.9977), ('swvl4_1', 0.9989), ('swvl4_2', 0.9994), ('swvl4_3', 0.9998)]\n",
      "rain_11 : [('countrain_11', 0.936)]\n",
      "countrain_11 : [('rain_11', 0.936)]\n"
     ]
    }
   ],
   "source": [
    "print(\"Highly correlated features:\")\n",
    "for key, value in highly_correlated_features.items():\n",
    "    print(key, \":\", value)"
   ]
  },
  {
   "cell_type": "code",
   "execution_count": 37,
   "metadata": {},
   "outputs": [
    {
     "ename": "NameError",
     "evalue": "name 'stop' is not defined",
     "output_type": "error",
     "traceback": [
      "\u001b[1;31m---------------------------------------------------------------------------\u001b[0m",
      "\u001b[1;31mNameError\u001b[0m                                 Traceback (most recent call last)",
      "Cell \u001b[1;32mIn[37], line 1\u001b[0m\n\u001b[1;32m----> 1\u001b[0m \u001b[43mstop\u001b[49m\n",
      "\u001b[1;31mNameError\u001b[0m: name 'stop' is not defined"
     ]
    }
   ],
   "source": [
    "stop"
   ]
  },
  {
   "cell_type": "code",
   "execution_count": null,
   "metadata": {},
   "outputs": [],
   "source": [
    "import time\n",
    "def print_accuracy(f):\n",
    "    print(\n",
    "        f\"Root mean squared test error = {np.sqrt(np.mean((f(X_test) - y_test) ** 2))}\"\n",
    "    )\n",
    "    time.sleep(0.5)  # to let the print get out before any progress bars"
   ]
  },
  {
   "cell_type": "code",
   "execution_count": null,
   "metadata": {},
   "outputs": [],
   "source": [
    "from sklearn.ensemble import RandomForestRegressor\n",
    "\n",
    "rforest = RandomForestRegressor(\n",
    "    n_estimators=1000, max_depth=None, min_samples_split=2, random_state=0\n",
    ")\n",
    "rforest.fit(X_train, y_train)\n",
    "print_accuracy(rforest.predict)"
   ]
  },
  {
   "cell_type": "code",
   "execution_count": null,
   "metadata": {},
   "outputs": [],
   "source": [
    "y_pred = rforest.predict(X_test)\n",
    "mse = mean_squared_error(y_test, y_pred)\n",
    "r2 = r2_score(y_test, y_pred)\n",
    "print(mse,r2)"
   ]
  },
  {
   "cell_type": "code",
   "execution_count": null,
   "metadata": {},
   "outputs": [],
   "source": [
    "#pip install shap"
   ]
  },
  {
   "cell_type": "code",
   "execution_count": null,
   "metadata": {},
   "outputs": [],
   "source": [
    "stop"
   ]
  },
  {
   "cell_type": "code",
   "execution_count": null,
   "metadata": {},
   "outputs": [],
   "source": [
    "columns_to_drop = set(columns_to_drop)\n",
    "print(columns_to_drop)"
   ]
  },
  {
   "cell_type": "code",
   "execution_count": null,
   "metadata": {},
   "outputs": [],
   "source": [
    "len(columns_to_drop)"
   ]
  },
  {
   "cell_type": "code",
   "execution_count": null,
   "metadata": {},
   "outputs": [],
   "source": [
    "X_train.drop(columns = columns_to_drop, axis = 1, inplace=True)\n",
    "X_test.drop(columns = columns_to_drop, axis = 1, inplace=True)"
   ]
  },
  {
   "cell_type": "code",
   "execution_count": null,
   "metadata": {},
   "outputs": [],
   "source": [
    "from sklearn.model_selection import train_test_split\n",
    "from sklearn.linear_model import LinearRegression\n",
    "from sklearn.metrics import mean_squared_error, r2_score"
   ]
  },
  {
   "cell_type": "code",
   "execution_count": null,
   "metadata": {},
   "outputs": [],
   "source": [
    "# Import necessary libraries\n",
    "import numpy as np\n",
    "import pandas as pd\n",
    "from sklearn.model_selection import train_test_split\n",
    "from sklearn.linear_model import LinearRegression, Ridge, Lasso\n",
    "from sklearn.tree import DecisionTreeRegressor\n",
    "from sklearn.ensemble import RandomForestRegressor, GradientBoostingRegressor\n",
    "from sklearn.svm import SVR\n",
    "from sklearn.metrics import mean_squared_error, r2_score\n",
    "from sklearn.model_selection import KFold\n",
    "\n",
    "\n",
    "# Create KFold object\n",
    "k = 5\n",
    "kfold = KFold(n_splits=k, shuffle=True)\n",
    "\n",
    "\n",
    "# Models\n",
    "models = {\n",
    "    \"Linear Regression\": LinearRegression(),\n",
    "    \"Ridge Regression\": Ridge(),\n",
    "    \"Lasso Regression\": Lasso(),\n",
    "    \"Decision Tree\": DecisionTreeRegressor(),\n",
    "    \"Gradient Boosting\": GradientBoostingRegressor(),\n",
    "    \"Random Forest\": RandomForestRegressor(),\n",
    "    \"Support Vector Machine\": SVR()\n",
    "}\n",
    "\n",
    "# Train and evaluate each model\n",
    "for name, model in models.items():\n",
    "    mse_scores = []\n",
    "    r2_scores = []\n",
    "\n",
    "    for train_index, test_index in kfold.split(X):\n",
    "        X_train, X_test = X[train_index], X[test_index]\n",
    "        y_train, y_test = y[train_index], y[test_index]\n",
    "    model.fit(X_train, y_train)\n",
    "    y_pred = model.predict(X_test)\n",
    "    mse = mean_squared_error(y_test, y_pred)\n",
    "    r2 = r2_score(y_test, y_pred)\n",
    "    print(f'{name} - Mean Squared Error: {mse:.2f}, R^2 Score: {r2:.2f}')\n"
   ]
  },
  {
   "cell_type": "code",
   "execution_count": null,
   "metadata": {},
   "outputs": [],
   "source": [
    "import xarray\n",
    "data = xarray.open_dataset(r\"C:\\Users\\Kanishk Goyal\\OneDrive - IIT Kanpur\\Desktop\\Prof. Hamim Zafar\\Data\\Relative humidity\\1month_mean_Global_ea_r2_199703_v02.grib\", engine='cfgrib')\n",
    "data.to_netcdf(r\"C:\\Users\\Kanishk Goyal\\OneDrive - IIT Kanpur\\Desktop\\Prof. Hamim Zafar\\Data\\Relative humidity\\1month_mean_Global_ea_r2_199703_v02.nc\")"
   ]
  },
  {
   "cell_type": "code",
   "execution_count": null,
   "metadata": {},
   "outputs": [],
   "source": []
  }
 ],
 "metadata": {
  "kernelspec": {
   "display_name": "Python 3",
   "language": "python",
   "name": "python3"
  },
  "language_info": {
   "codemirror_mode": {
    "name": "ipython",
    "version": 3
   },
   "file_extension": ".py",
   "mimetype": "text/x-python",
   "name": "python",
   "nbconvert_exporter": "python",
   "pygments_lexer": "ipython3",
   "version": "3.11.4"
  }
 },
 "nbformat": 4,
 "nbformat_minor": 2
}
