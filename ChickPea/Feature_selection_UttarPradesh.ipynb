{
 "cells": [
  {
   "cell_type": "code",
   "execution_count": 1,
   "metadata": {},
   "outputs": [],
   "source": [
    "import numpy as np \n",
    "import pandas as pd\n",
    "import seaborn as sns\n",
    "import matplotlib.pyplot as plt\n",
    "from sklearn.preprocessing import LabelEncoder\n",
    "from sklearn.model_selection import train_test_split\n",
    "from sklearn.linear_model import LinearRegression\n",
    "from sklearn.metrics import mean_squared_error, r2_score\n",
    "import seaborn as sns"
   ]
  },
  {
   "cell_type": "code",
   "execution_count": 2,
   "metadata": {},
   "outputs": [],
   "source": [
    "df = pd.read_csv(r\"C:\\Users\\Kanishk Goyal\\OneDrive - IIT Kanpur\\Desktop\\Prof. Hamim Zafar\\Data\\Final Data\\ChickPea\\ChickPea_UttarPradesh_updated.csv\")\n",
    "df = df.drop(columns=['latitude','longitude','DistrictName', 'year'])\n",
    "# df = df.sample(frac=1).reset_index(drop=True)\n",
    "#df = df.drop(columns=['DistrictName','latitude','longitude','year','year_mask'])"
   ]
  },
  {
   "cell_type": "code",
   "execution_count": 3,
   "metadata": {},
   "outputs": [],
   "source": [
    "df = df.rename(columns={'Yield(tonnes/hectare)':'Yield(Tonnes/Hectare)'},inplace=False)"
   ]
  },
  {
   "cell_type": "code",
   "execution_count": 4,
   "metadata": {},
   "outputs": [
    {
     "data": {
      "text/plain": [
       "Index(['stl1_11', 'stl1_12', 'stl1_1', 'stl1_2', 'stl1_3', 'stl1_4', 'stl2_11',\n",
       "       'stl2_12', 'stl2_1', 'stl2_2', 'stl2_3', 'stl2_4', 'stl3_11', 'stl3_12',\n",
       "       'stl3_1', 'stl3_2', 'stl3_3', 'stl3_4', 'stl4_11', 'stl4_12', 'stl4_1',\n",
       "       'stl4_2', 'stl4_3', 'stl4_4', 'swvl1_11', 'swvl1_12', 'swvl1_1',\n",
       "       'swvl1_2', 'swvl1_3', 'swvl1_4', 'swvl2_11', 'swvl2_12', 'swvl2_1',\n",
       "       'swvl2_2', 'swvl2_3', 'swvl2_4', 'swvl3_11', 'swvl3_12', 'swvl3_1',\n",
       "       'swvl3_2', 'swvl3_3', 'swvl3_4', 'swvl4_11', 'swvl4_12', 'swvl4_1',\n",
       "       'swvl4_2', 'swvl4_3', 'swvl4_4', 'ssr_11', 'ssr_12', 'ssr_1', 'ssr_2',\n",
       "       'ssr_3', 'ssr_4', 'rh_11', 'rh_12', 'rh_1', 'rh_2', 'rh_3', 'rh_4',\n",
       "       'u10_11', 'u10_12', 'u10_1', 'u10_2', 'u10_3', 'u10_4', 'v10_11',\n",
       "       'v10_12', 'v10_1', 'v10_2', 'v10_3', 'v10_4', 'tmax_11', 'tmax_12',\n",
       "       'tmax_1', 'tmax_2', 'tmax_3', 'tmax_4', 'tmin_11', 'tmin_12', 'tmin_1',\n",
       "       'tmin_2', 'tmin_3', 'tmin_4', 'rain_11', 'rain_12', 'rain_1', 'rain_2',\n",
       "       'rain_3', 'rain_4', 'countrain_11', 'countrain_12', 'countrain_1',\n",
       "       'countrain_2', 'countrain_3', 'countrain_4', 'Yield(Tonnes/Hectare)'],\n",
       "      dtype='object')"
      ]
     },
     "execution_count": 4,
     "metadata": {},
     "output_type": "execute_result"
    }
   ],
   "source": [
    "df.columns"
   ]
  },
  {
   "cell_type": "code",
   "execution_count": 5,
   "metadata": {},
   "outputs": [],
   "source": [
    "# df['stl1'] = (df['stl1_1'] + df['stl1_2'])/2\n",
    "# df['stl2'] = (df['stl2_1'] + df['stl2_2'])/2\n",
    "# df['stl3'] = (df['stl3_1'] + df['stl3_2'])/2\n",
    "# df['stl4'] = (df['stl4_1'] + df['stl4_2'])/2\n",
    "# df['swvl1'] = (df['swvl1_1'] + df['swvl1_2'])/2\n",
    "# df['swvl2'] = (df['swvl2_1'] + df['swvl2_2'])/2\n",
    "# df['swvl3'] = (df['swvl3_1'] + df['swvl3_2'])/2\n",
    "# df['swvl4'] = (df['swvl4_1'] + df['swvl4_2'])/2\n",
    "# df['ssr'] = (df['ssr_1'] + df['ssr_2'])/2\n",
    "# df['rain'] = (df['rain_1'] + df['rain_2'])/2\n",
    "# df['tmax'] = (df['tmax_1'] + df['tmax_2'])/2\n",
    "# df['tmin'] = (df['tmin_1'] + df['tmin_2'])/2\n",
    "# df['countrain'] = df['countrain_1'] + df['countrain_2']\n",
    "# df['u10'] = (df['u10_3']+df['u10_4'])/2\n",
    "# df['v10'] = (df['v10_3']+df['v10_4'])/2\n",
    "# df['rh'] = (df['rh_3']+df['rh_4'])/2"
   ]
  },
  {
   "cell_type": "code",
   "execution_count": 6,
   "metadata": {},
   "outputs": [],
   "source": [
    "# df = df.drop(columns=['stl1_1','stl1_2','stl2_1','stl2_2','stl3_1','stl3_2','stl4_1','stl4_2','swvl1_1','swvl1_2','swvl2_1','swvl2_2','swvl3_1','swvl3_2','swvl4_1','swvl4_2','ssr_1','ssr_2','rain_1','rain_2','tmax_1','tmax_2','tmin_1','tmin_2','countrain_1','countrain_2','u10_3','u10_4','v10_3','v10_4','rh_3','rh_4'],axis=1)"
   ]
  },
  {
   "cell_type": "code",
   "execution_count": 7,
   "metadata": {},
   "outputs": [
    {
     "data": {
      "text/plain": [
       "(1875, 97)"
      ]
     },
     "execution_count": 7,
     "metadata": {},
     "output_type": "execute_result"
    }
   ],
   "source": [
    "df.shape"
   ]
  },
  {
   "cell_type": "code",
   "execution_count": 8,
   "metadata": {},
   "outputs": [
    {
     "data": {
      "text/plain": [
       "Index(['stl1_11', 'stl1_12', 'stl1_1', 'stl1_2', 'stl1_3', 'stl1_4', 'stl2_11',\n",
       "       'stl2_12', 'stl2_1', 'stl2_2', 'stl2_3', 'stl2_4', 'stl3_11', 'stl3_12',\n",
       "       'stl3_1', 'stl3_2', 'stl3_3', 'stl3_4', 'stl4_11', 'stl4_12', 'stl4_1',\n",
       "       'stl4_2', 'stl4_3', 'stl4_4', 'swvl1_11', 'swvl1_12', 'swvl1_1',\n",
       "       'swvl1_2', 'swvl1_3', 'swvl1_4', 'swvl2_11', 'swvl2_12', 'swvl2_1',\n",
       "       'swvl2_2', 'swvl2_3', 'swvl2_4', 'swvl3_11', 'swvl3_12', 'swvl3_1',\n",
       "       'swvl3_2', 'swvl3_3', 'swvl3_4', 'swvl4_11', 'swvl4_12', 'swvl4_1',\n",
       "       'swvl4_2', 'swvl4_3', 'swvl4_4', 'ssr_11', 'ssr_12', 'ssr_1', 'ssr_2',\n",
       "       'ssr_3', 'ssr_4', 'rh_11', 'rh_12', 'rh_1', 'rh_2', 'rh_3', 'rh_4',\n",
       "       'u10_11', 'u10_12', 'u10_1', 'u10_2', 'u10_3', 'u10_4', 'v10_11',\n",
       "       'v10_12', 'v10_1', 'v10_2', 'v10_3', 'v10_4', 'tmax_11', 'tmax_12',\n",
       "       'tmax_1', 'tmax_2', 'tmax_3', 'tmax_4', 'tmin_11', 'tmin_12', 'tmin_1',\n",
       "       'tmin_2', 'tmin_3', 'tmin_4', 'rain_11', 'rain_12', 'rain_1', 'rain_2',\n",
       "       'rain_3', 'rain_4', 'countrain_11', 'countrain_12', 'countrain_1',\n",
       "       'countrain_2', 'countrain_3', 'countrain_4', 'Yield(Tonnes/Hectare)'],\n",
       "      dtype='object')"
      ]
     },
     "execution_count": 8,
     "metadata": {},
     "output_type": "execute_result"
    }
   ],
   "source": [
    "df.columns"
   ]
  },
  {
   "cell_type": "code",
   "execution_count": 9,
   "metadata": {},
   "outputs": [],
   "source": [
    "df = df.dropna(subset=['Yield(Tonnes/Hectare)'])"
   ]
  },
  {
   "cell_type": "code",
   "execution_count": 10,
   "metadata": {},
   "outputs": [
    {
     "data": {
      "text/plain": [
       "(1573, 97)"
      ]
     },
     "execution_count": 10,
     "metadata": {},
     "output_type": "execute_result"
    }
   ],
   "source": [
    "df.shape"
   ]
  },
  {
   "cell_type": "code",
   "execution_count": 11,
   "metadata": {},
   "outputs": [
    {
     "data": {
      "text/plain": [
       "13.32056132497699"
      ]
     },
     "execution_count": 11,
     "metadata": {},
     "output_type": "execute_result"
    }
   ],
   "source": [
    "df['Yield(Tonnes/Hectare)'].skew()"
   ]
  },
  {
   "cell_type": "code",
   "execution_count": 12,
   "metadata": {},
   "outputs": [
    {
     "name": "stderr",
     "output_type": "stream",
     "text": [
      "C:\\Users\\Kanishk Goyal\\AppData\\Local\\Temp\\ipykernel_23140\\994257175.py:1: UserWarning: \n",
      "\n",
      "`distplot` is a deprecated function and will be removed in seaborn v0.14.0.\n",
      "\n",
      "Please adapt your code to use either `displot` (a figure-level function with\n",
      "similar flexibility) or `histplot` (an axes-level function for histograms).\n",
      "\n",
      "For a guide to updating your code to use the new functions, please see\n",
      "https://gist.github.com/mwaskom/de44147ed2974457ad6372750bbe5751\n",
      "\n",
      "  sns.distplot(df['Yield(Tonnes/Hectare)'],color='green')\n"
     ]
    },
    {
     "data": {
      "text/plain": [
       "<Axes: xlabel='Yield(Tonnes/Hectare)', ylabel='Density'>"
      ]
     },
     "execution_count": 12,
     "metadata": {},
     "output_type": "execute_result"
    },
    {
     "data": {
      "image/png": "[encoded data removed]",
      "text/plain": [
       "<Figure size 640x480 with 1 Axes>"
      ]
     },
     "metadata": {},
     "output_type": "display_data"
    }
   ],
   "source": [
    "sns.distplot(df['Yield(Tonnes/Hectare)'],color='green')"
   ]
  },
  {
   "cell_type": "code",
   "execution_count": 13,
   "metadata": {},
   "outputs": [
    {
     "data": {
      "text/plain": [
       "0       0.77\n",
       "1       0.83\n",
       "2       0.68\n",
       "3       0.64\n",
       "4       0.94\n",
       "        ... \n",
       "1868    0.60\n",
       "1869    1.07\n",
       "1870    1.00\n",
       "1871    1.25\n",
       "1872    1.33\n",
       "Name: Yield(Tonnes/Hectare), Length: 1573, dtype: float64"
      ]
     },
     "execution_count": 13,
     "metadata": {},
     "output_type": "execute_result"
    }
   ],
   "source": [
    "df['Yield(Tonnes/Hectare)']"
   ]
  },
  {
   "cell_type": "code",
   "execution_count": 14,
   "metadata": {},
   "outputs": [
    {
     "name": "stdout",
     "output_type": "stream",
     "text": [
      "Number of points in the final DataFrame after handling outliers: 1514\n"
     ]
    }
   ],
   "source": [
    "Q1 = df['Yield(Tonnes/Hectare)'].quantile(0.25)\n",
    "Q3 = df['Yield(Tonnes/Hectare)'].quantile(0.75)\n",
    "IQR = Q3 - Q1\n",
    "\n",
    "lower_bound = Q1 - 1.5 * IQR\n",
    "upper_bound = Q3 + 1.5 * IQR\n",
    "\n",
    "df['Yield_no_outliers'] = np.where((df['Yield(Tonnes/Hectare)'] < lower_bound) | (df['Yield(Tonnes/Hectare)'] > upper_bound), np.nan, df['Yield(Tonnes/Hectare)'])\n",
    "\n",
    "num_points_after_handling_outliers = df['Yield_no_outliers'].count()\n",
    "print(\"Number of points in the final DataFrame after handling outliers:\", num_points_after_handling_outliers)"
   ]
  },
  {
   "cell_type": "code",
   "execution_count": 15,
   "metadata": {},
   "outputs": [],
   "source": [
    "df = df.dropna(subset=['Yield_no_outliers'])\n",
    "df = df.drop(columns=['Yield(Tonnes/Hectare)'])"
   ]
  },
  {
   "cell_type": "code",
   "execution_count": 16,
   "metadata": {},
   "outputs": [],
   "source": [
    "df.rename(columns={'Yield_no_outliers': 'Yield(Tonnes/Hectare)'}, inplace=True)"
   ]
  },
  {
   "cell_type": "code",
   "execution_count": 17,
   "metadata": {},
   "outputs": [
    {
     "data": {
      "text/plain": [
       "-0.006054374458469882"
      ]
     },
     "execution_count": 17,
     "metadata": {},
     "output_type": "execute_result"
    }
   ],
   "source": [
    "df['Yield(Tonnes/Hectare)'].skew()"
   ]
  },
  {
   "cell_type": "code",
   "execution_count": 18,
   "metadata": {},
   "outputs": [
    {
     "name": "stderr",
     "output_type": "stream",
     "text": [
      "C:\\Users\\Kanishk Goyal\\AppData\\Local\\Temp\\ipykernel_23140\\1820324139.py:1: UserWarning: \n",
      "\n",
      "`distplot` is a deprecated function and will be removed in seaborn v0.14.0.\n",
      "\n",
      "Please adapt your code to use either `displot` (a figure-level function with\n",
      "similar flexibility) or `histplot` (an axes-level function for histograms).\n",
      "\n",
      "For a guide to updating your code to use the new functions, please see\n",
      "https://gist.github.com/mwaskom/de44147ed2974457ad6372750bbe5751\n",
      "\n",
      "  sns.distplot(df['Yield(Tonnes/Hectare)'])\n"
     ]
    },
    {
     "data": {
      "text/plain": [
       "<Axes: xlabel='Yield(Tonnes/Hectare)', ylabel='Density'>"
      ]
     },
     "execution_count": 18,
     "metadata": {},
     "output_type": "execute_result"
    },
    {
     "data": {
      "image/png": "[encoded data removed]",
      "text/plain": [
       "<Figure size 640x480 with 1 Axes>"
      ]
     },
     "metadata": {},
     "output_type": "display_data"
    }
   ],
   "source": [
    "sns.distplot(df['Yield(Tonnes/Hectare)'])"
   ]
  },
  {
   "cell_type": "code",
   "execution_count": 19,
   "metadata": {},
   "outputs": [
    {
     "data": {
      "text/html": [
       "<div>\n",
       "<style scoped>\n",
       "    .dataframe tbody tr th:only-of-type {\n",
       "        vertical-align: middle;\n",
       "    }\n",
       "\n",
       "    .dataframe tbody tr th {\n",
       "        vertical-align: top;\n",
       "    }\n",
       "\n",
       "    .dataframe thead th {\n",
       "        text-align: right;\n",
       "    }\n",
       "</style>\n",
       "<table border=\"1\" class=\"dataframe\">\n",
       "  <thead>\n",
       "    <tr style=\"text-align: right;\">\n",
       "      <th></th>\n",
       "      <th>stl1_11</th>\n",
       "      <th>stl1_12</th>\n",
       "      <th>stl1_1</th>\n",
       "      <th>stl1_2</th>\n",
       "      <th>stl1_3</th>\n",
       "      <th>stl1_4</th>\n",
       "      <th>stl2_11</th>\n",
       "      <th>stl2_12</th>\n",
       "      <th>stl2_1</th>\n",
       "      <th>stl2_2</th>\n",
       "      <th>...</th>\n",
       "      <th>rain_2</th>\n",
       "      <th>rain_3</th>\n",
       "      <th>rain_4</th>\n",
       "      <th>countrain_11</th>\n",
       "      <th>countrain_12</th>\n",
       "      <th>countrain_1</th>\n",
       "      <th>countrain_2</th>\n",
       "      <th>countrain_3</th>\n",
       "      <th>countrain_4</th>\n",
       "      <th>Yield(Tonnes/Hectare)</th>\n",
       "    </tr>\n",
       "  </thead>\n",
       "  <tbody>\n",
       "    <tr>\n",
       "      <th>0</th>\n",
       "      <td>22.111803</td>\n",
       "      <td>17.715332</td>\n",
       "      <td>16.327410</td>\n",
       "      <td>20.361004</td>\n",
       "      <td>23.659508</td>\n",
       "      <td>31.437727</td>\n",
       "      <td>22.585130</td>\n",
       "      <td>18.451017</td>\n",
       "      <td>16.736614</td>\n",
       "      <td>20.172957</td>\n",
       "      <td>...</td>\n",
       "      <td>0.464838</td>\n",
       "      <td>0.844696</td>\n",
       "      <td>0.232295</td>\n",
       "      <td>3</td>\n",
       "      <td>2</td>\n",
       "      <td>3</td>\n",
       "      <td>3</td>\n",
       "      <td>5</td>\n",
       "      <td>1</td>\n",
       "      <td>0.77</td>\n",
       "    </tr>\n",
       "    <tr>\n",
       "      <th>1</th>\n",
       "      <td>21.750826</td>\n",
       "      <td>17.179908</td>\n",
       "      <td>16.792149</td>\n",
       "      <td>22.413083</td>\n",
       "      <td>27.930893</td>\n",
       "      <td>34.309400</td>\n",
       "      <td>22.489250</td>\n",
       "      <td>18.004682</td>\n",
       "      <td>17.239385</td>\n",
       "      <td>21.900375</td>\n",
       "      <td>...</td>\n",
       "      <td>0.008592</td>\n",
       "      <td>0.000000</td>\n",
       "      <td>0.000000</td>\n",
       "      <td>1</td>\n",
       "      <td>0</td>\n",
       "      <td>0</td>\n",
       "      <td>0</td>\n",
       "      <td>0</td>\n",
       "      <td>0</td>\n",
       "      <td>0.83</td>\n",
       "    </tr>\n",
       "    <tr>\n",
       "      <th>2</th>\n",
       "      <td>21.487482</td>\n",
       "      <td>18.175713</td>\n",
       "      <td>18.273638</td>\n",
       "      <td>20.352490</td>\n",
       "      <td>26.852755</td>\n",
       "      <td>33.780182</td>\n",
       "      <td>22.314997</td>\n",
       "      <td>18.965504</td>\n",
       "      <td>18.646050</td>\n",
       "      <td>20.357775</td>\n",
       "      <td>...</td>\n",
       "      <td>0.014953</td>\n",
       "      <td>0.035509</td>\n",
       "      <td>0.008895</td>\n",
       "      <td>1</td>\n",
       "      <td>0</td>\n",
       "      <td>0</td>\n",
       "      <td>0</td>\n",
       "      <td>0</td>\n",
       "      <td>0</td>\n",
       "      <td>0.68</td>\n",
       "    </tr>\n",
       "    <tr>\n",
       "      <th>3</th>\n",
       "      <td>22.861445</td>\n",
       "      <td>17.985715</td>\n",
       "      <td>16.863006</td>\n",
       "      <td>22.088825</td>\n",
       "      <td>27.283354</td>\n",
       "      <td>31.996515</td>\n",
       "      <td>23.530923</td>\n",
       "      <td>18.943259</td>\n",
       "      <td>17.421168</td>\n",
       "      <td>21.694262</td>\n",
       "      <td>...</td>\n",
       "      <td>0.000000</td>\n",
       "      <td>0.567716</td>\n",
       "      <td>0.156430</td>\n",
       "      <td>0</td>\n",
       "      <td>0</td>\n",
       "      <td>1</td>\n",
       "      <td>0</td>\n",
       "      <td>1</td>\n",
       "      <td>0</td>\n",
       "      <td>0.64</td>\n",
       "    </tr>\n",
       "    <tr>\n",
       "      <th>4</th>\n",
       "      <td>23.346936</td>\n",
       "      <td>18.752131</td>\n",
       "      <td>18.820481</td>\n",
       "      <td>20.801172</td>\n",
       "      <td>27.278941</td>\n",
       "      <td>33.758149</td>\n",
       "      <td>23.938289</td>\n",
       "      <td>19.673483</td>\n",
       "      <td>19.252666</td>\n",
       "      <td>20.674784</td>\n",
       "      <td>...</td>\n",
       "      <td>0.951463</td>\n",
       "      <td>0.045601</td>\n",
       "      <td>0.000000</td>\n",
       "      <td>0</td>\n",
       "      <td>0</td>\n",
       "      <td>0</td>\n",
       "      <td>5</td>\n",
       "      <td>0</td>\n",
       "      <td>0</td>\n",
       "      <td>0.94</td>\n",
       "    </tr>\n",
       "    <tr>\n",
       "      <th>5</th>\n",
       "      <td>21.780280</td>\n",
       "      <td>19.262142</td>\n",
       "      <td>16.159633</td>\n",
       "      <td>20.619457</td>\n",
       "      <td>26.207314</td>\n",
       "      <td>33.849207</td>\n",
       "      <td>22.470563</td>\n",
       "      <td>19.960317</td>\n",
       "      <td>16.757315</td>\n",
       "      <td>20.480493</td>\n",
       "      <td>...</td>\n",
       "      <td>2.104635</td>\n",
       "      <td>0.012681</td>\n",
       "      <td>0.284217</td>\n",
       "      <td>0</td>\n",
       "      <td>0</td>\n",
       "      <td>0</td>\n",
       "      <td>4</td>\n",
       "      <td>0</td>\n",
       "      <td>1</td>\n",
       "      <td>0.95</td>\n",
       "    </tr>\n",
       "    <tr>\n",
       "      <th>6</th>\n",
       "      <td>20.918409</td>\n",
       "      <td>18.187745</td>\n",
       "      <td>17.307484</td>\n",
       "      <td>20.485397</td>\n",
       "      <td>29.048301</td>\n",
       "      <td>33.967487</td>\n",
       "      <td>21.710196</td>\n",
       "      <td>18.902993</td>\n",
       "      <td>17.643364</td>\n",
       "      <td>20.189647</td>\n",
       "      <td>...</td>\n",
       "      <td>0.889178</td>\n",
       "      <td>0.000000</td>\n",
       "      <td>0.384166</td>\n",
       "      <td>0</td>\n",
       "      <td>0</td>\n",
       "      <td>2</td>\n",
       "      <td>1</td>\n",
       "      <td>0</td>\n",
       "      <td>2</td>\n",
       "      <td>0.96</td>\n",
       "    </tr>\n",
       "    <tr>\n",
       "      <th>7</th>\n",
       "      <td>22.180828</td>\n",
       "      <td>19.752359</td>\n",
       "      <td>18.879551</td>\n",
       "      <td>20.859181</td>\n",
       "      <td>27.650934</td>\n",
       "      <td>32.479555</td>\n",
       "      <td>22.783318</td>\n",
       "      <td>20.537321</td>\n",
       "      <td>19.373814</td>\n",
       "      <td>20.784639</td>\n",
       "      <td>...</td>\n",
       "      <td>1.751817</td>\n",
       "      <td>0.852650</td>\n",
       "      <td>0.016319</td>\n",
       "      <td>0</td>\n",
       "      <td>0</td>\n",
       "      <td>2</td>\n",
       "      <td>4</td>\n",
       "      <td>1</td>\n",
       "      <td>0</td>\n",
       "      <td>0.76</td>\n",
       "    </tr>\n",
       "    <tr>\n",
       "      <th>8</th>\n",
       "      <td>21.639827</td>\n",
       "      <td>18.636195</td>\n",
       "      <td>19.004494</td>\n",
       "      <td>25.122872</td>\n",
       "      <td>26.744780</td>\n",
       "      <td>33.254090</td>\n",
       "      <td>22.364238</td>\n",
       "      <td>19.511655</td>\n",
       "      <td>19.367928</td>\n",
       "      <td>24.341274</td>\n",
       "      <td>...</td>\n",
       "      <td>0.000000</td>\n",
       "      <td>1.169686</td>\n",
       "      <td>0.576157</td>\n",
       "      <td>0</td>\n",
       "      <td>1</td>\n",
       "      <td>0</td>\n",
       "      <td>0</td>\n",
       "      <td>4</td>\n",
       "      <td>1</td>\n",
       "      <td>0.71</td>\n",
       "    </tr>\n",
       "    <tr>\n",
       "      <th>9</th>\n",
       "      <td>23.148615</td>\n",
       "      <td>20.005062</td>\n",
       "      <td>18.869557</td>\n",
       "      <td>21.348762</td>\n",
       "      <td>24.935755</td>\n",
       "      <td>33.174350</td>\n",
       "      <td>23.762566</td>\n",
       "      <td>20.763081</td>\n",
       "      <td>19.238029</td>\n",
       "      <td>21.373395</td>\n",
       "      <td>...</td>\n",
       "      <td>1.990538</td>\n",
       "      <td>0.707280</td>\n",
       "      <td>0.123715</td>\n",
       "      <td>1</td>\n",
       "      <td>0</td>\n",
       "      <td>0</td>\n",
       "      <td>5</td>\n",
       "      <td>2</td>\n",
       "      <td>1</td>\n",
       "      <td>0.83</td>\n",
       "    </tr>\n",
       "  </tbody>\n",
       "</table>\n",
       "<p>10 rows × 97 columns</p>\n",
       "</div>"
      ],
      "text/plain": [
       "     stl1_11    stl1_12     stl1_1     stl1_2     stl1_3     stl1_4  \\\n",
       "0  22.111803  17.715332  16.327410  20.361004  23.659508  31.437727   \n",
       "1  21.750826  17.179908  16.792149  22.413083  27.930893  34.309400   \n",
       "2  21.487482  18.175713  18.273638  20.352490  26.852755  33.780182   \n",
       "3  22.861445  17.985715  16.863006  22.088825  27.283354  31.996515   \n",
       "4  23.346936  18.752131  18.820481  20.801172  27.278941  33.758149   \n",
       "5  21.780280  19.262142  16.159633  20.619457  26.207314  33.849207   \n",
       "6  20.918409  18.187745  17.307484  20.485397  29.048301  33.967487   \n",
       "7  22.180828  19.752359  18.879551  20.859181  27.650934  32.479555   \n",
       "8  21.639827  18.636195  19.004494  25.122872  26.744780  33.254090   \n",
       "9  23.148615  20.005062  18.869557  21.348762  24.935755  33.174350   \n",
       "\n",
       "     stl2_11    stl2_12     stl2_1     stl2_2  ...    rain_2    rain_3  \\\n",
       "0  22.585130  18.451017  16.736614  20.172957  ...  0.464838  0.844696   \n",
       "1  22.489250  18.004682  17.239385  21.900375  ...  0.008592  0.000000   \n",
       "2  22.314997  18.965504  18.646050  20.357775  ...  0.014953  0.035509   \n",
       "3  23.530923  18.943259  17.421168  21.694262  ...  0.000000  0.567716   \n",
       "4  23.938289  19.673483  19.252666  20.674784  ...  0.951463  0.045601   \n",
       "5  22.470563  19.960317  16.757315  20.480493  ...  2.104635  0.012681   \n",
       "6  21.710196  18.902993  17.643364  20.189647  ...  0.889178  0.000000   \n",
       "7  22.783318  20.537321  19.373814  20.784639  ...  1.751817  0.852650   \n",
       "8  22.364238  19.511655  19.367928  24.341274  ...  0.000000  1.169686   \n",
       "9  23.762566  20.763081  19.238029  21.373395  ...  1.990538  0.707280   \n",
       "\n",
       "     rain_4  countrain_11  countrain_12  countrain_1  countrain_2  \\\n",
       "0  0.232295             3             2            3            3   \n",
       "1  0.000000             1             0            0            0   \n",
       "2  0.008895             1             0            0            0   \n",
       "3  0.156430             0             0            1            0   \n",
       "4  0.000000             0             0            0            5   \n",
       "5  0.284217             0             0            0            4   \n",
       "6  0.384166             0             0            2            1   \n",
       "7  0.016319             0             0            2            4   \n",
       "8  0.576157             0             1            0            0   \n",
       "9  0.123715             1             0            0            5   \n",
       "\n",
       "   countrain_3  countrain_4  Yield(Tonnes/Hectare)  \n",
       "0            5            1                   0.77  \n",
       "1            0            0                   0.83  \n",
       "2            0            0                   0.68  \n",
       "3            1            0                   0.64  \n",
       "4            0            0                   0.94  \n",
       "5            0            1                   0.95  \n",
       "6            0            2                   0.96  \n",
       "7            1            0                   0.76  \n",
       "8            4            1                   0.71  \n",
       "9            2            1                   0.83  \n",
       "\n",
       "[10 rows x 97 columns]"
      ]
     },
     "execution_count": 19,
     "metadata": {},
     "output_type": "execute_result"
    }
   ],
   "source": [
    "df.head(10)"
   ]
  },
  {
   "cell_type": "code",
   "execution_count": 20,
   "metadata": {},
   "outputs": [
    {
     "data": {
      "text/plain": [
       "(1514, 97)"
      ]
     },
     "execution_count": 20,
     "metadata": {},
     "output_type": "execute_result"
    }
   ],
   "source": [
    "df.shape"
   ]
  },
  {
   "cell_type": "code",
   "execution_count": 21,
   "metadata": {},
   "outputs": [],
   "source": [
    "# cat_cols = ['DistrictName', 'year']\n",
    "# # Label encode categorical columns\n",
    "# encoder = LabelEncoder()\n",
    "# df[cat_cols] = df[cat_cols].apply(encoder.fit_transform)"
   ]
  },
  {
   "cell_type": "code",
   "execution_count": 22,
   "metadata": {},
   "outputs": [
    {
     "data": {
      "text/html": [
       "<div>\n",
       "<style scoped>\n",
       "    .dataframe tbody tr th:only-of-type {\n",
       "        vertical-align: middle;\n",
       "    }\n",
       "\n",
       "    .dataframe tbody tr th {\n",
       "        vertical-align: top;\n",
       "    }\n",
       "\n",
       "    .dataframe thead th {\n",
       "        text-align: right;\n",
       "    }\n",
       "</style>\n",
       "<table border=\"1\" class=\"dataframe\">\n",
       "  <thead>\n",
       "    <tr style=\"text-align: right;\">\n",
       "      <th></th>\n",
       "      <th>stl1_11</th>\n",
       "      <th>stl1_12</th>\n",
       "      <th>stl1_1</th>\n",
       "      <th>stl1_2</th>\n",
       "      <th>stl1_3</th>\n",
       "      <th>stl1_4</th>\n",
       "      <th>stl2_11</th>\n",
       "      <th>stl2_12</th>\n",
       "      <th>stl2_1</th>\n",
       "      <th>stl2_2</th>\n",
       "      <th>...</th>\n",
       "      <th>rain_2</th>\n",
       "      <th>rain_3</th>\n",
       "      <th>rain_4</th>\n",
       "      <th>countrain_11</th>\n",
       "      <th>countrain_12</th>\n",
       "      <th>countrain_1</th>\n",
       "      <th>countrain_2</th>\n",
       "      <th>countrain_3</th>\n",
       "      <th>countrain_4</th>\n",
       "      <th>Yield(Tonnes/Hectare)</th>\n",
       "    </tr>\n",
       "  </thead>\n",
       "  <tbody>\n",
       "    <tr>\n",
       "      <th>0</th>\n",
       "      <td>22.111803</td>\n",
       "      <td>17.715332</td>\n",
       "      <td>16.327410</td>\n",
       "      <td>20.361004</td>\n",
       "      <td>23.659508</td>\n",
       "      <td>31.437727</td>\n",
       "      <td>22.585130</td>\n",
       "      <td>18.451017</td>\n",
       "      <td>16.736614</td>\n",
       "      <td>20.172957</td>\n",
       "      <td>...</td>\n",
       "      <td>0.464838</td>\n",
       "      <td>0.844696</td>\n",
       "      <td>0.232295</td>\n",
       "      <td>3</td>\n",
       "      <td>2</td>\n",
       "      <td>3</td>\n",
       "      <td>3</td>\n",
       "      <td>5</td>\n",
       "      <td>1</td>\n",
       "      <td>0.77</td>\n",
       "    </tr>\n",
       "    <tr>\n",
       "      <th>1</th>\n",
       "      <td>21.750826</td>\n",
       "      <td>17.179908</td>\n",
       "      <td>16.792149</td>\n",
       "      <td>22.413083</td>\n",
       "      <td>27.930893</td>\n",
       "      <td>34.309400</td>\n",
       "      <td>22.489250</td>\n",
       "      <td>18.004682</td>\n",
       "      <td>17.239385</td>\n",
       "      <td>21.900375</td>\n",
       "      <td>...</td>\n",
       "      <td>0.008592</td>\n",
       "      <td>0.000000</td>\n",
       "      <td>0.000000</td>\n",
       "      <td>1</td>\n",
       "      <td>0</td>\n",
       "      <td>0</td>\n",
       "      <td>0</td>\n",
       "      <td>0</td>\n",
       "      <td>0</td>\n",
       "      <td>0.83</td>\n",
       "    </tr>\n",
       "    <tr>\n",
       "      <th>2</th>\n",
       "      <td>21.487482</td>\n",
       "      <td>18.175713</td>\n",
       "      <td>18.273638</td>\n",
       "      <td>20.352490</td>\n",
       "      <td>26.852755</td>\n",
       "      <td>33.780182</td>\n",
       "      <td>22.314997</td>\n",
       "      <td>18.965504</td>\n",
       "      <td>18.646050</td>\n",
       "      <td>20.357775</td>\n",
       "      <td>...</td>\n",
       "      <td>0.014953</td>\n",
       "      <td>0.035509</td>\n",
       "      <td>0.008895</td>\n",
       "      <td>1</td>\n",
       "      <td>0</td>\n",
       "      <td>0</td>\n",
       "      <td>0</td>\n",
       "      <td>0</td>\n",
       "      <td>0</td>\n",
       "      <td>0.68</td>\n",
       "    </tr>\n",
       "    <tr>\n",
       "      <th>3</th>\n",
       "      <td>22.861445</td>\n",
       "      <td>17.985715</td>\n",
       "      <td>16.863006</td>\n",
       "      <td>22.088825</td>\n",
       "      <td>27.283354</td>\n",
       "      <td>31.996515</td>\n",
       "      <td>23.530923</td>\n",
       "      <td>18.943259</td>\n",
       "      <td>17.421168</td>\n",
       "      <td>21.694262</td>\n",
       "      <td>...</td>\n",
       "      <td>0.000000</td>\n",
       "      <td>0.567716</td>\n",
       "      <td>0.156430</td>\n",
       "      <td>0</td>\n",
       "      <td>0</td>\n",
       "      <td>1</td>\n",
       "      <td>0</td>\n",
       "      <td>1</td>\n",
       "      <td>0</td>\n",
       "      <td>0.64</td>\n",
       "    </tr>\n",
       "    <tr>\n",
       "      <th>4</th>\n",
       "      <td>23.346936</td>\n",
       "      <td>18.752131</td>\n",
       "      <td>18.820481</td>\n",
       "      <td>20.801172</td>\n",
       "      <td>27.278941</td>\n",
       "      <td>33.758149</td>\n",
       "      <td>23.938289</td>\n",
       "      <td>19.673483</td>\n",
       "      <td>19.252666</td>\n",
       "      <td>20.674784</td>\n",
       "      <td>...</td>\n",
       "      <td>0.951463</td>\n",
       "      <td>0.045601</td>\n",
       "      <td>0.000000</td>\n",
       "      <td>0</td>\n",
       "      <td>0</td>\n",
       "      <td>0</td>\n",
       "      <td>5</td>\n",
       "      <td>0</td>\n",
       "      <td>0</td>\n",
       "      <td>0.94</td>\n",
       "    </tr>\n",
       "  </tbody>\n",
       "</table>\n",
       "<p>5 rows × 97 columns</p>\n",
       "</div>"
      ],
      "text/plain": [
       "     stl1_11    stl1_12     stl1_1     stl1_2     stl1_3     stl1_4  \\\n",
       "0  22.111803  17.715332  16.327410  20.361004  23.659508  31.437727   \n",
       "1  21.750826  17.179908  16.792149  22.413083  27.930893  34.309400   \n",
       "2  21.487482  18.175713  18.273638  20.352490  26.852755  33.780182   \n",
       "3  22.861445  17.985715  16.863006  22.088825  27.283354  31.996515   \n",
       "4  23.346936  18.752131  18.820481  20.801172  27.278941  33.758149   \n",
       "\n",
       "     stl2_11    stl2_12     stl2_1     stl2_2  ...    rain_2    rain_3  \\\n",
       "0  22.585130  18.451017  16.736614  20.172957  ...  0.464838  0.844696   \n",
       "1  22.489250  18.004682  17.239385  21.900375  ...  0.008592  0.000000   \n",
       "2  22.314997  18.965504  18.646050  20.357775  ...  0.014953  0.035509   \n",
       "3  23.530923  18.943259  17.421168  21.694262  ...  0.000000  0.567716   \n",
       "4  23.938289  19.673483  19.252666  20.674784  ...  0.951463  0.045601   \n",
       "\n",
       "     rain_4  countrain_11  countrain_12  countrain_1  countrain_2  \\\n",
       "0  0.232295             3             2            3            3   \n",
       "1  0.000000             1             0            0            0   \n",
       "2  0.008895             1             0            0            0   \n",
       "3  0.156430             0             0            1            0   \n",
       "4  0.000000             0             0            0            5   \n",
       "\n",
       "   countrain_3  countrain_4  Yield(Tonnes/Hectare)  \n",
       "0            5            1                   0.77  \n",
       "1            0            0                   0.83  \n",
       "2            0            0                   0.68  \n",
       "3            1            0                   0.64  \n",
       "4            0            0                   0.94  \n",
       "\n",
       "[5 rows x 97 columns]"
      ]
     },
     "execution_count": 22,
     "metadata": {},
     "output_type": "execute_result"
    }
   ],
   "source": [
    "df.head()"
   ]
  },
  {
   "cell_type": "code",
   "execution_count": 23,
   "metadata": {},
   "outputs": [
    {
     "data": {
      "text/plain": [
       "(1514, 97)"
      ]
     },
     "execution_count": 23,
     "metadata": {},
     "output_type": "execute_result"
    }
   ],
   "source": [
    "df.shape"
   ]
  },
  {
   "cell_type": "code",
   "execution_count": 24,
   "metadata": {},
   "outputs": [
    {
     "data": {
      "text/plain": [
       "Index(['stl1_11', 'stl1_12', 'stl1_1', 'stl1_2', 'stl1_3', 'stl1_4', 'stl2_11',\n",
       "       'stl2_12', 'stl2_1', 'stl2_2', 'stl2_3', 'stl2_4', 'stl3_11', 'stl3_12',\n",
       "       'stl3_1', 'stl3_2', 'stl3_3', 'stl3_4', 'stl4_11', 'stl4_12', 'stl4_1',\n",
       "       'stl4_2', 'stl4_3', 'stl4_4', 'swvl1_11', 'swvl1_12', 'swvl1_1',\n",
       "       'swvl1_2', 'swvl1_3', 'swvl1_4', 'swvl2_11', 'swvl2_12', 'swvl2_1',\n",
       "       'swvl2_2', 'swvl2_3', 'swvl2_4', 'swvl3_11', 'swvl3_12', 'swvl3_1',\n",
       "       'swvl3_2', 'swvl3_3', 'swvl3_4', 'swvl4_11', 'swvl4_12', 'swvl4_1',\n",
       "       'swvl4_2', 'swvl4_3', 'swvl4_4', 'ssr_11', 'ssr_12', 'ssr_1', 'ssr_2',\n",
       "       'ssr_3', 'ssr_4', 'rh_11', 'rh_12', 'rh_1', 'rh_2', 'rh_3', 'rh_4',\n",
       "       'u10_11', 'u10_12', 'u10_1', 'u10_2', 'u10_3', 'u10_4', 'v10_11',\n",
       "       'v10_12', 'v10_1', 'v10_2', 'v10_3', 'v10_4', 'tmax_11', 'tmax_12',\n",
       "       'tmax_1', 'tmax_2', 'tmax_3', 'tmax_4', 'tmin_11', 'tmin_12', 'tmin_1',\n",
       "       'tmin_2', 'tmin_3', 'tmin_4', 'rain_11', 'rain_12', 'rain_1', 'rain_2',\n",
       "       'rain_3', 'rain_4', 'countrain_11', 'countrain_12', 'countrain_1',\n",
       "       'countrain_2', 'countrain_3', 'countrain_4', 'Yield(Tonnes/Hectare)'],\n",
       "      dtype='object')"
      ]
     },
     "execution_count": 24,
     "metadata": {},
     "output_type": "execute_result"
    }
   ],
   "source": [
    "df.columns"
   ]
  },
  {
   "cell_type": "code",
   "execution_count": 25,
   "metadata": {},
   "outputs": [],
   "source": [
    "#df = df[['countrain_11', 'countrain_12', 'countrain_1','countrain_2', 'countrain_3', 'countrain_4', 'rain_11', 'rain_12','rain_1', 'rain_2', 'rain_3', 'rain_4','tmax_11', 'tmax_12', 'tmax_1','tmax_2', 'tmax_3', 'tmax_4', 'tmin_11', 'tmin_12', 'tmin_1', 'tmin_2','tmin_3', 'tmin_4','Yield(Tonnes/Hectare)']]"
   ]
  },
  {
   "cell_type": "code",
   "execution_count": 26,
   "metadata": {},
   "outputs": [],
   "source": [
    "#df = df.drop(columns=['countrain_11', 'countrain_12', 'countrain_1','countrain_2', 'countrain_3', 'countrain_4', 'rain_11', 'rain_12','rain_1', 'rain_2', 'rain_3', 'rain_4','tmax_11', 'tmax_12', 'tmax_1','tmax_2', 'tmax_3', 'tmax_4', 'tmin_11', 'tmin_12', 'tmin_1', 'tmin_2','tmin_3', 'tmin_4'])"
   ]
  },
  {
   "cell_type": "code",
   "execution_count": 27,
   "metadata": {},
   "outputs": [
    {
     "data": {
      "text/plain": [
       "(1514, 97)"
      ]
     },
     "execution_count": 27,
     "metadata": {},
     "output_type": "execute_result"
    }
   ],
   "source": [
    "df.shape"
   ]
  },
  {
   "cell_type": "code",
   "execution_count": 28,
   "metadata": {},
   "outputs": [],
   "source": [
    "X = df.drop('Yield(Tonnes/Hectare)', axis=1)  # Features\n",
    "y = df['Yield(Tonnes/Hectare)']  # Target variable\n",
    "\n",
    "# Split the dataset into training and testing sets\n",
    "#X_train, X_test, y_train, y_test = train_test_split(X, y, test_size=0.2, random_state=42)"
   ]
  },
  {
   "cell_type": "code",
   "execution_count": 29,
   "metadata": {},
   "outputs": [],
   "source": [
    "# X = X.drop(columns=['stl2','stl3'],axis=1)"
   ]
  },
  {
   "cell_type": "code",
   "execution_count": 30,
   "metadata": {},
   "outputs": [
    {
     "name": "stdout",
     "output_type": "stream",
     "text": [
      "Linear Regression - R^2 Score (Train) : 0.55, R^2 Score (Test): 0.45\n",
      "[0.4766423970573318, 0.43934552447289, 0.3429967175816986, 0.5423682580982787, 0.4613062913077237, 0.4152968728034572, 0.49662590057271017, 0.49540082275235064, 0.3476865871348783, 0.446418532056736]\n",
      "Ridge Regression - R^2 Score (Train) : 0.45, R^2 Score (Test): 0.37\n",
      "[0.05450623087548556, 0.31244671577624794, 0.28287248995783665, 0.503210788220933, 0.356451064079099, 0.42167682304689247, 0.380859682340266, 0.4744187367450201, 0.4035733936204382, 0.4629549997621557]\n",
      "XGB Regressor - R^2 Score (Train) : 1.00, R^2 Score (Test): 0.56\n",
      "[0.5426118983805988, 0.5055833935984917, 0.5524412110940695, 0.6248473476021273, 0.5359083015151234, 0.47927651690989215, 0.5385328370727056, 0.5936000055375383, 0.6344406897585981, 0.5431959893675129]\n",
      "Lasso Regression - R^2 Score (Train) : 0.09, R^2 Score (Test): 0.08\n",
      "[0.10900114455311005, 0.08039353217831169, 0.13392037563203973, 0.059144616047597576, 0.05314153174865177, 0.024391361953716495, 0.09408100863707025, 0.07368728568944194, 0.05829735675555636, 0.10981923761053425]\n",
      "Decision Tree - R^2 Score (Train) : 1.00, R^2 Score (Test): 0.07\n",
      "[-0.333157677474027, 0.18378801370787123, 0.3128197925892814, 0.03155695452405294, 0.11289572427887673, 0.13367220183272466, -0.2502650129113171, 0.11293330491758014, 0.06841893829089563, 0.2901630813322553]\n",
      "Gradient Boosting - R^2 Score (Train) : 0.78, R^2 Score (Test): 0.54\n",
      "[0.48335331365903034, 0.4411306367865475, 0.6136248377704383, 0.5481887243672285, 0.4915136765771746, 0.5271516897457096, 0.6154986675033834, 0.5030237737231894, 0.5975860522393339, 0.6281443213623339]\n",
      "Random Forest - R^2 Score (Train) : 0.94, R^2 Score (Test): 0.57\n",
      "[0.6146899212796586, 0.5918817198060212, 0.6077584452021387, 0.6037878419220821, 0.5673353238957308, 0.5841568121810256, 0.5229538101675398, 0.4238282639581429, 0.6065829030860244, 0.5683523845546279]\n",
      "Support Vector Machine - R^2 Score (Train) : 0.07, R^2 Score (Test): 0.06\n",
      "[0.053451913149426655, 0.026873518378670913, 0.013274932042975585, 0.056736254024607025, 0.08595725328335302, 0.0629395145264352, 0.0866803985421496, 0.04332628806139527, 0.061763470232055306, 0.06959163382894928]\n"
     ]
    }
   ],
   "source": [
    "# Import necessary libraries\n",
    "import numpy as np\n",
    "import pandas as pd\n",
    "from sklearn.model_selection import train_test_split\n",
    "from sklearn.linear_model import LinearRegression, Ridge, Lasso\n",
    "from sklearn.tree import DecisionTreeRegressor\n",
    "from sklearn.ensemble import RandomForestRegressor, GradientBoostingRegressor\n",
    "from sklearn.svm import SVR\n",
    "import xgboost as xgb\n",
    "from sklearn.metrics import mean_squared_error, r2_score\n",
    "from sklearn.model_selection import KFold\n",
    "\n",
    "\n",
    "\n",
    "\n",
    "# Models\n",
    "models = {\n",
    "    \"Linear Regression\": LinearRegression(),\n",
    "    \"Ridge Regression\": Ridge(),\n",
    "    \"XGB Regressor\": xgb.XGBRegressor(objective='reg:squarederror', random_state=42),\n",
    "    \"Lasso Regression\": Lasso(),\n",
    "    \"Decision Tree\": DecisionTreeRegressor(),\n",
    "    \"Gradient Boosting\": GradientBoostingRegressor(),\n",
    "    \"Random Forest\": RandomForestRegressor(),\n",
    "    \"Support Vector Machine\": SVR()\n",
    "}\n",
    "\n",
    "# Train and evaluate each model\n",
    "for name, model in models.items():\n",
    "\n",
    "    mse_scores_test = []\n",
    "    mse_scores_train = []\n",
    "    r2_scores_test = []\n",
    "    r2_scores_train = []\n",
    "    # Create KFold object\n",
    "    k = 10\n",
    "    kfold = KFold(n_splits=k, shuffle=True)\n",
    "\n",
    "    for train_index, test_index in kfold.split(X):\n",
    "        X_train, X_test = X.iloc[train_index], X.iloc[test_index]\n",
    "        y_train, y_test = y.iloc[train_index], y.iloc[test_index]\n",
    "        model.fit(X_train, y_train)\n",
    "        y_pred_test = model.predict(X_test)\n",
    "        y_pred_train = model.predict(X_train)\n",
    "        mse_test = mean_squared_error(y_test, y_pred_test)\n",
    "        mse_train = mean_squared_error(y_train, y_pred_train)\n",
    "        r2_test = r2_score(y_test, y_pred_test)\n",
    "        r2_train = r2_score(y_train, y_pred_train)\n",
    "        mse_scores_test.append(mse_test)\n",
    "        mse_scores_train.append(mse_train)\n",
    "        r2_scores_test.append(r2_test)\n",
    "        r2_scores_train.append(r2_train)\n",
    "\n",
    "    average_mse_test = np.mean(mse_scores_test)\n",
    "    average_mse_train = np.mean(mse_scores_train)\n",
    "    average_r2_test = np.mean(r2_scores_test)\n",
    "    average_r2_train = np.mean(r2_scores_train)  \n",
    "\n",
    "    print(f'{name} - R^2 Score (Train) : {average_r2_train:.2f}, R^2 Score (Test): {average_r2_test:.2f}')\n",
    "    print(r2_scores_test)\n"
   ]
  },
  {
   "cell_type": "code",
   "execution_count": 31,
   "metadata": {},
   "outputs": [],
   "source": [
    "X_train, X_test, y_train, y_test = train_test_split(X, y, test_size=0.2, random_state=42)"
   ]
  },
  {
   "cell_type": "code",
   "execution_count": 32,
   "metadata": {},
   "outputs": [],
   "source": [
    "# import pandas as pd\n",
    "\n",
    "# # Assuming X_train is your DataFrame\n",
    "# # X_train = pd.DataFrame(...)\n",
    "\n",
    "# corr_matrix = X_train.corr()\n",
    "\n",
    "# # Get the column names of the DataFrame\n",
    "# columns = corr_matrix.columns\n",
    "\n",
    "# # Create an empty list to keep track of columns to drop\n",
    "# columns_to_drop = []\n",
    "# # Create a dictionary to store highly correlated features\n",
    "# highly_correlated_features = {}\n",
    "\n",
    "# # Loop over the columns\n",
    "# for i in range(len(columns)):\n",
    "#     for j in range(0, len(columns)):  # Loop only over the upper triangle to avoid duplicate comparisons\n",
    "#         # Access the cell of the DataFrame\n",
    "#         if abs(corr_matrix.iloc[i, j]) > 0.90:\n",
    "#             # Sort correlated features based on correlation coefficient\n",
    "#             sorted_features = sorted([(corr_matrix.iloc[i, j], columns[j]), (corr_matrix.iloc[i, i], columns[i])],\n",
    "#                                      key=lambda x: abs(x[0]), reverse=True)\n",
    "#             # Add the column to drop\n",
    "#             columns_to_drop.append(sorted_features[1][1])  # Add the one with lower correlation\n",
    "#             # Update the dictionary with highly correlated features\n",
    "#             if sorted_features[0][1] in highly_correlated_features:\n",
    "#                 highly_correlated_features[sorted_features[0][1]].append(sorted_features[1][1])\n",
    "#             else:\n",
    "#                 highly_correlated_features[sorted_features[0][1]] = [sorted_features[1][1]]\n",
    "\n",
    "# print(len(columns_to_drop))\n"
   ]
  },
  {
   "cell_type": "code",
   "execution_count": 33,
   "metadata": {},
   "outputs": [],
   "source": [
    "# import seaborn as sns\n",
    "\n",
    "# corr_matrix = X_train.corr()\n",
    "\n",
    "# # Get the column names of the DataFrame\n",
    "# columns = corr_matrix.columns\n",
    "\n",
    "# # Define a function to sort correlations in descending order (absolute value)\n",
    "# def sort_correlations(series):\n",
    "#   # Take the absolute value of the series\n",
    "#   abs_series = series.abs()\n",
    "#   # Sort the absolute values in descending order\n",
    "#   return abs_series.sort_values(ascending=False)\n",
    "\n",
    "# # Sort each column of the correlation matrix\n",
    "# sorted_corr_matrix = corr_matrix.apply(sort_correlations)\n",
    "\n",
    "# # Create an empty list to keep track of columns to drop\n",
    "# columns_to_drop = []\n",
    "# # Create a dictionary to store highly correlated features\n",
    "# highly_correlated_features = {}\n",
    "\n",
    "# # Loop over the sorted correlation matrix\n",
    "# for i in range(len(sorted_corr_matrix.columns)):\n",
    "#   # Skip the diagonal (correlation with self)\n",
    "#   if i == sorted_corr_matrix.columns[i]:\n",
    "#     continue\n",
    "#   # Get the current column and sorted correlations\n",
    "#   current_column = sorted_corr_matrix.columns[i]\n",
    "#   sorted_correlations = sorted_corr_matrix.loc[current_column]\n",
    "  \n",
    "#   # Identify highly correlated features (> 0.90) excluding the current column\n",
    "#   highly_correlated_features[current_column] = list(sorted_correlations[sorted_correlations > 0.90].index.difference([current_column]))\n",
    "\n",
    "#   # Update columns to drop based on correlations with the current column\n",
    "#   columns_to_drop.extend(highly_correlated_features[current_column])\n",
    "\n",
    "# # Remove duplicates from columns to drop\n",
    "# columns_to_drop = list(set(columns_to_drop))\n",
    "\n",
    "# print(len(columns_to_drop))"
   ]
  },
  {
   "cell_type": "code",
   "execution_count": 34,
   "metadata": {},
   "outputs": [
    {
     "name": "stdout",
     "output_type": "stream",
     "text": [
      "132\n"
     ]
    }
   ],
   "source": [
    "import seaborn as sns\n",
    "corr_matrix = X_train.corr()\n",
    "\n",
    "# Get the column names of the DataFrame\n",
    "columns = corr_matrix.columns\n",
    "\n",
    "# Create an empty list to keep track of columns to drop\n",
    "columns_to_drop = []\n",
    "# Create a dictionary to store highly correlated features\n",
    "highly_correlated_features = {}\n",
    "\n",
    "# Loop over the columns\n",
    "for i in range(len(columns)):\n",
    "    for j in range(0, len(columns)):\n",
    "        # Access the cell of the DataFrame\n",
    "        if i != j and corr_matrix.iloc[i, j] > 0.90:\n",
    "            # Add the column to drop\n",
    "            columns_to_drop.append(columns[j])\n",
    "            # Update the dictionary with highly correlated features\n",
    "            if columns[i] in highly_correlated_features:\n",
    "                highly_correlated_features[columns[i]].append((columns[j], corr_matrix.iloc[i, j].round(4)))\n",
    "            else:\n",
    "                highly_correlated_features[columns[i]] = [(columns[j], corr_matrix.iloc[i, j].round(4))]\n",
    "\n",
    "\n",
    "print(len(columns_to_drop))"
   ]
  },
  {
   "cell_type": "code",
   "execution_count": 35,
   "metadata": {},
   "outputs": [
    {
     "name": "stdout",
     "output_type": "stream",
     "text": [
      "['stl2_11', 'stl3_11', 'stl4_12', 'stl2_12', 'stl3_12', 'stl2_1', 'stl3_1', 'stl2_2', 'stl3_2', 'stl2_3', 'stl3_3', 'stl3_4', 'stl4_4', 'stl2_4', 'stl3_4', 'stl1_11', 'stl3_11', 'stl4_12', 'stl1_12', 'stl3_12', 'stl1_1', 'stl3_1', 'stl1_2', 'stl3_2', 'stl1_3', 'stl3_3', 'stl3_4', 'stl4_4', 'stl1_4', 'stl3_4', 'stl1_11', 'stl2_11', 'stl4_12', 'stl1_12', 'stl2_12', 'stl4_1', 'stl4_2', 'stl1_1', 'stl2_1', 'stl4_2', 'stl4_3', 'stl4_4', 'stl1_2', 'stl2_2', 'stl4_3', 'stl4_4', 'stl1_3', 'stl2_3', 'stl3_4', 'stl4_3', 'stl4_4', 'stl1_3', 'stl1_4', 'stl2_3', 'stl2_4', 'stl3_3', 'stl4_4', 'stl4_12', 'stl1_11', 'stl2_11', 'stl3_11', 'stl4_11', 'stl4_1', 'stl3_12', 'stl4_12', 'stl4_2', 'stl3_12', 'stl3_1', 'stl4_1', 'stl4_3', 'stl4_4', 'stl3_1', 'stl3_2', 'stl3_3', 'stl4_2', 'stl4_4', 'stl1_3', 'stl2_3', 'stl3_1', 'stl3_2', 'stl3_3', 'stl3_4', 'stl4_2', 'stl4_3', 'swvl2_11', 'swvl2_12', 'swvl2_1', 'swvl2_2', 'swvl2_3', 'rh_3', 'swvl1_11', 'swvl1_12', 'swvl1_1', 'swvl1_2', 'swvl1_3', 'swvl3_12', 'swvl3_11', 'swvl3_1', 'swvl3_12', 'swvl3_4', 'swvl3_3', 'swvl4_12', 'swvl4_1', 'swvl4_2', 'swvl4_3', 'swvl4_4', 'swvl4_11', 'swvl4_1', 'swvl4_2', 'swvl4_3', 'swvl4_4', 'swvl4_11', 'swvl4_12', 'swvl4_2', 'swvl4_3', 'swvl4_4', 'swvl4_11', 'swvl4_12', 'swvl4_1', 'swvl4_3', 'swvl4_4', 'swvl4_11', 'swvl4_12', 'swvl4_1', 'swvl4_2', 'swvl4_4', 'swvl4_11', 'swvl4_12', 'swvl4_1', 'swvl4_2', 'swvl4_3', 'swvl1_3']\n"
     ]
    }
   ],
   "source": [
    "print(columns_to_drop)"
   ]
  },
  {
   "cell_type": "code",
   "execution_count": 36,
   "metadata": {},
   "outputs": [
    {
     "name": "stdout",
     "output_type": "stream",
     "text": [
      "Highly correlated features:\n",
      "stl1_11 : [('stl2_11', 0.9965), ('stl3_11', 0.9616), ('stl4_12', 0.9073)]\n",
      "stl1_12 : [('stl2_12', 0.995), ('stl3_12', 0.9216)]\n",
      "stl1_1 : [('stl2_1', 0.997), ('stl3_1', 0.9507)]\n",
      "stl1_2 : [('stl2_2', 0.9969), ('stl3_2', 0.9466)]\n",
      "stl1_3 : [('stl2_3', 0.9975), ('stl3_3', 0.9594), ('stl3_4', 0.9073), ('stl4_4', 0.9089)]\n",
      "stl1_4 : [('stl2_4', 0.9971), ('stl3_4', 0.9597)]\n",
      "stl2_11 : [('stl1_11', 0.9965), ('stl3_11', 0.9798), ('stl4_12', 0.9236)]\n",
      "stl2_12 : [('stl1_12', 0.995), ('stl3_12', 0.9542)]\n",
      "stl2_1 : [('stl1_1', 0.997), ('stl3_1', 0.9708)]\n",
      "stl2_2 : [('stl1_2', 0.9969), ('stl3_2', 0.9683)]\n",
      "stl2_3 : [('stl1_3', 0.9975), ('stl3_3', 0.9762), ('stl3_4', 0.9104), ('stl4_4', 0.9277)]\n",
      "stl2_4 : [('stl1_4', 0.9971), ('stl3_4', 0.9775)]\n",
      "stl3_11 : [('stl1_11', 0.9616), ('stl2_11', 0.9798), ('stl4_12', 0.9572)]\n",
      "stl3_12 : [('stl1_12', 0.9216), ('stl2_12', 0.9542), ('stl4_1', 0.9554), ('stl4_2', 0.9154)]\n",
      "stl3_1 : [('stl1_1', 0.9507), ('stl2_1', 0.9708), ('stl4_2', 0.9503), ('stl4_3', 0.936), ('stl4_4', 0.908)]\n",
      "stl3_2 : [('stl1_2', 0.9466), ('stl2_2', 0.9683), ('stl4_3', 0.9518), ('stl4_4', 0.9057)]\n",
      "stl3_3 : [('stl1_3', 0.9594), ('stl2_3', 0.9762), ('stl3_4', 0.9084), ('stl4_3', 0.9216), ('stl4_4', 0.9701)]\n",
      "stl3_4 : [('stl1_3', 0.9073), ('stl1_4', 0.9597), ('stl2_3', 0.9104), ('stl2_4', 0.9775), ('stl3_3', 0.9084), ('stl4_4', 0.9453)]\n",
      "stl4_11 : [('stl4_12', 0.9587)]\n",
      "stl4_12 : [('stl1_11', 0.9073), ('stl2_11', 0.9236), ('stl3_11', 0.9572), ('stl4_11', 0.9587), ('stl4_1', 0.9518)]\n",
      "stl4_1 : [('stl3_12', 0.9554), ('stl4_12', 0.9518), ('stl4_2', 0.9644)]\n",
      "stl4_2 : [('stl3_12', 0.9154), ('stl3_1', 0.9503), ('stl4_1', 0.9644), ('stl4_3', 0.9597), ('stl4_4', 0.9085)]\n",
      "stl4_3 : [('stl3_1', 0.936), ('stl3_2', 0.9518), ('stl3_3', 0.9216), ('stl4_2', 0.9597), ('stl4_4', 0.975)]\n",
      "stl4_4 : [('stl1_3', 0.9089), ('stl2_3', 0.9277), ('stl3_1', 0.908), ('stl3_2', 0.9057), ('stl3_3', 0.9701), ('stl3_4', 0.9453), ('stl4_2', 0.9085), ('stl4_3', 0.975)]\n",
      "swvl1_11 : [('swvl2_11', 0.9004)]\n",
      "swvl1_12 : [('swvl2_12', 0.9493)]\n",
      "swvl1_1 : [('swvl2_1', 0.9422)]\n",
      "swvl1_2 : [('swvl2_2', 0.9603)]\n",
      "swvl1_3 : [('swvl2_3', 0.9523), ('rh_3', 0.9076)]\n",
      "swvl2_11 : [('swvl1_11', 0.9004)]\n",
      "swvl2_12 : [('swvl1_12', 0.9493)]\n",
      "swvl2_1 : [('swvl1_1', 0.9422)]\n",
      "swvl2_2 : [('swvl1_2', 0.9603)]\n",
      "swvl2_3 : [('swvl1_3', 0.9523)]\n",
      "swvl3_11 : [('swvl3_12', 0.9143)]\n",
      "swvl3_12 : [('swvl3_11', 0.9143), ('swvl3_1', 0.9438)]\n",
      "swvl3_1 : [('swvl3_12', 0.9438)]\n",
      "swvl3_3 : [('swvl3_4', 0.9677)]\n",
      "swvl3_4 : [('swvl3_3', 0.9677)]\n",
      "swvl4_11 : [('swvl4_12', 0.9982), ('swvl4_1', 0.9942), ('swvl4_2', 0.9895), ('swvl4_3', 0.9815), ('swvl4_4', 0.9713)]\n",
      "swvl4_12 : [('swvl4_11', 0.9982), ('swvl4_1', 0.9986), ('swvl4_2', 0.9958), ('swvl4_3', 0.9895), ('swvl4_4', 0.9806)]\n",
      "swvl4_1 : [('swvl4_11', 0.9942), ('swvl4_12', 0.9986), ('swvl4_2', 0.999), ('swvl4_3', 0.9945), ('swvl4_4', 0.9873)]\n",
      "swvl4_2 : [('swvl4_11', 0.9895), ('swvl4_12', 0.9958), ('swvl4_1', 0.999), ('swvl4_3', 0.998), ('swvl4_4', 0.9927)]\n",
      "swvl4_3 : [('swvl4_11', 0.9815), ('swvl4_12', 0.9895), ('swvl4_1', 0.9945), ('swvl4_2', 0.998), ('swvl4_4', 0.9981)]\n",
      "swvl4_4 : [('swvl4_11', 0.9713), ('swvl4_12', 0.9806), ('swvl4_1', 0.9873), ('swvl4_2', 0.9927), ('swvl4_3', 0.9981)]\n",
      "rh_3 : [('swvl1_3', 0.9076)]\n"
     ]
    }
   ],
   "source": [
    "print(\"Highly correlated features:\")\n",
    "for key, value in highly_correlated_features.items():\n",
    "    print(key, \":\", value)"
   ]
  },
  {
   "cell_type": "code",
   "execution_count": 37,
   "metadata": {},
   "outputs": [
    {
     "ename": "NameError",
     "evalue": "name 'stop' is not defined",
     "output_type": "error",
     "traceback": [
      "\u001b[1;31m---------------------------------------------------------------------------\u001b[0m",
      "\u001b[1;31mNameError\u001b[0m                                 Traceback (most recent call last)",
      "Cell \u001b[1;32mIn[37], line 1\u001b[0m\n\u001b[1;32m----> 1\u001b[0m \u001b[43mstop\u001b[49m\n",
      "\u001b[1;31mNameError\u001b[0m: name 'stop' is not defined"
     ]
    }
   ],
   "source": [
    "stop"
   ]
  },
  {
   "cell_type": "code",
   "execution_count": null,
   "metadata": {},
   "outputs": [],
   "source": [
    "import time\n",
    "def print_accuracy(f):\n",
    "    print(\n",
    "        f\"Root mean squared test error = {np.sqrt(np.mean((f(X_test) - y_test) ** 2))}\"\n",
    "    )\n",
    "    time.sleep(0.5)  # to let the print get out before any progress bars"
   ]
  },
  {
   "cell_type": "code",
   "execution_count": null,
   "metadata": {},
   "outputs": [],
   "source": [
    "from sklearn.ensemble import RandomForestRegressor\n",
    "\n",
    "rforest = RandomForestRegressor(\n",
    "    n_estimators=1000, max_depth=None, min_samples_split=2, random_state=0\n",
    ")\n",
    "rforest.fit(X_train, y_train)\n",
    "print_accuracy(rforest.predict)"
   ]
  },
  {
   "cell_type": "code",
   "execution_count": null,
   "metadata": {},
   "outputs": [],
   "source": [
    "y_pred = rforest.predict(X_test)\n",
    "mse = mean_squared_error(y_test, y_pred)\n",
    "r2 = r2_score(y_test, y_pred)\n",
    "print(mse,r2)"
   ]
  },
  {
   "cell_type": "code",
   "execution_count": null,
   "metadata": {},
   "outputs": [],
   "source": [
    "#pip install shap"
   ]
  },
  {
   "cell_type": "code",
   "execution_count": null,
   "metadata": {},
   "outputs": [],
   "source": [
    "stop"
   ]
  },
  {
   "cell_type": "code",
   "execution_count": null,
   "metadata": {},
   "outputs": [],
   "source": [
    "columns_to_drop = set(columns_to_drop)\n",
    "print(columns_to_drop)"
   ]
  },
  {
   "cell_type": "code",
   "execution_count": null,
   "metadata": {},
   "outputs": [],
   "source": [
    "len(columns_to_drop)"
   ]
  },
  {
   "cell_type": "code",
   "execution_count": null,
   "metadata": {},
   "outputs": [],
   "source": [
    "X_train.drop(columns = columns_to_drop, axis = 1, inplace=True)\n",
    "X_test.drop(columns = columns_to_drop, axis = 1, inplace=True)"
   ]
  },
  {
   "cell_type": "code",
   "execution_count": null,
   "metadata": {},
   "outputs": [],
   "source": [
    "from sklearn.model_selection import train_test_split\n",
    "from sklearn.linear_model import LinearRegression\n",
    "from sklearn.metrics import mean_squared_error, r2_score"
   ]
  },
  {
   "cell_type": "code",
   "execution_count": null,
   "metadata": {},
   "outputs": [],
   "source": [
    "# Import necessary libraries\n",
    "import numpy as np\n",
    "import pandas as pd\n",
    "from sklearn.model_selection import train_test_split\n",
    "from sklearn.linear_model import LinearRegression, Ridge, Lasso\n",
    "from sklearn.tree import DecisionTreeRegressor\n",
    "from sklearn.ensemble import RandomForestRegressor, GradientBoostingRegressor\n",
    "from sklearn.svm import SVR\n",
    "from sklearn.metrics import mean_squared_error, r2_score\n",
    "from sklearn.model_selection import KFold\n",
    "\n",
    "\n",
    "# Create KFold object\n",
    "k = 5\n",
    "kfold = KFold(n_splits=k, shuffle=True)\n",
    "\n",
    "\n",
    "# Models\n",
    "models = {\n",
    "    \"Linear Regression\": LinearRegression(),\n",
    "    \"Ridge Regression\": Ridge(),\n",
    "    \"Lasso Regression\": Lasso(),\n",
    "    \"Decision Tree\": DecisionTreeRegressor(),\n",
    "    \"Gradient Boosting\": GradientBoostingRegressor(),\n",
    "    \"Random Forest\": RandomForestRegressor(),\n",
    "    \"Support Vector Machine\": SVR()\n",
    "}\n",
    "\n",
    "# Train and evaluate each model\n",
    "for name, model in models.items():\n",
    "    mse_scores = []\n",
    "    r2_scores = []\n",
    "\n",
    "    for train_index, test_index in kfold.split(X):\n",
    "        X_train, X_test = X[train_index], X[test_index]\n",
    "        y_train, y_test = y[train_index], y[test_index]\n",
    "    model.fit(X_train, y_train)\n",
    "    y_pred = model.predict(X_test)\n",
    "    mse = mean_squared_error(y_test, y_pred)\n",
    "    r2 = r2_score(y_test, y_pred)\n",
    "    print(f'{name} - Mean Squared Error: {mse:.2f}, R^2 Score: {r2:.2f}')\n"
   ]
  },
  {
   "cell_type": "code",
   "execution_count": null,
   "metadata": {},
   "outputs": [],
   "source": [
    "import xarray\n",
    "data = xarray.open_dataset(r\"C:\\Users\\Kanishk Goyal\\OneDrive - IIT Kanpur\\Desktop\\Prof. Hamim Zafar\\Data\\Relative humidity\\1month_mean_Global_ea_r2_199703_v02.grib\", engine='cfgrib')\n",
    "data.to_netcdf(r\"C:\\Users\\Kanishk Goyal\\OneDrive - IIT Kanpur\\Desktop\\Prof. Hamim Zafar\\Data\\Relative humidity\\1month_mean_Global_ea_r2_199703_v02.nc\")"
   ]
  },
  {
   "cell_type": "code",
   "execution_count": null,
   "metadata": {},
   "outputs": [],
   "source": []
  }
 ],
 "metadata": {
  "kernelspec": {
   "display_name": "Python 3",
   "language": "python",
   "name": "python3"
  },
  "language_info": {
   "codemirror_mode": {
    "name": "ipython",
    "version": 3
   },
   "file_extension": ".py",
   "mimetype": "text/x-python",
   "name": "python",
   "nbconvert_exporter": "python",
   "pygments_lexer": "ipython3",
   "version": "3.11.4"
  }
 },
 "nbformat": 4,
 "nbformat_minor": 2
}
