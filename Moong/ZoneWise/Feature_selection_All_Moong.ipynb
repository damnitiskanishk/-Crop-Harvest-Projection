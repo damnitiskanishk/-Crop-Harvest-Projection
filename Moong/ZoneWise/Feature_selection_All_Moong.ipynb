{
 "cells": [
  {
   "cell_type": "code",
   "execution_count": 1,
   "metadata": {},
   "outputs": [],
   "source": [
    "import numpy as np \n",
    "import pandas as pd\n",
    "import seaborn as sns\n",
    "import matplotlib.pyplot as plt\n",
    "from sklearn.preprocessing import LabelEncoder\n",
    "from sklearn.model_selection import train_test_split\n",
    "from sklearn.linear_model import LinearRegression\n",
    "from sklearn.metrics import mean_squared_error, r2_score\n",
    "import seaborn as sns"
   ]
  },
  {
   "cell_type": "code",
   "execution_count": 2,
   "metadata": {},
   "outputs": [],
   "source": [
    "df = pd.read_csv(r\"C:\\Users\\Kanishk Goyal\\OneDrive - IIT Kanpur\\Desktop\\Prof. Hamim Zafar\\Data\\Final Data\\Moong\\Full_Moong_dataset.csv\")\n",
    "df = df.drop(columns=['latitude','longitude','DistrictName', 'year','index'])\n",
    "df = df.sample(frac=1).reset_index(drop=True)\n",
    "#df = df.drop(columns=['DistrictName','latitude','longitude','year','year_mask'])"
   ]
  },
  {
   "cell_type": "code",
   "execution_count": 3,
   "metadata": {},
   "outputs": [],
   "source": [
    "df = df.rename(columns={'Yield(tonnes/hectare)':'Yield(Tonnes/Hectare)'},inplace=False)"
   ]
  },
  {
   "cell_type": "code",
   "execution_count": 4,
   "metadata": {},
   "outputs": [],
   "source": [
    "df = df.drop(columns=['stl2_7','stl2_8', 'stl2_9', 'stl2_10', 'stl3_7', 'stl3_8', 'stl3_9', 'stl3_10'])"
   ]
  },
  {
   "cell_type": "code",
   "execution_count": 5,
   "metadata": {},
   "outputs": [
    {
     "data": {
      "text/plain": [
       "Index(['stl1_7', 'stl1_8', 'stl1_9', 'stl1_10', 'stl4_7', 'stl4_8', 'stl4_9',\n",
       "       'stl4_10', 'swvl1_7', 'swvl1_8', 'swvl1_9', 'swvl1_10', 'swvl2_7',\n",
       "       'swvl2_8', 'swvl2_9', 'swvl2_10', 'swvl3_7', 'swvl3_8', 'swvl3_9',\n",
       "       'swvl3_10', 'swvl4_7', 'swvl4_8', 'swvl4_9', 'swvl4_10', 'ssr_7',\n",
       "       'ssr_8', 'ssr_9', 'ssr_10', 'u10_7', 'u10_8', 'u10_9', 'u10_10',\n",
       "       'v10_7', 'v10_8', 'v10_9', 'v10_10', 'tmax_7', 'tmax_8', 'tmax_9',\n",
       "       'tmax_10', 'tmin_7', 'tmin_8', 'tmin_9', 'tmin_10', 'rain_7', 'rain_8',\n",
       "       'rain_9', 'rain_10', 'countrain_7', 'countrain_8', 'countrain_9',\n",
       "       'countrain_10', 'rh_7', 'rh_8', 'rh_9', 'rh_10',\n",
       "       'Yield(Tonnes/Hectare)'],\n",
       "      dtype='object')"
      ]
     },
     "execution_count": 5,
     "metadata": {},
     "output_type": "execute_result"
    }
   ],
   "source": [
    "df.columns"
   ]
  },
  {
   "cell_type": "code",
   "execution_count": 6,
   "metadata": {},
   "outputs": [],
   "source": [
    "# df['stl1'] = (df['stl1_1'] + df['stl1_2'])/2\n",
    "# df['stl2'] = (df['stl2_1'] + df['stl2_2'])/2\n",
    "# df['stl3'] = (df['stl3_1'] + df['stl3_2'])/2\n",
    "# df['stl4'] = (df['stl4_1'] + df['stl4_2'])/2\n",
    "# df['swvl1'] = (df['swvl1_1'] + df['swvl1_2'])/2\n",
    "# df['swvl2'] = (df['swvl2_1'] + df['swvl2_2'])/2\n",
    "# df['swvl3'] = (df['swvl3_1'] + df['swvl3_2'])/2\n",
    "# df['swvl4'] = (df['swvl4_1'] + df['swvl4_2'])/2\n",
    "# df['ssr'] = (df['ssr_1'] + df['ssr_2'])/2\n",
    "# df['rain'] = (df['rain_1'] + df['rain_2'])/2\n",
    "# df['tmax'] = (df['tmax_1'] + df['tmax_2'])/2\n",
    "# df['tmin'] = (df['tmin_1'] + df['tmin_2'])/2\n",
    "# df['countrain'] = df['countrain_1'] + df['countrain_2']\n",
    "# df['u10'] = (df['u10_3']+df['u10_4'])/2\n",
    "# df['v10'] = (df['v10_3']+df['v10_4'])/2\n",
    "# df['rh'] = (df['rh_3']+df['rh_4'])/2"
   ]
  },
  {
   "cell_type": "code",
   "execution_count": 7,
   "metadata": {},
   "outputs": [],
   "source": [
    "# df = df.drop(columns=['stl1_1','stl1_2','stl2_1','stl2_2','stl3_1','stl3_2','stl4_1','stl4_2','swvl1_1','swvl1_2','swvl2_1','swvl2_2','swvl3_1','swvl3_2','swvl4_1','swvl4_2','ssr_1','ssr_2','rain_1','rain_2','tmax_1','tmax_2','tmin_1','tmin_2','countrain_1','countrain_2','u10_3','u10_4','v10_3','v10_4','rh_3','rh_4'],axis=1)"
   ]
  },
  {
   "cell_type": "code",
   "execution_count": 8,
   "metadata": {},
   "outputs": [
    {
     "data": {
      "text/plain": [
       "(5824, 57)"
      ]
     },
     "execution_count": 8,
     "metadata": {},
     "output_type": "execute_result"
    }
   ],
   "source": [
    "df.shape"
   ]
  },
  {
   "cell_type": "code",
   "execution_count": 9,
   "metadata": {},
   "outputs": [
    {
     "data": {
      "text/plain": [
       "Index(['stl1_7', 'stl1_8', 'stl1_9', 'stl1_10', 'stl4_7', 'stl4_8', 'stl4_9',\n",
       "       'stl4_10', 'swvl1_7', 'swvl1_8', 'swvl1_9', 'swvl1_10', 'swvl2_7',\n",
       "       'swvl2_8', 'swvl2_9', 'swvl2_10', 'swvl3_7', 'swvl3_8', 'swvl3_9',\n",
       "       'swvl3_10', 'swvl4_7', 'swvl4_8', 'swvl4_9', 'swvl4_10', 'ssr_7',\n",
       "       'ssr_8', 'ssr_9', 'ssr_10', 'u10_7', 'u10_8', 'u10_9', 'u10_10',\n",
       "       'v10_7', 'v10_8', 'v10_9', 'v10_10', 'tmax_7', 'tmax_8', 'tmax_9',\n",
       "       'tmax_10', 'tmin_7', 'tmin_8', 'tmin_9', 'tmin_10', 'rain_7', 'rain_8',\n",
       "       'rain_9', 'rain_10', 'countrain_7', 'countrain_8', 'countrain_9',\n",
       "       'countrain_10', 'rh_7', 'rh_8', 'rh_9', 'rh_10',\n",
       "       'Yield(Tonnes/Hectare)'],\n",
       "      dtype='object')"
      ]
     },
     "execution_count": 9,
     "metadata": {},
     "output_type": "execute_result"
    }
   ],
   "source": [
    "df.columns"
   ]
  },
  {
   "cell_type": "code",
   "execution_count": 10,
   "metadata": {},
   "outputs": [],
   "source": [
    "df = df.dropna(subset=['Yield(Tonnes/Hectare)'])"
   ]
  },
  {
   "cell_type": "code",
   "execution_count": 11,
   "metadata": {},
   "outputs": [
    {
     "data": {
      "text/plain": [
       "(3756, 57)"
      ]
     },
     "execution_count": 11,
     "metadata": {},
     "output_type": "execute_result"
    }
   ],
   "source": [
    "df.shape"
   ]
  },
  {
   "cell_type": "code",
   "execution_count": 12,
   "metadata": {},
   "outputs": [
    {
     "data": {
      "text/plain": [
       "1.2820126969564658"
      ]
     },
     "execution_count": 12,
     "metadata": {},
     "output_type": "execute_result"
    }
   ],
   "source": [
    "df['Yield(Tonnes/Hectare)'].skew()"
   ]
  },
  {
   "cell_type": "code",
   "execution_count": 13,
   "metadata": {},
   "outputs": [
    {
     "name": "stderr",
     "output_type": "stream",
     "text": [
      "C:\\Users\\Kanishk Goyal\\AppData\\Local\\Temp\\ipykernel_12256\\994257175.py:1: UserWarning: \n",
      "\n",
      "`distplot` is a deprecated function and will be removed in seaborn v0.14.0.\n",
      "\n",
      "Please adapt your code to use either `displot` (a figure-level function with\n",
      "similar flexibility) or `histplot` (an axes-level function for histograms).\n",
      "\n",
      "For a guide to updating your code to use the new functions, please see\n",
      "https://gist.github.com/mwaskom/de44147ed2974457ad6372750bbe5751\n",
      "\n",
      "  sns.distplot(df['Yield(Tonnes/Hectare)'],color='green')\n"
     ]
    },
    {
     "data": {
      "text/plain": [
       "<Axes: xlabel='Yield(Tonnes/Hectare)', ylabel='Density'>"
      ]
     },
     "execution_count": 13,
     "metadata": {},
     "output_type": "execute_result"
    },
    {
     "data": {
      "image/png": "[encoded data removed]",
      "text/plain": [
       "<Figure size 640x480 with 1 Axes>"
      ]
     },
     "metadata": {},
     "output_type": "display_data"
    }
   ],
   "source": [
    "sns.distplot(df['Yield(Tonnes/Hectare)'],color='green')"
   ]
  },
  {
   "cell_type": "code",
   "execution_count": 14,
   "metadata": {},
   "outputs": [
    {
     "data": {
      "text/plain": [
       "0       0.00\n",
       "1       0.12\n",
       "3       0.33\n",
       "4       0.11\n",
       "7       0.24\n",
       "        ... \n",
       "5819    0.19\n",
       "5820    0.16\n",
       "5821    0.37\n",
       "5822    0.25\n",
       "5823    0.17\n",
       "Name: Yield(Tonnes/Hectare), Length: 3756, dtype: float64"
      ]
     },
     "execution_count": 14,
     "metadata": {},
     "output_type": "execute_result"
    }
   ],
   "source": [
    "df['Yield(Tonnes/Hectare)']"
   ]
  },
  {
   "cell_type": "code",
   "execution_count": 15,
   "metadata": {},
   "outputs": [
    {
     "name": "stdout",
     "output_type": "stream",
     "text": [
      "Number of points in the final DataFrame after handling outliers: 3641\n"
     ]
    }
   ],
   "source": [
    "Q1 = df['Yield(Tonnes/Hectare)'].quantile(0.25)\n",
    "Q3 = df['Yield(Tonnes/Hectare)'].quantile(0.75)\n",
    "IQR = Q3 - Q1\n",
    "\n",
    "lower_bound = Q1 - 1.5 * IQR\n",
    "upper_bound = Q3 + 1.5 * IQR\n",
    "\n",
    "df['Yield_no_outliers'] = np.where((df['Yield(Tonnes/Hectare)'] < lower_bound) | (df['Yield(Tonnes/Hectare)'] > upper_bound), np.nan, df['Yield(Tonnes/Hectare)'])\n",
    "\n",
    "num_points_after_handling_outliers = df['Yield_no_outliers'].count()\n",
    "print(\"Number of points in the final DataFrame after handling outliers:\", num_points_after_handling_outliers)"
   ]
  },
  {
   "cell_type": "code",
   "execution_count": 16,
   "metadata": {},
   "outputs": [],
   "source": [
    "df = df.dropna(subset=['Yield_no_outliers'])\n",
    "df = df.drop(columns=['Yield(Tonnes/Hectare)'])"
   ]
  },
  {
   "cell_type": "code",
   "execution_count": 17,
   "metadata": {},
   "outputs": [],
   "source": [
    "df.rename(columns={'Yield_no_outliers': 'Yield(Tonnes/Hectare)'}, inplace=True)"
   ]
  },
  {
   "cell_type": "code",
   "execution_count": 18,
   "metadata": {},
   "outputs": [
    {
     "data": {
      "text/plain": [
       "0.3357496805824231"
      ]
     },
     "execution_count": 18,
     "metadata": {},
     "output_type": "execute_result"
    }
   ],
   "source": [
    "df['Yield(Tonnes/Hectare)'].skew()"
   ]
  },
  {
   "cell_type": "code",
   "execution_count": 19,
   "metadata": {},
   "outputs": [
    {
     "name": "stderr",
     "output_type": "stream",
     "text": [
      "C:\\Users\\Kanishk Goyal\\AppData\\Local\\Temp\\ipykernel_12256\\1820324139.py:1: UserWarning: \n",
      "\n",
      "`distplot` is a deprecated function and will be removed in seaborn v0.14.0.\n",
      "\n",
      "Please adapt your code to use either `displot` (a figure-level function with\n",
      "similar flexibility) or `histplot` (an axes-level function for histograms).\n",
      "\n",
      "For a guide to updating your code to use the new functions, please see\n",
      "https://gist.github.com/mwaskom/de44147ed2974457ad6372750bbe5751\n",
      "\n",
      "  sns.distplot(df['Yield(Tonnes/Hectare)'])\n"
     ]
    },
    {
     "data": {
      "text/plain": [
       "<Axes: xlabel='Yield(Tonnes/Hectare)', ylabel='Density'>"
      ]
     },
     "execution_count": 19,
     "metadata": {},
     "output_type": "execute_result"
    },
    {
     "data": {
      "image/png": "[encoded data removed]",
      "text/plain": [
       "<Figure size 640x480 with 1 Axes>"
      ]
     },
     "metadata": {},
     "output_type": "display_data"
    }
   ],
   "source": [
    "sns.distplot(df['Yield(Tonnes/Hectare)'])"
   ]
  },
  {
   "cell_type": "code",
   "execution_count": 20,
   "metadata": {},
   "outputs": [
    {
     "data": {
      "text/html": [
       "<div>\n",
       "<style scoped>\n",
       "    .dataframe tbody tr th:only-of-type {\n",
       "        vertical-align: middle;\n",
       "    }\n",
       "\n",
       "    .dataframe tbody tr th {\n",
       "        vertical-align: top;\n",
       "    }\n",
       "\n",
       "    .dataframe thead th {\n",
       "        text-align: right;\n",
       "    }\n",
       "</style>\n",
       "<table border=\"1\" class=\"dataframe\">\n",
       "  <thead>\n",
       "    <tr style=\"text-align: right;\">\n",
       "      <th></th>\n",
       "      <th>stl1_7</th>\n",
       "      <th>stl1_8</th>\n",
       "      <th>stl1_9</th>\n",
       "      <th>stl1_10</th>\n",
       "      <th>stl4_7</th>\n",
       "      <th>stl4_8</th>\n",
       "      <th>stl4_9</th>\n",
       "      <th>stl4_10</th>\n",
       "      <th>swvl1_7</th>\n",
       "      <th>swvl1_8</th>\n",
       "      <th>...</th>\n",
       "      <th>rain_10</th>\n",
       "      <th>countrain_7</th>\n",
       "      <th>countrain_8</th>\n",
       "      <th>countrain_9</th>\n",
       "      <th>countrain_10</th>\n",
       "      <th>rh_7</th>\n",
       "      <th>rh_8</th>\n",
       "      <th>rh_9</th>\n",
       "      <th>rh_10</th>\n",
       "      <th>Yield(Tonnes/Hectare)</th>\n",
       "    </tr>\n",
       "  </thead>\n",
       "  <tbody>\n",
       "    <tr>\n",
       "      <th>0</th>\n",
       "      <td>25.307064</td>\n",
       "      <td>25.467482</td>\n",
       "      <td>26.090663</td>\n",
       "      <td>27.339234</td>\n",
       "      <td>28.485553</td>\n",
       "      <td>27.439704</td>\n",
       "      <td>26.799150</td>\n",
       "      <td>26.809056</td>\n",
       "      <td>0.456320</td>\n",
       "      <td>0.455932</td>\n",
       "      <td>...</td>\n",
       "      <td>7.678821</td>\n",
       "      <td>30</td>\n",
       "      <td>29</td>\n",
       "      <td>21</td>\n",
       "      <td>14</td>\n",
       "      <td>93.789346</td>\n",
       "      <td>92.211580</td>\n",
       "      <td>88.987134</td>\n",
       "      <td>81.987297</td>\n",
       "      <td>0.00</td>\n",
       "    </tr>\n",
       "    <tr>\n",
       "      <th>1</th>\n",
       "      <td>22.960316</td>\n",
       "      <td>23.970720</td>\n",
       "      <td>23.895035</td>\n",
       "      <td>23.528605</td>\n",
       "      <td>25.920954</td>\n",
       "      <td>25.178752</td>\n",
       "      <td>24.770886</td>\n",
       "      <td>24.462126</td>\n",
       "      <td>0.431257</td>\n",
       "      <td>0.394048</td>\n",
       "      <td>...</td>\n",
       "      <td>0.875974</td>\n",
       "      <td>4</td>\n",
       "      <td>10</td>\n",
       "      <td>19</td>\n",
       "      <td>4</td>\n",
       "      <td>80.801308</td>\n",
       "      <td>77.993752</td>\n",
       "      <td>82.697488</td>\n",
       "      <td>70.675712</td>\n",
       "      <td>0.12</td>\n",
       "    </tr>\n",
       "    <tr>\n",
       "      <th>3</th>\n",
       "      <td>29.003640</td>\n",
       "      <td>29.798366</td>\n",
       "      <td>29.104694</td>\n",
       "      <td>26.847424</td>\n",
       "      <td>29.718761</td>\n",
       "      <td>29.551720</td>\n",
       "      <td>29.406588</td>\n",
       "      <td>29.131937</td>\n",
       "      <td>0.411224</td>\n",
       "      <td>0.380983</td>\n",
       "      <td>...</td>\n",
       "      <td>4.790602</td>\n",
       "      <td>20</td>\n",
       "      <td>16</td>\n",
       "      <td>9</td>\n",
       "      <td>5</td>\n",
       "      <td>84.663312</td>\n",
       "      <td>82.174460</td>\n",
       "      <td>80.666003</td>\n",
       "      <td>74.171650</td>\n",
       "      <td>0.33</td>\n",
       "    </tr>\n",
       "    <tr>\n",
       "      <th>4</th>\n",
       "      <td>27.535183</td>\n",
       "      <td>25.643205</td>\n",
       "      <td>25.701279</td>\n",
       "      <td>25.625286</td>\n",
       "      <td>29.888207</td>\n",
       "      <td>29.022397</td>\n",
       "      <td>28.138907</td>\n",
       "      <td>27.466800</td>\n",
       "      <td>0.402249</td>\n",
       "      <td>0.450065</td>\n",
       "      <td>...</td>\n",
       "      <td>1.097120</td>\n",
       "      <td>13</td>\n",
       "      <td>11</td>\n",
       "      <td>17</td>\n",
       "      <td>2</td>\n",
       "      <td>69.881194</td>\n",
       "      <td>80.855041</td>\n",
       "      <td>82.059244</td>\n",
       "      <td>57.664025</td>\n",
       "      <td>0.11</td>\n",
       "    </tr>\n",
       "    <tr>\n",
       "      <th>7</th>\n",
       "      <td>26.457551</td>\n",
       "      <td>25.513435</td>\n",
       "      <td>25.725838</td>\n",
       "      <td>26.804432</td>\n",
       "      <td>29.898611</td>\n",
       "      <td>28.670863</td>\n",
       "      <td>27.646139</td>\n",
       "      <td>27.185659</td>\n",
       "      <td>0.413207</td>\n",
       "      <td>0.437991</td>\n",
       "      <td>...</td>\n",
       "      <td>0.000000</td>\n",
       "      <td>22</td>\n",
       "      <td>25</td>\n",
       "      <td>11</td>\n",
       "      <td>0</td>\n",
       "      <td>85.473606</td>\n",
       "      <td>89.565778</td>\n",
       "      <td>83.741973</td>\n",
       "      <td>48.831582</td>\n",
       "      <td>0.24</td>\n",
       "    </tr>\n",
       "    <tr>\n",
       "      <th>10</th>\n",
       "      <td>22.191769</td>\n",
       "      <td>22.496469</td>\n",
       "      <td>22.955941</td>\n",
       "      <td>22.982710</td>\n",
       "      <td>25.069128</td>\n",
       "      <td>24.227518</td>\n",
       "      <td>23.710603</td>\n",
       "      <td>23.539771</td>\n",
       "      <td>0.479733</td>\n",
       "      <td>0.468780</td>\n",
       "      <td>...</td>\n",
       "      <td>8.407460</td>\n",
       "      <td>13</td>\n",
       "      <td>14</td>\n",
       "      <td>9</td>\n",
       "      <td>10</td>\n",
       "      <td>90.086978</td>\n",
       "      <td>87.819147</td>\n",
       "      <td>84.993294</td>\n",
       "      <td>85.618384</td>\n",
       "      <td>0.28</td>\n",
       "    </tr>\n",
       "    <tr>\n",
       "      <th>11</th>\n",
       "      <td>28.356021</td>\n",
       "      <td>27.268741</td>\n",
       "      <td>28.224329</td>\n",
       "      <td>29.868667</td>\n",
       "      <td>31.089928</td>\n",
       "      <td>30.141899</td>\n",
       "      <td>29.427322</td>\n",
       "      <td>29.220672</td>\n",
       "      <td>0.389413</td>\n",
       "      <td>0.456131</td>\n",
       "      <td>...</td>\n",
       "      <td>0.024289</td>\n",
       "      <td>11</td>\n",
       "      <td>9</td>\n",
       "      <td>2</td>\n",
       "      <td>0</td>\n",
       "      <td>75.603396</td>\n",
       "      <td>81.660981</td>\n",
       "      <td>69.499016</td>\n",
       "      <td>42.581321</td>\n",
       "      <td>0.45</td>\n",
       "    </tr>\n",
       "    <tr>\n",
       "      <th>12</th>\n",
       "      <td>31.839741</td>\n",
       "      <td>29.086374</td>\n",
       "      <td>28.801057</td>\n",
       "      <td>26.882539</td>\n",
       "      <td>31.389609</td>\n",
       "      <td>31.072861</td>\n",
       "      <td>30.409463</td>\n",
       "      <td>29.722896</td>\n",
       "      <td>0.345033</td>\n",
       "      <td>0.413908</td>\n",
       "      <td>...</td>\n",
       "      <td>0.000000</td>\n",
       "      <td>13</td>\n",
       "      <td>9</td>\n",
       "      <td>10</td>\n",
       "      <td>0</td>\n",
       "      <td>72.866498</td>\n",
       "      <td>84.164029</td>\n",
       "      <td>77.917139</td>\n",
       "      <td>56.744040</td>\n",
       "      <td>0.39</td>\n",
       "    </tr>\n",
       "    <tr>\n",
       "      <th>13</th>\n",
       "      <td>26.611001</td>\n",
       "      <td>24.775974</td>\n",
       "      <td>26.530745</td>\n",
       "      <td>27.325712</td>\n",
       "      <td>30.026695</td>\n",
       "      <td>28.830965</td>\n",
       "      <td>27.777758</td>\n",
       "      <td>27.531524</td>\n",
       "      <td>0.462793</td>\n",
       "      <td>0.472777</td>\n",
       "      <td>...</td>\n",
       "      <td>0.215805</td>\n",
       "      <td>15</td>\n",
       "      <td>20</td>\n",
       "      <td>10</td>\n",
       "      <td>1</td>\n",
       "      <td>84.356545</td>\n",
       "      <td>88.022103</td>\n",
       "      <td>80.744198</td>\n",
       "      <td>49.125986</td>\n",
       "      <td>0.44</td>\n",
       "    </tr>\n",
       "    <tr>\n",
       "      <th>14</th>\n",
       "      <td>25.043927</td>\n",
       "      <td>24.106031</td>\n",
       "      <td>24.430757</td>\n",
       "      <td>25.630743</td>\n",
       "      <td>28.350951</td>\n",
       "      <td>27.155529</td>\n",
       "      <td>26.216517</td>\n",
       "      <td>25.730928</td>\n",
       "      <td>0.365029</td>\n",
       "      <td>0.385169</td>\n",
       "      <td>...</td>\n",
       "      <td>0.594924</td>\n",
       "      <td>4</td>\n",
       "      <td>8</td>\n",
       "      <td>8</td>\n",
       "      <td>2</td>\n",
       "      <td>83.707528</td>\n",
       "      <td>85.397722</td>\n",
       "      <td>83.311891</td>\n",
       "      <td>59.792026</td>\n",
       "      <td>0.55</td>\n",
       "    </tr>\n",
       "  </tbody>\n",
       "</table>\n",
       "<p>10 rows × 57 columns</p>\n",
       "</div>"
      ],
      "text/plain": [
       "       stl1_7     stl1_8     stl1_9    stl1_10     stl4_7     stl4_8  \\\n",
       "0   25.307064  25.467482  26.090663  27.339234  28.485553  27.439704   \n",
       "1   22.960316  23.970720  23.895035  23.528605  25.920954  25.178752   \n",
       "3   29.003640  29.798366  29.104694  26.847424  29.718761  29.551720   \n",
       "4   27.535183  25.643205  25.701279  25.625286  29.888207  29.022397   \n",
       "7   26.457551  25.513435  25.725838  26.804432  29.898611  28.670863   \n",
       "10  22.191769  22.496469  22.955941  22.982710  25.069128  24.227518   \n",
       "11  28.356021  27.268741  28.224329  29.868667  31.089928  30.141899   \n",
       "12  31.839741  29.086374  28.801057  26.882539  31.389609  31.072861   \n",
       "13  26.611001  24.775974  26.530745  27.325712  30.026695  28.830965   \n",
       "14  25.043927  24.106031  24.430757  25.630743  28.350951  27.155529   \n",
       "\n",
       "       stl4_9    stl4_10   swvl1_7   swvl1_8  ...   rain_10  countrain_7  \\\n",
       "0   26.799150  26.809056  0.456320  0.455932  ...  7.678821           30   \n",
       "1   24.770886  24.462126  0.431257  0.394048  ...  0.875974            4   \n",
       "3   29.406588  29.131937  0.411224  0.380983  ...  4.790602           20   \n",
       "4   28.138907  27.466800  0.402249  0.450065  ...  1.097120           13   \n",
       "7   27.646139  27.185659  0.413207  0.437991  ...  0.000000           22   \n",
       "10  23.710603  23.539771  0.479733  0.468780  ...  8.407460           13   \n",
       "11  29.427322  29.220672  0.389413  0.456131  ...  0.024289           11   \n",
       "12  30.409463  29.722896  0.345033  0.413908  ...  0.000000           13   \n",
       "13  27.777758  27.531524  0.462793  0.472777  ...  0.215805           15   \n",
       "14  26.216517  25.730928  0.365029  0.385169  ...  0.594924            4   \n",
       "\n",
       "    countrain_8  countrain_9  countrain_10       rh_7       rh_8       rh_9  \\\n",
       "0            29           21            14  93.789346  92.211580  88.987134   \n",
       "1            10           19             4  80.801308  77.993752  82.697488   \n",
       "3            16            9             5  84.663312  82.174460  80.666003   \n",
       "4            11           17             2  69.881194  80.855041  82.059244   \n",
       "7            25           11             0  85.473606  89.565778  83.741973   \n",
       "10           14            9            10  90.086978  87.819147  84.993294   \n",
       "11            9            2             0  75.603396  81.660981  69.499016   \n",
       "12            9           10             0  72.866498  84.164029  77.917139   \n",
       "13           20           10             1  84.356545  88.022103  80.744198   \n",
       "14            8            8             2  83.707528  85.397722  83.311891   \n",
       "\n",
       "        rh_10  Yield(Tonnes/Hectare)  \n",
       "0   81.987297                   0.00  \n",
       "1   70.675712                   0.12  \n",
       "3   74.171650                   0.33  \n",
       "4   57.664025                   0.11  \n",
       "7   48.831582                   0.24  \n",
       "10  85.618384                   0.28  \n",
       "11  42.581321                   0.45  \n",
       "12  56.744040                   0.39  \n",
       "13  49.125986                   0.44  \n",
       "14  59.792026                   0.55  \n",
       "\n",
       "[10 rows x 57 columns]"
      ]
     },
     "execution_count": 20,
     "metadata": {},
     "output_type": "execute_result"
    }
   ],
   "source": [
    "df.head(10)"
   ]
  },
  {
   "cell_type": "code",
   "execution_count": 21,
   "metadata": {},
   "outputs": [
    {
     "data": {
      "text/plain": [
       "(3641, 57)"
      ]
     },
     "execution_count": 21,
     "metadata": {},
     "output_type": "execute_result"
    }
   ],
   "source": [
    "df.shape"
   ]
  },
  {
   "cell_type": "code",
   "execution_count": 22,
   "metadata": {},
   "outputs": [],
   "source": [
    "# cat_cols = ['DistrictName', 'year']\n",
    "# # Label encode categorical columns\n",
    "# encoder = LabelEncoder()\n",
    "# df[cat_cols] = df[cat_cols].apply(encoder.fit_transform)"
   ]
  },
  {
   "cell_type": "code",
   "execution_count": 23,
   "metadata": {},
   "outputs": [
    {
     "data": {
      "text/html": [
       "<div>\n",
       "<style scoped>\n",
       "    .dataframe tbody tr th:only-of-type {\n",
       "        vertical-align: middle;\n",
       "    }\n",
       "\n",
       "    .dataframe tbody tr th {\n",
       "        vertical-align: top;\n",
       "    }\n",
       "\n",
       "    .dataframe thead th {\n",
       "        text-align: right;\n",
       "    }\n",
       "</style>\n",
       "<table border=\"1\" class=\"dataframe\">\n",
       "  <thead>\n",
       "    <tr style=\"text-align: right;\">\n",
       "      <th></th>\n",
       "      <th>stl1_7</th>\n",
       "      <th>stl1_8</th>\n",
       "      <th>stl1_9</th>\n",
       "      <th>stl1_10</th>\n",
       "      <th>stl4_7</th>\n",
       "      <th>stl4_8</th>\n",
       "      <th>stl4_9</th>\n",
       "      <th>stl4_10</th>\n",
       "      <th>swvl1_7</th>\n",
       "      <th>swvl1_8</th>\n",
       "      <th>...</th>\n",
       "      <th>rain_10</th>\n",
       "      <th>countrain_7</th>\n",
       "      <th>countrain_8</th>\n",
       "      <th>countrain_9</th>\n",
       "      <th>countrain_10</th>\n",
       "      <th>rh_7</th>\n",
       "      <th>rh_8</th>\n",
       "      <th>rh_9</th>\n",
       "      <th>rh_10</th>\n",
       "      <th>Yield(Tonnes/Hectare)</th>\n",
       "    </tr>\n",
       "  </thead>\n",
       "  <tbody>\n",
       "    <tr>\n",
       "      <th>0</th>\n",
       "      <td>25.307064</td>\n",
       "      <td>25.467482</td>\n",
       "      <td>26.090663</td>\n",
       "      <td>27.339234</td>\n",
       "      <td>28.485553</td>\n",
       "      <td>27.439704</td>\n",
       "      <td>26.799150</td>\n",
       "      <td>26.809056</td>\n",
       "      <td>0.456320</td>\n",
       "      <td>0.455932</td>\n",
       "      <td>...</td>\n",
       "      <td>7.678821</td>\n",
       "      <td>30</td>\n",
       "      <td>29</td>\n",
       "      <td>21</td>\n",
       "      <td>14</td>\n",
       "      <td>93.789346</td>\n",
       "      <td>92.211580</td>\n",
       "      <td>88.987134</td>\n",
       "      <td>81.987297</td>\n",
       "      <td>0.00</td>\n",
       "    </tr>\n",
       "    <tr>\n",
       "      <th>1</th>\n",
       "      <td>22.960316</td>\n",
       "      <td>23.970720</td>\n",
       "      <td>23.895035</td>\n",
       "      <td>23.528605</td>\n",
       "      <td>25.920954</td>\n",
       "      <td>25.178752</td>\n",
       "      <td>24.770886</td>\n",
       "      <td>24.462126</td>\n",
       "      <td>0.431257</td>\n",
       "      <td>0.394048</td>\n",
       "      <td>...</td>\n",
       "      <td>0.875974</td>\n",
       "      <td>4</td>\n",
       "      <td>10</td>\n",
       "      <td>19</td>\n",
       "      <td>4</td>\n",
       "      <td>80.801308</td>\n",
       "      <td>77.993752</td>\n",
       "      <td>82.697488</td>\n",
       "      <td>70.675712</td>\n",
       "      <td>0.12</td>\n",
       "    </tr>\n",
       "    <tr>\n",
       "      <th>3</th>\n",
       "      <td>29.003640</td>\n",
       "      <td>29.798366</td>\n",
       "      <td>29.104694</td>\n",
       "      <td>26.847424</td>\n",
       "      <td>29.718761</td>\n",
       "      <td>29.551720</td>\n",
       "      <td>29.406588</td>\n",
       "      <td>29.131937</td>\n",
       "      <td>0.411224</td>\n",
       "      <td>0.380983</td>\n",
       "      <td>...</td>\n",
       "      <td>4.790602</td>\n",
       "      <td>20</td>\n",
       "      <td>16</td>\n",
       "      <td>9</td>\n",
       "      <td>5</td>\n",
       "      <td>84.663312</td>\n",
       "      <td>82.174460</td>\n",
       "      <td>80.666003</td>\n",
       "      <td>74.171650</td>\n",
       "      <td>0.33</td>\n",
       "    </tr>\n",
       "    <tr>\n",
       "      <th>4</th>\n",
       "      <td>27.535183</td>\n",
       "      <td>25.643205</td>\n",
       "      <td>25.701279</td>\n",
       "      <td>25.625286</td>\n",
       "      <td>29.888207</td>\n",
       "      <td>29.022397</td>\n",
       "      <td>28.138907</td>\n",
       "      <td>27.466800</td>\n",
       "      <td>0.402249</td>\n",
       "      <td>0.450065</td>\n",
       "      <td>...</td>\n",
       "      <td>1.097120</td>\n",
       "      <td>13</td>\n",
       "      <td>11</td>\n",
       "      <td>17</td>\n",
       "      <td>2</td>\n",
       "      <td>69.881194</td>\n",
       "      <td>80.855041</td>\n",
       "      <td>82.059244</td>\n",
       "      <td>57.664025</td>\n",
       "      <td>0.11</td>\n",
       "    </tr>\n",
       "    <tr>\n",
       "      <th>7</th>\n",
       "      <td>26.457551</td>\n",
       "      <td>25.513435</td>\n",
       "      <td>25.725838</td>\n",
       "      <td>26.804432</td>\n",
       "      <td>29.898611</td>\n",
       "      <td>28.670863</td>\n",
       "      <td>27.646139</td>\n",
       "      <td>27.185659</td>\n",
       "      <td>0.413207</td>\n",
       "      <td>0.437991</td>\n",
       "      <td>...</td>\n",
       "      <td>0.000000</td>\n",
       "      <td>22</td>\n",
       "      <td>25</td>\n",
       "      <td>11</td>\n",
       "      <td>0</td>\n",
       "      <td>85.473606</td>\n",
       "      <td>89.565778</td>\n",
       "      <td>83.741973</td>\n",
       "      <td>48.831582</td>\n",
       "      <td>0.24</td>\n",
       "    </tr>\n",
       "  </tbody>\n",
       "</table>\n",
       "<p>5 rows × 57 columns</p>\n",
       "</div>"
      ],
      "text/plain": [
       "      stl1_7     stl1_8     stl1_9    stl1_10     stl4_7     stl4_8  \\\n",
       "0  25.307064  25.467482  26.090663  27.339234  28.485553  27.439704   \n",
       "1  22.960316  23.970720  23.895035  23.528605  25.920954  25.178752   \n",
       "3  29.003640  29.798366  29.104694  26.847424  29.718761  29.551720   \n",
       "4  27.535183  25.643205  25.701279  25.625286  29.888207  29.022397   \n",
       "7  26.457551  25.513435  25.725838  26.804432  29.898611  28.670863   \n",
       "\n",
       "      stl4_9    stl4_10   swvl1_7   swvl1_8  ...   rain_10  countrain_7  \\\n",
       "0  26.799150  26.809056  0.456320  0.455932  ...  7.678821           30   \n",
       "1  24.770886  24.462126  0.431257  0.394048  ...  0.875974            4   \n",
       "3  29.406588  29.131937  0.411224  0.380983  ...  4.790602           20   \n",
       "4  28.138907  27.466800  0.402249  0.450065  ...  1.097120           13   \n",
       "7  27.646139  27.185659  0.413207  0.437991  ...  0.000000           22   \n",
       "\n",
       "   countrain_8  countrain_9  countrain_10       rh_7       rh_8       rh_9  \\\n",
       "0           29           21            14  93.789346  92.211580  88.987134   \n",
       "1           10           19             4  80.801308  77.993752  82.697488   \n",
       "3           16            9             5  84.663312  82.174460  80.666003   \n",
       "4           11           17             2  69.881194  80.855041  82.059244   \n",
       "7           25           11             0  85.473606  89.565778  83.741973   \n",
       "\n",
       "       rh_10  Yield(Tonnes/Hectare)  \n",
       "0  81.987297                   0.00  \n",
       "1  70.675712                   0.12  \n",
       "3  74.171650                   0.33  \n",
       "4  57.664025                   0.11  \n",
       "7  48.831582                   0.24  \n",
       "\n",
       "[5 rows x 57 columns]"
      ]
     },
     "execution_count": 23,
     "metadata": {},
     "output_type": "execute_result"
    }
   ],
   "source": [
    "df.head()"
   ]
  },
  {
   "cell_type": "code",
   "execution_count": 24,
   "metadata": {},
   "outputs": [
    {
     "data": {
      "text/plain": [
       "(3641, 57)"
      ]
     },
     "execution_count": 24,
     "metadata": {},
     "output_type": "execute_result"
    }
   ],
   "source": [
    "df.shape"
   ]
  },
  {
   "cell_type": "code",
   "execution_count": 25,
   "metadata": {},
   "outputs": [
    {
     "data": {
      "text/plain": [
       "Index(['stl1_7', 'stl1_8', 'stl1_9', 'stl1_10', 'stl4_7', 'stl4_8', 'stl4_9',\n",
       "       'stl4_10', 'swvl1_7', 'swvl1_8', 'swvl1_9', 'swvl1_10', 'swvl2_7',\n",
       "       'swvl2_8', 'swvl2_9', 'swvl2_10', 'swvl3_7', 'swvl3_8', 'swvl3_9',\n",
       "       'swvl3_10', 'swvl4_7', 'swvl4_8', 'swvl4_9', 'swvl4_10', 'ssr_7',\n",
       "       'ssr_8', 'ssr_9', 'ssr_10', 'u10_7', 'u10_8', 'u10_9', 'u10_10',\n",
       "       'v10_7', 'v10_8', 'v10_9', 'v10_10', 'tmax_7', 'tmax_8', 'tmax_9',\n",
       "       'tmax_10', 'tmin_7', 'tmin_8', 'tmin_9', 'tmin_10', 'rain_7', 'rain_8',\n",
       "       'rain_9', 'rain_10', 'countrain_7', 'countrain_8', 'countrain_9',\n",
       "       'countrain_10', 'rh_7', 'rh_8', 'rh_9', 'rh_10',\n",
       "       'Yield(Tonnes/Hectare)'],\n",
       "      dtype='object')"
      ]
     },
     "execution_count": 25,
     "metadata": {},
     "output_type": "execute_result"
    }
   ],
   "source": [
    "df.columns"
   ]
  },
  {
   "cell_type": "code",
   "execution_count": 26,
   "metadata": {},
   "outputs": [],
   "source": [
    "#df = df[['countrain_11', 'countrain_12', 'countrain_1','countrain_2', 'countrain_3', 'countrain_4', 'rain_11', 'rain_12','rain_1', 'rain_2', 'rain_3', 'rain_4','tmax_11', 'tmax_12', 'tmax_1','tmax_2', 'tmax_3', 'tmax_4', 'tmin_11', 'tmin_12', 'tmin_1', 'tmin_2','tmin_3', 'tmin_4','Yield(Tonnes/Hectare)']]"
   ]
  },
  {
   "cell_type": "code",
   "execution_count": 27,
   "metadata": {},
   "outputs": [],
   "source": [
    "#df = df.drop(columns=['countrain_11', 'countrain_12', 'countrain_1','countrain_2', 'countrain_3', 'countrain_4', 'rain_11', 'rain_12','rain_1', 'rain_2', 'rain_3', 'rain_4','tmax_11', 'tmax_12', 'tmax_1','tmax_2', 'tmax_3', 'tmax_4', 'tmin_11', 'tmin_12', 'tmin_1', 'tmin_2','tmin_3', 'tmin_4'])"
   ]
  },
  {
   "cell_type": "code",
   "execution_count": 28,
   "metadata": {},
   "outputs": [
    {
     "data": {
      "text/plain": [
       "(3641, 57)"
      ]
     },
     "execution_count": 28,
     "metadata": {},
     "output_type": "execute_result"
    }
   ],
   "source": [
    "df.shape"
   ]
  },
  {
   "cell_type": "code",
   "execution_count": 29,
   "metadata": {},
   "outputs": [],
   "source": [
    "X = df.drop('Yield(Tonnes/Hectare)', axis=1)  # Features\n",
    "y = df['Yield(Tonnes/Hectare)']  # Target variable\n",
    "\n",
    "# Split the dataset into training and testing sets\n",
    "#X_train, X_test, y_train, y_test = train_test_split(X, y, test_size=0.2, random_state=42)"
   ]
  },
  {
   "cell_type": "code",
   "execution_count": 30,
   "metadata": {},
   "outputs": [],
   "source": [
    "# X = X.drop(columns=['stl2','stl3'],axis=1)"
   ]
  },
  {
   "cell_type": "code",
   "execution_count": 31,
   "metadata": {},
   "outputs": [
    {
     "name": "stdout",
     "output_type": "stream",
     "text": [
      "Linear Regression - R^2 Score (Train) : 0.21, R^2 Score (Test): 0.18\n",
      "[0.14062074410365832, 0.20411502947900462, 0.21219058047126027, 0.16835737878732748, 0.14639616542995315, 0.18272404704933132, 0.19411148774287612, 0.16471737983308476, 0.20746697455647423, 0.17807069317342017]\n",
      "Ridge Regression - R^2 Score (Train) : 0.21, R^2 Score (Test): 0.18\n",
      "[0.19211550016918322, 0.15192531603359405, 0.15660160981229865, 0.15218931112096945, 0.1609706651965691, 0.21342369017806828, 0.19824863343199528, 0.19109277679619485, 0.21769304684119317, 0.13934959497300436]\n"
     ]
    },
    {
     "name": "stderr",
     "output_type": "stream",
     "text": [
      "c:\\Users\\Kanishk Goyal\\AppData\\Local\\Programs\\Python\\Python311\\Lib\\site-packages\\sklearn\\linear_model\\_ridge.py:200: LinAlgWarning: Ill-conditioned matrix (rcond=3.55489e-17): result may not be accurate.\n",
      "  return linalg.solve(A, Xy, assume_a=\"pos\", overwrite_a=True).T\n",
      "c:\\Users\\Kanishk Goyal\\AppData\\Local\\Programs\\Python\\Python311\\Lib\\site-packages\\sklearn\\linear_model\\_ridge.py:200: LinAlgWarning: Ill-conditioned matrix (rcond=3.55484e-17): result may not be accurate.\n",
      "  return linalg.solve(A, Xy, assume_a=\"pos\", overwrite_a=True).T\n",
      "c:\\Users\\Kanishk Goyal\\AppData\\Local\\Programs\\Python\\Python311\\Lib\\site-packages\\sklearn\\linear_model\\_ridge.py:200: LinAlgWarning: Ill-conditioned matrix (rcond=3.56593e-17): result may not be accurate.\n",
      "  return linalg.solve(A, Xy, assume_a=\"pos\", overwrite_a=True).T\n",
      "c:\\Users\\Kanishk Goyal\\AppData\\Local\\Programs\\Python\\Python311\\Lib\\site-packages\\sklearn\\linear_model\\_ridge.py:200: LinAlgWarning: Ill-conditioned matrix (rcond=3.60857e-17): result may not be accurate.\n",
      "  return linalg.solve(A, Xy, assume_a=\"pos\", overwrite_a=True).T\n",
      "c:\\Users\\Kanishk Goyal\\AppData\\Local\\Programs\\Python\\Python311\\Lib\\site-packages\\sklearn\\linear_model\\_ridge.py:200: LinAlgWarning: Ill-conditioned matrix (rcond=3.60215e-17): result may not be accurate.\n",
      "  return linalg.solve(A, Xy, assume_a=\"pos\", overwrite_a=True).T\n",
      "c:\\Users\\Kanishk Goyal\\AppData\\Local\\Programs\\Python\\Python311\\Lib\\site-packages\\sklearn\\linear_model\\_ridge.py:200: LinAlgWarning: Ill-conditioned matrix (rcond=3.56488e-17): result may not be accurate.\n",
      "  return linalg.solve(A, Xy, assume_a=\"pos\", overwrite_a=True).T\n",
      "c:\\Users\\Kanishk Goyal\\AppData\\Local\\Programs\\Python\\Python311\\Lib\\site-packages\\sklearn\\linear_model\\_ridge.py:200: LinAlgWarning: Ill-conditioned matrix (rcond=3.56995e-17): result may not be accurate.\n",
      "  return linalg.solve(A, Xy, assume_a=\"pos\", overwrite_a=True).T\n",
      "c:\\Users\\Kanishk Goyal\\AppData\\Local\\Programs\\Python\\Python311\\Lib\\site-packages\\sklearn\\linear_model\\_ridge.py:200: LinAlgWarning: Ill-conditioned matrix (rcond=3.58819e-17): result may not be accurate.\n",
      "  return linalg.solve(A, Xy, assume_a=\"pos\", overwrite_a=True).T\n",
      "c:\\Users\\Kanishk Goyal\\AppData\\Local\\Programs\\Python\\Python311\\Lib\\site-packages\\sklearn\\linear_model\\_ridge.py:200: LinAlgWarning: Ill-conditioned matrix (rcond=3.54912e-17): result may not be accurate.\n",
      "  return linalg.solve(A, Xy, assume_a=\"pos\", overwrite_a=True).T\n",
      "c:\\Users\\Kanishk Goyal\\AppData\\Local\\Programs\\Python\\Python311\\Lib\\site-packages\\sklearn\\linear_model\\_ridge.py:200: LinAlgWarning: Ill-conditioned matrix (rcond=3.59163e-17): result may not be accurate.\n",
      "  return linalg.solve(A, Xy, assume_a=\"pos\", overwrite_a=True).T\n"
     ]
    },
    {
     "name": "stdout",
     "output_type": "stream",
     "text": [
      "XGB Regressor - R^2 Score (Train) : 0.99, R^2 Score (Test): 0.35\n",
      "[0.3222816326628434, 0.35315582674755563, 0.3195480990408974, 0.3516641288936829, 0.345318964296912, 0.3421960071693032, 0.3051207795609612, 0.34761795453573463, 0.38992168885518963, 0.3974765982841518]\n",
      "Lasso Regression - R^2 Score (Train) : 0.07, R^2 Score (Test): 0.07\n",
      "[0.08621233792746208, 0.023039944653166722, 0.04829261829447229, 0.0703348096728802, 0.029634790589828652, 0.11833750757669814, 0.060760527020402244, 0.08911562390237593, 0.039437068889115356, 0.0999859664549907]\n",
      "Decision Tree - R^2 Score (Train) : 1.00, R^2 Score (Test): -0.28\n",
      "[-0.46593327191417444, -0.2752717102835138, -0.35942090921104497, -0.38658375607954887, -0.28025536974123755, -0.2916674955195948, -0.16086903467647962, -0.46510297628228936, -0.08589874085085691, -0.07898384549015458]\n",
      "Gradient Boosting - R^2 Score (Train) : 0.49, R^2 Score (Test): 0.29\n",
      "[0.3231492233878096, 0.30029878870502813, 0.30914570316178036, 0.26832197044480255, 0.26081847428236693, 0.33918759982835145, 0.267855772933572, 0.2883077241359575, 0.25754288544561854, 0.3005314171560811]\n",
      "Random Forest - R^2 Score (Train) : 0.91, R^2 Score (Test): 0.38\n",
      "[0.42497949450931316, 0.42943365121134314, 0.33050758267085534, 0.3596015722372713, 0.33368904950195954, 0.3773876877646166, 0.362228120686941, 0.4098139377484489, 0.3513747151292621, 0.38305755852842194]\n",
      "Support Vector Machine - R^2 Score (Train) : 0.09, R^2 Score (Test): 0.08\n",
      "[0.11214617090911139, 0.07419157582132896, 0.03255938354800281, 0.0840204534958019, 0.1094786162254835, 0.0725618128494997, 0.11497679826128115, 0.010608490581829666, 0.08932370883179286, 0.10818282424276793]\n"
     ]
    }
   ],
   "source": [
    "# Import necessary libraries\n",
    "import numpy as np\n",
    "import pandas as pd\n",
    "from sklearn.model_selection import train_test_split\n",
    "from sklearn.linear_model import LinearRegression, Ridge, Lasso\n",
    "from sklearn.tree import DecisionTreeRegressor\n",
    "from sklearn.ensemble import RandomForestRegressor, GradientBoostingRegressor\n",
    "from sklearn.svm import SVR\n",
    "import xgboost as xgb\n",
    "from sklearn.metrics import mean_squared_error, r2_score\n",
    "from sklearn.model_selection import KFold\n",
    "\n",
    "\n",
    "\n",
    "\n",
    "# Models\n",
    "models = {\n",
    "    \"Linear Regression\": LinearRegression(),\n",
    "    \"Ridge Regression\": Ridge(),\n",
    "    \"XGB Regressor\": xgb.XGBRegressor(objective='reg:squarederror', random_state=42),\n",
    "    \"Lasso Regression\": Lasso(),\n",
    "    \"Decision Tree\": DecisionTreeRegressor(),\n",
    "    \"Gradient Boosting\": GradientBoostingRegressor(),\n",
    "    \"Random Forest\": RandomForestRegressor(),\n",
    "    \"Support Vector Machine\": SVR()\n",
    "}\n",
    "\n",
    "# Train and evaluate each model\n",
    "for name, model in models.items():\n",
    "\n",
    "    mse_scores_test = []\n",
    "    mse_scores_train = []\n",
    "    r2_scores_test = []\n",
    "    r2_scores_train = []\n",
    "    # Create KFold object\n",
    "    k = 10\n",
    "    kfold = KFold(n_splits=k, shuffle=True)\n",
    "\n",
    "    for train_index, test_index in kfold.split(X):\n",
    "        X_train, X_test = X.iloc[train_index], X.iloc[test_index]\n",
    "        y_train, y_test = y.iloc[train_index], y.iloc[test_index]\n",
    "        model.fit(X_train, y_train)\n",
    "        y_pred_test = model.predict(X_test)\n",
    "        y_pred_train = model.predict(X_train)\n",
    "        mse_test = mean_squared_error(y_test, y_pred_test)\n",
    "        mse_train = mean_squared_error(y_train, y_pred_train)\n",
    "        r2_test = r2_score(y_test, y_pred_test)\n",
    "        r2_train = r2_score(y_train, y_pred_train)\n",
    "        mse_scores_test.append(mse_test)\n",
    "        mse_scores_train.append(mse_train)\n",
    "        r2_scores_test.append(r2_test)\n",
    "        r2_scores_train.append(r2_train)\n",
    "\n",
    "    average_mse_test = np.mean(mse_scores_test)\n",
    "    average_mse_train = np.mean(mse_scores_train)\n",
    "    average_r2_test = np.mean(r2_scores_test)\n",
    "    average_r2_train = np.mean(r2_scores_train)  \n",
    "\n",
    "    print(f'{name} - R^2 Score (Train) : {average_r2_train:.2f}, R^2 Score (Test): {average_r2_test:.2f}')\n",
    "    print(r2_scores_test)\n"
   ]
  },
  {
   "cell_type": "code",
   "execution_count": 32,
   "metadata": {},
   "outputs": [],
   "source": [
    "X_train, X_test, y_train, y_test = train_test_split(X, y, test_size=0.2, random_state=42)"
   ]
  },
  {
   "cell_type": "code",
   "execution_count": 33,
   "metadata": {},
   "outputs": [],
   "source": [
    "# import pandas as pd\n",
    "\n",
    "# # Assuming X_train is your DataFrame\n",
    "# # X_train = pd.DataFrame(...)\n",
    "\n",
    "# corr_matrix = X_train.corr()\n",
    "\n",
    "# # Get the column names of the DataFrame\n",
    "# columns = corr_matrix.columns\n",
    "\n",
    "# # Create an empty list to keep track of columns to drop\n",
    "# columns_to_drop = []\n",
    "# # Create a dictionary to store highly correlated features\n",
    "# highly_correlated_features = {}\n",
    "\n",
    "# # Loop over the columns\n",
    "# for i in range(len(columns)):\n",
    "#     for j in range(0, len(columns)):  # Loop only over the upper triangle to avoid duplicate comparisons\n",
    "#         # Access the cell of the DataFrame\n",
    "#         if abs(corr_matrix.iloc[i, j]) > 0.90:\n",
    "#             # Sort correlated features based on correlation coefficient\n",
    "#             sorted_features = sorted([(corr_matrix.iloc[i, j], columns[j]), (corr_matrix.iloc[i, i], columns[i])],\n",
    "#                                      key=lambda x: abs(x[0]), reverse=True)\n",
    "#             # Add the column to drop\n",
    "#             columns_to_drop.append(sorted_features[1][1])  # Add the one with lower correlation\n",
    "#             # Update the dictionary with highly correlated features\n",
    "#             if sorted_features[0][1] in highly_correlated_features:\n",
    "#                 highly_correlated_features[sorted_features[0][1]].append(sorted_features[1][1])\n",
    "#             else:\n",
    "#                 highly_correlated_features[sorted_features[0][1]] = [sorted_features[1][1]]\n",
    "\n",
    "# print(len(columns_to_drop))\n"
   ]
  },
  {
   "cell_type": "code",
   "execution_count": 34,
   "metadata": {},
   "outputs": [],
   "source": [
    "# import seaborn as sns\n",
    "\n",
    "# corr_matrix = X_train.corr()\n",
    "\n",
    "# # Get the column names of the DataFrame\n",
    "# columns = corr_matrix.columns\n",
    "\n",
    "# # Define a function to sort correlations in descending order (absolute value)\n",
    "# def sort_correlations(series):\n",
    "#   # Take the absolute value of the series\n",
    "#   abs_series = series.abs()\n",
    "#   # Sort the absolute values in descending order\n",
    "#   return abs_series.sort_values(ascending=False)\n",
    "\n",
    "# # Sort each column of the correlation matrix\n",
    "# sorted_corr_matrix = corr_matrix.apply(sort_correlations)\n",
    "\n",
    "# # Create an empty list to keep track of columns to drop\n",
    "# columns_to_drop = []\n",
    "# # Create a dictionary to store highly correlated features\n",
    "# highly_correlated_features = {}\n",
    "\n",
    "# # Loop over the sorted correlation matrix\n",
    "# for i in range(len(sorted_corr_matrix.columns)):\n",
    "#   # Skip the diagonal (correlation with self)\n",
    "#   if i == sorted_corr_matrix.columns[i]:\n",
    "#     continue\n",
    "#   # Get the current column and sorted correlations\n",
    "#   current_column = sorted_corr_matrix.columns[i]\n",
    "#   sorted_correlations = sorted_corr_matrix.loc[current_column]\n",
    "  \n",
    "#   # Identify highly correlated features (> 0.90) excluding the current column\n",
    "#   highly_correlated_features[current_column] = list(sorted_correlations[sorted_correlations > 0.90].index.difference([current_column]))\n",
    "\n",
    "#   # Update columns to drop based on correlations with the current column\n",
    "#   columns_to_drop.extend(highly_correlated_features[current_column])\n",
    "\n",
    "# # Remove duplicates from columns to drop\n",
    "# columns_to_drop = list(set(columns_to_drop))\n",
    "\n",
    "# print(len(columns_to_drop))"
   ]
  },
  {
   "cell_type": "code",
   "execution_count": 35,
   "metadata": {},
   "outputs": [
    {
     "name": "stdout",
     "output_type": "stream",
     "text": [
      "78\n"
     ]
    }
   ],
   "source": [
    "import seaborn as sns\n",
    "corr_matrix = X_train.corr()\n",
    "\n",
    "# Get the column names of the DataFrame\n",
    "columns = corr_matrix.columns\n",
    "\n",
    "# Create an empty list to keep track of columns to drop\n",
    "columns_to_drop = []\n",
    "# Create a dictionary to store highly correlated features\n",
    "highly_correlated_features = {}\n",
    "\n",
    "# Loop over the columns\n",
    "for i in range(len(columns)):\n",
    "    for j in range(0, len(columns)):\n",
    "        # Access the cell of the DataFrame\n",
    "        if i != j and corr_matrix.iloc[i, j] > 0.90:\n",
    "            # Add the column to drop\n",
    "            columns_to_drop.append(columns[j])\n",
    "            # Update the dictionary with highly correlated features\n",
    "            if columns[i] in highly_correlated_features:\n",
    "                highly_correlated_features[columns[i]].append((columns[j], corr_matrix.iloc[i, j].round(4)))\n",
    "            else:\n",
    "                highly_correlated_features[columns[i]] = [(columns[j], corr_matrix.iloc[i, j].round(4))]\n",
    "\n",
    "\n",
    "print(len(columns_to_drop))"
   ]
  },
  {
   "cell_type": "code",
   "execution_count": 36,
   "metadata": {},
   "outputs": [
    {
     "name": "stdout",
     "output_type": "stream",
     "text": [
      "['stl1_8', 'stl4_8', 'stl4_9', 'stl4_10', 'stl1_7', 'stl1_9', 'stl4_7', 'stl4_8', 'stl4_9', 'stl4_10', 'stl1_8', 'stl4_9', 'stl4_10', 'stl4_10', 'stl1_8', 'stl4_8', 'stl4_9', 'stl4_10', 'stl1_7', 'stl1_8', 'stl4_7', 'stl4_9', 'stl4_10', 'stl1_7', 'stl1_8', 'stl1_9', 'stl4_7', 'stl4_8', 'stl4_10', 'stl1_7', 'stl1_8', 'stl1_9', 'stl1_10', 'stl4_7', 'stl4_8', 'stl4_9', 'swvl2_7', 'swvl2_8', 'swvl2_9', 'swvl1_7', 'swvl3_7', 'swvl3_8', 'swvl1_8', 'swvl3_8', 'swvl3_9', 'swvl1_9', 'swvl3_9', 'swvl3_10', 'swvl2_7', 'swvl3_8', 'swvl2_7', 'swvl2_8', 'swvl3_7', 'swvl3_9', 'swvl2_8', 'swvl2_9', 'swvl3_8', 'swvl2_9', 'swvl4_8', 'swvl4_9', 'swvl4_10', 'swvl4_7', 'swvl4_9', 'swvl4_10', 'swvl4_7', 'swvl4_8', 'swvl4_10', 'swvl4_7', 'swvl4_8', 'swvl4_9', 'tmax_8', 'tmax_7', 'tmin_8', 'tmin_9', 'tmin_7', 'tmin_9', 'tmin_7', 'tmin_8']\n"
     ]
    }
   ],
   "source": [
    "print(columns_to_drop)"
   ]
  },
  {
   "cell_type": "code",
   "execution_count": 37,
   "metadata": {},
   "outputs": [
    {
     "name": "stdout",
     "output_type": "stream",
     "text": [
      "Highly correlated features:\n",
      "stl1_7 : [('stl1_8', 0.918), ('stl4_8', 0.908), ('stl4_9', 0.9268), ('stl4_10', 0.9329)]\n",
      "stl1_8 : [('stl1_7', 0.918), ('stl1_9', 0.9152), ('stl4_7', 0.9021), ('stl4_8', 0.9347), ('stl4_9', 0.9578), ('stl4_10', 0.9589)]\n",
      "stl1_9 : [('stl1_8', 0.9152), ('stl4_9', 0.9057), ('stl4_10', 0.9377)]\n",
      "stl1_10 : [('stl4_10', 0.9028)]\n",
      "stl4_7 : [('stl1_8', 0.9021), ('stl4_8', 0.9934), ('stl4_9', 0.9817), ('stl4_10', 0.9688)]\n",
      "stl4_8 : [('stl1_7', 0.908), ('stl1_8', 0.9347), ('stl4_7', 0.9934), ('stl4_9', 0.996), ('stl4_10', 0.9872)]\n",
      "stl4_9 : [('stl1_7', 0.9268), ('stl1_8', 0.9578), ('stl1_9', 0.9057), ('stl4_7', 0.9817), ('stl4_8', 0.996), ('stl4_10', 0.9949)]\n",
      "stl4_10 : [('stl1_7', 0.9329), ('stl1_8', 0.9589), ('stl1_9', 0.9377), ('stl1_10', 0.9028), ('stl4_7', 0.9688), ('stl4_8', 0.9872), ('stl4_9', 0.9949)]\n",
      "swvl1_7 : [('swvl2_7', 0.9248)]\n",
      "swvl1_8 : [('swvl2_8', 0.9362)]\n",
      "swvl1_9 : [('swvl2_9', 0.9405)]\n",
      "swvl2_7 : [('swvl1_7', 0.9248), ('swvl3_7', 0.9127), ('swvl3_8', 0.9317)]\n",
      "swvl2_8 : [('swvl1_8', 0.9362), ('swvl3_8', 0.9296), ('swvl3_9', 0.9214)]\n",
      "swvl2_9 : [('swvl1_9', 0.9405), ('swvl3_9', 0.9426), ('swvl3_10', 0.9247)]\n",
      "swvl3_7 : [('swvl2_7', 0.9127), ('swvl3_8', 0.9167)]\n",
      "swvl3_8 : [('swvl2_7', 0.9317), ('swvl2_8', 0.9296), ('swvl3_7', 0.9167), ('swvl3_9', 0.9316)]\n",
      "swvl3_9 : [('swvl2_8', 0.9214), ('swvl2_9', 0.9426), ('swvl3_8', 0.9316)]\n",
      "swvl3_10 : [('swvl2_9', 0.9247)]\n",
      "swvl4_7 : [('swvl4_8', 0.988), ('swvl4_9', 0.9715), ('swvl4_10', 0.9546)]\n",
      "swvl4_8 : [('swvl4_7', 0.988), ('swvl4_9', 0.9916), ('swvl4_10', 0.9751)]\n",
      "swvl4_9 : [('swvl4_7', 0.9715), ('swvl4_8', 0.9916), ('swvl4_10', 0.9902)]\n",
      "swvl4_10 : [('swvl4_7', 0.9546), ('swvl4_8', 0.9751), ('swvl4_9', 0.9902)]\n",
      "tmax_7 : [('tmax_8', 0.9065)]\n",
      "tmax_8 : [('tmax_7', 0.9065)]\n",
      "tmin_7 : [('tmin_8', 0.9799), ('tmin_9', 0.9647)]\n",
      "tmin_8 : [('tmin_7', 0.9799), ('tmin_9', 0.9782)]\n",
      "tmin_9 : [('tmin_7', 0.9647), ('tmin_8', 0.9782)]\n"
     ]
    }
   ],
   "source": [
    "print(\"Highly correlated features:\")\n",
    "for key, value in highly_correlated_features.items():\n",
    "    print(key, \":\", value)"
   ]
  },
  {
   "cell_type": "code",
   "execution_count": 38,
   "metadata": {},
   "outputs": [
    {
     "ename": "NameError",
     "evalue": "name 'stop' is not defined",
     "output_type": "error",
     "traceback": [
      "\u001b[1;31m---------------------------------------------------------------------------\u001b[0m",
      "\u001b[1;31mNameError\u001b[0m                                 Traceback (most recent call last)",
      "Cell \u001b[1;32mIn[38], line 1\u001b[0m\n\u001b[1;32m----> 1\u001b[0m \u001b[43mstop\u001b[49m\n",
      "\u001b[1;31mNameError\u001b[0m: name 'stop' is not defined"
     ]
    }
   ],
   "source": [
    "stop"
   ]
  },
  {
   "cell_type": "code",
   "execution_count": null,
   "metadata": {},
   "outputs": [],
   "source": [
    "import time\n",
    "def print_accuracy(f):\n",
    "    print(\n",
    "        f\"Root mean squared test error = {np.sqrt(np.mean((f(X_test) - y_test) ** 2))}\"\n",
    "    )\n",
    "    time.sleep(0.5)  # to let the print get out before any progress bars"
   ]
  },
  {
   "cell_type": "code",
   "execution_count": null,
   "metadata": {},
   "outputs": [],
   "source": [
    "from sklearn.ensemble import RandomForestRegressor\n",
    "\n",
    "rforest = RandomForestRegressor(\n",
    "    n_estimators=1000, max_depth=None, min_samples_split=2, random_state=0\n",
    ")\n",
    "rforest.fit(X_train, y_train)\n",
    "print_accuracy(rforest.predict)"
   ]
  },
  {
   "cell_type": "code",
   "execution_count": null,
   "metadata": {},
   "outputs": [],
   "source": [
    "y_pred = rforest.predict(X_test)\n",
    "mse = mean_squared_error(y_test, y_pred)\n",
    "r2 = r2_score(y_test, y_pred)\n",
    "print(mse,r2)"
   ]
  },
  {
   "cell_type": "code",
   "execution_count": null,
   "metadata": {},
   "outputs": [],
   "source": [
    "#pip install shap"
   ]
  },
  {
   "cell_type": "code",
   "execution_count": null,
   "metadata": {},
   "outputs": [],
   "source": [
    "stop"
   ]
  },
  {
   "cell_type": "code",
   "execution_count": null,
   "metadata": {},
   "outputs": [],
   "source": [
    "columns_to_drop = set(columns_to_drop)\n",
    "print(columns_to_drop)"
   ]
  },
  {
   "cell_type": "code",
   "execution_count": null,
   "metadata": {},
   "outputs": [],
   "source": [
    "len(columns_to_drop)"
   ]
  },
  {
   "cell_type": "code",
   "execution_count": null,
   "metadata": {},
   "outputs": [],
   "source": [
    "X_train.drop(columns = columns_to_drop, axis = 1, inplace=True)\n",
    "X_test.drop(columns = columns_to_drop, axis = 1, inplace=True)"
   ]
  },
  {
   "cell_type": "code",
   "execution_count": null,
   "metadata": {},
   "outputs": [],
   "source": [
    "from sklearn.model_selection import train_test_split\n",
    "from sklearn.linear_model import LinearRegression\n",
    "from sklearn.metrics import mean_squared_error, r2_score"
   ]
  },
  {
   "cell_type": "code",
   "execution_count": null,
   "metadata": {},
   "outputs": [],
   "source": [
    "# Import necessary libraries\n",
    "import numpy as np\n",
    "import pandas as pd\n",
    "from sklearn.model_selection import train_test_split\n",
    "from sklearn.linear_model import LinearRegression, Ridge, Lasso\n",
    "from sklearn.tree import DecisionTreeRegressor\n",
    "from sklearn.ensemble import RandomForestRegressor, GradientBoostingRegressor\n",
    "from sklearn.svm import SVR\n",
    "from sklearn.metrics import mean_squared_error, r2_score\n",
    "from sklearn.model_selection import KFold\n",
    "\n",
    "\n",
    "# Create KFold object\n",
    "k = 5\n",
    "kfold = KFold(n_splits=k, shuffle=True)\n",
    "\n",
    "\n",
    "# Models\n",
    "models = {\n",
    "    \"Linear Regression\": LinearRegression(),\n",
    "    \"Ridge Regression\": Ridge(),\n",
    "    \"Lasso Regression\": Lasso(),\n",
    "    \"Decision Tree\": DecisionTreeRegressor(),\n",
    "    \"Gradient Boosting\": GradientBoostingRegressor(),\n",
    "    \"Random Forest\": RandomForestRegressor(),\n",
    "    \"Support Vector Machine\": SVR()\n",
    "}\n",
    "\n",
    "# Train and evaluate each model\n",
    "for name, model in models.items():\n",
    "    mse_scores = []\n",
    "    r2_scores = []\n",
    "\n",
    "    for train_index, test_index in kfold.split(X):\n",
    "        X_train, X_test = X[train_index], X[test_index]\n",
    "        y_train, y_test = y[train_index], y[test_index]\n",
    "    model.fit(X_train, y_train)\n",
    "    y_pred = model.predict(X_test)\n",
    "    mse = mean_squared_error(y_test, y_pred)\n",
    "    r2 = r2_score(y_test, y_pred)\n",
    "    print(f'{name} - Mean Squared Error: {mse:.2f}, R^2 Score: {r2:.2f}')\n"
   ]
  },
  {
   "cell_type": "code",
   "execution_count": null,
   "metadata": {},
   "outputs": [],
   "source": [
    "import xarray\n",
    "data = xarray.open_dataset(r\"C:\\Users\\Kanishk Goyal\\OneDrive - IIT Kanpur\\Desktop\\Prof. Hamim Zafar\\Data\\Relative humidity\\1month_mean_Global_ea_r2_199703_v02.grib\", engine='cfgrib')\n",
    "data.to_netcdf(r\"C:\\Users\\Kanishk Goyal\\OneDrive - IIT Kanpur\\Desktop\\Prof. Hamim Zafar\\Data\\Relative humidity\\1month_mean_Global_ea_r2_199703_v02.nc\")"
   ]
  },
  {
   "cell_type": "code",
   "execution_count": null,
   "metadata": {},
   "outputs": [],
   "source": []
  }
 ],
 "metadata": {
  "kernelspec": {
   "display_name": "Python 3",
   "language": "python",
   "name": "python3"
  },
  "language_info": {
   "codemirror_mode": {
    "name": "ipython",
    "version": 3
   },
   "file_extension": ".py",
   "mimetype": "text/x-python",
   "name": "python",
   "nbconvert_exporter": "python",
   "pygments_lexer": "ipython3",
   "version": "3.11.4"
  }
 },
 "nbformat": 4,
 "nbformat_minor": 2
}
