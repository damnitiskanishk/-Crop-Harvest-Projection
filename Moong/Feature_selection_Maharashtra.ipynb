{
 "cells": [
  {
   "cell_type": "code",
   "execution_count": 1,
   "metadata": {},
   "outputs": [],
   "source": [
    "import numpy as np \n",
    "import pandas as pd\n",
    "import seaborn as sns\n",
    "import matplotlib.pyplot as plt\n",
    "from sklearn.preprocessing import LabelEncoder\n",
    "from sklearn.model_selection import train_test_split\n",
    "from sklearn.linear_model import LinearRegression\n",
    "from sklearn.metrics import mean_squared_error, r2_score\n",
    "import seaborn as sns"
   ]
  },
  {
   "cell_type": "code",
   "execution_count": 2,
   "metadata": {},
   "outputs": [],
   "source": [
    "df = pd.read_csv(r\"C:\\Users\\Kanishk Goyal\\OneDrive - IIT Kanpur\\Desktop\\Prof. Hamim Zafar\\Data\\Final Data\\Moong\\Moong_MH.csv\")\n",
    "df = df.drop(columns=['latitude','longitude','DistrictName', 'year'])\n",
    "# df = df.sample(frac=1).reset_index(drop=True)\n",
    "#df = df.drop(columns=['DistrictName','latitude','longitude','year','year_mask'])"
   ]
  },
  {
   "cell_type": "code",
   "execution_count": 3,
   "metadata": {},
   "outputs": [],
   "source": [
    "df = df.rename(columns={'Yield(tonnes/hectare)':'Yield(Tonnes/Hectare)'},inplace=False)"
   ]
  },
  {
   "cell_type": "code",
   "execution_count": 4,
   "metadata": {},
   "outputs": [],
   "source": [
    "df = df.drop(columns=['stl2_7','stl2_8', 'stl2_9', 'stl2_10', 'stl3_7', 'stl3_8', 'stl3_9', 'stl3_10'])"
   ]
  },
  {
   "cell_type": "code",
   "execution_count": 5,
   "metadata": {},
   "outputs": [
    {
     "data": {
      "text/plain": [
       "Index(['stl1_7', 'stl1_8', 'stl1_9', 'stl1_10', 'stl4_7', 'stl4_8', 'stl4_9',\n",
       "       'stl4_10', 'swvl1_7', 'swvl1_8', 'swvl1_9', 'swvl1_10', 'swvl2_8',\n",
       "       'swvl2_9', 'swvl2_7', 'swvl2_10', 'swvl3_9', 'swvl3_10', 'swvl3_7',\n",
       "       'swvl3_8', 'swvl4_7', 'swvl4_8', 'swvl4_9', 'swvl4_10', 'ssr_10',\n",
       "       'ssr_9', 'ssr_7', 'ssr_8', 'u10_9', 'u10_10', 'u10_7', 'u10_8', 'v10_7',\n",
       "       'v10_8', 'v10_9', 'v10_10', 'tmax_7', 'tmax_8', 'tmax_9', 'tmax_10',\n",
       "       'tmin_7', 'tmin_8', 'tmin_9', 'tmin_10', 'rain_7', 'rain_8', 'rain_9',\n",
       "       'rain_10', 'countrain_7', 'countrain_8', 'countrain_9', 'countrain_10',\n",
       "       'rh_7', 'rh_8', 'rh_9', 'rh_10', 'Yield(Tonnes/Hectare)'],\n",
       "      dtype='object')"
      ]
     },
     "execution_count": 5,
     "metadata": {},
     "output_type": "execute_result"
    }
   ],
   "source": [
    "df.columns"
   ]
  },
  {
   "cell_type": "code",
   "execution_count": 6,
   "metadata": {},
   "outputs": [],
   "source": [
    "# df['stl1'] = (df['stl1_1'] + df['stl1_2'])/2\n",
    "# df['stl2'] = (df['stl2_1'] + df['stl2_2'])/2\n",
    "# df['stl3'] = (df['stl3_1'] + df['stl3_2'])/2\n",
    "# df['stl4'] = (df['stl4_1'] + df['stl4_2'])/2\n",
    "# df['swvl1'] = (df['swvl1_1'] + df['swvl1_2'])/2\n",
    "# df['swvl2'] = (df['swvl2_1'] + df['swvl2_2'])/2\n",
    "# df['swvl3'] = (df['swvl3_1'] + df['swvl3_2'])/2\n",
    "# df['swvl4'] = (df['swvl4_1'] + df['swvl4_2'])/2\n",
    "# df['ssr'] = (df['ssr_1'] + df['ssr_2'])/2\n",
    "# df['rain'] = (df['rain_1'] + df['rain_2'])/2\n",
    "# df['tmax'] = (df['tmax_1'] + df['tmax_2'])/2\n",
    "# df['tmin'] = (df['tmin_1'] + df['tmin_2'])/2\n",
    "# df['countrain'] = df['countrain_1'] + df['countrain_2']\n",
    "# df['u10'] = (df['u10_3']+df['u10_4'])/2\n",
    "# df['v10'] = (df['v10_3']+df['v10_4'])/2\n",
    "# df['rh'] = (df['rh_3']+df['rh_4'])/2"
   ]
  },
  {
   "cell_type": "code",
   "execution_count": 7,
   "metadata": {},
   "outputs": [],
   "source": [
    "# df = df.drop(columns=['stl1_1','stl1_2','stl2_1','stl2_2','stl3_1','stl3_2','stl4_1','stl4_2','swvl1_1','swvl1_2','swvl2_1','swvl2_2','swvl3_1','swvl3_2','swvl4_1','swvl4_2','ssr_1','ssr_2','rain_1','rain_2','tmax_1','tmax_2','tmin_1','tmin_2','countrain_1','countrain_2','u10_3','u10_4','v10_3','v10_4','rh_3','rh_4'],axis=1)"
   ]
  },
  {
   "cell_type": "code",
   "execution_count": 8,
   "metadata": {},
   "outputs": [
    {
     "data": {
      "text/plain": [
       "(936, 57)"
      ]
     },
     "execution_count": 8,
     "metadata": {},
     "output_type": "execute_result"
    }
   ],
   "source": [
    "df.shape"
   ]
  },
  {
   "cell_type": "code",
   "execution_count": 9,
   "metadata": {},
   "outputs": [
    {
     "data": {
      "text/plain": [
       "Index(['stl1_7', 'stl1_8', 'stl1_9', 'stl1_10', 'stl4_7', 'stl4_8', 'stl4_9',\n",
       "       'stl4_10', 'swvl1_7', 'swvl1_8', 'swvl1_9', 'swvl1_10', 'swvl2_8',\n",
       "       'swvl2_9', 'swvl2_7', 'swvl2_10', 'swvl3_9', 'swvl3_10', 'swvl3_7',\n",
       "       'swvl3_8', 'swvl4_7', 'swvl4_8', 'swvl4_9', 'swvl4_10', 'ssr_10',\n",
       "       'ssr_9', 'ssr_7', 'ssr_8', 'u10_9', 'u10_10', 'u10_7', 'u10_8', 'v10_7',\n",
       "       'v10_8', 'v10_9', 'v10_10', 'tmax_7', 'tmax_8', 'tmax_9', 'tmax_10',\n",
       "       'tmin_7', 'tmin_8', 'tmin_9', 'tmin_10', 'rain_7', 'rain_8', 'rain_9',\n",
       "       'rain_10', 'countrain_7', 'countrain_8', 'countrain_9', 'countrain_10',\n",
       "       'rh_7', 'rh_8', 'rh_9', 'rh_10', 'Yield(Tonnes/Hectare)'],\n",
       "      dtype='object')"
      ]
     },
     "execution_count": 9,
     "metadata": {},
     "output_type": "execute_result"
    }
   ],
   "source": [
    "df.columns"
   ]
  },
  {
   "cell_type": "code",
   "execution_count": 10,
   "metadata": {},
   "outputs": [],
   "source": [
    "df = df.dropna(subset=['Yield(Tonnes/Hectare)'])"
   ]
  },
  {
   "cell_type": "code",
   "execution_count": 11,
   "metadata": {},
   "outputs": [
    {
     "data": {
      "text/plain": [
       "(724, 57)"
      ]
     },
     "execution_count": 11,
     "metadata": {},
     "output_type": "execute_result"
    }
   ],
   "source": [
    "df.shape"
   ]
  },
  {
   "cell_type": "code",
   "execution_count": 12,
   "metadata": {},
   "outputs": [
    {
     "data": {
      "text/plain": [
       "1.0612687314148654"
      ]
     },
     "execution_count": 12,
     "metadata": {},
     "output_type": "execute_result"
    }
   ],
   "source": [
    "df['Yield(Tonnes/Hectare)'].skew()"
   ]
  },
  {
   "cell_type": "code",
   "execution_count": 13,
   "metadata": {},
   "outputs": [
    {
     "name": "stderr",
     "output_type": "stream",
     "text": [
      "C:\\Users\\Kanishk Goyal\\AppData\\Local\\Temp\\ipykernel_4448\\994257175.py:1: UserWarning: \n",
      "\n",
      "`distplot` is a deprecated function and will be removed in seaborn v0.14.0.\n",
      "\n",
      "Please adapt your code to use either `displot` (a figure-level function with\n",
      "similar flexibility) or `histplot` (an axes-level function for histograms).\n",
      "\n",
      "For a guide to updating your code to use the new functions, please see\n",
      "https://gist.github.com/mwaskom/de44147ed2974457ad6372750bbe5751\n",
      "\n",
      "  sns.distplot(df['Yield(Tonnes/Hectare)'],color='green')\n"
     ]
    },
    {
     "data": {
      "text/plain": [
       "<Axes: xlabel='Yield(Tonnes/Hectare)', ylabel='Density'>"
      ]
     },
     "execution_count": 13,
     "metadata": {},
     "output_type": "execute_result"
    },
    {
     "data": {
      "image/png": "[encoded data removed]",
      "text/plain": [
       "<Figure size 640x480 with 1 Axes>"
      ]
     },
     "metadata": {},
     "output_type": "display_data"
    }
   ],
   "source": [
    "sns.distplot(df['Yield(Tonnes/Hectare)'],color='green')"
   ]
  },
  {
   "cell_type": "code",
   "execution_count": 14,
   "metadata": {},
   "outputs": [
    {
     "data": {
      "text/plain": [
       "0      1.00\n",
       "1      1.00\n",
       "2      1.00\n",
       "3      1.00\n",
       "4      1.00\n",
       "       ... \n",
       "928    0.31\n",
       "929    0.49\n",
       "930    0.55\n",
       "931    0.52\n",
       "932    0.50\n",
       "Name: Yield(Tonnes/Hectare), Length: 724, dtype: float64"
      ]
     },
     "execution_count": 14,
     "metadata": {},
     "output_type": "execute_result"
    }
   ],
   "source": [
    "df['Yield(Tonnes/Hectare)']"
   ]
  },
  {
   "cell_type": "code",
   "execution_count": 15,
   "metadata": {},
   "outputs": [
    {
     "name": "stdout",
     "output_type": "stream",
     "text": [
      "Number of points in the final DataFrame after handling outliers: 720\n"
     ]
    }
   ],
   "source": [
    "Q1 = df['Yield(Tonnes/Hectare)'].quantile(0.25)\n",
    "Q3 = df['Yield(Tonnes/Hectare)'].quantile(0.75)\n",
    "IQR = Q3 - Q1\n",
    "\n",
    "lower_bound = Q1 - 1.5 * IQR\n",
    "upper_bound = Q3 + 1.5 * IQR\n",
    "\n",
    "df['Yield_no_outliers'] = np.where((df['Yield(Tonnes/Hectare)'] < lower_bound) | (df['Yield(Tonnes/Hectare)'] > upper_bound), np.nan, df['Yield(Tonnes/Hectare)'])\n",
    "\n",
    "num_points_after_handling_outliers = df['Yield_no_outliers'].count()\n",
    "print(\"Number of points in the final DataFrame after handling outliers:\", num_points_after_handling_outliers)"
   ]
  },
  {
   "cell_type": "code",
   "execution_count": 16,
   "metadata": {},
   "outputs": [],
   "source": [
    "df = df.dropna(subset=['Yield_no_outliers'])\n",
    "df = df.drop(columns=['Yield(Tonnes/Hectare)'])"
   ]
  },
  {
   "cell_type": "code",
   "execution_count": 17,
   "metadata": {},
   "outputs": [],
   "source": [
    "df.rename(columns={'Yield_no_outliers': 'Yield(Tonnes/Hectare)'}, inplace=True)"
   ]
  },
  {
   "cell_type": "code",
   "execution_count": 18,
   "metadata": {},
   "outputs": [
    {
     "data": {
      "text/plain": [
       "0.4005320815315672"
      ]
     },
     "execution_count": 18,
     "metadata": {},
     "output_type": "execute_result"
    }
   ],
   "source": [
    "df['Yield(Tonnes/Hectare)'].skew()"
   ]
  },
  {
   "cell_type": "code",
   "execution_count": 19,
   "metadata": {},
   "outputs": [
    {
     "name": "stderr",
     "output_type": "stream",
     "text": [
      "C:\\Users\\Kanishk Goyal\\AppData\\Local\\Temp\\ipykernel_4448\\1820324139.py:1: UserWarning: \n",
      "\n",
      "`distplot` is a deprecated function and will be removed in seaborn v0.14.0.\n",
      "\n",
      "Please adapt your code to use either `displot` (a figure-level function with\n",
      "similar flexibility) or `histplot` (an axes-level function for histograms).\n",
      "\n",
      "For a guide to updating your code to use the new functions, please see\n",
      "https://gist.github.com/mwaskom/de44147ed2974457ad6372750bbe5751\n",
      "\n",
      "  sns.distplot(df['Yield(Tonnes/Hectare)'])\n"
     ]
    },
    {
     "data": {
      "text/plain": [
       "<Axes: xlabel='Yield(Tonnes/Hectare)', ylabel='Density'>"
      ]
     },
     "execution_count": 19,
     "metadata": {},
     "output_type": "execute_result"
    },
    {
     "data": {
      "image/png": "[encoded data removed]",
      "text/plain": [
       "<Figure size 640x480 with 1 Axes>"
      ]
     },
     "metadata": {},
     "output_type": "display_data"
    }
   ],
   "source": [
    "sns.distplot(df['Yield(Tonnes/Hectare)'])"
   ]
  },
  {
   "cell_type": "code",
   "execution_count": 20,
   "metadata": {},
   "outputs": [
    {
     "data": {
      "text/html": [
       "<div>\n",
       "<style scoped>\n",
       "    .dataframe tbody tr th:only-of-type {\n",
       "        vertical-align: middle;\n",
       "    }\n",
       "\n",
       "    .dataframe tbody tr th {\n",
       "        vertical-align: top;\n",
       "    }\n",
       "\n",
       "    .dataframe thead th {\n",
       "        text-align: right;\n",
       "    }\n",
       "</style>\n",
       "<table border=\"1\" class=\"dataframe\">\n",
       "  <thead>\n",
       "    <tr style=\"text-align: right;\">\n",
       "      <th></th>\n",
       "      <th>stl1_7</th>\n",
       "      <th>stl1_8</th>\n",
       "      <th>stl1_9</th>\n",
       "      <th>stl1_10</th>\n",
       "      <th>stl4_7</th>\n",
       "      <th>stl4_8</th>\n",
       "      <th>stl4_9</th>\n",
       "      <th>stl4_10</th>\n",
       "      <th>swvl1_7</th>\n",
       "      <th>swvl1_8</th>\n",
       "      <th>...</th>\n",
       "      <th>rain_10</th>\n",
       "      <th>countrain_7</th>\n",
       "      <th>countrain_8</th>\n",
       "      <th>countrain_9</th>\n",
       "      <th>countrain_10</th>\n",
       "      <th>rh_7</th>\n",
       "      <th>rh_8</th>\n",
       "      <th>rh_9</th>\n",
       "      <th>rh_10</th>\n",
       "      <th>Yield(Tonnes/Hectare)</th>\n",
       "    </tr>\n",
       "  </thead>\n",
       "  <tbody>\n",
       "    <tr>\n",
       "      <th>0</th>\n",
       "      <td>25.700357</td>\n",
       "      <td>25.258673</td>\n",
       "      <td>26.465237</td>\n",
       "      <td>27.909570</td>\n",
       "      <td>28.124930</td>\n",
       "      <td>27.302499</td>\n",
       "      <td>26.789975</td>\n",
       "      <td>26.834031</td>\n",
       "      <td>0.461810</td>\n",
       "      <td>0.461480</td>\n",
       "      <td>...</td>\n",
       "      <td>0.862112</td>\n",
       "      <td>29</td>\n",
       "      <td>31</td>\n",
       "      <td>9</td>\n",
       "      <td>4</td>\n",
       "      <td>93.307801</td>\n",
       "      <td>92.834169</td>\n",
       "      <td>86.277770</td>\n",
       "      <td>78.755706</td>\n",
       "      <td>1.0</td>\n",
       "    </tr>\n",
       "    <tr>\n",
       "      <th>1</th>\n",
       "      <td>26.114527</td>\n",
       "      <td>26.121972</td>\n",
       "      <td>26.165701</td>\n",
       "      <td>26.393392</td>\n",
       "      <td>28.827478</td>\n",
       "      <td>27.929159</td>\n",
       "      <td>27.351976</td>\n",
       "      <td>27.023271</td>\n",
       "      <td>0.458888</td>\n",
       "      <td>0.457605</td>\n",
       "      <td>...</td>\n",
       "      <td>10.566809</td>\n",
       "      <td>29</td>\n",
       "      <td>28</td>\n",
       "      <td>26</td>\n",
       "      <td>20</td>\n",
       "      <td>92.388331</td>\n",
       "      <td>91.553263</td>\n",
       "      <td>89.637622</td>\n",
       "      <td>84.251470</td>\n",
       "      <td>1.0</td>\n",
       "    </tr>\n",
       "    <tr>\n",
       "      <th>2</th>\n",
       "      <td>25.104206</td>\n",
       "      <td>25.507513</td>\n",
       "      <td>25.753259</td>\n",
       "      <td>26.586572</td>\n",
       "      <td>27.599899</td>\n",
       "      <td>26.753323</td>\n",
       "      <td>26.386376</td>\n",
       "      <td>26.313887</td>\n",
       "      <td>0.459808</td>\n",
       "      <td>0.458188</td>\n",
       "      <td>...</td>\n",
       "      <td>5.718999</td>\n",
       "      <td>26</td>\n",
       "      <td>24</td>\n",
       "      <td>20</td>\n",
       "      <td>13</td>\n",
       "      <td>93.258319</td>\n",
       "      <td>90.596679</td>\n",
       "      <td>89.307968</td>\n",
       "      <td>79.448595</td>\n",
       "      <td>1.0</td>\n",
       "    </tr>\n",
       "    <tr>\n",
       "      <th>3</th>\n",
       "      <td>25.473837</td>\n",
       "      <td>25.507908</td>\n",
       "      <td>26.584013</td>\n",
       "      <td>26.812139</td>\n",
       "      <td>27.475658</td>\n",
       "      <td>26.944691</td>\n",
       "      <td>26.498298</td>\n",
       "      <td>26.573070</td>\n",
       "      <td>0.458187</td>\n",
       "      <td>0.455910</td>\n",
       "      <td>...</td>\n",
       "      <td>3.133705</td>\n",
       "      <td>26</td>\n",
       "      <td>23</td>\n",
       "      <td>15</td>\n",
       "      <td>12</td>\n",
       "      <td>91.236255</td>\n",
       "      <td>90.990922</td>\n",
       "      <td>86.735677</td>\n",
       "      <td>85.771705</td>\n",
       "      <td>1.0</td>\n",
       "    </tr>\n",
       "    <tr>\n",
       "      <th>4</th>\n",
       "      <td>25.543906</td>\n",
       "      <td>25.126897</td>\n",
       "      <td>26.261095</td>\n",
       "      <td>26.302408</td>\n",
       "      <td>27.818962</td>\n",
       "      <td>27.038515</td>\n",
       "      <td>26.569563</td>\n",
       "      <td>26.454993</td>\n",
       "      <td>0.460154</td>\n",
       "      <td>0.462486</td>\n",
       "      <td>...</td>\n",
       "      <td>3.933403</td>\n",
       "      <td>31</td>\n",
       "      <td>29</td>\n",
       "      <td>13</td>\n",
       "      <td>10</td>\n",
       "      <td>91.851809</td>\n",
       "      <td>92.863266</td>\n",
       "      <td>87.249054</td>\n",
       "      <td>79.869515</td>\n",
       "      <td>1.0</td>\n",
       "    </tr>\n",
       "    <tr>\n",
       "      <th>5</th>\n",
       "      <td>26.298718</td>\n",
       "      <td>25.245871</td>\n",
       "      <td>26.232115</td>\n",
       "      <td>27.368771</td>\n",
       "      <td>28.324733</td>\n",
       "      <td>27.513901</td>\n",
       "      <td>26.845632</td>\n",
       "      <td>26.861393</td>\n",
       "      <td>0.467127</td>\n",
       "      <td>0.457975</td>\n",
       "      <td>...</td>\n",
       "      <td>4.135635</td>\n",
       "      <td>27</td>\n",
       "      <td>26</td>\n",
       "      <td>11</td>\n",
       "      <td>12</td>\n",
       "      <td>90.388557</td>\n",
       "      <td>91.765787</td>\n",
       "      <td>85.417899</td>\n",
       "      <td>82.038917</td>\n",
       "      <td>1.0</td>\n",
       "    </tr>\n",
       "    <tr>\n",
       "      <th>6</th>\n",
       "      <td>25.362503</td>\n",
       "      <td>25.574346</td>\n",
       "      <td>25.793011</td>\n",
       "      <td>27.194548</td>\n",
       "      <td>28.730684</td>\n",
       "      <td>27.721814</td>\n",
       "      <td>27.015291</td>\n",
       "      <td>26.816022</td>\n",
       "      <td>0.458816</td>\n",
       "      <td>0.464747</td>\n",
       "      <td>...</td>\n",
       "      <td>3.014760</td>\n",
       "      <td>31</td>\n",
       "      <td>31</td>\n",
       "      <td>20</td>\n",
       "      <td>9</td>\n",
       "      <td>93.551390</td>\n",
       "      <td>92.380411</td>\n",
       "      <td>89.500773</td>\n",
       "      <td>82.974012</td>\n",
       "      <td>1.0</td>\n",
       "    </tr>\n",
       "    <tr>\n",
       "      <th>7</th>\n",
       "      <td>25.666344</td>\n",
       "      <td>25.062434</td>\n",
       "      <td>26.270110</td>\n",
       "      <td>27.020734</td>\n",
       "      <td>27.937724</td>\n",
       "      <td>27.050572</td>\n",
       "      <td>26.564554</td>\n",
       "      <td>26.480641</td>\n",
       "      <td>0.462311</td>\n",
       "      <td>0.458581</td>\n",
       "      <td>...</td>\n",
       "      <td>1.276965</td>\n",
       "      <td>31</td>\n",
       "      <td>27</td>\n",
       "      <td>19</td>\n",
       "      <td>3</td>\n",
       "      <td>91.676536</td>\n",
       "      <td>91.325762</td>\n",
       "      <td>86.497631</td>\n",
       "      <td>71.962360</td>\n",
       "      <td>1.0</td>\n",
       "    </tr>\n",
       "    <tr>\n",
       "      <th>8</th>\n",
       "      <td>25.634911</td>\n",
       "      <td>25.422351</td>\n",
       "      <td>25.589845</td>\n",
       "      <td>26.680459</td>\n",
       "      <td>28.499928</td>\n",
       "      <td>27.470323</td>\n",
       "      <td>26.883304</td>\n",
       "      <td>26.619851</td>\n",
       "      <td>0.460222</td>\n",
       "      <td>0.455713</td>\n",
       "      <td>...</td>\n",
       "      <td>3.229331</td>\n",
       "      <td>21</td>\n",
       "      <td>14</td>\n",
       "      <td>15</td>\n",
       "      <td>9</td>\n",
       "      <td>93.037684</td>\n",
       "      <td>90.895749</td>\n",
       "      <td>90.613846</td>\n",
       "      <td>78.838008</td>\n",
       "      <td>1.0</td>\n",
       "    </tr>\n",
       "    <tr>\n",
       "      <th>9</th>\n",
       "      <td>25.410168</td>\n",
       "      <td>25.283270</td>\n",
       "      <td>26.171758</td>\n",
       "      <td>27.107437</td>\n",
       "      <td>27.977351</td>\n",
       "      <td>27.082176</td>\n",
       "      <td>26.671143</td>\n",
       "      <td>26.498416</td>\n",
       "      <td>0.458796</td>\n",
       "      <td>0.460477</td>\n",
       "      <td>...</td>\n",
       "      <td>4.912316</td>\n",
       "      <td>31</td>\n",
       "      <td>30</td>\n",
       "      <td>16</td>\n",
       "      <td>12</td>\n",
       "      <td>92.962982</td>\n",
       "      <td>92.438025</td>\n",
       "      <td>88.781061</td>\n",
       "      <td>78.001038</td>\n",
       "      <td>1.0</td>\n",
       "    </tr>\n",
       "  </tbody>\n",
       "</table>\n",
       "<p>10 rows × 57 columns</p>\n",
       "</div>"
      ],
      "text/plain": [
       "      stl1_7     stl1_8     stl1_9    stl1_10     stl4_7     stl4_8  \\\n",
       "0  25.700357  25.258673  26.465237  27.909570  28.124930  27.302499   \n",
       "1  26.114527  26.121972  26.165701  26.393392  28.827478  27.929159   \n",
       "2  25.104206  25.507513  25.753259  26.586572  27.599899  26.753323   \n",
       "3  25.473837  25.507908  26.584013  26.812139  27.475658  26.944691   \n",
       "4  25.543906  25.126897  26.261095  26.302408  27.818962  27.038515   \n",
       "5  26.298718  25.245871  26.232115  27.368771  28.324733  27.513901   \n",
       "6  25.362503  25.574346  25.793011  27.194548  28.730684  27.721814   \n",
       "7  25.666344  25.062434  26.270110  27.020734  27.937724  27.050572   \n",
       "8  25.634911  25.422351  25.589845  26.680459  28.499928  27.470323   \n",
       "9  25.410168  25.283270  26.171758  27.107437  27.977351  27.082176   \n",
       "\n",
       "      stl4_9    stl4_10   swvl1_7   swvl1_8  ...    rain_10  countrain_7  \\\n",
       "0  26.789975  26.834031  0.461810  0.461480  ...   0.862112           29   \n",
       "1  27.351976  27.023271  0.458888  0.457605  ...  10.566809           29   \n",
       "2  26.386376  26.313887  0.459808  0.458188  ...   5.718999           26   \n",
       "3  26.498298  26.573070  0.458187  0.455910  ...   3.133705           26   \n",
       "4  26.569563  26.454993  0.460154  0.462486  ...   3.933403           31   \n",
       "5  26.845632  26.861393  0.467127  0.457975  ...   4.135635           27   \n",
       "6  27.015291  26.816022  0.458816  0.464747  ...   3.014760           31   \n",
       "7  26.564554  26.480641  0.462311  0.458581  ...   1.276965           31   \n",
       "8  26.883304  26.619851  0.460222  0.455713  ...   3.229331           21   \n",
       "9  26.671143  26.498416  0.458796  0.460477  ...   4.912316           31   \n",
       "\n",
       "   countrain_8  countrain_9  countrain_10       rh_7       rh_8       rh_9  \\\n",
       "0           31            9             4  93.307801  92.834169  86.277770   \n",
       "1           28           26            20  92.388331  91.553263  89.637622   \n",
       "2           24           20            13  93.258319  90.596679  89.307968   \n",
       "3           23           15            12  91.236255  90.990922  86.735677   \n",
       "4           29           13            10  91.851809  92.863266  87.249054   \n",
       "5           26           11            12  90.388557  91.765787  85.417899   \n",
       "6           31           20             9  93.551390  92.380411  89.500773   \n",
       "7           27           19             3  91.676536  91.325762  86.497631   \n",
       "8           14           15             9  93.037684  90.895749  90.613846   \n",
       "9           30           16            12  92.962982  92.438025  88.781061   \n",
       "\n",
       "       rh_10  Yield(Tonnes/Hectare)  \n",
       "0  78.755706                    1.0  \n",
       "1  84.251470                    1.0  \n",
       "2  79.448595                    1.0  \n",
       "3  85.771705                    1.0  \n",
       "4  79.869515                    1.0  \n",
       "5  82.038917                    1.0  \n",
       "6  82.974012                    1.0  \n",
       "7  71.962360                    1.0  \n",
       "8  78.838008                    1.0  \n",
       "9  78.001038                    1.0  \n",
       "\n",
       "[10 rows x 57 columns]"
      ]
     },
     "execution_count": 20,
     "metadata": {},
     "output_type": "execute_result"
    }
   ],
   "source": [
    "df.head(10)"
   ]
  },
  {
   "cell_type": "code",
   "execution_count": 21,
   "metadata": {},
   "outputs": [
    {
     "data": {
      "text/plain": [
       "(720, 57)"
      ]
     },
     "execution_count": 21,
     "metadata": {},
     "output_type": "execute_result"
    }
   ],
   "source": [
    "df.shape"
   ]
  },
  {
   "cell_type": "code",
   "execution_count": 22,
   "metadata": {},
   "outputs": [],
   "source": [
    "# cat_cols = ['DistrictName', 'year']\n",
    "# # Label encode categorical columns\n",
    "# encoder = LabelEncoder()\n",
    "# df[cat_cols] = df[cat_cols].apply(encoder.fit_transform)"
   ]
  },
  {
   "cell_type": "code",
   "execution_count": 23,
   "metadata": {},
   "outputs": [
    {
     "data": {
      "text/html": [
       "<div>\n",
       "<style scoped>\n",
       "    .dataframe tbody tr th:only-of-type {\n",
       "        vertical-align: middle;\n",
       "    }\n",
       "\n",
       "    .dataframe tbody tr th {\n",
       "        vertical-align: top;\n",
       "    }\n",
       "\n",
       "    .dataframe thead th {\n",
       "        text-align: right;\n",
       "    }\n",
       "</style>\n",
       "<table border=\"1\" class=\"dataframe\">\n",
       "  <thead>\n",
       "    <tr style=\"text-align: right;\">\n",
       "      <th></th>\n",
       "      <th>stl1_7</th>\n",
       "      <th>stl1_8</th>\n",
       "      <th>stl1_9</th>\n",
       "      <th>stl1_10</th>\n",
       "      <th>stl4_7</th>\n",
       "      <th>stl4_8</th>\n",
       "      <th>stl4_9</th>\n",
       "      <th>stl4_10</th>\n",
       "      <th>swvl1_7</th>\n",
       "      <th>swvl1_8</th>\n",
       "      <th>...</th>\n",
       "      <th>rain_10</th>\n",
       "      <th>countrain_7</th>\n",
       "      <th>countrain_8</th>\n",
       "      <th>countrain_9</th>\n",
       "      <th>countrain_10</th>\n",
       "      <th>rh_7</th>\n",
       "      <th>rh_8</th>\n",
       "      <th>rh_9</th>\n",
       "      <th>rh_10</th>\n",
       "      <th>Yield(Tonnes/Hectare)</th>\n",
       "    </tr>\n",
       "  </thead>\n",
       "  <tbody>\n",
       "    <tr>\n",
       "      <th>0</th>\n",
       "      <td>25.700357</td>\n",
       "      <td>25.258673</td>\n",
       "      <td>26.465237</td>\n",
       "      <td>27.909570</td>\n",
       "      <td>28.124930</td>\n",
       "      <td>27.302499</td>\n",
       "      <td>26.789975</td>\n",
       "      <td>26.834031</td>\n",
       "      <td>0.461810</td>\n",
       "      <td>0.461480</td>\n",
       "      <td>...</td>\n",
       "      <td>0.862112</td>\n",
       "      <td>29</td>\n",
       "      <td>31</td>\n",
       "      <td>9</td>\n",
       "      <td>4</td>\n",
       "      <td>93.307801</td>\n",
       "      <td>92.834169</td>\n",
       "      <td>86.277770</td>\n",
       "      <td>78.755706</td>\n",
       "      <td>1.0</td>\n",
       "    </tr>\n",
       "    <tr>\n",
       "      <th>1</th>\n",
       "      <td>26.114527</td>\n",
       "      <td>26.121972</td>\n",
       "      <td>26.165701</td>\n",
       "      <td>26.393392</td>\n",
       "      <td>28.827478</td>\n",
       "      <td>27.929159</td>\n",
       "      <td>27.351976</td>\n",
       "      <td>27.023271</td>\n",
       "      <td>0.458888</td>\n",
       "      <td>0.457605</td>\n",
       "      <td>...</td>\n",
       "      <td>10.566809</td>\n",
       "      <td>29</td>\n",
       "      <td>28</td>\n",
       "      <td>26</td>\n",
       "      <td>20</td>\n",
       "      <td>92.388331</td>\n",
       "      <td>91.553263</td>\n",
       "      <td>89.637622</td>\n",
       "      <td>84.251470</td>\n",
       "      <td>1.0</td>\n",
       "    </tr>\n",
       "    <tr>\n",
       "      <th>2</th>\n",
       "      <td>25.104206</td>\n",
       "      <td>25.507513</td>\n",
       "      <td>25.753259</td>\n",
       "      <td>26.586572</td>\n",
       "      <td>27.599899</td>\n",
       "      <td>26.753323</td>\n",
       "      <td>26.386376</td>\n",
       "      <td>26.313887</td>\n",
       "      <td>0.459808</td>\n",
       "      <td>0.458188</td>\n",
       "      <td>...</td>\n",
       "      <td>5.718999</td>\n",
       "      <td>26</td>\n",
       "      <td>24</td>\n",
       "      <td>20</td>\n",
       "      <td>13</td>\n",
       "      <td>93.258319</td>\n",
       "      <td>90.596679</td>\n",
       "      <td>89.307968</td>\n",
       "      <td>79.448595</td>\n",
       "      <td>1.0</td>\n",
       "    </tr>\n",
       "    <tr>\n",
       "      <th>3</th>\n",
       "      <td>25.473837</td>\n",
       "      <td>25.507908</td>\n",
       "      <td>26.584013</td>\n",
       "      <td>26.812139</td>\n",
       "      <td>27.475658</td>\n",
       "      <td>26.944691</td>\n",
       "      <td>26.498298</td>\n",
       "      <td>26.573070</td>\n",
       "      <td>0.458187</td>\n",
       "      <td>0.455910</td>\n",
       "      <td>...</td>\n",
       "      <td>3.133705</td>\n",
       "      <td>26</td>\n",
       "      <td>23</td>\n",
       "      <td>15</td>\n",
       "      <td>12</td>\n",
       "      <td>91.236255</td>\n",
       "      <td>90.990922</td>\n",
       "      <td>86.735677</td>\n",
       "      <td>85.771705</td>\n",
       "      <td>1.0</td>\n",
       "    </tr>\n",
       "    <tr>\n",
       "      <th>4</th>\n",
       "      <td>25.543906</td>\n",
       "      <td>25.126897</td>\n",
       "      <td>26.261095</td>\n",
       "      <td>26.302408</td>\n",
       "      <td>27.818962</td>\n",
       "      <td>27.038515</td>\n",
       "      <td>26.569563</td>\n",
       "      <td>26.454993</td>\n",
       "      <td>0.460154</td>\n",
       "      <td>0.462486</td>\n",
       "      <td>...</td>\n",
       "      <td>3.933403</td>\n",
       "      <td>31</td>\n",
       "      <td>29</td>\n",
       "      <td>13</td>\n",
       "      <td>10</td>\n",
       "      <td>91.851809</td>\n",
       "      <td>92.863266</td>\n",
       "      <td>87.249054</td>\n",
       "      <td>79.869515</td>\n",
       "      <td>1.0</td>\n",
       "    </tr>\n",
       "  </tbody>\n",
       "</table>\n",
       "<p>5 rows × 57 columns</p>\n",
       "</div>"
      ],
      "text/plain": [
       "      stl1_7     stl1_8     stl1_9    stl1_10     stl4_7     stl4_8  \\\n",
       "0  25.700357  25.258673  26.465237  27.909570  28.124930  27.302499   \n",
       "1  26.114527  26.121972  26.165701  26.393392  28.827478  27.929159   \n",
       "2  25.104206  25.507513  25.753259  26.586572  27.599899  26.753323   \n",
       "3  25.473837  25.507908  26.584013  26.812139  27.475658  26.944691   \n",
       "4  25.543906  25.126897  26.261095  26.302408  27.818962  27.038515   \n",
       "\n",
       "      stl4_9    stl4_10   swvl1_7   swvl1_8  ...    rain_10  countrain_7  \\\n",
       "0  26.789975  26.834031  0.461810  0.461480  ...   0.862112           29   \n",
       "1  27.351976  27.023271  0.458888  0.457605  ...  10.566809           29   \n",
       "2  26.386376  26.313887  0.459808  0.458188  ...   5.718999           26   \n",
       "3  26.498298  26.573070  0.458187  0.455910  ...   3.133705           26   \n",
       "4  26.569563  26.454993  0.460154  0.462486  ...   3.933403           31   \n",
       "\n",
       "   countrain_8  countrain_9  countrain_10       rh_7       rh_8       rh_9  \\\n",
       "0           31            9             4  93.307801  92.834169  86.277770   \n",
       "1           28           26            20  92.388331  91.553263  89.637622   \n",
       "2           24           20            13  93.258319  90.596679  89.307968   \n",
       "3           23           15            12  91.236255  90.990922  86.735677   \n",
       "4           29           13            10  91.851809  92.863266  87.249054   \n",
       "\n",
       "       rh_10  Yield(Tonnes/Hectare)  \n",
       "0  78.755706                    1.0  \n",
       "1  84.251470                    1.0  \n",
       "2  79.448595                    1.0  \n",
       "3  85.771705                    1.0  \n",
       "4  79.869515                    1.0  \n",
       "\n",
       "[5 rows x 57 columns]"
      ]
     },
     "execution_count": 23,
     "metadata": {},
     "output_type": "execute_result"
    }
   ],
   "source": [
    "df.head()"
   ]
  },
  {
   "cell_type": "code",
   "execution_count": 24,
   "metadata": {},
   "outputs": [
    {
     "data": {
      "text/plain": [
       "(720, 57)"
      ]
     },
     "execution_count": 24,
     "metadata": {},
     "output_type": "execute_result"
    }
   ],
   "source": [
    "df.shape"
   ]
  },
  {
   "cell_type": "code",
   "execution_count": 25,
   "metadata": {},
   "outputs": [
    {
     "data": {
      "text/plain": [
       "Index(['stl1_7', 'stl1_8', 'stl1_9', 'stl1_10', 'stl4_7', 'stl4_8', 'stl4_9',\n",
       "       'stl4_10', 'swvl1_7', 'swvl1_8', 'swvl1_9', 'swvl1_10', 'swvl2_8',\n",
       "       'swvl2_9', 'swvl2_7', 'swvl2_10', 'swvl3_9', 'swvl3_10', 'swvl3_7',\n",
       "       'swvl3_8', 'swvl4_7', 'swvl4_8', 'swvl4_9', 'swvl4_10', 'ssr_10',\n",
       "       'ssr_9', 'ssr_7', 'ssr_8', 'u10_9', 'u10_10', 'u10_7', 'u10_8', 'v10_7',\n",
       "       'v10_8', 'v10_9', 'v10_10', 'tmax_7', 'tmax_8', 'tmax_9', 'tmax_10',\n",
       "       'tmin_7', 'tmin_8', 'tmin_9', 'tmin_10', 'rain_7', 'rain_8', 'rain_9',\n",
       "       'rain_10', 'countrain_7', 'countrain_8', 'countrain_9', 'countrain_10',\n",
       "       'rh_7', 'rh_8', 'rh_9', 'rh_10', 'Yield(Tonnes/Hectare)'],\n",
       "      dtype='object')"
      ]
     },
     "execution_count": 25,
     "metadata": {},
     "output_type": "execute_result"
    }
   ],
   "source": [
    "df.columns"
   ]
  },
  {
   "cell_type": "code",
   "execution_count": 26,
   "metadata": {},
   "outputs": [],
   "source": [
    "#df = df[['countrain_11', 'countrain_12', 'countrain_1','countrain_2', 'countrain_3', 'countrain_4', 'rain_11', 'rain_12','rain_1', 'rain_2', 'rain_3', 'rain_4','tmax_11', 'tmax_12', 'tmax_1','tmax_2', 'tmax_3', 'tmax_4', 'tmin_11', 'tmin_12', 'tmin_1', 'tmin_2','tmin_3', 'tmin_4','Yield(Tonnes/Hectare)']]"
   ]
  },
  {
   "cell_type": "code",
   "execution_count": 27,
   "metadata": {},
   "outputs": [],
   "source": [
    "#df = df.drop(columns=['countrain_11', 'countrain_12', 'countrain_1','countrain_2', 'countrain_3', 'countrain_4', 'rain_11', 'rain_12','rain_1', 'rain_2', 'rain_3', 'rain_4','tmax_11', 'tmax_12', 'tmax_1','tmax_2', 'tmax_3', 'tmax_4', 'tmin_11', 'tmin_12', 'tmin_1', 'tmin_2','tmin_3', 'tmin_4'])"
   ]
  },
  {
   "cell_type": "code",
   "execution_count": 28,
   "metadata": {},
   "outputs": [
    {
     "data": {
      "text/plain": [
       "(720, 57)"
      ]
     },
     "execution_count": 28,
     "metadata": {},
     "output_type": "execute_result"
    }
   ],
   "source": [
    "df.shape"
   ]
  },
  {
   "cell_type": "code",
   "execution_count": 29,
   "metadata": {},
   "outputs": [],
   "source": [
    "X = df.drop('Yield(Tonnes/Hectare)', axis=1)  # Features\n",
    "y = df['Yield(Tonnes/Hectare)']  # Target variable\n",
    "\n",
    "# Split the dataset into training and testing sets\n",
    "#X_train, X_test, y_train, y_test = train_test_split(X, y, test_size=0.2, random_state=42)"
   ]
  },
  {
   "cell_type": "code",
   "execution_count": 30,
   "metadata": {},
   "outputs": [],
   "source": [
    "# X = X.drop(columns=['stl2','stl3'],axis=1)"
   ]
  },
  {
   "cell_type": "code",
   "execution_count": 31,
   "metadata": {},
   "outputs": [
    {
     "name": "stdout",
     "output_type": "stream",
     "text": [
      "Linear Regression - R^2 Score (Train) : 0.37, R^2 Score (Test): 0.21\n",
      "[0.17164916417216003, 0.28519223065574884, 0.34807037299957266, 0.19319025008182167, 0.13905732668554482, -0.040972564448738424, 0.14149458567712403, 0.31358127711802863, 0.29183796724769595, 0.25545193485760176]\n",
      "Ridge Regression - R^2 Score (Train) : 0.32, R^2 Score (Test): 0.19\n",
      "[0.3349113234380152, 0.16637429416627803, 0.16442062345300346, 0.1257653182059978, 0.18077145452231147, 0.12131782525019308, 0.2535799481483785, 0.1984799972281941, 0.32848758748227236, 0.04497770686986047]\n",
      "XGB Regressor - R^2 Score (Train) : 1.00, R^2 Score (Test): 0.22\n",
      "[0.24069688150115554, -0.09415141028644713, 0.4309545816556629, 0.4266897150952783, 0.1371589068682888, 0.2563259544705556, 0.11687465046784906, 0.1466540296783364, 0.23469466713523135, 0.3139118735246448]\n",
      "Lasso Regression - R^2 Score (Train) : 0.07, R^2 Score (Test): 0.03\n",
      "[0.17158094497487542, 0.1316012980022826, 0.037074946049488355, -0.1197779161721575, 0.0834650512134184, 0.07130874765177186, 0.03168307847465501, -0.05881862659579484, 0.11882764548226044, -0.13111179850425914]\n",
      "Decision Tree - R^2 Score (Train) : 1.00, R^2 Score (Test): -0.28\n",
      "[-0.04045061821556284, -0.3346655182314098, 0.008201372873045565, -0.5396212671597314, -0.47140625278452686, -0.01378621340271402, -0.3710974126266007, -0.7478545112997548, -0.15074968513548082, -0.10929458068422626]\n",
      "Gradient Boosting - R^2 Score (Train) : 0.81, R^2 Score (Test): 0.27\n",
      "[0.024536206880623856, 0.301956325167142, 0.31524715054425323, 0.482330156806726, 0.28540526177257197, 0.3056185136793157, 0.3071479434093556, 0.1760721585902174, 0.31718773863948335, 0.15257401025831407]\n",
      "Random Forest - R^2 Score (Train) : 0.90, R^2 Score (Test): 0.31\n",
      "[0.47986238416141225, 0.4241957380836775, 0.2936486924832278, 0.2236675457936873, 0.1482508266070366, 0.4695420438480644, 0.19064934838337577, 0.17257505560066355, 0.36970723374448433, 0.2884489244604941]\n",
      "Support Vector Machine - R^2 Score (Train) : 0.08, R^2 Score (Test): 0.04\n",
      "[0.03443544710852986, 0.09586542700962597, -0.003949750804237651, -0.01041298949164915, -0.0338621532651977, 0.05835124632286737, 0.02063311407965651, 0.10062372607305481, 0.04090306144371869, 0.11461143013456954]\n"
     ]
    }
   ],
   "source": [
    "# Import necessary libraries\n",
    "import numpy as np\n",
    "import pandas as pd\n",
    "from sklearn.model_selection import train_test_split\n",
    "from sklearn.linear_model import LinearRegression, Ridge, Lasso\n",
    "from sklearn.tree import DecisionTreeRegressor\n",
    "from sklearn.ensemble import RandomForestRegressor, GradientBoostingRegressor\n",
    "from sklearn.svm import SVR\n",
    "import xgboost as xgb\n",
    "from sklearn.metrics import mean_squared_error, r2_score\n",
    "from sklearn.model_selection import KFold\n",
    "\n",
    "\n",
    "\n",
    "\n",
    "# Models\n",
    "models = {\n",
    "    \"Linear Regression\": LinearRegression(),\n",
    "    \"Ridge Regression\": Ridge(),\n",
    "    \"XGB Regressor\": xgb.XGBRegressor(objective='reg:squarederror', random_state=42),\n",
    "    \"Lasso Regression\": Lasso(),\n",
    "    \"Decision Tree\": DecisionTreeRegressor(),\n",
    "    \"Gradient Boosting\": GradientBoostingRegressor(),\n",
    "    \"Random Forest\": RandomForestRegressor(),\n",
    "    \"Support Vector Machine\": SVR()\n",
    "}\n",
    "\n",
    "# Train and evaluate each model\n",
    "for name, model in models.items():\n",
    "\n",
    "    mse_scores_test = []\n",
    "    mse_scores_train = []\n",
    "    r2_scores_test = []\n",
    "    r2_scores_train = []\n",
    "    # Create KFold object\n",
    "    k = 10\n",
    "    kfold = KFold(n_splits=k, shuffle=True)\n",
    "\n",
    "    for train_index, test_index in kfold.split(X):\n",
    "        X_train, X_test = X.iloc[train_index], X.iloc[test_index]\n",
    "        y_train, y_test = y.iloc[train_index], y.iloc[test_index]\n",
    "        model.fit(X_train, y_train)\n",
    "        y_pred_test = model.predict(X_test)\n",
    "        y_pred_train = model.predict(X_train)\n",
    "        mse_test = mean_squared_error(y_test, y_pred_test)\n",
    "        mse_train = mean_squared_error(y_train, y_pred_train)\n",
    "        r2_test = r2_score(y_test, y_pred_test)\n",
    "        r2_train = r2_score(y_train, y_pred_train)\n",
    "        mse_scores_test.append(mse_test)\n",
    "        mse_scores_train.append(mse_train)\n",
    "        r2_scores_test.append(r2_test)\n",
    "        r2_scores_train.append(r2_train)\n",
    "\n",
    "    average_mse_test = np.mean(mse_scores_test)\n",
    "    average_mse_train = np.mean(mse_scores_train)\n",
    "    average_r2_test = np.mean(r2_scores_test)\n",
    "    average_r2_train = np.mean(r2_scores_train)  \n",
    "\n",
    "    print(f'{name} - R^2 Score (Train) : {average_r2_train:.2f}, R^2 Score (Test): {average_r2_test:.2f}')\n",
    "    print(r2_scores_test)\n"
   ]
  },
  {
   "cell_type": "code",
   "execution_count": 32,
   "metadata": {},
   "outputs": [],
   "source": [
    "X_train, X_test, y_train, y_test = train_test_split(X, y, test_size=0.2, random_state=42)"
   ]
  },
  {
   "cell_type": "code",
   "execution_count": 33,
   "metadata": {},
   "outputs": [],
   "source": [
    "# import pandas as pd\n",
    "\n",
    "# # Assuming X_train is your DataFrame\n",
    "# # X_train = pd.DataFrame(...)\n",
    "\n",
    "# corr_matrix = X_train.corr()\n",
    "\n",
    "# # Get the column names of the DataFrame\n",
    "# columns = corr_matrix.columns\n",
    "\n",
    "# # Create an empty list to keep track of columns to drop\n",
    "# columns_to_drop = []\n",
    "# # Create a dictionary to store highly correlated features\n",
    "# highly_correlated_features = {}\n",
    "\n",
    "# # Loop over the columns\n",
    "# for i in range(len(columns)):\n",
    "#     for j in range(0, len(columns)):  # Loop only over the upper triangle to avoid duplicate comparisons\n",
    "#         # Access the cell of the DataFrame\n",
    "#         if abs(corr_matrix.iloc[i, j]) > 0.90:\n",
    "#             # Sort correlated features based on correlation coefficient\n",
    "#             sorted_features = sorted([(corr_matrix.iloc[i, j], columns[j]), (corr_matrix.iloc[i, i], columns[i])],\n",
    "#                                      key=lambda x: abs(x[0]), reverse=True)\n",
    "#             # Add the column to drop\n",
    "#             columns_to_drop.append(sorted_features[1][1])  # Add the one with lower correlation\n",
    "#             # Update the dictionary with highly correlated features\n",
    "#             if sorted_features[0][1] in highly_correlated_features:\n",
    "#                 highly_correlated_features[sorted_features[0][1]].append(sorted_features[1][1])\n",
    "#             else:\n",
    "#                 highly_correlated_features[sorted_features[0][1]] = [sorted_features[1][1]]\n",
    "\n",
    "# print(len(columns_to_drop))\n"
   ]
  },
  {
   "cell_type": "code",
   "execution_count": 34,
   "metadata": {},
   "outputs": [],
   "source": [
    "# import seaborn as sns\n",
    "\n",
    "# corr_matrix = X_train.corr()\n",
    "\n",
    "# # Get the column names of the DataFrame\n",
    "# columns = corr_matrix.columns\n",
    "\n",
    "# # Define a function to sort correlations in descending order (absolute value)\n",
    "# def sort_correlations(series):\n",
    "#   # Take the absolute value of the series\n",
    "#   abs_series = series.abs()\n",
    "#   # Sort the absolute values in descending order\n",
    "#   return abs_series.sort_values(ascending=False)\n",
    "\n",
    "# # Sort each column of the correlation matrix\n",
    "# sorted_corr_matrix = corr_matrix.apply(sort_correlations)\n",
    "\n",
    "# # Create an empty list to keep track of columns to drop\n",
    "# columns_to_drop = []\n",
    "# # Create a dictionary to store highly correlated features\n",
    "# highly_correlated_features = {}\n",
    "\n",
    "# # Loop over the sorted correlation matrix\n",
    "# for i in range(len(sorted_corr_matrix.columns)):\n",
    "#   # Skip the diagonal (correlation with self)\n",
    "#   if i == sorted_corr_matrix.columns[i]:\n",
    "#     continue\n",
    "#   # Get the current column and sorted correlations\n",
    "#   current_column = sorted_corr_matrix.columns[i]\n",
    "#   sorted_correlations = sorted_corr_matrix.loc[current_column]\n",
    "  \n",
    "#   # Identify highly correlated features (> 0.90) excluding the current column\n",
    "#   highly_correlated_features[current_column] = list(sorted_correlations[sorted_correlations > 0.90].index.difference([current_column]))\n",
    "\n",
    "#   # Update columns to drop based on correlations with the current column\n",
    "#   columns_to_drop.extend(highly_correlated_features[current_column])\n",
    "\n",
    "# # Remove duplicates from columns to drop\n",
    "# columns_to_drop = list(set(columns_to_drop))\n",
    "\n",
    "# print(len(columns_to_drop))"
   ]
  },
  {
   "cell_type": "code",
   "execution_count": 35,
   "metadata": {},
   "outputs": [
    {
     "name": "stdout",
     "output_type": "stream",
     "text": [
      "30\n"
     ]
    }
   ],
   "source": [
    "import seaborn as sns\n",
    "corr_matrix = X_train.corr()\n",
    "\n",
    "# Get the column names of the DataFrame\n",
    "columns = corr_matrix.columns\n",
    "\n",
    "# Create an empty list to keep track of columns to drop\n",
    "columns_to_drop = []\n",
    "# Create a dictionary to store highly correlated features\n",
    "highly_correlated_features = {}\n",
    "\n",
    "# Loop over the columns\n",
    "for i in range(len(columns)):\n",
    "    for j in range(0, len(columns)):\n",
    "        # Access the cell of the DataFrame\n",
    "        if i != j and corr_matrix.iloc[i, j] > 0.90:\n",
    "            # Add the column to drop\n",
    "            columns_to_drop.append(columns[j])\n",
    "            # Update the dictionary with highly correlated features\n",
    "            if columns[i] in highly_correlated_features:\n",
    "                highly_correlated_features[columns[i]].append((columns[j], corr_matrix.iloc[i, j].round(4)))\n",
    "            else:\n",
    "                highly_correlated_features[columns[i]] = [(columns[j], corr_matrix.iloc[i, j].round(4))]\n",
    "\n",
    "\n",
    "print(len(columns_to_drop))"
   ]
  },
  {
   "cell_type": "code",
   "execution_count": 36,
   "metadata": {},
   "outputs": [
    {
     "name": "stdout",
     "output_type": "stream",
     "text": [
      "['stl4_10', 'stl4_8', 'stl4_9', 'stl4_7', 'stl4_9', 'stl4_10', 'stl4_7', 'stl4_8', 'stl4_10', 'stl1_8', 'stl4_8', 'stl4_9', 'swvl2_7', 'swvl2_8', 'swvl2_9', 'swvl2_10', 'swvl1_8', 'swvl1_9', 'swvl1_7', 'swvl1_10', 'swvl4_9', 'swvl4_10', 'swvl4_8', 'swvl4_10', 'swvl4_8', 'swvl4_9', 'tmin_8', 'tmin_7', 'tmin_9', 'tmin_8']\n"
     ]
    }
   ],
   "source": [
    "print(columns_to_drop)"
   ]
  },
  {
   "cell_type": "code",
   "execution_count": 37,
   "metadata": {},
   "outputs": [
    {
     "name": "stdout",
     "output_type": "stream",
     "text": [
      "Highly correlated features:\n",
      "stl1_8 : [('stl4_10', 0.9007)]\n",
      "stl4_7 : [('stl4_8', 0.9822), ('stl4_9', 0.95)]\n",
      "stl4_8 : [('stl4_7', 0.9822), ('stl4_9', 0.9871), ('stl4_10', 0.9485)]\n",
      "stl4_9 : [('stl4_7', 0.95), ('stl4_8', 0.9871), ('stl4_10', 0.9783)]\n",
      "stl4_10 : [('stl1_8', 0.9007), ('stl4_8', 0.9485), ('stl4_9', 0.9783)]\n",
      "swvl1_7 : [('swvl2_7', 0.9317)]\n",
      "swvl1_8 : [('swvl2_8', 0.9391)]\n",
      "swvl1_9 : [('swvl2_9', 0.9252)]\n",
      "swvl1_10 : [('swvl2_10', 0.9106)]\n",
      "swvl2_8 : [('swvl1_8', 0.9391)]\n",
      "swvl2_9 : [('swvl1_9', 0.9252)]\n",
      "swvl2_7 : [('swvl1_7', 0.9317)]\n",
      "swvl2_10 : [('swvl1_10', 0.9106)]\n",
      "swvl4_8 : [('swvl4_9', 0.9428), ('swvl4_10', 0.9066)]\n",
      "swvl4_9 : [('swvl4_8', 0.9428), ('swvl4_10', 0.9752)]\n",
      "swvl4_10 : [('swvl4_8', 0.9066), ('swvl4_9', 0.9752)]\n",
      "tmin_7 : [('tmin_8', 0.9052)]\n",
      "tmin_8 : [('tmin_7', 0.9052), ('tmin_9', 0.9274)]\n",
      "tmin_9 : [('tmin_8', 0.9274)]\n"
     ]
    }
   ],
   "source": [
    "print(\"Highly correlated features:\")\n",
    "for key, value in highly_correlated_features.items():\n",
    "    print(key, \":\", value)"
   ]
  },
  {
   "cell_type": "code",
   "execution_count": 38,
   "metadata": {},
   "outputs": [
    {
     "ename": "NameError",
     "evalue": "name 'stop' is not defined",
     "output_type": "error",
     "traceback": [
      "\u001b[1;31m---------------------------------------------------------------------------\u001b[0m",
      "\u001b[1;31mNameError\u001b[0m                                 Traceback (most recent call last)",
      "Cell \u001b[1;32mIn[38], line 1\u001b[0m\n\u001b[1;32m----> 1\u001b[0m \u001b[43mstop\u001b[49m\n",
      "\u001b[1;31mNameError\u001b[0m: name 'stop' is not defined"
     ]
    }
   ],
   "source": [
    "stop"
   ]
  },
  {
   "cell_type": "code",
   "execution_count": null,
   "metadata": {},
   "outputs": [],
   "source": [
    "import time\n",
    "def print_accuracy(f):\n",
    "    print(\n",
    "        f\"Root mean squared test error = {np.sqrt(np.mean((f(X_test) - y_test) ** 2))}\"\n",
    "    )\n",
    "    time.sleep(0.5)  # to let the print get out before any progress bars"
   ]
  },
  {
   "cell_type": "code",
   "execution_count": null,
   "metadata": {},
   "outputs": [],
   "source": [
    "from sklearn.ensemble import RandomForestRegressor\n",
    "\n",
    "rforest = RandomForestRegressor(\n",
    "    n_estimators=1000, max_depth=None, min_samples_split=2, random_state=0\n",
    ")\n",
    "rforest.fit(X_train, y_train)\n",
    "print_accuracy(rforest.predict)"
   ]
  },
  {
   "cell_type": "code",
   "execution_count": null,
   "metadata": {},
   "outputs": [],
   "source": [
    "y_pred = rforest.predict(X_test)\n",
    "mse = mean_squared_error(y_test, y_pred)\n",
    "r2 = r2_score(y_test, y_pred)\n",
    "print(mse,r2)"
   ]
  },
  {
   "cell_type": "code",
   "execution_count": null,
   "metadata": {},
   "outputs": [],
   "source": [
    "#pip install shap"
   ]
  },
  {
   "cell_type": "code",
   "execution_count": null,
   "metadata": {},
   "outputs": [],
   "source": [
    "stop"
   ]
  },
  {
   "cell_type": "code",
   "execution_count": null,
   "metadata": {},
   "outputs": [],
   "source": [
    "columns_to_drop = set(columns_to_drop)\n",
    "print(columns_to_drop)"
   ]
  },
  {
   "cell_type": "code",
   "execution_count": null,
   "metadata": {},
   "outputs": [],
   "source": [
    "len(columns_to_drop)"
   ]
  },
  {
   "cell_type": "code",
   "execution_count": null,
   "metadata": {},
   "outputs": [],
   "source": [
    "X_train.drop(columns = columns_to_drop, axis = 1, inplace=True)\n",
    "X_test.drop(columns = columns_to_drop, axis = 1, inplace=True)"
   ]
  },
  {
   "cell_type": "code",
   "execution_count": null,
   "metadata": {},
   "outputs": [],
   "source": [
    "from sklearn.model_selection import train_test_split\n",
    "from sklearn.linear_model import LinearRegression\n",
    "from sklearn.metrics import mean_squared_error, r2_score"
   ]
  },
  {
   "cell_type": "code",
   "execution_count": null,
   "metadata": {},
   "outputs": [],
   "source": [
    "# Import necessary libraries\n",
    "import numpy as np\n",
    "import pandas as pd\n",
    "from sklearn.model_selection import train_test_split\n",
    "from sklearn.linear_model import LinearRegression, Ridge, Lasso\n",
    "from sklearn.tree import DecisionTreeRegressor\n",
    "from sklearn.ensemble import RandomForestRegressor, GradientBoostingRegressor\n",
    "from sklearn.svm import SVR\n",
    "from sklearn.metrics import mean_squared_error, r2_score\n",
    "from sklearn.model_selection import KFold\n",
    "\n",
    "\n",
    "# Create KFold object\n",
    "k = 5\n",
    "kfold = KFold(n_splits=k, shuffle=True)\n",
    "\n",
    "\n",
    "# Models\n",
    "models = {\n",
    "    \"Linear Regression\": LinearRegression(),\n",
    "    \"Ridge Regression\": Ridge(),\n",
    "    \"Lasso Regression\": Lasso(),\n",
    "    \"Decision Tree\": DecisionTreeRegressor(),\n",
    "    \"Gradient Boosting\": GradientBoostingRegressor(),\n",
    "    \"Random Forest\": RandomForestRegressor(),\n",
    "    \"Support Vector Machine\": SVR()\n",
    "}\n",
    "\n",
    "# Train and evaluate each model\n",
    "for name, model in models.items():\n",
    "    mse_scores = []\n",
    "    r2_scores = []\n",
    "\n",
    "    for train_index, test_index in kfold.split(X):\n",
    "        X_train, X_test = X[train_index], X[test_index]\n",
    "        y_train, y_test = y[train_index], y[test_index]\n",
    "    model.fit(X_train, y_train)\n",
    "    y_pred = model.predict(X_test)\n",
    "    mse = mean_squared_error(y_test, y_pred)\n",
    "    r2 = r2_score(y_test, y_pred)\n",
    "    print(f'{name} - Mean Squared Error: {mse:.2f}, R^2 Score: {r2:.2f}')\n"
   ]
  },
  {
   "cell_type": "code",
   "execution_count": null,
   "metadata": {},
   "outputs": [],
   "source": [
    "import xarray\n",
    "data = xarray.open_dataset(r\"C:\\Users\\Kanishk Goyal\\OneDrive - IIT Kanpur\\Desktop\\Prof. Hamim Zafar\\Data\\Relative humidity\\1month_mean_Global_ea_r2_199703_v02.grib\", engine='cfgrib')\n",
    "data.to_netcdf(r\"C:\\Users\\Kanishk Goyal\\OneDrive - IIT Kanpur\\Desktop\\Prof. Hamim Zafar\\Data\\Relative humidity\\1month_mean_Global_ea_r2_199703_v02.nc\")"
   ]
  },
  {
   "cell_type": "code",
   "execution_count": null,
   "metadata": {},
   "outputs": [],
   "source": []
  }
 ],
 "metadata": {
  "kernelspec": {
   "display_name": "Python 3",
   "language": "python",
   "name": "python3"
  },
  "language_info": {
   "codemirror_mode": {
    "name": "ipython",
    "version": 3
   },
   "file_extension": ".py",
   "mimetype": "text/x-python",
   "name": "python",
   "nbconvert_exporter": "python",
   "pygments_lexer": "ipython3",
   "version": "3.11.4"
  }
 },
 "nbformat": 4,
 "nbformat_minor": 2
}
