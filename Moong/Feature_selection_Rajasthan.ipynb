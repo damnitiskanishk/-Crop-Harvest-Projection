{
 "cells": [
  {
   "cell_type": "code",
   "execution_count": 1,
   "metadata": {},
   "outputs": [],
   "source": [
    "import numpy as np \n",
    "import pandas as pd\n",
    "import seaborn as sns\n",
    "import matplotlib.pyplot as plt\n",
    "from sklearn.preprocessing import LabelEncoder\n",
    "from sklearn.model_selection import train_test_split\n",
    "from sklearn.linear_model import LinearRegression\n",
    "from sklearn.metrics import mean_squared_error, r2_score\n",
    "import seaborn as sns"
   ]
  },
  {
   "cell_type": "code",
   "execution_count": 2,
   "metadata": {},
   "outputs": [],
   "source": [
    "df = pd.read_csv(r\"C:\\Users\\Kanishk Goyal\\OneDrive - IIT Kanpur\\Desktop\\Prof. Hamim Zafar\\Data\\Final Data\\Moong\\Moong_Rajasthan.csv\")\n",
    "df = df.drop(columns=['latitude','longitude','DistrictName', 'year'])\n",
    "# df = df.sample(frac=1).reset_index(drop=True)\n",
    "#df = df.drop(columns=['DistrictName','latitude','longitude','year','year_mask'])"
   ]
  },
  {
   "cell_type": "code",
   "execution_count": 3,
   "metadata": {},
   "outputs": [],
   "source": [
    "df = df.rename(columns={'Yield(tonnes/hectare)':'Yield(Tonnes/Hectare)'},inplace=False)"
   ]
  },
  {
   "cell_type": "code",
   "execution_count": 4,
   "metadata": {},
   "outputs": [],
   "source": [
    "df = df.drop(columns=['stl2_7','stl2_8', 'stl2_9', 'stl2_10', 'stl3_7', 'stl3_8', 'stl3_9', 'stl3_10'])"
   ]
  },
  {
   "cell_type": "code",
   "execution_count": 5,
   "metadata": {},
   "outputs": [
    {
     "data": {
      "text/plain": [
       "Index(['stl1_7', 'stl1_8', 'stl1_9', 'stl1_10', 'stl4_7', 'stl4_8', 'stl4_9',\n",
       "       'stl4_10', 'swvl1_7', 'swvl1_8', 'swvl1_9', 'swvl1_10', 'swvl2_7',\n",
       "       'swvl2_8', 'swvl2_9', 'swvl2_10', 'swvl3_7', 'swvl3_8', 'swvl3_9',\n",
       "       'swvl3_10', 'swvl4_9', 'swvl4_10', 'swvl4_7', 'swvl4_8', 'ssr_9',\n",
       "       'ssr_10', 'ssr_7', 'ssr_8', 'u10_7', 'u10_8', 'u10_9', 'u10_10',\n",
       "       'v10_7', 'v10_8', 'v10_9', 'v10_10', 'tmax_7', 'tmax_8', 'tmax_9',\n",
       "       'tmax_10', 'tmin_7', 'tmin_8', 'tmin_9', 'tmin_10', 'rain_7', 'rain_8',\n",
       "       'rain_9', 'rain_10', 'countrain_7', 'countrain_8', 'countrain_9',\n",
       "       'countrain_10', 'rh_7', 'rh_8', 'rh_9', 'rh_10',\n",
       "       'Yield(Tonnes/Hectare)'],\n",
       "      dtype='object')"
      ]
     },
     "execution_count": 5,
     "metadata": {},
     "output_type": "execute_result"
    }
   ],
   "source": [
    "df.columns"
   ]
  },
  {
   "cell_type": "code",
   "execution_count": 6,
   "metadata": {},
   "outputs": [],
   "source": [
    "# df['stl1'] = (df['stl1_1'] + df['stl1_2'])/2\n",
    "# df['stl2'] = (df['stl2_1'] + df['stl2_2'])/2\n",
    "# df['stl3'] = (df['stl3_1'] + df['stl3_2'])/2\n",
    "# df['stl4'] = (df['stl4_1'] + df['stl4_2'])/2\n",
    "# df['swvl1'] = (df['swvl1_1'] + df['swvl1_2'])/2\n",
    "# df['swvl2'] = (df['swvl2_1'] + df['swvl2_2'])/2\n",
    "# df['swvl3'] = (df['swvl3_1'] + df['swvl3_2'])/2\n",
    "# df['swvl4'] = (df['swvl4_1'] + df['swvl4_2'])/2\n",
    "# df['ssr'] = (df['ssr_1'] + df['ssr_2'])/2\n",
    "# df['rain'] = (df['rain_1'] + df['rain_2'])/2\n",
    "# df['tmax'] = (df['tmax_1'] + df['tmax_2'])/2\n",
    "# df['tmin'] = (df['tmin_1'] + df['tmin_2'])/2\n",
    "# df['countrain'] = df['countrain_1'] + df['countrain_2']\n",
    "# df['u10'] = (df['u10_3']+df['u10_4'])/2\n",
    "# df['v10'] = (df['v10_3']+df['v10_4'])/2\n",
    "# df['rh'] = (df['rh_3']+df['rh_4'])/2"
   ]
  },
  {
   "cell_type": "code",
   "execution_count": 7,
   "metadata": {},
   "outputs": [],
   "source": [
    "# df = df.drop(columns=['stl1_1','stl1_2','stl2_1','stl2_2','stl3_1','stl3_2','stl4_1','stl4_2','swvl1_1','swvl1_2','swvl2_1','swvl2_2','swvl3_1','swvl3_2','swvl4_1','swvl4_2','ssr_1','ssr_2','rain_1','rain_2','tmax_1','tmax_2','tmin_1','tmin_2','countrain_1','countrain_2','u10_3','u10_4','v10_3','v10_4','rh_3','rh_4'],axis=1)"
   ]
  },
  {
   "cell_type": "code",
   "execution_count": 8,
   "metadata": {},
   "outputs": [
    {
     "data": {
      "text/plain": [
       "(858, 57)"
      ]
     },
     "execution_count": 8,
     "metadata": {},
     "output_type": "execute_result"
    }
   ],
   "source": [
    "df.shape"
   ]
  },
  {
   "cell_type": "code",
   "execution_count": 9,
   "metadata": {},
   "outputs": [
    {
     "data": {
      "text/plain": [
       "Index(['stl1_7', 'stl1_8', 'stl1_9', 'stl1_10', 'stl4_7', 'stl4_8', 'stl4_9',\n",
       "       'stl4_10', 'swvl1_7', 'swvl1_8', 'swvl1_9', 'swvl1_10', 'swvl2_7',\n",
       "       'swvl2_8', 'swvl2_9', 'swvl2_10', 'swvl3_7', 'swvl3_8', 'swvl3_9',\n",
       "       'swvl3_10', 'swvl4_9', 'swvl4_10', 'swvl4_7', 'swvl4_8', 'ssr_9',\n",
       "       'ssr_10', 'ssr_7', 'ssr_8', 'u10_7', 'u10_8', 'u10_9', 'u10_10',\n",
       "       'v10_7', 'v10_8', 'v10_9', 'v10_10', 'tmax_7', 'tmax_8', 'tmax_9',\n",
       "       'tmax_10', 'tmin_7', 'tmin_8', 'tmin_9', 'tmin_10', 'rain_7', 'rain_8',\n",
       "       'rain_9', 'rain_10', 'countrain_7', 'countrain_8', 'countrain_9',\n",
       "       'countrain_10', 'rh_7', 'rh_8', 'rh_9', 'rh_10',\n",
       "       'Yield(Tonnes/Hectare)'],\n",
       "      dtype='object')"
      ]
     },
     "execution_count": 9,
     "metadata": {},
     "output_type": "execute_result"
    }
   ],
   "source": [
    "df.columns"
   ]
  },
  {
   "cell_type": "code",
   "execution_count": 10,
   "metadata": {},
   "outputs": [],
   "source": [
    "df = df.dropna(subset=['Yield(Tonnes/Hectare)'])"
   ]
  },
  {
   "cell_type": "code",
   "execution_count": 11,
   "metadata": {},
   "outputs": [
    {
     "data": {
      "text/plain": [
       "(716, 57)"
      ]
     },
     "execution_count": 11,
     "metadata": {},
     "output_type": "execute_result"
    }
   ],
   "source": [
    "df.shape"
   ]
  },
  {
   "cell_type": "code",
   "execution_count": 12,
   "metadata": {},
   "outputs": [
    {
     "data": {
      "text/plain": [
       "0.20219990257318507"
      ]
     },
     "execution_count": 12,
     "metadata": {},
     "output_type": "execute_result"
    }
   ],
   "source": [
    "df['Yield(Tonnes/Hectare)'].skew()"
   ]
  },
  {
   "cell_type": "code",
   "execution_count": 13,
   "metadata": {},
   "outputs": [
    {
     "name": "stderr",
     "output_type": "stream",
     "text": [
      "C:\\Users\\Kanishk Goyal\\AppData\\Local\\Temp\\ipykernel_36164\\994257175.py:1: UserWarning: \n",
      "\n",
      "`distplot` is a deprecated function and will be removed in seaborn v0.14.0.\n",
      "\n",
      "Please adapt your code to use either `displot` (a figure-level function with\n",
      "similar flexibility) or `histplot` (an axes-level function for histograms).\n",
      "\n",
      "For a guide to updating your code to use the new functions, please see\n",
      "https://gist.github.com/mwaskom/de44147ed2974457ad6372750bbe5751\n",
      "\n",
      "  sns.distplot(df['Yield(Tonnes/Hectare)'],color='green')\n"
     ]
    },
    {
     "data": {
      "text/plain": [
       "<Axes: xlabel='Yield(Tonnes/Hectare)', ylabel='Density'>"
      ]
     },
     "execution_count": 13,
     "metadata": {},
     "output_type": "execute_result"
    },
    {
     "data": {
      "image/png": "[encoded data removed]",
      "text/plain": [
       "<Figure size 640x480 with 1 Axes>"
      ]
     },
     "metadata": {},
     "output_type": "display_data"
    }
   ],
   "source": [
    "sns.distplot(df['Yield(Tonnes/Hectare)'],color='green')"
   ]
  },
  {
   "cell_type": "code",
   "execution_count": 14,
   "metadata": {},
   "outputs": [
    {
     "data": {
      "text/plain": [
       "1      0.10\n",
       "2      0.10\n",
       "3      0.17\n",
       "4      0.30\n",
       "5      0.07\n",
       "       ... \n",
       "850    0.53\n",
       "851    0.58\n",
       "852    0.52\n",
       "853    0.44\n",
       "854    0.49\n",
       "Name: Yield(Tonnes/Hectare), Length: 716, dtype: float64"
      ]
     },
     "execution_count": 14,
     "metadata": {},
     "output_type": "execute_result"
    }
   ],
   "source": [
    "df['Yield(Tonnes/Hectare)']"
   ]
  },
  {
   "cell_type": "code",
   "execution_count": 15,
   "metadata": {},
   "outputs": [
    {
     "name": "stdout",
     "output_type": "stream",
     "text": [
      "Number of points in the final DataFrame after handling outliers: 714\n"
     ]
    }
   ],
   "source": [
    "Q1 = df['Yield(Tonnes/Hectare)'].quantile(0.25)\n",
    "Q3 = df['Yield(Tonnes/Hectare)'].quantile(0.75)\n",
    "IQR = Q3 - Q1\n",
    "\n",
    "lower_bound = Q1 - 1.5 * IQR\n",
    "upper_bound = Q3 + 1.5 * IQR\n",
    "\n",
    "df['Yield_no_outliers'] = np.where((df['Yield(Tonnes/Hectare)'] < lower_bound) | (df['Yield(Tonnes/Hectare)'] > upper_bound), np.nan, df['Yield(Tonnes/Hectare)'])\n",
    "\n",
    "num_points_after_handling_outliers = df['Yield_no_outliers'].count()\n",
    "print(\"Number of points in the final DataFrame after handling outliers:\", num_points_after_handling_outliers)"
   ]
  },
  {
   "cell_type": "code",
   "execution_count": 16,
   "metadata": {},
   "outputs": [],
   "source": [
    "df = df.dropna(subset=['Yield_no_outliers'])\n",
    "df = df.drop(columns=['Yield(Tonnes/Hectare)'])"
   ]
  },
  {
   "cell_type": "code",
   "execution_count": 17,
   "metadata": {},
   "outputs": [],
   "source": [
    "df.rename(columns={'Yield_no_outliers': 'Yield(Tonnes/Hectare)'}, inplace=True)"
   ]
  },
  {
   "cell_type": "code",
   "execution_count": 18,
   "metadata": {},
   "outputs": [
    {
     "data": {
      "text/plain": [
       "0.11092190609612522"
      ]
     },
     "execution_count": 18,
     "metadata": {},
     "output_type": "execute_result"
    }
   ],
   "source": [
    "df['Yield(Tonnes/Hectare)'].skew()"
   ]
  },
  {
   "cell_type": "code",
   "execution_count": 19,
   "metadata": {},
   "outputs": [
    {
     "name": "stderr",
     "output_type": "stream",
     "text": [
      "C:\\Users\\Kanishk Goyal\\AppData\\Local\\Temp\\ipykernel_36164\\1820324139.py:1: UserWarning: \n",
      "\n",
      "`distplot` is a deprecated function and will be removed in seaborn v0.14.0.\n",
      "\n",
      "Please adapt your code to use either `displot` (a figure-level function with\n",
      "similar flexibility) or `histplot` (an axes-level function for histograms).\n",
      "\n",
      "For a guide to updating your code to use the new functions, please see\n",
      "https://gist.github.com/mwaskom/de44147ed2974457ad6372750bbe5751\n",
      "\n",
      "  sns.distplot(df['Yield(Tonnes/Hectare)'])\n"
     ]
    },
    {
     "data": {
      "text/plain": [
       "<Axes: xlabel='Yield(Tonnes/Hectare)', ylabel='Density'>"
      ]
     },
     "execution_count": 19,
     "metadata": {},
     "output_type": "execute_result"
    },
    {
     "data": {
      "image/png": "[encoded data removed]",
      "text/plain": [
       "<Figure size 640x480 with 1 Axes>"
      ]
     },
     "metadata": {},
     "output_type": "display_data"
    }
   ],
   "source": [
    "sns.distplot(df['Yield(Tonnes/Hectare)'])"
   ]
  },
  {
   "cell_type": "code",
   "execution_count": 20,
   "metadata": {},
   "outputs": [
    {
     "data": {
      "text/html": [
       "<div>\n",
       "<style scoped>\n",
       "    .dataframe tbody tr th:only-of-type {\n",
       "        vertical-align: middle;\n",
       "    }\n",
       "\n",
       "    .dataframe tbody tr th {\n",
       "        vertical-align: top;\n",
       "    }\n",
       "\n",
       "    .dataframe thead th {\n",
       "        text-align: right;\n",
       "    }\n",
       "</style>\n",
       "<table border=\"1\" class=\"dataframe\">\n",
       "  <thead>\n",
       "    <tr style=\"text-align: right;\">\n",
       "      <th></th>\n",
       "      <th>stl1_7</th>\n",
       "      <th>stl1_8</th>\n",
       "      <th>stl1_9</th>\n",
       "      <th>stl1_10</th>\n",
       "      <th>stl4_7</th>\n",
       "      <th>stl4_8</th>\n",
       "      <th>stl4_9</th>\n",
       "      <th>stl4_10</th>\n",
       "      <th>swvl1_7</th>\n",
       "      <th>swvl1_8</th>\n",
       "      <th>...</th>\n",
       "      <th>rain_10</th>\n",
       "      <th>countrain_7</th>\n",
       "      <th>countrain_8</th>\n",
       "      <th>countrain_9</th>\n",
       "      <th>countrain_10</th>\n",
       "      <th>rh_7</th>\n",
       "      <th>rh_8</th>\n",
       "      <th>rh_9</th>\n",
       "      <th>rh_10</th>\n",
       "      <th>Yield(Tonnes/Hectare)</th>\n",
       "    </tr>\n",
       "  </thead>\n",
       "  <tbody>\n",
       "    <tr>\n",
       "      <th>1</th>\n",
       "      <td>28.715894</td>\n",
       "      <td>27.934075</td>\n",
       "      <td>27.886808</td>\n",
       "      <td>26.719487</td>\n",
       "      <td>30.691108</td>\n",
       "      <td>30.098458</td>\n",
       "      <td>29.533646</td>\n",
       "      <td>29.060003</td>\n",
       "      <td>0.448653</td>\n",
       "      <td>0.470749</td>\n",
       "      <td>...</td>\n",
       "      <td>1.209279</td>\n",
       "      <td>15</td>\n",
       "      <td>8</td>\n",
       "      <td>13</td>\n",
       "      <td>4</td>\n",
       "      <td>78.631396</td>\n",
       "      <td>83.732681</td>\n",
       "      <td>81.081568</td>\n",
       "      <td>68.779209</td>\n",
       "      <td>0.10</td>\n",
       "    </tr>\n",
       "    <tr>\n",
       "      <th>2</th>\n",
       "      <td>27.673692</td>\n",
       "      <td>27.272024</td>\n",
       "      <td>28.532375</td>\n",
       "      <td>27.118718</td>\n",
       "      <td>29.991636</td>\n",
       "      <td>29.210177</td>\n",
       "      <td>28.743452</td>\n",
       "      <td>28.657568</td>\n",
       "      <td>0.449446</td>\n",
       "      <td>0.424066</td>\n",
       "      <td>...</td>\n",
       "      <td>0.683331</td>\n",
       "      <td>11</td>\n",
       "      <td>3</td>\n",
       "      <td>6</td>\n",
       "      <td>3</td>\n",
       "      <td>81.846332</td>\n",
       "      <td>79.540942</td>\n",
       "      <td>72.348377</td>\n",
       "      <td>58.635117</td>\n",
       "      <td>0.10</td>\n",
       "    </tr>\n",
       "    <tr>\n",
       "      <th>3</th>\n",
       "      <td>27.444955</td>\n",
       "      <td>27.529946</td>\n",
       "      <td>27.860018</td>\n",
       "      <td>29.356139</td>\n",
       "      <td>30.730397</td>\n",
       "      <td>29.855453</td>\n",
       "      <td>29.132670</td>\n",
       "      <td>29.021526</td>\n",
       "      <td>0.455492</td>\n",
       "      <td>0.438404</td>\n",
       "      <td>...</td>\n",
       "      <td>0.003109</td>\n",
       "      <td>11</td>\n",
       "      <td>9</td>\n",
       "      <td>1</td>\n",
       "      <td>0</td>\n",
       "      <td>82.638135</td>\n",
       "      <td>80.026240</td>\n",
       "      <td>68.375302</td>\n",
       "      <td>40.497077</td>\n",
       "      <td>0.17</td>\n",
       "    </tr>\n",
       "    <tr>\n",
       "      <th>4</th>\n",
       "      <td>27.078149</td>\n",
       "      <td>26.974522</td>\n",
       "      <td>28.769636</td>\n",
       "      <td>28.729542</td>\n",
       "      <td>30.156772</td>\n",
       "      <td>29.307877</td>\n",
       "      <td>28.705293</td>\n",
       "      <td>28.819030</td>\n",
       "      <td>0.478109</td>\n",
       "      <td>0.462475</td>\n",
       "      <td>...</td>\n",
       "      <td>0.157901</td>\n",
       "      <td>16</td>\n",
       "      <td>8</td>\n",
       "      <td>1</td>\n",
       "      <td>1</td>\n",
       "      <td>85.535571</td>\n",
       "      <td>84.341102</td>\n",
       "      <td>67.093749</td>\n",
       "      <td>44.661556</td>\n",
       "      <td>0.30</td>\n",
       "    </tr>\n",
       "    <tr>\n",
       "      <th>5</th>\n",
       "      <td>28.802431</td>\n",
       "      <td>26.753014</td>\n",
       "      <td>27.562441</td>\n",
       "      <td>29.161955</td>\n",
       "      <td>31.343358</td>\n",
       "      <td>30.495508</td>\n",
       "      <td>29.473909</td>\n",
       "      <td>29.146234</td>\n",
       "      <td>0.396262</td>\n",
       "      <td>0.475038</td>\n",
       "      <td>...</td>\n",
       "      <td>0.000000</td>\n",
       "      <td>3</td>\n",
       "      <td>10</td>\n",
       "      <td>7</td>\n",
       "      <td>0</td>\n",
       "      <td>72.532962</td>\n",
       "      <td>83.932229</td>\n",
       "      <td>71.431337</td>\n",
       "      <td>35.129022</td>\n",
       "      <td>0.07</td>\n",
       "    </tr>\n",
       "    <tr>\n",
       "      <th>6</th>\n",
       "      <td>27.982885</td>\n",
       "      <td>26.926782</td>\n",
       "      <td>26.934356</td>\n",
       "      <td>26.592432</td>\n",
       "      <td>31.134913</td>\n",
       "      <td>30.125952</td>\n",
       "      <td>29.161421</td>\n",
       "      <td>28.544317</td>\n",
       "      <td>0.474659</td>\n",
       "      <td>0.475525</td>\n",
       "      <td>...</td>\n",
       "      <td>0.000000</td>\n",
       "      <td>15</td>\n",
       "      <td>17</td>\n",
       "      <td>12</td>\n",
       "      <td>0</td>\n",
       "      <td>84.850674</td>\n",
       "      <td>85.862229</td>\n",
       "      <td>81.413639</td>\n",
       "      <td>49.464476</td>\n",
       "      <td>0.62</td>\n",
       "    </tr>\n",
       "    <tr>\n",
       "      <th>7</th>\n",
       "      <td>28.939689</td>\n",
       "      <td>25.845493</td>\n",
       "      <td>29.026135</td>\n",
       "      <td>27.448567</td>\n",
       "      <td>30.815785</td>\n",
       "      <td>29.947821</td>\n",
       "      <td>28.991104</td>\n",
       "      <td>28.902742</td>\n",
       "      <td>0.416898</td>\n",
       "      <td>0.475040</td>\n",
       "      <td>...</td>\n",
       "      <td>0.639849</td>\n",
       "      <td>9</td>\n",
       "      <td>20</td>\n",
       "      <td>4</td>\n",
       "      <td>2</td>\n",
       "      <td>75.016113</td>\n",
       "      <td>88.935876</td>\n",
       "      <td>71.229912</td>\n",
       "      <td>50.005863</td>\n",
       "      <td>0.27</td>\n",
       "    </tr>\n",
       "    <tr>\n",
       "      <th>8</th>\n",
       "      <td>28.533731</td>\n",
       "      <td>27.154306</td>\n",
       "      <td>27.857930</td>\n",
       "      <td>26.709025</td>\n",
       "      <td>30.903722</td>\n",
       "      <td>30.157549</td>\n",
       "      <td>29.480239</td>\n",
       "      <td>28.853525</td>\n",
       "      <td>0.422054</td>\n",
       "      <td>0.458141</td>\n",
       "      <td>...</td>\n",
       "      <td>0.000000</td>\n",
       "      <td>10</td>\n",
       "      <td>6</td>\n",
       "      <td>15</td>\n",
       "      <td>0</td>\n",
       "      <td>76.715197</td>\n",
       "      <td>81.977939</td>\n",
       "      <td>80.676423</td>\n",
       "      <td>51.359493</td>\n",
       "      <td>0.15</td>\n",
       "    </tr>\n",
       "    <tr>\n",
       "      <th>9</th>\n",
       "      <td>27.687214</td>\n",
       "      <td>25.723386</td>\n",
       "      <td>27.786078</td>\n",
       "      <td>28.875734</td>\n",
       "      <td>30.612286</td>\n",
       "      <td>29.541955</td>\n",
       "      <td>28.570000</td>\n",
       "      <td>28.464024</td>\n",
       "      <td>0.471446</td>\n",
       "      <td>0.480796</td>\n",
       "      <td>...</td>\n",
       "      <td>0.450420</td>\n",
       "      <td>22</td>\n",
       "      <td>22</td>\n",
       "      <td>9</td>\n",
       "      <td>1</td>\n",
       "      <td>84.864586</td>\n",
       "      <td>89.194897</td>\n",
       "      <td>80.581121</td>\n",
       "      <td>45.013604</td>\n",
       "      <td>0.36</td>\n",
       "    </tr>\n",
       "    <tr>\n",
       "      <th>10</th>\n",
       "      <td>28.038419</td>\n",
       "      <td>27.278570</td>\n",
       "      <td>27.624600</td>\n",
       "      <td>26.374670</td>\n",
       "      <td>31.131490</td>\n",
       "      <td>30.216126</td>\n",
       "      <td>29.383747</td>\n",
       "      <td>28.767981</td>\n",
       "      <td>0.466081</td>\n",
       "      <td>0.470091</td>\n",
       "      <td>...</td>\n",
       "      <td>0.000000</td>\n",
       "      <td>12</td>\n",
       "      <td>19</td>\n",
       "      <td>14</td>\n",
       "      <td>0</td>\n",
       "      <td>84.117569</td>\n",
       "      <td>85.490263</td>\n",
       "      <td>81.949579</td>\n",
       "      <td>46.223540</td>\n",
       "      <td>0.41</td>\n",
       "    </tr>\n",
       "  </tbody>\n",
       "</table>\n",
       "<p>10 rows × 57 columns</p>\n",
       "</div>"
      ],
      "text/plain": [
       "       stl1_7     stl1_8     stl1_9    stl1_10     stl4_7     stl4_8  \\\n",
       "1   28.715894  27.934075  27.886808  26.719487  30.691108  30.098458   \n",
       "2   27.673692  27.272024  28.532375  27.118718  29.991636  29.210177   \n",
       "3   27.444955  27.529946  27.860018  29.356139  30.730397  29.855453   \n",
       "4   27.078149  26.974522  28.769636  28.729542  30.156772  29.307877   \n",
       "5   28.802431  26.753014  27.562441  29.161955  31.343358  30.495508   \n",
       "6   27.982885  26.926782  26.934356  26.592432  31.134913  30.125952   \n",
       "7   28.939689  25.845493  29.026135  27.448567  30.815785  29.947821   \n",
       "8   28.533731  27.154306  27.857930  26.709025  30.903722  30.157549   \n",
       "9   27.687214  25.723386  27.786078  28.875734  30.612286  29.541955   \n",
       "10  28.038419  27.278570  27.624600  26.374670  31.131490  30.216126   \n",
       "\n",
       "       stl4_9    stl4_10   swvl1_7   swvl1_8  ...   rain_10  countrain_7  \\\n",
       "1   29.533646  29.060003  0.448653  0.470749  ...  1.209279           15   \n",
       "2   28.743452  28.657568  0.449446  0.424066  ...  0.683331           11   \n",
       "3   29.132670  29.021526  0.455492  0.438404  ...  0.003109           11   \n",
       "4   28.705293  28.819030  0.478109  0.462475  ...  0.157901           16   \n",
       "5   29.473909  29.146234  0.396262  0.475038  ...  0.000000            3   \n",
       "6   29.161421  28.544317  0.474659  0.475525  ...  0.000000           15   \n",
       "7   28.991104  28.902742  0.416898  0.475040  ...  0.639849            9   \n",
       "8   29.480239  28.853525  0.422054  0.458141  ...  0.000000           10   \n",
       "9   28.570000  28.464024  0.471446  0.480796  ...  0.450420           22   \n",
       "10  29.383747  28.767981  0.466081  0.470091  ...  0.000000           12   \n",
       "\n",
       "    countrain_8  countrain_9  countrain_10       rh_7       rh_8       rh_9  \\\n",
       "1             8           13             4  78.631396  83.732681  81.081568   \n",
       "2             3            6             3  81.846332  79.540942  72.348377   \n",
       "3             9            1             0  82.638135  80.026240  68.375302   \n",
       "4             8            1             1  85.535571  84.341102  67.093749   \n",
       "5            10            7             0  72.532962  83.932229  71.431337   \n",
       "6            17           12             0  84.850674  85.862229  81.413639   \n",
       "7            20            4             2  75.016113  88.935876  71.229912   \n",
       "8             6           15             0  76.715197  81.977939  80.676423   \n",
       "9            22            9             1  84.864586  89.194897  80.581121   \n",
       "10           19           14             0  84.117569  85.490263  81.949579   \n",
       "\n",
       "        rh_10  Yield(Tonnes/Hectare)  \n",
       "1   68.779209                   0.10  \n",
       "2   58.635117                   0.10  \n",
       "3   40.497077                   0.17  \n",
       "4   44.661556                   0.30  \n",
       "5   35.129022                   0.07  \n",
       "6   49.464476                   0.62  \n",
       "7   50.005863                   0.27  \n",
       "8   51.359493                   0.15  \n",
       "9   45.013604                   0.36  \n",
       "10  46.223540                   0.41  \n",
       "\n",
       "[10 rows x 57 columns]"
      ]
     },
     "execution_count": 20,
     "metadata": {},
     "output_type": "execute_result"
    }
   ],
   "source": [
    "df.head(10)"
   ]
  },
  {
   "cell_type": "code",
   "execution_count": 21,
   "metadata": {},
   "outputs": [
    {
     "data": {
      "text/plain": [
       "(714, 57)"
      ]
     },
     "execution_count": 21,
     "metadata": {},
     "output_type": "execute_result"
    }
   ],
   "source": [
    "df.shape"
   ]
  },
  {
   "cell_type": "code",
   "execution_count": 22,
   "metadata": {},
   "outputs": [],
   "source": [
    "# cat_cols = ['DistrictName', 'year']\n",
    "# # Label encode categorical columns\n",
    "# encoder = LabelEncoder()\n",
    "# df[cat_cols] = df[cat_cols].apply(encoder.fit_transform)"
   ]
  },
  {
   "cell_type": "code",
   "execution_count": 23,
   "metadata": {},
   "outputs": [
    {
     "data": {
      "text/html": [
       "<div>\n",
       "<style scoped>\n",
       "    .dataframe tbody tr th:only-of-type {\n",
       "        vertical-align: middle;\n",
       "    }\n",
       "\n",
       "    .dataframe tbody tr th {\n",
       "        vertical-align: top;\n",
       "    }\n",
       "\n",
       "    .dataframe thead th {\n",
       "        text-align: right;\n",
       "    }\n",
       "</style>\n",
       "<table border=\"1\" class=\"dataframe\">\n",
       "  <thead>\n",
       "    <tr style=\"text-align: right;\">\n",
       "      <th></th>\n",
       "      <th>stl1_7</th>\n",
       "      <th>stl1_8</th>\n",
       "      <th>stl1_9</th>\n",
       "      <th>stl1_10</th>\n",
       "      <th>stl4_7</th>\n",
       "      <th>stl4_8</th>\n",
       "      <th>stl4_9</th>\n",
       "      <th>stl4_10</th>\n",
       "      <th>swvl1_7</th>\n",
       "      <th>swvl1_8</th>\n",
       "      <th>...</th>\n",
       "      <th>rain_10</th>\n",
       "      <th>countrain_7</th>\n",
       "      <th>countrain_8</th>\n",
       "      <th>countrain_9</th>\n",
       "      <th>countrain_10</th>\n",
       "      <th>rh_7</th>\n",
       "      <th>rh_8</th>\n",
       "      <th>rh_9</th>\n",
       "      <th>rh_10</th>\n",
       "      <th>Yield(Tonnes/Hectare)</th>\n",
       "    </tr>\n",
       "  </thead>\n",
       "  <tbody>\n",
       "    <tr>\n",
       "      <th>1</th>\n",
       "      <td>28.715894</td>\n",
       "      <td>27.934075</td>\n",
       "      <td>27.886808</td>\n",
       "      <td>26.719487</td>\n",
       "      <td>30.691108</td>\n",
       "      <td>30.098458</td>\n",
       "      <td>29.533646</td>\n",
       "      <td>29.060003</td>\n",
       "      <td>0.448653</td>\n",
       "      <td>0.470749</td>\n",
       "      <td>...</td>\n",
       "      <td>1.209279</td>\n",
       "      <td>15</td>\n",
       "      <td>8</td>\n",
       "      <td>13</td>\n",
       "      <td>4</td>\n",
       "      <td>78.631396</td>\n",
       "      <td>83.732681</td>\n",
       "      <td>81.081568</td>\n",
       "      <td>68.779209</td>\n",
       "      <td>0.10</td>\n",
       "    </tr>\n",
       "    <tr>\n",
       "      <th>2</th>\n",
       "      <td>27.673692</td>\n",
       "      <td>27.272024</td>\n",
       "      <td>28.532375</td>\n",
       "      <td>27.118718</td>\n",
       "      <td>29.991636</td>\n",
       "      <td>29.210177</td>\n",
       "      <td>28.743452</td>\n",
       "      <td>28.657568</td>\n",
       "      <td>0.449446</td>\n",
       "      <td>0.424066</td>\n",
       "      <td>...</td>\n",
       "      <td>0.683331</td>\n",
       "      <td>11</td>\n",
       "      <td>3</td>\n",
       "      <td>6</td>\n",
       "      <td>3</td>\n",
       "      <td>81.846332</td>\n",
       "      <td>79.540942</td>\n",
       "      <td>72.348377</td>\n",
       "      <td>58.635117</td>\n",
       "      <td>0.10</td>\n",
       "    </tr>\n",
       "    <tr>\n",
       "      <th>3</th>\n",
       "      <td>27.444955</td>\n",
       "      <td>27.529946</td>\n",
       "      <td>27.860018</td>\n",
       "      <td>29.356139</td>\n",
       "      <td>30.730397</td>\n",
       "      <td>29.855453</td>\n",
       "      <td>29.132670</td>\n",
       "      <td>29.021526</td>\n",
       "      <td>0.455492</td>\n",
       "      <td>0.438404</td>\n",
       "      <td>...</td>\n",
       "      <td>0.003109</td>\n",
       "      <td>11</td>\n",
       "      <td>9</td>\n",
       "      <td>1</td>\n",
       "      <td>0</td>\n",
       "      <td>82.638135</td>\n",
       "      <td>80.026240</td>\n",
       "      <td>68.375302</td>\n",
       "      <td>40.497077</td>\n",
       "      <td>0.17</td>\n",
       "    </tr>\n",
       "    <tr>\n",
       "      <th>4</th>\n",
       "      <td>27.078149</td>\n",
       "      <td>26.974522</td>\n",
       "      <td>28.769636</td>\n",
       "      <td>28.729542</td>\n",
       "      <td>30.156772</td>\n",
       "      <td>29.307877</td>\n",
       "      <td>28.705293</td>\n",
       "      <td>28.819030</td>\n",
       "      <td>0.478109</td>\n",
       "      <td>0.462475</td>\n",
       "      <td>...</td>\n",
       "      <td>0.157901</td>\n",
       "      <td>16</td>\n",
       "      <td>8</td>\n",
       "      <td>1</td>\n",
       "      <td>1</td>\n",
       "      <td>85.535571</td>\n",
       "      <td>84.341102</td>\n",
       "      <td>67.093749</td>\n",
       "      <td>44.661556</td>\n",
       "      <td>0.30</td>\n",
       "    </tr>\n",
       "    <tr>\n",
       "      <th>5</th>\n",
       "      <td>28.802431</td>\n",
       "      <td>26.753014</td>\n",
       "      <td>27.562441</td>\n",
       "      <td>29.161955</td>\n",
       "      <td>31.343358</td>\n",
       "      <td>30.495508</td>\n",
       "      <td>29.473909</td>\n",
       "      <td>29.146234</td>\n",
       "      <td>0.396262</td>\n",
       "      <td>0.475038</td>\n",
       "      <td>...</td>\n",
       "      <td>0.000000</td>\n",
       "      <td>3</td>\n",
       "      <td>10</td>\n",
       "      <td>7</td>\n",
       "      <td>0</td>\n",
       "      <td>72.532962</td>\n",
       "      <td>83.932229</td>\n",
       "      <td>71.431337</td>\n",
       "      <td>35.129022</td>\n",
       "      <td>0.07</td>\n",
       "    </tr>\n",
       "  </tbody>\n",
       "</table>\n",
       "<p>5 rows × 57 columns</p>\n",
       "</div>"
      ],
      "text/plain": [
       "      stl1_7     stl1_8     stl1_9    stl1_10     stl4_7     stl4_8  \\\n",
       "1  28.715894  27.934075  27.886808  26.719487  30.691108  30.098458   \n",
       "2  27.673692  27.272024  28.532375  27.118718  29.991636  29.210177   \n",
       "3  27.444955  27.529946  27.860018  29.356139  30.730397  29.855453   \n",
       "4  27.078149  26.974522  28.769636  28.729542  30.156772  29.307877   \n",
       "5  28.802431  26.753014  27.562441  29.161955  31.343358  30.495508   \n",
       "\n",
       "      stl4_9    stl4_10   swvl1_7   swvl1_8  ...   rain_10  countrain_7  \\\n",
       "1  29.533646  29.060003  0.448653  0.470749  ...  1.209279           15   \n",
       "2  28.743452  28.657568  0.449446  0.424066  ...  0.683331           11   \n",
       "3  29.132670  29.021526  0.455492  0.438404  ...  0.003109           11   \n",
       "4  28.705293  28.819030  0.478109  0.462475  ...  0.157901           16   \n",
       "5  29.473909  29.146234  0.396262  0.475038  ...  0.000000            3   \n",
       "\n",
       "   countrain_8  countrain_9  countrain_10       rh_7       rh_8       rh_9  \\\n",
       "1            8           13             4  78.631396  83.732681  81.081568   \n",
       "2            3            6             3  81.846332  79.540942  72.348377   \n",
       "3            9            1             0  82.638135  80.026240  68.375302   \n",
       "4            8            1             1  85.535571  84.341102  67.093749   \n",
       "5           10            7             0  72.532962  83.932229  71.431337   \n",
       "\n",
       "       rh_10  Yield(Tonnes/Hectare)  \n",
       "1  68.779209                   0.10  \n",
       "2  58.635117                   0.10  \n",
       "3  40.497077                   0.17  \n",
       "4  44.661556                   0.30  \n",
       "5  35.129022                   0.07  \n",
       "\n",
       "[5 rows x 57 columns]"
      ]
     },
     "execution_count": 23,
     "metadata": {},
     "output_type": "execute_result"
    }
   ],
   "source": [
    "df.head()"
   ]
  },
  {
   "cell_type": "code",
   "execution_count": 24,
   "metadata": {},
   "outputs": [
    {
     "data": {
      "text/plain": [
       "(714, 57)"
      ]
     },
     "execution_count": 24,
     "metadata": {},
     "output_type": "execute_result"
    }
   ],
   "source": [
    "df.shape"
   ]
  },
  {
   "cell_type": "code",
   "execution_count": 25,
   "metadata": {},
   "outputs": [
    {
     "data": {
      "text/plain": [
       "Index(['stl1_7', 'stl1_8', 'stl1_9', 'stl1_10', 'stl4_7', 'stl4_8', 'stl4_9',\n",
       "       'stl4_10', 'swvl1_7', 'swvl1_8', 'swvl1_9', 'swvl1_10', 'swvl2_7',\n",
       "       'swvl2_8', 'swvl2_9', 'swvl2_10', 'swvl3_7', 'swvl3_8', 'swvl3_9',\n",
       "       'swvl3_10', 'swvl4_9', 'swvl4_10', 'swvl4_7', 'swvl4_8', 'ssr_9',\n",
       "       'ssr_10', 'ssr_7', 'ssr_8', 'u10_7', 'u10_8', 'u10_9', 'u10_10',\n",
       "       'v10_7', 'v10_8', 'v10_9', 'v10_10', 'tmax_7', 'tmax_8', 'tmax_9',\n",
       "       'tmax_10', 'tmin_7', 'tmin_8', 'tmin_9', 'tmin_10', 'rain_7', 'rain_8',\n",
       "       'rain_9', 'rain_10', 'countrain_7', 'countrain_8', 'countrain_9',\n",
       "       'countrain_10', 'rh_7', 'rh_8', 'rh_9', 'rh_10',\n",
       "       'Yield(Tonnes/Hectare)'],\n",
       "      dtype='object')"
      ]
     },
     "execution_count": 25,
     "metadata": {},
     "output_type": "execute_result"
    }
   ],
   "source": [
    "df.columns"
   ]
  },
  {
   "cell_type": "code",
   "execution_count": 26,
   "metadata": {},
   "outputs": [],
   "source": [
    "#df = df[['countrain_11', 'countrain_12', 'countrain_1','countrain_2', 'countrain_3', 'countrain_4', 'rain_11', 'rain_12','rain_1', 'rain_2', 'rain_3', 'rain_4','tmax_11', 'tmax_12', 'tmax_1','tmax_2', 'tmax_3', 'tmax_4', 'tmin_11', 'tmin_12', 'tmin_1', 'tmin_2','tmin_3', 'tmin_4','Yield(Tonnes/Hectare)']]"
   ]
  },
  {
   "cell_type": "code",
   "execution_count": 27,
   "metadata": {},
   "outputs": [],
   "source": [
    "#df = df.drop(columns=['countrain_11', 'countrain_12', 'countrain_1','countrain_2', 'countrain_3', 'countrain_4', 'rain_11', 'rain_12','rain_1', 'rain_2', 'rain_3', 'rain_4','tmax_11', 'tmax_12', 'tmax_1','tmax_2', 'tmax_3', 'tmax_4', 'tmin_11', 'tmin_12', 'tmin_1', 'tmin_2','tmin_3', 'tmin_4'])"
   ]
  },
  {
   "cell_type": "code",
   "execution_count": 28,
   "metadata": {},
   "outputs": [
    {
     "data": {
      "text/plain": [
       "(714, 57)"
      ]
     },
     "execution_count": 28,
     "metadata": {},
     "output_type": "execute_result"
    }
   ],
   "source": [
    "df.shape"
   ]
  },
  {
   "cell_type": "code",
   "execution_count": 29,
   "metadata": {},
   "outputs": [],
   "source": [
    "X = df.drop('Yield(Tonnes/Hectare)', axis=1)  # Features\n",
    "y = df['Yield(Tonnes/Hectare)']  # Target variable\n",
    "\n",
    "# Split the dataset into training and testing sets\n",
    "#X_train, X_test, y_train, y_test = train_test_split(X, y, test_size=0.2, random_state=42)"
   ]
  },
  {
   "cell_type": "code",
   "execution_count": 30,
   "metadata": {},
   "outputs": [],
   "source": [
    "# X = X.drop(columns=['stl2','stl3'],axis=1)"
   ]
  },
  {
   "cell_type": "code",
   "execution_count": 31,
   "metadata": {},
   "outputs": [
    {
     "name": "stdout",
     "output_type": "stream",
     "text": [
      "Linear Regression - R^2 Score (Train) : 0.58, R^2 Score (Test): 0.50\n",
      "[0.3446619930019764, 0.41782091322465176, 0.5043386823531755, 0.6683698223556782, 0.4537336607541883, 0.4685401249900082, 0.530029932353327, 0.2750850208424678, 0.5736907814675742, 0.7151829204279065]\n",
      "Ridge Regression - R^2 Score (Train) : 0.56, R^2 Score (Test): 0.48\n",
      "[0.5818147727043306, 0.46597438944795033, 0.3357287452214375, 0.5175421392649473, 0.5347983675471519, 0.5574124387752183, 0.5082263295259313, 0.45306812921361206, 0.4473348737895462, 0.4460393098341572]\n"
     ]
    },
    {
     "name": "stderr",
     "output_type": "stream",
     "text": [
      "c:\\Users\\Kanishk Goyal\\AppData\\Local\\Programs\\Python\\Python311\\Lib\\site-packages\\sklearn\\linear_model\\_ridge.py:200: LinAlgWarning: Ill-conditioned matrix (rcond=1.09562e-16): result may not be accurate.\n",
      "  return linalg.solve(A, Xy, assume_a=\"pos\", overwrite_a=True).T\n",
      "c:\\Users\\Kanishk Goyal\\AppData\\Local\\Programs\\Python\\Python311\\Lib\\site-packages\\sklearn\\linear_model\\_ridge.py:200: LinAlgWarning: Ill-conditioned matrix (rcond=1.1051e-16): result may not be accurate.\n",
      "  return linalg.solve(A, Xy, assume_a=\"pos\", overwrite_a=True).T\n",
      "c:\\Users\\Kanishk Goyal\\AppData\\Local\\Programs\\Python\\Python311\\Lib\\site-packages\\sklearn\\linear_model\\_ridge.py:200: LinAlgWarning: Ill-conditioned matrix (rcond=1.10262e-16): result may not be accurate.\n",
      "  return linalg.solve(A, Xy, assume_a=\"pos\", overwrite_a=True).T\n"
     ]
    },
    {
     "name": "stdout",
     "output_type": "stream",
     "text": [
      "XGB Regressor - R^2 Score (Train) : 1.00, R^2 Score (Test): 0.54\n",
      "[0.5224302616691983, 0.5949276996704667, 0.6377752845229565, 0.5718421052322391, 0.46774168887356604, 0.6031009978882091, 0.42131603954162566, 0.6527560302371971, 0.5234148982662652, 0.4332760243800656]\n",
      "Lasso Regression - R^2 Score (Train) : 0.19, R^2 Score (Test): 0.15\n",
      "[0.2269155574340337, 0.287921971327471, 0.07279602395828921, 0.1058693859867913, 0.20681996724453322, 0.2067935782418744, 0.19236611643352375, 0.06351041089707254, -0.001142516541072558, 0.09371026422908746]\n",
      "Decision Tree - R^2 Score (Train) : 1.00, R^2 Score (Test): 0.11\n",
      "[0.4237452533298044, -0.2112017247536886, 0.3188604665451491, 0.020942548841801245, 0.30974381432012255, -0.6022844128819957, 0.10978693969540831, 0.38561742013836264, 0.25766360751350903, 0.08494779644879047]\n",
      "Gradient Boosting - R^2 Score (Train) : 0.90, R^2 Score (Test): 0.55\n",
      "[0.6024668855492764, 0.3612719081297233, 0.5496466253023653, 0.6413197608298933, 0.6742410027550669, 0.6325596970814509, 0.4566473419130058, 0.6374443686418025, 0.46520496250059284, 0.4663014566556579]\n",
      "Random Forest - R^2 Score (Train) : 0.94, R^2 Score (Test): 0.59\n",
      "[0.6293749343770271, 0.47492007989745577, 0.4591943668494478, 0.57677765453988, 0.3123297561007461, 0.7505934093804112, 0.6969182973547118, 0.7539160507826724, 0.646529154544214, 0.6239639600780532]\n",
      "Support Vector Machine - R^2 Score (Train) : 0.21, R^2 Score (Test): 0.18\n",
      "[0.17311063531011728, -0.020522004089066348, 0.0674579650251178, 0.2575921558843538, 0.22713032267565325, 0.18593530954861603, 0.21447442565535635, 0.20886989879347528, 0.275933128395041, 0.19396694097196698]\n"
     ]
    }
   ],
   "source": [
    "# Import necessary libraries\n",
    "import numpy as np\n",
    "import pandas as pd\n",
    "from sklearn.model_selection import train_test_split\n",
    "from sklearn.linear_model import LinearRegression, Ridge, Lasso\n",
    "from sklearn.tree import DecisionTreeRegressor\n",
    "from sklearn.ensemble import RandomForestRegressor, GradientBoostingRegressor\n",
    "from sklearn.svm import SVR\n",
    "import xgboost as xgb\n",
    "from sklearn.metrics import mean_squared_error, r2_score\n",
    "from sklearn.model_selection import KFold\n",
    "\n",
    "\n",
    "\n",
    "\n",
    "# Models\n",
    "models = {\n",
    "    \"Linear Regression\": LinearRegression(),\n",
    "    \"Ridge Regression\": Ridge(),\n",
    "    \"XGB Regressor\": xgb.XGBRegressor(objective='reg:squarederror', random_state=42),\n",
    "    \"Lasso Regression\": Lasso(),\n",
    "    \"Decision Tree\": DecisionTreeRegressor(),\n",
    "    \"Gradient Boosting\": GradientBoostingRegressor(),\n",
    "    \"Random Forest\": RandomForestRegressor(),\n",
    "    \"Support Vector Machine\": SVR()\n",
    "}\n",
    "\n",
    "# Train and evaluate each model\n",
    "for name, model in models.items():\n",
    "\n",
    "    mse_scores_test = []\n",
    "    mse_scores_train = []\n",
    "    r2_scores_test = []\n",
    "    r2_scores_train = []\n",
    "    # Create KFold object\n",
    "    k = 10\n",
    "    kfold = KFold(n_splits=k, shuffle=True)\n",
    "\n",
    "    for train_index, test_index in kfold.split(X):\n",
    "        X_train, X_test = X.iloc[train_index], X.iloc[test_index]\n",
    "        y_train, y_test = y.iloc[train_index], y.iloc[test_index]\n",
    "        model.fit(X_train, y_train)\n",
    "        y_pred_test = model.predict(X_test)\n",
    "        y_pred_train = model.predict(X_train)\n",
    "        mse_test = mean_squared_error(y_test, y_pred_test)\n",
    "        mse_train = mean_squared_error(y_train, y_pred_train)\n",
    "        r2_test = r2_score(y_test, y_pred_test)\n",
    "        r2_train = r2_score(y_train, y_pred_train)\n",
    "        mse_scores_test.append(mse_test)\n",
    "        mse_scores_train.append(mse_train)\n",
    "        r2_scores_test.append(r2_test)\n",
    "        r2_scores_train.append(r2_train)\n",
    "\n",
    "    average_mse_test = np.mean(mse_scores_test)\n",
    "    average_mse_train = np.mean(mse_scores_train)\n",
    "    average_r2_test = np.mean(r2_scores_test)\n",
    "    average_r2_train = np.mean(r2_scores_train)  \n",
    "\n",
    "    print(f'{name} - R^2 Score (Train) : {average_r2_train:.2f}, R^2 Score (Test): {average_r2_test:.2f}')\n",
    "    print(r2_scores_test)\n"
   ]
  },
  {
   "cell_type": "code",
   "execution_count": 32,
   "metadata": {},
   "outputs": [],
   "source": [
    "X_train, X_test, y_train, y_test = train_test_split(X, y, test_size=0.2, random_state=42)"
   ]
  },
  {
   "cell_type": "code",
   "execution_count": 33,
   "metadata": {},
   "outputs": [],
   "source": [
    "# import pandas as pd\n",
    "\n",
    "# # Assuming X_train is your DataFrame\n",
    "# # X_train = pd.DataFrame(...)\n",
    "\n",
    "# corr_matrix = X_train.corr()\n",
    "\n",
    "# # Get the column names of the DataFrame\n",
    "# columns = corr_matrix.columns\n",
    "\n",
    "# # Create an empty list to keep track of columns to drop\n",
    "# columns_to_drop = []\n",
    "# # Create a dictionary to store highly correlated features\n",
    "# highly_correlated_features = {}\n",
    "\n",
    "# # Loop over the columns\n",
    "# for i in range(len(columns)):\n",
    "#     for j in range(0, len(columns)):  # Loop only over the upper triangle to avoid duplicate comparisons\n",
    "#         # Access the cell of the DataFrame\n",
    "#         if abs(corr_matrix.iloc[i, j]) > 0.90:\n",
    "#             # Sort correlated features based on correlation coefficient\n",
    "#             sorted_features = sorted([(corr_matrix.iloc[i, j], columns[j]), (corr_matrix.iloc[i, i], columns[i])],\n",
    "#                                      key=lambda x: abs(x[0]), reverse=True)\n",
    "#             # Add the column to drop\n",
    "#             columns_to_drop.append(sorted_features[1][1])  # Add the one with lower correlation\n",
    "#             # Update the dictionary with highly correlated features\n",
    "#             if sorted_features[0][1] in highly_correlated_features:\n",
    "#                 highly_correlated_features[sorted_features[0][1]].append(sorted_features[1][1])\n",
    "#             else:\n",
    "#                 highly_correlated_features[sorted_features[0][1]] = [sorted_features[1][1]]\n",
    "\n",
    "# print(len(columns_to_drop))\n"
   ]
  },
  {
   "cell_type": "code",
   "execution_count": 34,
   "metadata": {},
   "outputs": [],
   "source": [
    "# import seaborn as sns\n",
    "\n",
    "# corr_matrix = X_train.corr()\n",
    "\n",
    "# # Get the column names of the DataFrame\n",
    "# columns = corr_matrix.columns\n",
    "\n",
    "# # Define a function to sort correlations in descending order (absolute value)\n",
    "# def sort_correlations(series):\n",
    "#   # Take the absolute value of the series\n",
    "#   abs_series = series.abs()\n",
    "#   # Sort the absolute values in descending order\n",
    "#   return abs_series.sort_values(ascending=False)\n",
    "\n",
    "# # Sort each column of the correlation matrix\n",
    "# sorted_corr_matrix = corr_matrix.apply(sort_correlations)\n",
    "\n",
    "# # Create an empty list to keep track of columns to drop\n",
    "# columns_to_drop = []\n",
    "# # Create a dictionary to store highly correlated features\n",
    "# highly_correlated_features = {}\n",
    "\n",
    "# # Loop over the sorted correlation matrix\n",
    "# for i in range(len(sorted_corr_matrix.columns)):\n",
    "#   # Skip the diagonal (correlation with self)\n",
    "#   if i == sorted_corr_matrix.columns[i]:\n",
    "#     continue\n",
    "#   # Get the current column and sorted correlations\n",
    "#   current_column = sorted_corr_matrix.columns[i]\n",
    "#   sorted_correlations = sorted_corr_matrix.loc[current_column]\n",
    "  \n",
    "#   # Identify highly correlated features (> 0.90) excluding the current column\n",
    "#   highly_correlated_features[current_column] = list(sorted_correlations[sorted_correlations > 0.90].index.difference([current_column]))\n",
    "\n",
    "#   # Update columns to drop based on correlations with the current column\n",
    "#   columns_to_drop.extend(highly_correlated_features[current_column])\n",
    "\n",
    "# # Remove duplicates from columns to drop\n",
    "# columns_to_drop = list(set(columns_to_drop))\n",
    "\n",
    "# print(len(columns_to_drop))"
   ]
  },
  {
   "cell_type": "code",
   "execution_count": 35,
   "metadata": {},
   "outputs": [
    {
     "name": "stdout",
     "output_type": "stream",
     "text": [
      "52\n"
     ]
    }
   ],
   "source": [
    "import seaborn as sns\n",
    "corr_matrix = X_train.corr()\n",
    "\n",
    "# Get the column names of the DataFrame\n",
    "columns = corr_matrix.columns\n",
    "\n",
    "# Create an empty list to keep track of columns to drop\n",
    "columns_to_drop = []\n",
    "# Create a dictionary to store highly correlated features\n",
    "highly_correlated_features = {}\n",
    "\n",
    "# Loop over the columns\n",
    "for i in range(len(columns)):\n",
    "    for j in range(0, len(columns)):\n",
    "        # Access the cell of the DataFrame\n",
    "        if i != j and corr_matrix.iloc[i, j] > 0.90:\n",
    "            # Add the column to drop\n",
    "            columns_to_drop.append(columns[j])\n",
    "            # Update the dictionary with highly correlated features\n",
    "            if columns[i] in highly_correlated_features:\n",
    "                highly_correlated_features[columns[i]].append((columns[j], corr_matrix.iloc[i, j].round(4)))\n",
    "            else:\n",
    "                highly_correlated_features[columns[i]] = [(columns[j], corr_matrix.iloc[i, j].round(4))]\n",
    "\n",
    "\n",
    "print(len(columns_to_drop))"
   ]
  },
  {
   "cell_type": "code",
   "execution_count": 36,
   "metadata": {},
   "outputs": [
    {
     "name": "stdout",
     "output_type": "stream",
     "text": [
      "['stl4_10', 'stl4_9', 'stl4_8', 'stl4_10', 'stl1_9', 'stl4_9', 'swvl2_7', 'swvl2_8', 'swvl2_9', 'swvl2_10', 'swvl1_7', 'swvl1_8', 'swvl3_8', 'swvl3_9', 'swvl3_10', 'swvl1_9', 'swvl3_9', 'swvl3_10', 'swvl1_10', 'swvl3_10', 'swvl2_8', 'swvl3_9', 'swvl3_10', 'swvl4_9', 'swvl4_10', 'swvl2_8', 'swvl2_9', 'swvl3_8', 'swvl3_10', 'swvl2_8', 'swvl2_9', 'swvl2_10', 'swvl3_8', 'swvl3_9', 'swvl4_10', 'swvl3_8', 'swvl4_10', 'swvl4_7', 'swvl4_8', 'swvl3_8', 'swvl3_10', 'swvl4_9', 'swvl4_7', 'swvl4_8', 'swvl4_9', 'swvl4_10', 'swvl4_8', 'swvl4_9', 'swvl4_10', 'swvl4_7', 'tmin_7', 'tmax_7']\n"
     ]
    }
   ],
   "source": [
    "print(columns_to_drop)"
   ]
  },
  {
   "cell_type": "code",
   "execution_count": 37,
   "metadata": {},
   "outputs": [
    {
     "name": "stdout",
     "output_type": "stream",
     "text": [
      "Highly correlated features:\n",
      "stl1_9 : [('stl4_10', 0.9156)]\n",
      "stl4_8 : [('stl4_9', 0.9284)]\n",
      "stl4_9 : [('stl4_8', 0.9284), ('stl4_10', 0.9682)]\n",
      "stl4_10 : [('stl1_9', 0.9156), ('stl4_9', 0.9682)]\n",
      "swvl1_7 : [('swvl2_7', 0.9649)]\n",
      "swvl1_8 : [('swvl2_8', 0.9693)]\n",
      "swvl1_9 : [('swvl2_9', 0.9619)]\n",
      "swvl1_10 : [('swvl2_10', 0.9186)]\n",
      "swvl2_7 : [('swvl1_7', 0.9649)]\n",
      "swvl2_8 : [('swvl1_8', 0.9693), ('swvl3_8', 0.9308), ('swvl3_9', 0.9458), ('swvl3_10', 0.9043)]\n",
      "swvl2_9 : [('swvl1_9', 0.9619), ('swvl3_9', 0.9496), ('swvl3_10', 0.9475)]\n",
      "swvl2_10 : [('swvl1_10', 0.9186), ('swvl3_10', 0.9432)]\n",
      "swvl3_8 : [('swvl2_8', 0.9308), ('swvl3_9', 0.9402), ('swvl3_10', 0.9147), ('swvl4_9', 0.9164), ('swvl4_10', 0.9214)]\n",
      "swvl3_9 : [('swvl2_8', 0.9458), ('swvl2_9', 0.9496), ('swvl3_8', 0.9402), ('swvl3_10', 0.9719)]\n",
      "swvl3_10 : [('swvl2_8', 0.9043), ('swvl2_9', 0.9475), ('swvl2_10', 0.9432), ('swvl3_8', 0.9147), ('swvl3_9', 0.9719), ('swvl4_10', 0.9085)]\n",
      "swvl4_9 : [('swvl3_8', 0.9164), ('swvl4_10', 0.9977), ('swvl4_7', 0.9578), ('swvl4_8', 0.9842)]\n",
      "swvl4_10 : [('swvl3_8', 0.9214), ('swvl3_10', 0.9085), ('swvl4_9', 0.9977), ('swvl4_7', 0.9522), ('swvl4_8', 0.9749)]\n",
      "swvl4_7 : [('swvl4_9', 0.9578), ('swvl4_10', 0.9522), ('swvl4_8', 0.9812)]\n",
      "swvl4_8 : [('swvl4_9', 0.9842), ('swvl4_10', 0.9749), ('swvl4_7', 0.9812)]\n",
      "tmax_7 : [('tmin_7', 0.9057)]\n",
      "tmin_7 : [('tmax_7', 0.9057)]\n"
     ]
    }
   ],
   "source": [
    "print(\"Highly correlated features:\")\n",
    "for key, value in highly_correlated_features.items():\n",
    "    print(key, \":\", value)"
   ]
  },
  {
   "cell_type": "code",
   "execution_count": 38,
   "metadata": {},
   "outputs": [
    {
     "ename": "NameError",
     "evalue": "name 'stop' is not defined",
     "output_type": "error",
     "traceback": [
      "\u001b[1;31m---------------------------------------------------------------------------\u001b[0m",
      "\u001b[1;31mNameError\u001b[0m                                 Traceback (most recent call last)",
      "Cell \u001b[1;32mIn[38], line 1\u001b[0m\n\u001b[1;32m----> 1\u001b[0m \u001b[43mstop\u001b[49m\n",
      "\u001b[1;31mNameError\u001b[0m: name 'stop' is not defined"
     ]
    }
   ],
   "source": [
    "stop"
   ]
  },
  {
   "cell_type": "code",
   "execution_count": null,
   "metadata": {},
   "outputs": [],
   "source": [
    "import time\n",
    "def print_accuracy(f):\n",
    "    print(\n",
    "        f\"Root mean squared test error = {np.sqrt(np.mean((f(X_test) - y_test) ** 2))}\"\n",
    "    )\n",
    "    time.sleep(0.5)  # to let the print get out before any progress bars"
   ]
  },
  {
   "cell_type": "code",
   "execution_count": null,
   "metadata": {},
   "outputs": [],
   "source": [
    "from sklearn.ensemble import RandomForestRegressor\n",
    "\n",
    "rforest = RandomForestRegressor(\n",
    "    n_estimators=1000, max_depth=None, min_samples_split=2, random_state=0\n",
    ")\n",
    "rforest.fit(X_train, y_train)\n",
    "print_accuracy(rforest.predict)"
   ]
  },
  {
   "cell_type": "code",
   "execution_count": null,
   "metadata": {},
   "outputs": [],
   "source": [
    "y_pred = rforest.predict(X_test)\n",
    "mse = mean_squared_error(y_test, y_pred)\n",
    "r2 = r2_score(y_test, y_pred)\n",
    "print(mse,r2)"
   ]
  },
  {
   "cell_type": "code",
   "execution_count": null,
   "metadata": {},
   "outputs": [],
   "source": [
    "#pip install shap"
   ]
  },
  {
   "cell_type": "code",
   "execution_count": null,
   "metadata": {},
   "outputs": [],
   "source": [
    "stop"
   ]
  },
  {
   "cell_type": "code",
   "execution_count": null,
   "metadata": {},
   "outputs": [],
   "source": [
    "columns_to_drop = set(columns_to_drop)\n",
    "print(columns_to_drop)"
   ]
  },
  {
   "cell_type": "code",
   "execution_count": null,
   "metadata": {},
   "outputs": [],
   "source": [
    "len(columns_to_drop)"
   ]
  },
  {
   "cell_type": "code",
   "execution_count": null,
   "metadata": {},
   "outputs": [],
   "source": [
    "X_train.drop(columns = columns_to_drop, axis = 1, inplace=True)\n",
    "X_test.drop(columns = columns_to_drop, axis = 1, inplace=True)"
   ]
  },
  {
   "cell_type": "code",
   "execution_count": null,
   "metadata": {},
   "outputs": [],
   "source": [
    "from sklearn.model_selection import train_test_split\n",
    "from sklearn.linear_model import LinearRegression\n",
    "from sklearn.metrics import mean_squared_error, r2_score"
   ]
  },
  {
   "cell_type": "code",
   "execution_count": null,
   "metadata": {},
   "outputs": [],
   "source": [
    "# Import necessary libraries\n",
    "import numpy as np\n",
    "import pandas as pd\n",
    "from sklearn.model_selection import train_test_split\n",
    "from sklearn.linear_model import LinearRegression, Ridge, Lasso\n",
    "from sklearn.tree import DecisionTreeRegressor\n",
    "from sklearn.ensemble import RandomForestRegressor, GradientBoostingRegressor\n",
    "from sklearn.svm import SVR\n",
    "from sklearn.metrics import mean_squared_error, r2_score\n",
    "from sklearn.model_selection import KFold\n",
    "\n",
    "\n",
    "# Create KFold object\n",
    "k = 5\n",
    "kfold = KFold(n_splits=k, shuffle=True)\n",
    "\n",
    "\n",
    "# Models\n",
    "models = {\n",
    "    \"Linear Regression\": LinearRegression(),\n",
    "    \"Ridge Regression\": Ridge(),\n",
    "    \"Lasso Regression\": Lasso(),\n",
    "    \"Decision Tree\": DecisionTreeRegressor(),\n",
    "    \"Gradient Boosting\": GradientBoostingRegressor(),\n",
    "    \"Random Forest\": RandomForestRegressor(),\n",
    "    \"Support Vector Machine\": SVR()\n",
    "}\n",
    "\n",
    "# Train and evaluate each model\n",
    "for name, model in models.items():\n",
    "    mse_scores = []\n",
    "    r2_scores = []\n",
    "\n",
    "    for train_index, test_index in kfold.split(X):\n",
    "        X_train, X_test = X[train_index], X[test_index]\n",
    "        y_train, y_test = y[train_index], y[test_index]\n",
    "    model.fit(X_train, y_train)\n",
    "    y_pred = model.predict(X_test)\n",
    "    mse = mean_squared_error(y_test, y_pred)\n",
    "    r2 = r2_score(y_test, y_pred)\n",
    "    print(f'{name} - Mean Squared Error: {mse:.2f}, R^2 Score: {r2:.2f}')\n"
   ]
  },
  {
   "cell_type": "code",
   "execution_count": null,
   "metadata": {},
   "outputs": [],
   "source": [
    "import xarray\n",
    "data = xarray.open_dataset(r\"C:\\Users\\Kanishk Goyal\\OneDrive - IIT Kanpur\\Desktop\\Prof. Hamim Zafar\\Data\\Relative humidity\\1month_mean_Global_ea_r2_199703_v02.grib\", engine='cfgrib')\n",
    "data.to_netcdf(r\"C:\\Users\\Kanishk Goyal\\OneDrive - IIT Kanpur\\Desktop\\Prof. Hamim Zafar\\Data\\Relative humidity\\1month_mean_Global_ea_r2_199703_v02.nc\")"
   ]
  },
  {
   "cell_type": "code",
   "execution_count": null,
   "metadata": {},
   "outputs": [],
   "source": []
  }
 ],
 "metadata": {
  "kernelspec": {
   "display_name": "Python 3",
   "language": "python",
   "name": "python3"
  },
  "language_info": {
   "codemirror_mode": {
    "name": "ipython",
    "version": 3
   },
   "file_extension": ".py",
   "mimetype": "text/x-python",
   "name": "python",
   "nbconvert_exporter": "python",
   "pygments_lexer": "ipython3",
   "version": "3.11.4"
  }
 },
 "nbformat": 4,
 "nbformat_minor": 2
}
