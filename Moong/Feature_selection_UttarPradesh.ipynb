{
 "cells": [
  {
   "cell_type": "code",
   "execution_count": 1,
   "metadata": {},
   "outputs": [],
   "source": [
    "import numpy as np \n",
    "import pandas as pd\n",
    "import seaborn as sns\n",
    "import matplotlib.pyplot as plt\n",
    "from sklearn.preprocessing import LabelEncoder\n",
    "from sklearn.model_selection import train_test_split\n",
    "from sklearn.linear_model import LinearRegression\n",
    "from sklearn.metrics import mean_squared_error, r2_score\n",
    "import seaborn as sns"
   ]
  },
  {
   "cell_type": "code",
   "execution_count": 2,
   "metadata": {},
   "outputs": [],
   "source": [
    "df = pd.read_csv(r\"C:\\Users\\Kanishk Goyal\\OneDrive - IIT Kanpur\\Desktop\\Prof. Hamim Zafar\\Data\\Final Data\\Moong\\Moong_UP.csv\")\n",
    "df = df.drop(columns=['latitude','longitude','DistrictName', 'year'])\n",
    "# df = df.sample(frac=1).reset_index(drop=True)\n",
    "#df = df.drop(columns=['DistrictName','latitude','longitude','year','year_mask'])"
   ]
  },
  {
   "cell_type": "code",
   "execution_count": 3,
   "metadata": {},
   "outputs": [],
   "source": [
    "df = df.rename(columns={'Yield(tonnes/hectare)':'Yield(Tonnes/Hectare)'},inplace=False)"
   ]
  },
  {
   "cell_type": "code",
   "execution_count": 4,
   "metadata": {},
   "outputs": [],
   "source": [
    "df = df.drop(columns=['stl2_7','stl2_8', 'stl2_9', 'stl2_10', 'stl3_7', 'stl3_8', 'stl3_9', 'stl3_10'])"
   ]
  },
  {
   "cell_type": "code",
   "execution_count": 5,
   "metadata": {},
   "outputs": [
    {
     "data": {
      "text/plain": [
       "Index(['stl1_7', 'stl1_8', 'stl1_9', 'stl1_10', 'stl4_7', 'stl4_8', 'stl4_9',\n",
       "       'stl4_10', 'swvl1_7', 'swvl1_8', 'swvl1_9', 'swvl1_10', 'swvl2_7',\n",
       "       'swvl2_8', 'swvl2_9', 'swvl2_10', 'swvl3_7', 'swvl3_8', 'swvl3_9',\n",
       "       'swvl3_10', 'swvl4_7', 'swvl4_8', 'swvl4_9', 'swvl4_10', 'ssr_7',\n",
       "       'ssr_8', 'ssr_9', 'ssr_10', 'u10_7', 'u10_8', 'u10_9', 'u10_10',\n",
       "       'v10_7', 'v10_8', 'v10_9', 'v10_10', 'tmax_7', 'tmax_8', 'tmax_9',\n",
       "       'tmax_10', 'tmin_7', 'tmin_8', 'tmin_9', 'tmin_10', 'rain_7', 'rain_8',\n",
       "       'rain_9', 'rain_10', 'countrain_7', 'countrain_8', 'countrain_9',\n",
       "       'countrain_10', 'rh_7', 'rh_8', 'rh_9', 'rh_10',\n",
       "       'Yield(Tonnes/Hectare)'],\n",
       "      dtype='object')"
      ]
     },
     "execution_count": 5,
     "metadata": {},
     "output_type": "execute_result"
    }
   ],
   "source": [
    "df.columns"
   ]
  },
  {
   "cell_type": "code",
   "execution_count": 6,
   "metadata": {},
   "outputs": [],
   "source": [
    "# df['stl1'] = (df['stl1_1'] + df['stl1_2'])/2\n",
    "# df['stl2'] = (df['stl2_1'] + df['stl2_2'])/2\n",
    "# df['stl3'] = (df['stl3_1'] + df['stl3_2'])/2\n",
    "# df['stl4'] = (df['stl4_1'] + df['stl4_2'])/2\n",
    "# df['swvl1'] = (df['swvl1_1'] + df['swvl1_2'])/2\n",
    "# df['swvl2'] = (df['swvl2_1'] + df['swvl2_2'])/2\n",
    "# df['swvl3'] = (df['swvl3_1'] + df['swvl3_2'])/2\n",
    "# df['swvl4'] = (df['swvl4_1'] + df['swvl4_2'])/2\n",
    "# df['ssr'] = (df['ssr_1'] + df['ssr_2'])/2\n",
    "# df['rain'] = (df['rain_1'] + df['rain_2'])/2\n",
    "# df['tmax'] = (df['tmax_1'] + df['tmax_2'])/2\n",
    "# df['tmin'] = (df['tmin_1'] + df['tmin_2'])/2\n",
    "# df['countrain'] = df['countrain_1'] + df['countrain_2']\n",
    "# df['u10'] = (df['u10_3']+df['u10_4'])/2\n",
    "# df['v10'] = (df['v10_3']+df['v10_4'])/2\n",
    "# df['rh'] = (df['rh_3']+df['rh_4'])/2"
   ]
  },
  {
   "cell_type": "code",
   "execution_count": 7,
   "metadata": {},
   "outputs": [],
   "source": [
    "# df = df.drop(columns=['stl1_1','stl1_2','stl2_1','stl2_2','stl3_1','stl3_2','stl4_1','stl4_2','swvl1_1','swvl1_2','swvl2_1','swvl2_2','swvl3_1','swvl3_2','swvl4_1','swvl4_2','ssr_1','ssr_2','rain_1','rain_2','tmax_1','tmax_2','tmin_1','tmin_2','countrain_1','countrain_2','u10_3','u10_4','v10_3','v10_4','rh_3','rh_4'],axis=1)"
   ]
  },
  {
   "cell_type": "code",
   "execution_count": 8,
   "metadata": {},
   "outputs": [
    {
     "data": {
      "text/plain": [
       "(1950, 57)"
      ]
     },
     "execution_count": 8,
     "metadata": {},
     "output_type": "execute_result"
    }
   ],
   "source": [
    "df.shape"
   ]
  },
  {
   "cell_type": "code",
   "execution_count": 9,
   "metadata": {},
   "outputs": [
    {
     "data": {
      "text/plain": [
       "Index(['stl1_7', 'stl1_8', 'stl1_9', 'stl1_10', 'stl4_7', 'stl4_8', 'stl4_9',\n",
       "       'stl4_10', 'swvl1_7', 'swvl1_8', 'swvl1_9', 'swvl1_10', 'swvl2_7',\n",
       "       'swvl2_8', 'swvl2_9', 'swvl2_10', 'swvl3_7', 'swvl3_8', 'swvl3_9',\n",
       "       'swvl3_10', 'swvl4_7', 'swvl4_8', 'swvl4_9', 'swvl4_10', 'ssr_7',\n",
       "       'ssr_8', 'ssr_9', 'ssr_10', 'u10_7', 'u10_8', 'u10_9', 'u10_10',\n",
       "       'v10_7', 'v10_8', 'v10_9', 'v10_10', 'tmax_7', 'tmax_8', 'tmax_9',\n",
       "       'tmax_10', 'tmin_7', 'tmin_8', 'tmin_9', 'tmin_10', 'rain_7', 'rain_8',\n",
       "       'rain_9', 'rain_10', 'countrain_7', 'countrain_8', 'countrain_9',\n",
       "       'countrain_10', 'rh_7', 'rh_8', 'rh_9', 'rh_10',\n",
       "       'Yield(Tonnes/Hectare)'],\n",
       "      dtype='object')"
      ]
     },
     "execution_count": 9,
     "metadata": {},
     "output_type": "execute_result"
    }
   ],
   "source": [
    "df.columns"
   ]
  },
  {
   "cell_type": "code",
   "execution_count": 10,
   "metadata": {},
   "outputs": [],
   "source": [
    "df = df.dropna(subset=['Yield(Tonnes/Hectare)'])"
   ]
  },
  {
   "cell_type": "code",
   "execution_count": 11,
   "metadata": {},
   "outputs": [
    {
     "data": {
      "text/plain": [
       "(1215, 57)"
      ]
     },
     "execution_count": 11,
     "metadata": {},
     "output_type": "execute_result"
    }
   ],
   "source": [
    "df.shape"
   ]
  },
  {
   "cell_type": "code",
   "execution_count": 12,
   "metadata": {},
   "outputs": [
    {
     "data": {
      "text/plain": [
       "1.7175156178963937"
      ]
     },
     "execution_count": 12,
     "metadata": {},
     "output_type": "execute_result"
    }
   ],
   "source": [
    "df['Yield(Tonnes/Hectare)'].skew()"
   ]
  },
  {
   "cell_type": "code",
   "execution_count": 13,
   "metadata": {},
   "outputs": [
    {
     "name": "stderr",
     "output_type": "stream",
     "text": [
      "C:\\Users\\Kanishk Goyal\\AppData\\Local\\Temp\\ipykernel_20120\\994257175.py:1: UserWarning: \n",
      "\n",
      "`distplot` is a deprecated function and will be removed in seaborn v0.14.0.\n",
      "\n",
      "Please adapt your code to use either `displot` (a figure-level function with\n",
      "similar flexibility) or `histplot` (an axes-level function for histograms).\n",
      "\n",
      "For a guide to updating your code to use the new functions, please see\n",
      "https://gist.github.com/mwaskom/de44147ed2974457ad6372750bbe5751\n",
      "\n",
      "  sns.distplot(df['Yield(Tonnes/Hectare)'],color='green')\n"
     ]
    },
    {
     "data": {
      "text/plain": [
       "<Axes: xlabel='Yield(Tonnes/Hectare)', ylabel='Density'>"
      ]
     },
     "execution_count": 13,
     "metadata": {},
     "output_type": "execute_result"
    },
    {
     "data": {
      "image/png": "[encoded data removed]",
      "text/plain": [
       "<Figure size 640x480 with 1 Axes>"
      ]
     },
     "metadata": {},
     "output_type": "display_data"
    }
   ],
   "source": [
    "sns.distplot(df['Yield(Tonnes/Hectare)'],color='green')"
   ]
  },
  {
   "cell_type": "code",
   "execution_count": 14,
   "metadata": {},
   "outputs": [
    {
     "data": {
      "text/plain": [
       "0       0.34\n",
       "1       0.22\n",
       "2       0.28\n",
       "3       0.30\n",
       "4       0.28\n",
       "        ... \n",
       "1894    0.00\n",
       "1913    0.50\n",
       "1928    0.05\n",
       "1934    0.00\n",
       "1946    0.20\n",
       "Name: Yield(Tonnes/Hectare), Length: 1215, dtype: float64"
      ]
     },
     "execution_count": 14,
     "metadata": {},
     "output_type": "execute_result"
    }
   ],
   "source": [
    "df['Yield(Tonnes/Hectare)']"
   ]
  },
  {
   "cell_type": "code",
   "execution_count": 15,
   "metadata": {},
   "outputs": [
    {
     "name": "stdout",
     "output_type": "stream",
     "text": [
      "Number of points in the final DataFrame after handling outliers: 1181\n"
     ]
    }
   ],
   "source": [
    "Q1 = df['Yield(Tonnes/Hectare)'].quantile(0.25)\n",
    "Q3 = df['Yield(Tonnes/Hectare)'].quantile(0.75)\n",
    "IQR = Q3 - Q1\n",
    "\n",
    "lower_bound = Q1 - 1.5 * IQR\n",
    "upper_bound = Q3 + 1.5 * IQR\n",
    "\n",
    "df['Yield_no_outliers'] = np.where((df['Yield(Tonnes/Hectare)'] < lower_bound) | (df['Yield(Tonnes/Hectare)'] > upper_bound), np.nan, df['Yield(Tonnes/Hectare)'])\n",
    "\n",
    "num_points_after_handling_outliers = df['Yield_no_outliers'].count()\n",
    "print(\"Number of points in the final DataFrame after handling outliers:\", num_points_after_handling_outliers)"
   ]
  },
  {
   "cell_type": "code",
   "execution_count": 16,
   "metadata": {},
   "outputs": [],
   "source": [
    "df = df.dropna(subset=['Yield_no_outliers'])\n",
    "df = df.drop(columns=['Yield(Tonnes/Hectare)'])"
   ]
  },
  {
   "cell_type": "code",
   "execution_count": 17,
   "metadata": {},
   "outputs": [],
   "source": [
    "df.rename(columns={'Yield_no_outliers': 'Yield(Tonnes/Hectare)'}, inplace=True)"
   ]
  },
  {
   "cell_type": "code",
   "execution_count": 18,
   "metadata": {},
   "outputs": [
    {
     "data": {
      "text/plain": [
       "0.126702851810832"
      ]
     },
     "execution_count": 18,
     "metadata": {},
     "output_type": "execute_result"
    }
   ],
   "source": [
    "df['Yield(Tonnes/Hectare)'].skew()"
   ]
  },
  {
   "cell_type": "code",
   "execution_count": 19,
   "metadata": {},
   "outputs": [
    {
     "name": "stderr",
     "output_type": "stream",
     "text": [
      "C:\\Users\\Kanishk Goyal\\AppData\\Local\\Temp\\ipykernel_20120\\1820324139.py:1: UserWarning: \n",
      "\n",
      "`distplot` is a deprecated function and will be removed in seaborn v0.14.0.\n",
      "\n",
      "Please adapt your code to use either `displot` (a figure-level function with\n",
      "similar flexibility) or `histplot` (an axes-level function for histograms).\n",
      "\n",
      "For a guide to updating your code to use the new functions, please see\n",
      "https://gist.github.com/mwaskom/de44147ed2974457ad6372750bbe5751\n",
      "\n",
      "  sns.distplot(df['Yield(Tonnes/Hectare)'])\n"
     ]
    },
    {
     "data": {
      "text/plain": [
       "<Axes: xlabel='Yield(Tonnes/Hectare)', ylabel='Density'>"
      ]
     },
     "execution_count": 19,
     "metadata": {},
     "output_type": "execute_result"
    },
    {
     "data": {
      "image/png": "[encoded data removed]",
      "text/plain": [
       "<Figure size 640x480 with 1 Axes>"
      ]
     },
     "metadata": {},
     "output_type": "display_data"
    }
   ],
   "source": [
    "sns.distplot(df['Yield(Tonnes/Hectare)'])"
   ]
  },
  {
   "cell_type": "code",
   "execution_count": 20,
   "metadata": {},
   "outputs": [
    {
     "data": {
      "text/html": [
       "<div>\n",
       "<style scoped>\n",
       "    .dataframe tbody tr th:only-of-type {\n",
       "        vertical-align: middle;\n",
       "    }\n",
       "\n",
       "    .dataframe tbody tr th {\n",
       "        vertical-align: top;\n",
       "    }\n",
       "\n",
       "    .dataframe thead th {\n",
       "        text-align: right;\n",
       "    }\n",
       "</style>\n",
       "<table border=\"1\" class=\"dataframe\">\n",
       "  <thead>\n",
       "    <tr style=\"text-align: right;\">\n",
       "      <th></th>\n",
       "      <th>stl1_7</th>\n",
       "      <th>stl1_8</th>\n",
       "      <th>stl1_9</th>\n",
       "      <th>stl1_10</th>\n",
       "      <th>stl4_7</th>\n",
       "      <th>stl4_8</th>\n",
       "      <th>stl4_9</th>\n",
       "      <th>stl4_10</th>\n",
       "      <th>swvl1_7</th>\n",
       "      <th>swvl1_8</th>\n",
       "      <th>...</th>\n",
       "      <th>rain_10</th>\n",
       "      <th>countrain_7</th>\n",
       "      <th>countrain_8</th>\n",
       "      <th>countrain_9</th>\n",
       "      <th>countrain_10</th>\n",
       "      <th>rh_7</th>\n",
       "      <th>rh_8</th>\n",
       "      <th>rh_9</th>\n",
       "      <th>rh_10</th>\n",
       "      <th>Yield(Tonnes/Hectare)</th>\n",
       "    </tr>\n",
       "  </thead>\n",
       "  <tbody>\n",
       "    <tr>\n",
       "      <th>0</th>\n",
       "      <td>28.165856</td>\n",
       "      <td>27.675076</td>\n",
       "      <td>27.176570</td>\n",
       "      <td>25.027363</td>\n",
       "      <td>29.471161</td>\n",
       "      <td>28.953885</td>\n",
       "      <td>28.354577</td>\n",
       "      <td>27.831509</td>\n",
       "      <td>0.410760</td>\n",
       "      <td>0.400921</td>\n",
       "      <td>...</td>\n",
       "      <td>0.798022</td>\n",
       "      <td>22</td>\n",
       "      <td>18</td>\n",
       "      <td>9</td>\n",
       "      <td>4</td>\n",
       "      <td>85.121803</td>\n",
       "      <td>84.578461</td>\n",
       "      <td>83.865240</td>\n",
       "      <td>76.199572</td>\n",
       "      <td>0.34</td>\n",
       "    </tr>\n",
       "    <tr>\n",
       "      <th>1</th>\n",
       "      <td>28.982165</td>\n",
       "      <td>28.660386</td>\n",
       "      <td>28.283857</td>\n",
       "      <td>27.226172</td>\n",
       "      <td>29.352869</td>\n",
       "      <td>29.206971</td>\n",
       "      <td>28.936338</td>\n",
       "      <td>28.745102</td>\n",
       "      <td>0.387739</td>\n",
       "      <td>0.396045</td>\n",
       "      <td>...</td>\n",
       "      <td>1.212527</td>\n",
       "      <td>14</td>\n",
       "      <td>15</td>\n",
       "      <td>13</td>\n",
       "      <td>4</td>\n",
       "      <td>81.417060</td>\n",
       "      <td>84.687150</td>\n",
       "      <td>85.266373</td>\n",
       "      <td>79.284545</td>\n",
       "      <td>0.22</td>\n",
       "    </tr>\n",
       "    <tr>\n",
       "      <th>2</th>\n",
       "      <td>28.788332</td>\n",
       "      <td>27.876821</td>\n",
       "      <td>27.681958</td>\n",
       "      <td>25.914149</td>\n",
       "      <td>29.772109</td>\n",
       "      <td>29.214659</td>\n",
       "      <td>28.755697</td>\n",
       "      <td>28.212200</td>\n",
       "      <td>0.380204</td>\n",
       "      <td>0.408792</td>\n",
       "      <td>...</td>\n",
       "      <td>1.896017</td>\n",
       "      <td>19</td>\n",
       "      <td>25</td>\n",
       "      <td>19</td>\n",
       "      <td>8</td>\n",
       "      <td>79.723247</td>\n",
       "      <td>85.441316</td>\n",
       "      <td>84.936874</td>\n",
       "      <td>78.630242</td>\n",
       "      <td>0.28</td>\n",
       "    </tr>\n",
       "    <tr>\n",
       "      <th>3</th>\n",
       "      <td>28.647403</td>\n",
       "      <td>28.468667</td>\n",
       "      <td>26.592821</td>\n",
       "      <td>26.527558</td>\n",
       "      <td>29.194125</td>\n",
       "      <td>28.875024</td>\n",
       "      <td>28.464262</td>\n",
       "      <td>27.933198</td>\n",
       "      <td>0.385421</td>\n",
       "      <td>0.370724</td>\n",
       "      <td>...</td>\n",
       "      <td>0.033261</td>\n",
       "      <td>24</td>\n",
       "      <td>10</td>\n",
       "      <td>13</td>\n",
       "      <td>0</td>\n",
       "      <td>81.872551</td>\n",
       "      <td>80.073708</td>\n",
       "      <td>84.153394</td>\n",
       "      <td>66.473326</td>\n",
       "      <td>0.30</td>\n",
       "    </tr>\n",
       "    <tr>\n",
       "      <th>4</th>\n",
       "      <td>27.603728</td>\n",
       "      <td>28.572664</td>\n",
       "      <td>28.040450</td>\n",
       "      <td>26.095324</td>\n",
       "      <td>28.825643</td>\n",
       "      <td>28.524454</td>\n",
       "      <td>28.342694</td>\n",
       "      <td>28.114059</td>\n",
       "      <td>0.415375</td>\n",
       "      <td>0.393942</td>\n",
       "      <td>...</td>\n",
       "      <td>3.294336</td>\n",
       "      <td>26</td>\n",
       "      <td>15</td>\n",
       "      <td>3</td>\n",
       "      <td>5</td>\n",
       "      <td>86.758327</td>\n",
       "      <td>83.775417</td>\n",
       "      <td>81.014928</td>\n",
       "      <td>76.209196</td>\n",
       "      <td>0.28</td>\n",
       "    </tr>\n",
       "    <tr>\n",
       "      <th>5</th>\n",
       "      <td>30.740501</td>\n",
       "      <td>28.433245</td>\n",
       "      <td>27.268358</td>\n",
       "      <td>25.176563</td>\n",
       "      <td>30.412059</td>\n",
       "      <td>30.338266</td>\n",
       "      <td>29.518449</td>\n",
       "      <td>28.576923</td>\n",
       "      <td>0.306807</td>\n",
       "      <td>0.396495</td>\n",
       "      <td>...</td>\n",
       "      <td>1.523760</td>\n",
       "      <td>7</td>\n",
       "      <td>23</td>\n",
       "      <td>16</td>\n",
       "      <td>2</td>\n",
       "      <td>67.254447</td>\n",
       "      <td>84.130262</td>\n",
       "      <td>83.982335</td>\n",
       "      <td>73.264927</td>\n",
       "      <td>0.27</td>\n",
       "    </tr>\n",
       "    <tr>\n",
       "      <th>6</th>\n",
       "      <td>29.089639</td>\n",
       "      <td>27.992421</td>\n",
       "      <td>27.533182</td>\n",
       "      <td>24.794753</td>\n",
       "      <td>30.094603</td>\n",
       "      <td>29.546247</td>\n",
       "      <td>28.880653</td>\n",
       "      <td>28.148353</td>\n",
       "      <td>0.404819</td>\n",
       "      <td>0.410344</td>\n",
       "      <td>...</td>\n",
       "      <td>1.656341</td>\n",
       "      <td>17</td>\n",
       "      <td>21</td>\n",
       "      <td>25</td>\n",
       "      <td>7</td>\n",
       "      <td>83.734710</td>\n",
       "      <td>86.636157</td>\n",
       "      <td>87.558345</td>\n",
       "      <td>79.575769</td>\n",
       "      <td>0.18</td>\n",
       "    </tr>\n",
       "    <tr>\n",
       "      <th>10</th>\n",
       "      <td>28.866645</td>\n",
       "      <td>28.478357</td>\n",
       "      <td>28.124482</td>\n",
       "      <td>25.319882</td>\n",
       "      <td>29.876433</td>\n",
       "      <td>29.440758</td>\n",
       "      <td>29.135700</td>\n",
       "      <td>28.480383</td>\n",
       "      <td>0.375569</td>\n",
       "      <td>0.398664</td>\n",
       "      <td>...</td>\n",
       "      <td>0.543638</td>\n",
       "      <td>14</td>\n",
       "      <td>15</td>\n",
       "      <td>15</td>\n",
       "      <td>2</td>\n",
       "      <td>79.006087</td>\n",
       "      <td>83.335149</td>\n",
       "      <td>84.630883</td>\n",
       "      <td>70.328974</td>\n",
       "      <td>0.21</td>\n",
       "    </tr>\n",
       "    <tr>\n",
       "      <th>11</th>\n",
       "      <td>27.512843</td>\n",
       "      <td>28.207435</td>\n",
       "      <td>28.537258</td>\n",
       "      <td>26.959993</td>\n",
       "      <td>28.614388</td>\n",
       "      <td>28.358216</td>\n",
       "      <td>28.412624</td>\n",
       "      <td>28.292523</td>\n",
       "      <td>0.415083</td>\n",
       "      <td>0.408375</td>\n",
       "      <td>...</td>\n",
       "      <td>0.308243</td>\n",
       "      <td>18</td>\n",
       "      <td>19</td>\n",
       "      <td>2</td>\n",
       "      <td>2</td>\n",
       "      <td>85.214341</td>\n",
       "      <td>84.335349</td>\n",
       "      <td>79.070715</td>\n",
       "      <td>62.967070</td>\n",
       "      <td>0.37</td>\n",
       "    </tr>\n",
       "    <tr>\n",
       "      <th>12</th>\n",
       "      <td>29.563900</td>\n",
       "      <td>28.772468</td>\n",
       "      <td>28.589397</td>\n",
       "      <td>25.017653</td>\n",
       "      <td>31.404357</td>\n",
       "      <td>30.719495</td>\n",
       "      <td>29.938294</td>\n",
       "      <td>29.210807</td>\n",
       "      <td>0.403239</td>\n",
       "      <td>0.389668</td>\n",
       "      <td>...</td>\n",
       "      <td>1.699701</td>\n",
       "      <td>15</td>\n",
       "      <td>11</td>\n",
       "      <td>9</td>\n",
       "      <td>5</td>\n",
       "      <td>80.650895</td>\n",
       "      <td>81.583991</td>\n",
       "      <td>80.915041</td>\n",
       "      <td>68.070561</td>\n",
       "      <td>0.14</td>\n",
       "    </tr>\n",
       "  </tbody>\n",
       "</table>\n",
       "<p>10 rows × 57 columns</p>\n",
       "</div>"
      ],
      "text/plain": [
       "       stl1_7     stl1_8     stl1_9    stl1_10     stl4_7     stl4_8  \\\n",
       "0   28.165856  27.675076  27.176570  25.027363  29.471161  28.953885   \n",
       "1   28.982165  28.660386  28.283857  27.226172  29.352869  29.206971   \n",
       "2   28.788332  27.876821  27.681958  25.914149  29.772109  29.214659   \n",
       "3   28.647403  28.468667  26.592821  26.527558  29.194125  28.875024   \n",
       "4   27.603728  28.572664  28.040450  26.095324  28.825643  28.524454   \n",
       "5   30.740501  28.433245  27.268358  25.176563  30.412059  30.338266   \n",
       "6   29.089639  27.992421  27.533182  24.794753  30.094603  29.546247   \n",
       "10  28.866645  28.478357  28.124482  25.319882  29.876433  29.440758   \n",
       "11  27.512843  28.207435  28.537258  26.959993  28.614388  28.358216   \n",
       "12  29.563900  28.772468  28.589397  25.017653  31.404357  30.719495   \n",
       "\n",
       "       stl4_9    stl4_10   swvl1_7   swvl1_8  ...   rain_10  countrain_7  \\\n",
       "0   28.354577  27.831509  0.410760  0.400921  ...  0.798022           22   \n",
       "1   28.936338  28.745102  0.387739  0.396045  ...  1.212527           14   \n",
       "2   28.755697  28.212200  0.380204  0.408792  ...  1.896017           19   \n",
       "3   28.464262  27.933198  0.385421  0.370724  ...  0.033261           24   \n",
       "4   28.342694  28.114059  0.415375  0.393942  ...  3.294336           26   \n",
       "5   29.518449  28.576923  0.306807  0.396495  ...  1.523760            7   \n",
       "6   28.880653  28.148353  0.404819  0.410344  ...  1.656341           17   \n",
       "10  29.135700  28.480383  0.375569  0.398664  ...  0.543638           14   \n",
       "11  28.412624  28.292523  0.415083  0.408375  ...  0.308243           18   \n",
       "12  29.938294  29.210807  0.403239  0.389668  ...  1.699701           15   \n",
       "\n",
       "    countrain_8  countrain_9  countrain_10       rh_7       rh_8       rh_9  \\\n",
       "0            18            9             4  85.121803  84.578461  83.865240   \n",
       "1            15           13             4  81.417060  84.687150  85.266373   \n",
       "2            25           19             8  79.723247  85.441316  84.936874   \n",
       "3            10           13             0  81.872551  80.073708  84.153394   \n",
       "4            15            3             5  86.758327  83.775417  81.014928   \n",
       "5            23           16             2  67.254447  84.130262  83.982335   \n",
       "6            21           25             7  83.734710  86.636157  87.558345   \n",
       "10           15           15             2  79.006087  83.335149  84.630883   \n",
       "11           19            2             2  85.214341  84.335349  79.070715   \n",
       "12           11            9             5  80.650895  81.583991  80.915041   \n",
       "\n",
       "        rh_10  Yield(Tonnes/Hectare)  \n",
       "0   76.199572                   0.34  \n",
       "1   79.284545                   0.22  \n",
       "2   78.630242                   0.28  \n",
       "3   66.473326                   0.30  \n",
       "4   76.209196                   0.28  \n",
       "5   73.264927                   0.27  \n",
       "6   79.575769                   0.18  \n",
       "10  70.328974                   0.21  \n",
       "11  62.967070                   0.37  \n",
       "12  68.070561                   0.14  \n",
       "\n",
       "[10 rows x 57 columns]"
      ]
     },
     "execution_count": 20,
     "metadata": {},
     "output_type": "execute_result"
    }
   ],
   "source": [
    "df.head(10)"
   ]
  },
  {
   "cell_type": "code",
   "execution_count": 21,
   "metadata": {},
   "outputs": [
    {
     "data": {
      "text/plain": [
       "(1181, 57)"
      ]
     },
     "execution_count": 21,
     "metadata": {},
     "output_type": "execute_result"
    }
   ],
   "source": [
    "df.shape"
   ]
  },
  {
   "cell_type": "code",
   "execution_count": 22,
   "metadata": {},
   "outputs": [],
   "source": [
    "# cat_cols = ['DistrictName', 'year']\n",
    "# # Label encode categorical columns\n",
    "# encoder = LabelEncoder()\n",
    "# df[cat_cols] = df[cat_cols].apply(encoder.fit_transform)"
   ]
  },
  {
   "cell_type": "code",
   "execution_count": 23,
   "metadata": {},
   "outputs": [
    {
     "data": {
      "text/html": [
       "<div>\n",
       "<style scoped>\n",
       "    .dataframe tbody tr th:only-of-type {\n",
       "        vertical-align: middle;\n",
       "    }\n",
       "\n",
       "    .dataframe tbody tr th {\n",
       "        vertical-align: top;\n",
       "    }\n",
       "\n",
       "    .dataframe thead th {\n",
       "        text-align: right;\n",
       "    }\n",
       "</style>\n",
       "<table border=\"1\" class=\"dataframe\">\n",
       "  <thead>\n",
       "    <tr style=\"text-align: right;\">\n",
       "      <th></th>\n",
       "      <th>stl1_7</th>\n",
       "      <th>stl1_8</th>\n",
       "      <th>stl1_9</th>\n",
       "      <th>stl1_10</th>\n",
       "      <th>stl4_7</th>\n",
       "      <th>stl4_8</th>\n",
       "      <th>stl4_9</th>\n",
       "      <th>stl4_10</th>\n",
       "      <th>swvl1_7</th>\n",
       "      <th>swvl1_8</th>\n",
       "      <th>...</th>\n",
       "      <th>rain_10</th>\n",
       "      <th>countrain_7</th>\n",
       "      <th>countrain_8</th>\n",
       "      <th>countrain_9</th>\n",
       "      <th>countrain_10</th>\n",
       "      <th>rh_7</th>\n",
       "      <th>rh_8</th>\n",
       "      <th>rh_9</th>\n",
       "      <th>rh_10</th>\n",
       "      <th>Yield(Tonnes/Hectare)</th>\n",
       "    </tr>\n",
       "  </thead>\n",
       "  <tbody>\n",
       "    <tr>\n",
       "      <th>0</th>\n",
       "      <td>28.165856</td>\n",
       "      <td>27.675076</td>\n",
       "      <td>27.176570</td>\n",
       "      <td>25.027363</td>\n",
       "      <td>29.471161</td>\n",
       "      <td>28.953885</td>\n",
       "      <td>28.354577</td>\n",
       "      <td>27.831509</td>\n",
       "      <td>0.410760</td>\n",
       "      <td>0.400921</td>\n",
       "      <td>...</td>\n",
       "      <td>0.798022</td>\n",
       "      <td>22</td>\n",
       "      <td>18</td>\n",
       "      <td>9</td>\n",
       "      <td>4</td>\n",
       "      <td>85.121803</td>\n",
       "      <td>84.578461</td>\n",
       "      <td>83.865240</td>\n",
       "      <td>76.199572</td>\n",
       "      <td>0.34</td>\n",
       "    </tr>\n",
       "    <tr>\n",
       "      <th>1</th>\n",
       "      <td>28.982165</td>\n",
       "      <td>28.660386</td>\n",
       "      <td>28.283857</td>\n",
       "      <td>27.226172</td>\n",
       "      <td>29.352869</td>\n",
       "      <td>29.206971</td>\n",
       "      <td>28.936338</td>\n",
       "      <td>28.745102</td>\n",
       "      <td>0.387739</td>\n",
       "      <td>0.396045</td>\n",
       "      <td>...</td>\n",
       "      <td>1.212527</td>\n",
       "      <td>14</td>\n",
       "      <td>15</td>\n",
       "      <td>13</td>\n",
       "      <td>4</td>\n",
       "      <td>81.417060</td>\n",
       "      <td>84.687150</td>\n",
       "      <td>85.266373</td>\n",
       "      <td>79.284545</td>\n",
       "      <td>0.22</td>\n",
       "    </tr>\n",
       "    <tr>\n",
       "      <th>2</th>\n",
       "      <td>28.788332</td>\n",
       "      <td>27.876821</td>\n",
       "      <td>27.681958</td>\n",
       "      <td>25.914149</td>\n",
       "      <td>29.772109</td>\n",
       "      <td>29.214659</td>\n",
       "      <td>28.755697</td>\n",
       "      <td>28.212200</td>\n",
       "      <td>0.380204</td>\n",
       "      <td>0.408792</td>\n",
       "      <td>...</td>\n",
       "      <td>1.896017</td>\n",
       "      <td>19</td>\n",
       "      <td>25</td>\n",
       "      <td>19</td>\n",
       "      <td>8</td>\n",
       "      <td>79.723247</td>\n",
       "      <td>85.441316</td>\n",
       "      <td>84.936874</td>\n",
       "      <td>78.630242</td>\n",
       "      <td>0.28</td>\n",
       "    </tr>\n",
       "    <tr>\n",
       "      <th>3</th>\n",
       "      <td>28.647403</td>\n",
       "      <td>28.468667</td>\n",
       "      <td>26.592821</td>\n",
       "      <td>26.527558</td>\n",
       "      <td>29.194125</td>\n",
       "      <td>28.875024</td>\n",
       "      <td>28.464262</td>\n",
       "      <td>27.933198</td>\n",
       "      <td>0.385421</td>\n",
       "      <td>0.370724</td>\n",
       "      <td>...</td>\n",
       "      <td>0.033261</td>\n",
       "      <td>24</td>\n",
       "      <td>10</td>\n",
       "      <td>13</td>\n",
       "      <td>0</td>\n",
       "      <td>81.872551</td>\n",
       "      <td>80.073708</td>\n",
       "      <td>84.153394</td>\n",
       "      <td>66.473326</td>\n",
       "      <td>0.30</td>\n",
       "    </tr>\n",
       "    <tr>\n",
       "      <th>4</th>\n",
       "      <td>27.603728</td>\n",
       "      <td>28.572664</td>\n",
       "      <td>28.040450</td>\n",
       "      <td>26.095324</td>\n",
       "      <td>28.825643</td>\n",
       "      <td>28.524454</td>\n",
       "      <td>28.342694</td>\n",
       "      <td>28.114059</td>\n",
       "      <td>0.415375</td>\n",
       "      <td>0.393942</td>\n",
       "      <td>...</td>\n",
       "      <td>3.294336</td>\n",
       "      <td>26</td>\n",
       "      <td>15</td>\n",
       "      <td>3</td>\n",
       "      <td>5</td>\n",
       "      <td>86.758327</td>\n",
       "      <td>83.775417</td>\n",
       "      <td>81.014928</td>\n",
       "      <td>76.209196</td>\n",
       "      <td>0.28</td>\n",
       "    </tr>\n",
       "  </tbody>\n",
       "</table>\n",
       "<p>5 rows × 57 columns</p>\n",
       "</div>"
      ],
      "text/plain": [
       "      stl1_7     stl1_8     stl1_9    stl1_10     stl4_7     stl4_8  \\\n",
       "0  28.165856  27.675076  27.176570  25.027363  29.471161  28.953885   \n",
       "1  28.982165  28.660386  28.283857  27.226172  29.352869  29.206971   \n",
       "2  28.788332  27.876821  27.681958  25.914149  29.772109  29.214659   \n",
       "3  28.647403  28.468667  26.592821  26.527558  29.194125  28.875024   \n",
       "4  27.603728  28.572664  28.040450  26.095324  28.825643  28.524454   \n",
       "\n",
       "      stl4_9    stl4_10   swvl1_7   swvl1_8  ...   rain_10  countrain_7  \\\n",
       "0  28.354577  27.831509  0.410760  0.400921  ...  0.798022           22   \n",
       "1  28.936338  28.745102  0.387739  0.396045  ...  1.212527           14   \n",
       "2  28.755697  28.212200  0.380204  0.408792  ...  1.896017           19   \n",
       "3  28.464262  27.933198  0.385421  0.370724  ...  0.033261           24   \n",
       "4  28.342694  28.114059  0.415375  0.393942  ...  3.294336           26   \n",
       "\n",
       "   countrain_8  countrain_9  countrain_10       rh_7       rh_8       rh_9  \\\n",
       "0           18            9             4  85.121803  84.578461  83.865240   \n",
       "1           15           13             4  81.417060  84.687150  85.266373   \n",
       "2           25           19             8  79.723247  85.441316  84.936874   \n",
       "3           10           13             0  81.872551  80.073708  84.153394   \n",
       "4           15            3             5  86.758327  83.775417  81.014928   \n",
       "\n",
       "       rh_10  Yield(Tonnes/Hectare)  \n",
       "0  76.199572                   0.34  \n",
       "1  79.284545                   0.22  \n",
       "2  78.630242                   0.28  \n",
       "3  66.473326                   0.30  \n",
       "4  76.209196                   0.28  \n",
       "\n",
       "[5 rows x 57 columns]"
      ]
     },
     "execution_count": 23,
     "metadata": {},
     "output_type": "execute_result"
    }
   ],
   "source": [
    "df.head()"
   ]
  },
  {
   "cell_type": "code",
   "execution_count": 24,
   "metadata": {},
   "outputs": [
    {
     "data": {
      "text/plain": [
       "(1181, 57)"
      ]
     },
     "execution_count": 24,
     "metadata": {},
     "output_type": "execute_result"
    }
   ],
   "source": [
    "df.shape"
   ]
  },
  {
   "cell_type": "code",
   "execution_count": 25,
   "metadata": {},
   "outputs": [
    {
     "data": {
      "text/plain": [
       "Index(['stl1_7', 'stl1_8', 'stl1_9', 'stl1_10', 'stl4_7', 'stl4_8', 'stl4_9',\n",
       "       'stl4_10', 'swvl1_7', 'swvl1_8', 'swvl1_9', 'swvl1_10', 'swvl2_7',\n",
       "       'swvl2_8', 'swvl2_9', 'swvl2_10', 'swvl3_7', 'swvl3_8', 'swvl3_9',\n",
       "       'swvl3_10', 'swvl4_7', 'swvl4_8', 'swvl4_9', 'swvl4_10', 'ssr_7',\n",
       "       'ssr_8', 'ssr_9', 'ssr_10', 'u10_7', 'u10_8', 'u10_9', 'u10_10',\n",
       "       'v10_7', 'v10_8', 'v10_9', 'v10_10', 'tmax_7', 'tmax_8', 'tmax_9',\n",
       "       'tmax_10', 'tmin_7', 'tmin_8', 'tmin_9', 'tmin_10', 'rain_7', 'rain_8',\n",
       "       'rain_9', 'rain_10', 'countrain_7', 'countrain_8', 'countrain_9',\n",
       "       'countrain_10', 'rh_7', 'rh_8', 'rh_9', 'rh_10',\n",
       "       'Yield(Tonnes/Hectare)'],\n",
       "      dtype='object')"
      ]
     },
     "execution_count": 25,
     "metadata": {},
     "output_type": "execute_result"
    }
   ],
   "source": [
    "df.columns"
   ]
  },
  {
   "cell_type": "code",
   "execution_count": 26,
   "metadata": {},
   "outputs": [],
   "source": [
    "#df = df[['countrain_11', 'countrain_12', 'countrain_1','countrain_2', 'countrain_3', 'countrain_4', 'rain_11', 'rain_12','rain_1', 'rain_2', 'rain_3', 'rain_4','tmax_11', 'tmax_12', 'tmax_1','tmax_2', 'tmax_3', 'tmax_4', 'tmin_11', 'tmin_12', 'tmin_1', 'tmin_2','tmin_3', 'tmin_4','Yield(Tonnes/Hectare)']]"
   ]
  },
  {
   "cell_type": "code",
   "execution_count": 27,
   "metadata": {},
   "outputs": [],
   "source": [
    "#df = df.drop(columns=['countrain_11', 'countrain_12', 'countrain_1','countrain_2', 'countrain_3', 'countrain_4', 'rain_11', 'rain_12','rain_1', 'rain_2', 'rain_3', 'rain_4','tmax_11', 'tmax_12', 'tmax_1','tmax_2', 'tmax_3', 'tmax_4', 'tmin_11', 'tmin_12', 'tmin_1', 'tmin_2','tmin_3', 'tmin_4'])"
   ]
  },
  {
   "cell_type": "code",
   "execution_count": 28,
   "metadata": {},
   "outputs": [
    {
     "data": {
      "text/plain": [
       "(1181, 57)"
      ]
     },
     "execution_count": 28,
     "metadata": {},
     "output_type": "execute_result"
    }
   ],
   "source": [
    "df.shape"
   ]
  },
  {
   "cell_type": "code",
   "execution_count": 29,
   "metadata": {},
   "outputs": [],
   "source": [
    "X = df.drop('Yield(Tonnes/Hectare)', axis=1)  # Features\n",
    "y = df['Yield(Tonnes/Hectare)']  # Target variable\n",
    "\n",
    "# Split the dataset into training and testing sets\n",
    "#X_train, X_test, y_train, y_test = train_test_split(X, y, test_size=0.2, random_state=42)"
   ]
  },
  {
   "cell_type": "code",
   "execution_count": 30,
   "metadata": {},
   "outputs": [],
   "source": [
    "# X = X.drop(columns=['stl2','stl3'],axis=1)"
   ]
  },
  {
   "cell_type": "code",
   "execution_count": 31,
   "metadata": {},
   "outputs": [
    {
     "name": "stdout",
     "output_type": "stream",
     "text": [
      "Linear Regression - R^2 Score (Train) : 0.40, R^2 Score (Test): 0.32\n",
      "[0.3300158486578645, 0.20872847917209192, 0.30949656591356767, 0.3407959239680214, 0.49970993588163193, 0.5478049814054204, 0.11069297478805173, 0.20887791578559378, 0.30617861096996024, 0.38533630900963445]\n",
      "Ridge Regression - R^2 Score (Train) : 0.38, R^2 Score (Test): 0.32\n",
      "[0.3101013622263481, 0.26661027080270094, 0.2572155215532701, 0.33787246905860924, 0.4926585609254981, 0.32677081231740035, 0.1709029698729283, 0.41677039860703213, 0.3017648901892235, 0.3626387577024742]\n",
      "XGB Regressor - R^2 Score (Train) : 1.00, R^2 Score (Test): 0.34\n",
      "[0.48404405436110587, 0.3695348806394261, 0.325866049490111, 0.3756026235447121, 0.288604276876105, 0.40259661119312506, 0.15557333381954308, 0.36661077390770125, 0.41261284956338273, 0.17104970142566323]\n",
      "Lasso Regression - R^2 Score (Train) : 0.08, R^2 Score (Test): 0.07\n",
      "[0.05253456155792313, 0.032096291450184, 0.06792587834199793, 0.039398967948809926, 0.19037397726611438, 0.09362421473099192, 0.011311977754187241, 0.032699994138816524, 0.10973103972606557, 0.1026097422083797]\n",
      "Decision Tree - R^2 Score (Train) : 1.00, R^2 Score (Test): -0.24\n",
      "[-0.3285821494152179, -0.2789607925612365, -0.43789632559068625, -0.015716505482278986, -0.10574457570700013, -0.3172290229536967, -0.410569586842229, -0.04865088068187329, -0.36433902319026656, -0.0768952931538367]\n",
      "Gradient Boosting - R^2 Score (Train) : 0.75, R^2 Score (Test): 0.38\n",
      "[0.5060634003976986, 0.4169541089375963, 0.3757636006262829, 0.2626992970984817, 0.4589329896199398, 0.479613920803177, 0.2982241157184916, 0.4807879603106693, 0.17898934440222225, 0.3791582056245236]\n",
      "Random Forest - R^2 Score (Train) : 0.92, R^2 Score (Test): 0.43\n",
      "[0.36743384516449473, 0.4049166548139359, 0.3987702167297157, 0.41018899297601563, 0.4182733938503185, 0.5447024028457446, 0.48842870572765873, 0.43868002107982584, 0.35755639113158, 0.46247116453440296]\n",
      "Support Vector Machine - R^2 Score (Train) : 0.10, R^2 Score (Test): 0.08\n",
      "[0.08909158479831714, 0.055708958754643656, 0.06370832028478979, 0.11634088530880227, 0.08222576435406403, 0.0666292576241101, 0.06782103720282107, 0.11821181094795319, -0.05271357482541128, 0.15555086119206885]\n"
     ]
    }
   ],
   "source": [
    "# Import necessary libraries\n",
    "import numpy as np\n",
    "import pandas as pd\n",
    "from sklearn.model_selection import train_test_split\n",
    "from sklearn.linear_model import LinearRegression, Ridge, Lasso\n",
    "from sklearn.tree import DecisionTreeRegressor\n",
    "from sklearn.ensemble import RandomForestRegressor, GradientBoostingRegressor\n",
    "from sklearn.svm import SVR\n",
    "import xgboost as xgb\n",
    "from sklearn.metrics import mean_squared_error, r2_score\n",
    "from sklearn.model_selection import KFold\n",
    "\n",
    "\n",
    "\n",
    "\n",
    "# Models\n",
    "models = {\n",
    "    \"Linear Regression\": LinearRegression(),\n",
    "    \"Ridge Regression\": Ridge(),\n",
    "    \"XGB Regressor\": xgb.XGBRegressor(objective='reg:squarederror', random_state=42),\n",
    "    \"Lasso Regression\": Lasso(),\n",
    "    \"Decision Tree\": DecisionTreeRegressor(),\n",
    "    \"Gradient Boosting\": GradientBoostingRegressor(),\n",
    "    \"Random Forest\": RandomForestRegressor(),\n",
    "    \"Support Vector Machine\": SVR()\n",
    "}\n",
    "\n",
    "# Train and evaluate each model\n",
    "for name, model in models.items():\n",
    "\n",
    "    mse_scores_test = []\n",
    "    mse_scores_train = []\n",
    "    r2_scores_test = []\n",
    "    r2_scores_train = []\n",
    "    # Create KFold object\n",
    "    k = 10\n",
    "    kfold = KFold(n_splits=k, shuffle=True)\n",
    "\n",
    "    for train_index, test_index in kfold.split(X):\n",
    "        X_train, X_test = X.iloc[train_index], X.iloc[test_index]\n",
    "        y_train, y_test = y.iloc[train_index], y.iloc[test_index]\n",
    "        model.fit(X_train, y_train)\n",
    "        y_pred_test = model.predict(X_test)\n",
    "        y_pred_train = model.predict(X_train)\n",
    "        mse_test = mean_squared_error(y_test, y_pred_test)\n",
    "        mse_train = mean_squared_error(y_train, y_pred_train)\n",
    "        r2_test = r2_score(y_test, y_pred_test)\n",
    "        r2_train = r2_score(y_train, y_pred_train)\n",
    "        mse_scores_test.append(mse_test)\n",
    "        mse_scores_train.append(mse_train)\n",
    "        r2_scores_test.append(r2_test)\n",
    "        r2_scores_train.append(r2_train)\n",
    "\n",
    "    average_mse_test = np.mean(mse_scores_test)\n",
    "    average_mse_train = np.mean(mse_scores_train)\n",
    "    average_r2_test = np.mean(r2_scores_test)\n",
    "    average_r2_train = np.mean(r2_scores_train)  \n",
    "\n",
    "    print(f'{name} - R^2 Score (Train) : {average_r2_train:.2f}, R^2 Score (Test): {average_r2_test:.2f}')\n",
    "    print(r2_scores_test)\n"
   ]
  },
  {
   "cell_type": "code",
   "execution_count": 32,
   "metadata": {},
   "outputs": [],
   "source": [
    "X_train, X_test, y_train, y_test = train_test_split(X, y, test_size=0.2, random_state=42)"
   ]
  },
  {
   "cell_type": "code",
   "execution_count": 33,
   "metadata": {},
   "outputs": [],
   "source": [
    "# import pandas as pd\n",
    "\n",
    "# # Assuming X_train is your DataFrame\n",
    "# # X_train = pd.DataFrame(...)\n",
    "\n",
    "# corr_matrix = X_train.corr()\n",
    "\n",
    "# # Get the column names of the DataFrame\n",
    "# columns = corr_matrix.columns\n",
    "\n",
    "# # Create an empty list to keep track of columns to drop\n",
    "# columns_to_drop = []\n",
    "# # Create a dictionary to store highly correlated features\n",
    "# highly_correlated_features = {}\n",
    "\n",
    "# # Loop over the columns\n",
    "# for i in range(len(columns)):\n",
    "#     for j in range(0, len(columns)):  # Loop only over the upper triangle to avoid duplicate comparisons\n",
    "#         # Access the cell of the DataFrame\n",
    "#         if abs(corr_matrix.iloc[i, j]) > 0.90:\n",
    "#             # Sort correlated features based on correlation coefficient\n",
    "#             sorted_features = sorted([(corr_matrix.iloc[i, j], columns[j]), (corr_matrix.iloc[i, i], columns[i])],\n",
    "#                                      key=lambda x: abs(x[0]), reverse=True)\n",
    "#             # Add the column to drop\n",
    "#             columns_to_drop.append(sorted_features[1][1])  # Add the one with lower correlation\n",
    "#             # Update the dictionary with highly correlated features\n",
    "#             if sorted_features[0][1] in highly_correlated_features:\n",
    "#                 highly_correlated_features[sorted_features[0][1]].append(sorted_features[1][1])\n",
    "#             else:\n",
    "#                 highly_correlated_features[sorted_features[0][1]] = [sorted_features[1][1]]\n",
    "\n",
    "# print(len(columns_to_drop))\n"
   ]
  },
  {
   "cell_type": "code",
   "execution_count": 34,
   "metadata": {},
   "outputs": [],
   "source": [
    "# import seaborn as sns\n",
    "\n",
    "# corr_matrix = X_train.corr()\n",
    "\n",
    "# # Get the column names of the DataFrame\n",
    "# columns = corr_matrix.columns\n",
    "\n",
    "# # Define a function to sort correlations in descending order (absolute value)\n",
    "# def sort_correlations(series):\n",
    "#   # Take the absolute value of the series\n",
    "#   abs_series = series.abs()\n",
    "#   # Sort the absolute values in descending order\n",
    "#   return abs_series.sort_values(ascending=False)\n",
    "\n",
    "# # Sort each column of the correlation matrix\n",
    "# sorted_corr_matrix = corr_matrix.apply(sort_correlations)\n",
    "\n",
    "# # Create an empty list to keep track of columns to drop\n",
    "# columns_to_drop = []\n",
    "# # Create a dictionary to store highly correlated features\n",
    "# highly_correlated_features = {}\n",
    "\n",
    "# # Loop over the sorted correlation matrix\n",
    "# for i in range(len(sorted_corr_matrix.columns)):\n",
    "#   # Skip the diagonal (correlation with self)\n",
    "#   if i == sorted_corr_matrix.columns[i]:\n",
    "#     continue\n",
    "#   # Get the current column and sorted correlations\n",
    "#   current_column = sorted_corr_matrix.columns[i]\n",
    "#   sorted_correlations = sorted_corr_matrix.loc[current_column]\n",
    "  \n",
    "#   # Identify highly correlated features (> 0.90) excluding the current column\n",
    "#   highly_correlated_features[current_column] = list(sorted_correlations[sorted_correlations > 0.90].index.difference([current_column]))\n",
    "\n",
    "#   # Update columns to drop based on correlations with the current column\n",
    "#   columns_to_drop.extend(highly_correlated_features[current_column])\n",
    "\n",
    "# # Remove duplicates from columns to drop\n",
    "# columns_to_drop = list(set(columns_to_drop))\n",
    "\n",
    "# print(len(columns_to_drop))"
   ]
  },
  {
   "cell_type": "code",
   "execution_count": 35,
   "metadata": {},
   "outputs": [
    {
     "name": "stdout",
     "output_type": "stream",
     "text": [
      "26\n"
     ]
    }
   ],
   "source": [
    "import seaborn as sns\n",
    "corr_matrix = X_train.corr()\n",
    "\n",
    "# Get the column names of the DataFrame\n",
    "columns = corr_matrix.columns\n",
    "\n",
    "# Create an empty list to keep track of columns to drop\n",
    "columns_to_drop = []\n",
    "# Create a dictionary to store highly correlated features\n",
    "highly_correlated_features = {}\n",
    "\n",
    "# Loop over the columns\n",
    "for i in range(len(columns)):\n",
    "    for j in range(0, len(columns)):\n",
    "        # Access the cell of the DataFrame\n",
    "        if i != j and corr_matrix.iloc[i, j] > 0.90:\n",
    "            # Add the column to drop\n",
    "            columns_to_drop.append(columns[j])\n",
    "            # Update the dictionary with highly correlated features\n",
    "            if columns[i] in highly_correlated_features:\n",
    "                highly_correlated_features[columns[i]].append((columns[j], corr_matrix.iloc[i, j].round(4)))\n",
    "            else:\n",
    "                highly_correlated_features[columns[i]] = [(columns[j], corr_matrix.iloc[i, j].round(4))]\n",
    "\n",
    "\n",
    "print(len(columns_to_drop))"
   ]
  },
  {
   "cell_type": "code",
   "execution_count": 36,
   "metadata": {},
   "outputs": [
    {
     "name": "stdout",
     "output_type": "stream",
     "text": [
      "['stl4_8', 'stl4_7', 'stl4_9', 'stl4_8', 'stl4_10', 'stl4_9', 'swvl2_7', 'rh_7', 'swvl2_8', 'rh_8', 'swvl2_9', 'rh_9', 'swvl2_10', 'swvl1_7', 'rh_7', 'swvl1_8', 'swvl3_8', 'swvl1_9', 'swvl1_10', 'swvl2_8', 'swvl4_10', 'swvl4_9', 'swvl1_7', 'swvl2_7', 'swvl1_8', 'swvl1_9']\n"
     ]
    }
   ],
   "source": [
    "print(columns_to_drop)"
   ]
  },
  {
   "cell_type": "code",
   "execution_count": 37,
   "metadata": {},
   "outputs": [
    {
     "name": "stdout",
     "output_type": "stream",
     "text": [
      "Highly correlated features:\n",
      "stl4_7 : [('stl4_8', 0.956)]\n",
      "stl4_8 : [('stl4_7', 0.956), ('stl4_9', 0.962)]\n",
      "stl4_9 : [('stl4_8', 0.962), ('stl4_10', 0.903)]\n",
      "stl4_10 : [('stl4_9', 0.903)]\n",
      "swvl1_7 : [('swvl2_7', 0.9789), ('rh_7', 0.9468)]\n",
      "swvl1_8 : [('swvl2_8', 0.9678), ('rh_8', 0.9057)]\n",
      "swvl1_9 : [('swvl2_9', 0.9897), ('rh_9', 0.9081)]\n",
      "swvl1_10 : [('swvl2_10', 0.972)]\n",
      "swvl2_7 : [('swvl1_7', 0.9789), ('rh_7', 0.9031)]\n",
      "swvl2_8 : [('swvl1_8', 0.9678), ('swvl3_8', 0.9001)]\n",
      "swvl2_9 : [('swvl1_9', 0.9897)]\n",
      "swvl2_10 : [('swvl1_10', 0.972)]\n",
      "swvl3_8 : [('swvl2_8', 0.9001)]\n",
      "swvl4_9 : [('swvl4_10', 0.9681)]\n",
      "swvl4_10 : [('swvl4_9', 0.9681)]\n",
      "rh_7 : [('swvl1_7', 0.9468), ('swvl2_7', 0.9031)]\n",
      "rh_8 : [('swvl1_8', 0.9057)]\n",
      "rh_9 : [('swvl1_9', 0.9081)]\n"
     ]
    }
   ],
   "source": [
    "print(\"Highly correlated features:\")\n",
    "for key, value in highly_correlated_features.items():\n",
    "    print(key, \":\", value)"
   ]
  },
  {
   "cell_type": "code",
   "execution_count": 38,
   "metadata": {},
   "outputs": [
    {
     "ename": "NameError",
     "evalue": "name 'stop' is not defined",
     "output_type": "error",
     "traceback": [
      "\u001b[1;31m---------------------------------------------------------------------------\u001b[0m",
      "\u001b[1;31mNameError\u001b[0m                                 Traceback (most recent call last)",
      "Cell \u001b[1;32mIn[38], line 1\u001b[0m\n\u001b[1;32m----> 1\u001b[0m \u001b[43mstop\u001b[49m\n",
      "\u001b[1;31mNameError\u001b[0m: name 'stop' is not defined"
     ]
    }
   ],
   "source": [
    "stop"
   ]
  },
  {
   "cell_type": "code",
   "execution_count": null,
   "metadata": {},
   "outputs": [],
   "source": [
    "import time\n",
    "def print_accuracy(f):\n",
    "    print(\n",
    "        f\"Root mean squared test error = {np.sqrt(np.mean((f(X_test) - y_test) ** 2))}\"\n",
    "    )\n",
    "    time.sleep(0.5)  # to let the print get out before any progress bars"
   ]
  },
  {
   "cell_type": "code",
   "execution_count": null,
   "metadata": {},
   "outputs": [],
   "source": [
    "from sklearn.ensemble import RandomForestRegressor\n",
    "\n",
    "rforest = RandomForestRegressor(\n",
    "    n_estimators=1000, max_depth=None, min_samples_split=2, random_state=0\n",
    ")\n",
    "rforest.fit(X_train, y_train)\n",
    "print_accuracy(rforest.predict)"
   ]
  },
  {
   "cell_type": "code",
   "execution_count": null,
   "metadata": {},
   "outputs": [],
   "source": [
    "y_pred = rforest.predict(X_test)\n",
    "mse = mean_squared_error(y_test, y_pred)\n",
    "r2 = r2_score(y_test, y_pred)\n",
    "print(mse,r2)"
   ]
  },
  {
   "cell_type": "code",
   "execution_count": null,
   "metadata": {},
   "outputs": [],
   "source": [
    "#pip install shap"
   ]
  },
  {
   "cell_type": "code",
   "execution_count": null,
   "metadata": {},
   "outputs": [],
   "source": [
    "stop"
   ]
  },
  {
   "cell_type": "code",
   "execution_count": null,
   "metadata": {},
   "outputs": [],
   "source": [
    "columns_to_drop = set(columns_to_drop)\n",
    "print(columns_to_drop)"
   ]
  },
  {
   "cell_type": "code",
   "execution_count": null,
   "metadata": {},
   "outputs": [],
   "source": [
    "len(columns_to_drop)"
   ]
  },
  {
   "cell_type": "code",
   "execution_count": null,
   "metadata": {},
   "outputs": [],
   "source": [
    "X_train.drop(columns = columns_to_drop, axis = 1, inplace=True)\n",
    "X_test.drop(columns = columns_to_drop, axis = 1, inplace=True)"
   ]
  },
  {
   "cell_type": "code",
   "execution_count": null,
   "metadata": {},
   "outputs": [],
   "source": [
    "from sklearn.model_selection import train_test_split\n",
    "from sklearn.linear_model import LinearRegression\n",
    "from sklearn.metrics import mean_squared_error, r2_score"
   ]
  },
  {
   "cell_type": "code",
   "execution_count": null,
   "metadata": {},
   "outputs": [],
   "source": [
    "# Import necessary libraries\n",
    "import numpy as np\n",
    "import pandas as pd\n",
    "from sklearn.model_selection import train_test_split\n",
    "from sklearn.linear_model import LinearRegression, Ridge, Lasso\n",
    "from sklearn.tree import DecisionTreeRegressor\n",
    "from sklearn.ensemble import RandomForestRegressor, GradientBoostingRegressor\n",
    "from sklearn.svm import SVR\n",
    "from sklearn.metrics import mean_squared_error, r2_score\n",
    "from sklearn.model_selection import KFold\n",
    "\n",
    "\n",
    "# Create KFold object\n",
    "k = 5\n",
    "kfold = KFold(n_splits=k, shuffle=True)\n",
    "\n",
    "\n",
    "# Models\n",
    "models = {\n",
    "    \"Linear Regression\": LinearRegression(),\n",
    "    \"Ridge Regression\": Ridge(),\n",
    "    \"Lasso Regression\": Lasso(),\n",
    "    \"Decision Tree\": DecisionTreeRegressor(),\n",
    "    \"Gradient Boosting\": GradientBoostingRegressor(),\n",
    "    \"Random Forest\": RandomForestRegressor(),\n",
    "    \"Support Vector Machine\": SVR()\n",
    "}\n",
    "\n",
    "# Train and evaluate each model\n",
    "for name, model in models.items():\n",
    "    mse_scores = []\n",
    "    r2_scores = []\n",
    "\n",
    "    for train_index, test_index in kfold.split(X):\n",
    "        X_train, X_test = X[train_index], X[test_index]\n",
    "        y_train, y_test = y[train_index], y[test_index]\n",
    "    model.fit(X_train, y_train)\n",
    "    y_pred = model.predict(X_test)\n",
    "    mse = mean_squared_error(y_test, y_pred)\n",
    "    r2 = r2_score(y_test, y_pred)\n",
    "    print(f'{name} - Mean Squared Error: {mse:.2f}, R^2 Score: {r2:.2f}')\n"
   ]
  },
  {
   "cell_type": "code",
   "execution_count": null,
   "metadata": {},
   "outputs": [],
   "source": [
    "import xarray\n",
    "data = xarray.open_dataset(r\"C:\\Users\\Kanishk Goyal\\OneDrive - IIT Kanpur\\Desktop\\Prof. Hamim Zafar\\Data\\Relative humidity\\1month_mean_Global_ea_r2_199703_v02.grib\", engine='cfgrib')\n",
    "data.to_netcdf(r\"C:\\Users\\Kanishk Goyal\\OneDrive - IIT Kanpur\\Desktop\\Prof. Hamim Zafar\\Data\\Relative humidity\\1month_mean_Global_ea_r2_199703_v02.nc\")"
   ]
  },
  {
   "cell_type": "code",
   "execution_count": null,
   "metadata": {},
   "outputs": [],
   "source": []
  }
 ],
 "metadata": {
  "kernelspec": {
   "display_name": "Python 3",
   "language": "python",
   "name": "python3"
  },
  "language_info": {
   "codemirror_mode": {
    "name": "ipython",
    "version": 3
   },
   "file_extension": ".py",
   "mimetype": "text/x-python",
   "name": "python",
   "nbconvert_exporter": "python",
   "pygments_lexer": "ipython3",
   "version": "3.11.4"
  }
 },
 "nbformat": 4,
 "nbformat_minor": 2
}
