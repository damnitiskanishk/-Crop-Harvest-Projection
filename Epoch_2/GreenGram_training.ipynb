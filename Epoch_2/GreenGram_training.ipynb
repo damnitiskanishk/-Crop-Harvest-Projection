{
 "cells": [
  {
   "cell_type": "code",
   "execution_count": null,
   "metadata": {},
   "outputs": [],
   "source": [
    "import numpy as np \n",
    "import pandas as pd"
   ]
  },
  {
   "cell_type": "code",
   "execution_count": null,
   "metadata": {},
   "outputs": [],
   "source": [
    "df = pd.read_csv(r\"C:\\Users\\Kanishk Goyal\\OneDrive - IIT Kanpur\\Desktop\\Prof. Hamim Zafar\\Data\\Final Data\\Chickpea_final_u.csv\")"
   ]
  },
  {
   "cell_type": "code",
   "execution_count": null,
   "metadata": {},
   "outputs": [],
   "source": [
    "df = df.drop(columns=['Unnamed: 0'])"
   ]
  },
  {
   "cell_type": "code",
   "execution_count": null,
   "metadata": {},
   "outputs": [],
   "source": [
    "print(df.columns)"
   ]
  },
  {
   "cell_type": "code",
   "execution_count": null,
   "metadata": {},
   "outputs": [],
   "source": [
    "for i in range(1, 5):\n",
    "    df[f'stl{i}'] = df[[f'stl{i}_{j}' for j in range(1, 5)] + [f'stl{i}_{j}' for j in [11, 12]]].mean(axis=1)\n",
    "\n",
    "for i in range(1, 5):\n",
    "    df[f'swvl{i}'] = df[[f'swvl{i}_{j}' for j in range(1, 5)] + [f'swvl{i}_{j}' for j in [11, 12]]].mean(axis=1)\n",
    "\n",
    "df['u10'] = (df['u10_1'] + df['u10_2'] + df['u10_3'] + df['u10_4'] +df['u10_11'] + df['u10_12'])/6\n",
    "df['v10'] = (df['v10_1'] + df['v10_2'] + df['v10_3'] + df['v10_4'] +df['v10_11'] + df['v10_12'])/6\n",
    "df['ssr'] = (df['ssr_1'] + df['ssr_2'] + df['ssr_3'] + df['ssr_4'] +df['ssr_11'] + df['ssr_12'])/6\n",
    "df['rh'] = (df['rh_1'] + df['rh_2'] + df['rh_3'] + df['rh_4'] +df['rh_11'] + df['rh_12'])/6\n",
    "\n",
    "df['rain'] = (df['rain_1'] + df['rain_2'] + df['rain_3'] + df['rain_4'] +df['rain_11'] + df['rain_12'])/6\n",
    "df['tmax'] = (df['tmax_1'] + df['tmax_2'] + df['tmax_3'] + df['tmax_4'] +df['tmax_11'] + df['tmax_12'])/6\n",
    "df['tmin'] = (df['tmin_1'] + df['tmin_2'] + df['tmin_3'] + df['tmin_4'] +df['tmin_11'] + df['tmin_12'])/6\n",
    "df['countrain'] = df['countrain_1'] + df['countrain_2'] + df['countrain_3'] + df['countrain_4'] + df['countrain_11'] + df['countrain_12']"
   ]
  },
  {
   "cell_type": "code",
   "execution_count": null,
   "metadata": {},
   "outputs": [],
   "source": [
    "df"
   ]
  },
  {
   "cell_type": "code",
   "execution_count": null,
   "metadata": {},
   "outputs": [],
   "source": [
    "columns=['stl1','stl2','stl3','stl4','swvl1','swvl2','swvl3','swvl4','ssr','rh','u10','v10','rain','tmax','tmin','countrain','year','DistrictName','Yield(tonnes/hectare)']\n",
    "df = df[columns]"
   ]
  },
  {
   "cell_type": "code",
   "execution_count": null,
   "metadata": {},
   "outputs": [],
   "source": [
    "df"
   ]
  },
  {
   "cell_type": "code",
   "execution_count": null,
   "metadata": {},
   "outputs": [],
   "source": [
    "# df = df.rename(columns={'Yield(tonnes/hectare)':'Yield(Tonnes/Hectare)'},inplace=True)"
   ]
  },
  {
   "cell_type": "code",
   "execution_count": null,
   "metadata": {},
   "outputs": [],
   "source": [
    "df"
   ]
  },
  {
   "cell_type": "code",
   "execution_count": null,
   "metadata": {},
   "outputs": [],
   "source": [
    "# df = df.sample(frac=1).reset_index(drop=True)\n",
    "df = df.dropna(subset=['Yield(tonnes/hectare)'])"
   ]
  },
  {
   "cell_type": "code",
   "execution_count": null,
   "metadata": {},
   "outputs": [],
   "source": [
    "df['Yield(tonnes/hectare)'].skew()"
   ]
  },
  {
   "cell_type": "code",
   "execution_count": null,
   "metadata": {},
   "outputs": [],
   "source": [
    "df"
   ]
  },
  {
   "cell_type": "code",
   "execution_count": null,
   "metadata": {},
   "outputs": [],
   "source": [
    "df['stl1'] = (df['stl1_1'] + df['stl1_2'] + df['stl1_3'] + df['stl1_4'] + df['stl1_11'] + df['stl1_12'])/6\n",
    "df['stl2'] = (df['stl2_1'] + df['stl2_2'] + df['stl2_3'] + df['stl2_4'] + df['stl2_11'] + df['stl2_12'])/6\n",
    "df['stl3'] = (df['stl3_1'] + df['stl3_2'] + df['stl3_3'] + df['stl3_4'] + df['stl3_11'] + df['stl3_12'])/6\n",
    "df['stl4'] = (df['stl4_1'] + df['stl4_2'] + df['stl4_3'] + df['stl4_4'] + df['stl4_11'] + df['stl4_12'])/6\n"
   ]
  },
  {
   "cell_type": "code",
   "execution_count": null,
   "metadata": {},
   "outputs": [],
   "source": [
    "df"
   ]
  },
  {
   "cell_type": "code",
   "execution_count": null,
   "metadata": {},
   "outputs": [],
   "source": []
  }
 ],
 "metadata": {
  "kernelspec": {
   "display_name": "Python 3",
   "language": "python",
   "name": "python3"
  },
  "language_info": {
   "codemirror_mode": {
    "name": "ipython",
    "version": 3
   },
   "file_extension": ".py",
   "mimetype": "text/x-python",
   "name": "python",
   "nbconvert_exporter": "python",
   "pygments_lexer": "ipython3",
   "version": "3.11.4"
  }
 },
 "nbformat": 4,
 "nbformat_minor": 2
}
