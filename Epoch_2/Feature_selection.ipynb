{
 "cells": [
  {
   "cell_type": "code",
   "execution_count": 1,
   "metadata": {},
   "outputs": [],
   "source": [
    "import numpy as np \n",
    "import pandas as pd\n",
    "import seaborn as sns\n",
    "import matplotlib.pyplot as plt\n",
    "from sklearn.preprocessing import LabelEncoder\n",
    "from sklearn.model_selection import train_test_split\n",
    "from sklearn.linear_model import LinearRegression\n",
    "from sklearn.metrics import mean_squared_error, r2_score\n",
    "import seaborn as sns"
   ]
  },
  {
   "cell_type": "code",
   "execution_count": 2,
   "metadata": {},
   "outputs": [],
   "source": [
    "df = pd.read_csv(r\"C:\\Users\\Kanishk Goyal\\OneDrive - IIT Kanpur\\Desktop\\Prof. Hamim Zafar\\Data\\Final Data\\greengram_u_97-19_u.csv\")\n",
    "df = df.drop(columns=['latitude','longitude'])\n",
    "df = df.sample(frac=1).reset_index(drop=True)\n",
    "#df = df.drop(columns=['DistrictName','latitude','longitude','year','year_mask'])"
   ]
  },
  {
   "cell_type": "code",
   "execution_count": 3,
   "metadata": {},
   "outputs": [
    {
     "data": {
      "text/plain": [
       "Index(['year', 'stl1_1', 'stl1_2', 'stl2_1', 'stl2_2', 'stl3_1', 'stl3_2',\n",
       "       'stl4_1', 'stl4_2', 'swvl1_1', 'swvl1_2', 'swvl2_1', 'swvl2_2',\n",
       "       'swvl3_1', 'swvl3_2', 'swvl4_1', 'swvl4_2', 'ssr_1', 'ssr_2',\n",
       "       'DistrictName', 'Yield(Tonnes/Hectare)', 'rain_1', 'rain_2', 'tmax_1',\n",
       "       'tmax_2', 'tmin_1', 'tmin_2', 'countrain_1', 'countrain_2', 'u10_3',\n",
       "       'u10_4', 'v10_3', 'v10_4', 'rh_3', 'rh_4'],\n",
       "      dtype='object')"
      ]
     },
     "execution_count": 3,
     "metadata": {},
     "output_type": "execute_result"
    }
   ],
   "source": [
    "df.columns"
   ]
  },
  {
   "cell_type": "code",
   "execution_count": 4,
   "metadata": {},
   "outputs": [],
   "source": [
    "df['stl1'] = (df['stl1_1'] + df['stl1_2'])/2\n",
    "df['stl2'] = (df['stl2_1'] + df['stl2_2'])/2\n",
    "df['stl3'] = (df['stl3_1'] + df['stl3_2'])/2\n",
    "df['stl4'] = (df['stl4_1'] + df['stl4_2'])/2\n",
    "df['swvl1'] = (df['swvl1_1'] + df['swvl1_2'])/2\n",
    "df['swvl2'] = (df['swvl2_1'] + df['swvl2_2'])/2\n",
    "df['swvl3'] = (df['swvl3_1'] + df['swvl3_2'])/2\n",
    "df['swvl4'] = (df['swvl4_1'] + df['swvl4_2'])/2\n",
    "df['ssr'] = (df['ssr_1'] + df['ssr_2'])/2\n",
    "df['rain'] = (df['rain_1'] + df['rain_2'])/2\n",
    "df['tmax'] = (df['tmax_1'] + df['tmax_2'])/2\n",
    "df['tmin'] = (df['tmin_1'] + df['tmin_2'])/2\n",
    "df['countrain'] = df['countrain_1'] + df['countrain_2']\n",
    "df['u10'] = (df['u10_3']+df['u10_4'])/2\n",
    "df['v10'] = (df['v10_3']+df['v10_4'])/2\n",
    "df['rh'] = (df['rh_3']+df['rh_4'])/2"
   ]
  },
  {
   "cell_type": "code",
   "execution_count": 5,
   "metadata": {},
   "outputs": [],
   "source": [
    "df = df.drop(columns=['stl1_1','stl1_2','stl2_1','stl2_2','stl3_1','stl3_2','stl4_1','stl4_2','swvl1_1','swvl1_2','swvl2_1','swvl2_2','swvl3_1','swvl3_2','swvl4_1','swvl4_2','ssr_1','ssr_2','rain_1','rain_2','tmax_1','tmax_2','tmin_1','tmin_2','countrain_1','countrain_2','u10_3','u10_4','v10_3','v10_4','rh_3','rh_4'],axis=1)"
   ]
  },
  {
   "cell_type": "code",
   "execution_count": 6,
   "metadata": {},
   "outputs": [
    {
     "data": {
      "text/plain": [
       "(1725, 19)"
      ]
     },
     "execution_count": 6,
     "metadata": {},
     "output_type": "execute_result"
    }
   ],
   "source": [
    "df.shape"
   ]
  },
  {
   "cell_type": "code",
   "execution_count": 7,
   "metadata": {},
   "outputs": [
    {
     "data": {
      "text/plain": [
       "Index(['year', 'DistrictName', 'Yield(Tonnes/Hectare)', 'stl1', 'stl2', 'stl3',\n",
       "       'stl4', 'swvl1', 'swvl2', 'swvl3', 'swvl4', 'ssr', 'rain', 'tmax',\n",
       "       'tmin', 'countrain', 'u10', 'v10', 'rh'],\n",
       "      dtype='object')"
      ]
     },
     "execution_count": 7,
     "metadata": {},
     "output_type": "execute_result"
    }
   ],
   "source": [
    "df.columns"
   ]
  },
  {
   "cell_type": "code",
   "execution_count": 8,
   "metadata": {},
   "outputs": [],
   "source": [
    "df = df.dropna(subset=['Yield(Tonnes/Hectare)'])"
   ]
  },
  {
   "cell_type": "code",
   "execution_count": 9,
   "metadata": {},
   "outputs": [
    {
     "data": {
      "text/plain": [
       "(1146, 19)"
      ]
     },
     "execution_count": 9,
     "metadata": {},
     "output_type": "execute_result"
    }
   ],
   "source": [
    "df.shape"
   ]
  },
  {
   "cell_type": "code",
   "execution_count": 10,
   "metadata": {},
   "outputs": [
    {
     "data": {
      "text/plain": [
       "0.3199291246223679"
      ]
     },
     "execution_count": 10,
     "metadata": {},
     "output_type": "execute_result"
    }
   ],
   "source": [
    "df['Yield(Tonnes/Hectare)'].skew()"
   ]
  },
  {
   "cell_type": "code",
   "execution_count": 11,
   "metadata": {},
   "outputs": [
    {
     "name": "stderr",
     "output_type": "stream",
     "text": [
      "C:\\Users\\Kanishk Goyal\\AppData\\Local\\Temp\\ipykernel_9936\\994257175.py:1: UserWarning: \n",
      "\n",
      "`distplot` is a deprecated function and will be removed in seaborn v0.14.0.\n",
      "\n",
      "Please adapt your code to use either `displot` (a figure-level function with\n",
      "similar flexibility) or `histplot` (an axes-level function for histograms).\n",
      "\n",
      "For a guide to updating your code to use the new functions, please see\n",
      "https://gist.github.com/mwaskom/de44147ed2974457ad6372750bbe5751\n",
      "\n",
      "  sns.distplot(df['Yield(Tonnes/Hectare)'],color='green')\n"
     ]
    },
    {
     "data": {
      "text/plain": [
       "<Axes: xlabel='Yield(Tonnes/Hectare)', ylabel='Density'>"
      ]
     },
     "execution_count": 11,
     "metadata": {},
     "output_type": "execute_result"
    },
    {
     "data": {
      "image/png": "[encoded data removed]",
      "text/plain": [
       "<Figure size 640x480 with 1 Axes>"
      ]
     },
     "metadata": {},
     "output_type": "display_data"
    }
   ],
   "source": [
    "sns.distplot(df['Yield(Tonnes/Hectare)'],color='green')"
   ]
  },
  {
   "cell_type": "code",
   "execution_count": 12,
   "metadata": {},
   "outputs": [
    {
     "data": {
      "text/plain": [
       "0       0.32\n",
       "1       1.00\n",
       "2       0.77\n",
       "3       0.72\n",
       "5       0.25\n",
       "        ... \n",
       "1716    0.81\n",
       "1717    0.56\n",
       "1718    0.43\n",
       "1719    0.54\n",
       "1723    0.59\n",
       "Name: Yield(Tonnes/Hectare), Length: 1146, dtype: float64"
      ]
     },
     "execution_count": 12,
     "metadata": {},
     "output_type": "execute_result"
    }
   ],
   "source": [
    "df['Yield(Tonnes/Hectare)']"
   ]
  },
  {
   "cell_type": "code",
   "execution_count": 13,
   "metadata": {},
   "outputs": [
    {
     "name": "stdout",
     "output_type": "stream",
     "text": [
      "Number of points in the final DataFrame after handling outliers: 1130\n"
     ]
    }
   ],
   "source": [
    "Q1 = df['Yield(Tonnes/Hectare)'].quantile(0.25)\n",
    "Q3 = df['Yield(Tonnes/Hectare)'].quantile(0.75)\n",
    "IQR = Q3 - Q1\n",
    "\n",
    "lower_bound = Q1 - 1.5 * IQR\n",
    "upper_bound = Q3 + 1.5 * IQR\n",
    "\n",
    "df['Yield_no_outliers'] = np.where((df['Yield(Tonnes/Hectare)'] < lower_bound) | (df['Yield(Tonnes/Hectare)'] > upper_bound), np.nan, df['Yield(Tonnes/Hectare)'])\n",
    "\n",
    "num_points_after_handling_outliers = df['Yield_no_outliers'].count()\n",
    "print(\"Number of points in the final DataFrame after handling outliers:\", num_points_after_handling_outliers)"
   ]
  },
  {
   "cell_type": "code",
   "execution_count": 14,
   "metadata": {},
   "outputs": [],
   "source": [
    "df = df.dropna(subset=['Yield_no_outliers'])\n",
    "df = df.drop(columns=['Yield(Tonnes/Hectare)'])"
   ]
  },
  {
   "cell_type": "code",
   "execution_count": 15,
   "metadata": {},
   "outputs": [],
   "source": [
    "df.rename(columns={'Yield_no_outliers': 'Yield(Tonnes/Hectare)'}, inplace=True)"
   ]
  },
  {
   "cell_type": "code",
   "execution_count": 16,
   "metadata": {},
   "outputs": [
    {
     "data": {
      "text/plain": [
       "0.13829048647906614"
      ]
     },
     "execution_count": 16,
     "metadata": {},
     "output_type": "execute_result"
    }
   ],
   "source": [
    "df['Yield(Tonnes/Hectare)'].skew()"
   ]
  },
  {
   "cell_type": "code",
   "execution_count": 17,
   "metadata": {},
   "outputs": [
    {
     "name": "stderr",
     "output_type": "stream",
     "text": [
      "C:\\Users\\Kanishk Goyal\\AppData\\Local\\Temp\\ipykernel_9936\\1820324139.py:1: UserWarning: \n",
      "\n",
      "`distplot` is a deprecated function and will be removed in seaborn v0.14.0.\n",
      "\n",
      "Please adapt your code to use either `displot` (a figure-level function with\n",
      "similar flexibility) or `histplot` (an axes-level function for histograms).\n",
      "\n",
      "For a guide to updating your code to use the new functions, please see\n",
      "https://gist.github.com/mwaskom/de44147ed2974457ad6372750bbe5751\n",
      "\n",
      "  sns.distplot(df['Yield(Tonnes/Hectare)'])\n"
     ]
    },
    {
     "data": {
      "text/plain": [
       "<Axes: xlabel='Yield(Tonnes/Hectare)', ylabel='Density'>"
      ]
     },
     "execution_count": 17,
     "metadata": {},
     "output_type": "execute_result"
    },
    {
     "data": {
      "image/png": "[encoded data removed]",
      "text/plain": [
       "<Figure size 640x480 with 1 Axes>"
      ]
     },
     "metadata": {},
     "output_type": "display_data"
    }
   ],
   "source": [
    "sns.distplot(df['Yield(Tonnes/Hectare)'])"
   ]
  },
  {
   "cell_type": "code",
   "execution_count": 18,
   "metadata": {},
   "outputs": [
    {
     "data": {
      "text/html": [
       "<div>\n",
       "<style scoped>\n",
       "    .dataframe tbody tr th:only-of-type {\n",
       "        vertical-align: middle;\n",
       "    }\n",
       "\n",
       "    .dataframe tbody tr th {\n",
       "        vertical-align: top;\n",
       "    }\n",
       "\n",
       "    .dataframe thead th {\n",
       "        text-align: right;\n",
       "    }\n",
       "</style>\n",
       "<table border=\"1\" class=\"dataframe\">\n",
       "  <thead>\n",
       "    <tr style=\"text-align: right;\">\n",
       "      <th></th>\n",
       "      <th>year</th>\n",
       "      <th>DistrictName</th>\n",
       "      <th>stl1</th>\n",
       "      <th>stl2</th>\n",
       "      <th>stl3</th>\n",
       "      <th>stl4</th>\n",
       "      <th>swvl1</th>\n",
       "      <th>swvl2</th>\n",
       "      <th>swvl3</th>\n",
       "      <th>swvl4</th>\n",
       "      <th>ssr</th>\n",
       "      <th>rain</th>\n",
       "      <th>tmax</th>\n",
       "      <th>tmin</th>\n",
       "      <th>countrain</th>\n",
       "      <th>u10</th>\n",
       "      <th>v10</th>\n",
       "      <th>rh</th>\n",
       "      <th>Yield(Tonnes/Hectare)</th>\n",
       "    </tr>\n",
       "  </thead>\n",
       "  <tbody>\n",
       "    <tr>\n",
       "      <th>0</th>\n",
       "      <td>2012</td>\n",
       "      <td>kheri</td>\n",
       "      <td>28.398829</td>\n",
       "      <td>27.451112</td>\n",
       "      <td>24.952011</td>\n",
       "      <td>22.013855</td>\n",
       "      <td>0.151019</td>\n",
       "      <td>0.153621</td>\n",
       "      <td>0.181914</td>\n",
       "      <td>0.325734</td>\n",
       "      <td>1.933426e+07</td>\n",
       "      <td>0.144828</td>\n",
       "      <td>33.141621</td>\n",
       "      <td>17.012993</td>\n",
       "      <td>1</td>\n",
       "      <td>1.299402</td>\n",
       "      <td>-0.569527</td>\n",
       "      <td>37.186320</td>\n",
       "      <td>0.32</td>\n",
       "    </tr>\n",
       "    <tr>\n",
       "      <th>1</th>\n",
       "      <td>2014</td>\n",
       "      <td>jyotibaphulenagar</td>\n",
       "      <td>25.240084</td>\n",
       "      <td>24.342555</td>\n",
       "      <td>22.151339</td>\n",
       "      <td>19.968749</td>\n",
       "      <td>0.197745</td>\n",
       "      <td>0.209722</td>\n",
       "      <td>0.220513</td>\n",
       "      <td>0.337776</td>\n",
       "      <td>1.860938e+07</td>\n",
       "      <td>1.135048</td>\n",
       "      <td>30.843353</td>\n",
       "      <td>15.579375</td>\n",
       "      <td>5</td>\n",
       "      <td>1.793053</td>\n",
       "      <td>-1.578814</td>\n",
       "      <td>46.772956</td>\n",
       "      <td>1.00</td>\n",
       "    </tr>\n",
       "    <tr>\n",
       "      <th>2</th>\n",
       "      <td>1998</td>\n",
       "      <td>saharanpur</td>\n",
       "      <td>22.267068</td>\n",
       "      <td>21.626100</td>\n",
       "      <td>19.939407</td>\n",
       "      <td>18.041836</td>\n",
       "      <td>0.287275</td>\n",
       "      <td>0.291799</td>\n",
       "      <td>0.275246</td>\n",
       "      <td>0.342021</td>\n",
       "      <td>1.809287e+07</td>\n",
       "      <td>2.875930</td>\n",
       "      <td>27.862660</td>\n",
       "      <td>14.644028</td>\n",
       "      <td>7</td>\n",
       "      <td>0.571006</td>\n",
       "      <td>-0.810601</td>\n",
       "      <td>56.351748</td>\n",
       "      <td>0.77</td>\n",
       "    </tr>\n",
       "    <tr>\n",
       "      <th>3</th>\n",
       "      <td>2018</td>\n",
       "      <td>meerut</td>\n",
       "      <td>27.801309</td>\n",
       "      <td>26.914850</td>\n",
       "      <td>24.504408</td>\n",
       "      <td>21.578541</td>\n",
       "      <td>0.163835</td>\n",
       "      <td>0.155302</td>\n",
       "      <td>0.179679</td>\n",
       "      <td>0.290538</td>\n",
       "      <td>1.925049e+07</td>\n",
       "      <td>0.337757</td>\n",
       "      <td>33.367736</td>\n",
       "      <td>17.109980</td>\n",
       "      <td>4</td>\n",
       "      <td>0.749114</td>\n",
       "      <td>-0.696064</td>\n",
       "      <td>41.471285</td>\n",
       "      <td>0.72</td>\n",
       "    </tr>\n",
       "    <tr>\n",
       "      <th>5</th>\n",
       "      <td>1997</td>\n",
       "      <td>mathura</td>\n",
       "      <td>27.094495</td>\n",
       "      <td>26.189944</td>\n",
       "      <td>23.790681</td>\n",
       "      <td>21.146273</td>\n",
       "      <td>0.160933</td>\n",
       "      <td>0.158444</td>\n",
       "      <td>0.178104</td>\n",
       "      <td>0.323346</td>\n",
       "      <td>1.800688e+07</td>\n",
       "      <td>0.232303</td>\n",
       "      <td>32.728883</td>\n",
       "      <td>17.499704</td>\n",
       "      <td>2</td>\n",
       "      <td>0.797930</td>\n",
       "      <td>-0.732096</td>\n",
       "      <td>42.257121</td>\n",
       "      <td>0.25</td>\n",
       "    </tr>\n",
       "    <tr>\n",
       "      <th>6</th>\n",
       "      <td>2016</td>\n",
       "      <td>mahamayanagar</td>\n",
       "      <td>30.442643</td>\n",
       "      <td>29.527653</td>\n",
       "      <td>26.999594</td>\n",
       "      <td>23.969578</td>\n",
       "      <td>0.155514</td>\n",
       "      <td>0.153349</td>\n",
       "      <td>0.156513</td>\n",
       "      <td>0.233155</td>\n",
       "      <td>1.865574e+07</td>\n",
       "      <td>0.353798</td>\n",
       "      <td>36.785220</td>\n",
       "      <td>19.973871</td>\n",
       "      <td>1</td>\n",
       "      <td>1.124364</td>\n",
       "      <td>-1.232524</td>\n",
       "      <td>37.183489</td>\n",
       "      <td>0.50</td>\n",
       "    </tr>\n",
       "    <tr>\n",
       "      <th>7</th>\n",
       "      <td>2002</td>\n",
       "      <td>santkabirnagar</td>\n",
       "      <td>29.648231</td>\n",
       "      <td>28.649014</td>\n",
       "      <td>25.998089</td>\n",
       "      <td>22.767265</td>\n",
       "      <td>0.155681</td>\n",
       "      <td>0.154894</td>\n",
       "      <td>0.183590</td>\n",
       "      <td>0.330162</td>\n",
       "      <td>1.894452e+07</td>\n",
       "      <td>0.100547</td>\n",
       "      <td>35.280675</td>\n",
       "      <td>19.120142</td>\n",
       "      <td>1</td>\n",
       "      <td>-0.324569</td>\n",
       "      <td>-0.290706</td>\n",
       "      <td>40.757084</td>\n",
       "      <td>0.50</td>\n",
       "    </tr>\n",
       "    <tr>\n",
       "      <th>8</th>\n",
       "      <td>1999</td>\n",
       "      <td>raebareli</td>\n",
       "      <td>30.930747</td>\n",
       "      <td>29.791518</td>\n",
       "      <td>26.846638</td>\n",
       "      <td>23.303329</td>\n",
       "      <td>0.137738</td>\n",
       "      <td>0.151236</td>\n",
       "      <td>0.177020</td>\n",
       "      <td>0.323860</td>\n",
       "      <td>2.025730e+07</td>\n",
       "      <td>0.000000</td>\n",
       "      <td>37.524159</td>\n",
       "      <td>19.016457</td>\n",
       "      <td>0</td>\n",
       "      <td>2.387652</td>\n",
       "      <td>-1.016668</td>\n",
       "      <td>28.454349</td>\n",
       "      <td>0.74</td>\n",
       "    </tr>\n",
       "    <tr>\n",
       "      <th>9</th>\n",
       "      <td>2017</td>\n",
       "      <td>aligarh</td>\n",
       "      <td>28.886303</td>\n",
       "      <td>27.906808</td>\n",
       "      <td>25.281640</td>\n",
       "      <td>22.507230</td>\n",
       "      <td>0.156088</td>\n",
       "      <td>0.155765</td>\n",
       "      <td>0.167646</td>\n",
       "      <td>0.272770</td>\n",
       "      <td>1.922036e+07</td>\n",
       "      <td>0.512051</td>\n",
       "      <td>35.730240</td>\n",
       "      <td>18.481871</td>\n",
       "      <td>3</td>\n",
       "      <td>1.053260</td>\n",
       "      <td>-0.935332</td>\n",
       "      <td>38.311820</td>\n",
       "      <td>0.54</td>\n",
       "    </tr>\n",
       "    <tr>\n",
       "      <th>10</th>\n",
       "      <td>2018</td>\n",
       "      <td>unnao</td>\n",
       "      <td>30.092056</td>\n",
       "      <td>29.151079</td>\n",
       "      <td>26.603952</td>\n",
       "      <td>23.455053</td>\n",
       "      <td>0.148653</td>\n",
       "      <td>0.151563</td>\n",
       "      <td>0.176800</td>\n",
       "      <td>0.318705</td>\n",
       "      <td>1.903398e+07</td>\n",
       "      <td>0.042629</td>\n",
       "      <td>36.159071</td>\n",
       "      <td>19.086010</td>\n",
       "      <td>0</td>\n",
       "      <td>0.630158</td>\n",
       "      <td>-0.680787</td>\n",
       "      <td>36.600890</td>\n",
       "      <td>1.10</td>\n",
       "    </tr>\n",
       "  </tbody>\n",
       "</table>\n",
       "</div>"
      ],
      "text/plain": [
       "    year       DistrictName       stl1       stl2       stl3       stl4  \\\n",
       "0   2012              kheri  28.398829  27.451112  24.952011  22.013855   \n",
       "1   2014  jyotibaphulenagar  25.240084  24.342555  22.151339  19.968749   \n",
       "2   1998         saharanpur  22.267068  21.626100  19.939407  18.041836   \n",
       "3   2018             meerut  27.801309  26.914850  24.504408  21.578541   \n",
       "5   1997            mathura  27.094495  26.189944  23.790681  21.146273   \n",
       "6   2016      mahamayanagar  30.442643  29.527653  26.999594  23.969578   \n",
       "7   2002     santkabirnagar  29.648231  28.649014  25.998089  22.767265   \n",
       "8   1999          raebareli  30.930747  29.791518  26.846638  23.303329   \n",
       "9   2017            aligarh  28.886303  27.906808  25.281640  22.507230   \n",
       "10  2018              unnao  30.092056  29.151079  26.603952  23.455053   \n",
       "\n",
       "       swvl1     swvl2     swvl3     swvl4           ssr      rain       tmax  \\\n",
       "0   0.151019  0.153621  0.181914  0.325734  1.933426e+07  0.144828  33.141621   \n",
       "1   0.197745  0.209722  0.220513  0.337776  1.860938e+07  1.135048  30.843353   \n",
       "2   0.287275  0.291799  0.275246  0.342021  1.809287e+07  2.875930  27.862660   \n",
       "3   0.163835  0.155302  0.179679  0.290538  1.925049e+07  0.337757  33.367736   \n",
       "5   0.160933  0.158444  0.178104  0.323346  1.800688e+07  0.232303  32.728883   \n",
       "6   0.155514  0.153349  0.156513  0.233155  1.865574e+07  0.353798  36.785220   \n",
       "7   0.155681  0.154894  0.183590  0.330162  1.894452e+07  0.100547  35.280675   \n",
       "8   0.137738  0.151236  0.177020  0.323860  2.025730e+07  0.000000  37.524159   \n",
       "9   0.156088  0.155765  0.167646  0.272770  1.922036e+07  0.512051  35.730240   \n",
       "10  0.148653  0.151563  0.176800  0.318705  1.903398e+07  0.042629  36.159071   \n",
       "\n",
       "         tmin  countrain       u10       v10         rh  Yield(Tonnes/Hectare)  \n",
       "0   17.012993          1  1.299402 -0.569527  37.186320                   0.32  \n",
       "1   15.579375          5  1.793053 -1.578814  46.772956                   1.00  \n",
       "2   14.644028          7  0.571006 -0.810601  56.351748                   0.77  \n",
       "3   17.109980          4  0.749114 -0.696064  41.471285                   0.72  \n",
       "5   17.499704          2  0.797930 -0.732096  42.257121                   0.25  \n",
       "6   19.973871          1  1.124364 -1.232524  37.183489                   0.50  \n",
       "7   19.120142          1 -0.324569 -0.290706  40.757084                   0.50  \n",
       "8   19.016457          0  2.387652 -1.016668  28.454349                   0.74  \n",
       "9   18.481871          3  1.053260 -0.935332  38.311820                   0.54  \n",
       "10  19.086010          0  0.630158 -0.680787  36.600890                   1.10  "
      ]
     },
     "execution_count": 18,
     "metadata": {},
     "output_type": "execute_result"
    }
   ],
   "source": [
    "df.head(10)"
   ]
  },
  {
   "cell_type": "code",
   "execution_count": 19,
   "metadata": {},
   "outputs": [
    {
     "data": {
      "text/plain": [
       "(1130, 19)"
      ]
     },
     "execution_count": 19,
     "metadata": {},
     "output_type": "execute_result"
    }
   ],
   "source": [
    "df.shape"
   ]
  },
  {
   "cell_type": "code",
   "execution_count": 20,
   "metadata": {},
   "outputs": [],
   "source": [
    "cat_cols = ['DistrictName', 'year']\n",
    "# Label encode categorical columns\n",
    "encoder = LabelEncoder()\n",
    "df[cat_cols] = df[cat_cols].apply(encoder.fit_transform)"
   ]
  },
  {
   "cell_type": "code",
   "execution_count": 21,
   "metadata": {},
   "outputs": [
    {
     "data": {
      "text/html": [
       "<div>\n",
       "<style scoped>\n",
       "    .dataframe tbody tr th:only-of-type {\n",
       "        vertical-align: middle;\n",
       "    }\n",
       "\n",
       "    .dataframe tbody tr th {\n",
       "        vertical-align: top;\n",
       "    }\n",
       "\n",
       "    .dataframe thead th {\n",
       "        text-align: right;\n",
       "    }\n",
       "</style>\n",
       "<table border=\"1\" class=\"dataframe\">\n",
       "  <thead>\n",
       "    <tr style=\"text-align: right;\">\n",
       "      <th></th>\n",
       "      <th>year</th>\n",
       "      <th>DistrictName</th>\n",
       "      <th>stl1</th>\n",
       "      <th>stl2</th>\n",
       "      <th>stl3</th>\n",
       "      <th>stl4</th>\n",
       "      <th>swvl1</th>\n",
       "      <th>swvl2</th>\n",
       "      <th>swvl3</th>\n",
       "      <th>swvl4</th>\n",
       "      <th>ssr</th>\n",
       "      <th>rain</th>\n",
       "      <th>tmax</th>\n",
       "      <th>tmin</th>\n",
       "      <th>countrain</th>\n",
       "      <th>u10</th>\n",
       "      <th>v10</th>\n",
       "      <th>rh</th>\n",
       "      <th>Yield(Tonnes/Hectare)</th>\n",
       "    </tr>\n",
       "  </thead>\n",
       "  <tbody>\n",
       "    <tr>\n",
       "      <th>0</th>\n",
       "      <td>10</td>\n",
       "      <td>44</td>\n",
       "      <td>28.398829</td>\n",
       "      <td>27.451112</td>\n",
       "      <td>24.952011</td>\n",
       "      <td>22.013855</td>\n",
       "      <td>0.151019</td>\n",
       "      <td>0.153621</td>\n",
       "      <td>0.181914</td>\n",
       "      <td>0.325734</td>\n",
       "      <td>1.933426e+07</td>\n",
       "      <td>0.144828</td>\n",
       "      <td>33.141621</td>\n",
       "      <td>17.012993</td>\n",
       "      <td>1</td>\n",
       "      <td>1.299402</td>\n",
       "      <td>-0.569527</td>\n",
       "      <td>37.186320</td>\n",
       "      <td>0.32</td>\n",
       "    </tr>\n",
       "    <tr>\n",
       "      <th>1</th>\n",
       "      <td>12</td>\n",
       "      <td>38</td>\n",
       "      <td>25.240084</td>\n",
       "      <td>24.342555</td>\n",
       "      <td>22.151339</td>\n",
       "      <td>19.968749</td>\n",
       "      <td>0.197745</td>\n",
       "      <td>0.209722</td>\n",
       "      <td>0.220513</td>\n",
       "      <td>0.337776</td>\n",
       "      <td>1.860938e+07</td>\n",
       "      <td>1.135048</td>\n",
       "      <td>30.843353</td>\n",
       "      <td>15.579375</td>\n",
       "      <td>5</td>\n",
       "      <td>1.793053</td>\n",
       "      <td>-1.578814</td>\n",
       "      <td>46.772956</td>\n",
       "      <td>1.00</td>\n",
       "    </tr>\n",
       "    <tr>\n",
       "      <th>2</th>\n",
       "      <td>1</td>\n",
       "      <td>62</td>\n",
       "      <td>22.267068</td>\n",
       "      <td>21.626100</td>\n",
       "      <td>19.939407</td>\n",
       "      <td>18.041836</td>\n",
       "      <td>0.287275</td>\n",
       "      <td>0.291799</td>\n",
       "      <td>0.275246</td>\n",
       "      <td>0.342021</td>\n",
       "      <td>1.809287e+07</td>\n",
       "      <td>2.875930</td>\n",
       "      <td>27.862660</td>\n",
       "      <td>14.644028</td>\n",
       "      <td>7</td>\n",
       "      <td>0.571006</td>\n",
       "      <td>-0.810601</td>\n",
       "      <td>56.351748</td>\n",
       "      <td>0.77</td>\n",
       "    </tr>\n",
       "    <tr>\n",
       "      <th>3</th>\n",
       "      <td>16</td>\n",
       "      <td>54</td>\n",
       "      <td>27.801309</td>\n",
       "      <td>26.914850</td>\n",
       "      <td>24.504408</td>\n",
       "      <td>21.578541</td>\n",
       "      <td>0.163835</td>\n",
       "      <td>0.155302</td>\n",
       "      <td>0.179679</td>\n",
       "      <td>0.290538</td>\n",
       "      <td>1.925049e+07</td>\n",
       "      <td>0.337757</td>\n",
       "      <td>33.367736</td>\n",
       "      <td>17.109980</td>\n",
       "      <td>4</td>\n",
       "      <td>0.749114</td>\n",
       "      <td>-0.696064</td>\n",
       "      <td>41.471285</td>\n",
       "      <td>0.72</td>\n",
       "    </tr>\n",
       "    <tr>\n",
       "      <th>5</th>\n",
       "      <td>0</td>\n",
       "      <td>52</td>\n",
       "      <td>27.094495</td>\n",
       "      <td>26.189944</td>\n",
       "      <td>23.790681</td>\n",
       "      <td>21.146273</td>\n",
       "      <td>0.160933</td>\n",
       "      <td>0.158444</td>\n",
       "      <td>0.178104</td>\n",
       "      <td>0.323346</td>\n",
       "      <td>1.800688e+07</td>\n",
       "      <td>0.232303</td>\n",
       "      <td>32.728883</td>\n",
       "      <td>17.499704</td>\n",
       "      <td>2</td>\n",
       "      <td>0.797930</td>\n",
       "      <td>-0.732096</td>\n",
       "      <td>42.257121</td>\n",
       "      <td>0.25</td>\n",
       "    </tr>\n",
       "  </tbody>\n",
       "</table>\n",
       "</div>"
      ],
      "text/plain": [
       "   year  DistrictName       stl1       stl2       stl3       stl4     swvl1  \\\n",
       "0    10            44  28.398829  27.451112  24.952011  22.013855  0.151019   \n",
       "1    12            38  25.240084  24.342555  22.151339  19.968749  0.197745   \n",
       "2     1            62  22.267068  21.626100  19.939407  18.041836  0.287275   \n",
       "3    16            54  27.801309  26.914850  24.504408  21.578541  0.163835   \n",
       "5     0            52  27.094495  26.189944  23.790681  21.146273  0.160933   \n",
       "\n",
       "      swvl2     swvl3     swvl4           ssr      rain       tmax       tmin  \\\n",
       "0  0.153621  0.181914  0.325734  1.933426e+07  0.144828  33.141621  17.012993   \n",
       "1  0.209722  0.220513  0.337776  1.860938e+07  1.135048  30.843353  15.579375   \n",
       "2  0.291799  0.275246  0.342021  1.809287e+07  2.875930  27.862660  14.644028   \n",
       "3  0.155302  0.179679  0.290538  1.925049e+07  0.337757  33.367736  17.109980   \n",
       "5  0.158444  0.178104  0.323346  1.800688e+07  0.232303  32.728883  17.499704   \n",
       "\n",
       "   countrain       u10       v10         rh  Yield(Tonnes/Hectare)  \n",
       "0          1  1.299402 -0.569527  37.186320                   0.32  \n",
       "1          5  1.793053 -1.578814  46.772956                   1.00  \n",
       "2          7  0.571006 -0.810601  56.351748                   0.77  \n",
       "3          4  0.749114 -0.696064  41.471285                   0.72  \n",
       "5          2  0.797930 -0.732096  42.257121                   0.25  "
      ]
     },
     "execution_count": 21,
     "metadata": {},
     "output_type": "execute_result"
    }
   ],
   "source": [
    "df.head()"
   ]
  },
  {
   "cell_type": "code",
   "execution_count": 22,
   "metadata": {},
   "outputs": [
    {
     "data": {
      "text/plain": [
       "(1130, 19)"
      ]
     },
     "execution_count": 22,
     "metadata": {},
     "output_type": "execute_result"
    }
   ],
   "source": [
    "df.shape"
   ]
  },
  {
   "cell_type": "code",
   "execution_count": 23,
   "metadata": {},
   "outputs": [
    {
     "data": {
      "text/plain": [
       "Index(['year', 'DistrictName', 'stl1', 'stl2', 'stl3', 'stl4', 'swvl1',\n",
       "       'swvl2', 'swvl3', 'swvl4', 'ssr', 'rain', 'tmax', 'tmin', 'countrain',\n",
       "       'u10', 'v10', 'rh', 'Yield(Tonnes/Hectare)'],\n",
       "      dtype='object')"
      ]
     },
     "execution_count": 23,
     "metadata": {},
     "output_type": "execute_result"
    }
   ],
   "source": [
    "df.columns"
   ]
  },
  {
   "cell_type": "code",
   "execution_count": null,
   "metadata": {},
   "outputs": [],
   "source": [
    "#df = df[['countrain_11', 'countrain_12', 'countrain_1','countrain_2', 'countrain_3', 'countrain_4', 'rain_11', 'rain_12','rain_1', 'rain_2', 'rain_3', 'rain_4','tmax_11', 'tmax_12', 'tmax_1','tmax_2', 'tmax_3', 'tmax_4', 'tmin_11', 'tmin_12', 'tmin_1', 'tmin_2','tmin_3', 'tmin_4','Yield(Tonnes/Hectare)']]"
   ]
  },
  {
   "cell_type": "code",
   "execution_count": null,
   "metadata": {},
   "outputs": [],
   "source": [
    "#df = df.drop(columns=['countrain_11', 'countrain_12', 'countrain_1','countrain_2', 'countrain_3', 'countrain_4', 'rain_11', 'rain_12','rain_1', 'rain_2', 'rain_3', 'rain_4','tmax_11', 'tmax_12', 'tmax_1','tmax_2', 'tmax_3', 'tmax_4', 'tmin_11', 'tmin_12', 'tmin_1', 'tmin_2','tmin_3', 'tmin_4'])"
   ]
  },
  {
   "cell_type": "code",
   "execution_count": 24,
   "metadata": {},
   "outputs": [
    {
     "data": {
      "text/plain": [
       "(1130, 19)"
      ]
     },
     "execution_count": 24,
     "metadata": {},
     "output_type": "execute_result"
    }
   ],
   "source": [
    "df.shape"
   ]
  },
  {
   "cell_type": "code",
   "execution_count": 25,
   "metadata": {},
   "outputs": [],
   "source": [
    "X = df.drop('Yield(Tonnes/Hectare)', axis=1)  # Features\n",
    "y = df['Yield(Tonnes/Hectare)']  # Target variable\n",
    "\n",
    "# Split the dataset into training and testing sets\n",
    "#X_train, X_test, y_train, y_test = train_test_split(X, y, test_size=0.2, random_state=42)"
   ]
  },
  {
   "cell_type": "code",
   "execution_count": 36,
   "metadata": {},
   "outputs": [],
   "source": [
    "# X = X.drop(columns=['stl2','stl3'],axis=1)"
   ]
  },
  {
   "cell_type": "code",
   "execution_count": 37,
   "metadata": {},
   "outputs": [
    {
     "name": "stdout",
     "output_type": "stream",
     "text": [
      "Linear Regression - R^2 Score (Train) : 0.21, R^2 Score (Test): 0.19\n",
      "[0.14341609537721223, 0.1792960142986787, 0.12533756882621838, 0.17534029879184176, 0.20334213776444754, 0.28147422933380917, 0.20299156204012614, 0.11703485406054381, 0.33499632869123397, 0.1491879513066351]\n",
      "Ridge Regression - R^2 Score (Train) : 0.21, R^2 Score (Test): 0.18\n",
      "[0.2566021405593284, 0.25537428560304154, 0.2324571350539537, 0.23545539418729233, -0.014558601154224471, 0.16618519176032176, 0.16837933083709, 0.18129822473294666, 0.19050471943318126, 0.11000665020411515]\n",
      "XGB Regressor - R^2 Score (Train) : 1.00, R^2 Score (Test): 0.38\n",
      "[0.4245211488565701, 0.34965439500490925, 0.38618439804139715, 0.41235882333603235, 0.3804667132021732, 0.4637530800373134, 0.4163379908155379, 0.34017387815425826, 0.2380831829224468, 0.3789195836856767]\n",
      "Lasso Regression - R^2 Score (Train) : 0.04, R^2 Score (Test): 0.02\n",
      "[-0.0190458780716376, 0.09765038183894115, 0.03273093965640761, 0.07264023967834632, 0.024530683959823274, -0.03281705513596944, 0.056669293639756924, -0.0005087999151851541, 0.007152556246796116, -0.034329311042121224]\n",
      "Decision Tree - R^2 Score (Train) : 1.00, R^2 Score (Test): -0.13\n",
      "[-0.12104300895797127, -0.267264548191698, -0.26254859532738384, 0.1909367765071761, -0.3959802770026011, -0.2581300016314563, -0.11352171714828252, 0.015346545478399642, -0.0555197238459022, -0.0034187100268983084]\n",
      "Gradient Boosting - R^2 Score (Train) : 0.69, R^2 Score (Test): 0.39\n",
      "[0.39259387546374924, 0.38603735742491296, 0.4035313866996051, 0.3459796553385337, 0.2978333434563921, 0.3592491254644642, 0.5276731141673352, 0.38559041060682475, 0.41771191166044686, 0.4266730112298194]\n",
      "Random Forest - R^2 Score (Train) : 0.92, R^2 Score (Test): 0.41\n",
      "[0.3367960210954909, 0.4118227197664076, 0.39536953158943955, 0.43954083794251075, 0.3319986828713678, 0.35194304394674536, 0.5120700147274093, 0.5292142282480078, 0.4762677419966219, 0.2885534283534411]\n",
      "Support Vector Machine - R^2 Score (Train) : 0.04, R^2 Score (Test): 0.03\n",
      "[-0.006327535600016088, 0.02648582420249901, 0.031124374671042898, 0.0472636183726185, 0.08272770338774305, 0.0369217534458528, 0.002871169373172555, 0.015517765961642893, 0.03547307844893288, 0.040804659887944905]\n"
     ]
    }
   ],
   "source": [
    "# Import necessary libraries\n",
    "import numpy as np\n",
    "import pandas as pd\n",
    "from sklearn.model_selection import train_test_split\n",
    "from sklearn.linear_model import LinearRegression, Ridge, Lasso\n",
    "from sklearn.tree import DecisionTreeRegressor\n",
    "from sklearn.ensemble import RandomForestRegressor, GradientBoostingRegressor\n",
    "from sklearn.svm import SVR\n",
    "import xgboost as xgb\n",
    "from sklearn.metrics import mean_squared_error, r2_score\n",
    "from sklearn.model_selection import KFold\n",
    "\n",
    "\n",
    "\n",
    "\n",
    "# Models\n",
    "models = {\n",
    "    \"Linear Regression\": LinearRegression(),\n",
    "    \"Ridge Regression\": Ridge(),\n",
    "    \"XGB Regressor\": xgb.XGBRegressor(objective='reg:squarederror', random_state=42),\n",
    "    \"Lasso Regression\": Lasso(),\n",
    "    \"Decision Tree\": DecisionTreeRegressor(),\n",
    "    \"Gradient Boosting\": GradientBoostingRegressor(),\n",
    "    \"Random Forest\": RandomForestRegressor(),\n",
    "    \"Support Vector Machine\": SVR()\n",
    "}\n",
    "\n",
    "# Train and evaluate each model\n",
    "for name, model in models.items():\n",
    "\n",
    "    mse_scores_test = []\n",
    "    mse_scores_train = []\n",
    "    r2_scores_test = []\n",
    "    r2_scores_train = []\n",
    "    # Create KFold object\n",
    "    k = 10\n",
    "    kfold = KFold(n_splits=k, shuffle=True)\n",
    "\n",
    "    for train_index, test_index in kfold.split(X):\n",
    "        X_train, X_test = X.iloc[train_index], X.iloc[test_index]\n",
    "        y_train, y_test = y.iloc[train_index], y.iloc[test_index]\n",
    "        model.fit(X_train, y_train)\n",
    "        y_pred_test = model.predict(X_test)\n",
    "        y_pred_train = model.predict(X_train)\n",
    "        mse_test = mean_squared_error(y_test, y_pred_test)\n",
    "        mse_train = mean_squared_error(y_train, y_pred_train)\n",
    "        r2_test = r2_score(y_test, y_pred_test)\n",
    "        r2_train = r2_score(y_train, y_pred_train)\n",
    "        mse_scores_test.append(mse_test)\n",
    "        mse_scores_train.append(mse_train)\n",
    "        r2_scores_test.append(r2_test)\n",
    "        r2_scores_train.append(r2_train)\n",
    "\n",
    "    average_mse_test = np.mean(mse_scores_test)\n",
    "    average_mse_train = np.mean(mse_scores_train)\n",
    "    average_r2_test = np.mean(r2_scores_test)\n",
    "    average_r2_train = np.mean(r2_scores_train)  \n",
    "\n",
    "    print(f'{name} - R^2 Score (Train) : {average_r2_train:.2f}, R^2 Score (Test): {average_r2_test:.2f}')\n",
    "    print(r2_scores_test)\n"
   ]
  },
  {
   "cell_type": "code",
   "execution_count": 27,
   "metadata": {},
   "outputs": [],
   "source": [
    "X_train, X_test, y_train, y_test = train_test_split(X, y, test_size=0.2, random_state=42)"
   ]
  },
  {
   "cell_type": "code",
   "execution_count": 28,
   "metadata": {},
   "outputs": [],
   "source": [
    "# import pandas as pd\n",
    "\n",
    "# # Assuming X_train is your DataFrame\n",
    "# # X_train = pd.DataFrame(...)\n",
    "\n",
    "# corr_matrix = X_train.corr()\n",
    "\n",
    "# # Get the column names of the DataFrame\n",
    "# columns = corr_matrix.columns\n",
    "\n",
    "# # Create an empty list to keep track of columns to drop\n",
    "# columns_to_drop = []\n",
    "# # Create a dictionary to store highly correlated features\n",
    "# highly_correlated_features = {}\n",
    "\n",
    "# # Loop over the columns\n",
    "# for i in range(len(columns)):\n",
    "#     for j in range(0, len(columns)):  # Loop only over the upper triangle to avoid duplicate comparisons\n",
    "#         # Access the cell of the DataFrame\n",
    "#         if abs(corr_matrix.iloc[i, j]) > 0.90:\n",
    "#             # Sort correlated features based on correlation coefficient\n",
    "#             sorted_features = sorted([(corr_matrix.iloc[i, j], columns[j]), (corr_matrix.iloc[i, i], columns[i])],\n",
    "#                                      key=lambda x: abs(x[0]), reverse=True)\n",
    "#             # Add the column to drop\n",
    "#             columns_to_drop.append(sorted_features[1][1])  # Add the one with lower correlation\n",
    "#             # Update the dictionary with highly correlated features\n",
    "#             if sorted_features[0][1] in highly_correlated_features:\n",
    "#                 highly_correlated_features[sorted_features[0][1]].append(sorted_features[1][1])\n",
    "#             else:\n",
    "#                 highly_correlated_features[sorted_features[0][1]] = [sorted_features[1][1]]\n",
    "\n",
    "# print(len(columns_to_drop))\n"
   ]
  },
  {
   "cell_type": "code",
   "execution_count": 29,
   "metadata": {},
   "outputs": [],
   "source": [
    "# import seaborn as sns\n",
    "\n",
    "# corr_matrix = X_train.corr()\n",
    "\n",
    "# # Get the column names of the DataFrame\n",
    "# columns = corr_matrix.columns\n",
    "\n",
    "# # Define a function to sort correlations in descending order (absolute value)\n",
    "# def sort_correlations(series):\n",
    "#   # Take the absolute value of the series\n",
    "#   abs_series = series.abs()\n",
    "#   # Sort the absolute values in descending order\n",
    "#   return abs_series.sort_values(ascending=False)\n",
    "\n",
    "# # Sort each column of the correlation matrix\n",
    "# sorted_corr_matrix = corr_matrix.apply(sort_correlations)\n",
    "\n",
    "# # Create an empty list to keep track of columns to drop\n",
    "# columns_to_drop = []\n",
    "# # Create a dictionary to store highly correlated features\n",
    "# highly_correlated_features = {}\n",
    "\n",
    "# # Loop over the sorted correlation matrix\n",
    "# for i in range(len(sorted_corr_matrix.columns)):\n",
    "#   # Skip the diagonal (correlation with self)\n",
    "#   if i == sorted_corr_matrix.columns[i]:\n",
    "#     continue\n",
    "#   # Get the current column and sorted correlations\n",
    "#   current_column = sorted_corr_matrix.columns[i]\n",
    "#   sorted_correlations = sorted_corr_matrix.loc[current_column]\n",
    "  \n",
    "#   # Identify highly correlated features (> 0.90) excluding the current column\n",
    "#   highly_correlated_features[current_column] = list(sorted_correlations[sorted_correlations > 0.90].index.difference([current_column]))\n",
    "\n",
    "#   # Update columns to drop based on correlations with the current column\n",
    "#   columns_to_drop.extend(highly_correlated_features[current_column])\n",
    "\n",
    "# # Remove duplicates from columns to drop\n",
    "# columns_to_drop = list(set(columns_to_drop))\n",
    "\n",
    "# print(len(columns_to_drop))"
   ]
  },
  {
   "cell_type": "code",
   "execution_count": 30,
   "metadata": {},
   "outputs": [
    {
     "name": "stdout",
     "output_type": "stream",
     "text": [
      "16\n"
     ]
    }
   ],
   "source": [
    "import seaborn as sns\n",
    "corr_matrix = X_train.corr()\n",
    "\n",
    "# Get the column names of the DataFrame\n",
    "columns = corr_matrix.columns\n",
    "\n",
    "# Create an empty list to keep track of columns to drop\n",
    "columns_to_drop = []\n",
    "# Create a dictionary to store highly correlated features\n",
    "highly_correlated_features = {}\n",
    "\n",
    "# Loop over the columns\n",
    "for i in range(len(columns)):\n",
    "    for j in range(0, len(columns)):\n",
    "        # Access the cell of the DataFrame\n",
    "        if i != j and corr_matrix.iloc[i, j] > 0.90:\n",
    "            # Add the column to drop\n",
    "            columns_to_drop.append(columns[j])\n",
    "            # Update the dictionary with highly correlated features\n",
    "            if columns[i] in highly_correlated_features:\n",
    "                highly_correlated_features[columns[i]].append((columns[j], corr_matrix.iloc[i, j].round(4)))\n",
    "            else:\n",
    "                highly_correlated_features[columns[i]] = [(columns[j], corr_matrix.iloc[i, j].round(4))]\n",
    "\n",
    "\n",
    "print(len(columns_to_drop))"
   ]
  },
  {
   "cell_type": "code",
   "execution_count": 31,
   "metadata": {},
   "outputs": [
    {
     "name": "stdout",
     "output_type": "stream",
     "text": [
      "['stl2', 'stl3', 'stl4', 'stl1', 'stl3', 'stl4', 'stl1', 'stl2', 'stl4', 'stl1', 'stl2', 'stl3', 'swvl2', 'rh', 'swvl1', 'swvl1']\n"
     ]
    }
   ],
   "source": [
    "print(columns_to_drop)"
   ]
  },
  {
   "cell_type": "code",
   "execution_count": 32,
   "metadata": {},
   "outputs": [
    {
     "name": "stdout",
     "output_type": "stream",
     "text": [
      "Highly correlated features:\n",
      "stl1 : [('stl2', 0.9987), ('stl3', 0.9821), ('stl4', 0.91)]\n",
      "stl2 : [('stl1', 0.9987), ('stl3', 0.9901), ('stl4', 0.9269)]\n",
      "stl3 : [('stl1', 0.9821), ('stl2', 0.9901), ('stl4', 0.9667)]\n",
      "stl4 : [('stl1', 0.91), ('stl2', 0.9269), ('stl3', 0.9667)]\n",
      "swvl1 : [('swvl2', 0.9534), ('rh', 0.9109)]\n",
      "swvl2 : [('swvl1', 0.9534)]\n",
      "rh : [('swvl1', 0.9109)]\n"
     ]
    }
   ],
   "source": [
    "print(\"Highly correlated features:\")\n",
    "for key, value in highly_correlated_features.items():\n",
    "    print(key, \":\", value)"
   ]
  },
  {
   "cell_type": "code",
   "execution_count": 33,
   "metadata": {},
   "outputs": [],
   "source": [
    "import time\n",
    "def print_accuracy(f):\n",
    "    print(\n",
    "        f\"Root mean squared test error = {np.sqrt(np.mean((f(X_test) - y_test) ** 2))}\"\n",
    "    )\n",
    "    time.sleep(0.5)  # to let the print get out before any progress bars"
   ]
  },
  {
   "cell_type": "code",
   "execution_count": 34,
   "metadata": {},
   "outputs": [
    {
     "name": "stdout",
     "output_type": "stream",
     "text": [
      "Root mean squared test error = 0.12588778615887394\n"
     ]
    }
   ],
   "source": [
    "from sklearn.ensemble import RandomForestRegressor\n",
    "\n",
    "rforest = RandomForestRegressor(\n",
    "    n_estimators=1000, max_depth=None, min_samples_split=2, random_state=0\n",
    ")\n",
    "rforest.fit(X_train, y_train)\n",
    "print_accuracy(rforest.predict)"
   ]
  },
  {
   "cell_type": "code",
   "execution_count": 35,
   "metadata": {},
   "outputs": [
    {
     "name": "stdout",
     "output_type": "stream",
     "text": [
      "0.01584773470398237 0.353215347492125\n"
     ]
    }
   ],
   "source": [
    "y_pred = rforest.predict(X_test)\n",
    "mse = mean_squared_error(y_test, y_pred)\n",
    "r2 = r2_score(y_test, y_pred)\n",
    "print(mse,r2)"
   ]
  },
  {
   "cell_type": "code",
   "execution_count": null,
   "metadata": {},
   "outputs": [],
   "source": [
    "#pip install shap"
   ]
  },
  {
   "cell_type": "code",
   "execution_count": null,
   "metadata": {},
   "outputs": [],
   "source": [
    "stop"
   ]
  },
  {
   "cell_type": "code",
   "execution_count": null,
   "metadata": {},
   "outputs": [],
   "source": [
    "columns_to_drop = set(columns_to_drop)\n",
    "print(columns_to_drop)"
   ]
  },
  {
   "cell_type": "code",
   "execution_count": null,
   "metadata": {},
   "outputs": [],
   "source": [
    "len(columns_to_drop)"
   ]
  },
  {
   "cell_type": "code",
   "execution_count": null,
   "metadata": {},
   "outputs": [],
   "source": [
    "X_train.drop(columns = columns_to_drop, axis = 1, inplace=True)\n",
    "X_test.drop(columns = columns_to_drop, axis = 1, inplace=True)"
   ]
  },
  {
   "cell_type": "code",
   "execution_count": null,
   "metadata": {},
   "outputs": [],
   "source": [
    "from sklearn.model_selection import train_test_split\n",
    "from sklearn.linear_model import LinearRegression\n",
    "from sklearn.metrics import mean_squared_error, r2_score"
   ]
  },
  {
   "cell_type": "code",
   "execution_count": null,
   "metadata": {},
   "outputs": [],
   "source": [
    "# Import necessary libraries\n",
    "import numpy as np\n",
    "import pandas as pd\n",
    "from sklearn.model_selection import train_test_split\n",
    "from sklearn.linear_model import LinearRegression, Ridge, Lasso\n",
    "from sklearn.tree import DecisionTreeRegressor\n",
    "from sklearn.ensemble import RandomForestRegressor, GradientBoostingRegressor\n",
    "from sklearn.svm import SVR\n",
    "from sklearn.metrics import mean_squared_error, r2_score\n",
    "from sklearn.model_selection import KFold\n",
    "\n",
    "\n",
    "# Create KFold object\n",
    "k = 5\n",
    "kfold = KFold(n_splits=k, shuffle=True)\n",
    "\n",
    "\n",
    "# Models\n",
    "models = {\n",
    "    \"Linear Regression\": LinearRegression(),\n",
    "    \"Ridge Regression\": Ridge(),\n",
    "    \"Lasso Regression\": Lasso(),\n",
    "    \"Decision Tree\": DecisionTreeRegressor(),\n",
    "    \"Gradient Boosting\": GradientBoostingRegressor(),\n",
    "    \"Random Forest\": RandomForestRegressor(),\n",
    "    \"Support Vector Machine\": SVR()\n",
    "}\n",
    "\n",
    "# Train and evaluate each model\n",
    "for name, model in models.items():\n",
    "    mse_scores = []\n",
    "    r2_scores = []\n",
    "\n",
    "    for train_index, test_index in kfold.split(X):\n",
    "        X_train, X_test = X[train_index], X[test_index]\n",
    "        y_train, y_test = y[train_index], y[test_index]\n",
    "    model.fit(X_train, y_train)\n",
    "    y_pred = model.predict(X_test)\n",
    "    mse = mean_squared_error(y_test, y_pred)\n",
    "    r2 = r2_score(y_test, y_pred)\n",
    "    print(f'{name} - Mean Squared Error: {mse:.2f}, R^2 Score: {r2:.2f}')\n"
   ]
  },
  {
   "cell_type": "code",
   "execution_count": null,
   "metadata": {},
   "outputs": [],
   "source": [
    "import xarray\n",
    "data = xarray.open_dataset(r\"C:\\Users\\Kanishk Goyal\\OneDrive - IIT Kanpur\\Desktop\\Prof. Hamim Zafar\\Data\\Relative humidity\\1month_mean_Global_ea_r2_199703_v02.grib\", engine='cfgrib')\n",
    "data.to_netcdf(r\"C:\\Users\\Kanishk Goyal\\OneDrive - IIT Kanpur\\Desktop\\Prof. Hamim Zafar\\Data\\Relative humidity\\1month_mean_Global_ea_r2_199703_v02.nc\")"
   ]
  },
  {
   "cell_type": "code",
   "execution_count": null,
   "metadata": {},
   "outputs": [],
   "source": []
  }
 ],
 "metadata": {
  "kernelspec": {
   "display_name": "Python 3",
   "language": "python",
   "name": "python3"
  },
  "language_info": {
   "codemirror_mode": {
    "name": "ipython",
    "version": 3
   },
   "file_extension": ".py",
   "mimetype": "text/x-python",
   "name": "python",
   "nbconvert_exporter": "python",
   "pygments_lexer": "ipython3",
   "version": "3.11.4"
  }
 },
 "nbformat": 4,
 "nbformat_minor": 2
}
