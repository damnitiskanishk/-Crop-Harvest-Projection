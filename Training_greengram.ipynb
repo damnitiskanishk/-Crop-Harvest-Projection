{
 "cells": [
  {
   "cell_type": "code",
   "execution_count": 30,
   "metadata": {},
   "outputs": [],
   "source": [
    "import numpy as np \n",
    "import pandas as pd\n",
    "import seaborn as sns\n",
    "import matplotlib.pyplot as plt\n",
    "from sklearn.preprocessing import LabelEncoder\n",
    "from sklearn.model_selection import train_test_split\n",
    "from sklearn.linear_model import LinearRegression\n",
    "from sklearn.metrics import mean_squared_error, r2_score\n",
    "import seaborn as sns"
   ]
  },
  {
   "cell_type": "code",
   "execution_count": 31,
   "metadata": {},
   "outputs": [],
   "source": [
    "df = pd.read_csv(r\"C:\\Users\\Kanishk Goyal\\OneDrive - IIT Kanpur\\Desktop\\Prof. Hamim Zafar\\Data\\Final Data\\greengram_u_97-19_u.csv\")\n",
    "df = df.drop(columns=['latitude','longitude'])\n",
    "df = df.sample(frac=1).reset_index(drop=True)\n",
    "#df = df.drop(columns=['DistrictName','latitude','longitude','year','year_mask'])"
   ]
  },
  {
   "cell_type": "code",
   "execution_count": 32,
   "metadata": {},
   "outputs": [
    {
     "data": {
      "text/plain": [
       "Index(['year', 'stl1_1', 'stl1_2', 'stl2_1', 'stl2_2', 'stl3_1', 'stl3_2',\n",
       "       'stl4_1', 'stl4_2', 'swvl1_1', 'swvl1_2', 'swvl2_1', 'swvl2_2',\n",
       "       'swvl3_1', 'swvl3_2', 'swvl4_1', 'swvl4_2', 'ssr_1', 'ssr_2',\n",
       "       'DistrictName', 'Yield(Tonnes/Hectare)', 'rain_1', 'rain_2', 'tmax_1',\n",
       "       'tmax_2', 'tmin_1', 'tmin_2', 'countrain_1', 'countrain_2', 'u10_3',\n",
       "       'u10_4', 'v10_3', 'v10_4', 'rh_3', 'rh_4'],\n",
       "      dtype='object')"
      ]
     },
     "execution_count": 32,
     "metadata": {},
     "output_type": "execute_result"
    }
   ],
   "source": [
    "df.columns"
   ]
  },
  {
   "cell_type": "code",
   "execution_count": 33,
   "metadata": {},
   "outputs": [],
   "source": [
    "# df['stl1'] = (df['stl1_1'] + df['stl1_2'])/2\n",
    "# df['stl2'] = (df['stl2_1'] + df['stl2_2'])/2\n",
    "# df['stl3'] = (df['stl3_1'] + df['stl3_2'])/2\n",
    "# df['stl4'] = (df['stl4_1'] + df['stl4_2'])/2\n",
    "# df['swvl1'] = (df['swvl1_1'] + df['swvl1_2'])/2\n",
    "# df['swvl2'] = (df['swvl2_1'] + df['swvl2_2'])/2\n",
    "# df['swvl3'] = (df['swvl3_1'] + df['swvl3_2'])/2\n",
    "# df['swvl4'] = (df['swvl4_1'] + df['swvl4_2'])/2\n",
    "# df['ssr'] = (df['ssr_1'] + df['ssr_2'])/2\n",
    "# df['rain'] = (df['rain_1'] + df['rain_2'])/2\n",
    "# df['tmax'] = (df['tmax_1'] + df['tmax_2'])/2\n",
    "# df['tmin'] = (df['tmin_1'] + df['tmin_2'])/2\n",
    "# df['countrain'] = df['countrain_1'] + df['countrain_2']\n",
    "# df['u10'] = (df['u10_3']+df['u10_4'])/2\n",
    "# df['v10'] = (df['v10_3']+df['v10_4'])/2\n",
    "# df['rh'] = (df['rh_3']+df['rh_4'])/2"
   ]
  },
  {
   "cell_type": "code",
   "execution_count": 34,
   "metadata": {},
   "outputs": [
    {
     "data": {
      "text/plain": [
       "(1725, 35)"
      ]
     },
     "execution_count": 34,
     "metadata": {},
     "output_type": "execute_result"
    }
   ],
   "source": [
    "df.shape"
   ]
  },
  {
   "cell_type": "code",
   "execution_count": 35,
   "metadata": {},
   "outputs": [
    {
     "data": {
      "text/plain": [
       "Index(['year', 'stl1_1', 'stl1_2', 'stl2_1', 'stl2_2', 'stl3_1', 'stl3_2',\n",
       "       'stl4_1', 'stl4_2', 'swvl1_1', 'swvl1_2', 'swvl2_1', 'swvl2_2',\n",
       "       'swvl3_1', 'swvl3_2', 'swvl4_1', 'swvl4_2', 'ssr_1', 'ssr_2',\n",
       "       'DistrictName', 'Yield(Tonnes/Hectare)', 'rain_1', 'rain_2', 'tmax_1',\n",
       "       'tmax_2', 'tmin_1', 'tmin_2', 'countrain_1', 'countrain_2', 'u10_3',\n",
       "       'u10_4', 'v10_3', 'v10_4', 'rh_3', 'rh_4'],\n",
       "      dtype='object')"
      ]
     },
     "execution_count": 35,
     "metadata": {},
     "output_type": "execute_result"
    }
   ],
   "source": [
    "df.columns"
   ]
  },
  {
   "cell_type": "code",
   "execution_count": 36,
   "metadata": {},
   "outputs": [],
   "source": [
    "df = df.dropna(subset=['Yield(Tonnes/Hectare)'])"
   ]
  },
  {
   "cell_type": "code",
   "execution_count": 37,
   "metadata": {},
   "outputs": [
    {
     "data": {
      "text/plain": [
       "(1146, 35)"
      ]
     },
     "execution_count": 37,
     "metadata": {},
     "output_type": "execute_result"
    }
   ],
   "source": [
    "df.shape"
   ]
  },
  {
   "cell_type": "code",
   "execution_count": 38,
   "metadata": {},
   "outputs": [
    {
     "data": {
      "text/plain": [
       "0.3199291246223679"
      ]
     },
     "execution_count": 38,
     "metadata": {},
     "output_type": "execute_result"
    }
   ],
   "source": [
    "df['Yield(Tonnes/Hectare)'].skew()"
   ]
  },
  {
   "cell_type": "code",
   "execution_count": 39,
   "metadata": {},
   "outputs": [
    {
     "name": "stderr",
     "output_type": "stream",
     "text": [
      "C:\\Users\\Kanishk Goyal\\AppData\\Local\\Temp\\ipykernel_26348\\994257175.py:1: UserWarning: \n",
      "\n",
      "`distplot` is a deprecated function and will be removed in seaborn v0.14.0.\n",
      "\n",
      "Please adapt your code to use either `displot` (a figure-level function with\n",
      "similar flexibility) or `histplot` (an axes-level function for histograms).\n",
      "\n",
      "For a guide to updating your code to use the new functions, please see\n",
      "https://gist.github.com/mwaskom/de44147ed2974457ad6372750bbe5751\n",
      "\n",
      "  sns.distplot(df['Yield(Tonnes/Hectare)'],color='green')\n"
     ]
    },
    {
     "data": {
      "text/plain": [
       "<Axes: xlabel='Yield(Tonnes/Hectare)', ylabel='Density'>"
      ]
     },
     "execution_count": 39,
     "metadata": {},
     "output_type": "execute_result"
    },
    {
     "data": {
      "image/png": "[encoded data removed]",
      "text/plain": [
       "<Figure size 640x480 with 1 Axes>"
      ]
     },
     "metadata": {},
     "output_type": "display_data"
    }
   ],
   "source": [
    "sns.distplot(df['Yield(Tonnes/Hectare)'],color='green')"
   ]
  },
  {
   "cell_type": "code",
   "execution_count": 40,
   "metadata": {},
   "outputs": [
    {
     "data": {
      "text/plain": [
       "0       0.57\n",
       "1       0.68\n",
       "4       0.61\n",
       "5       0.59\n",
       "6       1.26\n",
       "        ... \n",
       "1717    0.64\n",
       "1719    0.67\n",
       "1720    0.48\n",
       "1722    0.50\n",
       "1723    0.67\n",
       "Name: Yield(Tonnes/Hectare), Length: 1146, dtype: float64"
      ]
     },
     "execution_count": 40,
     "metadata": {},
     "output_type": "execute_result"
    }
   ],
   "source": [
    "df['Yield(Tonnes/Hectare)']"
   ]
  },
  {
   "cell_type": "code",
   "execution_count": 41,
   "metadata": {},
   "outputs": [
    {
     "name": "stdout",
     "output_type": "stream",
     "text": [
      "Number of points in the final DataFrame after handling outliers: 1130\n"
     ]
    }
   ],
   "source": [
    "Q1 = df['Yield(Tonnes/Hectare)'].quantile(0.25)\n",
    "Q3 = df['Yield(Tonnes/Hectare)'].quantile(0.75)\n",
    "IQR = Q3 - Q1\n",
    "\n",
    "lower_bound = Q1 - 1.5 * IQR\n",
    "upper_bound = Q3 + 1.5 * IQR\n",
    "\n",
    "df['Yield_no_outliers'] = np.where((df['Yield(Tonnes/Hectare)'] < lower_bound) | (df['Yield(Tonnes/Hectare)'] > upper_bound), np.nan, df['Yield(Tonnes/Hectare)'])\n",
    "\n",
    "num_points_after_handling_outliers = df['Yield_no_outliers'].count()\n",
    "print(\"Number of points in the final DataFrame after handling outliers:\", num_points_after_handling_outliers)"
   ]
  },
  {
   "cell_type": "code",
   "execution_count": 42,
   "metadata": {},
   "outputs": [],
   "source": [
    "df = df.dropna(subset=['Yield_no_outliers'])\n",
    "df = df.drop(columns=['Yield(Tonnes/Hectare)'])"
   ]
  },
  {
   "cell_type": "code",
   "execution_count": 43,
   "metadata": {},
   "outputs": [],
   "source": [
    "df.rename(columns={'Yield_no_outliers': 'Yield(Tonnes/Hectare)'}, inplace=True)"
   ]
  },
  {
   "cell_type": "code",
   "execution_count": 44,
   "metadata": {},
   "outputs": [
    {
     "data": {
      "text/plain": [
       "0.1382904864790662"
      ]
     },
     "execution_count": 44,
     "metadata": {},
     "output_type": "execute_result"
    }
   ],
   "source": [
    "df['Yield(Tonnes/Hectare)'].skew()"
   ]
  },
  {
   "cell_type": "code",
   "execution_count": 45,
   "metadata": {},
   "outputs": [
    {
     "name": "stderr",
     "output_type": "stream",
     "text": [
      "C:\\Users\\Kanishk Goyal\\AppData\\Local\\Temp\\ipykernel_26348\\1820324139.py:1: UserWarning: \n",
      "\n",
      "`distplot` is a deprecated function and will be removed in seaborn v0.14.0.\n",
      "\n",
      "Please adapt your code to use either `displot` (a figure-level function with\n",
      "similar flexibility) or `histplot` (an axes-level function for histograms).\n",
      "\n",
      "For a guide to updating your code to use the new functions, please see\n",
      "https://gist.github.com/mwaskom/de44147ed2974457ad6372750bbe5751\n",
      "\n",
      "  sns.distplot(df['Yield(Tonnes/Hectare)'])\n"
     ]
    },
    {
     "data": {
      "text/plain": [
       "<Axes: xlabel='Yield(Tonnes/Hectare)', ylabel='Density'>"
      ]
     },
     "execution_count": 45,
     "metadata": {},
     "output_type": "execute_result"
    },
    {
     "data": {
      "image/png": "[encoded data removed]",
      "text/plain": [
       "<Figure size 640x480 with 1 Axes>"
      ]
     },
     "metadata": {},
     "output_type": "display_data"
    }
   ],
   "source": [
    "sns.distplot(df['Yield(Tonnes/Hectare)'])"
   ]
  },
  {
   "cell_type": "code",
   "execution_count": 46,
   "metadata": {},
   "outputs": [
    {
     "data": {
      "text/html": [
       "<div>\n",
       "<style scoped>\n",
       "    .dataframe tbody tr th:only-of-type {\n",
       "        vertical-align: middle;\n",
       "    }\n",
       "\n",
       "    .dataframe tbody tr th {\n",
       "        vertical-align: top;\n",
       "    }\n",
       "\n",
       "    .dataframe thead th {\n",
       "        text-align: right;\n",
       "    }\n",
       "</style>\n",
       "<table border=\"1\" class=\"dataframe\">\n",
       "  <thead>\n",
       "    <tr style=\"text-align: right;\">\n",
       "      <th></th>\n",
       "      <th>year</th>\n",
       "      <th>stl1_1</th>\n",
       "      <th>stl1_2</th>\n",
       "      <th>stl2_1</th>\n",
       "      <th>stl2_2</th>\n",
       "      <th>stl3_1</th>\n",
       "      <th>stl3_2</th>\n",
       "      <th>stl4_1</th>\n",
       "      <th>stl4_2</th>\n",
       "      <th>swvl1_1</th>\n",
       "      <th>...</th>\n",
       "      <th>tmin_2</th>\n",
       "      <th>countrain_1</th>\n",
       "      <th>countrain_2</th>\n",
       "      <th>u10_3</th>\n",
       "      <th>u10_4</th>\n",
       "      <th>v10_3</th>\n",
       "      <th>v10_4</th>\n",
       "      <th>rh_3</th>\n",
       "      <th>rh_4</th>\n",
       "      <th>Yield(Tonnes/Hectare)</th>\n",
       "    </tr>\n",
       "  </thead>\n",
       "  <tbody>\n",
       "    <tr>\n",
       "      <th>0</th>\n",
       "      <td>2002</td>\n",
       "      <td>23.146511</td>\n",
       "      <td>30.251477</td>\n",
       "      <td>22.478056</td>\n",
       "      <td>29.177739</td>\n",
       "      <td>20.989136</td>\n",
       "      <td>26.135585</td>\n",
       "      <td>20.177291</td>\n",
       "      <td>21.734534</td>\n",
       "      <td>0.202690</td>\n",
       "      <td>...</td>\n",
       "      <td>19.656492</td>\n",
       "      <td>0</td>\n",
       "      <td>2</td>\n",
       "      <td>0.834965</td>\n",
       "      <td>-0.533057</td>\n",
       "      <td>-0.370917</td>\n",
       "      <td>0.033631</td>\n",
       "      <td>52.774485</td>\n",
       "      <td>36.253566</td>\n",
       "      <td>0.57</td>\n",
       "    </tr>\n",
       "    <tr>\n",
       "      <th>1</th>\n",
       "      <td>2011</td>\n",
       "      <td>26.238885</td>\n",
       "      <td>31.832131</td>\n",
       "      <td>25.296698</td>\n",
       "      <td>30.701338</td>\n",
       "      <td>23.109665</td>\n",
       "      <td>27.640904</td>\n",
       "      <td>21.574363</td>\n",
       "      <td>23.319502</td>\n",
       "      <td>0.141346</td>\n",
       "      <td>...</td>\n",
       "      <td>21.295177</td>\n",
       "      <td>0</td>\n",
       "      <td>1</td>\n",
       "      <td>0.940389</td>\n",
       "      <td>-0.125049</td>\n",
       "      <td>-1.076249</td>\n",
       "      <td>-0.996146</td>\n",
       "      <td>44.721027</td>\n",
       "      <td>30.629043</td>\n",
       "      <td>0.68</td>\n",
       "    </tr>\n",
       "    <tr>\n",
       "      <th>4</th>\n",
       "      <td>2018</td>\n",
       "      <td>28.451819</td>\n",
       "      <td>32.980081</td>\n",
       "      <td>27.589702</td>\n",
       "      <td>32.002171</td>\n",
       "      <td>25.342517</td>\n",
       "      <td>29.174315</td>\n",
       "      <td>23.108070</td>\n",
       "      <td>24.948946</td>\n",
       "      <td>0.143133</td>\n",
       "      <td>...</td>\n",
       "      <td>21.664343</td>\n",
       "      <td>0</td>\n",
       "      <td>2</td>\n",
       "      <td>2.052840</td>\n",
       "      <td>-0.980928</td>\n",
       "      <td>-0.696734</td>\n",
       "      <td>-0.591315</td>\n",
       "      <td>35.919994</td>\n",
       "      <td>36.042663</td>\n",
       "      <td>0.61</td>\n",
       "    </tr>\n",
       "    <tr>\n",
       "      <th>5</th>\n",
       "      <td>2018</td>\n",
       "      <td>27.338637</td>\n",
       "      <td>32.539210</td>\n",
       "      <td>26.561048</td>\n",
       "      <td>31.495435</td>\n",
       "      <td>24.517351</td>\n",
       "      <td>28.535817</td>\n",
       "      <td>22.534333</td>\n",
       "      <td>24.138927</td>\n",
       "      <td>0.139280</td>\n",
       "      <td>...</td>\n",
       "      <td>21.723857</td>\n",
       "      <td>0</td>\n",
       "      <td>1</td>\n",
       "      <td>1.193481</td>\n",
       "      <td>-0.199782</td>\n",
       "      <td>-1.167036</td>\n",
       "      <td>-0.410683</td>\n",
       "      <td>41.813591</td>\n",
       "      <td>33.104426</td>\n",
       "      <td>0.59</td>\n",
       "    </tr>\n",
       "    <tr>\n",
       "      <th>8</th>\n",
       "      <td>2016</td>\n",
       "      <td>28.708869</td>\n",
       "      <td>34.420744</td>\n",
       "      <td>27.943182</td>\n",
       "      <td>33.307135</td>\n",
       "      <td>25.934999</td>\n",
       "      <td>30.126851</td>\n",
       "      <td>23.959589</td>\n",
       "      <td>25.597975</td>\n",
       "      <td>0.140109</td>\n",
       "      <td>...</td>\n",
       "      <td>23.629411</td>\n",
       "      <td>0</td>\n",
       "      <td>0</td>\n",
       "      <td>0.472617</td>\n",
       "      <td>1.791594</td>\n",
       "      <td>-0.826198</td>\n",
       "      <td>-1.074139</td>\n",
       "      <td>43.032696</td>\n",
       "      <td>26.258772</td>\n",
       "      <td>0.83</td>\n",
       "    </tr>\n",
       "    <tr>\n",
       "      <th>9</th>\n",
       "      <td>2010</td>\n",
       "      <td>29.920690</td>\n",
       "      <td>35.860640</td>\n",
       "      <td>28.762169</td>\n",
       "      <td>34.598414</td>\n",
       "      <td>25.819674</td>\n",
       "      <td>30.957230</td>\n",
       "      <td>22.977167</td>\n",
       "      <td>25.381461</td>\n",
       "      <td>0.137760</td>\n",
       "      <td>...</td>\n",
       "      <td>24.032628</td>\n",
       "      <td>0</td>\n",
       "      <td>0</td>\n",
       "      <td>2.001477</td>\n",
       "      <td>1.600252</td>\n",
       "      <td>-0.358593</td>\n",
       "      <td>-0.548082</td>\n",
       "      <td>33.601420</td>\n",
       "      <td>21.659504</td>\n",
       "      <td>1.00</td>\n",
       "    </tr>\n",
       "    <tr>\n",
       "      <th>10</th>\n",
       "      <td>2008</td>\n",
       "      <td>27.083991</td>\n",
       "      <td>32.163463</td>\n",
       "      <td>26.124835</td>\n",
       "      <td>30.939133</td>\n",
       "      <td>23.633244</td>\n",
       "      <td>27.589321</td>\n",
       "      <td>21.370445</td>\n",
       "      <td>23.108810</td>\n",
       "      <td>0.141618</td>\n",
       "      <td>...</td>\n",
       "      <td>20.862281</td>\n",
       "      <td>0</td>\n",
       "      <td>0</td>\n",
       "      <td>1.337708</td>\n",
       "      <td>2.136549</td>\n",
       "      <td>-0.541510</td>\n",
       "      <td>-0.926655</td>\n",
       "      <td>41.264342</td>\n",
       "      <td>25.959073</td>\n",
       "      <td>0.75</td>\n",
       "    </tr>\n",
       "    <tr>\n",
       "      <th>12</th>\n",
       "      <td>2015</td>\n",
       "      <td>21.346314</td>\n",
       "      <td>26.578952</td>\n",
       "      <td>21.036967</td>\n",
       "      <td>25.764808</td>\n",
       "      <td>20.218834</td>\n",
       "      <td>23.648399</td>\n",
       "      <td>19.428397</td>\n",
       "      <td>20.596381</td>\n",
       "      <td>0.302194</td>\n",
       "      <td>...</td>\n",
       "      <td>18.728619</td>\n",
       "      <td>5</td>\n",
       "      <td>2</td>\n",
       "      <td>0.909632</td>\n",
       "      <td>-0.125558</td>\n",
       "      <td>-0.434363</td>\n",
       "      <td>-0.565146</td>\n",
       "      <td>69.004570</td>\n",
       "      <td>54.892224</td>\n",
       "      <td>0.57</td>\n",
       "    </tr>\n",
       "    <tr>\n",
       "      <th>14</th>\n",
       "      <td>2011</td>\n",
       "      <td>27.037780</td>\n",
       "      <td>31.414424</td>\n",
       "      <td>26.143499</td>\n",
       "      <td>30.434310</td>\n",
       "      <td>23.955606</td>\n",
       "      <td>27.752056</td>\n",
       "      <td>22.230556</td>\n",
       "      <td>23.899075</td>\n",
       "      <td>0.143441</td>\n",
       "      <td>...</td>\n",
       "      <td>20.596865</td>\n",
       "      <td>2</td>\n",
       "      <td>2</td>\n",
       "      <td>1.017315</td>\n",
       "      <td>-0.723941</td>\n",
       "      <td>-0.572533</td>\n",
       "      <td>-0.369733</td>\n",
       "      <td>43.188865</td>\n",
       "      <td>37.127111</td>\n",
       "      <td>0.84</td>\n",
       "    </tr>\n",
       "    <tr>\n",
       "      <th>15</th>\n",
       "      <td>2010</td>\n",
       "      <td>29.710258</td>\n",
       "      <td>35.699796</td>\n",
       "      <td>28.560469</td>\n",
       "      <td>34.467090</td>\n",
       "      <td>25.671992</td>\n",
       "      <td>30.870637</td>\n",
       "      <td>23.079895</td>\n",
       "      <td>25.390178</td>\n",
       "      <td>0.138440</td>\n",
       "      <td>...</td>\n",
       "      <td>24.022366</td>\n",
       "      <td>0</td>\n",
       "      <td>0</td>\n",
       "      <td>2.240782</td>\n",
       "      <td>1.151555</td>\n",
       "      <td>-0.529955</td>\n",
       "      <td>-0.789040</td>\n",
       "      <td>35.798543</td>\n",
       "      <td>24.289959</td>\n",
       "      <td>0.89</td>\n",
       "    </tr>\n",
       "  </tbody>\n",
       "</table>\n",
       "<p>10 rows × 35 columns</p>\n",
       "</div>"
      ],
      "text/plain": [
       "    year     stl1_1     stl1_2     stl2_1     stl2_2     stl3_1     stl3_2  \\\n",
       "0   2002  23.146511  30.251477  22.478056  29.177739  20.989136  26.135585   \n",
       "1   2011  26.238885  31.832131  25.296698  30.701338  23.109665  27.640904   \n",
       "4   2018  28.451819  32.980081  27.589702  32.002171  25.342517  29.174315   \n",
       "5   2018  27.338637  32.539210  26.561048  31.495435  24.517351  28.535817   \n",
       "8   2016  28.708869  34.420744  27.943182  33.307135  25.934999  30.126851   \n",
       "9   2010  29.920690  35.860640  28.762169  34.598414  25.819674  30.957230   \n",
       "10  2008  27.083991  32.163463  26.124835  30.939133  23.633244  27.589321   \n",
       "12  2015  21.346314  26.578952  21.036967  25.764808  20.218834  23.648399   \n",
       "14  2011  27.037780  31.414424  26.143499  30.434310  23.955606  27.752056   \n",
       "15  2010  29.710258  35.699796  28.560469  34.467090  25.671992  30.870637   \n",
       "\n",
       "       stl4_1     stl4_2   swvl1_1  ...     tmin_2  countrain_1  countrain_2  \\\n",
       "0   20.177291  21.734534  0.202690  ...  19.656492            0            2   \n",
       "1   21.574363  23.319502  0.141346  ...  21.295177            0            1   \n",
       "4   23.108070  24.948946  0.143133  ...  21.664343            0            2   \n",
       "5   22.534333  24.138927  0.139280  ...  21.723857            0            1   \n",
       "8   23.959589  25.597975  0.140109  ...  23.629411            0            0   \n",
       "9   22.977167  25.381461  0.137760  ...  24.032628            0            0   \n",
       "10  21.370445  23.108810  0.141618  ...  20.862281            0            0   \n",
       "12  19.428397  20.596381  0.302194  ...  18.728619            5            2   \n",
       "14  22.230556  23.899075  0.143441  ...  20.596865            2            2   \n",
       "15  23.079895  25.390178  0.138440  ...  24.022366            0            0   \n",
       "\n",
       "       u10_3     u10_4     v10_3     v10_4       rh_3       rh_4  \\\n",
       "0   0.834965 -0.533057 -0.370917  0.033631  52.774485  36.253566   \n",
       "1   0.940389 -0.125049 -1.076249 -0.996146  44.721027  30.629043   \n",
       "4   2.052840 -0.980928 -0.696734 -0.591315  35.919994  36.042663   \n",
       "5   1.193481 -0.199782 -1.167036 -0.410683  41.813591  33.104426   \n",
       "8   0.472617  1.791594 -0.826198 -1.074139  43.032696  26.258772   \n",
       "9   2.001477  1.600252 -0.358593 -0.548082  33.601420  21.659504   \n",
       "10  1.337708  2.136549 -0.541510 -0.926655  41.264342  25.959073   \n",
       "12  0.909632 -0.125558 -0.434363 -0.565146  69.004570  54.892224   \n",
       "14  1.017315 -0.723941 -0.572533 -0.369733  43.188865  37.127111   \n",
       "15  2.240782  1.151555 -0.529955 -0.789040  35.798543  24.289959   \n",
       "\n",
       "   Yield(Tonnes/Hectare)  \n",
       "0                   0.57  \n",
       "1                   0.68  \n",
       "4                   0.61  \n",
       "5                   0.59  \n",
       "8                   0.83  \n",
       "9                   1.00  \n",
       "10                  0.75  \n",
       "12                  0.57  \n",
       "14                  0.84  \n",
       "15                  0.89  \n",
       "\n",
       "[10 rows x 35 columns]"
      ]
     },
     "execution_count": 46,
     "metadata": {},
     "output_type": "execute_result"
    }
   ],
   "source": [
    "df.head(10)"
   ]
  },
  {
   "cell_type": "code",
   "execution_count": 47,
   "metadata": {},
   "outputs": [
    {
     "data": {
      "text/plain": [
       "(1130, 35)"
      ]
     },
     "execution_count": 47,
     "metadata": {},
     "output_type": "execute_result"
    }
   ],
   "source": [
    "df.shape"
   ]
  },
  {
   "cell_type": "code",
   "execution_count": 48,
   "metadata": {},
   "outputs": [],
   "source": [
    "cat_cols = ['DistrictName', 'year']\n",
    "# Label encode categorical columns\n",
    "encoder = LabelEncoder()\n",
    "df[cat_cols] = df[cat_cols].apply(encoder.fit_transform)"
   ]
  },
  {
   "cell_type": "code",
   "execution_count": 49,
   "metadata": {},
   "outputs": [
    {
     "data": {
      "text/html": [
       "<div>\n",
       "<style scoped>\n",
       "    .dataframe tbody tr th:only-of-type {\n",
       "        vertical-align: middle;\n",
       "    }\n",
       "\n",
       "    .dataframe tbody tr th {\n",
       "        vertical-align: top;\n",
       "    }\n",
       "\n",
       "    .dataframe thead th {\n",
       "        text-align: right;\n",
       "    }\n",
       "</style>\n",
       "<table border=\"1\" class=\"dataframe\">\n",
       "  <thead>\n",
       "    <tr style=\"text-align: right;\">\n",
       "      <th></th>\n",
       "      <th>year</th>\n",
       "      <th>stl1_1</th>\n",
       "      <th>stl1_2</th>\n",
       "      <th>stl2_1</th>\n",
       "      <th>stl2_2</th>\n",
       "      <th>stl3_1</th>\n",
       "      <th>stl3_2</th>\n",
       "      <th>stl4_1</th>\n",
       "      <th>stl4_2</th>\n",
       "      <th>swvl1_1</th>\n",
       "      <th>...</th>\n",
       "      <th>tmin_2</th>\n",
       "      <th>countrain_1</th>\n",
       "      <th>countrain_2</th>\n",
       "      <th>u10_3</th>\n",
       "      <th>u10_4</th>\n",
       "      <th>v10_3</th>\n",
       "      <th>v10_4</th>\n",
       "      <th>rh_3</th>\n",
       "      <th>rh_4</th>\n",
       "      <th>Yield(Tonnes/Hectare)</th>\n",
       "    </tr>\n",
       "  </thead>\n",
       "  <tbody>\n",
       "    <tr>\n",
       "      <th>0</th>\n",
       "      <td>3</td>\n",
       "      <td>23.146511</td>\n",
       "      <td>30.251477</td>\n",
       "      <td>22.478056</td>\n",
       "      <td>29.177739</td>\n",
       "      <td>20.989136</td>\n",
       "      <td>26.135585</td>\n",
       "      <td>20.177291</td>\n",
       "      <td>21.734534</td>\n",
       "      <td>0.202690</td>\n",
       "      <td>...</td>\n",
       "      <td>19.656492</td>\n",
       "      <td>0</td>\n",
       "      <td>2</td>\n",
       "      <td>0.834965</td>\n",
       "      <td>-0.533057</td>\n",
       "      <td>-0.370917</td>\n",
       "      <td>0.033631</td>\n",
       "      <td>52.774485</td>\n",
       "      <td>36.253566</td>\n",
       "      <td>0.57</td>\n",
       "    </tr>\n",
       "    <tr>\n",
       "      <th>1</th>\n",
       "      <td>9</td>\n",
       "      <td>26.238885</td>\n",
       "      <td>31.832131</td>\n",
       "      <td>25.296698</td>\n",
       "      <td>30.701338</td>\n",
       "      <td>23.109665</td>\n",
       "      <td>27.640904</td>\n",
       "      <td>21.574363</td>\n",
       "      <td>23.319502</td>\n",
       "      <td>0.141346</td>\n",
       "      <td>...</td>\n",
       "      <td>21.295177</td>\n",
       "      <td>0</td>\n",
       "      <td>1</td>\n",
       "      <td>0.940389</td>\n",
       "      <td>-0.125049</td>\n",
       "      <td>-1.076249</td>\n",
       "      <td>-0.996146</td>\n",
       "      <td>44.721027</td>\n",
       "      <td>30.629043</td>\n",
       "      <td>0.68</td>\n",
       "    </tr>\n",
       "    <tr>\n",
       "      <th>4</th>\n",
       "      <td>16</td>\n",
       "      <td>28.451819</td>\n",
       "      <td>32.980081</td>\n",
       "      <td>27.589702</td>\n",
       "      <td>32.002171</td>\n",
       "      <td>25.342517</td>\n",
       "      <td>29.174315</td>\n",
       "      <td>23.108070</td>\n",
       "      <td>24.948946</td>\n",
       "      <td>0.143133</td>\n",
       "      <td>...</td>\n",
       "      <td>21.664343</td>\n",
       "      <td>0</td>\n",
       "      <td>2</td>\n",
       "      <td>2.052840</td>\n",
       "      <td>-0.980928</td>\n",
       "      <td>-0.696734</td>\n",
       "      <td>-0.591315</td>\n",
       "      <td>35.919994</td>\n",
       "      <td>36.042663</td>\n",
       "      <td>0.61</td>\n",
       "    </tr>\n",
       "    <tr>\n",
       "      <th>5</th>\n",
       "      <td>16</td>\n",
       "      <td>27.338637</td>\n",
       "      <td>32.539210</td>\n",
       "      <td>26.561048</td>\n",
       "      <td>31.495435</td>\n",
       "      <td>24.517351</td>\n",
       "      <td>28.535817</td>\n",
       "      <td>22.534333</td>\n",
       "      <td>24.138927</td>\n",
       "      <td>0.139280</td>\n",
       "      <td>...</td>\n",
       "      <td>21.723857</td>\n",
       "      <td>0</td>\n",
       "      <td>1</td>\n",
       "      <td>1.193481</td>\n",
       "      <td>-0.199782</td>\n",
       "      <td>-1.167036</td>\n",
       "      <td>-0.410683</td>\n",
       "      <td>41.813591</td>\n",
       "      <td>33.104426</td>\n",
       "      <td>0.59</td>\n",
       "    </tr>\n",
       "    <tr>\n",
       "      <th>8</th>\n",
       "      <td>14</td>\n",
       "      <td>28.708869</td>\n",
       "      <td>34.420744</td>\n",
       "      <td>27.943182</td>\n",
       "      <td>33.307135</td>\n",
       "      <td>25.934999</td>\n",
       "      <td>30.126851</td>\n",
       "      <td>23.959589</td>\n",
       "      <td>25.597975</td>\n",
       "      <td>0.140109</td>\n",
       "      <td>...</td>\n",
       "      <td>23.629411</td>\n",
       "      <td>0</td>\n",
       "      <td>0</td>\n",
       "      <td>0.472617</td>\n",
       "      <td>1.791594</td>\n",
       "      <td>-0.826198</td>\n",
       "      <td>-1.074139</td>\n",
       "      <td>43.032696</td>\n",
       "      <td>26.258772</td>\n",
       "      <td>0.83</td>\n",
       "    </tr>\n",
       "  </tbody>\n",
       "</table>\n",
       "<p>5 rows × 35 columns</p>\n",
       "</div>"
      ],
      "text/plain": [
       "   year     stl1_1     stl1_2     stl2_1     stl2_2     stl3_1     stl3_2  \\\n",
       "0     3  23.146511  30.251477  22.478056  29.177739  20.989136  26.135585   \n",
       "1     9  26.238885  31.832131  25.296698  30.701338  23.109665  27.640904   \n",
       "4    16  28.451819  32.980081  27.589702  32.002171  25.342517  29.174315   \n",
       "5    16  27.338637  32.539210  26.561048  31.495435  24.517351  28.535817   \n",
       "8    14  28.708869  34.420744  27.943182  33.307135  25.934999  30.126851   \n",
       "\n",
       "      stl4_1     stl4_2   swvl1_1  ...     tmin_2  countrain_1  countrain_2  \\\n",
       "0  20.177291  21.734534  0.202690  ...  19.656492            0            2   \n",
       "1  21.574363  23.319502  0.141346  ...  21.295177            0            1   \n",
       "4  23.108070  24.948946  0.143133  ...  21.664343            0            2   \n",
       "5  22.534333  24.138927  0.139280  ...  21.723857            0            1   \n",
       "8  23.959589  25.597975  0.140109  ...  23.629411            0            0   \n",
       "\n",
       "      u10_3     u10_4     v10_3     v10_4       rh_3       rh_4  \\\n",
       "0  0.834965 -0.533057 -0.370917  0.033631  52.774485  36.253566   \n",
       "1  0.940389 -0.125049 -1.076249 -0.996146  44.721027  30.629043   \n",
       "4  2.052840 -0.980928 -0.696734 -0.591315  35.919994  36.042663   \n",
       "5  1.193481 -0.199782 -1.167036 -0.410683  41.813591  33.104426   \n",
       "8  0.472617  1.791594 -0.826198 -1.074139  43.032696  26.258772   \n",
       "\n",
       "   Yield(Tonnes/Hectare)  \n",
       "0                   0.57  \n",
       "1                   0.68  \n",
       "4                   0.61  \n",
       "5                   0.59  \n",
       "8                   0.83  \n",
       "\n",
       "[5 rows x 35 columns]"
      ]
     },
     "execution_count": 49,
     "metadata": {},
     "output_type": "execute_result"
    }
   ],
   "source": [
    "df.head()"
   ]
  },
  {
   "cell_type": "code",
   "execution_count": 50,
   "metadata": {},
   "outputs": [
    {
     "data": {
      "text/plain": [
       "(1130, 35)"
      ]
     },
     "execution_count": 50,
     "metadata": {},
     "output_type": "execute_result"
    }
   ],
   "source": [
    "df.shape"
   ]
  },
  {
   "cell_type": "code",
   "execution_count": 51,
   "metadata": {},
   "outputs": [
    {
     "data": {
      "text/plain": [
       "Index(['year', 'stl1_1', 'stl1_2', 'stl2_1', 'stl2_2', 'stl3_1', 'stl3_2',\n",
       "       'stl4_1', 'stl4_2', 'swvl1_1', 'swvl1_2', 'swvl2_1', 'swvl2_2',\n",
       "       'swvl3_1', 'swvl3_2', 'swvl4_1', 'swvl4_2', 'ssr_1', 'ssr_2',\n",
       "       'DistrictName', 'rain_1', 'rain_2', 'tmax_1', 'tmax_2', 'tmin_1',\n",
       "       'tmin_2', 'countrain_1', 'countrain_2', 'u10_3', 'u10_4', 'v10_3',\n",
       "       'v10_4', 'rh_3', 'rh_4', 'Yield(Tonnes/Hectare)'],\n",
       "      dtype='object')"
      ]
     },
     "execution_count": 51,
     "metadata": {},
     "output_type": "execute_result"
    }
   ],
   "source": [
    "df.columns"
   ]
  },
  {
   "cell_type": "code",
   "execution_count": 52,
   "metadata": {},
   "outputs": [],
   "source": [
    "def get_duplicate_columns(df):\n",
    "    \n",
    "    duplicate_columns = {}\n",
    "    seen_columns = {}\n",
    "\n",
    "    for column in df.columns:\n",
    "        current_column = df[column]\n",
    "\n",
    "        # Convert column data to bytes\n",
    "        try:\n",
    "            current_column_hash = current_column.values.tobytes()\n",
    "        except AttributeError:\n",
    "            current_column_hash = current_column.to_string().encode()\n",
    "\n",
    "        if current_column_hash in seen_columns:\n",
    "            if seen_columns[current_column_hash] in duplicate_columns:\n",
    "                duplicate_columns[seen_columns[current_column_hash]].append(column)\n",
    "            else:\n",
    "                duplicate_columns[seen_columns[current_column_hash]] = [column]\n",
    "        else:\n",
    "            seen_columns[current_column_hash] = column\n",
    "\n",
    "    return duplicate_columns"
   ]
  },
  {
   "cell_type": "code",
   "execution_count": 53,
   "metadata": {},
   "outputs": [],
   "source": [
    "#df = df[['countrain_11', 'countrain_12', 'countrain_1','countrain_2', 'countrain_3', 'countrain_4', 'rain_11', 'rain_12','rain_1', 'rain_2', 'rain_3', 'rain_4','tmax_11', 'tmax_12', 'tmax_1','tmax_2', 'tmax_3', 'tmax_4', 'tmin_11', 'tmin_12', 'tmin_1', 'tmin_2','tmin_3', 'tmin_4','Yield(Tonnes/Hectare)']]"
   ]
  },
  {
   "cell_type": "code",
   "execution_count": 54,
   "metadata": {},
   "outputs": [],
   "source": [
    "#df = df.drop(columns=['countrain_11', 'countrain_12', 'countrain_1','countrain_2', 'countrain_3', 'countrain_4', 'rain_11', 'rain_12','rain_1', 'rain_2', 'rain_3', 'rain_4','tmax_11', 'tmax_12', 'tmax_1','tmax_2', 'tmax_3', 'tmax_4', 'tmin_11', 'tmin_12', 'tmin_1', 'tmin_2','tmin_3', 'tmin_4'])"
   ]
  },
  {
   "cell_type": "code",
   "execution_count": 55,
   "metadata": {},
   "outputs": [
    {
     "data": {
      "text/plain": [
       "(1130, 35)"
      ]
     },
     "execution_count": 55,
     "metadata": {},
     "output_type": "execute_result"
    }
   ],
   "source": [
    "df.shape"
   ]
  },
  {
   "cell_type": "code",
   "execution_count": 56,
   "metadata": {},
   "outputs": [],
   "source": [
    "X = df.drop('Yield(Tonnes/Hectare)', axis=1)  # Features\n",
    "y = df['Yield(Tonnes/Hectare)']  # Target variable\n",
    "\n",
    "# Split the dataset into training and testing sets\n",
    "#X_train, X_test, y_train, y_test = train_test_split(X, y, test_size=0.2, random_state=42)"
   ]
  },
  {
   "cell_type": "code",
   "execution_count": 57,
   "metadata": {},
   "outputs": [
    {
     "name": "stdout",
     "output_type": "stream",
     "text": [
      "Linear Regression - R^2 Score (Train) : 0.28, R^2 Score (Test): 0.22\n",
      "[0.12100788510641325, 0.26368869274168116, 0.29572224133042047, 0.18513845565036546, 0.22500599495731965, 0.2711542961671096, 0.19448477247159768, 0.14105539723662974, 0.2575201979609597, 0.23506316890647094]\n",
      "Ridge Regression - R^2 Score (Train) : 0.24, R^2 Score (Test): 0.20\n",
      "[0.12813636421327723, 0.18426321450567418, 0.24453587437962088, 0.14590090574682235, 0.21991954557974203, 0.18117031854940646, 0.24145276537842586, 0.16369178289440978, 0.3508576993251141, 0.1368294324270739]\n",
      "XGB Regressor - R^2 Score (Train) : 1.00, R^2 Score (Test): 0.34\n",
      "[0.14355100167444523, 0.5248238252222834, 0.22641830651370298, 0.17332620663047782, 0.2904439515148811, 0.31232221052665743, 0.4948497849326404, 0.474830947165217, 0.2503945071819773, 0.4670762466437103]\n",
      "Lasso Regression - R^2 Score (Train) : 0.06, R^2 Score (Test): 0.05\n",
      "[0.0778716556132868, 0.05009276197159929, 0.07742518722939684, -0.04257104258685973, 0.021924512032009513, 0.08559845209038464, 0.05626174364911962, 0.010906662422678015, 0.04048302237071577, 0.07245676773030563]\n",
      "Decision Tree - R^2 Score (Train) : 1.00, R^2 Score (Test): -0.14\n",
      "[-0.31485635924162847, -0.16132095777883615, 0.17318025212688593, -0.06676638281960168, -0.18439329229149037, -0.11678100742706943, -0.10385813186963277, -0.3825394858186404, 0.021164732344907455, -0.287959992734123]\n",
      "Gradient Boosting - R^2 Score (Train) : 0.71, R^2 Score (Test): 0.40\n",
      "[0.45110701939047104, 0.45977974161514545, 0.32437685001225736, 0.32137969261796195, 0.46289590801148717, 0.42147617715638686, 0.45851777423175966, 0.2196672233683813, 0.5276437552738139, 0.3225847298405031]\n",
      "Random Forest - R^2 Score (Train) : 0.92, R^2 Score (Test): 0.40\n",
      "[0.30048538692502036, 0.48667164308712185, 0.3823224575072348, 0.4340862560215455, 0.5152870400767398, 0.34481135447162425, 0.37465212314340945, 0.4382346541768909, 0.2601088434366644, 0.5060473924097826]\n",
      "Support Vector Machine - R^2 Score (Train) : 0.06, R^2 Score (Test): 0.05\n",
      "[0.023236839703718593, 0.07762898629623571, 0.050558048120473265, 0.06896936914566987, 0.03581384767494844, 0.09702070843717081, -0.03090131256358397, 0.06146479062985255, 0.03933872268879057, 0.09067166802231508]\n"
     ]
    }
   ],
   "source": [
    "# Import necessary libraries\n",
    "import numpy as np\n",
    "import pandas as pd\n",
    "from sklearn.model_selection import train_test_split\n",
    "from sklearn.linear_model import LinearRegression, Ridge, Lasso\n",
    "from sklearn.tree import DecisionTreeRegressor\n",
    "from sklearn.ensemble import RandomForestRegressor, GradientBoostingRegressor\n",
    "from sklearn.svm import SVR\n",
    "import xgboost as xgb\n",
    "from sklearn.metrics import mean_squared_error, r2_score\n",
    "from sklearn.model_selection import KFold\n",
    "\n",
    "\n",
    "\n",
    "\n",
    "# Models\n",
    "models = {\n",
    "    \"Linear Regression\": LinearRegression(),\n",
    "    \"Ridge Regression\": Ridge(),\n",
    "    \"XGB Regressor\": xgb.XGBRegressor(objective='reg:squarederror', random_state=42),\n",
    "    \"Lasso Regression\": Lasso(),\n",
    "    \"Decision Tree\": DecisionTreeRegressor(),\n",
    "    \"Gradient Boosting\": GradientBoostingRegressor(),\n",
    "    \"Random Forest\": RandomForestRegressor(),\n",
    "    \"Support Vector Machine\": SVR()\n",
    "}\n",
    "\n",
    "# Train and evaluate each model\n",
    "for name, model in models.items():\n",
    "\n",
    "    mse_scores_test = []\n",
    "    mse_scores_train = []\n",
    "    r2_scores_test = []\n",
    "    r2_scores_train = []\n",
    "    # Create KFold object\n",
    "    k = 10\n",
    "    kfold = KFold(n_splits=k, shuffle=True)\n",
    "\n",
    "    for train_index, test_index in kfold.split(X):\n",
    "        X_train, X_test = X.iloc[train_index], X.iloc[test_index]\n",
    "        y_train, y_test = y.iloc[train_index], y.iloc[test_index]\n",
    "        model.fit(X_train, y_train)\n",
    "        y_pred_test = model.predict(X_test)\n",
    "        y_pred_train = model.predict(X_train)\n",
    "        mse_test = mean_squared_error(y_test, y_pred_test)\n",
    "        mse_train = mean_squared_error(y_train, y_pred_train)\n",
    "        r2_test = r2_score(y_test, y_pred_test)\n",
    "        r2_train = r2_score(y_train, y_pred_train)\n",
    "        mse_scores_test.append(mse_test)\n",
    "        mse_scores_train.append(mse_train)\n",
    "        r2_scores_test.append(r2_test)\n",
    "        r2_scores_train.append(r2_train)\n",
    "\n",
    "    average_mse_test = np.mean(mse_scores_test)\n",
    "    average_mse_train = np.mean(mse_scores_train)\n",
    "    average_r2_test = np.mean(r2_scores_test)\n",
    "    average_r2_train = np.mean(r2_scores_train)  \n",
    "\n",
    "    print(f'{name} - R^2 Score (Train) : {average_r2_train:.2f}, R^2 Score (Test): {average_r2_test:.2f}')\n",
    "    print(r2_scores_test)\n"
   ]
  },
  {
   "cell_type": "code",
   "execution_count": 58,
   "metadata": {},
   "outputs": [],
   "source": [
    "X_train, X_test, y_train, y_test = train_test_split(X, y, test_size=0.2, random_state=42)"
   ]
  },
  {
   "cell_type": "code",
   "execution_count": 60,
   "metadata": {},
   "outputs": [
    {
     "name": "stdout",
     "output_type": "stream",
     "text": [
      "2.14.0\n"
     ]
    }
   ],
   "source": [
    "import tensorflow as tf\n",
    "print(tf.__version__)\n",
    "import numpy as np\n",
    "import matplotlib.pyplot as plt"
   ]
  },
  {
   "cell_type": "code",
   "execution_count": 91,
   "metadata": {},
   "outputs": [
    {
     "data": {
      "text/plain": [
       "<keras.src.callbacks.History at 0x2109be48110>"
      ]
     },
     "execution_count": 91,
     "metadata": {},
     "output_type": "execute_result"
    }
   ],
   "source": [
    "\n",
    "\n",
    "tf.random.set_seed(42)\n",
    "model_6 = tf.keras.Sequential([\n",
    "  tf.keras.layers.Dense(100, activation = tf.keras.activations.relu),\n",
    "  tf.keras.layers.Dense(10),\n",
    "  tf.keras.layers.Dense(1)\n",
    "])\n",
    "model_6.compile(loss=tf.keras.losses.mae,\n",
    "                optimizer=tf.keras.optimizers.SGD(),\n",
    "                metrics=['mae'])\n",
    "model_6.fit(X_train, y_train, epochs=100, verbose=0)"
   ]
  },
  {
   "cell_type": "code",
   "execution_count": 92,
   "metadata": {},
   "outputs": [
    {
     "name": "stdout",
     "output_type": "stream",
     "text": [
      "29/29 [==============================] - 0s 963us/step\n",
      "8/8 [==============================] - 0s 969us/step\n",
      "R^2 score: train and test -13220068872284718136550270520757242414953142419456.00,-13791575967168843871180315736798070845890067693568.00\n"
     ]
    }
   ],
   "source": [
    "from sklearn.metrics import r2_score\n",
    "y_pred_train = model_6.predict(X_train)\n",
    "r2_train = r2_score(y_train, y_pred_train)\n",
    "\n",
    "y_pred_test = model_6.predict(X_test)\n",
    "r2_test = r2_score(y_test, y_pred_test)\n",
    "print(f\"R^2 score: train and test {r2_train:.2f},{r2_test:.2f}\")"
   ]
  },
  {
   "cell_type": "code",
   "execution_count": null,
   "metadata": {},
   "outputs": [],
   "source": []
  },
  {
   "cell_type": "code",
   "execution_count": null,
   "metadata": {},
   "outputs": [],
   "source": []
  },
  {
   "cell_type": "code",
   "execution_count": 59,
   "metadata": {},
   "outputs": [
    {
     "name": "stdout",
     "output_type": "stream",
     "text": [
      "Epoch 1/10\n"
     ]
    },
    {
     "ename": "ValueError",
     "evalue": "in user code:\n\n    File \"c:\\Users\\Kanishk Goyal\\AppData\\Local\\Programs\\Python\\Python311\\Lib\\site-packages\\keras\\src\\engine\\training.py\", line 1377, in train_function  *\n        return step_function(self, iterator)\n    File \"c:\\Users\\Kanishk Goyal\\AppData\\Local\\Programs\\Python\\Python311\\Lib\\site-packages\\keras\\src\\engine\\training.py\", line 1360, in step_function  **\n        outputs = model.distribute_strategy.run(run_step, args=(data,))\n    File \"c:\\Users\\Kanishk Goyal\\AppData\\Local\\Programs\\Python\\Python311\\Lib\\site-packages\\keras\\src\\engine\\training.py\", line 1349, in run_step  **\n        outputs = model.train_step(data)\n    File \"c:\\Users\\Kanishk Goyal\\AppData\\Local\\Programs\\Python\\Python311\\Lib\\site-packages\\keras\\src\\engine\\training.py\", line 1126, in train_step\n        y_pred = self(x, training=True)\n    File \"c:\\Users\\Kanishk Goyal\\AppData\\Local\\Programs\\Python\\Python311\\Lib\\site-packages\\keras\\src\\utils\\traceback_utils.py\", line 70, in error_handler\n        raise e.with_traceback(filtered_tb) from None\n    File \"c:\\Users\\Kanishk Goyal\\AppData\\Local\\Programs\\Python\\Python311\\Lib\\site-packages\\keras\\src\\engine\\input_spec.py\", line 298, in assert_input_compatibility\n        raise ValueError(\n\n    ValueError: Input 0 of layer \"sequential\" is incompatible with the layer: expected shape=(None, 10), found shape=(None, 34)\n",
     "output_type": "error",
     "traceback": [
      "\u001b[1;31m---------------------------------------------------------------------------\u001b[0m",
      "\u001b[1;31mValueError\u001b[0m                                Traceback (most recent call last)",
      "Cell \u001b[1;32mIn[59], line 18\u001b[0m\n\u001b[0;32m     15\u001b[0m model\u001b[38;5;241m.\u001b[39mcompile(optimizer\u001b[38;5;241m=\u001b[39m\u001b[38;5;124m'\u001b[39m\u001b[38;5;124madam\u001b[39m\u001b[38;5;124m'\u001b[39m, loss\u001b[38;5;241m=\u001b[39m\u001b[38;5;124m'\u001b[39m\u001b[38;5;124mmean_squared_error\u001b[39m\u001b[38;5;124m'\u001b[39m)\n\u001b[0;32m     17\u001b[0m \u001b[38;5;66;03m# Train the model\u001b[39;00m\n\u001b[1;32m---> 18\u001b[0m \u001b[43mmodel\u001b[49m\u001b[38;5;241;43m.\u001b[39;49m\u001b[43mfit\u001b[49m\u001b[43m(\u001b[49m\u001b[43mX_train\u001b[49m\u001b[43m,\u001b[49m\u001b[43m \u001b[49m\u001b[43my_train\u001b[49m\u001b[43m,\u001b[49m\u001b[43m \u001b[49m\u001b[43mepochs\u001b[49m\u001b[38;5;241;43m=\u001b[39;49m\u001b[38;5;241;43m10\u001b[39;49m\u001b[43m,\u001b[49m\u001b[43m \u001b[49m\u001b[43mbatch_size\u001b[49m\u001b[38;5;241;43m=\u001b[39;49m\u001b[38;5;241;43m32\u001b[39;49m\u001b[43m,\u001b[49m\u001b[43m \u001b[49m\u001b[43mvalidation_split\u001b[49m\u001b[38;5;241;43m=\u001b[39;49m\u001b[38;5;241;43m0.2\u001b[39;49m\u001b[43m)\u001b[49m\n\u001b[0;32m     20\u001b[0m \u001b[38;5;66;03m# Calculate R^2 score\u001b[39;00m\n\u001b[0;32m     21\u001b[0m y_pred_train \u001b[38;5;241m=\u001b[39m model\u001b[38;5;241m.\u001b[39mpredict(X_train)\n",
      "File \u001b[1;32mc:\\Users\\Kanishk Goyal\\AppData\\Local\\Programs\\Python\\Python311\\Lib\\site-packages\\keras\\src\\utils\\traceback_utils.py:70\u001b[0m, in \u001b[0;36mfilter_traceback.<locals>.error_handler\u001b[1;34m(*args, **kwargs)\u001b[0m\n\u001b[0;32m     67\u001b[0m     filtered_tb \u001b[38;5;241m=\u001b[39m _process_traceback_frames(e\u001b[38;5;241m.\u001b[39m__traceback__)\n\u001b[0;32m     68\u001b[0m     \u001b[38;5;66;03m# To get the full stack trace, call:\u001b[39;00m\n\u001b[0;32m     69\u001b[0m     \u001b[38;5;66;03m# `tf.debugging.disable_traceback_filtering()`\u001b[39;00m\n\u001b[1;32m---> 70\u001b[0m     \u001b[38;5;28;01mraise\u001b[39;00m e\u001b[38;5;241m.\u001b[39mwith_traceback(filtered_tb) \u001b[38;5;28;01mfrom\u001b[39;00m \u001b[38;5;28;01mNone\u001b[39;00m\n\u001b[0;32m     71\u001b[0m \u001b[38;5;28;01mfinally\u001b[39;00m:\n\u001b[0;32m     72\u001b[0m     \u001b[38;5;28;01mdel\u001b[39;00m filtered_tb\n",
      "File \u001b[1;32mC:\\Users\\KANISH~1\\AppData\\Local\\Temp\\__autograph_generated_filefqixhjmn.py:15\u001b[0m, in \u001b[0;36mouter_factory.<locals>.inner_factory.<locals>.tf__train_function\u001b[1;34m(iterator)\u001b[0m\n\u001b[0;32m     13\u001b[0m \u001b[38;5;28;01mtry\u001b[39;00m:\n\u001b[0;32m     14\u001b[0m     do_return \u001b[38;5;241m=\u001b[39m \u001b[38;5;28;01mTrue\u001b[39;00m\n\u001b[1;32m---> 15\u001b[0m     retval_ \u001b[38;5;241m=\u001b[39m ag__\u001b[38;5;241m.\u001b[39mconverted_call(ag__\u001b[38;5;241m.\u001b[39mld(step_function), (ag__\u001b[38;5;241m.\u001b[39mld(\u001b[38;5;28mself\u001b[39m), ag__\u001b[38;5;241m.\u001b[39mld(iterator)), \u001b[38;5;28;01mNone\u001b[39;00m, fscope)\n\u001b[0;32m     16\u001b[0m \u001b[38;5;28;01mexcept\u001b[39;00m:\n\u001b[0;32m     17\u001b[0m     do_return \u001b[38;5;241m=\u001b[39m \u001b[38;5;28;01mFalse\u001b[39;00m\n",
      "\u001b[1;31mValueError\u001b[0m: in user code:\n\n    File \"c:\\Users\\Kanishk Goyal\\AppData\\Local\\Programs\\Python\\Python311\\Lib\\site-packages\\keras\\src\\engine\\training.py\", line 1377, in train_function  *\n        return step_function(self, iterator)\n    File \"c:\\Users\\Kanishk Goyal\\AppData\\Local\\Programs\\Python\\Python311\\Lib\\site-packages\\keras\\src\\engine\\training.py\", line 1360, in step_function  **\n        outputs = model.distribute_strategy.run(run_step, args=(data,))\n    File \"c:\\Users\\Kanishk Goyal\\AppData\\Local\\Programs\\Python\\Python311\\Lib\\site-packages\\keras\\src\\engine\\training.py\", line 1349, in run_step  **\n        outputs = model.train_step(data)\n    File \"c:\\Users\\Kanishk Goyal\\AppData\\Local\\Programs\\Python\\Python311\\Lib\\site-packages\\keras\\src\\engine\\training.py\", line 1126, in train_step\n        y_pred = self(x, training=True)\n    File \"c:\\Users\\Kanishk Goyal\\AppData\\Local\\Programs\\Python\\Python311\\Lib\\site-packages\\keras\\src\\utils\\traceback_utils.py\", line 70, in error_handler\n        raise e.with_traceback(filtered_tb) from None\n    File \"c:\\Users\\Kanishk Goyal\\AppData\\Local\\Programs\\Python\\Python311\\Lib\\site-packages\\keras\\src\\engine\\input_spec.py\", line 298, in assert_input_compatibility\n        raise ValueError(\n\n    ValueError: Input 0 of layer \"sequential\" is incompatible with the layer: expected shape=(None, 10), found shape=(None, 34)\n"
     ]
    }
   ],
   "source": [
    "import tensorflow as tf\n",
    "from tensorflow.keras.models import Sequential\n",
    "from tensorflow.keras.layers import Dense, Dropout\n",
    "from sklearn.metrics import r2_score\n",
    "\n",
    "# Define the architecture of the neural network\n",
    "model = Sequential([\n",
    "    Dense(64, input_shape=(10,), activation='relu'),  # Input layer with 10 features\n",
    "    Dropout(0.2),  # Dropout layer to prevent overfitting\n",
    "    Dense(64, activation='relu'),  # Hidden layer with 64 neurons and ReLU activation\n",
    "    Dense(1)  # Output layer with 1 neuron for regression\n",
    "])\n",
    "\n",
    "# Compile the model\n",
    "model.compile(optimizer='adam', loss='mean_squared_error')\n",
    "\n",
    "# Train the model\n",
    "model.fit(X_train, y_train, epochs=10, batch_size=32, validation_split=0.2)\n",
    "\n",
    "# Calculate R^2 score\n",
    "y_pred_train = model.predict(X_train)\n",
    "r2_train = r2_score(y_train, y_pred_train)\n",
    "\n",
    "y_pred_test = model.predict(X_test)\n",
    "r2_test = r2_score(y_test, y_pred_test)\n",
    "print(\"R^2 score: train and test\", r2_train,r2_test)"
   ]
  },
  {
   "cell_type": "code",
   "execution_count": null,
   "metadata": {},
   "outputs": [],
   "source": [
    "# import pandas as pd\n",
    "\n",
    "# # Assuming X_train is your DataFrame\n",
    "# # X_train = pd.DataFrame(...)\n",
    "\n",
    "# corr_matrix = X_train.corr()\n",
    "\n",
    "# # Get the column names of the DataFrame\n",
    "# columns = corr_matrix.columns\n",
    "\n",
    "# # Create an empty list to keep track of columns to drop\n",
    "# columns_to_drop = []\n",
    "# # Create a dictionary to store highly correlated features\n",
    "# highly_correlated_features = {}\n",
    "\n",
    "# # Loop over the columns\n",
    "# for i in range(len(columns)):\n",
    "#     for j in range(0, len(columns)):  # Loop only over the upper triangle to avoid duplicate comparisons\n",
    "#         # Access the cell of the DataFrame\n",
    "#         if abs(corr_matrix.iloc[i, j]) > 0.90:\n",
    "#             # Sort correlated features based on correlation coefficient\n",
    "#             sorted_features = sorted([(corr_matrix.iloc[i, j], columns[j]), (corr_matrix.iloc[i, i], columns[i])],\n",
    "#                                      key=lambda x: abs(x[0]), reverse=True)\n",
    "#             # Add the column to drop\n",
    "#             columns_to_drop.append(sorted_features[1][1])  # Add the one with lower correlation\n",
    "#             # Update the dictionary with highly correlated features\n",
    "#             if sorted_features[0][1] in highly_correlated_features:\n",
    "#                 highly_correlated_features[sorted_features[0][1]].append(sorted_features[1][1])\n",
    "#             else:\n",
    "#                 highly_correlated_features[sorted_features[0][1]] = [sorted_features[1][1]]\n",
    "\n",
    "# print(len(columns_to_drop))\n"
   ]
  },
  {
   "cell_type": "code",
   "execution_count": null,
   "metadata": {},
   "outputs": [],
   "source": [
    "# import seaborn as sns\n",
    "\n",
    "# corr_matrix = X_train.corr()\n",
    "\n",
    "# # Get the column names of the DataFrame\n",
    "# columns = corr_matrix.columns\n",
    "\n",
    "# # Define a function to sort correlations in descending order (absolute value)\n",
    "# def sort_correlations(series):\n",
    "#   # Take the absolute value of the series\n",
    "#   abs_series = series.abs()\n",
    "#   # Sort the absolute values in descending order\n",
    "#   return abs_series.sort_values(ascending=False)\n",
    "\n",
    "# # Sort each column of the correlation matrix\n",
    "# sorted_corr_matrix = corr_matrix.apply(sort_correlations)\n",
    "\n",
    "# # Create an empty list to keep track of columns to drop\n",
    "# columns_to_drop = []\n",
    "# # Create a dictionary to store highly correlated features\n",
    "# highly_correlated_features = {}\n",
    "\n",
    "# # Loop over the sorted correlation matrix\n",
    "# for i in range(len(sorted_corr_matrix.columns)):\n",
    "#   # Skip the diagonal (correlation with self)\n",
    "#   if i == sorted_corr_matrix.columns[i]:\n",
    "#     continue\n",
    "#   # Get the current column and sorted correlations\n",
    "#   current_column = sorted_corr_matrix.columns[i]\n",
    "#   sorted_correlations = sorted_corr_matrix.loc[current_column]\n",
    "  \n",
    "#   # Identify highly correlated features (> 0.90) excluding the current column\n",
    "#   highly_correlated_features[current_column] = list(sorted_correlations[sorted_correlations > 0.90].index.difference([current_column]))\n",
    "\n",
    "#   # Update columns to drop based on correlations with the current column\n",
    "#   columns_to_drop.extend(highly_correlated_features[current_column])\n",
    "\n",
    "# # Remove duplicates from columns to drop\n",
    "# columns_to_drop = list(set(columns_to_drop))\n",
    "\n",
    "# print(len(columns_to_drop))"
   ]
  },
  {
   "cell_type": "code",
   "execution_count": 93,
   "metadata": {},
   "outputs": [
    {
     "name": "stdout",
     "output_type": "stream",
     "text": [
      "34\n"
     ]
    }
   ],
   "source": [
    "import seaborn as sns\n",
    "corr_matrix = X_train.corr()\n",
    "\n",
    "# Get the column names of the DataFrame\n",
    "columns = corr_matrix.columns\n",
    "\n",
    "# Create an empty list to keep track of columns to drop\n",
    "columns_to_drop = []\n",
    "# Create a dictionary to store highly correlated features\n",
    "highly_correlated_features = {}\n",
    "\n",
    "# Loop over the columns\n",
    "for i in range(len(columns)):\n",
    "    for j in range(0, len(columns)):\n",
    "        # Access the cell of the DataFrame\n",
    "        if i != j and corr_matrix.iloc[i, j] > 0.90:\n",
    "            # Add the column to drop\n",
    "            columns_to_drop.append(columns[j])\n",
    "            # Update the dictionary with highly correlated features\n",
    "            if columns[i] in highly_correlated_features:\n",
    "                highly_correlated_features[columns[i]].append((columns[j], corr_matrix.iloc[i, j].round(4)))\n",
    "            else:\n",
    "                highly_correlated_features[columns[i]] = [(columns[j], corr_matrix.iloc[i, j].round(4))]\n",
    "\n",
    "\n",
    "print(len(columns_to_drop))"
   ]
  },
  {
   "cell_type": "code",
   "execution_count": 94,
   "metadata": {},
   "outputs": [
    {
     "name": "stdout",
     "output_type": "stream",
     "text": [
      "['stl2_1', 'stl3_1', 'stl4_2', 'stl2_2', 'stl3_2', 'stl1_1', 'stl3_1', 'stl4_2', 'stl1_2', 'stl3_2', 'stl1_1', 'stl2_1', 'stl4_1', 'stl4_2', 'stl1_2', 'stl2_2', 'stl4_2', 'stl3_1', 'stl4_2', 'stl1_1', 'stl2_1', 'stl3_1', 'stl3_2', 'stl4_1', 'swvl2_1', 'rh_3', 'swvl2_2', 'swvl1_1', 'swvl1_2', 'swvl3_2', 'swvl3_1', 'swvl4_2', 'swvl4_1', 'swvl1_1']\n"
     ]
    }
   ],
   "source": [
    "print(columns_to_drop)"
   ]
  },
  {
   "cell_type": "code",
   "execution_count": 95,
   "metadata": {},
   "outputs": [
    {
     "name": "stdout",
     "output_type": "stream",
     "text": [
      "Highly correlated features:\n",
      "stl1_1 : [('stl2_1', 0.9982), ('stl3_1', 0.9718), ('stl4_2', 0.9128)]\n",
      "stl1_2 : [('stl2_2', 0.9977), ('stl3_2', 0.9671)]\n",
      "stl2_1 : [('stl1_1', 0.9982), ('stl3_1', 0.9836), ('stl4_2', 0.9266)]\n",
      "stl2_2 : [('stl1_2', 0.9977), ('stl3_2', 0.9816)]\n",
      "stl3_1 : [('stl1_1', 0.9718), ('stl2_1', 0.9836), ('stl4_1', 0.9241), ('stl4_2', 0.9623)]\n",
      "stl3_2 : [('stl1_2', 0.9671), ('stl2_2', 0.9816), ('stl4_2', 0.9446)]\n",
      "stl4_1 : [('stl3_1', 0.9241), ('stl4_2', 0.9794)]\n",
      "stl4_2 : [('stl1_1', 0.9128), ('stl2_1', 0.9266), ('stl3_1', 0.9623), ('stl3_2', 0.9446), ('stl4_1', 0.9794)]\n",
      "swvl1_1 : [('swvl2_1', 0.9556), ('rh_3', 0.9149)]\n",
      "swvl1_2 : [('swvl2_2', 0.9152)]\n",
      "swvl2_1 : [('swvl1_1', 0.9556)]\n",
      "swvl2_2 : [('swvl1_2', 0.9152)]\n",
      "swvl3_1 : [('swvl3_2', 0.9582)]\n",
      "swvl3_2 : [('swvl3_1', 0.9582)]\n",
      "swvl4_1 : [('swvl4_2', 0.9983)]\n",
      "swvl4_2 : [('swvl4_1', 0.9983)]\n",
      "rh_3 : [('swvl1_1', 0.9149)]\n"
     ]
    }
   ],
   "source": [
    "print(\"Highly correlated features:\")\n",
    "for key, value in highly_correlated_features.items():\n",
    "    print(key, \":\", value)"
   ]
  },
  {
   "cell_type": "code",
   "execution_count": null,
   "metadata": {},
   "outputs": [],
   "source": [
    "import time\n",
    "def print_accuracy(f):\n",
    "    print(\n",
    "        f\"Root mean squared test error = {np.sqrt(np.mean((f(X_test) - y_test) ** 2))}\"\n",
    "    )\n",
    "    time.sleep(0.5)  # to let the print get out before any progress bars"
   ]
  },
  {
   "cell_type": "code",
   "execution_count": null,
   "metadata": {},
   "outputs": [],
   "source": [
    "from sklearn.ensemble import RandomForestRegressor\n",
    "\n",
    "rforest = RandomForestRegressor(\n",
    "    n_estimators=1000, max_depth=None, min_samples_split=2, random_state=0\n",
    ")\n",
    "rforest.fit(X_train, y_train)\n",
    "print_accuracy(rforest.predict)"
   ]
  },
  {
   "cell_type": "code",
   "execution_count": null,
   "metadata": {},
   "outputs": [],
   "source": [
    "y_pred = rforest.predict(X_test)\n",
    "mse = mean_squared_error(y_test, y_pred)\n",
    "r2 = r2_score(y_test, y_pred)\n",
    "print(mse,r2)"
   ]
  },
  {
   "cell_type": "code",
   "execution_count": null,
   "metadata": {},
   "outputs": [],
   "source": [
    "#pip install shap"
   ]
  },
  {
   "cell_type": "code",
   "execution_count": null,
   "metadata": {},
   "outputs": [],
   "source": [
    "stop"
   ]
  },
  {
   "cell_type": "code",
   "execution_count": null,
   "metadata": {},
   "outputs": [],
   "source": [
    "columns_to_drop = set(columns_to_drop)\n",
    "print(columns_to_drop)"
   ]
  },
  {
   "cell_type": "code",
   "execution_count": null,
   "metadata": {},
   "outputs": [],
   "source": [
    "len(columns_to_drop)"
   ]
  },
  {
   "cell_type": "code",
   "execution_count": null,
   "metadata": {},
   "outputs": [],
   "source": [
    "X_train.drop(columns = columns_to_drop, axis = 1, inplace=True)\n",
    "X_test.drop(columns = columns_to_drop, axis = 1, inplace=True)"
   ]
  },
  {
   "cell_type": "code",
   "execution_count": null,
   "metadata": {},
   "outputs": [],
   "source": [
    "from sklearn.model_selection import train_test_split\n",
    "from sklearn.linear_model import LinearRegression\n",
    "from sklearn.metrics import mean_squared_error, r2_score"
   ]
  },
  {
   "cell_type": "code",
   "execution_count": null,
   "metadata": {},
   "outputs": [],
   "source": [
    "# Import necessary libraries\n",
    "import numpy as np\n",
    "import pandas as pd\n",
    "from sklearn.model_selection import train_test_split\n",
    "from sklearn.linear_model import LinearRegression, Ridge, Lasso\n",
    "from sklearn.tree import DecisionTreeRegressor\n",
    "from sklearn.ensemble import RandomForestRegressor, GradientBoostingRegressor\n",
    "from sklearn.svm import SVR\n",
    "from sklearn.metrics import mean_squared_error, r2_score\n",
    "from sklearn.model_selection import KFold\n",
    "\n",
    "\n",
    "# Create KFold object\n",
    "k = 5\n",
    "kfold = KFold(n_splits=k, shuffle=True)\n",
    "\n",
    "\n",
    "# Models\n",
    "models = {\n",
    "    \"Linear Regression\": LinearRegression(),\n",
    "    \"Ridge Regression\": Ridge(),\n",
    "    \"Lasso Regression\": Lasso(),\n",
    "    \"Decision Tree\": DecisionTreeRegressor(),\n",
    "    \"Gradient Boosting\": GradientBoostingRegressor(),\n",
    "    \"Random Forest\": RandomForestRegressor(),\n",
    "    \"Support Vector Machine\": SVR()\n",
    "}\n",
    "\n",
    "# Train and evaluate each model\n",
    "for name, model in models.items():\n",
    "    mse_scores = []\n",
    "    r2_scores = []\n",
    "\n",
    "    for train_index, test_index in kfold.split(X):\n",
    "        X_train, X_test = X[train_index], X[test_index]\n",
    "        y_train, y_test = y[train_index], y[test_index]\n",
    "    model.fit(X_train, y_train)\n",
    "    y_pred = model.predict(X_test)\n",
    "    mse = mean_squared_error(y_test, y_pred)\n",
    "    r2 = r2_score(y_test, y_pred)\n",
    "    print(f'{name} - Mean Squared Error: {mse:.2f}, R^2 Score: {r2:.2f}')\n"
   ]
  },
  {
   "cell_type": "code",
   "execution_count": null,
   "metadata": {},
   "outputs": [],
   "source": [
    "import xarray\n",
    "data = xarray.open_dataset(r\"C:\\Users\\Kanishk Goyal\\OneDrive - IIT Kanpur\\Desktop\\Prof. Hamim Zafar\\Data\\Relative humidity\\1month_mean_Global_ea_r2_199703_v02.grib\", engine='cfgrib')\n",
    "data.to_netcdf(r\"C:\\Users\\Kanishk Goyal\\OneDrive - IIT Kanpur\\Desktop\\Prof. Hamim Zafar\\Data\\Relative humidity\\1month_mean_Global_ea_r2_199703_v02.nc\")"
   ]
  },
  {
   "cell_type": "code",
   "execution_count": null,
   "metadata": {},
   "outputs": [],
   "source": []
  }
 ],
 "metadata": {
  "kernelspec": {
   "display_name": "Python 3",
   "language": "python",
   "name": "python3"
  },
  "language_info": {
   "codemirror_mode": {
    "name": "ipython",
    "version": 3
   },
   "file_extension": ".py",
   "mimetype": "text/x-python",
   "name": "python",
   "nbconvert_exporter": "python",
   "pygments_lexer": "ipython3",
   "version": "3.11.4"
  }
 },
 "nbformat": 4,
 "nbformat_minor": 2
}
